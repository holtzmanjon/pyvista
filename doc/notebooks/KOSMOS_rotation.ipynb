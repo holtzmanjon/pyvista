{
 "cells": [
  {
   "cell_type": "markdown",
   "metadata": {},
   "source": [
    "<h2> KOSMOS wavecals and rotation"
   ]
  },
  {
   "cell_type": "code",
   "execution_count": 2,
   "metadata": {},
   "outputs": [],
   "source": [
    "%matplotlib inline\n",
    "from pyvista import imred, tv, spectra\n",
    "import pyvista.data\n",
    "from importlib_resources import files\n",
    "import numpy as np\n",
    "import matplotlib.pyplot as plt\n",
    "import copy"
   ]
  },
  {
   "cell_type": "markdown",
   "metadata": {},
   "source": [
    "Setup pyvista Reducer, Trace, and WaveCal "
   ]
  },
  {
   "cell_type": "code",
   "execution_count": 3,
   "metadata": {},
   "outputs": [
    {
     "ename": "FileNotFoundError",
     "evalue": "[Errno 2] No such file or directory: './KOSMOS_HeNe.fits'",
     "output_type": "error",
     "traceback": [
      "\u001b[0;31m---------------------------------------------------------------------------\u001b[0m",
      "\u001b[0;31mFileNotFoundError\u001b[0m                         Traceback (most recent call last)",
      "Input \u001b[0;32mIn [3]\u001b[0m, in \u001b[0;36m<module>\u001b[0;34m\u001b[0m\n\u001b[1;32m      1\u001b[0m red\u001b[38;5;241m=\u001b[39mimred\u001b[38;5;241m.\u001b[39mReducer(\u001b[38;5;124m'\u001b[39m\u001b[38;5;124mKOSMOS\u001b[39m\u001b[38;5;124m'\u001b[39m,\u001b[38;5;28mdir\u001b[39m\u001b[38;5;241m=\u001b[39m\u001b[38;5;124m'\u001b[39m\u001b[38;5;124m/home/holtz/raw/apo/oct21/UT211020\u001b[39m\u001b[38;5;124m'\u001b[39m,verbose\u001b[38;5;241m=\u001b[39m\u001b[38;5;28;01mFalse\u001b[39;00m)\n\u001b[1;32m      2\u001b[0m trace\u001b[38;5;241m=\u001b[39mspectra\u001b[38;5;241m.\u001b[39mTrace(\u001b[38;5;124m'\u001b[39m\u001b[38;5;124mKOSMOS/KOSMOS_trace.fits\u001b[39m\u001b[38;5;124m'\u001b[39m)\n\u001b[0;32m----> 3\u001b[0m wav\u001b[38;5;241m=\u001b[39m\u001b[43mspectra\u001b[49m\u001b[38;5;241;43m.\u001b[39;49m\u001b[43mWaveCal\u001b[49m\u001b[43m(\u001b[49m\u001b[38;5;124;43m'\u001b[39;49m\u001b[38;5;124;43m./KOSMOS_HeNe.fits\u001b[39;49m\u001b[38;5;124;43m'\u001b[39;49m\u001b[43m)\u001b[49m\n",
      "File \u001b[0;32m/home/holtz/git/pyvista/python/pyvista/spectra.py:84\u001b[0m, in \u001b[0;36mWaveCal.__init__\u001b[0;34m(self, file, type, degree, ydegree, pix0, index)\u001b[0m\n\u001b[1;32m     82\u001b[0m     tab\u001b[38;5;241m=\u001b[39mTable(file)\n\u001b[1;32m     83\u001b[0m \u001b[38;5;28;01melif\u001b[39;00m \u001b[38;5;28mstr\u001b[39m(file)[\u001b[38;5;241m0\u001b[39m] \u001b[38;5;241m==\u001b[39m \u001b[38;5;124m'\u001b[39m\u001b[38;5;124m.\u001b[39m\u001b[38;5;124m'\u001b[39m \u001b[38;5;129;01mor\u001b[39;00m \u001b[38;5;28mstr\u001b[39m(file)[\u001b[38;5;241m0\u001b[39m] \u001b[38;5;241m==\u001b[39m \u001b[38;5;124m'\u001b[39m\u001b[38;5;124m/\u001b[39m\u001b[38;5;124m'\u001b[39m :\n\u001b[0;32m---> 84\u001b[0m     tab\u001b[38;5;241m=\u001b[39m\u001b[43mTable\u001b[49m\u001b[38;5;241;43m.\u001b[39;49m\u001b[43mread\u001b[49m\u001b[43m(\u001b[49m\u001b[43mfile\u001b[49m\u001b[43m)\u001b[49m\n\u001b[1;32m     85\u001b[0m \u001b[38;5;28;01melse\u001b[39;00m :\n\u001b[1;32m     86\u001b[0m     tab\u001b[38;5;241m=\u001b[39mTable\u001b[38;5;241m.\u001b[39mread(files(pyvista\u001b[38;5;241m.\u001b[39mdata)\u001b[38;5;241m.\u001b[39mjoinpath(file))\n",
      "File \u001b[0;32m/home/local/Anaconda3-2020.02/envs/py3.9/lib/python3.9/site-packages/astropy/table/connect.py:62\u001b[0m, in \u001b[0;36mTableRead.__call__\u001b[0;34m(self, *args, **kwargs)\u001b[0m\n\u001b[1;32m     59\u001b[0m units \u001b[38;5;241m=\u001b[39m kwargs\u001b[38;5;241m.\u001b[39mpop(\u001b[38;5;124m'\u001b[39m\u001b[38;5;124munits\u001b[39m\u001b[38;5;124m'\u001b[39m, \u001b[38;5;28;01mNone\u001b[39;00m)\n\u001b[1;32m     60\u001b[0m descriptions \u001b[38;5;241m=\u001b[39m kwargs\u001b[38;5;241m.\u001b[39mpop(\u001b[38;5;124m'\u001b[39m\u001b[38;5;124mdescriptions\u001b[39m\u001b[38;5;124m'\u001b[39m, \u001b[38;5;28;01mNone\u001b[39;00m)\n\u001b[0;32m---> 62\u001b[0m out \u001b[38;5;241m=\u001b[39m \u001b[38;5;28;43mself\u001b[39;49m\u001b[38;5;241;43m.\u001b[39;49m\u001b[43mregistry\u001b[49m\u001b[38;5;241;43m.\u001b[39;49m\u001b[43mread\u001b[49m\u001b[43m(\u001b[49m\u001b[38;5;28;43mcls\u001b[39;49m\u001b[43m,\u001b[49m\u001b[43m \u001b[49m\u001b[38;5;241;43m*\u001b[39;49m\u001b[43margs\u001b[49m\u001b[43m,\u001b[49m\u001b[43m \u001b[49m\u001b[38;5;241;43m*\u001b[39;49m\u001b[38;5;241;43m*\u001b[39;49m\u001b[43mkwargs\u001b[49m\u001b[43m)\u001b[49m\n\u001b[1;32m     64\u001b[0m \u001b[38;5;66;03m# For some readers (e.g., ascii.ecsv), the returned `out` class is not\u001b[39;00m\n\u001b[1;32m     65\u001b[0m \u001b[38;5;66;03m# guaranteed to be the same as the desired output `cls`.  If so,\u001b[39;00m\n\u001b[1;32m     66\u001b[0m \u001b[38;5;66;03m# try coercing to desired class without copying (io.registry.read\u001b[39;00m\n\u001b[1;32m     67\u001b[0m \u001b[38;5;66;03m# would normally do a copy).  The normal case here is swapping\u001b[39;00m\n\u001b[1;32m     68\u001b[0m \u001b[38;5;66;03m# Table <=> QTable.\u001b[39;00m\n\u001b[1;32m     69\u001b[0m \u001b[38;5;28;01mif\u001b[39;00m \u001b[38;5;28mcls\u001b[39m \u001b[38;5;129;01mis\u001b[39;00m \u001b[38;5;129;01mnot\u001b[39;00m out\u001b[38;5;241m.\u001b[39m\u001b[38;5;18m__class__\u001b[39m:\n",
      "File \u001b[0;32m/home/local/Anaconda3-2020.02/envs/py3.9/lib/python3.9/site-packages/astropy/io/registry/core.py:184\u001b[0m, in \u001b[0;36mUnifiedInputRegistry.read\u001b[0;34m(self, cls, format, cache, *args, **kwargs)\u001b[0m\n\u001b[1;32m    182\u001b[0m \u001b[38;5;28;01mtry\u001b[39;00m:\n\u001b[1;32m    183\u001b[0m     ctx \u001b[38;5;241m=\u001b[39m get_readable_fileobj(args[\u001b[38;5;241m0\u001b[39m], encoding\u001b[38;5;241m=\u001b[39m\u001b[38;5;124m'\u001b[39m\u001b[38;5;124mbinary\u001b[39m\u001b[38;5;124m'\u001b[39m, cache\u001b[38;5;241m=\u001b[39mcache)\n\u001b[0;32m--> 184\u001b[0m     fileobj \u001b[38;5;241m=\u001b[39m \u001b[43mctx\u001b[49m\u001b[38;5;241;43m.\u001b[39;49m\u001b[38;5;21;43m__enter__\u001b[39;49m\u001b[43m(\u001b[49m\u001b[43m)\u001b[49m\n\u001b[1;32m    185\u001b[0m \u001b[38;5;28;01mexcept\u001b[39;00m \u001b[38;5;167;01mOSError\u001b[39;00m:\n\u001b[1;32m    186\u001b[0m     \u001b[38;5;28;01mraise\u001b[39;00m\n",
      "File \u001b[0;32m/home/local/Anaconda3-2020.02/envs/py3.9/lib/python3.9/contextlib.py:119\u001b[0m, in \u001b[0;36m_GeneratorContextManager.__enter__\u001b[0;34m(self)\u001b[0m\n\u001b[1;32m    117\u001b[0m \u001b[38;5;28;01mdel\u001b[39;00m \u001b[38;5;28mself\u001b[39m\u001b[38;5;241m.\u001b[39margs, \u001b[38;5;28mself\u001b[39m\u001b[38;5;241m.\u001b[39mkwds, \u001b[38;5;28mself\u001b[39m\u001b[38;5;241m.\u001b[39mfunc\n\u001b[1;32m    118\u001b[0m \u001b[38;5;28;01mtry\u001b[39;00m:\n\u001b[0;32m--> 119\u001b[0m     \u001b[38;5;28;01mreturn\u001b[39;00m \u001b[38;5;28;43mnext\u001b[39;49m\u001b[43m(\u001b[49m\u001b[38;5;28;43mself\u001b[39;49m\u001b[38;5;241;43m.\u001b[39;49m\u001b[43mgen\u001b[49m\u001b[43m)\u001b[49m\n\u001b[1;32m    120\u001b[0m \u001b[38;5;28;01mexcept\u001b[39;00m \u001b[38;5;167;01mStopIteration\u001b[39;00m:\n\u001b[1;32m    121\u001b[0m     \u001b[38;5;28;01mraise\u001b[39;00m \u001b[38;5;167;01mRuntimeError\u001b[39;00m(\u001b[38;5;124m\"\u001b[39m\u001b[38;5;124mgenerator didn\u001b[39m\u001b[38;5;124m'\u001b[39m\u001b[38;5;124mt yield\u001b[39m\u001b[38;5;124m\"\u001b[39m) \u001b[38;5;28;01mfrom\u001b[39;00m \u001b[38;5;28mNone\u001b[39m\n",
      "File \u001b[0;32m/home/local/Anaconda3-2020.02/envs/py3.9/lib/python3.9/site-packages/astropy/utils/data.py:271\u001b[0m, in \u001b[0;36mget_readable_fileobj\u001b[0;34m(name_or_obj, encoding, cache, show_progress, remote_timeout, sources, http_headers)\u001b[0m\n\u001b[1;32m    266\u001b[0m \u001b[38;5;28;01mif\u001b[39;00m is_url:\n\u001b[1;32m    267\u001b[0m     name_or_obj \u001b[38;5;241m=\u001b[39m download_file(\n\u001b[1;32m    268\u001b[0m         name_or_obj, cache\u001b[38;5;241m=\u001b[39mcache, show_progress\u001b[38;5;241m=\u001b[39mshow_progress,\n\u001b[1;32m    269\u001b[0m         timeout\u001b[38;5;241m=\u001b[39mremote_timeout, sources\u001b[38;5;241m=\u001b[39msources,\n\u001b[1;32m    270\u001b[0m         http_headers\u001b[38;5;241m=\u001b[39mhttp_headers)\n\u001b[0;32m--> 271\u001b[0m fileobj \u001b[38;5;241m=\u001b[39m \u001b[43mio\u001b[49m\u001b[38;5;241;43m.\u001b[39;49m\u001b[43mFileIO\u001b[49m\u001b[43m(\u001b[49m\u001b[43mname_or_obj\u001b[49m\u001b[43m,\u001b[49m\u001b[43m \u001b[49m\u001b[38;5;124;43m'\u001b[39;49m\u001b[38;5;124;43mr\u001b[39;49m\u001b[38;5;124;43m'\u001b[39;49m\u001b[43m)\u001b[49m\n\u001b[1;32m    272\u001b[0m \u001b[38;5;28;01mif\u001b[39;00m is_url \u001b[38;5;129;01mand\u001b[39;00m \u001b[38;5;129;01mnot\u001b[39;00m cache:\n\u001b[1;32m    273\u001b[0m     delete_fds\u001b[38;5;241m.\u001b[39mappend(fileobj)\n",
      "\u001b[0;31mFileNotFoundError\u001b[0m: [Errno 2] No such file or directory: './KOSMOS_HeNe.fits'"
     ]
    }
   ],
   "source": [
    "red=imred.Reducer('KOSMOS',dir='/home/holtz/raw/apo/oct21/UT211020',verbose=False)\n",
    "trace=spectra.Trace('KOSMOS/KOSMOS_trace.fits')\n",
    "wav=spectra.WaveCal('./KOSMOS_HeNe.fits')"
   ]
  },
  {
   "cell_type": "markdown",
   "metadata": {},
   "source": [
    "Look at series of HeNe images taken on UT211020 at different rotator positions:\n",
    "<pre>\n",
    "He_Ne_rot172.6.0006.fits\n",
    "He_Ne_rot124.9.0009.fits\n",
    "He_Ne_rot77.5.0012.fits\n",
    "He_Ne_rot29.9.0015.fits\n",
    "He_Ne_rot-17.2.0018.fits\n",
    "He_Ne_rot-64.4.0021.fits\n",
    "He_Ne_rot-111.7.0024.fits\n",
    "He_Ne_rot-158.8.0027.fits\n",
    "</pre>\n",
    "For each one, extract a spectrum from center of slit and get a wavelength solution, which is a 3rd order polynomial fit.\n",
    "\n",
    "As previously noted, the differences between the wavelength solutions are more than a shift, there is a \"slope\" change in the solution as well, i.e. a change in the linear dispersion term. It's not totally clear if it is just a linear slope change; that describes it well at longer wavelengths, but there is some possible hint of some discrepancy at shorter wavelengths.\n",
    "\n",
    "In any case, determine a slope of the dispersion change from the longer wavelength lines.\n",
    "\n",
    "At the same time, measure the line widths (which are very wide!).\n",
    "\n",
    "Plot the changes in the pixel locations relative to the first rotator position, the measured FWHM, and the slope vs mean FWHM of the red lines.\n",
    "\n"
   ]
  },
  {
   "cell_type": "code",
   "execution_count": null,
   "metadata": {},
   "outputs": [],
   "source": []
  },
  {
   "cell_type": "code",
   "execution_count": null,
   "metadata": {},
   "outputs": [],
   "source": [
    "fig,ax=plots.multi(1,3,figsize=(8,12))\n",
    "waves=[]\n",
    "pixels=[]\n",
    "for im in [6,9,12,15,18,21,24,27] :\n",
    "    # read and bias subtract\n",
    "    hene=red.reduce(im)\n",
    "    # extract\n",
    "    heneec=trace.extract(hene)\n",
    "    # wavelength calibrate\n",
    "    wav=spectra.WaveCal('./KOSMOS_HeNe.fits')\n",
    "    \n",
    "    wav.identify(heneec,thresh=50,plot=None,rad=7)\n",
    "    \n",
    "    # save pixels of lines\n",
    "    pixels.append(wav.pix)\n",
    "\n",
    "    # plot pixel locations relative to those of first images\n",
    "    lab='{:d} {:f}'.format(im,hene.header['TELROT'])\n",
    "    ax[0].scatter(wav.waves,wav.pix-pixels[0],label=lab)\n",
    "    # fit slope of pixel differences as f(wavelength) and plot fit\n",
    "    fit=np.polyfit(wav.waves[4:],wav.pix[4:]-pixels[0][4:],deg=1)\n",
    "    x=np.arange(4500,7000)\n",
    "    ax[0].plot(x,fit[0]*x+fit[1])\n",
    "    \n",
    "    #plot FWHM of lines\n",
    "    ax[1].scatter(wav.waves,wav.fwhm,label=lab)\n",
    "    \n",
    "    # slope vs FWHM\n",
    "    ax[2].scatter(fit[0],wav.fwhm[4:].mean(),label=lab)\n",
    "    \n",
    "ax[0].set_ylabel('Pixel shift of line from initial rot')\n",
    "ax[0].set_xlabel('Wavelength')\n",
    "ax[0].legend()\n",
    "ax[1].set_ylabel('FWHM of line')\n",
    "ax[1].set_xlabel('Wavelength')\n",
    "ax[1].legend()\n",
    "ax[2].set_ylabel('FWHM of line')\n",
    "ax[2].set_xlabel('Slope of pixel shift')\n",
    "ax[2].set_xlim(-0.0008,0.0001)\n",
    "ax[2].legend()\n",
    "fig.tight_layout()\n"
   ]
  },
  {
   "cell_type": "markdown",
   "metadata": {},
   "source": [
    "There sees to be a correlation between the dispersion change and the FWHM changes. \n",
    "\n",
    "Is this possibly indicative of a scale change? Could this be caused by a shift in the collimator relative to focal plane?"
   ]
  },
  {
   "cell_type": "markdown",
   "metadata": {},
   "source": [
    "Check to determine whether this is actually just a fixed shift in pixels, i.e. are we getting fooled by not having a sufficiently constant dispersions so that the shift in wavelength is a fucntion of wavelength? Do this by inverting the wavelength solutions, and comparing.\n",
    "<p>\n",
    "Actually, we already did this above by plotting the pixels shifts, not the wavelength shifts!"
   ]
  },
  {
   "cell_type": "code",
   "execution_count": 4,
   "metadata": {},
   "outputs": [
    {
     "name": "stdout",
     "output_type": "stream",
     "text": [
      "INFO: array provided for uncertainty; assuming it is a StdDevUncertainty. [astropy.nddata.ccddata]\n",
      "  extracting ... (may take some time,\n",
      "                   consider threads= if multithreading is available\n",
      "\n"
     ]
    },
    {
     "ename": "FileNotFoundError",
     "evalue": "[Errno 2] No such file or directory: './KOSMOS_HeNe.fits'",
     "output_type": "error",
     "traceback": [
      "\u001b[0;31m---------------------------------------------------------------------------\u001b[0m",
      "\u001b[0;31mFileNotFoundError\u001b[0m                         Traceback (most recent call last)",
      "Input \u001b[0;32mIn [4]\u001b[0m, in \u001b[0;36m<module>\u001b[0;34m\u001b[0m\n\u001b[1;32m      4\u001b[0m heneec\u001b[38;5;241m=\u001b[39mtrace\u001b[38;5;241m.\u001b[39mextract(hene)\n\u001b[1;32m      5\u001b[0m \u001b[38;5;66;03m# wavelength calibrate\u001b[39;00m\n\u001b[0;32m----> 6\u001b[0m wav6\u001b[38;5;241m=\u001b[39m\u001b[43mspectra\u001b[49m\u001b[38;5;241;43m.\u001b[39;49m\u001b[43mWaveCal\u001b[49m\u001b[43m(\u001b[49m\u001b[38;5;124;43m'\u001b[39;49m\u001b[38;5;124;43m./KOSMOS_HeNe.fits\u001b[39;49m\u001b[38;5;124;43m'\u001b[39;49m\u001b[43m)\u001b[49m\n\u001b[1;32m      7\u001b[0m wav6\u001b[38;5;241m.\u001b[39midentify(heneec,thresh\u001b[38;5;241m=\u001b[39m\u001b[38;5;241m50\u001b[39m,plot\u001b[38;5;241m=\u001b[39m\u001b[38;5;28;01mNone\u001b[39;00m,rad\u001b[38;5;241m=\u001b[39m\u001b[38;5;241m7\u001b[39m)\n\u001b[1;32m      8\u001b[0m wav6\u001b[38;5;241m.\u001b[39madd_wave(heneec)\n",
      "File \u001b[0;32m/home/holtz/git/pyvista/python/pyvista/spectra.py:84\u001b[0m, in \u001b[0;36mWaveCal.__init__\u001b[0;34m(self, file, type, degree, ydegree, pix0, index)\u001b[0m\n\u001b[1;32m     82\u001b[0m     tab\u001b[38;5;241m=\u001b[39mTable(file)\n\u001b[1;32m     83\u001b[0m \u001b[38;5;28;01melif\u001b[39;00m \u001b[38;5;28mstr\u001b[39m(file)[\u001b[38;5;241m0\u001b[39m] \u001b[38;5;241m==\u001b[39m \u001b[38;5;124m'\u001b[39m\u001b[38;5;124m.\u001b[39m\u001b[38;5;124m'\u001b[39m \u001b[38;5;129;01mor\u001b[39;00m \u001b[38;5;28mstr\u001b[39m(file)[\u001b[38;5;241m0\u001b[39m] \u001b[38;5;241m==\u001b[39m \u001b[38;5;124m'\u001b[39m\u001b[38;5;124m/\u001b[39m\u001b[38;5;124m'\u001b[39m :\n\u001b[0;32m---> 84\u001b[0m     tab\u001b[38;5;241m=\u001b[39m\u001b[43mTable\u001b[49m\u001b[38;5;241;43m.\u001b[39;49m\u001b[43mread\u001b[49m\u001b[43m(\u001b[49m\u001b[43mfile\u001b[49m\u001b[43m)\u001b[49m\n\u001b[1;32m     85\u001b[0m \u001b[38;5;28;01melse\u001b[39;00m :\n\u001b[1;32m     86\u001b[0m     tab\u001b[38;5;241m=\u001b[39mTable\u001b[38;5;241m.\u001b[39mread(files(pyvista\u001b[38;5;241m.\u001b[39mdata)\u001b[38;5;241m.\u001b[39mjoinpath(file))\n",
      "File \u001b[0;32m/home/local/Anaconda3-2020.02/envs/py3.9/lib/python3.9/site-packages/astropy/table/connect.py:62\u001b[0m, in \u001b[0;36mTableRead.__call__\u001b[0;34m(self, *args, **kwargs)\u001b[0m\n\u001b[1;32m     59\u001b[0m units \u001b[38;5;241m=\u001b[39m kwargs\u001b[38;5;241m.\u001b[39mpop(\u001b[38;5;124m'\u001b[39m\u001b[38;5;124munits\u001b[39m\u001b[38;5;124m'\u001b[39m, \u001b[38;5;28;01mNone\u001b[39;00m)\n\u001b[1;32m     60\u001b[0m descriptions \u001b[38;5;241m=\u001b[39m kwargs\u001b[38;5;241m.\u001b[39mpop(\u001b[38;5;124m'\u001b[39m\u001b[38;5;124mdescriptions\u001b[39m\u001b[38;5;124m'\u001b[39m, \u001b[38;5;28;01mNone\u001b[39;00m)\n\u001b[0;32m---> 62\u001b[0m out \u001b[38;5;241m=\u001b[39m \u001b[38;5;28;43mself\u001b[39;49m\u001b[38;5;241;43m.\u001b[39;49m\u001b[43mregistry\u001b[49m\u001b[38;5;241;43m.\u001b[39;49m\u001b[43mread\u001b[49m\u001b[43m(\u001b[49m\u001b[38;5;28;43mcls\u001b[39;49m\u001b[43m,\u001b[49m\u001b[43m \u001b[49m\u001b[38;5;241;43m*\u001b[39;49m\u001b[43margs\u001b[49m\u001b[43m,\u001b[49m\u001b[43m \u001b[49m\u001b[38;5;241;43m*\u001b[39;49m\u001b[38;5;241;43m*\u001b[39;49m\u001b[43mkwargs\u001b[49m\u001b[43m)\u001b[49m\n\u001b[1;32m     64\u001b[0m \u001b[38;5;66;03m# For some readers (e.g., ascii.ecsv), the returned `out` class is not\u001b[39;00m\n\u001b[1;32m     65\u001b[0m \u001b[38;5;66;03m# guaranteed to be the same as the desired output `cls`.  If so,\u001b[39;00m\n\u001b[1;32m     66\u001b[0m \u001b[38;5;66;03m# try coercing to desired class without copying (io.registry.read\u001b[39;00m\n\u001b[1;32m     67\u001b[0m \u001b[38;5;66;03m# would normally do a copy).  The normal case here is swapping\u001b[39;00m\n\u001b[1;32m     68\u001b[0m \u001b[38;5;66;03m# Table <=> QTable.\u001b[39;00m\n\u001b[1;32m     69\u001b[0m \u001b[38;5;28;01mif\u001b[39;00m \u001b[38;5;28mcls\u001b[39m \u001b[38;5;129;01mis\u001b[39;00m \u001b[38;5;129;01mnot\u001b[39;00m out\u001b[38;5;241m.\u001b[39m\u001b[38;5;18m__class__\u001b[39m:\n",
      "File \u001b[0;32m/home/local/Anaconda3-2020.02/envs/py3.9/lib/python3.9/site-packages/astropy/io/registry/core.py:184\u001b[0m, in \u001b[0;36mUnifiedInputRegistry.read\u001b[0;34m(self, cls, format, cache, *args, **kwargs)\u001b[0m\n\u001b[1;32m    182\u001b[0m \u001b[38;5;28;01mtry\u001b[39;00m:\n\u001b[1;32m    183\u001b[0m     ctx \u001b[38;5;241m=\u001b[39m get_readable_fileobj(args[\u001b[38;5;241m0\u001b[39m], encoding\u001b[38;5;241m=\u001b[39m\u001b[38;5;124m'\u001b[39m\u001b[38;5;124mbinary\u001b[39m\u001b[38;5;124m'\u001b[39m, cache\u001b[38;5;241m=\u001b[39mcache)\n\u001b[0;32m--> 184\u001b[0m     fileobj \u001b[38;5;241m=\u001b[39m \u001b[43mctx\u001b[49m\u001b[38;5;241;43m.\u001b[39;49m\u001b[38;5;21;43m__enter__\u001b[39;49m\u001b[43m(\u001b[49m\u001b[43m)\u001b[49m\n\u001b[1;32m    185\u001b[0m \u001b[38;5;28;01mexcept\u001b[39;00m \u001b[38;5;167;01mOSError\u001b[39;00m:\n\u001b[1;32m    186\u001b[0m     \u001b[38;5;28;01mraise\u001b[39;00m\n",
      "File \u001b[0;32m/home/local/Anaconda3-2020.02/envs/py3.9/lib/python3.9/contextlib.py:119\u001b[0m, in \u001b[0;36m_GeneratorContextManager.__enter__\u001b[0;34m(self)\u001b[0m\n\u001b[1;32m    117\u001b[0m \u001b[38;5;28;01mdel\u001b[39;00m \u001b[38;5;28mself\u001b[39m\u001b[38;5;241m.\u001b[39margs, \u001b[38;5;28mself\u001b[39m\u001b[38;5;241m.\u001b[39mkwds, \u001b[38;5;28mself\u001b[39m\u001b[38;5;241m.\u001b[39mfunc\n\u001b[1;32m    118\u001b[0m \u001b[38;5;28;01mtry\u001b[39;00m:\n\u001b[0;32m--> 119\u001b[0m     \u001b[38;5;28;01mreturn\u001b[39;00m \u001b[38;5;28;43mnext\u001b[39;49m\u001b[43m(\u001b[49m\u001b[38;5;28;43mself\u001b[39;49m\u001b[38;5;241;43m.\u001b[39;49m\u001b[43mgen\u001b[49m\u001b[43m)\u001b[49m\n\u001b[1;32m    120\u001b[0m \u001b[38;5;28;01mexcept\u001b[39;00m \u001b[38;5;167;01mStopIteration\u001b[39;00m:\n\u001b[1;32m    121\u001b[0m     \u001b[38;5;28;01mraise\u001b[39;00m \u001b[38;5;167;01mRuntimeError\u001b[39;00m(\u001b[38;5;124m\"\u001b[39m\u001b[38;5;124mgenerator didn\u001b[39m\u001b[38;5;124m'\u001b[39m\u001b[38;5;124mt yield\u001b[39m\u001b[38;5;124m\"\u001b[39m) \u001b[38;5;28;01mfrom\u001b[39;00m \u001b[38;5;28mNone\u001b[39m\n",
      "File \u001b[0;32m/home/local/Anaconda3-2020.02/envs/py3.9/lib/python3.9/site-packages/astropy/utils/data.py:271\u001b[0m, in \u001b[0;36mget_readable_fileobj\u001b[0;34m(name_or_obj, encoding, cache, show_progress, remote_timeout, sources, http_headers)\u001b[0m\n\u001b[1;32m    266\u001b[0m \u001b[38;5;28;01mif\u001b[39;00m is_url:\n\u001b[1;32m    267\u001b[0m     name_or_obj \u001b[38;5;241m=\u001b[39m download_file(\n\u001b[1;32m    268\u001b[0m         name_or_obj, cache\u001b[38;5;241m=\u001b[39mcache, show_progress\u001b[38;5;241m=\u001b[39mshow_progress,\n\u001b[1;32m    269\u001b[0m         timeout\u001b[38;5;241m=\u001b[39mremote_timeout, sources\u001b[38;5;241m=\u001b[39msources,\n\u001b[1;32m    270\u001b[0m         http_headers\u001b[38;5;241m=\u001b[39mhttp_headers)\n\u001b[0;32m--> 271\u001b[0m fileobj \u001b[38;5;241m=\u001b[39m \u001b[43mio\u001b[49m\u001b[38;5;241;43m.\u001b[39;49m\u001b[43mFileIO\u001b[49m\u001b[43m(\u001b[49m\u001b[43mname_or_obj\u001b[49m\u001b[43m,\u001b[49m\u001b[43m \u001b[49m\u001b[38;5;124;43m'\u001b[39;49m\u001b[38;5;124;43mr\u001b[39;49m\u001b[38;5;124;43m'\u001b[39;49m\u001b[43m)\u001b[49m\n\u001b[1;32m    272\u001b[0m \u001b[38;5;28;01mif\u001b[39;00m is_url \u001b[38;5;129;01mand\u001b[39;00m \u001b[38;5;129;01mnot\u001b[39;00m cache:\n\u001b[1;32m    273\u001b[0m     delete_fds\u001b[38;5;241m.\u001b[39mappend(fileobj)\n",
      "\u001b[0;31mFileNotFoundError\u001b[0m: [Errno 2] No such file or directory: './KOSMOS_HeNe.fits'"
     ]
    }
   ],
   "source": [
    "#get inverse relation, i.e. pixels as f(wavelength)\n",
    "hene=red.reduce(6)\n",
    "# extract\n",
    "heneec=trace.extract(hene)\n",
    "# wavelength calibrate\n",
    "wav6=spectra.WaveCal('./KOSMOS_HeNe.fits')\n",
    "wav6.identify(heneec,thresh=50,plot=None,rad=7)\n",
    "wav6.add_wave(heneec)\n",
    "pix=np.arange(4096)\n",
    "from scipy.interpolate import CubicSpline\n",
    "wav2pix6=CubicSpline(np.flip(heneec.wave[0]),np.flip(pix))\n",
    "\n",
    "#get inverse relation, i.e. pixels as f(wavelength)\n",
    "hene=red.reduce(15)\n",
    "# extract\n",
    "heneec=trace.extract(hene)\n",
    "# wavelength calibrate\n",
    "wav15=spectra.WaveCal('./KOSMOS_HeNe.fits')\n",
    "wav15.identify(heneec,thresh=50,plot=None,rad=7)\n",
    "wav15.add_wave(heneec)\n",
    "pix=np.arange(4096)\n",
    "from scipy.interpolate import CubicSpline\n",
    "wav2pix15=CubicSpline(np.flip(heneec.wave[0]),np.flip(pix))\n",
    "\n",
    "plt.plot(np.arange(4500,7000),wav2pix6(np.arange(4500,7000))-wav2pix15(np.arange(4500,7000)))\n"
   ]
  },
  {
   "cell_type": "markdown",
   "metadata": {},
   "source": [
    "OK, what about the internal cals, taken with Ne and Kr lamps?\n",
    "\n",
    "Start by transferring wavelength solution from some other frames for a starting guess, but unfortunately having a hard time seeing Kr lines in these images, so wavelength range is limited"
   ]
  },
  {
   "cell_type": "code",
   "execution_count": null,
   "metadata": {},
   "outputs": [],
   "source": [
    "wav=spectra.WaveCal('./KOSMOS_NeKr.fits')\n",
    "#im=red.reduce(5)\n",
    "#imec=trace.extract(im)\n",
    "#wav.identify(imec,plot=True)"
   ]
  },
  {
   "cell_type": "markdown",
   "metadata": {},
   "source": [
    "OK, now do the same analysis for the set of NeKr images\n",
    "<pre>\n",
    "Ne_Kr_rot172.6.0005.fits\n",
    "Ne_Kr_rot124.9.0008.fits\n",
    "Ne_Kr_rot77.5.0011.fits\n",
    "Ne_Kr_rot29.9.0014.fits\n",
    "Ne_Kr_rot-17.2.0017.fits\n",
    "Ne_Kr_rot-64.4.0020.fits\n",
    "Ne_Kr_rot-111.7.0023.fits\n",
    "Ne_Kr_rot-158.8.0026.fits\n",
    "</pre<>"
   ]
  },
  {
   "cell_type": "code",
   "execution_count": 5,
   "metadata": {},
   "outputs": [
    {
     "name": "stdout",
     "output_type": "stream",
     "text": [
      "INFO: array provided for uncertainty; assuming it is a StdDevUncertainty. [astropy.nddata.ccddata]\n",
      "  extracting ... (may take some time,\n",
      "                   consider threads= if multithreading is available\n",
      "\n"
     ]
    },
    {
     "ename": "NameError",
     "evalue": "name 'wav' is not defined",
     "output_type": "error",
     "traceback": [
      "\u001b[0;31m---------------------------------------------------------------------------\u001b[0m",
      "\u001b[0;31mNameError\u001b[0m                                 Traceback (most recent call last)",
      "Input \u001b[0;32mIn [5]\u001b[0m, in \u001b[0;36m<module>\u001b[0;34m\u001b[0m\n\u001b[1;32m      8\u001b[0m nekrec\u001b[38;5;241m=\u001b[39mtrace\u001b[38;5;241m.\u001b[39mextract(nekr)\n\u001b[1;32m      9\u001b[0m \u001b[38;5;66;03m# wavelength calibrate\u001b[39;00m\n\u001b[0;32m---> 10\u001b[0m \u001b[43mwav\u001b[49m\u001b[38;5;241m.\u001b[39midentify(nekrec,thresh\u001b[38;5;241m=\u001b[39m\u001b[38;5;241m50\u001b[39m,rad\u001b[38;5;241m=\u001b[39m\u001b[38;5;241m7\u001b[39m)\n\u001b[1;32m     12\u001b[0m \u001b[38;5;66;03m# save pixels of lines\u001b[39;00m\n\u001b[1;32m     13\u001b[0m pixels\u001b[38;5;241m.\u001b[39mappend(wav\u001b[38;5;241m.\u001b[39mpix)\n",
      "\u001b[0;31mNameError\u001b[0m: name 'wav' is not defined"
     ]
    },
    {
     "data": {
      "image/png": "[encoded data removed]",
      "text/plain": [
       "<Figure size 576x864 with 3 Axes>"
      ]
     },
     "metadata": {
      "needs_background": "light"
     },
     "output_type": "display_data"
    }
   ],
   "source": [
    "fig,ax=plots.multi(1,3,figsize=(8,12))\n",
    "waves=[]\n",
    "pixels=[]\n",
    "for im in [5,8,11,14,17,20,23,26] :\n",
    "    # read and bias subtract\n",
    "    nekr=red.reduce(im)\n",
    "    # extract\n",
    "    nekrec=trace.extract(nekr)\n",
    "    # wavelength calibrate\n",
    "    wav.identify(nekrec,thresh=50,rad=7)\n",
    "    \n",
    "    # save pixels of lines\n",
    "    pixels.append(wav.pix)\n",
    "    lab='{:d} {:f}'.format(im,nekr.header['TELROT'])\n",
    "    \n",
    "    # plot pixel locations relative to those of first images\n",
    "    ax[0].scatter(wav.waves,wav.pix-pixels[0],label=lab)\n",
    "    # fit slope of pixel differences as f(wavelength) and plot fit\n",
    "    fit=np.polyfit(wav.waves[4:],wav.pix[4:]-pixels[0][4:],deg=1)\n",
    "    x=np.arange(4500,7000)\n",
    "    ax[0].plot(x,fit[0]*x+fit[1])\n",
    "    \n",
    "    #plot FWHM of lines\n",
    "    ax[1].scatter(wav.waves,wav.fwhm,label=lab)\n",
    "    \n",
    "    # slope vs FWHM\n",
    "    ax[2].scatter(fit[0],wav.fwhm[4:].mean(),label=lab)\n",
    "    \n",
    "ax[0].set_ylabel('Pixel shift of line from initial rot')\n",
    "ax[0].set_xlabel('Wavelength')\n",
    "ax[0].legend()\n",
    "ax[1].set_ylabel('FWHM of line')\n",
    "ax[1].set_xlabel('Wavelength')\n",
    "ax[1].legend()\n",
    "ax[2].set_ylabel('FWHM of line')\n",
    "ax[2].set_xlabel('Slope of pixel shift')\n",
    "ax[2].set_xlim(-0.0008,0.0001)\n",
    "ax[2].legend()\n",
    "fig.tight_layout()\n"
   ]
  },
  {
   "cell_type": "markdown",
   "metadata": {},
   "source": [
    "The wavelength range is limited, but it does  perhaps seem that these slope changes are not matching those for the external lamps ...\n",
    "\n",
    "A correlation between slope and FWHm still seems to exist."
   ]
  },
  {
   "cell_type": "markdown",
   "metadata": {},
   "source": [
    "<h3> Internal vs external lamps"
   ]
  },
  {
   "cell_type": "markdown",
   "metadata": {},
   "source": [
    "How do wavelength scales from internal and external lamps compare?"
   ]
  },
  {
   "cell_type": "code",
   "execution_count": 6,
   "metadata": {},
   "outputs": [
    {
     "ename": "FileNotFoundError",
     "evalue": "[Errno 2] No such file or directory: './KOSMOS_HeNe.fits'",
     "output_type": "error",
     "traceback": [
      "\u001b[0;31m---------------------------------------------------------------------------\u001b[0m",
      "\u001b[0;31mFileNotFoundError\u001b[0m                         Traceback (most recent call last)",
      "Input \u001b[0;32mIn [6]\u001b[0m, in \u001b[0;36m<module>\u001b[0;34m\u001b[0m\n\u001b[1;32m      1\u001b[0m get_ipython()\u001b[38;5;241m.\u001b[39mrun_line_magic(\u001b[38;5;124m'\u001b[39m\u001b[38;5;124mmatplotlib\u001b[39m\u001b[38;5;124m'\u001b[39m, \u001b[38;5;124m'\u001b[39m\u001b[38;5;124mqt\u001b[39m\u001b[38;5;124m'\u001b[39m)\n\u001b[0;32m----> 2\u001b[0m extwav\u001b[38;5;241m=\u001b[39m\u001b[43mspectra\u001b[49m\u001b[38;5;241;43m.\u001b[39;49m\u001b[43mWaveCal\u001b[49m\u001b[43m(\u001b[49m\u001b[38;5;124;43m'\u001b[39;49m\u001b[38;5;124;43m./KOSMOS_HeNe.fits\u001b[39;49m\u001b[38;5;124;43m'\u001b[39;49m\u001b[43m)\u001b[49m\n\u001b[1;32m      3\u001b[0m hene\u001b[38;5;241m=\u001b[39mred\u001b[38;5;241m.\u001b[39mreduce(\u001b[38;5;241m6\u001b[39m)\n\u001b[1;32m      4\u001b[0m \u001b[38;5;66;03m# extract\u001b[39;00m\n",
      "File \u001b[0;32m/home/holtz/git/pyvista/python/pyvista/spectra.py:84\u001b[0m, in \u001b[0;36mWaveCal.__init__\u001b[0;34m(self, file, type, degree, ydegree, pix0, index)\u001b[0m\n\u001b[1;32m     82\u001b[0m     tab\u001b[38;5;241m=\u001b[39mTable(file)\n\u001b[1;32m     83\u001b[0m \u001b[38;5;28;01melif\u001b[39;00m \u001b[38;5;28mstr\u001b[39m(file)[\u001b[38;5;241m0\u001b[39m] \u001b[38;5;241m==\u001b[39m \u001b[38;5;124m'\u001b[39m\u001b[38;5;124m.\u001b[39m\u001b[38;5;124m'\u001b[39m \u001b[38;5;129;01mor\u001b[39;00m \u001b[38;5;28mstr\u001b[39m(file)[\u001b[38;5;241m0\u001b[39m] \u001b[38;5;241m==\u001b[39m \u001b[38;5;124m'\u001b[39m\u001b[38;5;124m/\u001b[39m\u001b[38;5;124m'\u001b[39m :\n\u001b[0;32m---> 84\u001b[0m     tab\u001b[38;5;241m=\u001b[39m\u001b[43mTable\u001b[49m\u001b[38;5;241;43m.\u001b[39;49m\u001b[43mread\u001b[49m\u001b[43m(\u001b[49m\u001b[43mfile\u001b[49m\u001b[43m)\u001b[49m\n\u001b[1;32m     85\u001b[0m \u001b[38;5;28;01melse\u001b[39;00m :\n\u001b[1;32m     86\u001b[0m     tab\u001b[38;5;241m=\u001b[39mTable\u001b[38;5;241m.\u001b[39mread(files(pyvista\u001b[38;5;241m.\u001b[39mdata)\u001b[38;5;241m.\u001b[39mjoinpath(file))\n",
      "File \u001b[0;32m/home/local/Anaconda3-2020.02/envs/py3.9/lib/python3.9/site-packages/astropy/table/connect.py:62\u001b[0m, in \u001b[0;36mTableRead.__call__\u001b[0;34m(self, *args, **kwargs)\u001b[0m\n\u001b[1;32m     59\u001b[0m units \u001b[38;5;241m=\u001b[39m kwargs\u001b[38;5;241m.\u001b[39mpop(\u001b[38;5;124m'\u001b[39m\u001b[38;5;124munits\u001b[39m\u001b[38;5;124m'\u001b[39m, \u001b[38;5;28;01mNone\u001b[39;00m)\n\u001b[1;32m     60\u001b[0m descriptions \u001b[38;5;241m=\u001b[39m kwargs\u001b[38;5;241m.\u001b[39mpop(\u001b[38;5;124m'\u001b[39m\u001b[38;5;124mdescriptions\u001b[39m\u001b[38;5;124m'\u001b[39m, \u001b[38;5;28;01mNone\u001b[39;00m)\n\u001b[0;32m---> 62\u001b[0m out \u001b[38;5;241m=\u001b[39m \u001b[38;5;28;43mself\u001b[39;49m\u001b[38;5;241;43m.\u001b[39;49m\u001b[43mregistry\u001b[49m\u001b[38;5;241;43m.\u001b[39;49m\u001b[43mread\u001b[49m\u001b[43m(\u001b[49m\u001b[38;5;28;43mcls\u001b[39;49m\u001b[43m,\u001b[49m\u001b[43m \u001b[49m\u001b[38;5;241;43m*\u001b[39;49m\u001b[43margs\u001b[49m\u001b[43m,\u001b[49m\u001b[43m \u001b[49m\u001b[38;5;241;43m*\u001b[39;49m\u001b[38;5;241;43m*\u001b[39;49m\u001b[43mkwargs\u001b[49m\u001b[43m)\u001b[49m\n\u001b[1;32m     64\u001b[0m \u001b[38;5;66;03m# For some readers (e.g., ascii.ecsv), the returned `out` class is not\u001b[39;00m\n\u001b[1;32m     65\u001b[0m \u001b[38;5;66;03m# guaranteed to be the same as the desired output `cls`.  If so,\u001b[39;00m\n\u001b[1;32m     66\u001b[0m \u001b[38;5;66;03m# try coercing to desired class without copying (io.registry.read\u001b[39;00m\n\u001b[1;32m     67\u001b[0m \u001b[38;5;66;03m# would normally do a copy).  The normal case here is swapping\u001b[39;00m\n\u001b[1;32m     68\u001b[0m \u001b[38;5;66;03m# Table <=> QTable.\u001b[39;00m\n\u001b[1;32m     69\u001b[0m \u001b[38;5;28;01mif\u001b[39;00m \u001b[38;5;28mcls\u001b[39m \u001b[38;5;129;01mis\u001b[39;00m \u001b[38;5;129;01mnot\u001b[39;00m out\u001b[38;5;241m.\u001b[39m\u001b[38;5;18m__class__\u001b[39m:\n",
      "File \u001b[0;32m/home/local/Anaconda3-2020.02/envs/py3.9/lib/python3.9/site-packages/astropy/io/registry/core.py:184\u001b[0m, in \u001b[0;36mUnifiedInputRegistry.read\u001b[0;34m(self, cls, format, cache, *args, **kwargs)\u001b[0m\n\u001b[1;32m    182\u001b[0m \u001b[38;5;28;01mtry\u001b[39;00m:\n\u001b[1;32m    183\u001b[0m     ctx \u001b[38;5;241m=\u001b[39m get_readable_fileobj(args[\u001b[38;5;241m0\u001b[39m], encoding\u001b[38;5;241m=\u001b[39m\u001b[38;5;124m'\u001b[39m\u001b[38;5;124mbinary\u001b[39m\u001b[38;5;124m'\u001b[39m, cache\u001b[38;5;241m=\u001b[39mcache)\n\u001b[0;32m--> 184\u001b[0m     fileobj \u001b[38;5;241m=\u001b[39m \u001b[43mctx\u001b[49m\u001b[38;5;241;43m.\u001b[39;49m\u001b[38;5;21;43m__enter__\u001b[39;49m\u001b[43m(\u001b[49m\u001b[43m)\u001b[49m\n\u001b[1;32m    185\u001b[0m \u001b[38;5;28;01mexcept\u001b[39;00m \u001b[38;5;167;01mOSError\u001b[39;00m:\n\u001b[1;32m    186\u001b[0m     \u001b[38;5;28;01mraise\u001b[39;00m\n",
      "File \u001b[0;32m/home/local/Anaconda3-2020.02/envs/py3.9/lib/python3.9/contextlib.py:119\u001b[0m, in \u001b[0;36m_GeneratorContextManager.__enter__\u001b[0;34m(self)\u001b[0m\n\u001b[1;32m    117\u001b[0m \u001b[38;5;28;01mdel\u001b[39;00m \u001b[38;5;28mself\u001b[39m\u001b[38;5;241m.\u001b[39margs, \u001b[38;5;28mself\u001b[39m\u001b[38;5;241m.\u001b[39mkwds, \u001b[38;5;28mself\u001b[39m\u001b[38;5;241m.\u001b[39mfunc\n\u001b[1;32m    118\u001b[0m \u001b[38;5;28;01mtry\u001b[39;00m:\n\u001b[0;32m--> 119\u001b[0m     \u001b[38;5;28;01mreturn\u001b[39;00m \u001b[38;5;28;43mnext\u001b[39;49m\u001b[43m(\u001b[49m\u001b[38;5;28;43mself\u001b[39;49m\u001b[38;5;241;43m.\u001b[39;49m\u001b[43mgen\u001b[49m\u001b[43m)\u001b[49m\n\u001b[1;32m    120\u001b[0m \u001b[38;5;28;01mexcept\u001b[39;00m \u001b[38;5;167;01mStopIteration\u001b[39;00m:\n\u001b[1;32m    121\u001b[0m     \u001b[38;5;28;01mraise\u001b[39;00m \u001b[38;5;167;01mRuntimeError\u001b[39;00m(\u001b[38;5;124m\"\u001b[39m\u001b[38;5;124mgenerator didn\u001b[39m\u001b[38;5;124m'\u001b[39m\u001b[38;5;124mt yield\u001b[39m\u001b[38;5;124m\"\u001b[39m) \u001b[38;5;28;01mfrom\u001b[39;00m \u001b[38;5;28mNone\u001b[39m\n",
      "File \u001b[0;32m/home/local/Anaconda3-2020.02/envs/py3.9/lib/python3.9/site-packages/astropy/utils/data.py:271\u001b[0m, in \u001b[0;36mget_readable_fileobj\u001b[0;34m(name_or_obj, encoding, cache, show_progress, remote_timeout, sources, http_headers)\u001b[0m\n\u001b[1;32m    266\u001b[0m \u001b[38;5;28;01mif\u001b[39;00m is_url:\n\u001b[1;32m    267\u001b[0m     name_or_obj \u001b[38;5;241m=\u001b[39m download_file(\n\u001b[1;32m    268\u001b[0m         name_or_obj, cache\u001b[38;5;241m=\u001b[39mcache, show_progress\u001b[38;5;241m=\u001b[39mshow_progress,\n\u001b[1;32m    269\u001b[0m         timeout\u001b[38;5;241m=\u001b[39mremote_timeout, sources\u001b[38;5;241m=\u001b[39msources,\n\u001b[1;32m    270\u001b[0m         http_headers\u001b[38;5;241m=\u001b[39mhttp_headers)\n\u001b[0;32m--> 271\u001b[0m fileobj \u001b[38;5;241m=\u001b[39m \u001b[43mio\u001b[49m\u001b[38;5;241;43m.\u001b[39;49m\u001b[43mFileIO\u001b[49m\u001b[43m(\u001b[49m\u001b[43mname_or_obj\u001b[49m\u001b[43m,\u001b[49m\u001b[43m \u001b[49m\u001b[38;5;124;43m'\u001b[39;49m\u001b[38;5;124;43mr\u001b[39;49m\u001b[38;5;124;43m'\u001b[39;49m\u001b[43m)\u001b[49m\n\u001b[1;32m    272\u001b[0m \u001b[38;5;28;01mif\u001b[39;00m is_url \u001b[38;5;129;01mand\u001b[39;00m \u001b[38;5;129;01mnot\u001b[39;00m cache:\n\u001b[1;32m    273\u001b[0m     delete_fds\u001b[38;5;241m.\u001b[39mappend(fileobj)\n",
      "\u001b[0;31mFileNotFoundError\u001b[0m: [Errno 2] No such file or directory: './KOSMOS_HeNe.fits'"
     ]
    }
   ],
   "source": [
    "%matplotlib qt\n",
    "extwav=spectra.WaveCal('./KOSMOS_HeNe.fits')\n",
    "hene=red.reduce(6)\n",
    "# extract\n",
    "heneec=trace.extract(hene)\n",
    "# wavelength calibrate\n",
    "extwav.identify(heneec,thresh=50,rad=7,plot=True)\n",
    "\n",
    "\n",
    "intwav=spectra.WaveCal('./KOSMOS_NeKr.fits')\n",
    "nekr=red.reduce(5)\n",
    "# extract\n",
    "nekrec=trace.extract(nekr)\n",
    "# wavelength calibrate\n",
    "intwav.identify(nekrec,thresh=50,rad=7,plot=True)\n",
    "\n"
   ]
  },
  {
   "cell_type": "markdown",
   "metadata": {},
   "source": [
    "NOte that NeKr doesn't have lines shortward of 5800"
   ]
  },
  {
   "cell_type": "code",
   "execution_count": 7,
   "metadata": {},
   "outputs": [
    {
     "ename": "NameError",
     "evalue": "name 'extwav' is not defined",
     "output_type": "error",
     "traceback": [
      "\u001b[0;31m---------------------------------------------------------------------------\u001b[0m",
      "\u001b[0;31mNameError\u001b[0m                                 Traceback (most recent call last)",
      "Input \u001b[0;32mIn [7]\u001b[0m, in \u001b[0;36m<module>\u001b[0;34m\u001b[0m\n\u001b[1;32m      1\u001b[0m get_ipython()\u001b[38;5;241m.\u001b[39mrun_line_magic(\u001b[38;5;124m'\u001b[39m\u001b[38;5;124mmatplotlib\u001b[39m\u001b[38;5;124m'\u001b[39m, \u001b[38;5;124m'\u001b[39m\u001b[38;5;124minline\u001b[39m\u001b[38;5;124m'\u001b[39m)\n\u001b[1;32m      2\u001b[0m plt\u001b[38;5;241m.\u001b[39mfigure()\n\u001b[0;32m----> 3\u001b[0m ext\u001b[38;5;241m=\u001b[39m\u001b[43mextwav\u001b[49m\u001b[38;5;241m.\u001b[39mwave(image\u001b[38;5;241m=\u001b[39mheneec\u001b[38;5;241m.\u001b[39mshape[\u001b[38;5;241m1\u001b[39m])\n\u001b[1;32m      4\u001b[0m \u001b[38;5;28mint\u001b[39m\u001b[38;5;241m=\u001b[39mintwav\u001b[38;5;241m.\u001b[39mwave(image\u001b[38;5;241m=\u001b[39mheneec\u001b[38;5;241m.\u001b[39mshape[\u001b[38;5;241m1\u001b[39m])\n\u001b[1;32m      5\u001b[0m plt\u001b[38;5;241m.\u001b[39mplot(\u001b[38;5;28mint\u001b[39m,ext\u001b[38;5;241m-\u001b[39m\u001b[38;5;28mint\u001b[39m)\n",
      "\u001b[0;31mNameError\u001b[0m: name 'extwav' is not defined"
     ]
    },
    {
     "data": {
      "text/plain": [
       "<Figure size 432x288 with 0 Axes>"
      ]
     },
     "metadata": {},
     "output_type": "display_data"
    }
   ],
   "source": [
    "%matplotlib inline\n",
    "plt.figure()\n",
    "ext=extwav.wave(image=heneec.shape[1])\n",
    "int=intwav.wave(image=heneec.shape[1])\n",
    "plt.plot(int,ext-int)\n",
    "plt.xlim(5700,7100)\n",
    "plt.ylim(-5,0)\n",
    "extwav.model.domain\n",
    "extwav.model.c0.value\n",
    "\n",
    "disp=extwav.model.c1.value/(extwav.model.domain[1]-extwav.model.domain[0])\n",
    "print(disp)"
   ]
  },
  {
   "cell_type": "markdown",
   "metadata": {},
   "source": [
    "<h2> Wavelength calibration"
   ]
  },
  {
   "cell_type": "code",
   "execution_count": 54,
   "metadata": {},
   "outputs": [],
   "source": [
    "%matplotlib qt"
   ]
  },
  {
   "cell_type": "code",
   "execution_count": 55,
   "metadata": {},
   "outputs": [
    {
     "name": "stdout",
     "output_type": "stream",
     "text": [
      "INSTRUMENT: KOSMOS   config: \n",
      "  will use format:  .//*{:04d}.f*.fits*\n",
      "         gain:  [0.6]    rn: [ 5.]\n",
      "         scale:  None   \n",
      "  Biastype : 1\n",
      "  Bias box: \n",
      "    SC    NC    SR    NR\n",
      "  2055    43    20  4056 \n",
      "  2105    43    20  4056 \n",
      "  Trim box: \n",
      "    SC    NC    SR    NR\n",
      "     0  2048     0  4096 \n",
      "     0  2048     0  4096 \n",
      "  Norm box: \n",
      "    SC    NC    SR    NR\n",
      "  1000    51  2000    51 \n",
      "  Reading file: /home/holtz/raw/apo/oct21/UT211206/Ne_blue_1.0026.fits\n",
      "  subtracting overscan vector \n",
      "  subtracting overscan vector \n",
      "  Reading file: /home/holtz/raw/apo/oct21/UT211206/Ar_blue_1.0027.fits\n",
      "  subtracting overscan vector \n",
      "  subtracting overscan vector \n",
      "  Reading file: /home/holtz/raw/apo/oct21/UT211206/Kr_blue_1.0028.fits\n",
      "  subtracting overscan vector \n",
      "  subtracting overscan vector \n",
      "  combining data with sum....\n",
      "  calculating uncertainty....\n",
      "  Reading file: /home/holtz/raw/apo/oct21/UT211206/Ne_blue_2c.0029.fits\n",
      "  subtracting overscan vector \n",
      "  subtracting overscan vector \n",
      "  Reading file: /home/holtz/raw/apo/oct21/UT211206/Ar_blue_2c.0030.fits\n",
      "  subtracting overscan vector \n",
      "  subtracting overscan vector \n",
      "  Reading file: /home/holtz/raw/apo/oct21/UT211206/Kr_blue_2c.0031.fits\n",
      "  subtracting overscan vector \n",
      "  subtracting overscan vector \n",
      "  combining data with sum....\n",
      "  calculating uncertainty....\n",
      "  Reading file: /home/holtz/raw/apo/oct21/UT211206/Ne_blue_2l.0032.fits\n",
      "  subtracting overscan vector \n",
      "  subtracting overscan vector \n",
      "  Reading file: /home/holtz/raw/apo/oct21/UT211206/Ar_blue_2l.0033.fits\n",
      "  subtracting overscan vector \n",
      "  subtracting overscan vector \n",
      "  Reading file: /home/holtz/raw/apo/oct21/UT211206/Kr_blue_2l.0034.fits\n",
      "  subtracting overscan vector \n",
      "  subtracting overscan vector \n",
      "  combining data with sum....\n",
      "  calculating uncertainty....\n",
      "  Reading file: /home/holtz/raw/apo/oct21/UT211206/Ne_blue_2h.0035.fits\n",
      "  subtracting overscan vector \n",
      "  subtracting overscan vector \n",
      "  Reading file: /home/holtz/raw/apo/oct21/UT211206/Ar_blue_2h.0036.fits\n",
      "  subtracting overscan vector \n",
      "  subtracting overscan vector \n",
      "  Reading file: /home/holtz/raw/apo/oct21/UT211206/Kr_blue_2h.0037.fits\n",
      "  subtracting overscan vector \n",
      "  subtracting overscan vector \n",
      "  combining data with sum....\n",
      "  calculating uncertainty....\n",
      "  Reading file: /home/holtz/raw/apo/oct21/UT211206/Ne_red_1.0038.fits\n",
      "  subtracting overscan vector \n",
      "  subtracting overscan vector \n",
      "  Reading file: /home/holtz/raw/apo/oct21/UT211206/Ar_red_1.0039.fits\n",
      "  subtracting overscan vector \n",
      "  subtracting overscan vector \n",
      "  Reading file: /home/holtz/raw/apo/oct21/UT211206/Kr_red_1.0040.fits\n",
      "  subtracting overscan vector \n",
      "  subtracting overscan vector \n",
      "  combining data with sum....\n",
      "  calculating uncertainty....\n",
      "  Reading file: /home/holtz/raw/apo/oct21/UT211206/Ne_red_2c.0041.fits\n",
      "  subtracting overscan vector \n",
      "  subtracting overscan vector \n",
      "  Reading file: /home/holtz/raw/apo/oct21/UT211206/Ar_red_2c.0042.fits\n",
      "  subtracting overscan vector \n",
      "  subtracting overscan vector \n",
      "  Reading file: /home/holtz/raw/apo/oct21/UT211206/Kr_red_2c.0043.fits\n",
      "  subtracting overscan vector \n",
      "  subtracting overscan vector \n",
      "  combining data with sum....\n",
      "  calculating uncertainty....\n",
      "  Reading file: /home/holtz/raw/apo/oct21/UT211206/Ne_red_2l.0044.fits\n",
      "  subtracting overscan vector \n",
      "  subtracting overscan vector \n",
      "  Reading file: /home/holtz/raw/apo/oct21/UT211206/Ar_red_2l.0045.fits\n",
      "  subtracting overscan vector \n",
      "  subtracting overscan vector \n",
      "  Reading file: /home/holtz/raw/apo/oct21/UT211206/Kr_red_2l.0046.fits\n",
      "  subtracting overscan vector \n",
      "  subtracting overscan vector \n",
      "  combining data with sum....\n",
      "  calculating uncertainty....\n",
      "  Reading file: /home/holtz/raw/apo/oct21/UT211206/Ne_red_2h.0047.fits\n",
      "  subtracting overscan vector \n",
      "  subtracting overscan vector \n",
      "  Reading file: /home/holtz/raw/apo/oct21/UT211206/Ar_red_2h.0048.fits\n",
      "  subtracting overscan vector \n",
      "  subtracting overscan vector \n",
      "  Reading file: /home/holtz/raw/apo/oct21/UT211206/Kr_red_2h.0049.fits\n",
      "  subtracting overscan vector \n",
      "  subtracting overscan vector \n",
      "  combining data with sum....\n",
      "  calculating uncertainty....\n"
     ]
    }
   ],
   "source": [
    "red=imred.Reducer('KOSMOS')\n",
    "red.dir='/home/holtz/raw/apo/oct21/UT211206'\n",
    "blue_int_1=red.sum([26,27,28])\n",
    "blue_int_2c=red.sum([29,30,31])\n",
    "blue_int_2l=red.sum([32,33,34])\n",
    "blue_int_2h=red.sum([35,36,37])\n",
    "red_int_1=red.sum([38,39,40])\n",
    "red_int_2c=red.sum([41,42,43])\n",
    "red_int_2l=red.sum([44,45,46])\n",
    "red_int_2h=red.sum([47,48,49])"
   ]
  },
  {
   "cell_type": "code",
   "execution_count": 57,
   "metadata": {},
   "outputs": [
    {
     "name": "stdout",
     "output_type": "stream",
     "text": [
      "  rms:    1.124 Angstroms (26 lines)\n",
      "\n"
     ]
    },
    {
     "name": "stderr",
     "output_type": "stream",
     "text": [
      "/home/local/Anaconda3-2020.02/envs/py3.9/lib/python3.9/site-packages/scipy/optimize/minpack.py:833: OptimizeWarning: Covariance of the parameters could not be estimated\n",
      "  warnings.warn('Covariance of the parameters could not be estimated',\n"
     ]
    },
    {
     "name": "stdout",
     "output_type": "stream",
     "text": [
      "  See identified lines.\n",
      "  rms:    7.502 Angstroms (84 lines)\n",
      "  Input in plot window: \n",
      "       l : to remove all lines to left of cursor\n",
      "       r : to remove all lines to right of cursor\n",
      "       n : to remove line nearest cursor x position\n",
      "       anything else : finish and return\n",
      "  rms:    7.502 Anstroms\n",
      "  input from plot window...\n",
      "  rms:    1.790 Anstroms\n",
      "  input from plot window...\n",
      "  rms:    1.764 Anstroms\n",
      "  input from plot window...\n",
      "  rms:    1.752 Anstroms\n",
      "  input from plot window...\n",
      "  rms:    1.758 Anstroms\n",
      "  input from plot window...\n",
      "  rms:    1.738 Anstroms\n",
      "  input from plot window...\n",
      "  rms:    1.725 Anstroms\n",
      "  input from plot window...\n",
      "  rms:    1.659 Anstroms\n",
      "  input from plot window...\n",
      "  rms:    1.600 Anstroms\n",
      "  input from plot window...\n",
      "  rms:    1.496 Anstroms\n",
      "  input from plot window...\n",
      "  rms:    1.413 Anstroms\n",
      "  input from plot window...\n",
      "  rms:    1.326 Anstroms\n",
      "  input from plot window...\n",
      "  rms:    1.208 Anstroms\n",
      "  input from plot window...\n",
      "  rms:    1.184 Anstroms\n",
      "  input from plot window...\n",
      "  rms:    1.144 Anstroms\n",
      "  input from plot window...\n",
      "  rms:    1.135 Anstroms\n",
      "  input from plot window...\n",
      "  rms:    1.039 Anstroms\n",
      "  input from plot window...\n",
      "  rms:    0.979 Anstroms\n",
      "  input from plot window...\n",
      "  rms:    0.866 Anstroms\n",
      "  input from plot window...\n",
      "  rms:    0.863 Anstroms\n",
      "  input from plot window...\n",
      "  rms:    0.865 Anstroms\n",
      "  input from plot window...\n",
      "  rms:    0.841 Anstroms\n",
      "  input from plot window...\n",
      "  rms:    0.820 Anstroms\n",
      "  input from plot window...\n",
      "  rms:    0.747 Anstroms\n",
      "  input from plot window...\n",
      "  rms:    0.716 Anstroms\n",
      "  input from plot window...\n",
      "  rms:    0.700 Anstroms\n",
      "  input from plot window...\n",
      "  rms:    0.706 Anstroms\n",
      "  input from plot window...\n",
      "  rms:    0.698 Anstroms\n",
      "  input from plot window...\n",
      "  rms:    0.658 Anstroms\n",
      "  input from plot window...\n",
      "  rms:    0.474 Anstroms\n",
      "  input from plot window...\n",
      "  rms:    0.459 Anstroms\n",
      "  input from plot window...\n",
      "  rms:    0.435 Anstroms\n",
      "  input from plot window...\n",
      "  rms:    0.400 Anstroms\n",
      "  input from plot window...\n",
      "  rms:    0.393 Anstroms\n",
      "  input from plot window...\n",
      "  rms:    0.390 Anstroms\n",
      "  input from plot window...\n",
      "  rms:    0.391 Anstroms\n",
      "  input from plot window...\n",
      "  rms:    0.234 Anstroms\n",
      "  input from plot window...\n",
      "  rms:    0.202 Anstroms\n",
      "  input from plot window...\n",
      "  rms:    0.190 Anstroms\n",
      "  input from plot window...\n",
      "  rms:    0.190 Anstroms\n",
      "  input from plot window...\n",
      "  rms:    0.154 Anstroms\n",
      "  input from plot window...\n",
      "  rms:    0.138 Anstroms\n",
      "  input from plot window...\n",
      "  rms:    0.112 Anstroms\n",
      "  input from plot window...\n",
      "  rms:    0.113 Anstroms\n",
      "  input from plot window...\n",
      "  rms:    0.103 Anstroms\n",
      "  input from plot window...\n",
      "  rms:    0.095 Anstroms\n",
      "  input from plot window...\n",
      "  rms:    0.078 Anstroms\n",
      "  input from plot window...\n",
      "\n"
     ]
    },
    {
     "name": "stderr",
     "output_type": "stream",
     "text": [
      "/home/local/Anaconda3-2020.02/envs/py3.9/lib/python3.9/site-packages/scipy/optimize/minpack.py:833: OptimizeWarning: Covariance of the parameters could not be estimated\n",
      "  warnings.warn('Covariance of the parameters could not be estimated',\n"
     ]
    },
    {
     "name": "stdout",
     "output_type": "stream",
     "text": [
      "  See identified lines.\n",
      "  rms:    7.502 Angstroms (84 lines)\n",
      "  Input in plot window: \n",
      "       l : to remove all lines to left of cursor\n",
      "       r : to remove all lines to right of cursor\n",
      "       n : to remove line nearest cursor x position\n",
      "       anything else : finish and return\n",
      "  rms:    7.502 Anstroms\n",
      "  input from plot window...\n",
      "  rms:    1.790 Anstroms\n",
      "  input from plot window...\n",
      "\n",
      "\n"
     ]
    },
    {
     "name": "stderr",
     "output_type": "stream",
     "text": [
      "/home/local/Anaconda3-2020.02/envs/py3.9/lib/python3.9/site-packages/scipy/optimize/minpack.py:833: OptimizeWarning: Covariance of the parameters could not be estimated\n",
      "  warnings.warn('Covariance of the parameters could not be estimated',\n"
     ]
    },
    {
     "name": "stdout",
     "output_type": "stream",
     "text": [
      "  See identified lines.\n",
      "  rms:    2.532 Angstroms (84 lines)\n",
      "  Input in plot window: \n",
      "       l : to remove all lines to left of cursor\n",
      "       r : to remove all lines to right of cursor\n",
      "       n : to remove line nearest cursor x position\n",
      "       anything else : finish and return\n",
      "  rms:    2.532 Anstroms\n",
      "  input from plot window...\n",
      "\n"
     ]
    },
    {
     "name": "stderr",
     "output_type": "stream",
     "text": [
      "/home/local/Anaconda3-2020.02/envs/py3.9/lib/python3.9/site-packages/scipy/optimize/minpack.py:833: OptimizeWarning: Covariance of the parameters could not be estimated\n",
      "  warnings.warn('Covariance of the parameters could not be estimated',\n"
     ]
    },
    {
     "name": "stdout",
     "output_type": "stream",
     "text": [
      "  See identified lines.\n",
      "  rms:    2.559 Angstroms (84 lines)\n",
      "  Input in plot window: \n",
      "       l : to remove all lines to left of cursor\n",
      "       r : to remove all lines to right of cursor\n",
      "       n : to remove line nearest cursor x position\n",
      "       anything else : finish and return\n",
      "  rms:    2.559 Anstroms\n",
      "  input from plot window...\n",
      "\n",
      "\n"
     ]
    },
    {
     "name": "stderr",
     "output_type": "stream",
     "text": [
      "/home/local/Anaconda3-2020.02/envs/py3.9/lib/python3.9/site-packages/scipy/optimize/minpack.py:833: OptimizeWarning: Covariance of the parameters could not be estimated\n",
      "  warnings.warn('Covariance of the parameters could not be estimated',\n"
     ]
    },
    {
     "name": "stdout",
     "output_type": "stream",
     "text": [
      "  See identified lines.\n",
      "  rms:   10.915 Angstroms (87 lines)\n",
      "  Input in plot window: \n",
      "       l : to remove all lines to left of cursor\n",
      "       r : to remove all lines to right of cursor\n",
      "       n : to remove line nearest cursor x position\n",
      "       anything else : finish and return\n",
      "  rms:   10.915 Anstroms\n",
      "  input from plot window...\n",
      "  rms:    3.263 Anstroms\n",
      "  input from plot window...\n",
      "\n"
     ]
    },
    {
     "name": "stderr",
     "output_type": "stream",
     "text": [
      "/home/local/Anaconda3-2020.02/envs/py3.9/lib/python3.9/site-packages/scipy/optimize/minpack.py:833: OptimizeWarning: Covariance of the parameters could not be estimated\n",
      "  warnings.warn('Covariance of the parameters could not be estimated',\n"
     ]
    },
    {
     "name": "stdout",
     "output_type": "stream",
     "text": [
      "  See identified lines.\n",
      "  rms:    3.304 Angstroms (87 lines)\n",
      "  Input in plot window: \n",
      "       l : to remove all lines to left of cursor\n",
      "       r : to remove all lines to right of cursor\n",
      "       n : to remove line nearest cursor x position\n",
      "       anything else : finish and return\n",
      "  rms:    3.304 Anstroms\n",
      "  input from plot window...\n",
      "\n",
      "\n"
     ]
    },
    {
     "name": "stderr",
     "output_type": "stream",
     "text": [
      "/home/local/Anaconda3-2020.02/envs/py3.9/lib/python3.9/site-packages/scipy/optimize/minpack.py:833: OptimizeWarning: Covariance of the parameters could not be estimated\n",
      "  warnings.warn('Covariance of the parameters could not be estimated',\n"
     ]
    },
    {
     "name": "stdout",
     "output_type": "stream",
     "text": [
      "  See identified lines.\n",
      "  rms:   25.771 Angstroms (79 lines)\n",
      "  Input in plot window: \n",
      "       l : to remove all lines to left of cursor\n",
      "       r : to remove all lines to right of cursor\n",
      "       n : to remove line nearest cursor x position\n",
      "       anything else : finish and return\n",
      "  rms:   25.771 Anstroms\n",
      "  input from plot window...\n",
      "  rms:   24.851 Anstroms\n",
      "  input from plot window...\n",
      "  rms:   24.668 Anstroms\n",
      "  input from plot window...\n",
      "  rms:   21.084 Anstroms\n",
      "  input from plot window...\n",
      "  rms:    3.268 Anstroms\n",
      "  input from plot window...\n",
      "\n"
     ]
    },
    {
     "name": "stderr",
     "output_type": "stream",
     "text": [
      "/home/local/Anaconda3-2020.02/envs/py3.9/lib/python3.9/site-packages/scipy/optimize/minpack.py:833: OptimizeWarning: Covariance of the parameters could not be estimated\n",
      "  warnings.warn('Covariance of the parameters could not be estimated',\n"
     ]
    },
    {
     "name": "stdout",
     "output_type": "stream",
     "text": [
      "  See identified lines.\n",
      "  rms:   27.561 Angstroms (79 lines)\n",
      "  Input in plot window: \n",
      "       l : to remove all lines to left of cursor\n",
      "       r : to remove all lines to right of cursor\n",
      "       n : to remove line nearest cursor x position\n",
      "       anything else : finish and return\n",
      "  rms:   27.561 Anstroms\n",
      "  input from plot window...\n",
      "\n"
     ]
    }
   ],
   "source": [
    "wav=spectra.WaveCal('KOSMOS/KOSMOS_blue_waves.fits')\n",
    "ims=[blue_int_1,blue_int_2c, blue_int_2l, blue_int_2h]\n",
    "lags=[range(-100,100),range(-100,100),range(-600,-550),range(550,600)]\n",
    "for im,lag in zip(ims,lags) :\n",
    "    arcec=trace.extract(im)\n",
    "    tmp=copy.deepcopy(wav)\n",
    "    tmp.identify(arcec,thresh=20,plot=True,rad=5,lags=lag,file='henearkr.dat')\n",
    "    tmp.weights[:] = 1.\n",
    "    tmp.identify(arcec,thresh=20,plot=True,rad=5,lags=range(-50,50),file='henearkr.dat')"
   ]
  },
  {
   "cell_type": "code",
   "execution_count": 58,
   "metadata": {},
   "outputs": [
    {
     "name": "stdout",
     "output_type": "stream",
     "text": [
      "  rms:    1.505 Angstroms (50 lines)\n",
      "\n"
     ]
    },
    {
     "name": "stderr",
     "output_type": "stream",
     "text": [
      "/home/local/Anaconda3-2020.02/envs/py3.9/lib/python3.9/site-packages/scipy/optimize/minpack.py:833: OptimizeWarning: Covariance of the parameters could not be estimated\n",
      "  warnings.warn('Covariance of the parameters could not be estimated',\n"
     ]
    },
    {
     "name": "stdout",
     "output_type": "stream",
     "text": [
      "  See identified lines.\n",
      "  rms:   33.953 Angstroms (42 lines)\n",
      "  Input in plot window: \n",
      "       l : to remove all lines to left of cursor\n",
      "       r : to remove all lines to right of cursor\n",
      "       n : to remove line nearest cursor x position\n",
      "       anything else : finish and return\n",
      "  rms:   33.953 Anstroms\n",
      "  input from plot window...\n",
      "  rms:    7.608 Anstroms\n",
      "  input from plot window...\n",
      "  rms:    6.915 Anstroms\n",
      "  input from plot window...\n",
      "  rms:    6.427 Anstroms\n",
      "  input from plot window...\n",
      "  rms:    5.747 Anstroms\n",
      "  input from plot window...\n",
      "  rms:    4.111 Anstroms\n",
      "  input from plot window...\n",
      "  rms:    3.552 Anstroms\n",
      "  input from plot window...\n",
      "  rms:    3.431 Anstroms\n",
      "  input from plot window...\n",
      "  rms:    1.449 Anstroms\n",
      "  input from plot window...\n",
      "  rms:    1.244 Anstroms\n",
      "  input from plot window...\n",
      "  rms:    1.119 Anstroms\n",
      "  input from plot window...\n",
      "  rms:    0.202 Anstroms\n",
      "  input from plot window...\n",
      "\n",
      "  See identified lines.\n",
      "  rms:    1.781 Angstroms (42 lines)\n",
      "  Input in plot window: \n",
      "       l : to remove all lines to left of cursor\n",
      "       r : to remove all lines to right of cursor\n",
      "       n : to remove line nearest cursor x position\n",
      "       anything else : finish and return\n",
      "  rms:    1.781 Anstroms\n",
      "  input from plot window...\n",
      "  rms:    0.990 Anstroms\n",
      "  input from plot window...\n",
      "  rms:    0.198 Anstroms\n",
      "  input from plot window...\n",
      "\n",
      "\n",
      "  See identified lines.\n",
      "  rms:    8.189 Angstroms (42 lines)\n",
      "  Input in plot window: \n",
      "       l : to remove all lines to left of cursor\n",
      "       r : to remove all lines to right of cursor\n",
      "       n : to remove line nearest cursor x position\n",
      "       anything else : finish and return\n",
      "  rms:    8.189 Anstroms\n",
      "  input from plot window...\n",
      "\n",
      "  See identified lines.\n",
      "  rms:    5.013 Angstroms (42 lines)\n",
      "  Input in plot window: \n",
      "       l : to remove all lines to left of cursor\n",
      "       r : to remove all lines to right of cursor\n",
      "       n : to remove line nearest cursor x position\n",
      "       anything else : finish and return\n",
      "  rms:    5.013 Anstroms\n",
      "  input from plot window...\n",
      "\n",
      "\n"
     ]
    },
    {
     "name": "stderr",
     "output_type": "stream",
     "text": [
      "/home/local/Anaconda3-2020.02/envs/py3.9/lib/python3.9/site-packages/scipy/optimize/minpack.py:833: OptimizeWarning: Covariance of the parameters could not be estimated\n",
      "  warnings.warn('Covariance of the parameters could not be estimated',\n"
     ]
    },
    {
     "name": "stdout",
     "output_type": "stream",
     "text": [
      "  See identified lines.\n",
      "  rms:   21.404 Angstroms (38 lines)\n",
      "  Input in plot window: \n",
      "       l : to remove all lines to left of cursor\n",
      "       r : to remove all lines to right of cursor\n",
      "       n : to remove line nearest cursor x position\n",
      "       anything else : finish and return\n",
      "  rms:   21.404 Anstroms\n",
      "  input from plot window...\n",
      "  rms:   21.541 Anstroms\n",
      "  input from plot window...\n",
      "  rms:   21.474 Anstroms\n",
      "  input from plot window...\n",
      "\n",
      "  See identified lines.\n",
      "  rms:    5.691 Angstroms (38 lines)\n",
      "  Input in plot window: \n",
      "       l : to remove all lines to left of cursor\n",
      "       r : to remove all lines to right of cursor\n",
      "       n : to remove line nearest cursor x position\n",
      "       anything else : finish and return\n",
      "  rms:    5.691 Anstroms\n",
      "  input from plot window...\n",
      "\n",
      "\n",
      "  See identified lines.\n",
      "  rms:   14.548 Angstroms (36 lines)\n",
      "  Input in plot window: \n",
      "       l : to remove all lines to left of cursor\n",
      "       r : to remove all lines to right of cursor\n",
      "       n : to remove line nearest cursor x position\n",
      "       anything else : finish and return\n",
      "  rms:   14.548 Anstroms\n",
      "  input from plot window...\n",
      "\n"
     ]
    },
    {
     "name": "stderr",
     "output_type": "stream",
     "text": [
      "/home/local/Anaconda3-2020.02/envs/py3.9/lib/python3.9/site-packages/scipy/optimize/minpack.py:833: OptimizeWarning: Covariance of the parameters could not be estimated\n",
      "  warnings.warn('Covariance of the parameters could not be estimated',\n"
     ]
    },
    {
     "name": "stdout",
     "output_type": "stream",
     "text": [
      "  See identified lines.\n",
      "  rms:   80.145 Angstroms (34 lines)\n",
      "  Input in plot window: \n",
      "       l : to remove all lines to left of cursor\n",
      "       r : to remove all lines to right of cursor\n",
      "       n : to remove line nearest cursor x position\n",
      "       anything else : finish and return\n",
      "  rms:   80.145 Anstroms\n",
      "  input from plot window...\n",
      "\n"
     ]
    }
   ],
   "source": [
    "wav=spectra.WaveCal('KOSMOS/KOSMOS_red_waves.fits')\n",
    "ims=[red_int_1,red_int_2c, red_int_2l, red_int_2h]\n",
    "lags=[range(-100,100),range(-100,100),range(-600,-550),range(550,600)]\n",
    "for im,lag in zip(ims,lags) :\n",
    "    arcec=trace.extract(im)\n",
    "    tmp=copy.deepcopy(wav)\n",
    "    tmp.identify(arcec,thresh=100,plot=True,rad=20,lags=lag)\n",
    "    tmp.weights[:] = 1.\n",
    "    tmp.identify(arcec,thresh=100,plot=True,rad=10)   "
   ]
  },
  {
   "cell_type": "code",
   "execution_count": null,
   "metadata": {},
   "outputs": [],
   "source": [
    "tmp.weights[:] = 0.\n",
    "tmp.weights\n",
    "\n"
   ]
  },
  {
   "cell_type": "code",
   "execution_count": null,
   "metadata": {
    "scrolled": true
   },
   "outputs": [],
   "source": [
    "wav=spectra.WaveCal('KOSMOS/KOSMOS_blue_waves.fits')\n",
    "arcec=trace.extract(blue_int_1)\n",
    "wav.identify(arcec,thresh=20,plot=True)\n",
    "fw_blue_1=wav.fwhm"
   ]
  },
  {
   "cell_type": "code",
   "execution_count": null,
   "metadata": {
    "scrolled": true
   },
   "outputs": [],
   "source": [
    "arcec=trace.extract(blue_int_2c)\n",
    "wav.identify(arcec,thresh=20,plot=True)\n",
    "fw_blue_2cent=wav.fwhm"
   ]
  },
  {
   "cell_type": "code",
   "execution_count": null,
   "metadata": {},
   "outputs": [],
   "source": [
    "tmp=copy.deepcopy(wav)\n",
    "arcec=trace.extract(blue_int_2l)\n",
    "tmp.identify(arcec,thresh=20,plot=True,lags=range(-600,-550))"
   ]
  },
  {
   "cell_type": "code",
   "execution_count": null,
   "metadata": {},
   "outputs": [],
   "source": [
    "tmp=copy.deepcopy(wav)\n",
    "arcec=trace.extract(blue_int_2h)\n",
    "tmp.identify(arcec,thresh=20,plot=True,lags=range(550,600))"
   ]
  },
  {
   "cell_type": "code",
   "execution_count": null,
   "metadata": {},
   "outputs": [],
   "source": [
    "plt.figure()\n",
    "plt.plot(wav.waves,fw_blue_1,'bo')\n",
    "plt.plot(wav.waves,fw_blue_2cent,'go')"
   ]
  },
  {
   "cell_type": "code",
   "execution_count": null,
   "metadata": {},
   "outputs": [],
   "source": [
    "wav=spectra.WaveCal('KOSMOS/KOSMOS_red_waves.fits')\n",
    "wav=spectra.WaveCal(degree=3)\n",
    "arcec=trace.extract(red_int_1)\n",
    "wref=[7032,2465]\n",
    "disp=-0.99\n",
    "wav.identify(arcec,thresh=50,plot=True,rad=5,inter=True,file='henearkr.dat')"
   ]
  },
  {
   "cell_type": "code",
   "execution_count": null,
   "metadata": {},
   "outputs": [],
   "source": [
    "wav.identify(arcec,file='henearkr.dat',thresh=50,plot=True,rad=3)\n",
    "#wav.write('KOSMOS_red_waves.fits')"
   ]
  },
  {
   "cell_type": "code",
   "execution_count": null,
   "metadata": {},
   "outputs": [],
   "source": [
    "tmp=copy.deepcopy(wav)\n",
    "arcec=trace.extract(red_int_2c)\n",
    "tmp.identify(arcec,plot=True)"
   ]
  },
  {
   "cell_type": "code",
   "execution_count": null,
   "metadata": {},
   "outputs": [],
   "source": [
    "tmp=copy.deepcopy(wav)\n",
    "arcec=trace.extract(red_int_2l)\n",
    "tmp.identify(arcec,plot=True,lags=range(-600,-550))"
   ]
  },
  {
   "cell_type": "code",
   "execution_count": null,
   "metadata": {},
   "outputs": [],
   "source": [
    "tmp.identify(arcec,rad=3,plot=True,file='henearkr.dat')"
   ]
  },
  {
   "cell_type": "code",
   "execution_count": null,
   "metadata": {},
   "outputs": [],
   "source": [
    "wav.identify(arcec,file='henearkr.dat',rad=3,thresh=100,plot=True)"
   ]
  },
  {
   "cell_type": "code",
   "execution_count": null,
   "metadata": {},
   "outputs": [],
   "source": [
    "wav.write('KOSMOS_red_1.fits')\n"
   ]
  },
  {
   "cell_type": "markdown",
   "metadata": {},
   "source": [
    "<h2> 1.18 arcsec slit"
   ]
  },
  {
   "cell_type": "code",
   "execution_count": null,
   "metadata": {},
   "outputs": [],
   "source": [
    "red=imred.Reducer('KOSMOS',dir='/home/holtz/raw/apo/oct21/Q4NM01/UT211031/kosmos',verbose=True)\n",
    "trace=spectra.Trace('KOSMOS/KOSMOS_trace.fits')\n",
    "wav=spectra.WaveCal('./KOSMOS_HeNe.fits')"
   ]
  },
  {
   "cell_type": "code",
   "execution_count": null,
   "metadata": {},
   "outputs": [],
   "source": [
    "arc=red.sum([14,15,16])\n",
    "arcec=trace.extract(arc,plot=t)"
   ]
  },
  {
   "cell_type": "code",
   "execution_count": null,
   "metadata": {},
   "outputs": [],
   "source": [
    "#%matplotlib qt\n",
    "#t=tv.TV()\n",
    "t.tv(arc)"
   ]
  },
  {
   "cell_type": "code",
   "execution_count": null,
   "metadata": {},
   "outputs": [],
   "source": [
    "#plt.figure()\n",
    "plt.clf()\n",
    "plt.plot(arcec.data[0])\n",
    "plt.plot(wav.spectrum[0],color='r')\n",
    "#plt.clf()\n",
    "#plt.plot(arcec.data[0]/arcec.uncertainty.array[0])\n",
    "print(wav.waves)\n",
    "print(wav.pix)"
   ]
  },
  {
   "cell_type": "code",
   "execution_count": null,
   "metadata": {},
   "outputs": [],
   "source": [
    "wav=spectra.WaveCal('KOSMOS/KOSMOS_blue_waves.fits')\n",
    "wav.identify(arcec,thresh=20,\n",
    "            fit=True,plot=True,pixplot=True,rad=20)"
   ]
  },
  {
   "cell_type": "code",
   "execution_count": null,
   "metadata": {},
   "outputs": [],
   "source": []
  },
  {
   "cell_type": "code",
   "execution_count": null,
   "metadata": {},
   "outputs": [],
   "source": []
  }
 ],
 "metadata": {
  "kernelspec": {
   "display_name": "Python 3 (ipykernel)",
   "language": "python",
   "name": "python3"
  },
  "language_info": {
   "codemirror_mode": {
    "name": "ipython",
    "version": 3
   },
   "file_extension": ".py",
   "mimetype": "text/x-python",
   "name": "python",
   "nbconvert_exporter": "python",
   "pygments_lexer": "ipython3",
   "version": "3.9.9"
  }
 },
 "nbformat": 4,
 "nbformat_minor": 4
}
