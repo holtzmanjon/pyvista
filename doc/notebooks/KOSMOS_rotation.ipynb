{
 "cells": [
  {
   "cell_type": "markdown",
   "metadata": {},
   "source": [
    "<h2> KOSMOS wavecals and rotation"
   ]
  },
  {
   "cell_type": "code",
   "execution_count": 2,
   "metadata": {},
   "outputs": [],
   "source": [
    "%matplotlib inline\n",
    "from pyvista import imred, tv, spectra\n",
    "import numpy as np\n",
    "import matplotlib.pyplot as plt\n",
    "import copy"
   ]
  },
  {
   "cell_type": "markdown",
   "metadata": {},
   "source": [
    "Setup pyvista Reducer, Trace, and WaveCal "
   ]
  },
  {
   "cell_type": "code",
   "execution_count": 3,
   "metadata": {},
   "outputs": [
    {
     "ename": "FileNotFoundError",
     "evalue": "[Errno 2] No such file or directory: './KOSMOS_HeNe.fits'",
     "output_type": "error",
     "traceback": [
      "\u001b[0;31m---------------------------------------------------------------------------\u001b[0m",
      "\u001b[0;31mFileNotFoundError\u001b[0m                         Traceback (most recent call last)",
      "Input \u001b[0;32mIn [3]\u001b[0m, in \u001b[0;36m<module>\u001b[0;34m\u001b[0m\n\u001b[1;32m      1\u001b[0m red\u001b[38;5;241m=\u001b[39mimred\u001b[38;5;241m.\u001b[39mReducer(\u001b[38;5;124m'\u001b[39m\u001b[38;5;124mKOSMOS\u001b[39m\u001b[38;5;124m'\u001b[39m,\u001b[38;5;28mdir\u001b[39m\u001b[38;5;241m=\u001b[39m\u001b[38;5;124m'\u001b[39m\u001b[38;5;124m/home/holtz/raw/apo/oct21/UT211020\u001b[39m\u001b[38;5;124m'\u001b[39m,verbose\u001b[38;5;241m=\u001b[39m\u001b[38;5;28;01mFalse\u001b[39;00m)\n\u001b[1;32m      2\u001b[0m trace\u001b[38;5;241m=\u001b[39mspectra\u001b[38;5;241m.\u001b[39mTrace(\u001b[38;5;124m'\u001b[39m\u001b[38;5;124mKOSMOS/KOSMOS_trace.fits\u001b[39m\u001b[38;5;124m'\u001b[39m)\n\u001b[0;32m----> 3\u001b[0m wav\u001b[38;5;241m=\u001b[39m\u001b[43mspectra\u001b[49m\u001b[38;5;241;43m.\u001b[39;49m\u001b[43mWaveCal\u001b[49m\u001b[43m(\u001b[49m\u001b[38;5;124;43m'\u001b[39;49m\u001b[38;5;124;43m./KOSMOS_HeNe.fits\u001b[39;49m\u001b[38;5;124;43m'\u001b[39;49m\u001b[43m)\u001b[49m\n",
      "File \u001b[0;32m/home/holtz/git/pyvista/python/pyvista/spectra.py:84\u001b[0m, in \u001b[0;36mWaveCal.__init__\u001b[0;34m(self, file, type, degree, ydegree, pix0, index, hdu, orders)\u001b[0m\n\u001b[1;32m     82\u001b[0m     tab\u001b[38;5;241m=\u001b[39mTable(file)\n\u001b[1;32m     83\u001b[0m \u001b[38;5;28;01melif\u001b[39;00m \u001b[38;5;28mstr\u001b[39m(file)[\u001b[38;5;241m0\u001b[39m] \u001b[38;5;241m==\u001b[39m \u001b[38;5;124m'\u001b[39m\u001b[38;5;124m.\u001b[39m\u001b[38;5;124m'\u001b[39m \u001b[38;5;129;01mor\u001b[39;00m \u001b[38;5;28mstr\u001b[39m(file)[\u001b[38;5;241m0\u001b[39m] \u001b[38;5;241m==\u001b[39m \u001b[38;5;124m'\u001b[39m\u001b[38;5;124m/\u001b[39m\u001b[38;5;124m'\u001b[39m :\n\u001b[0;32m---> 84\u001b[0m     tab\u001b[38;5;241m=\u001b[39m\u001b[43mTable\u001b[49m\u001b[38;5;241;43m.\u001b[39;49m\u001b[43mread\u001b[49m\u001b[43m(\u001b[49m\u001b[43mfile\u001b[49m\u001b[43m,\u001b[49m\u001b[43mhdu\u001b[49m\u001b[38;5;241;43m=\u001b[39;49m\u001b[43mhdu\u001b[49m\u001b[43m)\u001b[49m\n\u001b[1;32m     85\u001b[0m \u001b[38;5;28;01melse\u001b[39;00m :\n\u001b[1;32m     86\u001b[0m     tab\u001b[38;5;241m=\u001b[39mTable\u001b[38;5;241m.\u001b[39mread(files(pyvista\u001b[38;5;241m.\u001b[39mdata)\u001b[38;5;241m.\u001b[39mjoinpath(file),hdu\u001b[38;5;241m=\u001b[39mhdu)\n",
      "File \u001b[0;32m/home/local/Anaconda3-2020.02/envs/py3.9/lib/python3.9/site-packages/astropy/table/connect.py:62\u001b[0m, in \u001b[0;36mTableRead.__call__\u001b[0;34m(self, *args, **kwargs)\u001b[0m\n\u001b[1;32m     59\u001b[0m units \u001b[38;5;241m=\u001b[39m kwargs\u001b[38;5;241m.\u001b[39mpop(\u001b[38;5;124m'\u001b[39m\u001b[38;5;124munits\u001b[39m\u001b[38;5;124m'\u001b[39m, \u001b[38;5;28;01mNone\u001b[39;00m)\n\u001b[1;32m     60\u001b[0m descriptions \u001b[38;5;241m=\u001b[39m kwargs\u001b[38;5;241m.\u001b[39mpop(\u001b[38;5;124m'\u001b[39m\u001b[38;5;124mdescriptions\u001b[39m\u001b[38;5;124m'\u001b[39m, \u001b[38;5;28;01mNone\u001b[39;00m)\n\u001b[0;32m---> 62\u001b[0m out \u001b[38;5;241m=\u001b[39m \u001b[38;5;28;43mself\u001b[39;49m\u001b[38;5;241;43m.\u001b[39;49m\u001b[43mregistry\u001b[49m\u001b[38;5;241;43m.\u001b[39;49m\u001b[43mread\u001b[49m\u001b[43m(\u001b[49m\u001b[38;5;28;43mcls\u001b[39;49m\u001b[43m,\u001b[49m\u001b[43m \u001b[49m\u001b[38;5;241;43m*\u001b[39;49m\u001b[43margs\u001b[49m\u001b[43m,\u001b[49m\u001b[43m \u001b[49m\u001b[38;5;241;43m*\u001b[39;49m\u001b[38;5;241;43m*\u001b[39;49m\u001b[43mkwargs\u001b[49m\u001b[43m)\u001b[49m\n\u001b[1;32m     64\u001b[0m \u001b[38;5;66;03m# For some readers (e.g., ascii.ecsv), the returned `out` class is not\u001b[39;00m\n\u001b[1;32m     65\u001b[0m \u001b[38;5;66;03m# guaranteed to be the same as the desired output `cls`.  If so,\u001b[39;00m\n\u001b[1;32m     66\u001b[0m \u001b[38;5;66;03m# try coercing to desired class without copying (io.registry.read\u001b[39;00m\n\u001b[1;32m     67\u001b[0m \u001b[38;5;66;03m# would normally do a copy).  The normal case here is swapping\u001b[39;00m\n\u001b[1;32m     68\u001b[0m \u001b[38;5;66;03m# Table <=> QTable.\u001b[39;00m\n\u001b[1;32m     69\u001b[0m \u001b[38;5;28;01mif\u001b[39;00m \u001b[38;5;28mcls\u001b[39m \u001b[38;5;129;01mis\u001b[39;00m \u001b[38;5;129;01mnot\u001b[39;00m out\u001b[38;5;241m.\u001b[39m\u001b[38;5;18m__class__\u001b[39m:\n",
      "File \u001b[0;32m/home/local/Anaconda3-2020.02/envs/py3.9/lib/python3.9/site-packages/astropy/io/registry/core.py:184\u001b[0m, in \u001b[0;36mUnifiedInputRegistry.read\u001b[0;34m(self, cls, format, cache, *args, **kwargs)\u001b[0m\n\u001b[1;32m    182\u001b[0m \u001b[38;5;28;01mtry\u001b[39;00m:\n\u001b[1;32m    183\u001b[0m     ctx \u001b[38;5;241m=\u001b[39m get_readable_fileobj(args[\u001b[38;5;241m0\u001b[39m], encoding\u001b[38;5;241m=\u001b[39m\u001b[38;5;124m'\u001b[39m\u001b[38;5;124mbinary\u001b[39m\u001b[38;5;124m'\u001b[39m, cache\u001b[38;5;241m=\u001b[39mcache)\n\u001b[0;32m--> 184\u001b[0m     fileobj \u001b[38;5;241m=\u001b[39m \u001b[43mctx\u001b[49m\u001b[38;5;241;43m.\u001b[39;49m\u001b[38;5;21;43m__enter__\u001b[39;49m\u001b[43m(\u001b[49m\u001b[43m)\u001b[49m\n\u001b[1;32m    185\u001b[0m \u001b[38;5;28;01mexcept\u001b[39;00m \u001b[38;5;167;01mOSError\u001b[39;00m:\n\u001b[1;32m    186\u001b[0m     \u001b[38;5;28;01mraise\u001b[39;00m\n",
      "File \u001b[0;32m/home/local/Anaconda3-2020.02/envs/py3.9/lib/python3.9/contextlib.py:119\u001b[0m, in \u001b[0;36m_GeneratorContextManager.__enter__\u001b[0;34m(self)\u001b[0m\n\u001b[1;32m    117\u001b[0m \u001b[38;5;28;01mdel\u001b[39;00m \u001b[38;5;28mself\u001b[39m\u001b[38;5;241m.\u001b[39margs, \u001b[38;5;28mself\u001b[39m\u001b[38;5;241m.\u001b[39mkwds, \u001b[38;5;28mself\u001b[39m\u001b[38;5;241m.\u001b[39mfunc\n\u001b[1;32m    118\u001b[0m \u001b[38;5;28;01mtry\u001b[39;00m:\n\u001b[0;32m--> 119\u001b[0m     \u001b[38;5;28;01mreturn\u001b[39;00m \u001b[38;5;28;43mnext\u001b[39;49m\u001b[43m(\u001b[49m\u001b[38;5;28;43mself\u001b[39;49m\u001b[38;5;241;43m.\u001b[39;49m\u001b[43mgen\u001b[49m\u001b[43m)\u001b[49m\n\u001b[1;32m    120\u001b[0m \u001b[38;5;28;01mexcept\u001b[39;00m \u001b[38;5;167;01mStopIteration\u001b[39;00m:\n\u001b[1;32m    121\u001b[0m     \u001b[38;5;28;01mraise\u001b[39;00m \u001b[38;5;167;01mRuntimeError\u001b[39;00m(\u001b[38;5;124m\"\u001b[39m\u001b[38;5;124mgenerator didn\u001b[39m\u001b[38;5;124m'\u001b[39m\u001b[38;5;124mt yield\u001b[39m\u001b[38;5;124m\"\u001b[39m) \u001b[38;5;28;01mfrom\u001b[39;00m \u001b[38;5;28mNone\u001b[39m\n",
      "File \u001b[0;32m/home/local/Anaconda3-2020.02/envs/py3.9/lib/python3.9/site-packages/astropy/utils/data.py:271\u001b[0m, in \u001b[0;36mget_readable_fileobj\u001b[0;34m(name_or_obj, encoding, cache, show_progress, remote_timeout, sources, http_headers)\u001b[0m\n\u001b[1;32m    266\u001b[0m \u001b[38;5;28;01mif\u001b[39;00m is_url:\n\u001b[1;32m    267\u001b[0m     name_or_obj \u001b[38;5;241m=\u001b[39m download_file(\n\u001b[1;32m    268\u001b[0m         name_or_obj, cache\u001b[38;5;241m=\u001b[39mcache, show_progress\u001b[38;5;241m=\u001b[39mshow_progress,\n\u001b[1;32m    269\u001b[0m         timeout\u001b[38;5;241m=\u001b[39mremote_timeout, sources\u001b[38;5;241m=\u001b[39msources,\n\u001b[1;32m    270\u001b[0m         http_headers\u001b[38;5;241m=\u001b[39mhttp_headers)\n\u001b[0;32m--> 271\u001b[0m fileobj \u001b[38;5;241m=\u001b[39m \u001b[43mio\u001b[49m\u001b[38;5;241;43m.\u001b[39;49m\u001b[43mFileIO\u001b[49m\u001b[43m(\u001b[49m\u001b[43mname_or_obj\u001b[49m\u001b[43m,\u001b[49m\u001b[43m \u001b[49m\u001b[38;5;124;43m'\u001b[39;49m\u001b[38;5;124;43mr\u001b[39;49m\u001b[38;5;124;43m'\u001b[39;49m\u001b[43m)\u001b[49m\n\u001b[1;32m    272\u001b[0m \u001b[38;5;28;01mif\u001b[39;00m is_url \u001b[38;5;129;01mand\u001b[39;00m \u001b[38;5;129;01mnot\u001b[39;00m cache:\n\u001b[1;32m    273\u001b[0m     delete_fds\u001b[38;5;241m.\u001b[39mappend(fileobj)\n",
      "\u001b[0;31mFileNotFoundError\u001b[0m: [Errno 2] No such file or directory: './KOSMOS_HeNe.fits'"
     ]
    }
   ],
   "source": [
    "red=imred.Reducer('KOSMOS',dir='/home/holtz/raw/apo/oct21/UT211020',verbose=False)\n",
    "trace=spectra.Trace('KOSMOS/KOSMOS_trace.fits')\n",
    "wav=spectra.WaveCal('./KOSMOS_HeNe.fits')"
   ]
  },
  {
   "cell_type": "markdown",
   "metadata": {},
   "source": [
    "Look at series of HeNe images taken on UT211020 at different rotator positions:\n",
    "<pre>\n",
    "He_Ne_rot172.6.0006.fits\n",
    "He_Ne_rot124.9.0009.fits\n",
    "He_Ne_rot77.5.0012.fits\n",
    "He_Ne_rot29.9.0015.fits\n",
    "He_Ne_rot-17.2.0018.fits\n",
    "He_Ne_rot-64.4.0021.fits\n",
    "He_Ne_rot-111.7.0024.fits\n",
    "He_Ne_rot-158.8.0027.fits\n",
    "</pre>\n",
    "For each one, extract a spectrum from center of slit and get a wavelength solution, which is a 3rd order polynomial fit.\n",
    "\n",
    "As previously noted, the differences between the wavelength solutions are more than a shift, there is a \"slope\" change in the solution as well, i.e. a change in the linear dispersion term. It's not totally clear if it is just a linear slope change; that describes it well at longer wavelengths, but there is some possible hint of some discrepancy at shorter wavelengths.\n",
    "\n",
    "In any case, determine a slope of the dispersion change from the longer wavelength lines.\n",
    "\n",
    "At the same time, measure the line widths (which are very wide!).\n",
    "\n",
    "Plot the changes in the pixel locations relative to the first rotator position, the measured FWHM, and the slope vs mean FWHM of the red lines.\n",
    "\n"
   ]
  },
  {
   "cell_type": "code",
   "execution_count": null,
   "metadata": {},
   "outputs": [],
   "source": []
  },
  {
   "cell_type": "code",
   "execution_count": null,
   "metadata": {},
   "outputs": [],
   "source": [
    "fig,ax=plots.multi(1,3,figsize=(8,12))\n",
    "waves=[]\n",
    "pixels=[]\n",
    "for im in [6,9,12,15,18,21,24,27] :\n",
    "    # read and bias subtract\n",
    "    hene=red.reduce(im)\n",
    "    # extract\n",
    "    heneec=trace.extract(hene)\n",
    "    # wavelength calibrate\n",
    "    wav=spectra.WaveCal('./KOSMOS_HeNe.fits')\n",
    "    \n",
    "    wav.identify(heneec,thresh=50,plot=None,rad=7)\n",
    "    \n",
    "    # save pixels of lines\n",
    "    pixels.append(wav.pix)\n",
    "\n",
    "    # plot pixel locations relative to those of first images\n",
    "    lab='{:d} {:f}'.format(im,hene.header['TELROT'])\n",
    "    ax[0].scatter(wav.waves,wav.pix-pixels[0],label=lab)\n",
    "    # fit slope of pixel differences as f(wavelength) and plot fit\n",
    "    fit=np.polyfit(wav.waves[4:],wav.pix[4:]-pixels[0][4:],deg=1)\n",
    "    x=np.arange(4500,7000)\n",
    "    ax[0].plot(x,fit[0]*x+fit[1])\n",
    "    \n",
    "    #plot FWHM of lines\n",
    "    ax[1].scatter(wav.waves,wav.fwhm,label=lab)\n",
    "    \n",
    "    # slope vs FWHM\n",
    "    ax[2].scatter(fit[0],wav.fwhm[4:].mean(),label=lab)\n",
    "    \n",
    "ax[0].set_ylabel('Pixel shift of line from initial rot')\n",
    "ax[0].set_xlabel('Wavelength')\n",
    "ax[0].legend()\n",
    "ax[1].set_ylabel('FWHM of line')\n",
    "ax[1].set_xlabel('Wavelength')\n",
    "ax[1].legend()\n",
    "ax[2].set_ylabel('FWHM of line')\n",
    "ax[2].set_xlabel('Slope of pixel shift')\n",
    "ax[2].set_xlim(-0.0008,0.0001)\n",
    "ax[2].legend()\n",
    "fig.tight_layout()\n"
   ]
  },
  {
   "cell_type": "markdown",
   "metadata": {},
   "source": [
    "There sees to be a correlation between the dispersion change and the FWHM changes. \n",
    "\n",
    "Is this possibly indicative of a scale change? Could this be caused by a shift in the collimator relative to focal plane?"
   ]
  },
  {
   "cell_type": "markdown",
   "metadata": {},
   "source": [
    "Check to determine whether this is actually just a fixed shift in pixels, i.e. are we getting fooled by not having a sufficiently constant dispersions so that the shift in wavelength is a fucntion of wavelength? Do this by inverting the wavelength solutions, and comparing.\n",
    "<p>\n",
    "Actually, we already did this above by plotting the pixels shifts, not the wavelength shifts!"
   ]
  },
  {
   "cell_type": "code",
   "execution_count": 4,
   "metadata": {},
   "outputs": [
    {
     "name": "stdout",
     "output_type": "stream",
     "text": [
      "INFO: array provided for uncertainty; assuming it is a StdDevUncertainty. [astropy.nddata.ccddata]\n",
      "  extracting ... (may take some time,\n",
      "                   consider threads= if multithreading is available\n",
      "\n"
     ]
    },
    {
     "ename": "FileNotFoundError",
     "evalue": "[Errno 2] No such file or directory: './KOSMOS_HeNe.fits'",
     "output_type": "error",
     "traceback": [
      "\u001b[0;31m---------------------------------------------------------------------------\u001b[0m",
      "\u001b[0;31mFileNotFoundError\u001b[0m                         Traceback (most recent call last)",
      "Input \u001b[0;32mIn [4]\u001b[0m, in \u001b[0;36m<module>\u001b[0;34m\u001b[0m\n\u001b[1;32m      4\u001b[0m heneec\u001b[38;5;241m=\u001b[39mtrace\u001b[38;5;241m.\u001b[39mextract(hene)\n\u001b[1;32m      5\u001b[0m \u001b[38;5;66;03m# wavelength calibrate\u001b[39;00m\n\u001b[0;32m----> 6\u001b[0m wav6\u001b[38;5;241m=\u001b[39m\u001b[43mspectra\u001b[49m\u001b[38;5;241;43m.\u001b[39;49m\u001b[43mWaveCal\u001b[49m\u001b[43m(\u001b[49m\u001b[38;5;124;43m'\u001b[39;49m\u001b[38;5;124;43m./KOSMOS_HeNe.fits\u001b[39;49m\u001b[38;5;124;43m'\u001b[39;49m\u001b[43m)\u001b[49m\n\u001b[1;32m      7\u001b[0m wav6\u001b[38;5;241m.\u001b[39midentify(heneec,thresh\u001b[38;5;241m=\u001b[39m\u001b[38;5;241m50\u001b[39m,plot\u001b[38;5;241m=\u001b[39m\u001b[38;5;28;01mNone\u001b[39;00m,rad\u001b[38;5;241m=\u001b[39m\u001b[38;5;241m7\u001b[39m)\n\u001b[1;32m      8\u001b[0m wav6\u001b[38;5;241m.\u001b[39madd_wave(heneec)\n",
      "File \u001b[0;32m/home/holtz/git/pyvista/python/pyvista/spectra.py:84\u001b[0m, in \u001b[0;36mWaveCal.__init__\u001b[0;34m(self, file, type, degree, ydegree, pix0, index)\u001b[0m\n\u001b[1;32m     82\u001b[0m     tab\u001b[38;5;241m=\u001b[39mTable(file)\n\u001b[1;32m     83\u001b[0m \u001b[38;5;28;01melif\u001b[39;00m \u001b[38;5;28mstr\u001b[39m(file)[\u001b[38;5;241m0\u001b[39m] \u001b[38;5;241m==\u001b[39m \u001b[38;5;124m'\u001b[39m\u001b[38;5;124m.\u001b[39m\u001b[38;5;124m'\u001b[39m \u001b[38;5;129;01mor\u001b[39;00m \u001b[38;5;28mstr\u001b[39m(file)[\u001b[38;5;241m0\u001b[39m] \u001b[38;5;241m==\u001b[39m \u001b[38;5;124m'\u001b[39m\u001b[38;5;124m/\u001b[39m\u001b[38;5;124m'\u001b[39m :\n\u001b[0;32m---> 84\u001b[0m     tab\u001b[38;5;241m=\u001b[39m\u001b[43mTable\u001b[49m\u001b[38;5;241;43m.\u001b[39;49m\u001b[43mread\u001b[49m\u001b[43m(\u001b[49m\u001b[43mfile\u001b[49m\u001b[43m)\u001b[49m\n\u001b[1;32m     85\u001b[0m \u001b[38;5;28;01melse\u001b[39;00m :\n\u001b[1;32m     86\u001b[0m     tab\u001b[38;5;241m=\u001b[39mTable\u001b[38;5;241m.\u001b[39mread(files(pyvista\u001b[38;5;241m.\u001b[39mdata)\u001b[38;5;241m.\u001b[39mjoinpath(file))\n",
      "File \u001b[0;32m/home/local/Anaconda3-2020.02/envs/py3.9/lib/python3.9/site-packages/astropy/table/connect.py:62\u001b[0m, in \u001b[0;36mTableRead.__call__\u001b[0;34m(self, *args, **kwargs)\u001b[0m\n\u001b[1;32m     59\u001b[0m units \u001b[38;5;241m=\u001b[39m kwargs\u001b[38;5;241m.\u001b[39mpop(\u001b[38;5;124m'\u001b[39m\u001b[38;5;124munits\u001b[39m\u001b[38;5;124m'\u001b[39m, \u001b[38;5;28;01mNone\u001b[39;00m)\n\u001b[1;32m     60\u001b[0m descriptions \u001b[38;5;241m=\u001b[39m kwargs\u001b[38;5;241m.\u001b[39mpop(\u001b[38;5;124m'\u001b[39m\u001b[38;5;124mdescriptions\u001b[39m\u001b[38;5;124m'\u001b[39m, \u001b[38;5;28;01mNone\u001b[39;00m)\n\u001b[0;32m---> 62\u001b[0m out \u001b[38;5;241m=\u001b[39m \u001b[38;5;28;43mself\u001b[39;49m\u001b[38;5;241;43m.\u001b[39;49m\u001b[43mregistry\u001b[49m\u001b[38;5;241;43m.\u001b[39;49m\u001b[43mread\u001b[49m\u001b[43m(\u001b[49m\u001b[38;5;28;43mcls\u001b[39;49m\u001b[43m,\u001b[49m\u001b[43m \u001b[49m\u001b[38;5;241;43m*\u001b[39;49m\u001b[43margs\u001b[49m\u001b[43m,\u001b[49m\u001b[43m \u001b[49m\u001b[38;5;241;43m*\u001b[39;49m\u001b[38;5;241;43m*\u001b[39;49m\u001b[43mkwargs\u001b[49m\u001b[43m)\u001b[49m\n\u001b[1;32m     64\u001b[0m \u001b[38;5;66;03m# For some readers (e.g., ascii.ecsv), the returned `out` class is not\u001b[39;00m\n\u001b[1;32m     65\u001b[0m \u001b[38;5;66;03m# guaranteed to be the same as the desired output `cls`.  If so,\u001b[39;00m\n\u001b[1;32m     66\u001b[0m \u001b[38;5;66;03m# try coercing to desired class without copying (io.registry.read\u001b[39;00m\n\u001b[1;32m     67\u001b[0m \u001b[38;5;66;03m# would normally do a copy).  The normal case here is swapping\u001b[39;00m\n\u001b[1;32m     68\u001b[0m \u001b[38;5;66;03m# Table <=> QTable.\u001b[39;00m\n\u001b[1;32m     69\u001b[0m \u001b[38;5;28;01mif\u001b[39;00m \u001b[38;5;28mcls\u001b[39m \u001b[38;5;129;01mis\u001b[39;00m \u001b[38;5;129;01mnot\u001b[39;00m out\u001b[38;5;241m.\u001b[39m\u001b[38;5;18m__class__\u001b[39m:\n",
      "File \u001b[0;32m/home/local/Anaconda3-2020.02/envs/py3.9/lib/python3.9/site-packages/astropy/io/registry/core.py:184\u001b[0m, in \u001b[0;36mUnifiedInputRegistry.read\u001b[0;34m(self, cls, format, cache, *args, **kwargs)\u001b[0m\n\u001b[1;32m    182\u001b[0m \u001b[38;5;28;01mtry\u001b[39;00m:\n\u001b[1;32m    183\u001b[0m     ctx \u001b[38;5;241m=\u001b[39m get_readable_fileobj(args[\u001b[38;5;241m0\u001b[39m], encoding\u001b[38;5;241m=\u001b[39m\u001b[38;5;124m'\u001b[39m\u001b[38;5;124mbinary\u001b[39m\u001b[38;5;124m'\u001b[39m, cache\u001b[38;5;241m=\u001b[39mcache)\n\u001b[0;32m--> 184\u001b[0m     fileobj \u001b[38;5;241m=\u001b[39m \u001b[43mctx\u001b[49m\u001b[38;5;241;43m.\u001b[39;49m\u001b[38;5;21;43m__enter__\u001b[39;49m\u001b[43m(\u001b[49m\u001b[43m)\u001b[49m\n\u001b[1;32m    185\u001b[0m \u001b[38;5;28;01mexcept\u001b[39;00m \u001b[38;5;167;01mOSError\u001b[39;00m:\n\u001b[1;32m    186\u001b[0m     \u001b[38;5;28;01mraise\u001b[39;00m\n",
      "File \u001b[0;32m/home/local/Anaconda3-2020.02/envs/py3.9/lib/python3.9/contextlib.py:119\u001b[0m, in \u001b[0;36m_GeneratorContextManager.__enter__\u001b[0;34m(self)\u001b[0m\n\u001b[1;32m    117\u001b[0m \u001b[38;5;28;01mdel\u001b[39;00m \u001b[38;5;28mself\u001b[39m\u001b[38;5;241m.\u001b[39margs, \u001b[38;5;28mself\u001b[39m\u001b[38;5;241m.\u001b[39mkwds, \u001b[38;5;28mself\u001b[39m\u001b[38;5;241m.\u001b[39mfunc\n\u001b[1;32m    118\u001b[0m \u001b[38;5;28;01mtry\u001b[39;00m:\n\u001b[0;32m--> 119\u001b[0m     \u001b[38;5;28;01mreturn\u001b[39;00m \u001b[38;5;28;43mnext\u001b[39;49m\u001b[43m(\u001b[49m\u001b[38;5;28;43mself\u001b[39;49m\u001b[38;5;241;43m.\u001b[39;49m\u001b[43mgen\u001b[49m\u001b[43m)\u001b[49m\n\u001b[1;32m    120\u001b[0m \u001b[38;5;28;01mexcept\u001b[39;00m \u001b[38;5;167;01mStopIteration\u001b[39;00m:\n\u001b[1;32m    121\u001b[0m     \u001b[38;5;28;01mraise\u001b[39;00m \u001b[38;5;167;01mRuntimeError\u001b[39;00m(\u001b[38;5;124m\"\u001b[39m\u001b[38;5;124mgenerator didn\u001b[39m\u001b[38;5;124m'\u001b[39m\u001b[38;5;124mt yield\u001b[39m\u001b[38;5;124m\"\u001b[39m) \u001b[38;5;28;01mfrom\u001b[39;00m \u001b[38;5;28mNone\u001b[39m\n",
      "File \u001b[0;32m/home/local/Anaconda3-2020.02/envs/py3.9/lib/python3.9/site-packages/astropy/utils/data.py:271\u001b[0m, in \u001b[0;36mget_readable_fileobj\u001b[0;34m(name_or_obj, encoding, cache, show_progress, remote_timeout, sources, http_headers)\u001b[0m\n\u001b[1;32m    266\u001b[0m \u001b[38;5;28;01mif\u001b[39;00m is_url:\n\u001b[1;32m    267\u001b[0m     name_or_obj \u001b[38;5;241m=\u001b[39m download_file(\n\u001b[1;32m    268\u001b[0m         name_or_obj, cache\u001b[38;5;241m=\u001b[39mcache, show_progress\u001b[38;5;241m=\u001b[39mshow_progress,\n\u001b[1;32m    269\u001b[0m         timeout\u001b[38;5;241m=\u001b[39mremote_timeout, sources\u001b[38;5;241m=\u001b[39msources,\n\u001b[1;32m    270\u001b[0m         http_headers\u001b[38;5;241m=\u001b[39mhttp_headers)\n\u001b[0;32m--> 271\u001b[0m fileobj \u001b[38;5;241m=\u001b[39m \u001b[43mio\u001b[49m\u001b[38;5;241;43m.\u001b[39;49m\u001b[43mFileIO\u001b[49m\u001b[43m(\u001b[49m\u001b[43mname_or_obj\u001b[49m\u001b[43m,\u001b[49m\u001b[43m \u001b[49m\u001b[38;5;124;43m'\u001b[39;49m\u001b[38;5;124;43mr\u001b[39;49m\u001b[38;5;124;43m'\u001b[39;49m\u001b[43m)\u001b[49m\n\u001b[1;32m    272\u001b[0m \u001b[38;5;28;01mif\u001b[39;00m is_url \u001b[38;5;129;01mand\u001b[39;00m \u001b[38;5;129;01mnot\u001b[39;00m cache:\n\u001b[1;32m    273\u001b[0m     delete_fds\u001b[38;5;241m.\u001b[39mappend(fileobj)\n",
      "\u001b[0;31mFileNotFoundError\u001b[0m: [Errno 2] No such file or directory: './KOSMOS_HeNe.fits'"
     ]
    }
   ],
   "source": [
    "#get inverse relation, i.e. pixels as f(wavelength)\n",
    "hene=red.reduce(6)\n",
    "# extract\n",
    "heneec=trace.extract(hene)\n",
    "# wavelength calibrate\n",
    "wav6=spectra.WaveCal('./KOSMOS_HeNe.fits')\n",
    "wav6.identify(heneec,thresh=50,plot=None,rad=7)\n",
    "wav6.add_wave(heneec)\n",
    "pix=np.arange(4096)\n",
    "from scipy.interpolate import CubicSpline\n",
    "wav2pix6=CubicSpline(np.flip(heneec.wave[0]),np.flip(pix))\n",
    "\n",
    "#get inverse relation, i.e. pixels as f(wavelength)\n",
    "hene=red.reduce(15)\n",
    "# extract\n",
    "heneec=trace.extract(hene)\n",
    "# wavelength calibrate\n",
    "wav15=spectra.WaveCal('./KOSMOS_HeNe.fits')\n",
    "wav15.identify(heneec,thresh=50,plot=None,rad=7)\n",
    "wav15.add_wave(heneec)\n",
    "pix=np.arange(4096)\n",
    "from scipy.interpolate import CubicSpline\n",
    "wav2pix15=CubicSpline(np.flip(heneec.wave[0]),np.flip(pix))\n",
    "\n",
    "plt.plot(np.arange(4500,7000),wav2pix6(np.arange(4500,7000))-wav2pix15(np.arange(4500,7000)))\n"
   ]
  },
  {
   "cell_type": "markdown",
   "metadata": {},
   "source": [
    "OK, what about the internal cals, taken with Ne and Kr lamps?\n",
    "\n",
    "Start by transferring wavelength solution from some other frames for a starting guess, but unfortunately having a hard time seeing Kr lines in these images, so wavelength range is limited"
   ]
  },
  {
   "cell_type": "code",
   "execution_count": null,
   "metadata": {},
   "outputs": [],
   "source": [
    "wav=spectra.WaveCal('./KOSMOS_NeKr.fits')\n",
    "#im=red.reduce(5)\n",
    "#imec=trace.extract(im)\n",
    "#wav.identify(imec,plot=True)"
   ]
  },
  {
   "cell_type": "markdown",
   "metadata": {},
   "source": [
    "OK, now do the same analysis for the set of NeKr images\n",
    "<pre>\n",
    "Ne_Kr_rot172.6.0005.fits\n",
    "Ne_Kr_rot124.9.0008.fits\n",
    "Ne_Kr_rot77.5.0011.fits\n",
    "Ne_Kr_rot29.9.0014.fits\n",
    "Ne_Kr_rot-17.2.0017.fits\n",
    "Ne_Kr_rot-64.4.0020.fits\n",
    "Ne_Kr_rot-111.7.0023.fits\n",
    "Ne_Kr_rot-158.8.0026.fits\n",
    "</pre<>"
   ]
  },
  {
   "cell_type": "code",
   "execution_count": 5,
   "metadata": {},
   "outputs": [
    {
     "name": "stdout",
     "output_type": "stream",
     "text": [
      "INFO: array provided for uncertainty; assuming it is a StdDevUncertainty. [astropy.nddata.ccddata]\n",
      "  extracting ... (may take some time,\n",
      "                   consider threads= if multithreading is available\n",
      "\n"
     ]
    },
    {
     "ename": "NameError",
     "evalue": "name 'wav' is not defined",
     "output_type": "error",
     "traceback": [
      "\u001b[0;31m---------------------------------------------------------------------------\u001b[0m",
      "\u001b[0;31mNameError\u001b[0m                                 Traceback (most recent call last)",
      "Input \u001b[0;32mIn [5]\u001b[0m, in \u001b[0;36m<module>\u001b[0;34m\u001b[0m\n\u001b[1;32m      8\u001b[0m nekrec\u001b[38;5;241m=\u001b[39mtrace\u001b[38;5;241m.\u001b[39mextract(nekr)\n\u001b[1;32m      9\u001b[0m \u001b[38;5;66;03m# wavelength calibrate\u001b[39;00m\n\u001b[0;32m---> 10\u001b[0m \u001b[43mwav\u001b[49m\u001b[38;5;241m.\u001b[39midentify(nekrec,thresh\u001b[38;5;241m=\u001b[39m\u001b[38;5;241m50\u001b[39m,rad\u001b[38;5;241m=\u001b[39m\u001b[38;5;241m7\u001b[39m)\n\u001b[1;32m     12\u001b[0m \u001b[38;5;66;03m# save pixels of lines\u001b[39;00m\n\u001b[1;32m     13\u001b[0m pixels\u001b[38;5;241m.\u001b[39mappend(wav\u001b[38;5;241m.\u001b[39mpix)\n",
      "\u001b[0;31mNameError\u001b[0m: name 'wav' is not defined"
     ]
    },
    {
     "data": {
      "image/png": "[encoded data removed]",
      "text/plain": [
       "<Figure size 576x864 with 3 Axes>"
      ]
     },
     "metadata": {
      "needs_background": "light"
     },
     "output_type": "display_data"
    }
   ],
   "source": [
    "fig,ax=plots.multi(1,3,figsize=(8,12))\n",
    "waves=[]\n",
    "pixels=[]\n",
    "for im in [5,8,11,14,17,20,23,26] :\n",
    "    # read and bias subtract\n",
    "    nekr=red.reduce(im)\n",
    "    # extract\n",
    "    nekrec=trace.extract(nekr)\n",
    "    # wavelength calibrate\n",
    "    wav.identify(nekrec,thresh=50,rad=7)\n",
    "    \n",
    "    # save pixels of lines\n",
    "    pixels.append(wav.pix)\n",
    "    lab='{:d} {:f}'.format(im,nekr.header['TELROT'])\n",
    "    \n",
    "    # plot pixel locations relative to those of first images\n",
    "    ax[0].scatter(wav.waves,wav.pix-pixels[0],label=lab)\n",
    "    # fit slope of pixel differences as f(wavelength) and plot fit\n",
    "    fit=np.polyfit(wav.waves[4:],wav.pix[4:]-pixels[0][4:],deg=1)\n",
    "    x=np.arange(4500,7000)\n",
    "    ax[0].plot(x,fit[0]*x+fit[1])\n",
    "    \n",
    "    #plot FWHM of lines\n",
    "    ax[1].scatter(wav.waves,wav.fwhm,label=lab)\n",
    "    \n",
    "    # slope vs FWHM\n",
    "    ax[2].scatter(fit[0],wav.fwhm[4:].mean(),label=lab)\n",
    "    \n",
    "ax[0].set_ylabel('Pixel shift of line from initial rot')\n",
    "ax[0].set_xlabel('Wavelength')\n",
    "ax[0].legend()\n",
    "ax[1].set_ylabel('FWHM of line')\n",
    "ax[1].set_xlabel('Wavelength')\n",
    "ax[1].legend()\n",
    "ax[2].set_ylabel('FWHM of line')\n",
    "ax[2].set_xlabel('Slope of pixel shift')\n",
    "ax[2].set_xlim(-0.0008,0.0001)\n",
    "ax[2].legend()\n",
    "fig.tight_layout()\n"
   ]
  },
  {
   "cell_type": "markdown",
   "metadata": {},
   "source": [
    "The wavelength range is limited, but it does  perhaps seem that these slope changes are not matching those for the external lamps ...\n",
    "\n",
    "A correlation between slope and FWHm still seems to exist."
   ]
  },
  {
   "cell_type": "markdown",
   "metadata": {},
   "source": [
    "<h3> Internal vs external lamps"
   ]
  },
  {
   "cell_type": "markdown",
   "metadata": {},
   "source": [
    "How do wavelength scales from internal and external lamps compare?"
   ]
  },
  {
   "cell_type": "code",
   "execution_count": 6,
   "metadata": {},
   "outputs": [
    {
     "ename": "FileNotFoundError",
     "evalue": "[Errno 2] No such file or directory: './KOSMOS_HeNe.fits'",
     "output_type": "error",
     "traceback": [
      "\u001b[0;31m---------------------------------------------------------------------------\u001b[0m",
      "\u001b[0;31mFileNotFoundError\u001b[0m                         Traceback (most recent call last)",
      "Input \u001b[0;32mIn [6]\u001b[0m, in \u001b[0;36m<module>\u001b[0;34m\u001b[0m\n\u001b[1;32m      1\u001b[0m get_ipython()\u001b[38;5;241m.\u001b[39mrun_line_magic(\u001b[38;5;124m'\u001b[39m\u001b[38;5;124mmatplotlib\u001b[39m\u001b[38;5;124m'\u001b[39m, \u001b[38;5;124m'\u001b[39m\u001b[38;5;124mqt\u001b[39m\u001b[38;5;124m'\u001b[39m)\n\u001b[0;32m----> 2\u001b[0m extwav\u001b[38;5;241m=\u001b[39m\u001b[43mspectra\u001b[49m\u001b[38;5;241;43m.\u001b[39;49m\u001b[43mWaveCal\u001b[49m\u001b[43m(\u001b[49m\u001b[38;5;124;43m'\u001b[39;49m\u001b[38;5;124;43m./KOSMOS_HeNe.fits\u001b[39;49m\u001b[38;5;124;43m'\u001b[39;49m\u001b[43m)\u001b[49m\n\u001b[1;32m      3\u001b[0m hene\u001b[38;5;241m=\u001b[39mred\u001b[38;5;241m.\u001b[39mreduce(\u001b[38;5;241m6\u001b[39m)\n\u001b[1;32m      4\u001b[0m \u001b[38;5;66;03m# extract\u001b[39;00m\n",
      "File \u001b[0;32m/home/holtz/git/pyvista/python/pyvista/spectra.py:84\u001b[0m, in \u001b[0;36mWaveCal.__init__\u001b[0;34m(self, file, type, degree, ydegree, pix0, index)\u001b[0m\n\u001b[1;32m     82\u001b[0m     tab\u001b[38;5;241m=\u001b[39mTable(file)\n\u001b[1;32m     83\u001b[0m \u001b[38;5;28;01melif\u001b[39;00m \u001b[38;5;28mstr\u001b[39m(file)[\u001b[38;5;241m0\u001b[39m] \u001b[38;5;241m==\u001b[39m \u001b[38;5;124m'\u001b[39m\u001b[38;5;124m.\u001b[39m\u001b[38;5;124m'\u001b[39m \u001b[38;5;129;01mor\u001b[39;00m \u001b[38;5;28mstr\u001b[39m(file)[\u001b[38;5;241m0\u001b[39m] \u001b[38;5;241m==\u001b[39m \u001b[38;5;124m'\u001b[39m\u001b[38;5;124m/\u001b[39m\u001b[38;5;124m'\u001b[39m :\n\u001b[0;32m---> 84\u001b[0m     tab\u001b[38;5;241m=\u001b[39m\u001b[43mTable\u001b[49m\u001b[38;5;241;43m.\u001b[39;49m\u001b[43mread\u001b[49m\u001b[43m(\u001b[49m\u001b[43mfile\u001b[49m\u001b[43m)\u001b[49m\n\u001b[1;32m     85\u001b[0m \u001b[38;5;28;01melse\u001b[39;00m :\n\u001b[1;32m     86\u001b[0m     tab\u001b[38;5;241m=\u001b[39mTable\u001b[38;5;241m.\u001b[39mread(files(pyvista\u001b[38;5;241m.\u001b[39mdata)\u001b[38;5;241m.\u001b[39mjoinpath(file))\n",
      "File \u001b[0;32m/home/local/Anaconda3-2020.02/envs/py3.9/lib/python3.9/site-packages/astropy/table/connect.py:62\u001b[0m, in \u001b[0;36mTableRead.__call__\u001b[0;34m(self, *args, **kwargs)\u001b[0m\n\u001b[1;32m     59\u001b[0m units \u001b[38;5;241m=\u001b[39m kwargs\u001b[38;5;241m.\u001b[39mpop(\u001b[38;5;124m'\u001b[39m\u001b[38;5;124munits\u001b[39m\u001b[38;5;124m'\u001b[39m, \u001b[38;5;28;01mNone\u001b[39;00m)\n\u001b[1;32m     60\u001b[0m descriptions \u001b[38;5;241m=\u001b[39m kwargs\u001b[38;5;241m.\u001b[39mpop(\u001b[38;5;124m'\u001b[39m\u001b[38;5;124mdescriptions\u001b[39m\u001b[38;5;124m'\u001b[39m, \u001b[38;5;28;01mNone\u001b[39;00m)\n\u001b[0;32m---> 62\u001b[0m out \u001b[38;5;241m=\u001b[39m \u001b[38;5;28;43mself\u001b[39;49m\u001b[38;5;241;43m.\u001b[39;49m\u001b[43mregistry\u001b[49m\u001b[38;5;241;43m.\u001b[39;49m\u001b[43mread\u001b[49m\u001b[43m(\u001b[49m\u001b[38;5;28;43mcls\u001b[39;49m\u001b[43m,\u001b[49m\u001b[43m \u001b[49m\u001b[38;5;241;43m*\u001b[39;49m\u001b[43margs\u001b[49m\u001b[43m,\u001b[49m\u001b[43m \u001b[49m\u001b[38;5;241;43m*\u001b[39;49m\u001b[38;5;241;43m*\u001b[39;49m\u001b[43mkwargs\u001b[49m\u001b[43m)\u001b[49m\n\u001b[1;32m     64\u001b[0m \u001b[38;5;66;03m# For some readers (e.g., ascii.ecsv), the returned `out` class is not\u001b[39;00m\n\u001b[1;32m     65\u001b[0m \u001b[38;5;66;03m# guaranteed to be the same as the desired output `cls`.  If so,\u001b[39;00m\n\u001b[1;32m     66\u001b[0m \u001b[38;5;66;03m# try coercing to desired class without copying (io.registry.read\u001b[39;00m\n\u001b[1;32m     67\u001b[0m \u001b[38;5;66;03m# would normally do a copy).  The normal case here is swapping\u001b[39;00m\n\u001b[1;32m     68\u001b[0m \u001b[38;5;66;03m# Table <=> QTable.\u001b[39;00m\n\u001b[1;32m     69\u001b[0m \u001b[38;5;28;01mif\u001b[39;00m \u001b[38;5;28mcls\u001b[39m \u001b[38;5;129;01mis\u001b[39;00m \u001b[38;5;129;01mnot\u001b[39;00m out\u001b[38;5;241m.\u001b[39m\u001b[38;5;18m__class__\u001b[39m:\n",
      "File \u001b[0;32m/home/local/Anaconda3-2020.02/envs/py3.9/lib/python3.9/site-packages/astropy/io/registry/core.py:184\u001b[0m, in \u001b[0;36mUnifiedInputRegistry.read\u001b[0;34m(self, cls, format, cache, *args, **kwargs)\u001b[0m\n\u001b[1;32m    182\u001b[0m \u001b[38;5;28;01mtry\u001b[39;00m:\n\u001b[1;32m    183\u001b[0m     ctx \u001b[38;5;241m=\u001b[39m get_readable_fileobj(args[\u001b[38;5;241m0\u001b[39m], encoding\u001b[38;5;241m=\u001b[39m\u001b[38;5;124m'\u001b[39m\u001b[38;5;124mbinary\u001b[39m\u001b[38;5;124m'\u001b[39m, cache\u001b[38;5;241m=\u001b[39mcache)\n\u001b[0;32m--> 184\u001b[0m     fileobj \u001b[38;5;241m=\u001b[39m \u001b[43mctx\u001b[49m\u001b[38;5;241;43m.\u001b[39;49m\u001b[38;5;21;43m__enter__\u001b[39;49m\u001b[43m(\u001b[49m\u001b[43m)\u001b[49m\n\u001b[1;32m    185\u001b[0m \u001b[38;5;28;01mexcept\u001b[39;00m \u001b[38;5;167;01mOSError\u001b[39;00m:\n\u001b[1;32m    186\u001b[0m     \u001b[38;5;28;01mraise\u001b[39;00m\n",
      "File \u001b[0;32m/home/local/Anaconda3-2020.02/envs/py3.9/lib/python3.9/contextlib.py:119\u001b[0m, in \u001b[0;36m_GeneratorContextManager.__enter__\u001b[0;34m(self)\u001b[0m\n\u001b[1;32m    117\u001b[0m \u001b[38;5;28;01mdel\u001b[39;00m \u001b[38;5;28mself\u001b[39m\u001b[38;5;241m.\u001b[39margs, \u001b[38;5;28mself\u001b[39m\u001b[38;5;241m.\u001b[39mkwds, \u001b[38;5;28mself\u001b[39m\u001b[38;5;241m.\u001b[39mfunc\n\u001b[1;32m    118\u001b[0m \u001b[38;5;28;01mtry\u001b[39;00m:\n\u001b[0;32m--> 119\u001b[0m     \u001b[38;5;28;01mreturn\u001b[39;00m \u001b[38;5;28;43mnext\u001b[39;49m\u001b[43m(\u001b[49m\u001b[38;5;28;43mself\u001b[39;49m\u001b[38;5;241;43m.\u001b[39;49m\u001b[43mgen\u001b[49m\u001b[43m)\u001b[49m\n\u001b[1;32m    120\u001b[0m \u001b[38;5;28;01mexcept\u001b[39;00m \u001b[38;5;167;01mStopIteration\u001b[39;00m:\n\u001b[1;32m    121\u001b[0m     \u001b[38;5;28;01mraise\u001b[39;00m \u001b[38;5;167;01mRuntimeError\u001b[39;00m(\u001b[38;5;124m\"\u001b[39m\u001b[38;5;124mgenerator didn\u001b[39m\u001b[38;5;124m'\u001b[39m\u001b[38;5;124mt yield\u001b[39m\u001b[38;5;124m\"\u001b[39m) \u001b[38;5;28;01mfrom\u001b[39;00m \u001b[38;5;28mNone\u001b[39m\n",
      "File \u001b[0;32m/home/local/Anaconda3-2020.02/envs/py3.9/lib/python3.9/site-packages/astropy/utils/data.py:271\u001b[0m, in \u001b[0;36mget_readable_fileobj\u001b[0;34m(name_or_obj, encoding, cache, show_progress, remote_timeout, sources, http_headers)\u001b[0m\n\u001b[1;32m    266\u001b[0m \u001b[38;5;28;01mif\u001b[39;00m is_url:\n\u001b[1;32m    267\u001b[0m     name_or_obj \u001b[38;5;241m=\u001b[39m download_file(\n\u001b[1;32m    268\u001b[0m         name_or_obj, cache\u001b[38;5;241m=\u001b[39mcache, show_progress\u001b[38;5;241m=\u001b[39mshow_progress,\n\u001b[1;32m    269\u001b[0m         timeout\u001b[38;5;241m=\u001b[39mremote_timeout, sources\u001b[38;5;241m=\u001b[39msources,\n\u001b[1;32m    270\u001b[0m         http_headers\u001b[38;5;241m=\u001b[39mhttp_headers)\n\u001b[0;32m--> 271\u001b[0m fileobj \u001b[38;5;241m=\u001b[39m \u001b[43mio\u001b[49m\u001b[38;5;241;43m.\u001b[39;49m\u001b[43mFileIO\u001b[49m\u001b[43m(\u001b[49m\u001b[43mname_or_obj\u001b[49m\u001b[43m,\u001b[49m\u001b[43m \u001b[49m\u001b[38;5;124;43m'\u001b[39;49m\u001b[38;5;124;43mr\u001b[39;49m\u001b[38;5;124;43m'\u001b[39;49m\u001b[43m)\u001b[49m\n\u001b[1;32m    272\u001b[0m \u001b[38;5;28;01mif\u001b[39;00m is_url \u001b[38;5;129;01mand\u001b[39;00m \u001b[38;5;129;01mnot\u001b[39;00m cache:\n\u001b[1;32m    273\u001b[0m     delete_fds\u001b[38;5;241m.\u001b[39mappend(fileobj)\n",
      "\u001b[0;31mFileNotFoundError\u001b[0m: [Errno 2] No such file or directory: './KOSMOS_HeNe.fits'"
     ]
    }
   ],
   "source": [
    "%matplotlib qt\n",
    "extwav=spectra.WaveCal('./KOSMOS_HeNe.fits')\n",
    "hene=red.reduce(6)\n",
    "# extract\n",
    "heneec=trace.extract(hene)\n",
    "# wavelength calibrate\n",
    "extwav.identify(heneec,thresh=50,rad=7,plot=True)\n",
    "\n",
    "\n",
    "intwav=spectra.WaveCal('./KOSMOS_NeKr.fits')\n",
    "nekr=red.reduce(5)\n",
    "# extract\n",
    "nekrec=trace.extract(nekr)\n",
    "# wavelength calibrate\n",
    "intwav.identify(nekrec,thresh=50,rad=7,plot=True)\n",
    "\n"
   ]
  },
  {
   "cell_type": "markdown",
   "metadata": {},
   "source": [
    "NOte that NeKr doesn't have lines shortward of 5800"
   ]
  },
  {
   "cell_type": "code",
   "execution_count": 7,
   "metadata": {},
   "outputs": [
    {
     "ename": "NameError",
     "evalue": "name 'extwav' is not defined",
     "output_type": "error",
     "traceback": [
      "\u001b[0;31m---------------------------------------------------------------------------\u001b[0m",
      "\u001b[0;31mNameError\u001b[0m                                 Traceback (most recent call last)",
      "Input \u001b[0;32mIn [7]\u001b[0m, in \u001b[0;36m<module>\u001b[0;34m\u001b[0m\n\u001b[1;32m      1\u001b[0m get_ipython()\u001b[38;5;241m.\u001b[39mrun_line_magic(\u001b[38;5;124m'\u001b[39m\u001b[38;5;124mmatplotlib\u001b[39m\u001b[38;5;124m'\u001b[39m, \u001b[38;5;124m'\u001b[39m\u001b[38;5;124minline\u001b[39m\u001b[38;5;124m'\u001b[39m)\n\u001b[1;32m      2\u001b[0m plt\u001b[38;5;241m.\u001b[39mfigure()\n\u001b[0;32m----> 3\u001b[0m ext\u001b[38;5;241m=\u001b[39m\u001b[43mextwav\u001b[49m\u001b[38;5;241m.\u001b[39mwave(image\u001b[38;5;241m=\u001b[39mheneec\u001b[38;5;241m.\u001b[39mshape[\u001b[38;5;241m1\u001b[39m])\n\u001b[1;32m      4\u001b[0m \u001b[38;5;28mint\u001b[39m\u001b[38;5;241m=\u001b[39mintwav\u001b[38;5;241m.\u001b[39mwave(image\u001b[38;5;241m=\u001b[39mheneec\u001b[38;5;241m.\u001b[39mshape[\u001b[38;5;241m1\u001b[39m])\n\u001b[1;32m      5\u001b[0m plt\u001b[38;5;241m.\u001b[39mplot(\u001b[38;5;28mint\u001b[39m,ext\u001b[38;5;241m-\u001b[39m\u001b[38;5;28mint\u001b[39m)\n",
      "\u001b[0;31mNameError\u001b[0m: name 'extwav' is not defined"
     ]
    },
    {
     "data": {
      "text/plain": [
       "<Figure size 432x288 with 0 Axes>"
      ]
     },
     "metadata": {},
     "output_type": "display_data"
    }
   ],
   "source": [
    "%matplotlib inline\n",
    "plt.figure()\n",
    "ext=extwav.wave(image=heneec.shape[1])\n",
    "int=intwav.wave(image=heneec.shape[1])\n",
    "plt.plot(int,ext-int)\n",
    "plt.xlim(5700,7100)\n",
    "plt.ylim(-5,0)\n",
    "extwav.model.domain\n",
    "extwav.model.c0.value\n",
    "\n",
    "disp=extwav.model.c1.value/(extwav.model.domain[1]-extwav.model.domain[0])\n",
    "print(disp)"
   ]
  },
  {
   "cell_type": "markdown",
   "metadata": {},
   "source": [
    "<h2> Wavelength calibration"
   ]
  },
  {
   "cell_type": "code",
   "execution_count": 8,
   "metadata": {},
   "outputs": [],
   "source": [
    "%matplotlib qt"
   ]
  },
  {
   "cell_type": "code",
   "execution_count": 11,
   "metadata": {},
   "outputs": [
    {
     "name": "stdout",
     "output_type": "stream",
     "text": [
      "INSTRUMENT: KOSMOS   config: \n",
      "  will use format:  .//*{:04d}.f*.fits*\n",
      "         gain:  [0.6]    rn: [ 5.]\n",
      "         scale:  None   \n",
      "  Biastype : 1\n",
      "  Bias box: \n",
      "    SC    NC    SR    NR\n",
      "  2055    43    20  4056 \n",
      "  2105    43    20  4056 \n",
      "  Trim box: \n",
      "    SC    NC    SR    NR\n",
      "     0  2048     0  4096 \n",
      "     0  2048     0  4096 \n",
      "  Norm box: \n",
      "    SC    NC    SR    NR\n",
      "  1000    51  2000    51 \n",
      "  Reading file: /home/holtz/raw/apo/oct21/UT211206/Ne_blue_1.0026.fits\n",
      "  subtracting overscan vector \n",
      "  subtracting overscan vector \n",
      "INFO: array provided for uncertainty; assuming it is a StdDevUncertainty. [astropy.nddata.ccddata]\n",
      "  Reading file: /home/holtz/raw/apo/oct21/UT211206/Ar_blue_1.0027.fits\n",
      "  subtracting overscan vector \n",
      "  subtracting overscan vector \n",
      "INFO: array provided for uncertainty; assuming it is a StdDevUncertainty. [astropy.nddata.ccddata]\n",
      "  Reading file: /home/holtz/raw/apo/oct21/UT211206/Kr_blue_1.0028.fits\n",
      "  subtracting overscan vector \n",
      "  subtracting overscan vector \n",
      "INFO: array provided for uncertainty; assuming it is a StdDevUncertainty. [astropy.nddata.ccddata]\n",
      "  combining data with sum....\n",
      "  calculating uncertainty....\n",
      "  Reading file: /home/holtz/raw/apo/oct21/UT211206/Ne_blue_2c.0029.fits\n",
      "  subtracting overscan vector \n",
      "  subtracting overscan vector \n",
      "INFO: array provided for uncertainty; assuming it is a StdDevUncertainty. [astropy.nddata.ccddata]\n",
      "  Reading file: /home/holtz/raw/apo/oct21/UT211206/Ar_blue_2c.0030.fits\n",
      "  subtracting overscan vector \n",
      "  subtracting overscan vector \n",
      "INFO: array provided for uncertainty; assuming it is a StdDevUncertainty. [astropy.nddata.ccddata]\n",
      "  Reading file: /home/holtz/raw/apo/oct21/UT211206/Kr_blue_2c.0031.fits\n",
      "  subtracting overscan vector \n",
      "  subtracting overscan vector \n",
      "INFO: array provided for uncertainty; assuming it is a StdDevUncertainty. [astropy.nddata.ccddata]\n",
      "  combining data with sum....\n",
      "  calculating uncertainty....\n",
      "  Reading file: /home/holtz/raw/apo/oct21/UT211206/Ne_blue_2l.0032.fits\n",
      "  subtracting overscan vector \n",
      "  subtracting overscan vector \n",
      "INFO: array provided for uncertainty; assuming it is a StdDevUncertainty. [astropy.nddata.ccddata]\n",
      "  Reading file: /home/holtz/raw/apo/oct21/UT211206/Ar_blue_2l.0033.fits\n",
      "  subtracting overscan vector \n",
      "  subtracting overscan vector \n",
      "INFO: array provided for uncertainty; assuming it is a StdDevUncertainty. [astropy.nddata.ccddata]\n",
      "  Reading file: /home/holtz/raw/apo/oct21/UT211206/Kr_blue_2l.0034.fits\n",
      "  subtracting overscan vector \n",
      "  subtracting overscan vector \n",
      "INFO: array provided for uncertainty; assuming it is a StdDevUncertainty. [astropy.nddata.ccddata]\n",
      "  combining data with sum....\n",
      "  calculating uncertainty....\n",
      "  Reading file: /home/holtz/raw/apo/oct21/UT211206/Ne_blue_2h.0035.fits\n",
      "  subtracting overscan vector \n",
      "  subtracting overscan vector \n",
      "INFO: array provided for uncertainty; assuming it is a StdDevUncertainty. [astropy.nddata.ccddata]\n",
      "  Reading file: /home/holtz/raw/apo/oct21/UT211206/Ar_blue_2h.0036.fits\n",
      "  subtracting overscan vector \n",
      "  subtracting overscan vector \n",
      "INFO: array provided for uncertainty; assuming it is a StdDevUncertainty. [astropy.nddata.ccddata]\n",
      "  Reading file: /home/holtz/raw/apo/oct21/UT211206/Kr_blue_2h.0037.fits\n",
      "  subtracting overscan vector \n",
      "  subtracting overscan vector \n",
      "INFO: array provided for uncertainty; assuming it is a StdDevUncertainty. [astropy.nddata.ccddata]\n",
      "  combining data with sum....\n",
      "  calculating uncertainty....\n",
      "  Reading file: /home/holtz/raw/apo/oct21/UT211206/Ne_red_1.0038.fits\n",
      "  subtracting overscan vector \n",
      "  subtracting overscan vector \n",
      "INFO: array provided for uncertainty; assuming it is a StdDevUncertainty. [astropy.nddata.ccddata]\n",
      "  Reading file: /home/holtz/raw/apo/oct21/UT211206/Ar_red_1.0039.fits\n",
      "  subtracting overscan vector \n",
      "  subtracting overscan vector \n",
      "INFO: array provided for uncertainty; assuming it is a StdDevUncertainty. [astropy.nddata.ccddata]\n",
      "  Reading file: /home/holtz/raw/apo/oct21/UT211206/Kr_red_1.0040.fits\n",
      "  subtracting overscan vector \n",
      "  subtracting overscan vector \n",
      "INFO: array provided for uncertainty; assuming it is a StdDevUncertainty. [astropy.nddata.ccddata]\n",
      "  combining data with sum....\n",
      "  calculating uncertainty....\n",
      "  Reading file: /home/holtz/raw/apo/oct21/UT211206/Ne_red_2c.0041.fits\n",
      "  subtracting overscan vector \n",
      "  subtracting overscan vector \n",
      "INFO: array provided for uncertainty; assuming it is a StdDevUncertainty. [astropy.nddata.ccddata]\n",
      "  Reading file: /home/holtz/raw/apo/oct21/UT211206/Ar_red_2c.0042.fits\n",
      "  subtracting overscan vector \n",
      "  subtracting overscan vector \n",
      "INFO: array provided for uncertainty; assuming it is a StdDevUncertainty. [astropy.nddata.ccddata]\n",
      "  Reading file: /home/holtz/raw/apo/oct21/UT211206/Kr_red_2c.0043.fits\n",
      "  subtracting overscan vector \n",
      "  subtracting overscan vector \n",
      "INFO: array provided for uncertainty; assuming it is a StdDevUncertainty. [astropy.nddata.ccddata]\n",
      "  combining data with sum....\n",
      "  calculating uncertainty....\n",
      "  Reading file: /home/holtz/raw/apo/oct21/UT211206/Ne_red_2l.0044.fits\n",
      "  subtracting overscan vector \n",
      "  subtracting overscan vector \n",
      "INFO: array provided for uncertainty; assuming it is a StdDevUncertainty. [astropy.nddata.ccddata]\n",
      "  Reading file: /home/holtz/raw/apo/oct21/UT211206/Ar_red_2l.0045.fits\n",
      "  subtracting overscan vector \n",
      "  subtracting overscan vector \n",
      "INFO: array provided for uncertainty; assuming it is a StdDevUncertainty. [astropy.nddata.ccddata]\n",
      "  Reading file: /home/holtz/raw/apo/oct21/UT211206/Kr_red_2l.0046.fits\n",
      "  subtracting overscan vector \n",
      "  subtracting overscan vector \n",
      "INFO: array provided for uncertainty; assuming it is a StdDevUncertainty. [astropy.nddata.ccddata]\n",
      "  combining data with sum....\n",
      "  calculating uncertainty....\n",
      "  Reading file: /home/holtz/raw/apo/oct21/UT211206/Ne_red_2h.0047.fits\n",
      "  subtracting overscan vector \n",
      "  subtracting overscan vector \n",
      "INFO: array provided for uncertainty; assuming it is a StdDevUncertainty. [astropy.nddata.ccddata]\n",
      "  Reading file: /home/holtz/raw/apo/oct21/UT211206/Ar_red_2h.0048.fits\n",
      "  subtracting overscan vector \n",
      "  subtracting overscan vector \n",
      "INFO: array provided for uncertainty; assuming it is a StdDevUncertainty. [astropy.nddata.ccddata]\n",
      "  Reading file: /home/holtz/raw/apo/oct21/UT211206/Kr_red_2h.0049.fits\n",
      "  subtracting overscan vector \n",
      "  subtracting overscan vector \n",
      "INFO: array provided for uncertainty; assuming it is a StdDevUncertainty. [astropy.nddata.ccddata]\n",
      "  combining data with sum....\n",
      "  calculating uncertainty....\n"
     ]
    }
   ],
   "source": [
    "red=imred.Reducer('KOSMOS')\n",
    "red.dir='/home/holtz/raw/apo/oct21/UT211206'\n",
    "blue_int_1=red.sum([26,27,28])\n",
    "blue_int_2c=red.sum([29,30,31])\n",
    "blue_int_2l=red.sum([32,33,34])\n",
    "blue_int_2h=red.sum([35,36,37])\n",
    "red_int_1=red.sum([38,39,40])\n",
    "red_int_2c=red.sum([41,42,43])\n",
    "red_int_2l=red.sum([44,45,46])\n",
    "red_int_2h=red.sum([47,48,49])"
   ]
  },
  {
   "cell_type": "code",
   "execution_count": 31,
   "metadata": {},
   "outputs": [
    {
     "name": "stdout",
     "output_type": "stream",
     "text": [
      "  rms:    0.154 Angstroms (26 lines)\n",
      "  extracting ... (may take some time,\n",
      "                   consider threads= if multithreading is available\n",
      "\n",
      "  cross correlating with reference spectrum using lags:  range(-100, 100)\n",
      "  Derived pixel shift from input wcal:  [ 4.42656928]\n",
      "  See identified lines.\n",
      "  rms:    1.471 Angstroms (35 lines)\n",
      "  Input in plot window: \n",
      "       l : to remove all lines to left of cursor\n",
      "       r : to remove all lines to right of cursor\n",
      "       n : to remove line nearest cursor x position\n",
      "       anything else : finish and return\n",
      "  rms:    1.471 Anstroms\n",
      "  input from plot window...\n",
      "\n",
      "  cross correlating with reference spectrum using lags:  range(-50, 50)\n",
      "  Derived pixel shift from input wcal:  [ -1.51595493e-07]\n",
      "  See identified lines.\n",
      "  rms:    1.471 Angstroms (35 lines)\n",
      "  Input in plot window: \n",
      "       l : to remove all lines to left of cursor\n",
      "       r : to remove all lines to right of cursor\n",
      "       n : to remove line nearest cursor x position\n",
      "       anything else : finish and return\n",
      "  rms:    1.471 Anstroms\n",
      "  input from plot window...\n",
      "\n",
      "  extracting ... (may take some time,\n",
      "                   consider threads= if multithreading is available\n",
      "\n",
      "  cross correlating with reference spectrum using lags:  range(-100, 100)\n",
      "  Derived pixel shift from input wcal:  [ 0.31010007]\n"
     ]
    },
    {
     "name": "stderr",
     "output_type": "stream",
     "text": [
      "/home/local/Anaconda3-2020.02/envs/py3.9/lib/python3.9/site-packages/scipy/optimize/minpack.py:833: OptimizeWarning: Covariance of the parameters could not be estimated\n",
      "  warnings.warn('Covariance of the parameters could not be estimated',\n"
     ]
    },
    {
     "name": "stdout",
     "output_type": "stream",
     "text": [
      "  See identified lines.\n",
      "  rms:    1.737 Angstroms (38 lines)\n",
      "  Input in plot window: \n",
      "       l : to remove all lines to left of cursor\n",
      "       r : to remove all lines to right of cursor\n",
      "       n : to remove line nearest cursor x position\n",
      "       anything else : finish and return\n",
      "  rms:    1.737 Anstroms\n",
      "  input from plot window...\n",
      "\n",
      "  cross correlating with reference spectrum using lags:  range(-50, 50)\n",
      "  Derived pixel shift from input wcal:  [ -4.12696885e-07]\n"
     ]
    },
    {
     "name": "stderr",
     "output_type": "stream",
     "text": [
      "/home/local/Anaconda3-2020.02/envs/py3.9/lib/python3.9/site-packages/scipy/optimize/minpack.py:833: OptimizeWarning: Covariance of the parameters could not be estimated\n",
      "  warnings.warn('Covariance of the parameters could not be estimated',\n"
     ]
    },
    {
     "name": "stdout",
     "output_type": "stream",
     "text": [
      "  See identified lines.\n",
      "  rms:    1.951 Angstroms (39 lines)\n",
      "  Input in plot window: \n",
      "       l : to remove all lines to left of cursor\n",
      "       r : to remove all lines to right of cursor\n",
      "       n : to remove line nearest cursor x position\n",
      "       anything else : finish and return\n",
      "  rms:    1.951 Anstroms\n",
      "  input from plot window...\n",
      "\n",
      "  extracting ... (may take some time,\n",
      "                   consider threads= if multithreading is available\n",
      "\n",
      "  cross correlating with reference spectrum using lags:  range(-600, -550)\n",
      "  Derived pixel shift from input wcal:  [-568.14672786]\n"
     ]
    },
    {
     "name": "stderr",
     "output_type": "stream",
     "text": [
      "/home/local/Anaconda3-2020.02/envs/py3.9/lib/python3.9/site-packages/scipy/optimize/minpack.py:833: OptimizeWarning: Covariance of the parameters could not be estimated\n",
      "  warnings.warn('Covariance of the parameters could not be estimated',\n"
     ]
    },
    {
     "name": "stdout",
     "output_type": "stream",
     "text": [
      "  See identified lines.\n",
      "  rms:   18.635 Angstroms (25 lines)\n",
      "  Input in plot window: \n",
      "       l : to remove all lines to left of cursor\n",
      "       r : to remove all lines to right of cursor\n",
      "       n : to remove line nearest cursor x position\n",
      "       anything else : finish and return\n",
      "  rms:   18.635 Anstroms\n",
      "  input from plot window...\n",
      "\n",
      "  cross correlating with reference spectrum using lags:  range(-50, 50)\n",
      "  Derived pixel shift from input wcal:  [-0.00057285]\n"
     ]
    },
    {
     "name": "stderr",
     "output_type": "stream",
     "text": [
      "/home/local/Anaconda3-2020.02/envs/py3.9/lib/python3.9/site-packages/scipy/optimize/minpack.py:833: OptimizeWarning: Covariance of the parameters could not be estimated\n",
      "  warnings.warn('Covariance of the parameters could not be estimated',\n"
     ]
    },
    {
     "name": "stdout",
     "output_type": "stream",
     "text": [
      "  See identified lines.\n",
      "  rms:    7.997 Angstroms (28 lines)\n",
      "  Input in plot window: \n",
      "       l : to remove all lines to left of cursor\n",
      "       r : to remove all lines to right of cursor\n",
      "       n : to remove line nearest cursor x position\n",
      "       anything else : finish and return\n",
      "  rms:    7.997 Anstroms\n",
      "  input from plot window...\n"
     ]
    },
    {
     "ename": "KeyboardInterrupt",
     "evalue": "",
     "output_type": "error",
     "traceback": [
      "\u001b[0;31m---------------------------------------------------------------------------\u001b[0m",
      "\u001b[0;31mKeyboardInterrupt\u001b[0m                         Traceback (most recent call last)",
      "Input \u001b[0;32mIn [31]\u001b[0m, in \u001b[0;36m<module>\u001b[0;34m\u001b[0m\n\u001b[1;32m      7\u001b[0m tmp\u001b[38;5;241m.\u001b[39midentify(arcec,thresh\u001b[38;5;241m=\u001b[39m\u001b[38;5;241m100\u001b[39m,plot\u001b[38;5;241m=\u001b[39m\u001b[38;5;28;01mTrue\u001b[39;00m,rad\u001b[38;5;241m=\u001b[39m\u001b[38;5;241m5\u001b[39m,lags\u001b[38;5;241m=\u001b[39mlag,file\u001b[38;5;241m=\u001b[39m\u001b[38;5;124m'\u001b[39m\u001b[38;5;124mhenearkr.dat\u001b[39m\u001b[38;5;124m'\u001b[39m)\n\u001b[1;32m      8\u001b[0m tmp\u001b[38;5;241m.\u001b[39mweights[:] \u001b[38;5;241m=\u001b[39m \u001b[38;5;241m1.\u001b[39m\n\u001b[0;32m----> 9\u001b[0m \u001b[43mtmp\u001b[49m\u001b[38;5;241;43m.\u001b[39;49m\u001b[43midentify\u001b[49m\u001b[43m(\u001b[49m\u001b[43marcec\u001b[49m\u001b[43m,\u001b[49m\u001b[43mthresh\u001b[49m\u001b[38;5;241;43m=\u001b[39;49m\u001b[38;5;241;43m100\u001b[39;49m\u001b[43m,\u001b[49m\u001b[43mplot\u001b[49m\u001b[38;5;241;43m=\u001b[39;49m\u001b[38;5;28;43;01mTrue\u001b[39;49;00m\u001b[43m,\u001b[49m\u001b[43mrad\u001b[49m\u001b[38;5;241;43m=\u001b[39;49m\u001b[38;5;241;43m5\u001b[39;49m\u001b[43m,\u001b[49m\u001b[43mlags\u001b[49m\u001b[38;5;241;43m=\u001b[39;49m\u001b[38;5;28;43mrange\u001b[39;49m\u001b[43m(\u001b[49m\u001b[38;5;241;43m-\u001b[39;49m\u001b[38;5;241;43m50\u001b[39;49m\u001b[43m,\u001b[49m\u001b[38;5;241;43m50\u001b[39;49m\u001b[43m)\u001b[49m\u001b[43m,\u001b[49m\u001b[43mfile\u001b[49m\u001b[38;5;241;43m=\u001b[39;49m\u001b[38;5;124;43m'\u001b[39;49m\u001b[38;5;124;43mhenearkr.dat\u001b[39;49m\u001b[38;5;124;43m'\u001b[39;49m\u001b[43m)\u001b[49m\n",
      "File \u001b[0;32m/home/holtz/git/pyvista/python/pyvista/spectra.py:599\u001b[0m, in \u001b[0;36mWaveCal.identify\u001b[0;34m(self, spectrum, file, wav, wref, inter, orders, verbose, rad, thresh, fit, maxshift, disp, display, plot, pixplot, xmin, xmax, lags, nskip)\u001b[0m\n\u001b[1;32m    596\u001b[0m \u001b[38;5;28mself\u001b[39m\u001b[38;5;241m.\u001b[39mspectrum \u001b[38;5;241m=\u001b[39m spectrum\u001b[38;5;241m.\u001b[39mdata\n\u001b[1;32m    598\u001b[0m \u001b[38;5;28;01mif\u001b[39;00m fit: \n\u001b[0;32m--> 599\u001b[0m     \u001b[38;5;28;43mself\u001b[39;49m\u001b[38;5;241;43m.\u001b[39;49m\u001b[43mfit\u001b[49m\u001b[43m(\u001b[49m\u001b[43m)\u001b[49m\n\u001b[1;32m    600\u001b[0m     spectrum\u001b[38;5;241m.\u001b[39madd_wave(\u001b[38;5;28mself\u001b[39m\u001b[38;5;241m.\u001b[39mwave(image\u001b[38;5;241m=\u001b[39mspectrum\u001b[38;5;241m.\u001b[39mdata\u001b[38;5;241m.\u001b[39mshape))\n\u001b[1;32m    601\u001b[0m \u001b[38;5;28mprint\u001b[39m(\u001b[38;5;124m'\u001b[39m\u001b[38;5;124m'\u001b[39m)\n",
      "File \u001b[0;32m/home/holtz/git/pyvista/python/pyvista/spectra.py:324\u001b[0m, in \u001b[0;36mWaveCal.fit\u001b[0;34m(self, degree, reject)\u001b[0m\n\u001b[1;32m    321\u001b[0m plt\u001b[38;5;241m.\u001b[39mdraw()\n\u001b[1;32m    323\u001b[0m \u001b[38;5;66;03m# get input from user on lines to remove\u001b[39;00m\n\u001b[0;32m--> 324\u001b[0m i \u001b[38;5;241m=\u001b[39m \u001b[43mgetinput\u001b[49m\u001b[43m(\u001b[49m\u001b[38;5;124;43m'\u001b[39;49m\u001b[38;5;124;43m  input from plot window...\u001b[39;49m\u001b[38;5;124;43m'\u001b[39;49m\u001b[43m,\u001b[49m\u001b[43m \u001b[49m\n\u001b[1;32m    325\u001b[0m \u001b[43m             \u001b[49m\u001b[38;5;28;43mself\u001b[39;49m\u001b[38;5;241;43m.\u001b[39;49m\u001b[43mfig\u001b[49m\u001b[43m,\u001b[49m\u001b[43mindex\u001b[49m\u001b[38;5;241;43m=\u001b[39;49m\u001b[38;5;28;43;01mTrue\u001b[39;49;00m\u001b[43m)\u001b[49m\n\u001b[1;32m    326\u001b[0m \u001b[38;5;28;01mif\u001b[39;00m i \u001b[38;5;241m==\u001b[39m \u001b[38;5;124m'\u001b[39m\u001b[38;5;124m'\u001b[39m :\n\u001b[1;32m    327\u001b[0m     done \u001b[38;5;241m=\u001b[39m \u001b[38;5;28;01mTrue\u001b[39;00m\n",
      "File \u001b[0;32m/home/holtz/git/pyvista/python/pyvista/spectra.py:1727\u001b[0m, in \u001b[0;36mgetinput\u001b[0;34m(prompt, fig, index)\u001b[0m\n\u001b[1;32m   1725\u001b[0m \u001b[38;5;28;01mif\u001b[39;00m fig \u001b[38;5;241m==\u001b[39m \u001b[38;5;28;01mNone\u001b[39;00m : \u001b[38;5;28;01mreturn\u001b[39;00m \u001b[38;5;124m'\u001b[39m\u001b[38;5;124m'\u001b[39m,\u001b[38;5;124m'\u001b[39m\u001b[38;5;124m'\u001b[39m,\u001b[38;5;28minput\u001b[39m(prompt)\n\u001b[1;32m   1726\u001b[0m \u001b[38;5;28mprint\u001b[39m(prompt)\n\u001b[0;32m-> 1727\u001b[0m get \u001b[38;5;241m=\u001b[39m \u001b[43mplots\u001b[49m\u001b[38;5;241;43m.\u001b[39;49m\u001b[43mmark\u001b[49m\u001b[43m(\u001b[49m\u001b[43mfig\u001b[49m\u001b[43m,\u001b[49m\u001b[43mindex\u001b[49m\u001b[38;5;241;43m=\u001b[39;49m\u001b[43mindex\u001b[49m\u001b[43m)\u001b[49m\n\u001b[1;32m   1728\u001b[0m \u001b[38;5;28;01mreturn\u001b[39;00m get\n",
      "File \u001b[0;32m/home/holtz/git/tools/python/tools/plots.py:75\u001b[0m, in \u001b[0;36mmark\u001b[0;34m(fig, index)\u001b[0m\n\u001b[1;32m     73\u001b[0m \u001b[38;5;28;01mglobal\u001b[39;00m _block, _x, _y, _button\n\u001b[1;32m     74\u001b[0m _block \u001b[38;5;241m=\u001b[39m \u001b[38;5;241m1\u001b[39m\n\u001b[0;32m---> 75\u001b[0m \u001b[43mevent\u001b[49m\u001b[43m(\u001b[49m\u001b[43mfig\u001b[49m\u001b[43m)\u001b[49m\n\u001b[1;32m     76\u001b[0m \u001b[38;5;28;01mif\u001b[39;00m index :\u001b[38;5;28;01mreturn\u001b[39;00m _x, _y, _button, _index[\u001b[38;5;241m0\u001b[39m]\n\u001b[1;32m     77\u001b[0m \u001b[38;5;28;01melse\u001b[39;00m : \u001b[38;5;28;01mreturn\u001b[39;00m _x, _y, _button\n",
      "File \u001b[0;32m/home/holtz/git/tools/python/tools/plots.py:70\u001b[0m, in \u001b[0;36mevent\u001b[0;34m(fig)\u001b[0m\n\u001b[1;32m     68\u001b[0m cid \u001b[38;5;241m=\u001b[39m fig\u001b[38;5;241m.\u001b[39mcanvas\u001b[38;5;241m.\u001b[39mmpl_connect(\u001b[38;5;124m'\u001b[39m\u001b[38;5;124mkey_press_event\u001b[39m\u001b[38;5;124m'\u001b[39m,onpress)\n\u001b[1;32m     69\u001b[0m cid \u001b[38;5;241m=\u001b[39m fig\u001b[38;5;241m.\u001b[39mcanvas\u001b[38;5;241m.\u001b[39mmpl_connect(\u001b[38;5;124m'\u001b[39m\u001b[38;5;124mclose_event\u001b[39m\u001b[38;5;124m'\u001b[39m,onclose)\n\u001b[0;32m---> 70\u001b[0m \u001b[38;5;28;01mif\u001b[39;00m _block \u001b[38;5;241m==\u001b[39m \u001b[38;5;241m1\u001b[39m : \u001b[43mfig\u001b[49m\u001b[38;5;241;43m.\u001b[39;49m\u001b[43mcanvas\u001b[49m\u001b[38;5;241;43m.\u001b[39;49m\u001b[43mstart_event_loop\u001b[49m\u001b[43m(\u001b[49m\u001b[38;5;241;43m0\u001b[39;49m\u001b[43m)\u001b[49m\n",
      "File \u001b[0;32m/home/local/Anaconda3-2020.02/envs/py3.9/lib/python3.9/site-packages/matplotlib/backends/backend_qt.py:409\u001b[0m, in \u001b[0;36mFigureCanvasQT.start_event_loop\u001b[0;34m(self, timeout)\u001b[0m\n\u001b[1;32m    405\u001b[0m     timer \u001b[38;5;241m=\u001b[39m QtCore\u001b[38;5;241m.\u001b[39mQTimer\u001b[38;5;241m.\u001b[39msingleShot(\u001b[38;5;28mint\u001b[39m(timeout \u001b[38;5;241m*\u001b[39m \u001b[38;5;241m1000\u001b[39m),\n\u001b[1;32m    406\u001b[0m                                      event_loop\u001b[38;5;241m.\u001b[39mquit)\n\u001b[1;32m    408\u001b[0m \u001b[38;5;28;01mwith\u001b[39;00m _maybe_allow_interrupt(event_loop):\n\u001b[0;32m--> 409\u001b[0m     qt_compat\u001b[38;5;241m.\u001b[39m_exec(event_loop)\n",
      "File \u001b[0;32m/home/local/Anaconda3-2020.02/envs/py3.9/lib/python3.9/contextlib.py:126\u001b[0m, in \u001b[0;36m_GeneratorContextManager.__exit__\u001b[0;34m(self, typ, value, traceback)\u001b[0m\n\u001b[1;32m    124\u001b[0m \u001b[38;5;28;01mif\u001b[39;00m typ \u001b[38;5;129;01mis\u001b[39;00m \u001b[38;5;28;01mNone\u001b[39;00m:\n\u001b[1;32m    125\u001b[0m     \u001b[38;5;28;01mtry\u001b[39;00m:\n\u001b[0;32m--> 126\u001b[0m         \u001b[38;5;28;43mnext\u001b[39;49m\u001b[43m(\u001b[49m\u001b[38;5;28;43mself\u001b[39;49m\u001b[38;5;241;43m.\u001b[39;49m\u001b[43mgen\u001b[49m\u001b[43m)\u001b[49m\n\u001b[1;32m    127\u001b[0m     \u001b[38;5;28;01mexcept\u001b[39;00m \u001b[38;5;167;01mStopIteration\u001b[39;00m:\n\u001b[1;32m    128\u001b[0m         \u001b[38;5;28;01mreturn\u001b[39;00m \u001b[38;5;28;01mFalse\u001b[39;00m\n",
      "File \u001b[0;32m/home/local/Anaconda3-2020.02/envs/py3.9/lib/python3.9/site-packages/matplotlib/backends/qt_compat.py:262\u001b[0m, in \u001b[0;36m_maybe_allow_interrupt\u001b[0;34m(qapp)\u001b[0m\n\u001b[1;32m    260\u001b[0m signal\u001b[38;5;241m.\u001b[39msignal(signal\u001b[38;5;241m.\u001b[39mSIGINT, old_sigint_handler)\n\u001b[1;32m    261\u001b[0m \u001b[38;5;28;01mif\u001b[39;00m handler_args \u001b[38;5;129;01mis\u001b[39;00m \u001b[38;5;129;01mnot\u001b[39;00m \u001b[38;5;28;01mNone\u001b[39;00m:\n\u001b[0;32m--> 262\u001b[0m     \u001b[43mold_sigint_handler\u001b[49m\u001b[43m(\u001b[49m\u001b[38;5;241;43m*\u001b[39;49m\u001b[43mhandler_args\u001b[49m\u001b[43m)\u001b[49m\n",
      "\u001b[0;31mKeyboardInterrupt\u001b[0m: "
     ]
    }
   ],
   "source": [
    "wav=spectra.WaveCal('KOSMOS/KOSMOS_blue_waves.fits')\n",
    "ims=[blue_int_1,blue_int_2c, blue_int_2l, blue_int_2h]\n",
    "lags=[range(-100,100),range(-100,100),range(-600,-550),range(550,600)]\n",
    "for im,lag in zip(ims,lags) :\n",
    "    arcec=trace.extract(im)\n",
    "    tmp=copy.deepcopy(wav)\n",
    "    tmp.identify(arcec,thresh=100,plot=True,rad=5,lags=lag,file='henearkr.dat')\n",
    "    tmp.weights[:] = 1.\n",
    "    tmp.identify(arcec,thresh=100,plot=True,rad=5,lags=range(-50,50),file='henearkr.dat')"
   ]
  },
  {
   "cell_type": "code",
   "execution_count": 17,
   "metadata": {},
   "outputs": [
    {
     "name": "stdout",
     "output_type": "stream",
     "text": [
      "  rms:    0.177 Angstroms (50 lines)\n",
      "  extracting ... (may take some time,\n",
      "                   consider threads= if multithreading is available\n",
      "\n",
      "  cross correlating with reference spectrum using lags:  range(-100, 100)\n",
      "  Derived pixel shift from input wcal:  [ -7.70421593e-09]\n"
     ]
    },
    {
     "name": "stderr",
     "output_type": "stream",
     "text": [
      "/home/local/Anaconda3-2020.02/envs/py3.9/lib/python3.9/site-packages/scipy/optimize/minpack.py:833: OptimizeWarning: Covariance of the parameters could not be estimated\n",
      "  warnings.warn('Covariance of the parameters could not be estimated',\n"
     ]
    },
    {
     "name": "stdout",
     "output_type": "stream",
     "text": [
      "  See identified lines.\n",
      "  rms:   33.953 Angstroms (42 lines)\n",
      "  Input in plot window: \n",
      "       l : to remove all lines to left of cursor\n",
      "       r : to remove all lines to right of cursor\n",
      "       n : to remove line nearest cursor x position\n",
      "       anything else : finish and return\n",
      "  rms:   33.953 Anstroms\n",
      "  input from plot window...\n",
      "  rms:    7.608 Anstroms\n",
      "  input from plot window...\n",
      "  rms:    6.915 Anstroms\n",
      "  input from plot window...\n",
      "  rms:    6.804 Anstroms\n",
      "  input from plot window...\n",
      "  rms:    6.418 Anstroms\n",
      "  input from plot window...\n",
      "  rms:    6.415 Anstroms\n",
      "  input from plot window...\n",
      "  rms:    4.658 Anstroms\n",
      "  input from plot window...\n",
      "  rms:    3.460 Anstroms\n",
      "  input from plot window...\n",
      "  rms:    1.449 Anstroms\n",
      "  input from plot window...\n",
      "  rms:    0.963 Anstroms\n",
      "  input from plot window...\n",
      "  rms:    0.617 Anstroms\n",
      "  input from plot window...\n",
      "  rms:    0.202 Anstroms\n",
      "  input from plot window...\n",
      "\n",
      "  cross correlating with reference spectrum using lags:  range(-300, 300)\n",
      "  Derived pixel shift from input wcal:  [ -2.06898505e-07]\n",
      "  See identified lines.\n",
      "  rms:    1.781 Angstroms (42 lines)\n",
      "  Input in plot window: \n",
      "       l : to remove all lines to left of cursor\n",
      "       r : to remove all lines to right of cursor\n",
      "       n : to remove line nearest cursor x position\n",
      "       anything else : finish and return\n",
      "  rms:    1.781 Anstroms\n",
      "  input from plot window...\n",
      "  rms:    0.990 Anstroms\n",
      "  input from plot window...\n",
      "  rms:    0.198 Anstroms\n",
      "  input from plot window...\n",
      "\n",
      "  extracting ... (may take some time,\n",
      "                   consider threads= if multithreading is available\n",
      "\n",
      "  cross correlating with reference spectrum using lags:  range(-100, 100)\n",
      "  Derived pixel shift from input wcal:  [-4.01948245]\n",
      "  See identified lines.\n",
      "  rms:    8.189 Angstroms (42 lines)\n",
      "  Input in plot window: \n",
      "       l : to remove all lines to left of cursor\n",
      "       r : to remove all lines to right of cursor\n",
      "       n : to remove line nearest cursor x position\n",
      "       anything else : finish and return\n",
      "  rms:    8.189 Anstroms\n",
      "  input from plot window...\n",
      "  rms:    7.730 Anstroms\n",
      "  input from plot window...\n",
      "  rms:    7.226 Anstroms\n",
      "  input from plot window...\n",
      "  rms:    6.591 Anstroms\n",
      "  input from plot window...\n",
      "  rms:    5.348 Anstroms\n",
      "  input from plot window...\n",
      "  rms:    5.005 Anstroms\n",
      "  input from plot window...\n",
      "  rms:    2.202 Anstroms\n",
      "  input from plot window...\n",
      "  rms:    2.041 Anstroms\n",
      "  input from plot window...\n",
      "  rms:    1.812 Anstroms\n",
      "  input from plot window...\n",
      "  rms:    1.827 Anstroms\n",
      "  input from plot window...\n",
      "  rms:    1.096 Anstroms\n",
      "  input from plot window...\n",
      "  rms:    0.245 Anstroms\n",
      "  input from plot window...\n",
      "  rms:    0.216 Anstroms\n",
      "  input from plot window...\n",
      "\n",
      "  cross correlating with reference spectrum using lags:  range(-300, 300)\n",
      "  Derived pixel shift from input wcal:  [ -2.43982925e-07]\n",
      "  See identified lines.\n",
      "  rms:    2.637 Angstroms (42 lines)\n",
      "  Input in plot window: \n",
      "       l : to remove all lines to left of cursor\n",
      "       r : to remove all lines to right of cursor\n",
      "       n : to remove line nearest cursor x position\n",
      "       anything else : finish and return\n",
      "  rms:    2.637 Anstroms\n",
      "  input from plot window...\n",
      "  rms:    2.207 Anstroms\n",
      "  input from plot window...\n",
      "  rms:    2.028 Anstroms\n",
      "  input from plot window...\n",
      "  rms:    0.231 Anstroms\n",
      "  input from plot window...\n",
      "  rms:    0.190 Anstroms\n",
      "  input from plot window...\n",
      "  rms:    0.181 Anstroms\n",
      "  input from plot window...\n",
      "  rms:    0.178 Anstroms\n",
      "  input from plot window...\n",
      "  rms:    0.158 Anstroms\n",
      "  input from plot window...\n",
      "  rms:    0.151 Anstroms\n",
      "  input from plot window...\n",
      "\n",
      "  extracting ... (may take some time,\n",
      "                   consider threads= if multithreading is available\n",
      "\n",
      "  cross correlating with reference spectrum using lags:  range(-600, -550)\n",
      "  Derived pixel shift from input wcal:  [-558.028605]\n"
     ]
    },
    {
     "name": "stderr",
     "output_type": "stream",
     "text": [
      "/home/local/Anaconda3-2020.02/envs/py3.9/lib/python3.9/site-packages/scipy/optimize/minpack.py:833: OptimizeWarning: Covariance of the parameters could not be estimated\n",
      "  warnings.warn('Covariance of the parameters could not be estimated',\n"
     ]
    },
    {
     "name": "stdout",
     "output_type": "stream",
     "text": [
      "  See identified lines.\n",
      "  rms:   21.404 Angstroms (38 lines)\n",
      "  Input in plot window: \n",
      "       l : to remove all lines to left of cursor\n",
      "       r : to remove all lines to right of cursor\n",
      "       n : to remove line nearest cursor x position\n",
      "       anything else : finish and return\n",
      "  rms:   21.404 Anstroms\n",
      "  input from plot window...\n",
      "  rms:    9.874 Anstroms\n",
      "  input from plot window...\n",
      "  rms:    8.249 Anstroms\n",
      "  input from plot window...\n",
      "  rms:    6.909 Anstroms\n",
      "  input from plot window...\n",
      "  rms:    4.957 Anstroms\n",
      "  input from plot window...\n",
      "  rms:    4.241 Anstroms\n",
      "  input from plot window...\n",
      "  rms:    2.310 Anstroms\n",
      "  input from plot window...\n",
      "  rms:    2.082 Anstroms\n",
      "  input from plot window...\n",
      "  rms:    1.309 Anstroms\n",
      "  input from plot window...\n",
      "  rms:    0.415 Anstroms\n",
      "  input from plot window...\n",
      "\n",
      "  cross correlating with reference spectrum using lags:  range(-300, 300)\n",
      "  Derived pixel shift from input wcal:  [ -6.42326086e-08]\n",
      "  See identified lines.\n",
      "  rms:    2.331 Angstroms (38 lines)\n",
      "  Input in plot window: \n",
      "       l : to remove all lines to left of cursor\n",
      "       r : to remove all lines to right of cursor\n",
      "       n : to remove line nearest cursor x position\n",
      "       anything else : finish and return\n",
      "  rms:    2.331 Anstroms\n",
      "  input from plot window...\n",
      "  rms:    2.054 Anstroms\n",
      "  input from plot window...\n",
      "  rms:    0.161 Anstroms\n",
      "  input from plot window...\n",
      "\n",
      "  extracting ... (may take some time,\n",
      "                   consider threads= if multithreading is available\n",
      "\n",
      "  cross correlating with reference spectrum using lags:  range(550, 600)\n",
      "  Derived pixel shift from input wcal:  [ 566.34838006]\n",
      "  See identified lines.\n",
      "  rms:   14.548 Angstroms (36 lines)\n",
      "  Input in plot window: \n",
      "       l : to remove all lines to left of cursor\n",
      "       r : to remove all lines to right of cursor\n",
      "       n : to remove line nearest cursor x position\n",
      "       anything else : finish and return\n",
      "  rms:   14.548 Anstroms\n",
      "  input from plot window...\n",
      "  rms:   14.639 Anstroms\n",
      "  input from plot window...\n",
      "  rms:   14.742 Anstroms\n",
      "  input from plot window...\n",
      "  rms:   14.688 Anstroms\n",
      "  input from plot window...\n",
      "  rms:   13.441 Anstroms\n",
      "  input from plot window...\n",
      "  rms:   13.617 Anstroms\n",
      "  input from plot window...\n",
      "  rms:   13.482 Anstroms\n",
      "  input from plot window...\n",
      "  rms:   12.636 Anstroms\n",
      "  input from plot window...\n",
      "  rms:   11.940 Anstroms\n",
      "  input from plot window...\n",
      "  rms:   11.388 Anstroms\n",
      "  input from plot window...\n",
      "  rms:   11.407 Anstroms\n",
      "  input from plot window...\n",
      "  rms:   11.590 Anstroms\n",
      "  input from plot window...\n",
      "  rms:   11.737 Anstroms\n",
      "  input from plot window...\n",
      "  rms:   11.833 Anstroms\n",
      "  input from plot window...\n",
      "  rms:   10.737 Anstroms\n",
      "  input from plot window...\n",
      "  rms:   10.587 Anstroms\n",
      "  input from plot window...\n",
      "  rms:   10.789 Anstroms\n",
      "  input from plot window...\n",
      "  rms:    9.039 Anstroms\n",
      "  input from plot window...\n",
      "  rms:    9.228 Anstroms\n",
      "  input from plot window...\n",
      "  rms:    9.413 Anstroms\n",
      "  input from plot window...\n",
      "  rms:    9.002 Anstroms\n",
      "  input from plot window...\n",
      "  rms:    6.476 Anstroms\n",
      "  input from plot window...\n",
      "  rms:    4.509 Anstroms\n",
      "  input from plot window...\n",
      "  rms:    0.780 Anstroms\n",
      "  input from plot window...\n",
      "\n",
      "  cross correlating with reference spectrum using lags:  range(-300, 300)\n",
      "  Derived pixel shift from input wcal:  [  1.95007999e-07]\n",
      "  See identified lines.\n",
      "  rms:    5.502 Angstroms (34 lines)\n",
      "  Input in plot window: \n",
      "       l : to remove all lines to left of cursor\n",
      "       r : to remove all lines to right of cursor\n",
      "       n : to remove line nearest cursor x position\n",
      "       anything else : finish and return\n",
      "  rms:    5.502 Anstroms\n",
      "  input from plot window...\n",
      "  rms:    5.029 Anstroms\n",
      "  input from plot window...\n",
      "  rms:    4.909 Anstroms\n",
      "  input from plot window...\n",
      "  rms:    4.752 Anstroms\n",
      "  input from plot window...\n",
      "  rms:    4.752 Anstroms\n",
      "  input from plot window...\n",
      "  rms:    0.204 Anstroms\n",
      "  input from plot window...\n",
      "\n"
     ]
    }
   ],
   "source": [
    "wav=spectra.WaveCal('KOSMOS/KOSMOS_red_waves.fits')\n",
    "ims=[red_int_1,red_int_2c, red_int_2l, red_int_2h]\n",
    "lags=[range(-100,100),range(-100,100),range(-600,-550),range(550,600)]\n",
    "for im,lag in zip(ims,lags) :\n",
    "    arcec=trace.extract(im)\n",
    "    tmp=copy.deepcopy(wav)\n",
    "    tmp.identify(arcec,thresh=100,plot=True,rad=20,lags=lag)\n",
    "    tmp.weights[:] = 1.\n",
    "    tmp.identify(arcec,thresh=100,plot=True,rad=10)   "
   ]
  },
  {
   "cell_type": "code",
   "execution_count": 22,
   "metadata": {
    "scrolled": true
   },
   "outputs": [
    {
     "name": "stdout",
     "output_type": "stream",
     "text": [
      "  rms:    0.154 Angstroms (26 lines)\n",
      "  extracting ... (may take some time,\n",
      "                   consider threads= if multithreading is available\n",
      "\n",
      "  cross correlating with reference spectrum using lags:  [-100  -99  -98  -97  -96  -95  -94  -93  -92  -91  -90  -89  -88  -87  -86\n",
      "  -85  -84  -83  -82  -81  -80  -79  -78  -77  -76  -75  -74  -73  -72  -71\n",
      "  -70  -69  -68  -67  -66  -65  -64  -63  -62  -61  -60  -59  -58  -57  -56\n",
      "  -55  -54  -53  -52  -51  -50  -49  -48  -47  -46  -45  -44  -43  -42  -41\n",
      "  -40  -39  -38  -37  -36  -35  -34  -33  -32  -31  -30  -29  -28  -27  -26\n",
      "  -25  -24  -23  -22  -21  -20  -19  -18  -17  -16  -15  -14  -13  -12  -11\n",
      "  -10   -9   -8   -7   -6   -5   -4   -3   -2   -1    0    1    2    3    4\n",
      "    5    6    7    8    9   10   11   12   13   14   15   16   17   18   19\n",
      "   20   21   22   23   24   25   26   27   28   29   30   31   32   33   34\n",
      "   35   36   37   38   39   40   41   42   43   44   45   46   47   48   49\n",
      "   50   51   52   53   54   55   56   57   58   59   60   61   62   63   64\n",
      "   65   66   67   68   69   70   71   72   73   74   75   76   77   78   79\n",
      "   80   81   82   83   84   85   86   87   88   89   90   91   92   93   94\n",
      "   95   96   97   98   99]\n",
      "  Derived pixel shift from input wcal:  [ 4.42656928]\n",
      "  See identified lines.\n",
      "  rms:    1.471 Angstroms (35 lines)\n",
      "  Input in plot window: \n",
      "       l : to remove all lines to left of cursor\n",
      "       r : to remove all lines to right of cursor\n",
      "       n : to remove line nearest cursor x position\n",
      "       anything else : finish and return\n",
      "  rms:    1.471 Anstroms\n",
      "  input from plot window...\n",
      "  rms:    1.492 Anstroms\n",
      "  input from plot window...\n",
      "  rms:    1.506 Anstroms\n",
      "  input from plot window...\n",
      "  rms:    1.347 Anstroms\n",
      "  input from plot window...\n",
      "  rms:    1.110 Anstroms\n",
      "  input from plot window...\n",
      "  rms:    0.792 Anstroms\n",
      "  input from plot window...\n",
      "  rms:    0.710 Anstroms\n",
      "  input from plot window...\n",
      "  rms:    0.713 Anstroms\n",
      "  input from plot window...\n",
      "  rms:    0.611 Anstroms\n",
      "  input from plot window...\n",
      "  rms:    0.389 Anstroms\n",
      "  input from plot window...\n",
      "  rms:    0.062 Anstroms\n",
      "  input from plot window...\n",
      "  rms:    0.032 Anstroms\n",
      "  input from plot window...\n",
      "\n"
     ]
    }
   ],
   "source": [
    "wav=spectra.WaveCal('KOSMOS/KOSMOS_blue_waves.fits')\n",
    "arcec=trace.extract(blue_int_1)\n",
    "wav.identify(arcec,thresh=100,plot=True,file='henearkr.dat',lags=np.arange(-100,100))\n",
    "fw_blue_1=wav.fwhm"
   ]
  },
  {
   "cell_type": "code",
   "execution_count": 23,
   "metadata": {},
   "outputs": [
    {
     "data": {
      "text/html": [
       "<div><i>Table length=1</i>\n",
       "<table id=\"table47632332268016\" class=\"table-striped table-bordered table-condensed\">\n",
       "<thead><tr><th>type</th><th>degree</th><th>ydegree</th><th>waves [35]</th><th>waves_order [35]</th><th>orders [1]</th><th>index [1]</th><th>pix0 [1]</th><th>pix [35]</th><th>y [35]</th><th>weights [35]</th><th>spectrum [1,4096]</th></tr></thead>\n",
       "<thead><tr><th>str9</th><th>int64</th><th>int64</th><th>float64</th><th>int64</th><th>int64</th><th>int64</th><th>float64</th><th>float64</th><th>int64</th><th>float64</th><th>float64</th></tr></thead>\n",
       "<tr><td>chebyshev</td><td>3</td><td>2</td><td>4273.96943 .. 6532.8824</td><td>1 .. 1</td><td>1</td><td>0</td><td>-1.87913458536</td><td>3231.52173904 .. 92.1397033907</td><td>0 .. 0</td><td>1.0 .. 1.0</td><td>177524.715059 .. 542.652079914</td></tr>\n",
       "</table></div>"
      ],
      "text/plain": [
       "<Table length=1>\n",
       "   type   degree ydegree        waves [35]       ... y [35] weights [35]       spectrum [1,4096]       \n",
       "   str9   int64   int64          float64         ... int64    float64               float64            \n",
       "--------- ------ ------- ----------------------- ... ------ ------------ ------------------------------\n",
       "chebyshev      3       2 4273.96943 .. 6532.8824 ... 0 .. 0   1.0 .. 1.0 177524.715059 .. 542.652079914"
      ]
     },
     "execution_count": 23,
     "metadata": {},
     "output_type": "execute_result"
    }
   ],
   "source": [
    "wav.write('KOSMOS_blue_cent_waves.fits')"
   ]
  },
  {
   "cell_type": "code",
   "execution_count": 24,
   "metadata": {
    "scrolled": true
   },
   "outputs": [
    {
     "name": "stdout",
     "output_type": "stream",
     "text": [
      "  extracting ... (may take some time,\n",
      "                   consider threads= if multithreading is available\n",
      "\n",
      "  cross correlating with reference spectrum using lags:  range(-300, 300)\n",
      "  Derived pixel shift from input wcal:  [-3.98105279]\n"
     ]
    },
    {
     "name": "stderr",
     "output_type": "stream",
     "text": [
      "/home/local/Anaconda3-2020.02/envs/py3.9/lib/python3.9/site-packages/scipy/optimize/minpack.py:833: OptimizeWarning: Covariance of the parameters could not be estimated\n",
      "  warnings.warn('Covariance of the parameters could not be estimated',\n"
     ]
    },
    {
     "name": "stdout",
     "output_type": "stream",
     "text": [
      "  See identified lines.\n",
      "  rms:    0.250 Angstroms (24 lines)\n",
      "  Input in plot window: \n",
      "       l : to remove all lines to left of cursor\n",
      "       r : to remove all lines to right of cursor\n",
      "       n : to remove line nearest cursor x position\n",
      "       anything else : finish and return\n",
      "  rms:    0.250 Anstroms\n",
      "  input from plot window...\n",
      "\n"
     ]
    }
   ],
   "source": [
    "arcec=trace.extract(blue_int_2c)\n",
    "wav.identify(arcec,thresh=100,plot=True)\n",
    "fw_blue_2cent=wav.fwhm"
   ]
  },
  {
   "cell_type": "code",
   "execution_count": 35,
   "metadata": {},
   "outputs": [
    {
     "name": "stdout",
     "output_type": "stream",
     "text": [
      "  rms:    0.154 Angstroms (26 lines)\n",
      "  extracting ... (may take some time,\n",
      "                   consider threads= if multithreading is available\n",
      "\n",
      "  cross correlating with reference spectrum using lags:  range(-600, -550)\n",
      "  Derived pixel shift from input wcal:  [-568.14672786]\n"
     ]
    },
    {
     "name": "stderr",
     "output_type": "stream",
     "text": [
      "/home/local/Anaconda3-2020.02/envs/py3.9/lib/python3.9/site-packages/scipy/optimize/minpack.py:833: OptimizeWarning: Covariance of the parameters could not be estimated\n",
      "  warnings.warn('Covariance of the parameters could not be estimated',\n"
     ]
    },
    {
     "name": "stdout",
     "output_type": "stream",
     "text": [
      "  See identified lines.\n",
      "  rms:   18.635 Angstroms (25 lines)\n",
      "  Input in plot window: \n",
      "       l : to remove all lines to left of cursor\n",
      "       r : to remove all lines to right of cursor\n",
      "       n : to remove line nearest cursor x position\n",
      "       anything else : finish and return\n",
      "  rms:   18.635 Anstroms\n",
      "  input from plot window...\n",
      "  rms:    2.969 Anstroms\n",
      "  input from plot window...\n",
      "  rms:    2.664 Anstroms\n",
      "  input from plot window...\n",
      "  rms:    2.723 Anstroms\n",
      "  input from plot window...\n",
      "  rms:    2.725 Anstroms\n",
      "  input from plot window...\n",
      "  rms:    2.760 Anstroms\n",
      "  input from plot window...\n",
      "  rms:    2.659 Anstroms\n",
      "  input from plot window...\n",
      "  rms:    2.724 Anstroms\n",
      "  input from plot window...\n",
      "  rms:    2.002 Anstroms\n",
      "  input from plot window...\n",
      "  rms:    0.751 Anstroms\n",
      "  input from plot window...\n",
      "  rms:    0.488 Anstroms\n",
      "  input from plot window...\n",
      "  rms:    0.326 Anstroms\n",
      "  input from plot window...\n",
      "\n",
      "  cross correlating with reference spectrum using lags:  range(-100, 100)\n",
      "  Derived pixel shift from input wcal:  [ -4.65615609e-06]\n"
     ]
    },
    {
     "name": "stderr",
     "output_type": "stream",
     "text": [
      "/home/local/Anaconda3-2020.02/envs/py3.9/lib/python3.9/site-packages/scipy/optimize/minpack.py:833: OptimizeWarning: Covariance of the parameters could not be estimated\n",
      "  warnings.warn('Covariance of the parameters could not be estimated',\n"
     ]
    },
    {
     "name": "stdout",
     "output_type": "stream",
     "text": [
      "  See identified lines.\n",
      "  rms:    1.653 Angstroms (27 lines)\n",
      "  Input in plot window: \n",
      "       l : to remove all lines to left of cursor\n",
      "       r : to remove all lines to right of cursor\n",
      "       n : to remove line nearest cursor x position\n",
      "       anything else : finish and return\n",
      "  rms:    1.653 Anstroms\n",
      "  input from plot window...\n",
      "  rms:    1.432 Anstroms\n",
      "  input from plot window...\n",
      "  rms:    1.166 Anstroms\n",
      "  input from plot window...\n",
      "  rms:    1.117 Anstroms\n",
      "  input from plot window...\n",
      "  rms:    0.650 Anstroms\n",
      "  input from plot window...\n",
      "  rms:    0.482 Anstroms\n",
      "  input from plot window...\n",
      "  rms:    0.340 Anstroms\n",
      "  input from plot window...\n",
      "  rms:    0.286 Anstroms\n",
      "  input from plot window...\n",
      "  rms:    0.246 Anstroms\n",
      "  input from plot window...\n",
      "  rms:    0.220 Anstroms\n",
      "  input from plot window...\n",
      "  rms:    0.191 Anstroms\n",
      "  input from plot window...\n",
      "  rms:    0.183 Anstroms\n",
      "  input from plot window...\n",
      "\n"
     ]
    },
    {
     "data": {
      "text/html": [
       "<div><i>Table length=1</i>\n",
       "<table id=\"table47632359547616\" class=\"table-striped table-bordered table-condensed\">\n",
       "<thead><tr><th>type</th><th>degree</th><th>ydegree</th><th>waves [27]</th><th>waves_order [27]</th><th>orders [1]</th><th>index [1]</th><th>pix0 [1]</th><th>pix [27]</th><th>y [27]</th><th>weights [27]</th><th>spectrum [1,4096]</th></tr></thead>\n",
       "<thead><tr><th>str9</th><th>int64</th><th>int64</th><th>float64</th><th>int64</th><th>int64</th><th>int64</th><th>float64</th><th>float64</th><th>int64</th><th>float64</th><th>float64</th></tr></thead>\n",
       "<tr><td>chebyshev</td><td>3</td><td>2</td><td>4044.418 .. 6163.5939</td><td>1 .. 1</td><td>1</td><td>0</td><td>-574.452436382</td><td>3011.54339271 .. 14.8497515789</td><td>0 .. 0</td><td>1.0 .. 1.0</td><td>888.045968849 .. 402.346839096</td></tr>\n",
       "</table></div>"
      ],
      "text/plain": [
       "<Table length=1>\n",
       "   type   degree ydegree       waves [27]      ... y [27] weights [27]       spectrum [1,4096]       \n",
       "   str9   int64   int64         float64        ... int64    float64               float64            \n",
       "--------- ------ ------- --------------------- ... ------ ------------ ------------------------------\n",
       "chebyshev      3       2 4044.418 .. 6163.5939 ... 0 .. 0   1.0 .. 1.0 888.045968849 .. 402.346839096"
      ]
     },
     "execution_count": 35,
     "metadata": {},
     "output_type": "execute_result"
    }
   ],
   "source": [
    "wav=spectra.WaveCal('KOSMOS/KOSMOS_blue_waves.fits')\n",
    "tmp=copy.deepcopy(wav)\n",
    "arcec=trace.extract(blue_int_2l)\n",
    "tmp.identify(arcec,plot=True,lags=range(-600,-550),file='henearkr.dat')\n",
    "tmp.weights[:] = 1.\n",
    "tmp.identify(arcec,plot=True,file='henearkr.dat',lags=range(-100,100))\n",
    "tmp.write('KOSMOS_blue_low_waves.fits')"
   ]
  },
  {
   "cell_type": "code",
   "execution_count": 36,
   "metadata": {},
   "outputs": [
    {
     "name": "stdout",
     "output_type": "stream",
     "text": [
      "  rms:    0.154 Angstroms (26 lines)\n",
      "  extracting ... (may take some time,\n",
      "                   consider threads= if multithreading is available\n",
      "\n",
      "  cross correlating with reference spectrum using lags:  range(550, 600)\n",
      "  Derived pixel shift from input wcal:  [ 579.63620441]\n"
     ]
    },
    {
     "name": "stderr",
     "output_type": "stream",
     "text": [
      "/home/local/Anaconda3-2020.02/envs/py3.9/lib/python3.9/site-packages/scipy/optimize/minpack.py:833: OptimizeWarning: Covariance of the parameters could not be estimated\n",
      "  warnings.warn('Covariance of the parameters could not be estimated',\n"
     ]
    },
    {
     "name": "stdout",
     "output_type": "stream",
     "text": [
      "  See identified lines.\n",
      "  rms:   32.177 Angstroms (36 lines)\n",
      "  Input in plot window: \n",
      "       l : to remove all lines to left of cursor\n",
      "       r : to remove all lines to right of cursor\n",
      "       n : to remove line nearest cursor x position\n",
      "       anything else : finish and return\n",
      "  rms:   32.177 Anstroms\n",
      "  input from plot window...\n",
      "  rms:   13.832 Anstroms\n",
      "  input from plot window...\n",
      "  rms:   12.600 Anstroms\n",
      "  input from plot window...\n",
      "  rms:   12.600 Anstroms\n",
      "  input from plot window...\n",
      "  rms:    3.665 Anstroms\n",
      "  input from plot window...\n",
      "  rms:    3.382 Anstroms\n",
      "  input from plot window...\n",
      "  rms:    3.382 Anstroms\n",
      "  input from plot window...\n",
      "  rms:    3.122 Anstroms\n",
      "  input from plot window...\n",
      "  rms:    3.059 Anstroms\n",
      "  input from plot window...\n",
      "  rms:    3.071 Anstroms\n",
      "  input from plot window...\n",
      "  rms:    3.123 Anstroms\n",
      "  input from plot window...\n",
      "  rms:    3.172 Anstroms\n",
      "  input from plot window...\n",
      "  rms:    3.231 Anstroms\n",
      "  input from plot window...\n",
      "  rms:    3.232 Anstroms\n",
      "  input from plot window...\n",
      "  rms:    3.046 Anstroms\n",
      "  input from plot window...\n",
      "  rms:    2.697 Anstroms\n",
      "  input from plot window...\n",
      "  rms:    2.749 Anstroms\n",
      "  input from plot window...\n",
      "  rms:    1.611 Anstroms\n",
      "  input from plot window...\n",
      "  rms:    0.551 Anstroms\n",
      "  input from plot window...\n",
      "\n",
      "  cross correlating with reference spectrum using lags:  range(-100, 100)\n",
      "  Derived pixel shift from input wcal:  [-0.00788079]\n",
      "  See identified lines.\n",
      "  rms:    1.572 Angstroms (39 lines)\n",
      "  Input in plot window: \n",
      "       l : to remove all lines to left of cursor\n",
      "       r : to remove all lines to right of cursor\n",
      "       n : to remove line nearest cursor x position\n",
      "       anything else : finish and return\n",
      "  rms:    1.572 Anstroms\n",
      "  input from plot window...\n",
      "  rms:    1.450 Anstroms\n",
      "  input from plot window...\n",
      "  rms:    1.286 Anstroms\n",
      "  input from plot window...\n",
      "  rms:    1.257 Anstroms\n",
      "  input from plot window...\n",
      "  rms:    1.206 Anstroms\n",
      "  input from plot window...\n",
      "  rms:    0.916 Anstroms\n",
      "  input from plot window...\n",
      "  rms:    0.870 Anstroms\n",
      "  input from plot window...\n",
      "  rms:    0.341 Anstroms\n",
      "  input from plot window...\n",
      "  rms:    0.266 Anstroms\n",
      "  input from plot window...\n",
      "  rms:    0.261 Anstroms\n",
      "  input from plot window...\n",
      "  rms:    0.257 Anstroms\n",
      "  input from plot window...\n",
      "\n"
     ]
    },
    {
     "data": {
      "text/html": [
       "<div><i>Table length=1</i>\n",
       "<table id=\"table47632641968256\" class=\"table-striped table-bordered table-condensed\">\n",
       "<thead><tr><th>type</th><th>degree</th><th>ydegree</th><th>waves [39]</th><th>waves_order [39]</th><th>orders [1]</th><th>index [1]</th><th>pix0 [1]</th><th>pix [39]</th><th>y [39]</th><th>weights [39]</th><th>spectrum [1,4096]</th></tr></thead>\n",
       "<thead><tr><th>str9</th><th>int64</th><th>int64</th><th>float64</th><th>int64</th><th>int64</th><th>int64</th><th>float64</th><th>float64</th><th>int64</th><th>float64</th><th>float64</th></tr></thead>\n",
       "<tr><td>chebyshev</td><td>3</td><td>2</td><td>4300.48652 .. 7032.4127</td><td>1 .. 1</td><td>1</td><td>0</td><td>573.322619756</td><td>3771.60835655 .. 6.18826791171</td><td>0 .. 0</td><td>1.0 .. 1.0</td><td>4514.25392183 .. 610.869800215</td></tr>\n",
       "</table></div>"
      ],
      "text/plain": [
       "<Table length=1>\n",
       "   type   degree ydegree        waves [39]       ... y [39] weights [39]       spectrum [1,4096]       \n",
       "   str9   int64   int64          float64         ... int64    float64               float64            \n",
       "--------- ------ ------- ----------------------- ... ------ ------------ ------------------------------\n",
       "chebyshev      3       2 4300.48652 .. 7032.4127 ... 0 .. 0   1.0 .. 1.0 4514.25392183 .. 610.869800215"
      ]
     },
     "execution_count": 36,
     "metadata": {},
     "output_type": "execute_result"
    }
   ],
   "source": [
    "wav=spectra.WaveCal('KOSMOS/KOSMOS_blue_waves.fits')\n",
    "tmp=copy.deepcopy(wav)\n",
    "arcec=trace.extract(blue_int_2h)\n",
    "tmp.identify(arcec,plot=True,lags=range(550,600),file='henearkr.dat')\n",
    "tmp.weights[:] = 1.\n",
    "tmp.identify(arcec,plot=True,file='henearkr.dat',lags=range(-100,100))\n",
    "tmp.write('KOSMOS_blue_high_waves.fits')"
   ]
  },
  {
   "cell_type": "code",
   "execution_count": 37,
   "metadata": {},
   "outputs": [
    {
     "name": "stdout",
     "output_type": "stream",
     "text": [
      "  rms:    0.177 Angstroms (50 lines)\n",
      "  extracting ... (may take some time,\n",
      "                   consider threads= if multithreading is available\n",
      "\n",
      "  cross correlating with reference spectrum using lags:  range(-600, -550)\n",
      "  Derived pixel shift from input wcal:  [-558.028605]\n"
     ]
    },
    {
     "name": "stderr",
     "output_type": "stream",
     "text": [
      "/home/local/Anaconda3-2020.02/envs/py3.9/lib/python3.9/site-packages/scipy/optimize/minpack.py:833: OptimizeWarning: Covariance of the parameters could not be estimated\n",
      "  warnings.warn('Covariance of the parameters could not be estimated',\n"
     ]
    },
    {
     "name": "stdout",
     "output_type": "stream",
     "text": [
      "  See identified lines.\n",
      "  rms:   46.327 Angstroms (52 lines)\n",
      "  Input in plot window: \n",
      "       l : to remove all lines to left of cursor\n",
      "       r : to remove all lines to right of cursor\n",
      "       n : to remove line nearest cursor x position\n",
      "       anything else : finish and return\n",
      "  rms:   46.327 Anstroms\n",
      "  input from plot window...\n",
      "  rms:   38.971 Anstroms\n",
      "  input from plot window...\n",
      "  rms:   28.058 Anstroms\n",
      "  input from plot window...\n",
      "  rms:    4.162 Anstroms\n",
      "  input from plot window...\n",
      "  rms:    4.074 Anstroms\n",
      "  input from plot window...\n",
      "  rms:    4.111 Anstroms\n",
      "  input from plot window...\n",
      "  rms:    4.134 Anstroms\n",
      "  input from plot window...\n",
      "  rms:    4.156 Anstroms\n",
      "  input from plot window...\n",
      "  rms:    4.203 Anstroms\n",
      "  input from plot window...\n",
      "  rms:    4.244 Anstroms\n",
      "  input from plot window...\n",
      "  rms:    0.498 Anstroms\n",
      "  input from plot window...\n",
      "  rms:    0.320 Anstroms\n",
      "  input from plot window...\n",
      "\n",
      "  cross correlating with reference spectrum using lags:  range(-100, 100)\n",
      "  Derived pixel shift from input wcal:  [-0.00014387]\n"
     ]
    },
    {
     "name": "stderr",
     "output_type": "stream",
     "text": [
      "/home/local/Anaconda3-2020.02/envs/py3.9/lib/python3.9/site-packages/scipy/optimize/minpack.py:833: OptimizeWarning: Covariance of the parameters could not be estimated\n",
      "  warnings.warn('Covariance of the parameters could not be estimated',\n"
     ]
    },
    {
     "name": "stdout",
     "output_type": "stream",
     "text": [
      "  See identified lines.\n",
      "  rms:    2.122 Angstroms (60 lines)\n",
      "  Input in plot window: \n",
      "       l : to remove all lines to left of cursor\n",
      "       r : to remove all lines to right of cursor\n",
      "       n : to remove line nearest cursor x position\n",
      "       anything else : finish and return\n",
      "  rms:    2.122 Anstroms\n",
      "  input from plot window...\n",
      "  rms:    1.763 Anstroms\n",
      "  input from plot window...\n",
      "  rms:    1.695 Anstroms\n",
      "  input from plot window...\n",
      "  rms:    1.604 Anstroms\n",
      "  input from plot window...\n",
      "  rms:    1.600 Anstroms\n",
      "  input from plot window...\n",
      "  rms:    1.587 Anstroms\n",
      "  input from plot window...\n",
      "  rms:    1.574 Anstroms\n",
      "  input from plot window...\n",
      "  rms:    1.471 Anstroms\n",
      "  input from plot window...\n",
      "  rms:    1.457 Anstroms\n",
      "  input from plot window...\n",
      "  rms:    1.438 Anstroms\n",
      "  input from plot window...\n",
      "  rms:    1.273 Anstroms\n",
      "  input from plot window...\n",
      "  rms:    0.467 Anstroms\n",
      "  input from plot window...\n",
      "  rms:    0.230 Anstroms\n",
      "  input from plot window...\n",
      "\n"
     ]
    },
    {
     "data": {
      "text/html": [
       "<div><i>Table length=1</i>\n",
       "<table id=\"table47632335784256\" class=\"table-striped table-bordered table-condensed\">\n",
       "<thead><tr><th>type</th><th>degree</th><th>ydegree</th><th>waves [60]</th><th>waves_order [60]</th><th>orders [1]</th><th>index [1]</th><th>pix0 [1]</th><th>pix [60]</th><th>y [60]</th><th>weights [60]</th><th>spectrum [1,4096]</th></tr></thead>\n",
       "<thead><tr><th>str9</th><th>int64</th><th>int64</th><th>float64</th><th>int64</th><th>int64</th><th>int64</th><th>float64</th><th>float64</th><th>int64</th><th>float64</th><th>float64</th></tr></thead>\n",
       "<tr><td>chebyshev</td><td>3</td><td>2</td><td>5400.562 .. 8919.5007</td><td>1 .. 1</td><td>1</td><td>0</td><td>-558.028749697</td><td>3583.12727206 .. 94.4552683588</td><td>0 .. 0</td><td>1.0 .. 0.0</td><td>1175.40751572 .. 735.392761334</td></tr>\n",
       "</table></div>"
      ],
      "text/plain": [
       "<Table length=1>\n",
       "   type   degree ydegree       waves [60]      ... y [60] weights [60]       spectrum [1,4096]       \n",
       "   str9   int64   int64         float64        ... int64    float64               float64            \n",
       "--------- ------ ------- --------------------- ... ------ ------------ ------------------------------\n",
       "chebyshev      3       2 5400.562 .. 8919.5007 ... 0 .. 0   1.0 .. 0.0 1175.40751572 .. 735.392761334"
      ]
     },
     "execution_count": 37,
     "metadata": {},
     "output_type": "execute_result"
    }
   ],
   "source": [
    "wav=spectra.WaveCal('KOSMOS/KOSMOS_red_waves.fits')\n",
    "tmp=copy.deepcopy(wav)\n",
    "arcec=trace.extract(red_int_2l)\n",
    "tmp.identify(arcec,plot=True,lags=range(-600,-550),file='henearkr.dat')\n",
    "tmp.weights[:] = 1.\n",
    "tmp.identify(arcec,plot=True,file='henearkr.dat',lags=range(-100,100))\n",
    "tmp.write('KOSMOS_red_low_waves.fits')"
   ]
  },
  {
   "cell_type": "code",
   "execution_count": 42,
   "metadata": {},
   "outputs": [
    {
     "name": "stdout",
     "output_type": "stream",
     "text": [
      "  cross correlating with reference spectrum using lags:  range(-100, 100)\n",
      "  Derived pixel shift from input wcal:  [  1.54481052e-06]\n"
     ]
    },
    {
     "name": "stderr",
     "output_type": "stream",
     "text": [
      "/home/local/Anaconda3-2020.02/envs/py3.9/lib/python3.9/site-packages/scipy/optimize/minpack.py:833: OptimizeWarning: Covariance of the parameters could not be estimated\n",
      "  warnings.warn('Covariance of the parameters could not be estimated',\n"
     ]
    },
    {
     "name": "stdout",
     "output_type": "stream",
     "text": [
      "  See identified lines.\n",
      "  rms:    1.655 Angstroms (43 lines)\n",
      "  Input in plot window: \n",
      "       l : to remove all lines to left of cursor\n",
      "       r : to remove all lines to right of cursor\n",
      "       n : to remove line nearest cursor x position\n",
      "       anything else : finish and return\n",
      "  rms:    1.655 Anstroms\n",
      "  input from plot window...\n",
      "  rms:    1.667 Anstroms\n",
      "  input from plot window...\n",
      "  rms:    1.490 Anstroms\n",
      "  input from plot window...\n",
      "  rms:    0.491 Anstroms\n",
      "  input from plot window...\n",
      "  rms:    0.338 Anstroms\n",
      "  input from plot window...\n",
      "\n"
     ]
    },
    {
     "data": {
      "text/html": [
       "<div><i>Table length=1</i>\n",
       "<table id=\"table47632343272800\" class=\"table-striped table-bordered table-condensed\">\n",
       "<thead><tr><th>type</th><th>degree</th><th>ydegree</th><th>waves [43]</th><th>waves_order [43]</th><th>orders [1]</th><th>index [1]</th><th>pix0 [1]</th><th>pix [43]</th><th>y [43]</th><th>weights [43]</th><th>spectrum [1,4096]</th></tr></thead>\n",
       "<thead><tr><th>str9</th><th>int64</th><th>int64</th><th>float64</th><th>int64</th><th>int64</th><th>int64</th><th>float64</th><th>float64</th><th>int64</th><th>float64</th><th>float64</th></tr></thead>\n",
       "<tr><td>chebyshev</td><td>3</td><td>2</td><td>6096.163 .. 9784.5</td><td>1 .. 1</td><td>1</td><td>0</td><td>566.348385416</td><td>4056.45755579 .. 427.23073457</td><td>0 .. 0</td><td>1.0 .. 1.0</td><td>601.530828094 .. 1480.13128077</td></tr>\n",
       "</table></div>"
      ],
      "text/plain": [
       "<Table length=1>\n",
       "   type   degree ydegree     waves [43]     ...            pix [43]           y [43] weights [43]       spectrum [1,4096]       \n",
       "   str9   int64   int64       float64       ...            float64            int64    float64               float64            \n",
       "--------- ------ ------- ------------------ ... ----------------------------- ------ ------------ ------------------------------\n",
       "chebyshev      3       2 6096.163 .. 9784.5 ... 4056.45755579 .. 427.23073457 0 .. 0   1.0 .. 1.0 601.530828094 .. 1480.13128077"
      ]
     },
     "execution_count": 42,
     "metadata": {},
     "output_type": "execute_result"
    }
   ],
   "source": [
    "#wav=spectra.WaveCal('KOSMOS/KOSMOS_red_waves.fits')\n",
    "#tmp=copy.deepcopy(wav)\n",
    "#arcec=trace.extract(red_int_2h)\n",
    "#tmp.identify(arcec,plot=True,lags=range(550,600),file='henearkr.dat')\n",
    "tmp.weights[:] = 1.\n",
    "tmp.identify(arcec,plot=True,file='henearkr.dat',lags=range(-100,100))\n",
    "tmp.write('KOSMOS_red_high_waves.fits')"
   ]
  },
  {
   "cell_type": "code",
   "execution_count": null,
   "metadata": {},
   "outputs": [],
   "source": []
  },
  {
   "cell_type": "code",
   "execution_count": null,
   "metadata": {},
   "outputs": [],
   "source": []
  },
  {
   "cell_type": "code",
   "execution_count": null,
   "metadata": {},
   "outputs": [],
   "source": [
    "wav=spectra.WaveCal('KOSMOS/KOSMOS_red_waves.fits')\n",
    "wav=spectra.WaveCal(degree=3)\n",
    "arcec=trace.extract(red_int_1)\n",
    "wref=[7032,2465]\n",
    "disp=-0.99\n",
    "wav.identify(arcec,thresh=50,plot=True,rad=5,inter=True,file='henearkr.dat')"
   ]
  },
  {
   "cell_type": "code",
   "execution_count": null,
   "metadata": {},
   "outputs": [],
   "source": [
    "wav.identify(arcec,file='henearkr.dat',thresh=50,plot=True,rad=3)\n",
    "#wav.write('KOSMOS_red_waves.fits')"
   ]
  },
  {
   "cell_type": "code",
   "execution_count": null,
   "metadata": {},
   "outputs": [],
   "source": [
    "tmp=copy.deepcopy(wav)\n",
    "arcec=trace.extract(red_int_2c)\n",
    "tmp.identify(arcec,plot=True)"
   ]
  },
  {
   "cell_type": "code",
   "execution_count": null,
   "metadata": {},
   "outputs": [],
   "source": [
    "tmp=copy.deepcopy(wav)\n",
    "arcec=trace.extract(red_int_2l)\n",
    "tmp.identify(arcec,plot=True,lags=range(-600,-550))"
   ]
  },
  {
   "cell_type": "code",
   "execution_count": null,
   "metadata": {},
   "outputs": [],
   "source": [
    "tmp.identify(arcec,rad=3,plot=True,file='henearkr.dat')"
   ]
  },
  {
   "cell_type": "code",
   "execution_count": null,
   "metadata": {},
   "outputs": [],
   "source": [
    "wav.identify(arcec,file='henearkr.dat',rad=3,thresh=100,plot=True)"
   ]
  },
  {
   "cell_type": "code",
   "execution_count": null,
   "metadata": {},
   "outputs": [],
   "source": [
    "wav.write('KOSMOS_red_1.fits')\n"
   ]
  },
  {
   "cell_type": "markdown",
   "metadata": {},
   "source": [
    "<h2> 1.18 arcsec slit"
   ]
  },
  {
   "cell_type": "code",
   "execution_count": null,
   "metadata": {},
   "outputs": [],
   "source": [
    "red=imred.Reducer('KOSMOS',dir='/home/holtz/raw/apo/oct21/Q4NM01/UT211031/kosmos',verbose=True)\n",
    "trace=spectra.Trace('KOSMOS/KOSMOS_trace.fits')\n",
    "wav=spectra.WaveCal('./KOSMOS_HeNe.fits')"
   ]
  },
  {
   "cell_type": "code",
   "execution_count": null,
   "metadata": {},
   "outputs": [],
   "source": [
    "arc=red.sum([14,15,16])\n",
    "arcec=trace.extract(arc,plot=t)"
   ]
  },
  {
   "cell_type": "code",
   "execution_count": null,
   "metadata": {},
   "outputs": [],
   "source": [
    "#%matplotlib qt\n",
    "#t=tv.TV()\n",
    "t.tv(arc)"
   ]
  },
  {
   "cell_type": "code",
   "execution_count": null,
   "metadata": {},
   "outputs": [],
   "source": [
    "#plt.figure()\n",
    "plt.clf()\n",
    "plt.plot(arcec.data[0])\n",
    "plt.plot(wav.spectrum[0],color='r')\n",
    "#plt.clf()\n",
    "#plt.plot(arcec.data[0]/arcec.uncertainty.array[0])\n",
    "print(wav.waves)\n",
    "print(wav.pix)"
   ]
  },
  {
   "cell_type": "code",
   "execution_count": null,
   "metadata": {},
   "outputs": [],
   "source": [
    "wav=spectra.WaveCal('KOSMOS/KOSMOS_blue_waves.fits')\n",
    "wav.identify(arcec,thresh=20,\n",
    "            fit=True,plot=True,pixplot=True,rad=20)"
   ]
  },
  {
   "cell_type": "code",
   "execution_count": null,
   "metadata": {},
   "outputs": [],
   "source": []
  },
  {
   "cell_type": "code",
   "execution_count": null,
   "metadata": {},
   "outputs": [],
   "source": []
  }
 ],
 "metadata": {
  "kernelspec": {
   "display_name": "Python 3 (ipykernel)",
   "language": "python",
   "name": "python3"
  },
  "language_info": {
   "codemirror_mode": {
    "name": "ipython",
    "version": 3
   },
   "file_extension": ".py",
   "mimetype": "text/x-python",
   "name": "python",
   "nbconvert_exporter": "python",
   "pygments_lexer": "ipython3",
   "version": "3.9.9"
  }
 },
 "nbformat": 4,
 "nbformat_minor": 4
}
