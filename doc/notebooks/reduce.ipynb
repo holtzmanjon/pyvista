{
 "cells": [
  {
   "cell_type": "markdown",
   "metadata": {},
   "source": [
    "<h2>Reduce module"
   ]
  },
  {
   "cell_type": "markdown",
   "metadata": {},
   "source": [
    "<b><i> This is an older, potentially obsolete notebook. The reduce module\n",
    "had not yet been fully developed and vetted"
   ]
  },
  {
   "cell_type": "markdown",
   "metadata": {},
   "source": [
    "The reduce package provides routines to do reduction of one or more groups of data, making calibration products, applying them, and writing out the reduced data. First we imnport the package:"
   ]
  },
  {
   "cell_type": "code",
   "execution_count": null,
   "metadata": {},
   "outputs": [],
   "source": [
    "%matplotlib qt\n",
    "import numpy as np\n",
    "import matplotlib.pyplot as plt"
   ]
  },
  {
   "cell_type": "code",
   "execution_count": null,
   "metadata": {},
   "outputs": [],
   "source": [
    "from pyvista import reduce, tv"
   ]
  },
  {
   "cell_type": "markdown",
   "metadata": {},
   "source": [
    "Specifying the data to be reduced is done by preparing a YAML file. Here is an example for an imager:"
   ]
  },
  {
   "cell_type": "raw",
   "metadata": {},
   "source": [
    "---\n",
    " date: \"October 2021\"     # name for the reduction set\n",
    " groups :                 # multiple groups can be specified if desired\n",
    "  - name : \"ARCTIC\"       # first group name\n",
    "    skip : False          # if multiple groups are given, you can use this to skip one\n",
    "    inst : \"ARCTIC\"       # instrument name (for Reducer)\n",
    "    conf : \"quad\"         # addition configuration if needed (for Reducer)\n",
    "    rawdir : \"UT211031/ARCTIC\"      # location of raw input images\n",
    "    reddir : \"red/UT211031/ARCTIC\"  # location for reduced output images\n",
    "    #biases :             # if you want to make a combined bias frame, use this\n",
    "    #  - id : \"bias\"      # name for this bias (you could have multiple combined biasses)\n",
    "    #    frames : [1,2,3,4,5,6,7,8,9,10,11,12,13,14,15,16,17,18,19,20,21]  # frames for this bias\n",
    "    darks :               # if you want to make combined dark frames, use this\n",
    "      #- id : \"dark_30\"   # first dark name\n",
    "      #  frames : [108,109]  # frames for this dark\n",
    "      - id : \"dark_120\"   # second dark name\n",
    "        frames : [110,111,112,113,114,115,116,117,118,119]   # frames for this dark\n",
    "    flats :               # if you want to make combined flats, use this\n",
    "      - id : \"domeflat_u\" # name for first flat\n",
    "        frames : [1,2]    # frames for first flat\n",
    "        #bias : \"bias\"     # if you want to use a bias frame to reduce flats, specify it by id above\n",
    "        #dark : \"dark\"     # if you want to use a bias frame to reduce flats, specify it by id above\n",
    "      - id : \"domeflat_i\"\n",
    "        frames : [4,5,6,7,8]\n",
    "      - id : \"twiflat_u\"\n",
    "        frames : [10,11,12,13,14,15,16,17,18,19,20]\n",
    "      - id : \"twiflat_z\"\n",
    "        frames : [21,22,23,24,25,26,27,27,29]\n",
    "      - id : \"twiflat_r\"\n",
    "        frames : [30,31,32,33,34,35,36]\n",
    "      - id : \"twiflat_g\"\n",
    "        frames : [37,38,39,40,41]\n",
    "      - id : \"twiflat_i\"\n",
    "        frames : [42,43,44,45,46,47,48]\n",
    "    objects :                # objects to reduce\n",
    "      image :                # regular images\n",
    "        - id : 'i frames'    # first set\n",
    "          frames : [56,57]   # frames to reduce\n",
    "          #bias : \"bias\"     # bias to use if desired\n",
    "          #dark : \"dark_30\"  # dark to use if desired\n",
    "          flat : \"twiflat_i\" # flat to use\n",
    "          flat_type : \"2d\"   # regular 2d flat\n",
    "          trim : True        # if you want to trim reduced images\n",
    "        - id : 'u frames'    # second set (uses different calibration products)\n",
    "          frames : [58,59]\n",
    "          dark : \"dark_120\"\n",
    "          flat : \"twiflat_u\"\n",
    "          flat_type : \"2d\"\n",
    "          trim : True\n",
    "\n"
   ]
  },
  {
   "cell_type": "code",
   "execution_count": null,
   "metadata": {},
   "outputs": [],
   "source": [
    "plt.close('all')\n",
    "t=tv.TV()\n",
    "fig=plt.figure(figsize=(14,6))"
   ]
  },
  {
   "cell_type": "code",
   "execution_count": null,
   "metadata": {},
   "outputs": [],
   "source": [
    "plt.plot([0,1],[0,1])\n",
    "plt.draw()\n",
    "fig.canvas.draw_idle()\n",
    "\n"
   ]
  },
  {
   "cell_type": "code",
   "execution_count": null,
   "metadata": {},
   "outputs": [],
   "source": [
    "reduce.all('oct21.yml',plot=fig)"
   ]
  },
  {
   "cell_type": "code",
   "execution_count": null,
   "metadata": {},
   "outputs": [],
   "source": []
  }
 ],
 "metadata": {
  "kernelspec": {
   "display_name": "Python 3 (ipykernel)",
   "language": "python",
   "name": "python3"
  },
  "language_info": {
   "codemirror_mode": {
    "name": "ipython",
    "version": 3
   },
   "file_extension": ".py",
   "mimetype": "text/x-python",
   "name": "python",
   "nbconvert_exporter": "python",
   "pygments_lexer": "ipython3",
   "version": "3.9.9"
  }
 },
 "nbformat": 4,
 "nbformat_minor": 4
}
