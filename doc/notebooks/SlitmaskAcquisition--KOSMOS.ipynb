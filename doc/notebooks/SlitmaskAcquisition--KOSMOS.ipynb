{
 "cells": [
  {
   "cell_type": "markdown",
   "id": "9cc0929e",
   "metadata": {},
   "source": [
    "<h2>KOSMOS slitmask acqusition"
   ]
  },
  {
   "cell_type": "markdown",
   "id": "e31a9526",
   "metadata": {},
   "source": [
    "This notebook demonstrates basic idea of doing quick acquisition for KOSMOS slitmasks. Basic idea is to locate slits from flat field image and display location of alignment holes and slits. User selects which stars on the image correspond to the alignment holes. Code associates these with nearest alignment holes and calculates offset and rotation to apply to put stars in the holes."
   ]
  },
  {
   "cell_type": "code",
   "execution_count": 1,
   "id": "1d06b78a",
   "metadata": {},
   "outputs": [],
   "source": [
    "from pyvista import imred, tv, stars, slitmask, image\n",
    "import pdb\n",
    "import copy\n",
    "import numpy as np\n",
    "import matplotlib.pyplot as plt\n",
    "import os\n",
    "from astropy.table import vstack"
   ]
  },
  {
   "cell_type": "code",
   "execution_count": 2,
   "id": "e08e3334",
   "metadata": {},
   "outputs": [],
   "source": [
    "# you may need/want to use qt or osx in the next line\n",
    "%matplotlib tk \n",
    "t=tv.TV()"
   ]
  },
  {
   "cell_type": "code",
   "execution_count": 4,
   "id": "63d1ccfb",
   "metadata": {},
   "outputs": [],
   "source": [
    "red=imred.Reducer('KOSMOS',dir='/home/holtz/raw/apo/UT221221_cleaned',verbose=False)                                                         "
   ]
  },
  {
   "cell_type": "code",
   "execution_count": 5,
   "id": "7e687dc4",
   "metadata": {},
   "outputs": [
    {
     "data": {
      "text/html": [
       "<div><i>Table length=48</i>\n",
       "<table id=\"table47506080606480\" class=\"table-striped table-bordered table-condensed\">\n",
       "<thead><tr><th>FILE</th><th>DATE-OBS</th><th>OBJNAME</th><th>RA</th><th>DEC</th><th>EXPTIME</th></tr></thead>\n",
       "<thead><tr><th>bytes43</th><th>bytes26</th><th>bytes16</th><th>bytes16</th><th>bytes16</th><th>bytes16</th></tr></thead>\n",
       "<tr><td>bias.0001.fits</td><td>2022-12-21T07:03:19.199073</td><td>MUSSES2022D</td><td>7:44:26.48</td><td>44:17:03.60</td><td>0</td></tr>\n",
       "<tr><td>bias.0002.fits</td><td>2022-12-21T07:04:12.915674</td><td>MUSSES2022D</td><td>7:44:26.48</td><td>44:17:03.60</td><td>0</td></tr>\n",
       "<tr><td>bias.0003.fits</td><td>2022-12-21T07:05:07.210469</td><td>MUSSES2022D</td><td>7:44:26.48</td><td>44:17:03.60</td><td>0</td></tr>\n",
       "<tr><td>bias.0004.fits</td><td>2022-12-21T07:06:00.729529</td><td>MUSSES2022D</td><td>7:44:26.48</td><td>44:17:03.60</td><td>0</td></tr>\n",
       "<tr><td>bias.0005.fits</td><td>2022-12-21T07:06:54.510369</td><td>MUSSES2022D</td><td>7:44:26.48</td><td>44:17:03.60</td><td>0</td></tr>\n",
       "<tr><td>mask63_arc_Ne_red_0p5s.0017.fits</td><td>2022-12-21T09:04:31.086764</td><td>eFEDS197p1</td><td>8:36:57.96</td><td>3:01:04.69</td><td>0.5</td></tr>\n",
       "<tr><td>mask63_arc_Ne_red_0p5s.0018.fits</td><td>2022-12-21T09:05:25.327441</td><td>eFEDS197p1</td><td>8:36:57.96</td><td>3:01:04.69</td><td>0.5</td></tr>\n",
       "<tr><td>mask63_arc_Ne_red_0p5s.0019.fits</td><td>2022-12-21T09:06:19.582805</td><td>eFEDS197p1</td><td>8:36:57.96</td><td>3:01:04.69</td><td>0.5</td></tr>\n",
       "<tr><td>mask63_arc_Ar_red_0p5s.0020.fits</td><td>2022-12-21T09:10:43.446486</td><td>eFEDS197p1</td><td>8:36:57.96</td><td>3:01:04.69</td><td>0.5</td></tr>\n",
       "<tr><td>...</td><td>...</td><td>...</td><td>...</td><td>...</td><td>...</td></tr>\n",
       "<tr><td>mask1_arc_quartz_red_2s.0073.fits</td><td>2022-12-21T12:56:24.525428</td><td>eFEDS197p3</td><td>8:37:01.61</td><td>3:08:59.85</td><td>2.0</td></tr>\n",
       "<tr><td>mask1_arc_quartz_red_ND5_0p5s.0074.fits</td><td>2022-12-21T12:57:35.857610</td><td>eFEDS197p3</td><td>8:37:01.61</td><td>3:08:59.85</td><td>0.5</td></tr>\n",
       "<tr><td>nomask_arc_quartz_red_ND5_0p5s.0075.fits</td><td>2022-12-21T12:58:30.706529</td><td>eFEDS197p3</td><td>8:37:01.61</td><td>3:08:59.85</td><td>0.5</td></tr>\n",
       "<tr><td>nomask_arc_quartz_red_ND5_0p5s.0076.fits</td><td>2022-12-21T12:59:25.001320</td><td>eFEDS197p3</td><td>8:37:01.61</td><td>3:08:59.85</td><td>0.5</td></tr>\n",
       "<tr><td>nomask_arc_quartz_ND5_0p5s.0077.fits</td><td>2022-12-21T13:01:19.976142</td><td>eFEDS197p3</td><td>8:37:01.61</td><td>3:08:59.85</td><td>0.5</td></tr>\n",
       "<tr><td>nomask_arc_quartz_ND5_0p5s.0078.fits</td><td>2022-12-21T13:02:14.587614</td><td>eFEDS197p3</td><td>8:37:01.61</td><td>3:08:59.85</td><td>0.5</td></tr>\n",
       "<tr><td>nomask_arc_quartz_ND5_0p5s.0079.fits</td><td>2022-12-21T13:03:08.608755</td><td>eFEDS197p3</td><td>8:37:01.61</td><td>3:08:59.85</td><td>0.5</td></tr>\n",
       "<tr><td>mask1_arc_Kr_red_ND5_4s.0080.fits</td><td>2022-12-21T13:04:17.653812</td><td>eFEDS197p3</td><td>8:37:01.61</td><td>3:08:59.85</td><td>4.0</td></tr>\n",
       "<tr><td>mask1_arc_Kr_red_ND5_4s.0081.fits</td><td>2022-12-21T13:05:16.055285</td><td>eFEDS197p3</td><td>8:37:01.61</td><td>3:08:59.85</td><td>4.0</td></tr>\n",
       "<tr><td>mask1_arc_Kr_red_ND5_4s.0082.fits</td><td>2022-12-21T13:06:14.863024</td><td>eFEDS197p3</td><td>8:37:01.61</td><td>3:08:59.85</td><td>4.0</td></tr>\n",
       "</table></div>"
      ],
      "text/plain": [
       "<Table length=48>\n",
       "                  FILE                            DATE-OBS          ... EXPTIME\n",
       "                bytes43                           bytes26           ... bytes16\n",
       "---------------------------------------- -------------------------- ... -------\n",
       "                          bias.0001.fits 2022-12-21T07:03:19.199073 ...       0\n",
       "                          bias.0002.fits 2022-12-21T07:04:12.915674 ...       0\n",
       "                          bias.0003.fits 2022-12-21T07:05:07.210469 ...       0\n",
       "                          bias.0004.fits 2022-12-21T07:06:00.729529 ...       0\n",
       "                          bias.0005.fits 2022-12-21T07:06:54.510369 ...       0\n",
       "        mask63_arc_Ne_red_0p5s.0017.fits 2022-12-21T09:04:31.086764 ...     0.5\n",
       "        mask63_arc_Ne_red_0p5s.0018.fits 2022-12-21T09:05:25.327441 ...     0.5\n",
       "        mask63_arc_Ne_red_0p5s.0019.fits 2022-12-21T09:06:19.582805 ...     0.5\n",
       "        mask63_arc_Ar_red_0p5s.0020.fits 2022-12-21T09:10:43.446486 ...     0.5\n",
       "                                     ...                        ... ...     ...\n",
       "       mask1_arc_quartz_red_2s.0073.fits 2022-12-21T12:56:24.525428 ...     2.0\n",
       " mask1_arc_quartz_red_ND5_0p5s.0074.fits 2022-12-21T12:57:35.857610 ...     0.5\n",
       "nomask_arc_quartz_red_ND5_0p5s.0075.fits 2022-12-21T12:58:30.706529 ...     0.5\n",
       "nomask_arc_quartz_red_ND5_0p5s.0076.fits 2022-12-21T12:59:25.001320 ...     0.5\n",
       "    nomask_arc_quartz_ND5_0p5s.0077.fits 2022-12-21T13:01:19.976142 ...     0.5\n",
       "    nomask_arc_quartz_ND5_0p5s.0078.fits 2022-12-21T13:02:14.587614 ...     0.5\n",
       "    nomask_arc_quartz_ND5_0p5s.0079.fits 2022-12-21T13:03:08.608755 ...     0.5\n",
       "       mask1_arc_Kr_red_ND5_4s.0080.fits 2022-12-21T13:04:17.653812 ...     4.0\n",
       "       mask1_arc_Kr_red_ND5_4s.0081.fits 2022-12-21T13:05:16.055285 ...     4.0\n",
       "       mask1_arc_Kr_red_ND5_4s.0082.fits 2022-12-21T13:06:14.863024 ...     4.0"
      ]
     },
     "execution_count": 5,
     "metadata": {},
     "output_type": "execute_result"
    }
   ],
   "source": [
    "red.log()"
   ]
  },
  {
   "cell_type": "markdown",
   "id": "2e7d75af",
   "metadata": {},
   "source": [
    "Read in image with mask in, and image without mask"
   ]
  },
  {
   "cell_type": "code",
   "execution_count": 6,
   "id": "4dd7f0ba",
   "metadata": {},
   "outputs": [
    {
     "name": "stdout",
     "output_type": "stream",
     "text": [
      "INFO: array provided for uncertainty; assuming it is a StdDevUncertainty. [astropy.nddata.ccddata]\n"
     ]
    }
   ],
   "source": [
    "mask=red.reduce(51)\n",
    "t.clear()\n",
    "t.tv(mask,max=3000)"
   ]
  },
  {
   "cell_type": "code",
   "execution_count": 7,
   "id": "bcff0497",
   "metadata": {},
   "outputs": [
    {
     "name": "stdout",
     "output_type": "stream",
     "text": [
      "INFO: array provided for uncertainty; assuming it is a StdDevUncertainty. [astropy.nddata.ccddata]\n"
     ]
    }
   ],
   "source": [
    "nomask=red.reduce(52)\n",
    "t.tv(nomask,max=30000)"
   ]
  },
  {
   "cell_type": "markdown",
   "id": "b99fcd1e",
   "metadata": {},
   "source": [
    "Do CR rejection on mask image to avoid spurious detections"
   ]
  },
  {
   "cell_type": "code",
   "execution_count": 8,
   "id": "90e09265",
   "metadata": {},
   "outputs": [],
   "source": [
    "maskcr=red.crrej(mask,crbox=[5,5])"
   ]
  },
  {
   "cell_type": "markdown",
   "id": "825da41f",
   "metadata": {},
   "source": [
    "Use findholes() to identify the holes in the mask. May need to adjust thresh= for brightness threshold, and n= for number of clusters to detect."
   ]
  },
  {
   "cell_type": "code",
   "execution_count": 9,
   "id": "9e496042",
   "metadata": {},
   "outputs": [
    {
     "data": {
      "text/html": [
       "<div><i>Table length=15</i>\n",
       "<table id=\"table47506061620752\" class=\"table-striped table-bordered table-condensed\">\n",
       "<thead><tr><th>y</th><th>x</th></tr></thead>\n",
       "<thead><tr><th>float64</th><th>float64</th></tr></thead>\n",
       "<tr><td>1847.4569536423842</td><td>1388.3741721854306</td></tr>\n",
       "<tr><td>2194.5</td><td>728.0</td></tr>\n",
       "<tr><td>1864.5</td><td>616.0</td></tr>\n",
       "<tr><td>1829.5</td><td>1008.0</td></tr>\n",
       "<tr><td>2627.5353535353534</td><td>489.050505050505</td></tr>\n",
       "<tr><td>1274.6354166666667</td><td>799.4965277777778</td></tr>\n",
       "<tr><td>1998.4494773519164</td><td>1790.212543554007</td></tr>\n",
       "<tr><td>2221.3120567375886</td><td>910.5177304964539</td></tr>\n",
       "<tr><td>1621.7963636363636</td><td>1104.3454545454545</td></tr>\n",
       "<tr><td>2013.9770992366412</td><td>1675.0610687022902</td></tr>\n",
       "<tr><td>1992.5185185185185</td><td>1257.530864197531</td></tr>\n",
       "<tr><td>2451.4347826086955</td><td>1525.7782608695652</td></tr>\n",
       "<tr><td>1643.0</td><td>292.5</td></tr>\n",
       "<tr><td>2158.0</td><td>255.0</td></tr>\n",
       "<tr><td>1255.0</td><td>1179.0</td></tr>\n",
       "</table></div>"
      ],
      "text/plain": [
       "<Table length=15>\n",
       "        y                  x         \n",
       "     float64            float64      \n",
       "------------------ ------------------\n",
       "1847.4569536423842 1388.3741721854306\n",
       "            2194.5              728.0\n",
       "            1864.5              616.0\n",
       "            1829.5             1008.0\n",
       "2627.5353535353534   489.050505050505\n",
       "1274.6354166666667  799.4965277777778\n",
       "1998.4494773519164  1790.212543554007\n",
       "2221.3120567375886  910.5177304964539\n",
       "1621.7963636363636 1104.3454545454545\n",
       "2013.9770992366412 1675.0610687022902\n",
       "1992.5185185185185  1257.530864197531\n",
       "2451.4347826086955 1525.7782608695652\n",
       "            1643.0              292.5\n",
       "            2158.0              255.0\n",
       "            1255.0             1179.0"
      ]
     },
     "execution_count": 9,
     "metadata": {},
     "output_type": "execute_result"
    }
   ],
   "source": [
    "holes=slitmask.findholes(maskcr.data,thresh=1500,n=29)\n",
    "t.clear()\n",
    "t.tv(maskcr)\n",
    "stars.mark(t,holes,color='b',exit=True,rad=10)"
   ]
  },
  {
   "cell_type": "markdown",
   "id": "9060f8f2",
   "metadata": {},
   "source": [
    "Get design from KMS file and see if we have correct numbers of slits/holes identified"
   ]
  },
  {
   "cell_type": "code",
   "execution_count": 10,
   "id": "63e71c5b",
   "metadata": {},
   "outputs": [
    {
     "name": "stdout",
     "output_type": "stream",
     "text": [
      "15 15\n"
     ]
    },
    {
     "data": {
      "text/html": [
       "<div><i>Table length=15</i>\n",
       "<table id=\"table47506061609296\" class=\"table-striped table-bordered table-condensed\">\n",
       "<thead><tr><th>ID</th><th>NAME</th><th>SHAPE</th><th>WID</th><th>LEN</th><th>ROT</th><th>ALPHA</th><th>DELTA</th><th>WIDMM</th><th>LENMM</th><th>XMM</th><th>YMM</th></tr></thead>\n",
       "<thead><tr><th>str7</th><th>str5</th><th>str8</th><th>float64</th><th>float64</th><th>float64</th><th>float64</th><th>float64</th><th>float64</th><th>float64</th><th>float64</th><th>float64</th></tr></thead>\n",
       "<tr><td>TARG114</td><td>NN</td><td>STRAIGHT</td><td>4.0</td><td>4.0</td><td>0.0</td><td>83654.162</td><td>30638.76</td><td>0.683</td><td>0.683</td><td>-6.272</td><td>-33.306</td></tr>\n",
       "<tr><td>TARG111</td><td>NN</td><td>STRAIGHT</td><td>4.0</td><td>4.0</td><td>0.0</td><td>83645.269</td><td>30628.86</td><td>0.683</td><td>0.683</td><td>16.462</td><td>-31.616</td></tr>\n",
       "<tr><td>TARG109</td><td>Obj9</td><td>STRAIGHT</td><td>2.0</td><td>10.0</td><td>0.0</td><td>83702.29</td><td>30538.62</td><td>0.341</td><td>1.707</td><td>-27.05</td><td>-23.042</td></tr>\n",
       "<tr><td>TARG101</td><td>Obj1</td><td>STRAIGHT</td><td>2.0</td><td>10.0</td><td>0.0</td><td>83649.106</td><td>30504.92</td><td>0.341</td><td>1.707</td><td>6.652</td><td>-17.29</td></tr>\n",
       "<tr><td>TARG103</td><td>Obj3</td><td>STRAIGHT</td><td>2.0</td><td>10.0</td><td>0.0</td><td>83654.799</td><td>30436.19</td><td>0.341</td><td>1.707</td><td>-7.901</td><td>-12.387</td></tr>\n",
       "<tr><td>TARG102</td><td>Obj2</td><td>STRAIGHT</td><td>2.0</td><td>10.0</td><td>0.0</td><td>83638.93</td><td>30417.69</td><td>0.341</td><td>1.707</td><td>32.666</td><td>-9.23</td></tr>\n",
       "<tr><td>TARG104</td><td>Obj4</td><td>STRAIGHT</td><td>2.0</td><td>10.0</td><td>0.0</td><td>83655.258</td><td>30349.0</td><td>0.341</td><td>1.707</td><td>-9.075</td><td>-4.333</td></tr>\n",
       "<tr><td>TARG105</td><td>Obj5</td><td>STRAIGHT</td><td>2.0</td><td>10.0</td><td>0.0</td><td>83648.518</td><td>30323.98</td><td>0.341</td><td>1.707</td><td>8.155</td><td>-0.063</td></tr>\n",
       "<tr><td>TARG106</td><td>Obj6</td><td>STRAIGHT</td><td>2.0</td><td>10.0</td><td>0.0</td><td>83644.95</td><td>30258.99</td><td>0.341</td><td>1.707</td><td>17.277</td><td>4.202</td></tr>\n",
       "<tr><td>TARG113</td><td>NN</td><td>STRAIGHT</td><td>4.0</td><td>4.0</td><td>0.0</td><td>83638.6</td><td>30239.36</td><td>0.683</td><td>0.683</td><td>33.511</td><td>7.553</td></tr>\n",
       "<tr><td>TARG115</td><td>NN</td><td>STRAIGHT</td><td>4.0</td><td>4.0</td><td>0.0</td><td>83651.338</td><td>30219.56</td><td>0.683</td><td>0.683</td><td>0.947</td><td>10.931</td></tr>\n",
       "<tr><td>TARG110</td><td>Obj10</td><td>STRAIGHT</td><td>2.0</td><td>10.0</td><td>0.0</td><td>83648.845</td><td>30145.73</td><td>0.341</td><td>1.707</td><td>7.319</td><td>16.706</td></tr>\n",
       "<tr><td>TARG112</td><td>NN</td><td>STRAIGHT</td><td>4.0</td><td>4.0</td><td>0.0</td><td>83659.269</td><td>30110.26</td><td>0.683</td><td>0.683</td><td>-19.329</td><td>22.758</td></tr>\n",
       "<tr><td>TARG107</td><td>Obj7</td><td>STRAIGHT</td><td>2.0</td><td>10.0</td><td>0.0</td><td>83651.722</td><td>30031.64</td><td>0.341</td><td>1.707</td><td>-0.036</td><td>29.35</td></tr>\n",
       "<tr><td>TARG108</td><td>Obj8</td><td>STRAIGHT</td><td>2.0</td><td>10.0</td><td>0.0</td><td>83651.454</td><td>30001.4</td><td>0.341</td><td>1.707</td><td>0.649</td><td>34.511</td></tr>\n",
       "</table></div>"
      ],
      "text/plain": [
       "<Table length=15>\n",
       "   ID    NAME  SHAPE     WID     LEN   ...  WIDMM   LENMM    XMM     YMM  \n",
       "  str7   str5   str8   float64 float64 ... float64 float64 float64 float64\n",
       "------- ----- -------- ------- ------- ... ------- ------- ------- -------\n",
       "TARG114    NN STRAIGHT     4.0     4.0 ...   0.683   0.683  -6.272 -33.306\n",
       "TARG111    NN STRAIGHT     4.0     4.0 ...   0.683   0.683  16.462 -31.616\n",
       "TARG109  Obj9 STRAIGHT     2.0    10.0 ...   0.341   1.707  -27.05 -23.042\n",
       "TARG101  Obj1 STRAIGHT     2.0    10.0 ...   0.341   1.707   6.652  -17.29\n",
       "TARG103  Obj3 STRAIGHT     2.0    10.0 ...   0.341   1.707  -7.901 -12.387\n",
       "TARG102  Obj2 STRAIGHT     2.0    10.0 ...   0.341   1.707  32.666   -9.23\n",
       "TARG104  Obj4 STRAIGHT     2.0    10.0 ...   0.341   1.707  -9.075  -4.333\n",
       "TARG105  Obj5 STRAIGHT     2.0    10.0 ...   0.341   1.707   8.155  -0.063\n",
       "TARG106  Obj6 STRAIGHT     2.0    10.0 ...   0.341   1.707  17.277   4.202\n",
       "TARG113    NN STRAIGHT     4.0     4.0 ...   0.683   0.683  33.511   7.553\n",
       "TARG115    NN STRAIGHT     4.0     4.0 ...   0.683   0.683   0.947  10.931\n",
       "TARG110 Obj10 STRAIGHT     2.0    10.0 ...   0.341   1.707   7.319  16.706\n",
       "TARG112    NN STRAIGHT     4.0     4.0 ...   0.683   0.683 -19.329  22.758\n",
       "TARG107  Obj7 STRAIGHT     2.0    10.0 ...   0.341   1.707  -0.036   29.35\n",
       "TARG108  Obj8 STRAIGHT     2.0    10.0 ...   0.341   1.707   0.649  34.511"
      ]
     },
     "execution_count": 10,
     "metadata": {},
     "output_type": "execute_result"
    }
   ],
   "source": [
    "kmsfile='eFEDS197_pointing2.1.kms'\n",
    "targets = slitmask.read_kms(kmsfile,sort='YMM')\n",
    "print(len(targets),len(holes))\n",
    "targets"
   ]
  },
  {
   "cell_type": "markdown",
   "id": "65aa3c98",
   "metadata": {},
   "source": [
    "Now sort the identified holes from left to right and match them\n",
    "with the correspondingly sorted design holes to identify which ones are alignment holes."
   ]
  },
  {
   "cell_type": "code",
   "execution_count": 11,
   "id": "4b518642",
   "metadata": {},
   "outputs": [
    {
     "data": {
      "text/html": [
       "<div><i>Table length=5</i>\n",
       "<table id=\"table47506069563792\" class=\"table-striped table-bordered table-condensed\">\n",
       "<thead><tr><th>y</th><th>x</th></tr></thead>\n",
       "<thead><tr><th>float64</th><th>float64</th></tr></thead>\n",
       "<tr><td>2158.0</td><td>255.0</td></tr>\n",
       "<tr><td>1643.0</td><td>292.5</td></tr>\n",
       "<tr><td>1255.0</td><td>1179.0</td></tr>\n",
       "<tr><td>1992.5185185185185</td><td>1257.530864197531</td></tr>\n",
       "<tr><td>2451.4347826086955</td><td>1525.7782608695652</td></tr>\n",
       "</table></div>"
      ],
      "text/plain": [
       "<Table length=5>\n",
       "        y                  x         \n",
       "     float64            float64      \n",
       "------------------ ------------------\n",
       "            2158.0              255.0\n",
       "            1643.0              292.5\n",
       "            1255.0             1179.0\n",
       "1992.5185185185185  1257.530864197531\n",
       "2451.4347826086955 1525.7782608695652"
      ]
     },
     "execution_count": 11,
     "metadata": {},
     "output_type": "execute_result"
    }
   ],
   "source": [
    "# sort holes by x coordinate\n",
    "holes.sort('x')\n",
    "\n",
    "# loop through holes and targets to find alignment holes\n",
    "align=[]\n",
    "for i,(hole,target) in enumerate(zip(holes,targets)) :\n",
    "    #print(hole['x'],target['YMM'],target['NAME'])\n",
    "    if target['NAME'] == 'NN' : align.append(i)\n",
    "\n",
    "# Display the alignment holes\n",
    "stars.mark(t,holes[align],color='r',rad=20,exit=True)\n",
    "\n",
    "#make table of the measured alignment hole positions\n",
    "h=holes[align]\n",
    "h"
   ]
  },
  {
   "cell_type": "markdown",
   "id": "2b7cab85",
   "metadata": {},
   "source": [
    "Now display image and mark stars that corresonds to the alignment holes in the mask. Using the 'c' key, you just need to mark nearby to the star, and the code will centroid using that as a starting guess."
   ]
  },
  {
   "cell_type": "code",
   "execution_count": 12,
   "id": "b3e7b541",
   "metadata": {},
   "outputs": [
    {
     "name": "stdout",
     "output_type": "stream",
     "text": [
      "Hit c near desired star(s) to get centroid position\n",
      "    i to use integer position of cursor\n",
      "    n to get ID of nearest star\n",
      "    q or e to quit\n"
     ]
    },
    {
     "data": {
      "text/html": [
       "<div><i>Table length=5</i>\n",
       "<table id=\"table47506070412048\" class=\"table-striped table-bordered table-condensed\">\n",
       "<thead><tr><th>id</th><th>x</th><th>y</th><th>MJD</th><th>EXPTIME</th><th>FILTER</th><th>AIRMASS</th></tr></thead>\n",
       "<thead><tr><th>int32</th><th>float32</th><th>float32</th><th>float64</th><th>float32</th><th>bytes1</th><th>float32</th></tr></thead>\n",
       "<tr><td>1</td><td>221.95</td><td>2205.28</td><td>59934.466355</td><td>30.0</td><td></td><td>1.244</td></tr>\n",
       "<tr><td>2</td><td>260.76</td><td>1691.17</td><td>59934.466355</td><td>30.0</td><td></td><td>1.244</td></tr>\n",
       "<tr><td>4</td><td>1146.17</td><td>1306.40</td><td>59934.466355</td><td>30.0</td><td></td><td>1.244</td></tr>\n",
       "<tr><td>3</td><td>1223.02</td><td>2043.20</td><td>59934.466355</td><td>30.0</td><td></td><td>1.244</td></tr>\n",
       "<tr><td>5</td><td>1489.37</td><td>2506.04</td><td>59934.466355</td><td>30.0</td><td></td><td>1.244</td></tr>\n",
       "</table></div>"
      ],
      "text/plain": [
       "<Table length=5>\n",
       "  id     x       y        MJD      EXPTIME FILTER AIRMASS\n",
       "int32 float32 float32   float64    float32 bytes1 float32\n",
       "----- ------- ------- ------------ ------- ------ -------\n",
       "    1  221.95 2205.28 59934.466355    30.0          1.244\n",
       "    2  260.76 1691.17 59934.466355    30.0          1.244\n",
       "    4 1146.17 1306.40 59934.466355    30.0          1.244\n",
       "    3 1223.02 2043.20 59934.466355    30.0          1.244\n",
       "    5 1489.37 2506.04 59934.466355    30.0          1.244"
      ]
     },
     "execution_count": 12,
     "metadata": {},
     "output_type": "execute_result"
    }
   ],
   "source": [
    "t.tv(nomask,max=30000)\n",
    "s=stars.mark(t,rad=7)\n",
    "\n",
    "# sort these by x coorindate to match order of alignment holes\n",
    "s.sort('x')\n",
    "s"
   ]
  },
  {
   "cell_type": "markdown",
   "id": "2237287b",
   "metadata": {},
   "source": [
    "Now use fit() to get the rotation and translation. Output the distance between the measured object and the fit one to ensure that the identification is correct and the solution is reasonable: if mod-obs gives residuals larger than a couple of pixels, you may have the wrong association and solution!"
   ]
  },
  {
   "cell_type": "code",
   "execution_count": 19,
   "id": "ad15037b",
   "metadata": {
    "scrolled": true
   },
   "outputs": [
    {
     "name": "stdout",
     "output_type": "stream",
     "text": [
      "Euclidean Transform: \n",
      "  Rotation (degrees) :  0.22610756795915388\n",
      "  Translation (arcsec)  [-8.84721991 13.13450986]\n",
      " X       Y       mod-obs \n",
      "  -769.0   110.0    1.77\n",
      "  -731.5  -405.0    0.96\n",
      "   155.0  -793.0    1.67\n",
      "   233.5   -55.5    1.23\n",
      "   501.8   403.4    1.80\n",
      "  Rotation (degrees) :  0.22610756795915388\n",
      "  Translation (arcsec)  [-8.84721991 13.13450986]\n"
     ]
    },
    {
     "data": {
      "text/plain": [
       "(0.22610756795915388, array([-8.84721991, 13.13450986]))"
      ]
     },
     "execution_count": 19,
     "metadata": {},
     "output_type": "execute_result"
    },
    {
     "name": "stderr",
     "output_type": "stream",
     "text": [
      "invalid command name \"47506080237248delayed_destroy\"\n",
      "    while executing\n",
      "\"47506080237248delayed_destroy\"\n",
      "    (\"after\" script)\n"
     ]
    }
   ],
   "source": [
    "slitmask.fit(h,s,fitscale=False)"
   ]
  },
  {
   "cell_type": "code",
   "execution_count": 14,
   "id": "c95f705d-6d6e-483a-8c46-f71f32d7539f",
   "metadata": {},
   "outputs": [
    {
     "name": "stdout",
     "output_type": "stream",
     "text": [
      "Help on function fit in module pyvista.slitmask:\n",
      "\n",
      "fit(holes, locstars, ordered=False, fitscale=False)\n",
      "    Given tables of hole and star locations, find offset and rotation\n",
      "    \n",
      "    Parameters\n",
      "    ----------\n",
      "    holes : astropy Table\n",
      "            table of hole positions\n",
      "    stars : astropy Table\n",
      "            table of star positions\n",
      "    ordered : bool, default=False\n",
      "            if False, match holes to stars by closest distance.\n",
      "            if True, stars and holes should match by table order\n",
      "              (and tables should have the same number of entries)\n",
      "    fitscale : bool, default=False\n",
      "            if True, solve for scale as well as rotation and translation\n",
      "    \n",
      "    Returns\n",
      "    -------\n",
      "    \n",
      "    rotation (degrees)\n",
      "    translation (arcsec, assuming .258 arcsec/pix)\n",
      "    scale (if fitscale=True)\n",
      "\n"
     ]
    }
   ],
   "source": [
    "help(slitmask.fit)"
   ]
  },
  {
   "cell_type": "code",
   "execution_count": null,
   "id": "871f3283-ced4-40b9-9971-6e7ccdcb590d",
   "metadata": {},
   "outputs": [],
   "source": []
  }
 ],
 "metadata": {
  "kernelspec": {
   "display_name": "Python 3 (ipykernel)",
   "language": "python",
   "name": "python3"
  },
  "language_info": {
   "codemirror_mode": {
    "name": "ipython",
    "version": 3
   },
   "file_extension": ".py",
   "mimetype": "text/x-python",
   "name": "python",
   "nbconvert_exporter": "python",
   "pygments_lexer": "ipython3",
   "version": "3.11.5"
  }
 },
 "nbformat": 4,
 "nbformat_minor": 5
}
