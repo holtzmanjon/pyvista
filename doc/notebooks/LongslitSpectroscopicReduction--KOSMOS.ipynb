{
 "cells": [
  {
   "cell_type": "markdown",
   "metadata": {},
   "source": [
    "<h2> Longslit Spectroscopic data reduction : ARC 3.5m KOSMOS    "
   ]
  },
  {
   "cell_type": "markdown",
   "metadata": {},
   "source": [
    "Start with some basic imports: we will be using the tv, imred, and spectra modules of pyvista"
   ]
  },
  {
   "cell_type": "code",
   "execution_count": 1,
   "metadata": {},
   "outputs": [],
   "source": [
    "from pyvista import imred, tv, spectra\n",
    "import numpy as np\n",
    "import matplotlib.pyplot as plt"
   ]
  },
  {
   "cell_type": "markdown",
   "metadata": {},
   "source": [
    "pyvista uses a display tool defined in the tv module. To use the interactive\n",
    "display in a notebook, set the display to be an external display window, e.g. with \n",
    "<code>\n",
    "%matplotlib tk\n",
    "</code>\n",
    "Instantiate a tv object, here we just call it t, but you could call it whatever you want!"
   ]
  },
  {
   "cell_type": "code",
   "execution_count": 2,
   "metadata": {},
   "outputs": [],
   "source": [
    "# Use these lines if you are running the notebook yourself. Matplotlib\n",
    "# window will open outside the notebook, which is the desired behavior so\n",
    "# you can have a single display tool, which you should leave open. Other\n",
    "# plot windows will also appear outside the notebook, which you can close\n",
    "# as desired\n",
    "# you may need/want to use qt or osx in the next line\n",
    "%matplotlib tk\n",
    "t=tv.TV()\n",
    "plotinter=True\n",
    "\n",
    "# following lines only for fully non-interactive demo of notebook\n",
    "#%matplotlib inline\n",
    "#plotinter=False\n",
    "#t=None"
   ]
  },
  {
   "cell_type": "markdown",
   "metadata": {},
   "source": [
    "The tool for basic image reduction is a Reducer object, defined in the imred module. Instantiate a reducer here. The main argument is an instrument name, which tells it to read a YAML configuration file for the specified instrument, which sets up things like gain, readout noise, saturation value, etc. We also give it an optional dir= argument to specify the default directory from which to read images, if a directory is not specified in subsequent commands that read images."
   ]
  },
  {
   "cell_type": "code",
   "execution_count": 3,
   "metadata": {},
   "outputs": [
    {
     "name": "stdout",
     "output_type": "stream",
     "text": [
      "INSTRUMENT: KOSMOS   config: \n",
      "  will use format:  /home/holtz/red/UT211030/kosmos//*{:04d}.f*.fits*\n",
      "         gain:  [0.6]    rn: [ 5.]\n",
      "         scale:  None   \n",
      "  Biastype : 1\n",
      "  Bias box: \n",
      "    SC    NC    SR    NR\n",
      "  2055    43    20  4056 \n",
      "  2105    43    20  4056 \n",
      "  Trim box: \n",
      "    SC    NC    SR    NR\n",
      "     0  2048     0  4096 \n",
      "     0  2048     0  4096 \n",
      "  Norm box: \n",
      "    SC    NC    SR    NR\n",
      "  1000    51  2000    51 \n"
     ]
    }
   ],
   "source": [
    "# put directory name with images here\n",
    "indir='/home/holtz/red/UT211030/kosmos/'\n",
    "red=imred.Reducer('KOSMOS',dir=indir)"
   ]
  },
  {
   "cell_type": "markdown",
   "metadata": {},
   "source": [
    "One method of a Reducer object is log(), which reads all of the headers of files in the default directory, and provides summary information"
   ]
  },
  {
   "cell_type": "code",
   "execution_count": 4,
   "metadata": {},
   "outputs": [
    {
     "name": "stdout",
     "output_type": "stream",
     "text": [
      "Help on method log in module pyvista.imred:\n",
      "\n",
      "log(files=None, htmlfile=None, ext=None, hdu=0, channel='', cols=None, display=None) method of pyvista.imred.Reducer instance\n",
      "    Create chronological image log from file headers in default\n",
      "        directory.\n",
      "    \n",
      "        If any .csv file exists in the directory, its contents are\n",
      "        added as a table to htmlfile\n",
      "    \n",
      "    Parameters\n",
      "    ----------\n",
      "    htmlfile : str, default=None\n",
      "               if specified, write HTML log to htmlfile\n",
      "    ext : override default extension to search\n",
      "    cols : array-like, str, specifies which FITS header cards to output,\n",
      "           default=None, which will use cards\n",
      "           as defined in the Reducer object, if they have been set\n",
      "           by configuration file, or, otherwise will use\n",
      "           ['DATE-OBS','OBJNAME','RA','DEC','EXPTIME']\n",
      "    display : if not None, specifies tv tool in which to \n",
      "           display each image and make png thumbnail, to include\n",
      "           in htmlfile\n",
      "    \n",
      "    Returns\n",
      "    -------\n",
      "    astropy table from FITS headers\n",
      "\n"
     ]
    }
   ],
   "source": [
    "help(red.log)"
   ]
  },
  {
   "cell_type": "code",
   "execution_count": 5,
   "metadata": {},
   "outputs": [
    {
     "name": "stdout",
     "output_type": "stream",
     "text": [
      "file /home/holtz/red/UT211030/kosmos/BD28d4211.0009.fits does not have DATE-OBS\n"
     ]
    },
    {
     "data": {
      "text/html": [
       "<i>Table length=32</i>\n",
       "<table id=\"table47470982732624-178915\" class=\"table-striped table-bordered table-condensed\">\n",
       "<thead><tr><th>idx</th><th>FILE</th><th>DATE-OBS</th><th>OBJNAME</th><th>RA</th><th>DEC</th><th>EXPTIME</th></tr></thead>\n",
       "<tr><td>0</td><td>BD28d4211.0009.fits</td><td></td><td></td><td></td><td></td><td></td></tr>\n",
       "<tr><td>1</td><td>flat.0001.fits</td><td>2021-10-30T00:24:54.220537</td><td></td><td>7:28:00.00</td><td>80:00:00.00</td><td>5.0</td></tr>\n",
       "<tr><td>2</td><td>flat.0002.fits</td><td>2021-10-30T00:27:30.532534</td><td></td><td>7:28:00.00</td><td>80:00:00.00</td><td>20.0</td></tr>\n",
       "<tr><td>3</td><td>flat.0003.fits</td><td>2021-10-30T00:28:53.571555</td><td></td><td>7:28:00.00</td><td>80:00:00.00</td><td>5.0</td></tr>\n",
       "<tr><td>4</td><td>flat.0004.fits</td><td>2021-10-30T00:31:04.210227</td><td></td><td>7:28:00.00</td><td>80:00:00.00</td><td>20.0</td></tr>\n",
       "<tr><td>5</td><td>flat.0005.fits</td><td>2021-10-30T00:31:59.111371</td><td></td><td>7:28:00.00</td><td>80:00:00.00</td><td>20.0</td></tr>\n",
       "<tr><td>6</td><td>flat.0006.fits</td><td>2021-10-30T00:32:54.113381</td><td></td><td>7:28:00.00</td><td>80:00:00.00</td><td>20.0</td></tr>\n",
       "<tr><td>7</td><td>HeNeAr.0007.fits</td><td>2021-10-30T00:36:06.854869</td><td></td><td>7:28:00.00</td><td>80:00:00.00</td><td>60.0</td></tr>\n",
       "<tr><td>8</td><td>HeNeAr.0008.fits</td><td>2021-10-30T00:39:12.597137</td><td></td><td>7:28:00.00</td><td>80:00:00.00</td><td>180.0</td></tr>\n",
       "<tr><td>9</td><td>BD28d4211.0010.fits</td><td>2021-10-30T01:08:22.357120</td><td>BD+28d4211</td><td>21:51:11.07</td><td>28:51:51.80</td><td>60.0</td></tr>\n",
       "<tr><td>10</td><td>BD28d4211.0011.fits</td><td>2021-10-30T01:13:35.734994</td><td>BD+28d4211</td><td>21:51:11.07</td><td>28:51:51.80</td><td>200.0</td></tr>\n",
       "<tr><td>11</td><td>GP013_parad.0012.fits</td><td>2021-10-30T01:37:45.543483</td><td>Gp013_parad</td><td>23:36:40.30</td><td>8:49:55.13</td><td>1500.0</td></tr>\n",
       "<tr><td>12</td><td>GP013_parad.0013.fits</td><td>2021-10-30T02:03:41.942789</td><td>Gp013_parad</td><td>23:36:40.30</td><td>8:49:55.13</td><td>1500.0</td></tr>\n",
       "<tr><td>13</td><td>GP013_parad.0014.fits</td><td>2021-10-30T02:29:40.953977</td><td>Gp013_parad</td><td>23:36:40.30</td><td>8:49:55.13</td><td>1200.0</td></tr>\n",
       "<tr><td>14</td><td>He.0015.fits</td><td>2021-10-30T02:52:19.098049</td><td>Gp013_parad</td><td>23:36:40.30</td><td>8:49:55.13</td><td>60.0</td></tr>\n",
       "<tr><td>15</td><td>Ne.0016.fits</td><td>2021-10-30T02:54:14.220596</td><td>Gp013_parad</td><td>23:36:40.30</td><td>8:49:55.13</td><td>60.0</td></tr>\n",
       "<tr><td>16</td><td>Ar.0017.fits</td><td>2021-10-30T02:56:10.677495</td><td>Gp013_parad</td><td>23:36:40.30</td><td>8:49:55.13</td><td>60.0</td></tr>\n",
       "<tr><td>17</td><td>flat.0018.fits</td><td>2021-10-30T02:58:08.054624</td><td>Gp013_parad</td><td>23:36:40.30</td><td>8:49:55.13</td><td>40.0</td></tr>\n",
       "<tr><td>18</td><td>flat.0019.fits</td><td>2021-10-30T02:59:43.882780</td><td>Gp013_parad</td><td>23:36:40.30</td><td>8:49:55.13</td><td>40.0</td></tr>\n",
       "<tr><td>19</td><td>flat.0020.fits</td><td>2021-10-30T03:01:21.316793</td><td>Gp013_parad</td><td>23:36:40.30</td><td>8:49:55.13</td><td>40.0</td></tr>\n",
       "<tr><td>20</td><td>flat.0021.fits</td><td>2021-10-30T03:02:54.902076</td><td>Gp013_parad</td><td>23:36:40.30</td><td>8:49:55.13</td><td>40.0</td></tr>\n",
       "<tr><td>21</td><td>flat.0022.fits</td><td>2021-10-30T03:04:28.515942</td><td>Gp013_parad</td><td>23:36:40.30</td><td>8:49:55.13</td><td>40.0</td></tr>\n",
       "<tr><td>22</td><td>bias.0023.fits</td><td>2021-10-30T03:06:07.294252</td><td>Gp013_parad</td><td>23:36:40.30</td><td>8:49:55.13</td><td>0</td></tr>\n",
       "<tr><td>23</td><td>bias.0024.fits</td><td>2021-10-30T03:07:00.906029</td><td>Gp013_parad</td><td>23:36:40.30</td><td>8:49:55.13</td><td>0</td></tr>\n",
       "<tr><td>24</td><td>bias.0025.fits</td><td>2021-10-30T03:07:54.504361</td><td>Gp013_parad</td><td>23:36:40.30</td><td>8:49:55.13</td><td>0</td></tr>\n",
       "<tr><td>25</td><td>bias.0026.fits</td><td>2021-10-30T03:08:48.102617</td><td>Gp013_parad</td><td>23:36:40.30</td><td>8:49:55.13</td><td>0</td></tr>\n",
       "<tr><td>26</td><td>bias.0027.fits</td><td>2021-10-30T03:09:41.706999</td><td>Gp013_parad</td><td>23:36:40.30</td><td>8:49:55.13</td><td>0</td></tr>\n",
       "<tr><td>27</td><td>bias.0028.fits</td><td>2021-10-30T03:10:35.343471</td><td>Gp013_parad</td><td>23:36:40.30</td><td>8:49:55.13</td><td>0</td></tr>\n",
       "<tr><td>28</td><td>bias.0029.fits</td><td>2021-10-30T03:11:28.965655</td><td>Gp013_parad</td><td>23:36:40.30</td><td>8:49:55.13</td><td>0</td></tr>\n",
       "<tr><td>29</td><td>bias.0030.fits</td><td>2021-10-30T03:12:22.668365</td><td>Gp013_parad</td><td>23:36:40.30</td><td>8:49:55.13</td><td>0</td></tr>\n",
       "<tr><td>30</td><td>bias.0031.fits</td><td>2021-10-30T03:13:16.315174</td><td>Gp013_parad</td><td>23:36:40.30</td><td>8:49:55.13</td><td>0</td></tr>\n",
       "<tr><td>31</td><td>bias.0032.fits</td><td>2021-10-30T03:14:09.969770</td><td>Gp013_parad</td><td>23:36:40.30</td><td>8:49:55.13</td><td>0</td></tr>\n",
       "</table><style>table.dataTable {clear: both; width: auto !important; margin: 0 !important;}\n",
       ".dataTables_info, .dataTables_length, .dataTables_filter, .dataTables_paginate{\n",
       "display: inline-block; margin-right: 1em; }\n",
       ".paginate_button { margin-right: 5px; }\n",
       "</style>\n",
       "<script>\n",
       "\n",
       "var astropy_sort_num = function(a, b) {\n",
       "    var a_num = parseFloat(a);\n",
       "    var b_num = parseFloat(b);\n",
       "\n",
       "    if (isNaN(a_num) && isNaN(b_num))\n",
       "        return ((a < b) ? -1 : ((a > b) ? 1 : 0));\n",
       "    else if (!isNaN(a_num) && !isNaN(b_num))\n",
       "        return ((a_num < b_num) ? -1 : ((a_num > b_num) ? 1 : 0));\n",
       "    else\n",
       "        return isNaN(a_num) ? -1 : 1;\n",
       "}\n",
       "\n",
       "require.config({paths: {\n",
       "    datatables: 'https://cdn.datatables.net/1.10.12/js/jquery.dataTables.min'\n",
       "}});\n",
       "require([\"datatables\"], function(){\n",
       "    console.log(\"$('#table47470982732624-178915').dataTable()\");\n",
       "    \n",
       "jQuery.extend( jQuery.fn.dataTableExt.oSort, {\n",
       "    \"optionalnum-asc\": astropy_sort_num,\n",
       "    \"optionalnum-desc\": function (a,b) { return -astropy_sort_num(a, b); }\n",
       "});\n",
       "\n",
       "    $('#table47470982732624-178915').dataTable({\n",
       "        order: [],\n",
       "        pageLength: 10,\n",
       "        lengthMenu: [[10, 25, 50, 100, 500, 1000, -1], [10, 25, 50, 100, 500, 1000, 'All']],\n",
       "        pagingType: \"full_numbers\",\n",
       "        columnDefs: [{targets: [0], type: \"optionalnum\"}]\n",
       "    });\n",
       "});\n",
       "</script>\n"
      ],
      "text/plain": [
       "<IPython.core.display.HTML object>"
      ]
     },
     "execution_count": 5,
     "metadata": {},
     "output_type": "execute_result"
    }
   ],
   "source": [
    "red.log().show_in_notebook(display_length=10)"
   ]
  },
  {
   "cell_type": "markdown",
   "metadata": {},
   "source": [
    "A main method of the reducer object is the reduce() method. Without any additional arguments, reduce() will read an image from disk, subtract the overscan (region(s) as determined from the instrument configuration file), compute an uncertainty array using the gain and readout noise from the instrument configuration file, and return a pyvista Data object with the data, uncertainty, and mask. \n",
    "<p>\n",
    "To specify the input image, we could pass a string with the file name. If the string does not include a '/', it will read from the default input directory.\n",
    "<p>\n",
    "If the file can be identified with a unique integer, then you can just specify this number, which can be very convenient. This is turned into a character string using the formstr attribute defined in the configuration file, which is used to search for the file to read.\n",
    "<p>\n",
    "\n",
    "If you want to read the raw image, with no overscan subtraction, you can use the rd() method."
   ]
  },
  {
   "cell_type": "code",
   "execution_count": 6,
   "metadata": {},
   "outputs": [
    {
     "name": "stdout",
     "output_type": "stream",
     "text": [
      "  Reading file: /home/holtz/red/UT211030/kosmos/GP013_parad.0012.fits\n",
      "  subtracting overscan vector \n",
      "  subtracting overscan vector \n",
      "INFO: array provided for uncertainty; assuming it is a StdDevUncertainty. [astropy.nddata.ccddata]\n"
     ]
    }
   ],
   "source": [
    "a=red.reduce(12)"
   ]
  },
  {
   "cell_type": "markdown",
   "metadata": {},
   "source": [
    "The resulting Data object has attributes: header, data, uncertainty, and bitmask, which are carried along through the processing.\n",
    "\n",
    "For example, to see the header:"
   ]
  },
  {
   "cell_type": "code",
   "execution_count": 7,
   "metadata": {},
   "outputs": [
    {
     "data": {
      "text/plain": [
       "SIMPLE  =                    T / conforms to FITS standard                      \n",
       "BITPIX  =                   32 / array data type                                \n",
       "NAXIS   =                    2 / number of array dimensions                     \n",
       "NAXIS1  =                 2148                                                  \n",
       "NAXIS2  =                 4096                                                  \n",
       "EXTEND  =                    T                                                  \n",
       "OBSERVAT= 'APO'                / Per the IRAF observatory list.                 \n",
       "TELESCOP= '3.5m'                                                                \n",
       "INSTRUME= 'kosmos'             / Instrument name                                \n",
       "LATITUDE= +3.2780361000000E+01 / Latitude of telescope base                     \n",
       "LONGITUD= -1.0582041700000E+02 / Longitude of telescope base                    \n",
       "UTC-TAI = -37.0                / UTC = TAI + UTC_TAI(seconds)                   \n",
       "UT1-TAI = -37.10               / UT1 = TAI + UT1_TAI(seconds)                   \n",
       "LST     = '21:08:14.718'       / Local Apparent Sidereal time                   \n",
       "OBJNAME = 'Gp013_parad'        / Object name, per TCC ObjName                   \n",
       "RADECSYS= 'FK5'                / Coordinate system, per TCC ObjSys              \n",
       "OBJANGLE= -1.1567187605000E+02 / Angle from inst x,y to sky                     \n",
       "RA      = '23:36:40.30'        / RA hours, extrapolated from TCC ObjNetPos      \n",
       "DEC     = '8:49:55.13'         / Dec degrees, extrapolated from TCC ObjNetPos   \n",
       "ARCOFFX = +0.0000000000000E+00 / TCC arc offset X                               \n",
       "ARCOFFY = +0.0000000000000E+00 / TCC arc offset Y                               \n",
       "CALOFFX = +0.0000000000000E+00 / TCC calibration offset X                       \n",
       "CALOFFY = +0.0000000000000E+00 / TCC calibration offset Y                       \n",
       "BOREOFFX= +0.0000000000000E+00 / TCC boresight offset X                         \n",
       "BOREOFFY= +0.0000000000000E+00 / TCC boresight offset Y                         \n",
       "AIRPRESS= +7.2990000000000E+04 / Air pressure, Pascals                          \n",
       "HUMIDITY= +2.5000000000000E-01 / Humidity, fraction                             \n",
       "TELAZ   = +3.1317636700000E+02 / TCC AxePos azimuth                             \n",
       "TELALT  = +5.8120741000000E+01 / TCC AxePos altitude                            \n",
       "TELROT  = -9.5728420000000E+01 / TCC AxePos rotator                             \n",
       "TELFOCUS= +5.7000000000000E+02 / TCC SecFocus                                   \n",
       "ZD      = +3.1879259000000E+01 / Zenith distance                                \n",
       "AIRMASS = +1.1776303102377E+00 / 1/cos(ZD)                                      \n",
       "FILENAME= 'GP013_parad.0012.fits'/ original filename                            \n",
       "DATE-OBS= '2021-10-30T01:37:45.543483' / TAI time at the start of the exposure  \n",
       "BINX    =                    1 / column bin factor                              \n",
       "BINY    =                    1 / row bin factor                                 \n",
       "CCDBIN1 =                    1 / column bin factor                              \n",
       "CCDBIN2 =                    1 / row bin factor                                 \n",
       "IMAGETYP= 'Object  '           / exposure type                                  \n",
       "EXPTIME =               1500.0 / exposure time (sec)                            \n",
       "CCDTEMP =                162.0 / detector temp (K)                              \n",
       "KRYPTON = 'off     '                                                            \n",
       "DISPERSR= 'red     '                                                            \n",
       "QUARTZ  = 'off     '                                                            \n",
       "GFOC    =                   10                                                  \n",
       "CALSTAGE=                  100                                                  \n",
       "CAMFOC  =                 3166                                                  \n",
       "NEON    = 'off     '                                                            \n",
       "ARGON   = 'off     '                                                            \n",
       "SLIT    = '2.0-low '                                                            \n",
       "COLFOC  =                 2000                                                  \n",
       "FILTER2 = 'empty3  '                                                            \n",
       "FILTER1 = 'empty2  '                                                            \n",
       "FILE    = 'GP013_parad.0012.fits'                                               \n",
       "OBJECT  = 'Gp013_parad'                                                         "
      ]
     },
     "execution_count": 7,
     "metadata": {},
     "output_type": "execute_result"
    }
   ],
   "source": [
    "a.header"
   ]
  },
  {
   "cell_type": "markdown",
   "metadata": {},
   "source": [
    "We can display the image using the tv() method of our display tool, which can take as input a Data object, a numpy array, or a FITS HDU object>"
   ]
  },
  {
   "cell_type": "code",
   "execution_count": 8,
   "metadata": {},
   "outputs": [],
   "source": [
    "if t is not None: \n",
    "    t.tv(a)"
   ]
  },
  {
   "cell_type": "markdown",
   "metadata": {},
   "source": [
    "Inside the display tool, you can use mouse buttons to zoom in and out and pan, and there are a number of other convenience keys (use h key for help). Warning: while you can use the matplotlib navigation, the built-in mouse button response will confuse things; if you just prefer the matplotlib navigation, you can toggle the pyvista mouse commands on/off with the Z key."
   ]
  },
  {
   "cell_type": "markdown",
   "metadata": {},
   "source": [
    "The uncertainty is stored as a standard deviation, with values in the uncertainty.array attribute, e.g.:"
   ]
  },
  {
   "cell_type": "code",
   "execution_count": 10,
   "metadata": {},
   "outputs": [],
   "source": [
    "if t is not None:\n",
    "    t.tv(a.uncertainty.array)"
   ]
  },
  {
   "cell_type": "markdown",
   "metadata": {},
   "source": [
    "The tv() method has a convenience keyword, sn=, which can be used to display the S/N of an image, i.e. a.data/a.uncertainty.array"
   ]
  },
  {
   "cell_type": "code",
   "execution_count": 11,
   "metadata": {},
   "outputs": [],
   "source": [
    "if t is not None :\n",
    "    t.tv(a,sn=True)"
   ]
  },
  {
   "cell_type": "markdown",
   "metadata": {},
   "source": [
    "The bitmask attribute of a Data object can carry along information about different types of pixels, e.g. bad pixels, saturated pixels, etc."
   ]
  },
  {
   "cell_type": "code",
   "execution_count": 11,
   "metadata": {},
   "outputs": [],
   "source": [
    "if t is not None :\n",
    "    t.tv(a.bitmask)"
   ]
  },
  {
   "cell_type": "markdown",
   "metadata": {},
   "source": [
    "Note that Data objects can be saved to disk using their write() method. This will save the different attributes (data, uncertainty, bitmask, others...) as different extensions in a FITS file. The Reducer object also has a write() method that uses Data.write(), but will write each channel (for multi-channel instruments) into a separate file.\n",
    "\n",
    "The Data objects can be created from a disk FITS file using the read() method of a Data object"
   ]
  },
  {
   "cell_type": "code",
   "execution_count": 47,
   "metadata": {},
   "outputs": [
    {
     "name": "stdout",
     "output_type": "stream",
     "text": [
      "appending uncertainty\n",
      "appending bitmask\n",
      "INFO: first HDU with data is extension 1. [pyvista.dataclass]\n"
     ]
    }
   ],
   "source": [
    "a.write('test.fits')\n",
    "from pyvista.dataclass import Data\n",
    "aa=Data.read('test.fits')"
   ]
  },
  {
   "cell_type": "markdown",
   "metadata": {},
   "source": [
    "<h4> Calibration: make and apply flat field"
   ]
  },
  {
   "cell_type": "markdown",
   "metadata": {},
   "source": [
    "If we add additional arguments to reduce(), we can add additional calibration steps. For example, to flat field the data, we would add a flat= keyword through which we give the reducer a flat field.\n",
    "<p>\n",
    "First, however, we have to make the flat field, which is accomplished using the mkflat() method, which takes as input a list of frames to be used to construct the master flat field (superflat). For a spectrograph, we use the spec=True keyword which will remove the spectral signature from the combined flat.\n",
    "<p>\n",
    "If you specify a pyvista TV tool with the display= keyword, mkflat() will display the final flat field, then each individual input frame divided by\n",
    "the final flat, so you can inspect and confirm that all input frames are similar. You will need to enter a space in the display window after each\n",
    "image is displayed to proceed to the next, as prompted by the output.\n",
    "<p>\n",
    "Note the littrow= keyword, which can be used to attempt to remove the Litrrow ghost from the flat, but its location needs to be identified in the input image bitmasks."
   ]
  },
  {
   "cell_type": "code",
   "execution_count": 12,
   "metadata": {
    "scrolled": true
   },
   "outputs": [
    {
     "name": "stdout",
     "output_type": "stream",
     "text": [
      "  Reading file: /home/holtz/red/UT211030/kosmos/flat.0018.fits\n",
      "  subtracting overscan vector \n",
      "  subtracting overscan vector \n",
      "  Reading file: /home/holtz/red/UT211030/kosmos/flat.0019.fits\n",
      "  subtracting overscan vector \n",
      "  subtracting overscan vector \n",
      "  Reading file: /home/holtz/red/UT211030/kosmos/flat.0020.fits\n",
      "  subtracting overscan vector \n",
      "  subtracting overscan vector \n",
      "  Reading file: /home/holtz/red/UT211030/kosmos/flat.0021.fits\n",
      "  subtracting overscan vector \n",
      "  subtracting overscan vector \n",
      "  Reading file: /home/holtz/red/UT211030/kosmos/flat.0022.fits\n",
      "  subtracting overscan vector \n",
      "  subtracting overscan vector \n",
      "  combining data with median....\n",
      "  calculating uncertainty....\n"
     ]
    }
   ],
   "source": [
    "flatims=[18,19,20,21,22]\n",
    "flat=red.mkflat(flatims,spec=True,display=None,littrow=False)"
   ]
  },
  {
   "cell_type": "markdown",
   "metadata": {},
   "source": [
    "Here we display the flat, and demonstrate the use of the min= and max= keywords in the tv() method, which set the image display scaling manually."
   ]
  },
  {
   "cell_type": "code",
   "execution_count": 13,
   "metadata": {},
   "outputs": [],
   "source": [
    "if t is not None :\n",
    "    t.tv(flat,min=0.5,max=1.5)"
   ]
  },
  {
   "cell_type": "markdown",
   "metadata": {},
   "source": [
    "Here we use the reduce() method to read, overscan subtract, and flat field an image, then display it."
   ]
  },
  {
   "cell_type": "code",
   "execution_count": 14,
   "metadata": {},
   "outputs": [
    {
     "name": "stdout",
     "output_type": "stream",
     "text": [
      "  Reading file: /home/holtz/red/UT211030/kosmos/BD28d4211.0010.fits\n",
      "  subtracting overscan vector \n",
      "  subtracting overscan vector \n",
      "  flat fielding...\n",
      "INFO: array provided for uncertainty; assuming it is a StdDevUncertainty. [astropy.nddata.ccddata]\n"
     ]
    }
   ],
   "source": [
    "star=red.reduce(10,flat=flat)\n",
    "if t is not None:\n",
    "    t.tv(star,max=1000) "
   ]
  },
  {
   "cell_type": "markdown",
   "metadata": {},
   "source": [
    "Here is an example of attempting cosmic ray rejection. CR rejection can be challenging; the main concern is that the cosmic ray rejection flags object pixels as cosmic rays! Users should be very careful about this. The Reducer object provides two algorithms for CR-rejection. If crbox='lacosmic\", then the LA Cosmic routine of van Dokkum, as implemented\n",
    "in the astroscrappy package, is used. If crbox=[nrow,ncol], then the image\n",
    "is median-filtered with the specfied box shape, and pixels above nsig (default=5) times the uncertainty are replaced with the median; if multiple values of crsig are input as a list (e.g., crsig=[5,2], then multiple iterations are done, where iterations after the first only apply to neighbors of CRs identified in previous iterations. For spectroscopy, beware: a box aligned with the wavelength direction will avoid flagging pixels in the object, but may flag pixels in sky lines, while the reverse is true for a box aligned along the slit.\n",
    "\n",
    "If you specify the display= keyword and pass a display tool, then the routine will show you the identified, CRs, the cleaned image, and the original image. This demonstrates the rolling buffer of the TV tool, which saves 4 images that can be cycled through using the '-' and '+/=' keys to move through the stack."
   ]
  },
  {
   "cell_type": "code",
   "execution_count": 15,
   "metadata": {},
   "outputs": [
    {
     "name": "stdout",
     "output_type": "stream",
     "text": [
      "  zapping CRs with astroscrappy detect_cosmics\n",
      "  See CRs and CR-zapped image and original using - key\n",
      "   To continue, hit space in display window (p for debug) \n"
     ]
    }
   ],
   "source": [
    "# Following would use a simple thresholded median filter\n",
    "#crstar=red.crrej(star,crbox=[9,1],crsig=[5,2],display=t)\n",
    "# Following uses lacosmic\n",
    "crstar=red.crrej(star,crbox='lacosmic',display=t)"
   ]
  },
  {
   "cell_type": "markdown",
   "metadata": {},
   "source": [
    "For lacosmic, the astroscrappy routine does not use an input uncertainty array, so can incorrectly flag pixels after flat fielding, if the flat field has a lot of dynamic range.\n",
    "\n",
    "Note that you can include cosmic ray rejection in the reduce() method by adding a crbox= (and, optionally, a crsig=) keyword, in which case, the CR rejection is done <b> before </b> the flat fielding.\n",
    "\n",
    "Notice that if you use the display= keyword in reduce(), it will display images at each stage of the reduction so you can inspect, after which you will need to enter a space in the display window to continue."
   ]
  },
  {
   "cell_type": "code",
   "execution_count": 16,
   "metadata": {},
   "outputs": [
    {
     "name": "stdout",
     "output_type": "stream",
     "text": [
      "  Reading file: /home/holtz/red/UT211030/kosmos/BD28d4211.0010.fits\n",
      "  subtracting overscan vector \n",
      "  subtracting overscan vector \n",
      "  See bias box (solid outlines applied to dashed regions of the same color), and cross section. \n",
      "   To continue, hit space in display window (p for debug) \n",
      "  zapping CRs with astroscrappy detect_cosmics\n",
      "  See CRs and CR-zapped image and original using - key\n",
      "   To continue, hit space in display window (p for debug) \n",
      "  flat fielding...\n",
      "  See flat-fielded image and original with - (minus) key.\n",
      "   To continue, hit space in display window (p for debug) \n",
      "INFO: array provided for uncertainty; assuming it is a StdDevUncertainty. [astropy.nddata.ccddata]\n"
     ]
    }
   ],
   "source": [
    "star=red.reduce(10,crbox='lacosmic',flat=flat,display=t)"
   ]
  },
  {
   "cell_type": "markdown",
   "metadata": {},
   "source": [
    "<h4> Tracing and extraction"
   ]
  },
  {
   "cell_type": "markdown",
   "metadata": {},
   "source": [
    "We want to extract the spectrum, i.e. from the 2D image to a 1D spectrum. Start with a trace previously determined for KOSMOS. The Trace object sets the order of the polynomial used to fit the trace (degree attribute), the length of the slit (rows attribute), the range of pixels along the slit to be used to automatically find an object, etc."
   ]
  },
  {
   "cell_type": "code",
   "execution_count": 17,
   "metadata": {},
   "outputs": [
    {
     "data": {
      "text/plain": [
       "{'type': 'Polynomial1D',\n",
       " 'degree': 2,\n",
       " 'sc0': 2048,\n",
       " 'pix0': 0,\n",
       " 'spectrum': array([    0.,     0.,     0., ...,  3448.,  3443.,  3442.], dtype='>f8'),\n",
       " 'rad': 5,\n",
       " 'lags': array([-300, -299, -298, -297, -296, -295, -294, -293, -292, -291, -290,\n",
       "        -289, -288, -287, -286, -285, -284, -283, -282, -281, -280, -279,\n",
       "        -278, -277, -276, -275, -274, -273, -272, -271, -270, -269, -268,\n",
       "        -267, -266, -265, -264, -263, -262, -261, -260, -259, -258, -257,\n",
       "        -256, -255, -254, -253, -252, -251, -250, -249, -248, -247, -246,\n",
       "        -245, -244, -243, -242, -241, -240, -239, -238, -237, -236, -235,\n",
       "        -234, -233, -232, -231, -230, -229, -228, -227, -226, -225, -224,\n",
       "        -223, -222, -221, -220, -219, -218, -217, -216, -215, -214, -213,\n",
       "        -212, -211, -210, -209, -208, -207, -206, -205, -204, -203, -202,\n",
       "        -201, -200, -199, -198, -197, -196, -195, -194, -193, -192, -191,\n",
       "        -190, -189, -188, -187, -186, -185, -184, -183, -182, -181, -180,\n",
       "        -179, -178, -177, -176, -175, -174, -173, -172, -171, -170, -169,\n",
       "        -168, -167, -166, -165, -164, -163, -162, -161, -160, -159, -158,\n",
       "        -157, -156, -155, -154, -153, -152, -151, -150, -149, -148, -147,\n",
       "        -146, -145, -144, -143, -142, -141, -140, -139, -138, -137, -136,\n",
       "        -135, -134, -133, -132, -131, -130, -129, -128, -127, -126, -125,\n",
       "        -124, -123, -122, -121, -120, -119, -118, -117, -116, -115, -114,\n",
       "        -113, -112, -111, -110, -109, -108, -107, -106, -105, -104, -103,\n",
       "        -102, -101, -100,  -99,  -98,  -97,  -96,  -95,  -94,  -93,  -92,\n",
       "         -91,  -90,  -89,  -88,  -87,  -86,  -85,  -84,  -83,  -82,  -81,\n",
       "         -80,  -79,  -78,  -77,  -76,  -75,  -74,  -73,  -72,  -71,  -70,\n",
       "         -69,  -68,  -67,  -66,  -65,  -64,  -63,  -62,  -61,  -60,  -59,\n",
       "         -58,  -57,  -56,  -55,  -54,  -53,  -52,  -51,  -50,  -49,  -48,\n",
       "         -47,  -46,  -45,  -44,  -43,  -42,  -41,  -40,  -39,  -38,  -37,\n",
       "         -36,  -35,  -34,  -33,  -32,  -31,  -30,  -29,  -28,  -27,  -26,\n",
       "         -25,  -24,  -23,  -22,  -21,  -20,  -19,  -18,  -17,  -16,  -15,\n",
       "         -14,  -13,  -12,  -11,  -10,   -9,   -8,   -7,   -6,   -5,   -4,\n",
       "          -3,   -2,   -1,    0,    1,    2,    3,    4,    5,    6,    7,\n",
       "           8,    9,   10,   11,   12,   13,   14,   15,   16,   17,   18,\n",
       "          19,   20,   21,   22,   23,   24,   25,   26,   27,   28,   29,\n",
       "          30,   31,   32,   33,   34,   35,   36,   37,   38,   39,   40,\n",
       "          41,   42,   43,   44,   45,   46,   47,   48,   49,   50,   51,\n",
       "          52,   53,   54,   55,   56,   57,   58,   59,   60,   61,   62,\n",
       "          63,   64,   65,   66,   67,   68,   69,   70,   71,   72,   73,\n",
       "          74,   75,   76,   77,   78,   79,   80,   81,   82,   83,   84,\n",
       "          85,   86,   87,   88,   89,   90,   91,   92,   93,   94,   95,\n",
       "          96,   97,   98,   99,  100,  101,  102,  103,  104,  105,  106,\n",
       "         107,  108,  109,  110,  111,  112,  113,  114,  115,  116,  117,\n",
       "         118,  119,  120,  121,  122,  123,  124,  125,  126,  127,  128,\n",
       "         129,  130,  131,  132,  133,  134,  135,  136,  137,  138,  139,\n",
       "         140,  141,  142,  143,  144,  145,  146,  147,  148,  149,  150,\n",
       "         151,  152,  153,  154,  155,  156,  157,  158,  159,  160,  161,\n",
       "         162,  163,  164,  165,  166,  167,  168,  169,  170,  171,  172,\n",
       "         173,  174,  175,  176,  177,  178,  179,  180,  181,  182,  183,\n",
       "         184,  185,  186,  187,  188,  189,  190,  191,  192,  193,  194,\n",
       "         195,  196,  197,  198,  199,  200,  201,  202,  203,  204,  205,\n",
       "         206,  207,  208,  209,  210,  211,  212,  213,  214,  215,  216,\n",
       "         217,  218,  219,  220,  221,  222,  223,  224,  225,  226,  227,\n",
       "         228,  229,  230,  231,  232,  233,  234,  235,  236,  237,  238,\n",
       "         239,  240,  241,  242,  243,  244,  245,  246,  247,  248,  249,\n",
       "         250,  251,  252,  253,  254,  255,  256,  257,  258,  259,  260,\n",
       "         261,  262,  263,  264,  265,  266,  267,  268,  269,  270,  271,\n",
       "         272,  273,  274,  275,  276,  277,  278,  279,  280,  281,  282,\n",
       "         283,  284,  285,  286,  287,  288,  289,  290,  291,  292,  293,\n",
       "         294,  295,  296,  297,  298,  299], dtype='>i8'),\n",
       " 'transpose': True,\n",
       " 'rows': array([ 550, 1450], dtype='>i8'),\n",
       " 'index': array([0], dtype='>i8'),\n",
       " 'model': [<Polynomial1D(2, c0=936.1384531294843, c1=0.003375934520125782, c2=1.2666657913119536e-07)>],\n",
       " 'sigdegree': 0,\n",
       " 'sigmodel': None}"
      ]
     },
     "execution_count": 17,
     "metadata": {},
     "output_type": "execute_result"
    }
   ],
   "source": [
    "trace=spectra.Trace('KOSMOS/KOSMOS_trace.fits')\n",
    "vars(trace) "
   ]
  },
  {
   "cell_type": "markdown",
   "metadata": {},
   "source": [
    "Mote that for working with spectra, pyvista uses the horizontal dimensiona s the wavelength dimension. If wavelength is in the vertical direction (as it is for KOSMOS), set transpose=True, and images will be transposed.\n",
    "\n",
    "Instead of using a predefined trace, you caninstantiate a fresh Trace object, specifying whether your input images have wavelength along columns (transpose=False) or rows (transpose=True), and specifying the extent of the slit with the rows= keyword. Other keywords allow you to specify other attributes, see the help."
   ]
  },
  {
   "cell_type": "code",
   "execution_count": 18,
   "metadata": {},
   "outputs": [
    {
     "data": {
      "text/plain": [
       "{'type': 'Polynomial1D',\n",
       " 'degree': 2,\n",
       " 'sigdegree': 0,\n",
       " 'pix0': 0,\n",
       " 'spectrum': None,\n",
       " 'rad': 5,\n",
       " 'transpose': True,\n",
       " 'lags': range(-50, 50),\n",
       " 'rows': [550, 1450],\n",
       " 'model': None,\n",
       " 'sigmodel': None,\n",
       " 'sc0': None}"
      ]
     },
     "execution_count": 18,
     "metadata": {},
     "output_type": "execute_result"
    }
   ],
   "source": [
    "mytrace=spectra.Trace(transpose=True,rows=[550,1450])\n",
    "vars(mytrace)"
   ]
  },
  {
   "cell_type": "markdown",
   "metadata": {},
   "source": [
    "We can use the existing trace to retrace a new spectrum. This is done by cross-correlating the reference spectrum with a spatial cut across the input spectrum (at sc0) to find the shift, then using the old model to start the trace from that starting position. The functional form of the old model is preserved.\n",
    "\n",
    "If the display= keyword is specified, the display will show the derived traces centers (green points), and the polynomial fit to these (magenta line) that defines the trace. You will need to hit the space bar in the display window to proceed."
   ]
  },
  {
   "cell_type": "code",
   "execution_count": 20,
   "metadata": {},
   "outputs": [
    {
     "name": "stdout",
     "output_type": "stream",
     "text": [
      "  Derived pixel shift from input trace:  -0.0580956348283\n",
      "  Tracing row: 943\n",
      "  See trace. Hit space bar to continue....\n"
     ]
    }
   ],
   "source": [
    "trace.retrace(star,display=t)"
   ]
  },
  {
   "cell_type": "markdown",
   "metadata": {},
   "source": [
    "There are various alternatives for finding traces:"
   ]
  },
  {
   "cell_type": "markdown",
   "metadata": {},
   "source": [
    "A. one could use the find() method to determine the shift between the stored trace and your frame automatically with cross correlation, then just go straight to extraction using the shape of the stored trace; this would be applicable if your object is too faint, or doesn't have sufficient continuum, to trace. If you want to mark the location of the object manually, use the inter=True keyword (along with display=) in find(). \n"
   ]
  },
  {
   "cell_type": "code",
   "execution_count": 21,
   "metadata": {
    "scrolled": true
   },
   "outputs": [
    {
     "name": "stdout",
     "output_type": "stream",
     "text": [
      "Hit \"f\" on location of spectrum: \n",
      "setting trace offset to:  0.0934385875121\n",
      "0.0934385875121\n"
     ]
    }
   ],
   "source": [
    "trace.model[0](2048)\n",
    "if t is not None:\n",
    "    trace.find(star,inter=True,display=t)\n",
    "print(trace.pix0)"
   ]
  },
  {
   "cell_type": "markdown",
   "metadata": {},
   "source": [
    "B. You can just find peak(s) in the spatial direction using findpeak(), then trace then. You specify a threshold in S/N to identify peaks.\n",
    "\n",
    "Note that the trace object has the flexibility to find use multiple objects along the slit."
   ]
  },
  {
   "cell_type": "code",
   "execution_count": 22,
   "metadata": {
    "scrolled": true
   },
   "outputs": [
    {
     "name": "stdout",
     "output_type": "stream",
     "text": [
      "looking for peaks using 200 pixels around 2048, threshhold of 50.000000\n",
      "peaks:  [394]\n",
      "aperture/fiber:  [0]\n",
      "  Tracing row: 944\n",
      "  See trace. Hit space bar to continue....\n"
     ]
    }
   ],
   "source": [
    "peaks,ids=trace.findpeak(star,thresh=50)\n",
    "                            \n",
    "trace.trace(star,peaks,display=t)"
   ]
  },
  {
   "cell_type": "markdown",
   "metadata": {},
   "source": [
    "The model is now modified for the input spectrum:"
   ]
  },
  {
   "cell_type": "code",
   "execution_count": 23,
   "metadata": {},
   "outputs": [
    {
     "data": {
      "text/plain": [
       "943.8185449238722"
      ]
     },
     "execution_count": 23,
     "metadata": {},
     "output_type": "execute_result"
    }
   ],
   "source": [
    "trace.model[0](2048)"
   ]
  },
  {
   "cell_type": "markdown",
   "metadata": {},
   "source": [
    "C. If you needed to create Trace from scratch, instantiate one with rows=, lags=, sc= (transpose= determines whether input image needs to be transposed to get wavelength changing along columns). \n",
    "<p>\n",
    "    Note the skip= keyword which can be used when tracing to speed things up by only computing centroids every skip pixels, taking a median around these pixels of width skip pixels. The default is skip=10"
   ]
  },
  {
   "cell_type": "code",
   "execution_count": 24,
   "metadata": {},
   "outputs": [
    {
     "name": "stdout",
     "output_type": "stream",
     "text": [
      "looking for peaks using 200 pixels around 2048, threshhold of 50.000000\n",
      "peaks:  [394]\n",
      "aperture/fiber:  [0]\n",
      "  Tracing row: 944\n",
      "  See trace. Hit space bar to continue....\n"
     ]
    },
    {
     "data": {
      "text/plain": [
       "{'type': 'Polynomial1D',\n",
       " 'degree': 2,\n",
       " 'sigdegree': 0,\n",
       " 'pix0': 0,\n",
       " 'spectrum': array([ 54208.6171875 ,   8355.84960938,      0.        , ...,\n",
       "         10526.25      ,  22835.43359375,  14175.71191406]),\n",
       " 'rad': 5,\n",
       " 'transpose': True,\n",
       " 'lags': range(-300, 300),\n",
       " 'rows': [550, 1450],\n",
       " 'model': [<Polynomial1D(2, c0=936.3451816469812, c1=0.0034208334377593386, c2=1.1122901297644918e-07)>],\n",
       " 'sigmodel': None,\n",
       " 'sc0': 2048,\n",
       " 'spectrum2d': array([[ 63057.30859375,  65830.546875  ,  70473.890625  , ...,\n",
       "           9804.39550781,   8473.62792969,   7074.20507812],\n",
       "        [ -2968.5246582 ,  -3013.0637207 ,  -3621.54174805, ...,\n",
       "          -1004.72509766,   -867.59320068,   -701.35974121],\n",
       "        [ -1865.66638184,  -2760.59008789,  -2960.86132812, ...,\n",
       "           -575.87982178,   -506.28585815,   -497.36723328],\n",
       "        ..., \n",
       "        [ -5614.91894531,  -4634.69824219,  -7127.08398438, ...,\n",
       "          -1282.60974121,  -1438.92980957,  -1146.53924561],\n",
       "        [ -7239.26904297,  -9127.20410156,  -8760.25390625, ...,\n",
       "          -1748.53100586,  -1553.33398438,  -1494.47003174],\n",
       "        [-14171.89160156, -16047.6328125 , -18870.61914062, ...,\n",
       "          -4419.98095703,  -4023.92333984,  -2979.5748291 ]]),\n",
       " 'skip': 100,\n",
       " 'cols2d': array([  50,  150,  250,  350,  450,  550,  650,  750,  850,  950, 1050,\n",
       "        1150, 1250, 1350, 1450, 1550, 1650, 1750, 1850, 1950, 2050, 2150,\n",
       "        2250, 2350, 2450, 2550, 2650, 2750, 2850, 2950, 3050, 3150, 3250,\n",
       "        3350, 3450, 3550, 3650, 3750, 3850, 3950, 4050]),\n",
       " 'cols': [array([ 148,  248,  348,  448,  548,  648,  748,  848,  948, 1048, 1148,\n",
       "         1248, 1348, 1448, 1548, 1648, 1748, 1848, 1948, 2048, 2148, 2248,\n",
       "         2348, 2448, 2548, 2648, 2748, 2848, 2948, 3048, 3148, 3248, 3348,\n",
       "         3448, 3548, 3648, 3748, 3848, 3948, 4048])],\n",
       " 'ypos': [array([ 936.9135547 ,  937.16728644,  937.70192947,  937.92136271,\n",
       "          938.15807016,  938.69601156,  938.91991315,  939.1699853 ,\n",
       "          939.70372871,  939.94509177,  940.18824015,  940.74364215,\n",
       "          941.03317763,  941.61245464,  941.87835663,  942.16784382,\n",
       "          942.79201882,  943.10005456,  943.7984107 ,  944.10175613,\n",
       "          944.65130977,  944.72977714,  944.88676777,  945.12808016,\n",
       "          945.71167915,  946.00022137,  946.58368163,  946.8877717 ,\n",
       "          947.20087766,  947.78043291,  948.0965091 ,  948.6807201 ,\n",
       "          948.99790391,  949.57528622,  949.88859043,  950.22900825,\n",
       "          950.80644085,  951.12293578,  951.70991558,  952.01475841])],\n",
       " 'index': array([0])}"
      ]
     },
     "execution_count": 24,
     "metadata": {},
     "output_type": "execute_result"
    }
   ],
   "source": [
    "trace=spectra.Trace(sc0=2048,lags=range(-300,300),\n",
    "                    rows=[550,1450],transpose=red.transpose)\n",
    "vars(trace)\n",
    "srow=[955]   # list to allow for multiple spectra on an image, mnaually set\n",
    "srow,ids=trace.findpeak(star, thresh=50)  # alternatively, find peak(s)\n",
    "# trace.find(star) will find the highest peak by cross-correlation\n",
    "# trace.find(star,inter=True,display=t)  will let you mark a trace location\n",
    "starec=trace.trace(star,srow,display=t,skip=100) \n",
    "vars(trace)"
   ]
  },
  {
   "cell_type": "markdown",
   "metadata": {},
   "source": [
    "Extraction is done using the extract() method of the Trace object, currently just with simple boxcar extraction. Use rad= to specify window radius. Use back=[[b1,b2],[b3,b4]] to subtract background as determined from one or more background windows (note argument should be list of 2-element lists, giving start and end pixel, relative to object location, of each background window).\n",
    "\n",
    "Note that simple extraction like this does not account for wavelength line curvature, if that is important, see methodology below!"
   ]
  },
  {
   "cell_type": "code",
   "execution_count": 25,
   "metadata": {},
   "outputs": [
    {
     "name": "stdout",
     "output_type": "stream",
     "text": [
      "  extracting ... \n",
      "  See extraction window(s). Hit space bar to continue....\n",
      "\n",
      "(1, 4096)\n"
     ]
    }
   ],
   "source": [
    "starec=trace.extract(star,display=t,rad=25)\n",
    "print(starec.shape)"
   ]
  },
  {
   "cell_type": "markdown",
   "metadata": {},
   "source": [
    "extract() returns a pyvista Data object, with extracted spectrum, and uncertainty. Note that this is a 2D array to accomodate multiple objects/traces, even if there is only a single object.\n",
    "\n",
    "Here and elsewhere, if you want to make matplotlib plots, make sure to start a new figure (e.g., with plt.figure()) to avoid plotting into the pyvista display tool!"
   ]
  },
  {
   "cell_type": "code",
   "execution_count": 26,
   "metadata": {},
   "outputs": [
    {
     "data": {
      "text/plain": [
       "[<matplotlib.lines.Line2D at 0x2b2cb46729a0>]"
      ]
     },
     "execution_count": 26,
     "metadata": {},
     "output_type": "execute_result"
    }
   ],
   "source": [
    "plt.figure()\n",
    "plt.plot(starec.data[0])\n",
    "plt.plot(starec.data[0]/starec.uncertainty.array[0])"
   ]
  },
  {
   "cell_type": "markdown",
   "metadata": {},
   "source": [
    "Background can be subtracted during extraction using the back= keyword, which takes a list of 2-element lists, given the relative location, in pixels, of the background window(s) (relative to the location of the trace):"
   ]
  },
  {
   "cell_type": "code",
   "execution_count": 27,
   "metadata": {},
   "outputs": [
    {
     "name": "stdout",
     "output_type": "stream",
     "text": [
      "  extracting ... \n",
      "  See extraction window(s). Hit space bar to continue....\n",
      "\n"
     ]
    },
    {
     "data": {
      "text/plain": [
       "[<matplotlib.lines.Line2D at 0x2b2cb5c596a0>]"
      ]
     },
     "execution_count": 27,
     "metadata": {},
     "output_type": "execute_result"
    }
   ],
   "source": [
    "starec2=trace.extract(star,rad=25,back=[[50,75],[-75,-50]],display=t)\n",
    "\n",
    "plt.figure()\n",
    "plt.plot(starec.data[0])\n",
    "plt.plot(starec2.data[0])"
   ]
  },
  {
   "cell_type": "markdown",
   "metadata": {},
   "source": [
    "<h4> Wavelength calibration"
   ]
  },
  {
   "cell_type": "markdown",
   "metadata": {},
   "source": [
    "Now let's turn to wavelength calibration, i.e. getting a function that gives the wavelength as a function of pixel. We'll solve for this using arc frames, here taken with each lamp separately, so sum the three exposures (note the sum() method of the Reducer, there's also other combination methods)."
   ]
  },
  {
   "cell_type": "code",
   "execution_count": 28,
   "metadata": {},
   "outputs": [
    {
     "name": "stdout",
     "output_type": "stream",
     "text": [
      "  Reading file: /home/holtz/red/UT211030/kosmos/He.0015.fits\n",
      "  subtracting overscan vector \n",
      "  subtracting overscan vector \n",
      "INFO: array provided for uncertainty; assuming it is a StdDevUncertainty. [astropy.nddata.ccddata]\n",
      "  Reading file: /home/holtz/red/UT211030/kosmos/Ne.0016.fits\n",
      "  subtracting overscan vector \n",
      "  subtracting overscan vector \n",
      "INFO: array provided for uncertainty; assuming it is a StdDevUncertainty. [astropy.nddata.ccddata]\n",
      "  Reading file: /home/holtz/red/UT211030/kosmos/Ar.0017.fits\n",
      "  subtracting overscan vector \n",
      "  subtracting overscan vector \n",
      "INFO: array provided for uncertainty; assuming it is a StdDevUncertainty. [astropy.nddata.ccddata]\n",
      "  combining data with sum....\n",
      "  calculating uncertainty....\n"
     ]
    }
   ],
   "source": [
    "#Frame 15 is He, 16 is Ne, and 17 is Ar\n",
    "arcs=red.sum([15,16,17])\n",
    "if t is not None:\n",
    "    t.clear()\n",
    "    t.tv(arcs)"
   ]
  },
  {
   "cell_type": "markdown",
   "metadata": {},
   "source": [
    "We'll extract a region of the arcs around our trace."
   ]
  },
  {
   "cell_type": "code",
   "execution_count": 29,
   "metadata": {},
   "outputs": [
    {
     "name": "stdout",
     "output_type": "stream",
     "text": [
      "  extracting ... \n",
      "\n"
     ]
    }
   ],
   "source": [
    "arcec=trace.extract(arcs,display=None,rad=20)"
   ]
  },
  {
   "cell_type": "markdown",
   "metadata": {},
   "source": [
    "Wavelength calibration first stars with identifying lines. This is much easier if one can work from a previous solution. Here we start by reading a previous solution into a pyvista WaveCal object. A WaveCal object contains a spectrum and identified lines and their associated pixel and wavelength positions. Using this, a solution for a new arc spectrum is found by cross correlating the spectrum with the saved one, and using the derived shift to try to re-identify the same lines as in the saved object.\n",
    "\n",
    "For KOSMOS, there are previous solutions for low, central, and high slit positions"
   ]
  },
  {
   "cell_type": "code",
   "execution_count": 30,
   "metadata": {},
   "outputs": [
    {
     "name": "stdout",
     "output_type": "stream",
     "text": [
      "available predefined WaveCals: \n",
      "ARCES/ARCES_wave.fits\n",
      "BOSS/BOSS_b2_waves.fits\n",
      "BOSS/BOSS_b1_waves.fits\n",
      "BOSS/BOSS_r1_waves.fits\n",
      "BOSS/BOSS_r2_waves.fits\n",
      "DIS/DIS_blue_waves.fits\n",
      "DIS/DIS_red_waves.fits\n",
      "KOSMOS/KOSMOS_blue_cent_waves.fits\n",
      "KOSMOS/KOSMOS_blue_high_waves.fits\n",
      "KOSMOS/KOSMOS_blue_low_waves.fits\n",
      "KOSMOS/KOSMOS_blue_waves.fits\n",
      "KOSMOS/KOSMOS_red_high_waves.fits\n",
      "KOSMOS/KOSMOS_red_low_waves.fits\n",
      "KOSMOS/KOSMOS_red_waves.fits\n"
     ]
    },
    {
     "data": {
      "text/plain": [
       "<pyvista.spectra.WaveCal at 0x2b2cb47d7a90>"
      ]
     },
     "execution_count": 30,
     "metadata": {},
     "output_type": "execute_result"
    }
   ],
   "source": [
    "spectra.WaveCal(\"?\")"
   ]
  },
  {
   "cell_type": "markdown",
   "metadata": {},
   "source": [
    "Load the appropriate existing WaveCal."
   ]
  },
  {
   "cell_type": "code",
   "execution_count": 51,
   "metadata": {
    "scrolled": true
   },
   "outputs": [
    {
     "name": "stdout",
     "output_type": "stream",
     "text": [
      "  rms:    0.070 Angstroms (46 lines)\n"
     ]
    },
    {
     "data": {
      "text/plain": [
       "{'type': 'chebyshev',\n",
       " 'degree': 5,\n",
       " 'ydegree': 2,\n",
       " 'waves': array([ 6402.246  ,  5764.418  ,  6532.8824 ,  7173.939  ,  7948.175  ,\n",
       "         6029.9971 ,  7438.899  ,  8082.458  ,  6163.5939 ,  8853.866  ,\n",
       "         6678.2    ,  5400.562  ,  6304.7892 ,  7723.8    ,  8620.4602 ,\n",
       "         6965.43   ,  5944.8342 ,  5945.45239,  6074.3377 ,  8634.647  ,\n",
       "         6717.0428 ,  6334.4279 ,  6598.9529 ,  8264.521  ,  6217.2813 ,\n",
       "         8521.441  ,  7245.167  ,  8654.3831 ,  6096.163  ,  7635.105  ,\n",
       "         7891.075  ,  6871.29   ,  7383.98   ,  8408.208  ,  8667.9442 ,\n",
       "         5852.4878 ,  6752.832  ,  8424.647  ,  6506.5279 ,  7147.041  ,\n",
       "         5870.91599,  6382.9914 ,  5748.299  ,  7032.4127 ,  6266.495  ,\n",
       "         6143.0623 ], dtype='>f8'),\n",
       " 'waves_order': array([1, 1, 1, 1, 1, 1, 1, 1, 1, 1, 1, 1, 1, 1, 1, 1, 1, 1, 1, 1, 1, 1, 1,\n",
       "        1, 1, 1, 1, 1, 1, 1, 1, 1, 1, 1, 1, 1, 1, 1, 1, 1, 1, 1, 1, 1, 1, 1], dtype='>i8'),\n",
       " 'orders': array([1], dtype='>i8'),\n",
       " 'index': array([0], dtype='>i8'),\n",
       " 'pix0': array([-555.25898102], dtype='>f8'),\n",
       " 'pix': array([ 2523.08786359,  3182.40217385,  2392.92835908,  1769.36703708,\n",
       "         1034.38922099,  2902.20418061,  1516.56855531,   907.29221935,\n",
       "         2764.55911398,   171.07398895,  2249.57910799,  3584.21287553,\n",
       "         2621.06471666,  1246.25296648,   382.22050935,  1969.92700618,\n",
       "         2991.03058636,  2991.03058636,  2856.31271227,   382.21916626,\n",
       "         2211.51179589,  2591.19184522,  2327.58328933,   734.89481698,\n",
       "         2709.77921901,   490.51736221,  1701.19408852,   363.30857634,\n",
       "         2833.79680573,  1330.40965427,  1088.58666066,  2061.17056364,\n",
       "         1568.81292024,   598.35372516,   350.26802476,  3088.3896536 ,\n",
       "         2176.45229225,   582.9012282 ,  2419.09040625,  1795.13872989,\n",
       "         3063.21458998,  2542.37059353,  3199.53184754,  1905.37132519,\n",
       "         2659.79351761,  2785.59497666], dtype='>f8'),\n",
       " 'y': array([0, 0, 0, 0, 0, 0, 0, 0, 0, 0, 0, 0, 0, 0, 0, 0, 0, 0, 0, 0, 0, 0, 0,\n",
       "        0, 0, 0, 0, 0, 0, 0, 0, 0, 0, 0, 0, 0, 0, 0, 0, 0, 0, 0, 0, 0, 0, 0], dtype='>i8'),\n",
       " 'spectrum': array([[ 1135.40600377,  1666.91226997,  1350.58726348, ...,\n",
       "          1226.79164252,  1377.85635014,  1542.50255965]], dtype='>f8'),\n",
       " 'weights': array([ 1.,  1.,  1.,  1.,  1.,  1.,  1.,  1.,  1.,  1.,  1.,  1.,  1.,\n",
       "         1.,  0.,  1.,  1.,  0.,  1.,  1.,  1.,  1.,  1.,  1.,  1.,  1.,\n",
       "         1.,  1.,  1.,  1.,  1.,  1.,  1.,  1.,  1.,  1.,  1.,  1.,  1.,\n",
       "         1.,  0.,  1.,  1.,  1.,  1.,  1.], dtype='>f8'),\n",
       " 'apers': None,\n",
       " 'coeff': None,\n",
       " 'model': <Chebyshev1D(5, c0=7094.1426482127, c1=-1738.6068355088346, c2=33.020477666725036, c3=11.852064311553743, c4=0.029701688104388807, c5=0.1195780208858903, domain=(726.3329699695621, 4139.4718565500598))>,\n",
       " 'ax': None}"
      ]
     },
     "execution_count": 51,
     "metadata": {},
     "output_type": "execute_result"
    }
   ],
   "source": [
    "wav=spectra.WaveCal('KOSMOS/KOSMOS_red_low_waves.fits')\n",
    "vars(wav)"
   ]
  },
  {
   "cell_type": "code",
   "execution_count": 52,
   "metadata": {},
   "outputs": [
    {
     "data": {
      "text/plain": [
       "-1.0187729789400295"
      ]
     },
     "execution_count": 52,
     "metadata": {},
     "output_type": "execute_result"
    }
   ],
   "source": [
    "wav.dispersion()"
   ]
  },
  {
   "cell_type": "markdown",
   "metadata": {},
   "source": [
    "With a previous solution loaded, the identify routine will cross correlate the input spectrum with the previous solution, then attempt to identify the lines from the previous solution at the shifted pixel position from the previous solution. Finally, it does a fit."
   ]
  },
  {
   "cell_type": "markdown",
   "metadata": {},
   "source": [
    "The identify() method fits Gaussians to the lines to get their position, and gets FWHM in the process. rad= keyword specifies number of pixels on either side of line to use in fit. If you add the file= keyword, then the routine will try to identify all of the lines from the reference file; this might be useful if you wanted to extend the wavelength range of the lines from the initial object, e.g. if you were working at a different grating tilt or slit location. If you did that, you might want to save your WaveCal object after cleaning the line list for good lines, so you could use that as a starting guess for other data taken at a similar wavelength setting.\n",
    "\n",
    "With the plot=True keyword, you'll see plots of the spectrum, identified lines, and residuals from a polynomial fit. You can remove individual lines or groups of lines with keystrokes in the plot window, as instructed."
   ]
  },
  {
   "cell_type": "code",
   "execution_count": 53,
   "metadata": {},
   "outputs": [
    {
     "name": "stdout",
     "output_type": "stream",
     "text": [
      "  cross correlating with reference spectrum using lags between:  -300 299\n",
      "  Derived pixel shift from input wcal:  [ -6.86384283e-09]\n",
      "  See identified lines.\n",
      "  rms:    0.070 Angstroms (43 lines)\n",
      "  Input in plot window: \n",
      "       l : to remove all lines to left of cursor\n",
      "       r : to remove all lines to right of cursor\n",
      "       n : to remove line nearest cursor x position\n",
      "       i : return with True value (to allow iteration)\n",
      "       anything else : finish and return\n",
      "  rms:    0.070 Anstroms\n",
      "  input from plot window...\n",
      "\n"
     ]
    },
    {
     "data": {
      "text/plain": [
       "False"
      ]
     },
     "execution_count": 53,
     "metadata": {},
     "output_type": "execute_result"
    }
   ],
   "source": [
    "wav.identify(arcec,plot=True,plotinter=plotinter,rad=10) #,file='henearkr.dat')"
   ]
  },
  {
   "cell_type": "markdown",
   "metadata": {},
   "source": [
    "Note that once you remove lines, they are removed for subsequent uses of the WaveCal object."
   ]
  },
  {
   "cell_type": "markdown",
   "metadata": {},
   "source": [
    "If you want to refit with existing line positions, e.g. to try a different model, you can just call fit()."
   ]
  },
  {
   "cell_type": "code",
   "execution_count": 48,
   "metadata": {},
   "outputs": [
    {
     "name": "stdout",
     "output_type": "stream",
     "text": [
      "  rms:    0.070 Angstroms (46 lines)\n",
      "  Input in plot window: \n",
      "       l : to remove all lines to left of cursor\n",
      "       r : to remove all lines to right of cursor\n",
      "       n : to remove line nearest cursor x position\n",
      "       i : return with True value (to allow iteration)\n",
      "       anything else : finish and return\n",
      "  rms:    0.070 Anstroms\n",
      "  input from plot window...\n"
     ]
    },
    {
     "data": {
      "text/plain": [
       "False"
      ]
     },
     "execution_count": 48,
     "metadata": {},
     "output_type": "execute_result"
    }
   ],
   "source": [
    "wav.fit(degree=5,inter=plotinter)"
   ]
  },
  {
   "cell_type": "markdown",
   "metadata": {},
   "source": [
    "The line centers are found by fitting Gaussians to the spectrum. This is useful because it provides information on the spectral resolution. The derived widths are saved in the fwhm attribute of the WaveCal object.\n",
    "\n",
    "Plot the FWHM of the lines as a function of wavelength, here in the lower right axes of the display tool."
   ]
  },
  {
   "cell_type": "code",
   "execution_count": 54,
   "metadata": {},
   "outputs": [],
   "source": [
    "if t is not None:\n",
    "    t.plotax2.cla()\n",
    "    gd=np.where(wav.weights > 0)[0]\n",
    "    t.plotax2.plot(wav.waves[gd],np.abs(wav.fwhm[gd]),'ro')"
   ]
  },
  {
   "cell_type": "markdown",
   "metadata": {},
   "source": [
    "You can save your wavelength solution with the write() method of the WaveCal object, and reload it later using your saved file name to instantiate a WaveCal object. That way, if you're satisfied with a wavelength calibration for a given night, but want to re-reduce data, you don't have to go through the interactive wavelength calibration. Note that when you read your wavelength calibration back in, you will need to specify the directory because the default directory is to look in the pyvista distribution. For example:"
   ]
  },
  {
   "cell_type": "code",
   "execution_count": 55,
   "metadata": {},
   "outputs": [
    {
     "name": "stdout",
     "output_type": "stream",
     "text": [
      "  rms:    0.070 Angstroms (43 lines)\n"
     ]
    }
   ],
   "source": [
    "wav.write('mywave.fits')\n",
    "wav=spectra.WaveCal('./mywave.fits')"
   ]
  },
  {
   "cell_type": "markdown",
   "metadata": {},
   "source": [
    "OK, now use the wavelength solution to get wavelength as a function of pixel. We can save that in the wave attribute of our Data object. This is accomplished using the add_wave() method of a WaveCal object to add the wave attribute. Once added, you can save the Data object to disk using its write() method, and the attached wavelengths will be stored; if you read the file back using Data.read(), then the wave attributet will be populated."
   ]
  },
  {
   "cell_type": "code",
   "execution_count": 56,
   "metadata": {},
   "outputs": [
    {
     "data": {
      "text/plain": [
       "[<matplotlib.lines.Line2D at 0x2b2cbe932850>]"
      ]
     },
     "execution_count": 56,
     "metadata": {},
     "output_type": "execute_result"
    }
   ],
   "source": [
    "wav.add_wave(starec)\n",
    "plt.figure()\n",
    "plt.plot(starec.wave[0],starec.data[0])"
   ]
  },
  {
   "cell_type": "markdown",
   "metadata": {},
   "source": [
    "Here is a way to get the inverse wavelength solution, i.e. pixels as a function of wavelength, using a cubic spline fit to the wavelength solution."
   ]
  },
  {
   "cell_type": "code",
   "execution_count": 57,
   "metadata": {},
   "outputs": [
    {
     "name": "stdout",
     "output_type": "stream",
     "text": [
      "wavelength 6563 expected at pixel:  2462.3885165256866\n"
     ]
    }
   ],
   "source": [
    "# get inverse relation, i.e. pixels as f(wavelength)\n",
    "pix=np.arange(4096)\n",
    "from scipy.interpolate import CubicSpline\n",
    "wav2pix=CubicSpline(np.flip(starec.wave[0]),np.flip(pix))\n",
    "print('wavelength 6563 expected at pixel: ',wav2pix(6463))"
   ]
  },
  {
   "cell_type": "markdown",
   "metadata": {},
   "source": [
    "Next cell demonstrates resampling of spectrum onto a uniform wavelength grid, using the scomb() method of the WaveCal object. This may not be desired, as it leads to correlated uncertainties between pixels! But it would be needed if, e.g., you wanted to cross-correlate spectra to find velocities, in which case you would want a spectrum with constant dispersion in log(lambda)."
   ]
  },
  {
   "cell_type": "code",
   "execution_count": 58,
   "metadata": {},
   "outputs": [
    {
     "name": "stderr",
     "output_type": "stream",
     "text": [
      "/home/holtz/git/pyvista/python/pyvista/spectra.py:830: RuntimeWarning: invalid value encountered in divide\n",
      "  out = out / sig\n",
      "/home/holtz/git/pyvista/python/pyvista/spectra.py:831: RuntimeWarning: divide by zero encountered in divide\n",
      "  sig = np.sqrt(1./sig)\n"
     ]
    },
    {
     "data": {
      "text/plain": [
       "<matplotlib.collections.PathCollection at 0x2b2cbe8b9130>"
      ]
     },
     "execution_count": 58,
     "metadata": {},
     "output_type": "execute_result"
    }
   ],
   "source": [
    "plt.figure()\n",
    "plt.clf()\n",
    "# original data with wavelength solution\n",
    "plt.plot(starec.wave[0],starec.data[0],color='b')\n",
    "plt.scatter(starec.wave[0],starec.data[0],color='b',s=2)\n",
    "\n",
    "# set desired new wavelength scale:\n",
    "wnew=10**np.linspace(3.5,4.0,len(starec.data[0]))\n",
    "# resampled data on constant log(lambda) grid\n",
    "plt.plot(wnew,wav.scomb(starec,wnew).data,color='r')\n",
    "plt.scatter(wnew,wav.scomb(starec,wnew).data,color='r',s=2)\n"
   ]
  },
  {
   "cell_type": "markdown",
   "metadata": {},
   "source": [
    "<h4> Adjusting wavelength solution for flexure"
   ]
  },
  {
   "cell_type": "markdown",
   "metadata": {},
   "source": [
    "It is known that line positions shift in KOSMOS with rotator angle. While one strategy to deal with this might be to take calibration data at each rotator angle, one might also attempt to solve for the shift using sky lines.\n",
    "\n",
    "Reduce an object, extract, add wavelengths, and plot"
   ]
  },
  {
   "cell_type": "code",
   "execution_count": 59,
   "metadata": {},
   "outputs": [
    {
     "name": "stdout",
     "output_type": "stream",
     "text": [
      "  Reading file: /home/holtz/red/UT211030/kosmos/GP013_parad.0012.fits\n",
      "  subtracting overscan vector \n",
      "  subtracting overscan vector \n",
      "INFO: array provided for uncertainty; assuming it is a StdDevUncertainty. [astropy.nddata.ccddata]\n",
      "  extracting ... \n",
      "  See extraction window(s). Hit space bar to continue....\n",
      "\n"
     ]
    }
   ],
   "source": [
    "objec=trace.extract(red.reduce(12),display=t,rad=20)\n",
    "wav.add_wave(objec)"
   ]
  },
  {
   "cell_type": "code",
   "execution_count": 60,
   "metadata": {},
   "outputs": [
    {
     "data": {
      "text/plain": [
       "[<matplotlib.lines.Line2D at 0x2b2cb5d88ac0>]"
      ]
     },
     "execution_count": 60,
     "metadata": {},
     "output_type": "execute_result"
    }
   ],
   "source": [
    "plt.figure()\n",
    "plt.plot(objec.wave[0],objec.data[0])"
   ]
  },
  {
   "cell_type": "markdown",
   "metadata": {},
   "source": [
    "The skyline() method will addjust the current wavelength solution based on finding sky emission lines. The default behavior is to adopt the current wavelength solution but allow only the 0th order term to shift. If you specify linear=True, then the 1st order term is also allowed to vary; beware that you must have multiple sky lines for this to be effective! Otherwise, skyline() takes most of the same keywords as identify()\n",
    "<p>\n",
    "Note that this currently allows for a wavelength shift, while one might really prefer a pixel shift to model flexure. So long as the dispersion is close to linear, these do the same thing, but future improvements might include doing a more proper pixel shift.\n",
    "    \n",
    "<p>\n",
    "Here, we first copy the WaveCal object so we can compare the original to the corrected solution."
   ]
  },
  {
   "cell_type": "code",
   "execution_count": 61,
   "metadata": {},
   "outputs": [
    {
     "name": "stdout",
     "output_type": "stream",
     "text": [
      "  See identified lines.\n",
      "  rms:    2.220 Angstroms (17 lines)\n",
      "  Input in plot window: \n",
      "       l : to remove all lines to left of cursor\n",
      "       r : to remove all lines to right of cursor\n",
      "       n : to remove line nearest cursor x position\n",
      "       i : return with True value (to allow iteration)\n",
      "       anything else : finish and return\n",
      "  rms:    2.220 Anstroms\n",
      "  input from plot window...\n",
      "  rms:    0.858 Anstroms\n",
      "  input from plot window...\n",
      "  rms:    0.625 Anstroms\n",
      "  input from plot window...\n",
      "  rms:    0.406 Anstroms\n",
      "  input from plot window...\n",
      "  rms:    0.255 Anstroms\n",
      "  input from plot window...\n",
      "  rms:    0.190 Anstroms\n",
      "  input from plot window...\n",
      "\n"
     ]
    }
   ],
   "source": [
    "import copy\n",
    "swav=copy.deepcopy(wav)\n",
    "swav.skyline( objec, thresh=50, inter=plotinter)"
   ]
  },
  {
   "cell_type": "markdown",
   "metadata": {},
   "source": [
    "See how the model has been modified compared to the original:"
   ]
  },
  {
   "cell_type": "code",
   "execution_count": 62,
   "metadata": {},
   "outputs": [
    {
     "name": "stdout",
     "output_type": "stream",
     "text": [
      "Model: Chebyshev1D\n",
      "Inputs: ('x',)\n",
      "Outputs: ('y',)\n",
      "Model set size: 1\n",
      "Degree: 5\n",
      "Domain: (726.33296997642606, 4139.4718565569237)\n",
      "Parameters:\n",
      "          c0            c1             c2            c3             c4             c5      \n",
      "    ------------- -------------- ------------- ------------- --------------- --------------\n",
      "    7094.14264821 -1738.60683551 33.0204776667 11.8520643116 0.0297016881047 0.119578020889\n",
      "Model: Chebyshev1D\n",
      "Inputs: ('x',)\n",
      "Outputs: ('y',)\n",
      "Model set size: 1\n",
      "Degree: 5\n",
      "Domain: (726.33296997642606, 4139.4718565569237)\n",
      "Parameters:\n",
      "          c0            c1             c2            c3             c4             c5      \n",
      "    ------------- -------------- ------------- ------------- --------------- --------------\n",
      "    7093.68993741 -1738.60683551 33.0204776667 11.8520643116 0.0297016881047 0.119578020889\n"
     ]
    }
   ],
   "source": [
    "print(wav.model)\n",
    "print(swav.model)"
   ]
  },
  {
   "cell_type": "markdown",
   "metadata": {},
   "source": [
    "You can see that the c0 term has changed."
   ]
  },
  {
   "cell_type": "markdown",
   "metadata": {},
   "source": [
    "Again, you can save this wavelength calibration to disk and reread it if you want at a later time, to avoid duplicating your work:"
   ]
  },
  {
   "cell_type": "code",
   "execution_count": 41,
   "metadata": {},
   "outputs": [
    {
     "name": "stdout",
     "output_type": "stream",
     "text": [
      "  rms:    0.220 Angstroms (17 lines)\n"
     ]
    }
   ],
   "source": [
    "swav.write('myobjectwav.fits')\n",
    "swav=spectra.WaveCal('./myobjectwav.fits')"
   ]
  },
  {
   "cell_type": "markdown",
   "metadata": {},
   "source": [
    "<h4> Flux calibration"
   ]
  },
  {
   "cell_type": "markdown",
   "metadata": {},
   "source": [
    "Flux calibration is achieved by observing standard stars with known spectral energy distribution. Multiple standards can be loaded and then a single response curve fit to them. Note that if standards are observed at multiple airmasses and different from that of the object, that atmospheric extinction will lead to different observed fluxes relative to true one; to account for that, we can use mean extinction coefficients to correct spectra to the same airmass.\n",
    "\n",
    "To do flux calibration, instantiate a FluxCal object. You can set it up to use a polynomial fit to the response curve by specifying the polynomial degree with the degree= keyword. If you set degree=-1, the response curve will be determined by a median of the individual response curves, optionally smoothed with a median filter over wavelength (see response() method below). Which method you prefer depends on what the shape of the response function looks like: you certainly don't have to do both!\n",
    "\n",
    "Currently, regions around significant absorption lines (telluric and stellar) are masked out. As a result, telluric absorption is <b> not </b> corrected by flux calibration. Future work might attempt to do this, or perhaps there should be another module for telluric absorption removal."
   ]
  },
  {
   "cell_type": "code",
   "execution_count": 63,
   "metadata": {},
   "outputs": [],
   "source": [
    "flx=spectra.FluxCal(degree=-1)\n",
    "polyflx=spectra.FluxCal(degree=5)"
   ]
  },
  {
   "cell_type": "markdown",
   "metadata": {},
   "source": [
    "Load in several extracted spectra of flux standards, here all of BD+28 4211. The standard star spectrum is given using the file= keyword, where the input file should have labelled columns wave, flux, and bin. Alternatively, you can pass an astropy Table with (at least) these three columns, using the stdflux= keyword"
   ]
  },
  {
   "cell_type": "code",
   "execution_count": 64,
   "metadata": {},
   "outputs": [
    {
     "name": "stdout",
     "output_type": "stream",
     "text": [
      "  Reading file: /home/holtz/red/UT211030/kosmos/BD28d4211.0010.fits\n",
      "  subtracting overscan vector \n",
      "  subtracting overscan vector \n",
      "INFO: array provided for uncertainty; assuming it is a StdDevUncertainty. [astropy.nddata.ccddata]\n",
      "  Derived pixel shift from input trace:  -0.0508267535137\n",
      "  Tracing row: 943\r"
     ]
    },
    {
     "name": "stderr",
     "output_type": "stream",
     "text": [
      "/home/holtz/git/pyvista/python/pyvista/spectra.py:1202: RuntimeWarning: invalid value encountered in divide\n",
      "  gd = np.where((~ymask) & (ysum/np.sqrt(yvar)>thresh) )[0]\n",
      "/home/holtz/git/pyvista/python/pyvista/spectra.py:1207: RuntimeWarning: invalid value encountered in divide\n",
      "  gd = np.where((~ymask) & (ysum/np.sqrt(yvar)>thresh) & (np.abs(res)<rad))[0]\n"
     ]
    },
    {
     "name": "stdout",
     "output_type": "stream",
     "text": [
      "\n",
      "  extracting ... \n",
      "\n",
      "  Reading file: /home/holtz/red/UT211030/kosmos/BD28d4211.0011.fits\n",
      "  subtracting overscan vector \n",
      "  subtracting overscan vector \n",
      "INFO: array provided for uncertainty; assuming it is a StdDevUncertainty. [astropy.nddata.ccddata]\n",
      "  Derived pixel shift from input trace:  -0.21185874283\n",
      "  Tracing row: 943\n",
      "  extracting ... \n",
      "\n"
     ]
    }
   ],
   "source": [
    "for im in [10,11] :\n",
    "    star=red.reduce(im)\n",
    "    trace.retrace(star)\n",
    "    starec=trace.extract(star)\n",
    "    wav.add_wave(starec)\n",
    "    flx.addstar(starec[0],starec.wave[0],file='flux/okestan/fbd28d4211.dat')\n",
    "    polyflx.addstar(starec[0],starec.wave[0],file='flux/okestan/fbd28d4211.dat')"
   ]
  },
  {
   "cell_type": "markdown",
   "metadata": {},
   "source": [
    "Solve for the median response curve, taking a median filter over this median. The upper panel shows the derived response curves for each standard (colored lines), and the final median and filtered response curve in black. The middle panel shows the observed spectra, and the bottom panel shows the tabulated spectrum and then the flux-calibrated observed spectra. In all panels, the units are in magnitudes.\n",
    "\n",
    "Remember that the absolute flux calibration (vertical location of response curves and observations) will depend on slit loss variations (e.g., from seeing, pointing, and/or guiding), transparency variations, etc.!"
   ]
  },
  {
   "cell_type": "code",
   "execution_count": 65,
   "metadata": {},
   "outputs": [],
   "source": [
    "flx.response(plot=True,medfilt=200)"
   ]
  },
  {
   "cell_type": "markdown",
   "metadata": {},
   "source": [
    "Here's the same with a polynomial response curve."
   ]
  },
  {
   "cell_type": "code",
   "execution_count": 66,
   "metadata": {},
   "outputs": [],
   "source": [
    "polyflx.response(plot=True)"
   ]
  },
  {
   "cell_type": "markdown",
   "metadata": {},
   "source": [
    "Apply the response curve to an object using the correct() method of the FluxCal object. Note that, using Data objects, the S/N is preserved!"
   ]
  },
  {
   "cell_type": "code",
   "execution_count": 67,
   "metadata": {
    "scrolled": true
   },
   "outputs": [
    {
     "data": {
      "text/plain": [
       "<matplotlib.legend.Legend at 0x2b2cbedcddc0>"
      ]
     },
     "execution_count": 67,
     "metadata": {},
     "output_type": "execute_result"
    }
   ],
   "source": [
    "fig,ax=plots.multi(1,2,hspace=0.001,sharex=True)\n",
    "ax[0].plot(starec.wave[0],np.log10(starec.data[0]),label='raw')\n",
    "ax[1].plot(starec.wave[0],starec.data[0]/starec.uncertainty.array[0],label='raw')\n",
    "flx.correct(starec,starec.wave)\n",
    "ax[0].plot(starec.wave[0],np.log10(starec.data[0]),label='calibrated')\n",
    "ax[1].plot(starec.wave[0],starec.data[0]/starec.uncertainty.array[0],label='calibrated')\n",
    "ax[0].set_ylabel('log flux')\n",
    "ax[1].set_xlabel('Wavelength')\n",
    "ax[1].set_ylabel('S/N')\n",
    "ax[0].legend()\n",
    "ax[1].legend()"
   ]
  },
  {
   "cell_type": "markdown",
   "metadata": {},
   "source": [
    "<h3> longslit extraction and wavelength calibration"
   ]
  },
  {
   "cell_type": "markdown",
   "metadata": {},
   "source": [
    "For extended objects, and perhaps for sky subtraction, we might want to work along the slit. The wavelength solution varies along the slit (line curvature), usually with more than just an offset, so we will derive a 2D wavelength solution."
   ]
  },
  {
   "cell_type": "markdown",
   "metadata": {},
   "source": [
    "Start by working along the slit to identify lines. This is achieved with the extract2d() method, which uses a trace of the same shape, but steps it along the slit. It will only extract within the region specified by the rows= attribute of the Trace object. This assumes that the shape of the trace is constant along the slit; future work could include the possibility of varying trace shape along the slit."
   ]
  },
  {
   "cell_type": "code",
   "execution_count": 68,
   "metadata": {},
   "outputs": [
    {
     "name": "stdout",
     "output_type": "stream",
     "text": [
      "extracting: \n",
      " 550-1450\n"
     ]
    }
   ],
   "source": [
    "trace=spectra.Trace('KOSMOS/KOSMOS_trace.fits')\n",
    "arc2d=trace.extract2d(arcs)\n",
    "if t is not None :\n",
    "    t.tv(arc2d)"
   ]
  },
  {
   "cell_type": "markdown",
   "metadata": {},
   "source": [
    "If we give the identify() method a 2D image, it steps along  the slit by nskip pixels to identify lines along the slit."
   ]
  },
  {
   "cell_type": "code",
   "execution_count": 69,
   "metadata": {},
   "outputs": [
    {
     "name": "stdout",
     "output_type": "stream",
     "text": [
      "  rms:    0.070 Angstroms (46 lines)\n",
      "  rms:    0.070 Angstroms (43 lines)\n",
      "  cross correlating with reference spectrum using lags between:  -10 9\n",
      "  Derived pixel shift from input wcal for row: 899 4\n",
      "  See identified lines.\n",
      "  rms:    2.027\n",
      "rejecting 42 points from 1574 total: \n",
      "  rms:    0.066\n",
      "rejecting 42 points from 1574 total: \n",
      "  See 2D wavecal fit. Enter space in plot window to continue\n",
      "\n"
     ]
    }
   ],
   "source": [
    "wav=spectra.WaveCal(file='KOSMOS/KOSMOS_red_low_waves.fits')\n",
    "wav=spectra.WaveCal('./mywave.fits')\n",
    "\n",
    "# here, we smooth along the slit first\n",
    "from pyvista import image\n",
    "image.smooth(arc2d,[5,1])\n",
    "\n",
    "if t is not None :\n",
    "    t.clear()\n",
    "    t.tv(arc2d)\n",
    "    \n",
    "wav.identify(arc2d, rad=10,display=t, plot=True, plotinter=plotinter,\n",
    "              nskip=20,lags=np.arange(-10,10))\n",
    "wav.add_wave(arc2d)"
   ]
  },
  {
   "cell_type": "markdown",
   "metadata": {},
   "source": [
    "OK, the solution provides a 2D wavelength map, which we can look at:"
   ]
  },
  {
   "cell_type": "code",
   "execution_count": 71,
   "metadata": {},
   "outputs": [],
   "source": [
    "if t is not None :\n",
    "    t.clear()\n",
    "    t.tv(arc2d.wave)"
   ]
  },
  {
   "cell_type": "markdown",
   "metadata": {},
   "source": [
    "Just for demonstration purposes, subtract out the central wavelength solution to see how the solution varies with row. This shows the line curvature, which is a function of wavelength"
   ]
  },
  {
   "cell_type": "code",
   "execution_count": 72,
   "metadata": {},
   "outputs": [],
   "source": [
    "dw=arc2d.wave-arc2d.wave[450]\n",
    "if t is not None :\n",
    "    t.tv(dw)  "
   ]
  },
  {
   "cell_type": "markdown",
   "metadata": {},
   "source": [
    "Now we can do a 2d extraction of an object, and attach the 2D wavelengths"
   ]
  },
  {
   "cell_type": "code",
   "execution_count": 79,
   "metadata": {
    "scrolled": true
   },
   "outputs": [
    {
     "name": "stdout",
     "output_type": "stream",
     "text": [
      "  Reading file: /home/holtz/red/UT211030/kosmos/GP013_parad.0012.fits\n",
      "  subtracting overscan vector \n",
      "  subtracting overscan vector \n",
      "  Iteration 0, zapping CRs with filter [1,9]...\n",
      "  Iteration 1, zapping CRs with filter [1,9]...\n",
      "INFO: array provided for uncertainty; assuming it is a StdDevUncertainty. [astropy.nddata.ccddata]\n",
      "extracting: \n",
      " 550-1450\n",
      "  Reading file: /home/holtz/red/UT211030/kosmos/BD28d4211.0010.fits\n",
      "  subtracting overscan vector \n",
      "  subtracting overscan vector \n",
      "INFO: array provided for uncertainty; assuming it is a StdDevUncertainty. [astropy.nddata.ccddata]\n",
      "extracting: \n",
      " 550-1450\n"
     ]
    }
   ],
   "source": [
    "trace=spectra.Trace('KOSMOS/KOSMOS_trace.fits')\n",
    "obj=red.reduce(12,crbox=[1,9],crsig=[5,2])\n",
    "if t is not None :\n",
    "    t.tv(obj)\n",
    "obj2d=trace.extract2d(obj)\n",
    "wav.add_wave(obj2d)\n",
    "if t is not None :\n",
    "    t.tv(obj2d)"
   ]
  },
  {
   "cell_type": "code",
   "execution_count": 80,
   "metadata": {
    "scrolled": true
   },
   "outputs": [
    {
     "name": "stdout",
     "output_type": "stream",
     "text": [
      "  Reading file: /home/holtz/red/UT211030/kosmos/BD28d4211.0010.fits\n",
      "  subtracting overscan vector \n",
      "  subtracting overscan vector \n",
      "INFO: array provided for uncertainty; assuming it is a StdDevUncertainty. [astropy.nddata.ccddata]\n",
      "extracting: \n",
      " 550-1450\n"
     ]
    }
   ],
   "source": [
    "star=red.reduce(10)\n",
    "star2d=trace.extract2d(star)\n",
    "wav.add_wave(star2d)"
   ]
  },
  {
   "cell_type": "markdown",
   "metadata": {},
   "source": [
    "Here we rectify the image to have a constant wavelength scale (in log lambda). We choose the new scale based on the starting and ending wavelengths in the original image, and resample to get the same number of pixels.\n",
    "\n",
    "If you preferred not to resample your object (or at least minimize the ressampling), you could resample the image to the wavelength array at the location of your object.\n",
    "\n",
    "Display image after rectification: the arc lines should be straight!"
   ]
  },
  {
   "cell_type": "code",
   "execution_count": 74,
   "metadata": {},
   "outputs": [
    {
     "name": "stdout",
     "output_type": "stream",
     "text": [
      "[ 4975.80054373  4976.52483268  4977.24922706 ...,  9026.67276964\n",
      "  9027.98671284  9029.30084731]\n"
     ]
    }
   ],
   "source": [
    "#get starting and ending wavelengths\n",
    "wlim=(arc2d.wave[450,0],arc2d.wave[450,-1])\n",
    "# create new wavelengths in same domain, same number of pixels, but\n",
    "#   uniformly spaced in log(lambda)\n",
    "wnew=10.**np.linspace(np.log10(wlim[1]),np.log10(wlim[0]),4095)\n",
    "print(wnew)\n",
    "arc2d_rect=wav.correct(arc2d,wnew)\n",
    "if t is not None :\n",
    "    t.tv(arc2d)\n",
    "    t.tv(arc2d_rect)"
   ]
  },
  {
   "cell_type": "markdown",
   "metadata": {},
   "source": [
    "Now do the same for an object"
   ]
  },
  {
   "cell_type": "code",
   "execution_count": 81,
   "metadata": {},
   "outputs": [],
   "source": [
    "obj2d_rect=wav.correct(obj2d,wnew)\n",
    "if t is not None :\n",
    "    t.tv(obj2d)\n",
    "    t.tv(obj2d_rect)\n",
    "\n",
    "star2d_rect=wav.correct(star2d,wnew)"
   ]
  },
  {
   "cell_type": "markdown",
   "metadata": {},
   "source": [
    "Now the skylines should be straight! Note that the new image goes increases in wavelength from left to right."
   ]
  },
  {
   "cell_type": "markdown",
   "metadata": {},
   "source": [
    "Note that the bitmask is propagated to the rectified image, where any output pixel that has a contribution from an input pixel with a bit set, has that same bit set in the output."
   ]
  },
  {
   "cell_type": "code",
   "execution_count": 77,
   "metadata": {},
   "outputs": [],
   "source": [
    "if t is not None :\n",
    "    t.tv(obj2d_rect.bitmask)"
   ]
  },
  {
   "cell_type": "markdown",
   "metadata": {},
   "source": [
    "OK, now we can extract in the wavelength rectified image for better sky subtraction. Create a new trace object with the rows= attribute to give the new extent of the trimmed image in rows, since our previous extraction limited the extraction to the length of the slit, as set by the rows attribute in the original trace object."
   ]
  },
  {
   "cell_type": "code",
   "execution_count": 82,
   "metadata": {},
   "outputs": [
    {
     "name": "stdout",
     "output_type": "stream",
     "text": [
      "looking for peaks using 200 pixels around 2047, threshhold of 50.000000\n",
      "peaks:  [394]\n",
      "aperture/fiber:  [0]\n",
      "rows:  [394]\n",
      "  Tracing row: 394\r"
     ]
    },
    {
     "name": "stderr",
     "output_type": "stream",
     "text": [
      "/home/holtz/git/pyvista/python/pyvista/spectra.py:1202: RuntimeWarning: invalid value encountered in divide\n",
      "  gd = np.where((~ymask) & (ysum/np.sqrt(yvar)>thresh) )[0]\n",
      "/home/holtz/git/pyvista/python/pyvista/spectra.py:1207: RuntimeWarning: invalid value encountered in divide\n",
      "  gd = np.where((~ymask) & (ysum/np.sqrt(yvar)>thresh) & (np.abs(res)<rad))[0]\n"
     ]
    },
    {
     "name": "stdout",
     "output_type": "stream",
     "text": [
      "\n",
      "xcorr peak fit failed, row:  0  using peak\n",
      "  Derived pixel shift from input trace:  -50.0\n",
      "  extracting ... \n",
      "  See extraction window(s). Hit space bar to continue....\n",
      "\n",
      "  extracting ... \n",
      "  See extraction window(s). Hit space bar to continue....\n",
      "\n"
     ]
    }
   ],
   "source": [
    "rows=[0,star2d_rect.shape[0]]\n",
    "trace=spectra.Trace(sc0=int(star2d_rect.shape[1]/2.),rows=rows)\n",
    "rows,ids=trace.findpeak(star2d_rect,thresh=50)\n",
    "print('rows: ',rows)\n",
    "trace.trace(star2d_rect,rows,display=None)\n",
    "\n",
    "#now apply this to an object\n",
    "trace.find(obj2d_rect)\n",
    "#extraction without background subtraction\n",
    "if t is not None :\n",
    "    t.clear()\n",
    "ext=trace.extract(obj2d_rect,rad=20,display=t)\n",
    "ext.add_wave(wnew)\n",
    "# and with background subtraction, from farther away\n",
    "ext_sub=trace.extract(obj2d_rect,rad=20,back=[[50,100]],display=t)\n",
    "ext_sub.add_wave(wnew)"
   ]
  },
  {
   "cell_type": "markdown",
   "metadata": {},
   "source": [
    "Plot to see how good the background subtraction is. Note that variations in line width across the slit will still lead to poorer subtraction."
   ]
  },
  {
   "cell_type": "code",
   "execution_count": 83,
   "metadata": {},
   "outputs": [
    {
     "data": {
      "text/plain": [
       "[<matplotlib.lines.Line2D at 0x2b2cc9d94f40>]"
      ]
     },
     "execution_count": 83,
     "metadata": {},
     "output_type": "execute_result"
    }
   ],
   "source": [
    "plt.figure()\n",
    "plt.plot(ext.wave,ext.data[0])\n",
    "plt.plot(ext.wave,ext_sub.data[0])\n"
   ]
  }
 ],
 "metadata": {
  "kernelspec": {
   "display_name": "Python 3 (ipykernel)",
   "language": "python",
   "name": "python3"
  },
  "language_info": {
   "codemirror_mode": {
    "name": "ipython",
    "version": 3
   },
   "file_extension": ".py",
   "mimetype": "text/x-python",
   "name": "python",
   "nbconvert_exporter": "python",
   "pygments_lexer": "ipython3",
   "version": "3.9.18"
  }
 },
 "nbformat": 4,
 "nbformat_minor": 4
}
