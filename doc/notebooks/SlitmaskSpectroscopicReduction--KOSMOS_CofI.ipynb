{
 "cells": [
  {
   "cell_type": "markdown",
   "id": "9cc0929e",
   "metadata": {},
   "source": [
    "<h2>Slitmask spectroscopic reduction: KOSMOS College of Idaho"
   ]
  },
  {
   "cell_type": "markdown",
   "id": "e31a9526",
   "metadata": {},
   "source": [
    "Notebook goes through basic ideas of reducing KOSMOS slitmask spectra. Does not discuss basic reduction (see KOSMOS notebook) but concentrates on multi-slit issues: finding the slitlets, doing wavelength calibration for each slitlet (trickiest part), 2D extraction of slitlits, including wavelength correction by skylines and undistorting along slit to central wavelength, and simple 1D extraction."
   ]
  },
  {
   "cell_type": "code",
   "execution_count": 1,
   "id": "1d06b78a",
   "metadata": {},
   "outputs": [],
   "source": [
    "from pyvista import imred, tv, stars, slitmask, image, spectra\n",
    "import pdb\n",
    "import copy\n",
    "import numpy as np\n",
    "import matplotlib.pyplot as plt\n",
    "import os\n",
    "from astropy.table import vstack"
   ]
  },
  {
   "cell_type": "code",
   "execution_count": 2,
   "id": "e08e3334",
   "metadata": {},
   "outputs": [],
   "source": [
    "# you may need/want to use qt or osx in the next line\n",
    "%matplotlib tk    \n",
    "t=tv.TV()"
   ]
  },
  {
   "cell_type": "code",
   "execution_count": 3,
   "id": "7c4e8dd6",
   "metadata": {},
   "outputs": [
    {
     "name": "stdout",
     "output_type": "stream",
     "text": [
      "INFO: array provided for uncertainty; assuming it is a StdDevUncertainty. [astropy.nddata.ccddata]\n",
      "INFO: array provided for uncertainty; assuming it is a StdDevUncertainty. [astropy.nddata.ccddata]\n"
     ]
    }
   ],
   "source": [
    "red=imred.Reducer('KOSMOS',dir='/home/holtz/red/UT230909',verbose=False)                                                         \n",
    "flat = red.reduce(21)\n",
    "arcs= red.sum([24])"
   ]
  },
  {
   "cell_type": "markdown",
   "id": "e344d1a7",
   "metadata": {},
   "source": [
    "Find slit edges from flat, and fit polynomials to locations"
   ]
  },
  {
   "cell_type": "code",
   "execution_count": 4,
   "id": "7d011c6f",
   "metadata": {},
   "outputs": [],
   "source": [
    "trace=spectra.Trace(transpose=True)\n",
    "t.tvclear()\n",
    "bottom,top = trace.findslits(flat,display=t,thresh=0.5,sn=True)"
   ]
  },
  {
   "cell_type": "markdown",
   "id": "ce60d5e7",
   "metadata": {},
   "source": [
    "Plot shape of slit edges relative to center position, just for information"
   ]
  },
  {
   "cell_type": "code",
   "execution_count": 5,
   "id": "d2b4a10a",
   "metadata": {},
   "outputs": [],
   "source": [
    "x=np.arange(4096)\n",
    "plt.figure()\n",
    "for l in bottom :\n",
    "    plt.plot(x,l(x)-l(2048))\n",
    "    plt.xlabel('x')\n",
    "    plt.ylabel('y-y(2048)')"
   ]
  },
  {
   "cell_type": "markdown",
   "id": "f09416cb-099e-4871-a8de-43575e95f7aa",
   "metadata": {},
   "source": [
    "Read in the slitmask file, which we'll use to get object names and slit locations to help with wavelength solution.\n",
    "\n",
    "If the number of slitlets found doesn't match the number of targets, you'll need to go back and adjust the threshold to find the correct slitlets, or else modify the targets table below so that they match."
   ]
  },
  {
   "cell_type": "code",
   "execution_count": 6,
   "id": "d62ecdbe",
   "metadata": {},
   "outputs": [
    {
     "data": {
      "text/html": [
       "<div><i>Table length=16</i>\n",
       "<table id=\"table23087463293664\" class=\"table-striped table-bordered table-condensed\">\n",
       "<thead><tr><th>ID</th><th>NAME</th><th>SHAPE</th><th>WID</th><th>LEN</th><th>ROT</th><th>ALPHA</th><th>DELTA</th><th>WIDMM</th><th>LENMM</th><th>XMM</th><th>YMM</th></tr></thead>\n",
       "<thead><tr><th>str7</th><th>str2</th><th>str8</th><th>float64</th><th>float64</th><th>float64</th><th>float64</th><th>float64</th><th>float64</th><th>float64</th><th>float64</th><th>float64</th></tr></thead>\n",
       "<tr><td>TARG113</td><td>NN</td><td>STRAIGHT</td><td>4.0</td><td>4.0</td><td>0.0</td><td>212134.279</td><td>191220.25</td><td>0.683</td><td>0.683</td><td>-5.252</td><td>-34.315</td></tr>\n",
       "<tr><td>TARG112</td><td>NN</td><td>STRAIGHT</td><td>4.0</td><td>4.0</td><td>0.0</td><td>212140.986</td><td>191141.81</td><td>0.683</td><td>0.683</td><td>-21.469</td><td>-27.768</td></tr>\n",
       "<tr><td>TARG114</td><td>NN</td><td>STRAIGHT</td><td>4.0</td><td>4.0</td><td>0.0</td><td>212123.429</td><td>191104.21</td><td>0.683</td><td>0.683</td><td>20.979</td><td>-21.323</td></tr>\n",
       "<tr><td>TARG111</td><td>NN</td><td>STRAIGHT</td><td>0.9</td><td>10.0</td><td>0.0</td><td>212132.879</td><td>191002.48</td><td>0.154</td><td>1.707</td><td>-1.87</td><td>-10.801</td></tr>\n",
       "<tr><td>TARG110</td><td>NN</td><td>STRAIGHT</td><td>0.9</td><td>10.0</td><td>0.0</td><td>212127.784</td><td>190908.67</td><td>0.154</td><td>1.707</td><td>10.451</td><td>-1.61</td></tr>\n",
       "<tr><td>TARG109</td><td>NN</td><td>STRAIGHT</td><td>0.9</td><td>10.0</td><td>0.0</td><td>212128.763</td><td>190845.78</td><td>0.154</td><td>1.707</td><td>8.085</td><td>2.297</td></tr>\n",
       "<tr><td>TARG108</td><td>NN</td><td>STRAIGHT</td><td>0.9</td><td>10.0</td><td>0.0</td><td>212127.508</td><td>190828.88</td><td>0.154</td><td>1.707</td><td>11.119</td><td>5.182</td></tr>\n",
       "<tr><td>TARG107</td><td>NN</td><td>STRAIGHT</td><td>0.9</td><td>10.0</td><td>0.0</td><td>212133.847</td><td>190811.86</td><td>0.154</td><td>1.707</td><td>-4.212</td><td>8.077</td></tr>\n",
       "<tr><td>TARG115</td><td>NN</td><td>STRAIGHT</td><td>4.0</td><td>4.0</td><td>0.0</td><td>212132.347</td><td>190735.58</td><td>0.683</td><td>0.683</td><td>-0.582</td><td>14.272</td></tr>\n",
       "<tr><td>TARG106</td><td>NN</td><td>STRAIGHT</td><td>0.9</td><td>10.0</td><td>0.0</td><td>212133.934</td><td>190720.87</td><td>0.154</td><td>1.707</td><td>-4.422</td><td>16.78</td></tr>\n",
       "<tr><td>TARG105</td><td>NN</td><td>STRAIGHT</td><td>0.9</td><td>10.0</td><td>0.0</td><td>212130.054</td><td>190659.25</td><td>0.154</td><td>1.707</td><td>4.962</td><td>20.475</td></tr>\n",
       "<tr><td>TARG104</td><td>NN</td><td>STRAIGHT</td><td>0.9</td><td>10.0</td><td>0.0</td><td>212136.755</td><td>190631.54</td><td>0.154</td><td>1.707</td><td>-11.247</td><td>25.194</td></tr>\n",
       "<tr><td>TARG103</td><td>NN</td><td>STRAIGHT</td><td>0.9</td><td>10.0</td><td>0.0</td><td>212139.639</td><td>190612.3</td><td>0.154</td><td>1.707</td><td>-18.223</td><td>28.472</td></tr>\n",
       "<tr><td>TARG102</td><td>NN</td><td>STRAIGHT</td><td>0.9</td><td>10.0</td><td>0.0</td><td>212134.103</td><td>190555.71</td><td>0.154</td><td>1.707</td><td>-4.831</td><td>31.313</td></tr>\n",
       "<tr><td>TARG116</td><td>NN</td><td>STRAIGHT</td><td>4.0</td><td>4.0</td><td>0.0</td><td>212136.121</td><td>190544.59</td><td>0.683</td><td>0.683</td><td>-9.713</td><td>33.208</td></tr>\n",
       "<tr><td>TARG101</td><td>NN</td><td>STRAIGHT</td><td>0.9</td><td>10.0</td><td>0.0</td><td>212133.821</td><td>190534.28</td><td>0.154</td><td>1.707</td><td>-4.15</td><td>34.972</td></tr>\n",
       "</table></div>"
      ],
      "text/plain": [
       "<Table length=16>\n",
       "   ID   NAME  SHAPE     WID     LEN     ROT     ALPHA      DELTA    WIDMM   LENMM    XMM     YMM  \n",
       "  str7  str2   str8   float64 float64 float64  float64    float64  float64 float64 float64 float64\n",
       "------- ---- -------- ------- ------- ------- ---------- --------- ------- ------- ------- -------\n",
       "TARG113   NN STRAIGHT     4.0     4.0     0.0 212134.279 191220.25   0.683   0.683  -5.252 -34.315\n",
       "TARG112   NN STRAIGHT     4.0     4.0     0.0 212140.986 191141.81   0.683   0.683 -21.469 -27.768\n",
       "TARG114   NN STRAIGHT     4.0     4.0     0.0 212123.429 191104.21   0.683   0.683  20.979 -21.323\n",
       "TARG111   NN STRAIGHT     0.9    10.0     0.0 212132.879 191002.48   0.154   1.707   -1.87 -10.801\n",
       "TARG110   NN STRAIGHT     0.9    10.0     0.0 212127.784 190908.67   0.154   1.707  10.451   -1.61\n",
       "TARG109   NN STRAIGHT     0.9    10.0     0.0 212128.763 190845.78   0.154   1.707   8.085   2.297\n",
       "TARG108   NN STRAIGHT     0.9    10.0     0.0 212127.508 190828.88   0.154   1.707  11.119   5.182\n",
       "TARG107   NN STRAIGHT     0.9    10.0     0.0 212133.847 190811.86   0.154   1.707  -4.212   8.077\n",
       "TARG115   NN STRAIGHT     4.0     4.0     0.0 212132.347 190735.58   0.683   0.683  -0.582  14.272\n",
       "TARG106   NN STRAIGHT     0.9    10.0     0.0 212133.934 190720.87   0.154   1.707  -4.422   16.78\n",
       "TARG105   NN STRAIGHT     0.9    10.0     0.0 212130.054 190659.25   0.154   1.707   4.962  20.475\n",
       "TARG104   NN STRAIGHT     0.9    10.0     0.0 212136.755 190631.54   0.154   1.707 -11.247  25.194\n",
       "TARG103   NN STRAIGHT     0.9    10.0     0.0 212139.639  190612.3   0.154   1.707 -18.223  28.472\n",
       "TARG102   NN STRAIGHT     0.9    10.0     0.0 212134.103 190555.71   0.154   1.707  -4.831  31.313\n",
       "TARG116   NN STRAIGHT     4.0     4.0     0.0 212136.121 190544.59   0.683   0.683  -9.713  33.208\n",
       "TARG101   NN STRAIGHT     0.9    10.0     0.0 212133.821 190534.28   0.154   1.707   -4.15  34.972"
      ]
     },
     "execution_count": 6,
     "metadata": {},
     "output_type": "execute_result"
    }
   ],
   "source": [
    "kmsfile='kosmos.23.seg3g2.kms'\n",
    "targets=slitmask.read_kms(kmsfile,sort='YMM')\n",
    "if len(targets) != len(bottom) : \n",
    "    print('ERROR, number of identified slits does not match number of targets')\n",
    "targets"
   ]
  },
  {
   "cell_type": "code",
   "execution_count": 7,
   "id": "9725c9d1-32c2-4297-bf06-094f47dd6737",
   "metadata": {},
   "outputs": [
    {
     "name": "stdout",
     "output_type": "stream",
     "text": [
      "   ID   NAME  SHAPE   WID LEN  ROT   ALPHA      DELTA   WIDMM LENMM   XMM     YMM  \n",
      "------- ---- -------- --- ---- --- ---------- --------- ----- ----- ------- -------\n",
      "TARG111   NN STRAIGHT 0.9 10.0 0.0 212132.879 191002.48 0.154 1.707   -1.87 -10.801\n",
      "TARG110   NN STRAIGHT 0.9 10.0 0.0 212127.784 190908.67 0.154 1.707  10.451   -1.61\n",
      "TARG109   NN STRAIGHT 0.9 10.0 0.0 212128.763 190845.78 0.154 1.707   8.085   2.297\n",
      "TARG108   NN STRAIGHT 0.9 10.0 0.0 212127.508 190828.88 0.154 1.707  11.119   5.182\n",
      "TARG107   NN STRAIGHT 0.9 10.0 0.0 212133.847 190811.86 0.154 1.707  -4.212   8.077\n",
      "TARG106   NN STRAIGHT 0.9 10.0 0.0 212133.934 190720.87 0.154 1.707  -4.422   16.78\n",
      "TARG105   NN STRAIGHT 0.9 10.0 0.0 212130.054 190659.25 0.154 1.707   4.962  20.475\n",
      "TARG104   NN STRAIGHT 0.9 10.0 0.0 212136.755 190631.54 0.154 1.707 -11.247  25.194\n",
      "TARG102   NN STRAIGHT 0.9 10.0 0.0 212134.103 190555.71 0.154 1.707  -4.831  31.313\n",
      "TARG101   NN STRAIGHT 0.9 10.0 0.0 212133.821 190534.28 0.154 1.707   -4.15  34.972\n"
     ]
    },
    {
     "data": {
      "text/plain": [
       "{'type': 'Polynomial1D',\n",
       " 'degree': 2,\n",
       " 'sigdegree': 0,\n",
       " 'pix0': 0,\n",
       " 'spectrum': None,\n",
       " 'rad': 5,\n",
       " 'transpose': True,\n",
       " 'lags': range(-50, 50),\n",
       " 'model': [Polynomial([ 725.36544175,    6.39378253,   -3.62030736], domain=[   98.,  3998.], window=[-1.,  1.], symbol='x'),\n",
       "  Polynomial([ 934.6344652 ,    6.49094214,    1.56190524], domain=[   98.,  3998.], window=[-1.,  1.], symbol='x'),\n",
       "  Polynomial([ 1023.38565965,     6.46450255,     3.67533735], domain=[   98.,  3998.], window=[-1.,  1.], symbol='x'),\n",
       "  Polynomial([ 1089.05958351,     6.49312832,     5.26758998], domain=[   98.,  3998.], window=[-1.,  1.], symbol='x'),\n",
       "  Polynomial([ 1154.49886865,     6.51239823,     6.81155863], domain=[   98.,  3998.], window=[-1.,  1.], symbol='x'),\n",
       "  Polynomial([ 1352.12850914,     6.53479617,    11.59481407], domain=[   98.,  3998.], window=[-1.,  1.], symbol='x'),\n",
       "  Polynomial([ 1436.10006515,     6.52573701,    13.55642517], domain=[   98.,  3998.], window=[-1.,  1.], symbol='x'),\n",
       "  Polynomial([ 1542.12042917,     6.63076955,    16.0577897 ], domain=[   98.,  3998.], window=[-1.,  1.], symbol='x'),\n",
       "  Polynomial([ 1680.82160588,     6.6160561 ,    19.38130477], domain=[   98.,  3998.], window=[-1.,  1.], symbol='x'),\n",
       "  Polynomial([ 1763.28335529,     6.58375629,    21.38991224], domain=[   98.,  3998.], window=[-1.,  1.], symbol='x')],\n",
       " 'sigmodel': None,\n",
       " 'sc0': None,\n",
       " 'rows': [[725, 764],\n",
       "  [934, 973],\n",
       "  [1023, 1062],\n",
       "  [1089, 1128],\n",
       "  [1154, 1193],\n",
       "  [1352, 1391],\n",
       "  [1436, 1475],\n",
       "  [1542, 1581],\n",
       "  [1681, 1720],\n",
       "  [1763, 1802]]}"
      ]
     },
     "execution_count": 7,
     "metadata": {},
     "output_type": "execute_result"
    }
   ],
   "source": [
    "# if you want subset of slitlets, e.g. ignoring alignments stars, select them here\n",
    "#gd=np.where(targets['NAME']!='NN')[0]     # or, e.g., gd=[2,3,4,7,9]\n",
    "gd=[3,4,5,6,7,9,10,11,13,15]\n",
    "gdtrace=copy.deepcopy(trace)\n",
    "gdtrace.model = [trace.model[i] for i in gd]\n",
    "gdtrace.rows = [trace.rows[i] for i in gd]\n",
    "trace=copy.deepcopy(gdtrace)\n",
    "targets=targets[gd]\n",
    "print(targets)\n",
    "vars(trace)"
   ]
  },
  {
   "cell_type": "markdown",
   "id": "dbda61d1",
   "metadata": {},
   "source": [
    "Using the derived traces, extract the slitlets for arcs"
   ]
  },
  {
   "cell_type": "code",
   "execution_count": 8,
   "id": "16514662",
   "metadata": {},
   "outputs": [
    {
     "name": "stdout",
     "output_type": "stream",
     "text": [
      "extracting: \n",
      " 725-764\n",
      " 934-973\n",
      " 1023-1062\n",
      " 1089-1128\n",
      " 1154-1193\n",
      " 1352-1391\n",
      " 1436-1475\n",
      " 1542-1581\n",
      " 1681-1720\n",
      " 1763-1802\n",
      "  See extraction window(s). Hit space bar to continue....\n"
     ]
    }
   ],
   "source": [
    "arcec=trace.extract2d(arcs,display=t)"
   ]
  },
  {
   "cell_type": "markdown",
   "id": "ff19c690",
   "metadata": {},
   "source": [
    "Add XMM and YMM for each slit to headers of each extracted image. They need to match so you get the right values!"
   ]
  },
  {
   "cell_type": "code",
   "execution_count": 9,
   "id": "bafacad3-ca2c-480e-af41-46147a01510a",
   "metadata": {},
   "outputs": [],
   "source": [
    "for arc,target in zip(arcec,targets) : \n",
    "    arc.header['XMM'] = target['XMM']\n",
    "    arc.header['YMM'] = target['YMM']"
   ]
  },
  {
   "cell_type": "markdown",
   "id": "cd8974bc",
   "metadata": {},
   "source": [
    "Now loop through each extracted arc to do wavelength calibration. This requires a little effort because the change in the location of the slit relative to the default saved wavelength calibration is significant enough that it can be a challenge to automatically find the lines, since the change in spectrum is more than a simple shift (and, in fact, more than a shift + dispersion change). \n",
    "\n",
    "However, a simple shift is usually enough to identify some of the lines, and these can be used to bootstrap the wavelength solution; the initial identification is easier if you use an estimate of the shift from the mask design XMM.\n",
    "\n",
    "You can use identify() to do the iteration. On the first pass, only central lines may be correctly identified. Use 'l' and 'r' to remove lines to the left and right of the identified lines. Then use 'i' to iterate, i.e., allow it to re-identify lines (i just returns True to allow you to iterate). When happy with solution, use ' ' to move onto the final 2D wavelength calibration.\n",
    "\n",
    "You can really help this process if you supply an initial wavelength calibration (a pyvista WaveCal object) that was done using the same lamp(s) as your arc exposures (here, using KOSMOS_red_waves.fits'), and using a master line list that corresponds to these lamp(s) (here, using ne.dat). If you choose another WaveCal to start from, you may need to get a correct approximate relation for the shift from the reference spectrum as a function of XMM. For KOSMOS, seems like -22.5(XMM) gives a rough pixel shift from a center slit location, -22.5(XMM-24.44) for a low slit location.\n",
    "\n",
    "The next cell just shows how the simple shift fails, even using the XMM for each slit to shift: all of the arc lines don't match up with just a translation."
   ]
  },
  {
   "cell_type": "code",
   "execution_count": 10,
   "id": "cb8b67cd-8a00-4bfc-a636-3ddf36b2c823",
   "metadata": {},
   "outputs": [
    {
     "name": "stdout",
     "output_type": "stream",
     "text": [
      "  rms:    0.177 Angstroms (50 lines)\n",
      "42.075\n"
     ]
    }
   ],
   "source": [
    "plt.figure()\n",
    "wav2=spectra.WaveCal('KOSMOS/KOSMOS_red_waves.fits')\n",
    "plt.plot(wav2.spectrum[0])\n",
    "for i, arc in enumerate(arcec[0:1]) :\n",
    "    shift=(arc.header['XMM']*-22.5)\n",
    "    plt.plot(arc.data[19][int(shift):]*30)\n",
    "    print(shift)\n",
    "    plt.draw()"
   ]
  },
  {
   "cell_type": "markdown",
   "id": "d3b527ce-55df-4246-8e35-f6b4ec06ee48",
   "metadata": {},
   "source": [
    "The wavelength calibration for each slitlet will be saved. Since this is probably the most time-consuming part, you could use saved one if you only want to redo a couple of them (sometimes, you hit the wrong key and want to do one over!)"
   ]
  },
  {
   "cell_type": "code",
   "execution_count": 17,
   "id": "5d985385",
   "metadata": {},
   "outputs": [
    {
     "name": "stdout",
     "output_type": "stream",
     "text": [
      "  rms:    0.177 Angstroms (50 lines)\n",
      "  rms:    0.177 Angstroms (50 lines)\n",
      "  cross correlating with reference spectrum using lags between:  88 127\n",
      "  Derived pixel shift from input wcal:  [ 122.23720685]\n",
      "  See identified lines.\n",
      "  rms:  129.441 Angstroms (34 lines)\n",
      "  Input in plot window: \n",
      "       l : to remove all lines to left of cursor\n",
      "       r : to remove all lines to right of cursor\n",
      "       n : to remove line nearest cursor x position\n",
      "       i : return with True value (to allow iteration)\n",
      "       anything else : finish and return\n",
      "  rms:  129.441 Anstroms\n",
      "  input from plot window...\n",
      "\n",
      "[]\n",
      "  cross correlating with reference spectrum using lags between:  -300 299\n",
      "  Derived pixel shift from input wcal for row: 38 1\n",
      "  See identified lines.\n",
      "  rms:   41.698\n",
      "rejecting 1 points from 225 total: \n",
      "  rms:    3.692\n",
      "rejecting 1 points from 225 total: \n",
      "  See 2D wavecal fit. Enter space in plot window to continue\n",
      "\n"
     ]
    },
    {
     "ename": "ValueError",
     "evalue": "The Axes must have been created in the present figure",
     "output_type": "error",
     "traceback": [
      "\u001b[0;31m---------------------------------------------------------------------------\u001b[0m",
      "\u001b[0;31mValueError\u001b[0m                                Traceback (most recent call last)",
      "Cell \u001b[0;32mIn[17], line 27\u001b[0m\n\u001b[1;32m     25\u001b[0m wav\u001b[38;5;241m.\u001b[39mwrite(wavname)\n\u001b[1;32m     26\u001b[0m wav\u001b[38;5;241m.\u001b[39madd_wave(arc)\n\u001b[0;32m---> 27\u001b[0m \u001b[43mt\u001b[49m\u001b[38;5;241;43m.\u001b[39;49m\u001b[43mtv\u001b[49m\u001b[43m(\u001b[49m\u001b[43mwav\u001b[49m\u001b[38;5;241;43m.\u001b[39;49m\u001b[43mcorrect\u001b[49m\u001b[43m(\u001b[49m\u001b[43marc\u001b[49m\u001b[43m,\u001b[49m\u001b[43marc\u001b[49m\u001b[38;5;241;43m.\u001b[39;49m\u001b[43mwave\u001b[49m\u001b[43m[\u001b[49m\u001b[43mnrow\u001b[49m\u001b[38;5;241;43m/\u001b[39;49m\u001b[38;5;241;43m/\u001b[39;49m\u001b[38;5;241;43m2\u001b[39;49m\u001b[43m]\u001b[49m\u001b[43m)\u001b[49m\u001b[43m)\u001b[49m\n",
      "File \u001b[0;32m/home/holtz/git/pyvista/python/pyvista/tv.py:534\u001b[0m, in \u001b[0;36mTV.tv\u001b[0;34m(self, img, min, max, same, cmap, sn, object, draw)\u001b[0m\n\u001b[1;32m    532\u001b[0m \u001b[38;5;66;03m# set figure and axes\u001b[39;00m\n\u001b[1;32m    533\u001b[0m plt\u001b[38;5;241m.\u001b[39mfigure(\u001b[38;5;28mself\u001b[39m\u001b[38;5;241m.\u001b[39mfig\u001b[38;5;241m.\u001b[39mnumber)\n\u001b[0;32m--> 534\u001b[0m \u001b[43mplt\u001b[49m\u001b[38;5;241;43m.\u001b[39;49m\u001b[43maxes\u001b[49m\u001b[43m(\u001b[49m\u001b[38;5;28;43mself\u001b[39;49m\u001b[38;5;241;43m.\u001b[39;49m\u001b[43max\u001b[49m\u001b[43m)\u001b[49m\n\u001b[1;32m    535\u001b[0m \u001b[38;5;66;03m#self.clear()\u001b[39;00m\n\u001b[1;32m    536\u001b[0m \n\u001b[1;32m    537\u001b[0m \u001b[38;5;66;03m# make last image not visible so we don't see anything \u001b[39;00m\n\u001b[1;32m    538\u001b[0m \u001b[38;5;66;03m#   if new image is smaller\u001b[39;00m\n\u001b[1;32m    539\u001b[0m \u001b[38;5;28;01mif\u001b[39;00m \u001b[38;5;28mself\u001b[39m\u001b[38;5;241m.\u001b[39maxlist[\u001b[38;5;28mself\u001b[39m\u001b[38;5;241m.\u001b[39mcurrent] \u001b[38;5;129;01mis\u001b[39;00m \u001b[38;5;129;01mnot\u001b[39;00m \u001b[38;5;28;01mNone\u001b[39;00m: \n",
      "File \u001b[0;32m/home/local/Anaconda3-2020.02/envs/pyvista/lib/python3.9/site-packages/matplotlib/pyplot.py:1225\u001b[0m, in \u001b[0;36maxes\u001b[0;34m(arg, **kwargs)\u001b[0m\n\u001b[1;32m   1223\u001b[0m         \u001b[38;5;28;01mreturn\u001b[39;00m fig\u001b[38;5;241m.\u001b[39madd_axes(pos, \u001b[38;5;241m*\u001b[39m\u001b[38;5;241m*\u001b[39mkwargs)\n\u001b[1;32m   1224\u001b[0m \u001b[38;5;28;01melse\u001b[39;00m:\n\u001b[0;32m-> 1225\u001b[0m     \u001b[38;5;28;01mreturn\u001b[39;00m \u001b[43mfig\u001b[49m\u001b[38;5;241;43m.\u001b[39;49m\u001b[43madd_axes\u001b[49m\u001b[43m(\u001b[49m\u001b[43marg\u001b[49m\u001b[43m,\u001b[49m\u001b[43m \u001b[49m\u001b[38;5;241;43m*\u001b[39;49m\u001b[38;5;241;43m*\u001b[39;49m\u001b[43mkwargs\u001b[49m\u001b[43m)\u001b[49m\n",
      "File \u001b[0;32m/home/local/Anaconda3-2020.02/envs/pyvista/lib/python3.9/site-packages/matplotlib/figure.py:639\u001b[0m, in \u001b[0;36mFigureBase.add_axes\u001b[0;34m(self, *args, **kwargs)\u001b[0m\n\u001b[1;32m    637\u001b[0m     key \u001b[38;5;241m=\u001b[39m a\u001b[38;5;241m.\u001b[39m_projection_init\n\u001b[1;32m    638\u001b[0m     \u001b[38;5;28;01mif\u001b[39;00m a\u001b[38;5;241m.\u001b[39mget_figure() \u001b[38;5;129;01mis\u001b[39;00m \u001b[38;5;129;01mnot\u001b[39;00m \u001b[38;5;28mself\u001b[39m:\n\u001b[0;32m--> 639\u001b[0m         \u001b[38;5;28;01mraise\u001b[39;00m \u001b[38;5;167;01mValueError\u001b[39;00m(\n\u001b[1;32m    640\u001b[0m             \u001b[38;5;124m\"\u001b[39m\u001b[38;5;124mThe Axes must have been created in the present figure\u001b[39m\u001b[38;5;124m\"\u001b[39m)\n\u001b[1;32m    641\u001b[0m \u001b[38;5;28;01melse\u001b[39;00m:\n\u001b[1;32m    642\u001b[0m     rect, \u001b[38;5;241m*\u001b[39mextra_args \u001b[38;5;241m=\u001b[39m args\n",
      "\u001b[0;31mValueError\u001b[0m: The Axes must have been created in the present figure"
     ]
    }
   ],
   "source": [
    "clobber=False    # set to False if you want to use any saved ones\n",
    "for i,(arc,targ) in enumerate(zip(arcec,targets)) :\n",
    "    wavname = 'CofIwav_{:s}.fits'.format(targ['ID'])\n",
    "    if clobber or not os.path.exists(wavname) :\n",
    "        wav=spectra.WaveCal('KOSMOS/KOSMOS_red_waves.fits')\n",
    "        wav.fit(degree=3)\n",
    "        nrow=arc.shape[0]\n",
    "    \n",
    "        # get initial guess at shift from reference using XMM (KOSMOD red low!)\n",
    "        shift=int(arc.header['XMM']*-22.5) # +550  #-wav.pix0)\n",
    "        lags=np.arange(shift-20,shift+20)\n",
    "\n",
    "        iter = True\n",
    "        while iter :\n",
    "            iter = wav.identify(arc[nrow//2],plot=True,plotinter=True,lags=lags,thresh=10,file='./copy_new_neon_red_center.dat')\n",
    "            lags=np.arange(-50,50)\n",
    "            plt.close()\n",
    "\n",
    "        bd= np.where(wav.weights<0.5)[0]\n",
    "        print(wav.waves[bd])\n",
    "        # Do the 2D wavelength solution, sampling 10 locations across slitlet\n",
    "        wav.degree=5\n",
    "        wav.identify(arc,plot=True,nskip=nrow//10,thresh=10)\n",
    "        plt.close()\n",
    "        wav.write(wavname)\n",
    "        wav.add_wave(arc)\n",
    "        t.tv(wav.correct(arc,arc.wave[nrow//2]))"
   ]
  },
  {
   "cell_type": "markdown",
   "id": "16a024a6",
   "metadata": {},
   "source": [
    "Now set up routine to reduct/extract science frames"
   ]
  },
  {
   "cell_type": "code",
   "execution_count": null,
   "id": "d94f7735",
   "metadata": {},
   "outputs": [],
   "source": [
    "def multi_extract2d(red,trace,targets,image,bias=None,dark=None,flat=None,display=None,crbox='lacosmic',crsig=10,\n",
    "                    rad=5) :\n",
    "\n",
    "    if display is not None : \n",
    "        display.clear()\n",
    "        plot = True\n",
    "    else:\n",
    "        plot = False\n",
    "        \n",
    "    # basic image read and reduction\n",
    "    imcr=red.reduce(image,bias=bias,dark=dark,flat=flat,crbox=crbox,display=display,crsig=crsig)\n",
    "\n",
    "    # 2D extraction\n",
    "    out = trace.extract2d(imcr,display=display)\n",
    "\n",
    "    # loop over each desired slitlet, get wavelength shift from skylines, undistort to central wavelengths\n",
    "    diff=[]\n",
    "    for i,(o,targ) in enumerate(zip(out,targets)) :\n",
    "        wav=spectra.WaveCal('./CofIwav_{:s}.fits'.format(targ['ID']))\n",
    "        orig=wav.model.c0_0\n",
    "        wav.add_wave(o)\n",
    "\n",
    "        # set rows to use for skyline\n",
    "        nrows = o.shape[0]\n",
    "        rows = [x for x in range(0,nrows) if np.abs(x-nrows//2)>rad]\n",
    "        wav.skyline(o,thresh=10,rows=rows,plot=plot)\n",
    "        \n",
    "        if plot : plt.close()\n",
    "        wav.add_wave(o)\n",
    "        if display is not None : display.tv(o)\n",
    "        out[i]=wav.correct(o,o.wave[nrows//2])\n",
    "        if display is not None : display.tv(out[i])\n",
    "        name = out[i].header[\"FILE\"].split(\".\")[0] \n",
    "        out[i].write('{:s}_{:s}_2d.fits'.format(name,targ['ID']))\n",
    "        diff.append(wav.model.c0_0-orig)\n",
    "\n",
    "    print('shifts: ',diff)\n",
    "    return out\n"
   ]
  },
  {
   "cell_type": "code",
   "execution_count": 18,
   "id": "f200a270-01b6-4430-b0ff-141c6df20e98",
   "metadata": {},
   "outputs": [
    {
     "name": "stdout",
     "output_type": "stream",
     "text": [
      "  starting CR rejection, may take some time ....\n",
      "INFO: array provided for uncertainty; assuming it is a StdDevUncertainty. [astropy.nddata.ccddata]\n",
      "extracting: \n",
      " 725-764\n",
      " 934-973\n",
      " 1023-1062\n",
      " 1089-1128\n",
      " 1154-1193\n",
      " 1352-1391\n",
      " 1436-1475\n",
      " 1542-1581\n",
      " 1681-1720\n",
      " 1763-1802\n",
      "  rms:    0.031\n",
      "rejecting 7 points from 479 total: \n",
      "  rms:    0.031\n",
      "rejecting 7 points from 479 total: \n",
      "  rms:    0.151\n",
      "rejecting 1 points from 203 total: \n",
      "  rms:    0.146\n",
      "rejecting 1 points from 203 total: \n",
      "\n",
      "appending uncertainty\n",
      "appending bitmask\n",
      "appending wave\n",
      "  rms:    0.039\n",
      "rejecting 22 points from 490 total: \n",
      "  rms:    0.039\n",
      "rejecting 22 points from 490 total: \n",
      "  rms:    0.095\n",
      "rejecting 1 points from 200 total: \n",
      "  rms:    0.092\n",
      "rejecting 1 points from 200 total: \n",
      "\n",
      "appending uncertainty\n",
      "appending bitmask\n",
      "appending wave\n",
      "  rms:    0.055\n",
      "rejecting 1 points from 493 total: \n",
      "  rms:    0.055\n",
      "rejecting 1 points from 493 total: \n",
      "  rms:    0.129\n",
      "rejecting 0 points from 186 total: \n",
      "\n",
      "appending uncertainty\n",
      "appending bitmask\n",
      "appending wave\n",
      "  rms:    0.052\n",
      "rejecting 13 points from 494 total: \n",
      "  rms:    0.052\n",
      "rejecting 13 points from 494 total: \n",
      "  rms:    0.109\n",
      "rejecting 2 points from 188 total: \n",
      "  rms:    0.103\n",
      "rejecting 2 points from 188 total: \n",
      "\n",
      "appending uncertainty\n",
      "appending bitmask\n",
      "appending wave\n",
      "  rms:    0.054\n",
      "rejecting 14 points from 490 total: \n",
      "  rms:    0.054\n",
      "rejecting 14 points from 490 total: \n",
      "  rms:    0.085\n",
      "rejecting 0 points from 159 total: \n",
      "\n",
      "appending uncertainty\n",
      "appending bitmask\n",
      "appending wave\n",
      "  rms:    0.041\n",
      "rejecting 13 points from 493 total: \n",
      "  rms:    0.041\n",
      "rejecting 13 points from 493 total: \n",
      "  rms:    0.091\n",
      "rejecting 3 points from 158 total: \n",
      "  rms:    0.077\n",
      "rejecting 3 points from 158 total: \n",
      "\n",
      "appending uncertainty\n",
      "appending bitmask\n",
      "appending wave\n",
      "  rms:    0.038\n",
      "rejecting 13 points from 493 total: \n",
      "  rms:    0.038\n",
      "rejecting 13 points from 493 total: \n",
      "  rms:    0.112\n",
      "rejecting 0 points from 186 total: \n",
      "\n",
      "appending uncertainty\n",
      "appending bitmask\n",
      "appending wave\n",
      "  rms:    0.036\n",
      "rejecting 12 points from 491 total: \n",
      "  rms:    0.036\n",
      "rejecting 12 points from 491 total: \n",
      "  rms:    0.092\n",
      "rejecting 0 points from 161 total: \n",
      "\n",
      "appending uncertainty\n",
      "appending bitmask\n",
      "appending wave\n",
      "  rms:    3.692\n",
      "rejecting 1 points from 225 total: \n",
      "  rms:    3.692\n",
      "rejecting 1 points from 225 total: \n"
     ]
    },
    {
     "name": "stderr",
     "output_type": "stream",
     "text": [
      "/home/local/Anaconda3-2020.02/envs/pyvista/lib/python3.9/site-packages/scipy/optimize/_minpack_py.py:1010: OptimizeWarning: Covariance of the parameters could not be estimated\n",
      "  warnings.warn('Covariance of the parameters could not be estimated',\n"
     ]
    },
    {
     "name": "stdout",
     "output_type": "stream",
     "text": [
      "  rms:    3.500\n",
      "rejecting 1 points from 86 total: \n",
      "  rms:    3.210\n",
      "rejecting 1 points from 86 total: \n",
      "\n",
      "appending uncertainty\n",
      "appending bitmask\n",
      "appending wave\n",
      "  rms:   23.703\n",
      "rejecting 4 points from 246 total: \n",
      "  rms:   23.703\n",
      "rejecting 4 points from 246 total: \n",
      "  rms:    0.718\n",
      "rejecting 0 points from 50 total: \n",
      "\n",
      "appending uncertainty\n",
      "appending bitmask\n",
      "appending wave\n",
      "shifts:  [-0.12296180385965272, -0.093775605931114114, -0.12852487187319639, -0.079896214060681814, -0.044637526895712654, -0.05700723991230916, -0.11309212074411334, -0.072314127542085771, -3.0352685421512433, -0.69899470692053001]\n"
     ]
    }
   ],
   "source": [
    "out=multi_extract2d(red,trace,targets,20,display=None)"
   ]
  },
  {
   "cell_type": "markdown",
   "id": "265457a8",
   "metadata": {},
   "source": [
    "As desired, move on to 1D extraction"
   ]
  },
  {
   "cell_type": "code",
   "execution_count": 19,
   "id": "5add25c1",
   "metadata": {},
   "outputs": [],
   "source": [
    "def multi_extract1d(spec2d) :\n",
    "    def model(x) :\n",
    "        return x*0.\n",
    "\n",
    "    fig=plt.figure()\n",
    "    spec1d=[]\n",
    "    for i in range(len(spec2d)) :\n",
    "        trace1 = spectra.Trace(transpose=False)\n",
    "        trace1.rows = [0,spec2d[i].data.shape[0]]\n",
    "        trace1.index = [0]\n",
    "        peak,ind = trace1.findpeak(spec2d[i],thresh=10,sort=True)\n",
    "        if len(peak) > 0:\n",
    "            def model(x) :\n",
    "                return x*0. + peak[0]\n",
    "            trace1.model = [model]\n",
    "            spec=trace1.extract(spec2d[i],rad=4,back=[[-10,-5],[5,10]],display=None)\n",
    "            plt.figure(fig)\n",
    "            spec.wave = out[i].wave[peak]\n",
    "            print(spec.wave[0].shape,spec.data[0].shape)\n",
    "\n",
    "            plt.subplot(2,1,1)\n",
    "            plt.plot(spec.wave[0],spec.data[0])\n",
    "            plt.subplot(2,1,2)\n",
    "            plt.plot(spec.wave[0],spec.sky[0])\n",
    "            spec1d.append(spec)\n",
    "        else :\n",
    "            print('no peak found for slit: ',i)\n",
    "    plt.tight_layout()\n",
    "    return spec1d"
   ]
  },
  {
   "cell_type": "code",
   "execution_count": null,
   "id": "5ef4e403-c846-4770-a57d-ea74b11e6e01",
   "metadata": {},
   "outputs": [
    {
     "name": "stdout",
     "output_type": "stream",
     "text": [
      "looking for peaks using 200 pixels around 2048, threshhold of 10.000000\n",
      "peaks:  [20, 6]\n",
      "aperture/fiber:  [1, 0]\n",
      "  extracting ... \n",
      "\n",
      "(4096,) (4096,)\n",
      "looking for peaks using 200 pixels around 2048, threshhold of 10.000000\n",
      "peaks:  [20, 6]\n",
      "aperture/fiber:  [1, 0]\n",
      "  extracting ... \n",
      "\n",
      "(4096,) (4096,)\n",
      "looking for peaks using 200 pixels around 2048, threshhold of 10.000000\n",
      "peaks:  [18, 5]\n",
      "aperture/fiber:  [1, 0]\n",
      "  extracting ... \n",
      "\n",
      "(4096,) (4096,)\n",
      "looking for peaks using 200 pixels around 2048, threshhold of 10.000000\n",
      "peaks:  [20, 6]\n",
      "aperture/fiber:  [1, 0]\n",
      "  extracting ... \n",
      "\n",
      "(4096,) (4096,)\n",
      "looking for peaks using 200 pixels around 2048, threshhold of 10.000000\n",
      "peaks:  [18]\n",
      "aperture/fiber:  [0]\n",
      "  extracting ... \n"
     ]
    }
   ],
   "source": [
    "spec1d = multi_extract1d(out)"
   ]
  },
  {
   "cell_type": "code",
   "execution_count": 39,
   "id": "79d38baa-472e-4d91-8473-12157d1478fa",
   "metadata": {},
   "outputs": [
    {
     "data": {
      "text/plain": [
       "array([[25.51282701, 29.67282122, 28.87833749, ..., 27.52643757,\n",
       "        29.13018955, 28.69354657]])"
      ]
     },
     "execution_count": 39,
     "metadata": {},
     "output_type": "execute_result"
    }
   ],
   "source": [
    "spec1d[0].skyerr\n"
   ]
  },
  {
   "cell_type": "code",
   "execution_count": null,
   "id": "0a21f53b-f5ff-442f-898d-04a102ab1115",
   "metadata": {},
   "outputs": [],
   "source": []
  }
 ],
 "metadata": {
  "kernelspec": {
   "display_name": "Python 3 (ipykernel)",
   "language": "python",
   "name": "python3"
  },
  "language_info": {
   "codemirror_mode": {
    "name": "ipython",
    "version": 3
   },
   "file_extension": ".py",
   "mimetype": "text/x-python",
   "name": "python",
   "nbconvert_exporter": "python",
   "pygments_lexer": "ipython3",
   "version": "3.9.18"
  }
 },
 "nbformat": 4,
 "nbformat_minor": 5
}
