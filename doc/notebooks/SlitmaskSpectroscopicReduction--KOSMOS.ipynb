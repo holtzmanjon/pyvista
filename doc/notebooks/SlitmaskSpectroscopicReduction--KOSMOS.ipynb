{
 "cells": [
  {
   "cell_type": "markdown",
   "id": "9cc0929e",
   "metadata": {},
   "source": [
    "<h2>Slitmask Spectroscopic Reduction: ARC 3.5m KOSMOS"
   ]
  },
  {
   "cell_type": "markdown",
   "id": "e31a9526",
   "metadata": {},
   "source": [
    "Notebook goes through basic ideas of reducing KOSMOS slitmask spectra. Does not discuss basic reduction (see KOSMOS notebook) but concentrates on multi-slit issues: finding the slitlets, doing wavelength calibration for each slitlet (trickiest part), 2D extraction of slitlits, including wavelength correction by skylines and undistorting along slit to central wavelength, and simple 1D extraction."
   ]
  },
  {
   "cell_type": "code",
   "execution_count": 1,
   "id": "1d06b78a",
   "metadata": {},
   "outputs": [],
   "source": [
    "from pyvista import imred, tv, stars, slitmask, image, spectra\n",
    "import pdb\n",
    "import copy\n",
    "import numpy as np\n",
    "import matplotlib.pyplot as plt\n",
    "import os\n",
    "from astropy.table import vstack"
   ]
  },
  {
   "cell_type": "code",
   "execution_count": 2,
   "id": "e08e3334",
   "metadata": {},
   "outputs": [],
   "source": [
    "# you may need/want to use qt or osx in the next line\n",
    "%matplotlib tk    \n",
    "t=tv.TV()"
   ]
  },
  {
   "cell_type": "code",
   "execution_count": 3,
   "id": "7c4e8dd6",
   "metadata": {},
   "outputs": [
    {
     "name": "stdout",
     "output_type": "stream",
     "text": [
      "INFO: array provided for uncertainty; assuming it is a StdDevUncertainty. [astropy.nddata.ccddata]\n",
      "INFO: array provided for uncertainty; assuming it is a StdDevUncertainty. [astropy.nddata.ccddata]\n",
      "INFO: array provided for uncertainty; assuming it is a StdDevUncertainty. [astropy.nddata.ccddata]\n",
      "INFO: array provided for uncertainty; assuming it is a StdDevUncertainty. [astropy.nddata.ccddata]\n"
     ]
    }
   ],
   "source": [
    "red=imred.Reducer('KOSMOS',dir='/home/holtz/raw/apo/UT221221_cleaned',verbose=False)                                                         \n",
    "flat = red.reduce(71)\n",
    "arc = red.reduce(70)\n",
    "arcs= red.sum([70,67])"
   ]
  },
  {
   "cell_type": "markdown",
   "id": "e344d1a7",
   "metadata": {},
   "source": [
    "Find slit edges from flat, and fit polynomials to locations"
   ]
  },
  {
   "cell_type": "code",
   "execution_count": 4,
   "id": "7d011c6f",
   "metadata": {},
   "outputs": [],
   "source": [
    "trace=spectra.Trace(transpose=True)\n",
    "t.tvclear()\n",
    "bottom,top = trace.findslits(flat,display=t,thresh=0.5,sn=True)"
   ]
  },
  {
   "cell_type": "markdown",
   "id": "ce60d5e7",
   "metadata": {},
   "source": [
    "Plot shape of slit edges relative to center position, just for information"
   ]
  },
  {
   "cell_type": "code",
   "execution_count": 13,
   "id": "d2b4a10a",
   "metadata": {},
   "outputs": [],
   "source": [
    "x=np.arange(4096)\n",
    "plt.figure()\n",
    "for l in bottom :\n",
    "    plt.plot(x,l(x)-l(2048))\n",
    "    plt.xlabel('x')\n",
    "    plt.ylabel('y-y(2048)')"
   ]
  },
  {
   "cell_type": "markdown",
   "id": "f09416cb-099e-4871-a8de-43575e95f7aa",
   "metadata": {},
   "source": [
    "Read in the slitmask file, which we'll use to get object names and slit locations to help with wavelength solution.\n",
    "\n",
    "If the number of slitlets found doesn't match the number of targets, you'll need to go back and adjust the threshold to find the correct slitlets, or else modify the targets table below so that they match."
   ]
  },
  {
   "cell_type": "code",
   "execution_count": 5,
   "id": "d62ecdbe",
   "metadata": {},
   "outputs": [
    {
     "data": {
      "text/html": [
       "<div><i>Table length=15</i>\n",
       "<table id=\"table47382525866256\" class=\"table-striped table-bordered table-condensed\">\n",
       "<thead><tr><th>ID</th><th>NAME</th><th>SHAPE</th><th>WID</th><th>LEN</th><th>ROT</th><th>ALPHA</th><th>DELTA</th><th>WIDMM</th><th>LENMM</th><th>XMM</th><th>YMM</th></tr></thead>\n",
       "<thead><tr><th>str7</th><th>str5</th><th>str8</th><th>float64</th><th>float64</th><th>float64</th><th>float64</th><th>float64</th><th>float64</th><th>float64</th><th>float64</th><th>float64</th></tr></thead>\n",
       "<tr><td>TARG114</td><td>NN</td><td>STRAIGHT</td><td>4.0</td><td>4.0</td><td>0.0</td><td>83654.162</td><td>30638.76</td><td>0.683</td><td>0.683</td><td>-6.272</td><td>-33.306</td></tr>\n",
       "<tr><td>TARG111</td><td>NN</td><td>STRAIGHT</td><td>4.0</td><td>4.0</td><td>0.0</td><td>83645.269</td><td>30628.86</td><td>0.683</td><td>0.683</td><td>16.462</td><td>-31.616</td></tr>\n",
       "<tr><td>TARG109</td><td>Obj9</td><td>STRAIGHT</td><td>2.0</td><td>10.0</td><td>0.0</td><td>83702.29</td><td>30538.62</td><td>0.341</td><td>1.707</td><td>-27.05</td><td>-23.042</td></tr>\n",
       "<tr><td>TARG101</td><td>Obj1</td><td>STRAIGHT</td><td>2.0</td><td>10.0</td><td>0.0</td><td>83649.106</td><td>30504.92</td><td>0.341</td><td>1.707</td><td>6.652</td><td>-17.29</td></tr>\n",
       "<tr><td>TARG103</td><td>Obj3</td><td>STRAIGHT</td><td>2.0</td><td>10.0</td><td>0.0</td><td>83654.799</td><td>30436.19</td><td>0.341</td><td>1.707</td><td>-7.901</td><td>-12.387</td></tr>\n",
       "<tr><td>TARG102</td><td>Obj2</td><td>STRAIGHT</td><td>2.0</td><td>10.0</td><td>0.0</td><td>83638.93</td><td>30417.69</td><td>0.341</td><td>1.707</td><td>32.666</td><td>-9.23</td></tr>\n",
       "<tr><td>TARG104</td><td>Obj4</td><td>STRAIGHT</td><td>2.0</td><td>10.0</td><td>0.0</td><td>83655.258</td><td>30349.0</td><td>0.341</td><td>1.707</td><td>-9.075</td><td>-4.333</td></tr>\n",
       "<tr><td>TARG105</td><td>Obj5</td><td>STRAIGHT</td><td>2.0</td><td>10.0</td><td>0.0</td><td>83648.518</td><td>30323.98</td><td>0.341</td><td>1.707</td><td>8.155</td><td>-0.063</td></tr>\n",
       "<tr><td>TARG106</td><td>Obj6</td><td>STRAIGHT</td><td>2.0</td><td>10.0</td><td>0.0</td><td>83644.95</td><td>30258.99</td><td>0.341</td><td>1.707</td><td>17.277</td><td>4.202</td></tr>\n",
       "<tr><td>TARG113</td><td>NN</td><td>STRAIGHT</td><td>4.0</td><td>4.0</td><td>0.0</td><td>83638.6</td><td>30239.36</td><td>0.683</td><td>0.683</td><td>33.511</td><td>7.553</td></tr>\n",
       "<tr><td>TARG115</td><td>NN</td><td>STRAIGHT</td><td>4.0</td><td>4.0</td><td>0.0</td><td>83651.338</td><td>30219.56</td><td>0.683</td><td>0.683</td><td>0.947</td><td>10.931</td></tr>\n",
       "<tr><td>TARG110</td><td>Obj10</td><td>STRAIGHT</td><td>2.0</td><td>10.0</td><td>0.0</td><td>83648.845</td><td>30145.73</td><td>0.341</td><td>1.707</td><td>7.319</td><td>16.706</td></tr>\n",
       "<tr><td>TARG112</td><td>NN</td><td>STRAIGHT</td><td>4.0</td><td>4.0</td><td>0.0</td><td>83659.269</td><td>30110.26</td><td>0.683</td><td>0.683</td><td>-19.329</td><td>22.758</td></tr>\n",
       "<tr><td>TARG107</td><td>Obj7</td><td>STRAIGHT</td><td>2.0</td><td>10.0</td><td>0.0</td><td>83651.722</td><td>30031.64</td><td>0.341</td><td>1.707</td><td>-0.036</td><td>29.35</td></tr>\n",
       "<tr><td>TARG108</td><td>Obj8</td><td>STRAIGHT</td><td>2.0</td><td>10.0</td><td>0.0</td><td>83651.454</td><td>30001.4</td><td>0.341</td><td>1.707</td><td>0.649</td><td>34.511</td></tr>\n",
       "</table></div>"
      ],
      "text/plain": [
       "<Table length=15>\n",
       "   ID    NAME  SHAPE     WID     LEN   ...  WIDMM   LENMM    XMM     YMM  \n",
       "  str7   str5   str8   float64 float64 ... float64 float64 float64 float64\n",
       "------- ----- -------- ------- ------- ... ------- ------- ------- -------\n",
       "TARG114    NN STRAIGHT     4.0     4.0 ...   0.683   0.683  -6.272 -33.306\n",
       "TARG111    NN STRAIGHT     4.0     4.0 ...   0.683   0.683  16.462 -31.616\n",
       "TARG109  Obj9 STRAIGHT     2.0    10.0 ...   0.341   1.707  -27.05 -23.042\n",
       "TARG101  Obj1 STRAIGHT     2.0    10.0 ...   0.341   1.707   6.652  -17.29\n",
       "TARG103  Obj3 STRAIGHT     2.0    10.0 ...   0.341   1.707  -7.901 -12.387\n",
       "TARG102  Obj2 STRAIGHT     2.0    10.0 ...   0.341   1.707  32.666   -9.23\n",
       "TARG104  Obj4 STRAIGHT     2.0    10.0 ...   0.341   1.707  -9.075  -4.333\n",
       "TARG105  Obj5 STRAIGHT     2.0    10.0 ...   0.341   1.707   8.155  -0.063\n",
       "TARG106  Obj6 STRAIGHT     2.0    10.0 ...   0.341   1.707  17.277   4.202\n",
       "TARG113    NN STRAIGHT     4.0     4.0 ...   0.683   0.683  33.511   7.553\n",
       "TARG115    NN STRAIGHT     4.0     4.0 ...   0.683   0.683   0.947  10.931\n",
       "TARG110 Obj10 STRAIGHT     2.0    10.0 ...   0.341   1.707   7.319  16.706\n",
       "TARG112    NN STRAIGHT     4.0     4.0 ...   0.683   0.683 -19.329  22.758\n",
       "TARG107  Obj7 STRAIGHT     2.0    10.0 ...   0.341   1.707  -0.036   29.35\n",
       "TARG108  Obj8 STRAIGHT     2.0    10.0 ...   0.341   1.707   0.649  34.511"
      ]
     },
     "execution_count": 5,
     "metadata": {},
     "output_type": "execute_result"
    }
   ],
   "source": [
    "kmsfile='eFEDS197_pointing2.1.kms'\n",
    "targets = slitmask.read_kms(kmsfile,sort='YMM')\n",
    "if len(targets) != len(bottom) : \n",
    "    print('ERROR, number of identified slits does not match number of targets')\n",
    "targets"
   ]
  },
  {
   "cell_type": "code",
   "execution_count": 6,
   "id": "9725c9d1-32c2-4297-bf06-094f47dd6737",
   "metadata": {},
   "outputs": [
    {
     "name": "stdout",
     "output_type": "stream",
     "text": [
      "   ID    NAME  SHAPE   WID LEN  ROT ...  DELTA   WIDMM LENMM  XMM     YMM  \n",
      "------- ----- -------- --- ---- --- ... -------- ----- ----- ------ -------\n",
      "TARG109  Obj9 STRAIGHT 2.0 10.0 0.0 ... 30538.62 0.341 1.707 -27.05 -23.042\n",
      "TARG101  Obj1 STRAIGHT 2.0 10.0 0.0 ... 30504.92 0.341 1.707  6.652  -17.29\n",
      "TARG103  Obj3 STRAIGHT 2.0 10.0 0.0 ... 30436.19 0.341 1.707 -7.901 -12.387\n",
      "TARG102  Obj2 STRAIGHT 2.0 10.0 0.0 ... 30417.69 0.341 1.707 32.666   -9.23\n",
      "TARG104  Obj4 STRAIGHT 2.0 10.0 0.0 ...  30349.0 0.341 1.707 -9.075  -4.333\n",
      "TARG105  Obj5 STRAIGHT 2.0 10.0 0.0 ... 30323.98 0.341 1.707  8.155  -0.063\n",
      "TARG106  Obj6 STRAIGHT 2.0 10.0 0.0 ... 30258.99 0.341 1.707 17.277   4.202\n",
      "TARG110 Obj10 STRAIGHT 2.0 10.0 0.0 ... 30145.73 0.341 1.707  7.319  16.706\n",
      "TARG107  Obj7 STRAIGHT 2.0 10.0 0.0 ... 30031.64 0.341 1.707 -0.036   29.35\n",
      "TARG108  Obj8 STRAIGHT 2.0 10.0 0.0 ...  30001.4 0.341 1.707  0.649  34.511\n"
     ]
    },
    {
     "data": {
      "text/plain": [
       "{'type': 'Polynomial1D',\n",
       " 'degree': 2,\n",
       " 'sigdegree': 0,\n",
       " 'pix0': 0,\n",
       " 'spectrum': None,\n",
       " 'rad': 5,\n",
       " 'transpose': True,\n",
       " 'lags': range(-50, 50),\n",
       " 'model': [Polynomial([455.39492819,   6.86250423, -10.5109358 ], domain=[  98., 3998.], window=[-1.,  1.], symbol='x'),\n",
       "  Polynomial([584.86096608,   6.98188667,  -7.20510802], domain=[  98., 3998.], window=[-1.,  1.], symbol='x'),\n",
       "  Polynomial([695.30089454,   7.03335661,  -4.50728817], domain=[  98., 3998.], window=[-1.,  1.], symbol='x'),\n",
       "  Polynomial([769.89113187,   7.06478212,  -2.53785573], domain=[  98., 3998.], window=[-1.,  1.], symbol='x'),\n",
       "  Polynomial([ 8.78061651e+02,  7.09096738e+00, -1.05166117e-01], domain=[  98., 3998.], window=[-1.,  1.], symbol='x'),\n",
       "  Polynomial([975.73794736,   7.10712024,   2.25961684], domain=[  98., 3998.], window=[-1.,  1.], symbol='x'),\n",
       "  Polynomial([1072.80140623,    7.06138006,    4.58015777], domain=[  98., 3998.], window=[-1.,  1.], symbol='x'),\n",
       "  Polynomial([1356.17765073,    7.06397733,   11.2432192 ], domain=[  98., 3998.], window=[-1.,  1.], symbol='x'),\n",
       "  Polynomial([1641.69223195,    7.08814626,   17.98502873], domain=[  98., 3998.], window=[-1.,  1.], symbol='x'),\n",
       "  Polynomial([1757.66102176,    7.1203317 ,   20.86851686], domain=[  98., 3998.], window=[-1.,  1.], symbol='x')],\n",
       " 'sigmodel': None,\n",
       " 'sc0': None,\n",
       " 'rows': [[455, 494],\n",
       "  [585, 624],\n",
       "  [695, 734],\n",
       "  [770, 809],\n",
       "  [878, 917],\n",
       "  [976, 1015],\n",
       "  [1073, 1112],\n",
       "  [1356, 1395],\n",
       "  [1642, 1680],\n",
       "  [1758, 1796]]}"
      ]
     },
     "execution_count": 6,
     "metadata": {},
     "output_type": "execute_result"
    }
   ],
   "source": [
    "# if you want subset of slitlets, e.g. ignoring alignments stars, select them here\n",
    "gd=np.where(targets['NAME']!='NN')[0]     # or, e.g., gd=[2,3,4,7,9]\n",
    "gdtrace=copy.deepcopy(trace)\n",
    "gdtrace.model = [trace.model[i] for i in gd]\n",
    "gdtrace.rows = [trace.rows[i] for i in gd]\n",
    "trace=copy.deepcopy(gdtrace)\n",
    "targets=targets[gd]\n",
    "print(targets)\n",
    "vars(trace)"
   ]
  },
  {
   "cell_type": "markdown",
   "id": "dbda61d1",
   "metadata": {},
   "source": [
    "Using the derived traces, extract the slitlets for arcs"
   ]
  },
  {
   "cell_type": "code",
   "execution_count": 7,
   "id": "16514662",
   "metadata": {},
   "outputs": [
    {
     "name": "stdout",
     "output_type": "stream",
     "text": [
      "extracting: \n",
      " 455-494\n",
      " 585-624\n",
      " 695-734\n",
      " 770-809\n",
      " 878-917\n",
      " 976-1015\n",
      " 1073-1112\n",
      " 1356-1395\n",
      " 1642-1680\n",
      " 1758-1796\n",
      "  See extraction window(s). Hit space bar to continue....\n"
     ]
    }
   ],
   "source": [
    "arcec=trace.extract2d(arcs,display=t)"
   ]
  },
  {
   "cell_type": "markdown",
   "id": "ff19c690",
   "metadata": {},
   "source": [
    "Add XMM and YMM for each slit to headers of each extracted image. They need to match so you get the right values!"
   ]
  },
  {
   "cell_type": "code",
   "execution_count": 8,
   "id": "bafacad3-ca2c-480e-af41-46147a01510a",
   "metadata": {},
   "outputs": [],
   "source": [
    "for arc,target in zip(arcec,targets) : \n",
    "    arc.header['XMM'] = target['XMM']\n",
    "    arc.header['YMM'] = target['YMM']"
   ]
  },
  {
   "cell_type": "markdown",
   "id": "cd8974bc",
   "metadata": {},
   "source": [
    "Now loop through each extracted arc to do wavelength calibration. This requires a little effort because the change in the location of the slit relative to the default saved wavelength calibration is significant enough that it can be a challenge to automatically find the lines, since the change in spectrum is more than a simple shift (and, in fact, more than a shift + dispersion change). \n",
    "\n",
    "However, a simple shift is usually enough to identify some of the lines, and these can be used to bootstrap the wavelength solution; the initial identification is easier if you use an estimate of the shift from the mask design XMM.\n",
    "\n",
    "You can use identify() to do the iteration. On the first pass, only central lines may be correctly identified. Use 'l' and 'r' to remove lines to the left and right of the identified lines. Then use 'i' to iterate, i.e., allow it to re-identify lines (i just returns True to allow you to iterate). When happy with solution, use ' ' to move onto the final 2D wavelength calibration.\n",
    "\n",
    "You can really help this process if you supply an initial wavelength calibration (a pyvista WaveCal object) that was done using the same lamp(s) as your arc exposures (here, using KOSMOS_red_waves.fits'), and using a master line list that corresponds to these lamp(s) (here, using ne.dat). If you choose another WaveCal to start from, you may need to get a correct approximate relation for the shift from the reference spectrum as a function of XMM. For KOSMOS, seems like -22.5(XMM) gives a rough pixel shift from a center slit location, -22.5(XMM-24.44) for a low slit location.\n",
    "\n",
    "The next cell just shows how the simple shift fails, even using the XMM for each slit to shift: all of the arc lines don't match up with just a translation."
   ]
  },
  {
   "cell_type": "code",
   "execution_count": 16,
   "id": "cb8b67cd-8a00-4bfc-a636-3ddf36b2c823",
   "metadata": {},
   "outputs": [
    {
     "name": "stdout",
     "output_type": "stream",
     "text": [
      "  rms:    0.177 Angstroms (50 lines)\n",
      "608.625\n"
     ]
    }
   ],
   "source": [
    "plt.figure()\n",
    "wav2=spectra.WaveCal('KOSMOS/KOSMOS_red_waves.fits')\n",
    "plt.plot(wav2.spectrum[0])\n",
    "for i, arc in enumerate(arcec[0:1]) :\n",
    "    shift=(arc.header['XMM']*-22.5)\n",
    "    plt.plot(arc.data[19][int(shift):]*30)\n",
    "    print(shift)\n",
    "    plt.draw()"
   ]
  },
  {
   "cell_type": "markdown",
   "id": "d3b527ce-55df-4246-8e35-f6b4ec06ee48",
   "metadata": {},
   "source": [
    "The wavelength calibration for each slitlet will be saved. Since this is probably the most time-consuming part, you could use saved one if you only want to redo a couple of them (sometimes, you hit the wrong key and want to do one over!)"
   ]
  },
  {
   "cell_type": "code",
   "execution_count": 17,
   "id": "5d985385",
   "metadata": {},
   "outputs": [],
   "source": [
    "clobber=False         # set to False if you want to use any saved ones\n",
    "for i,(arc,targ) in enumerate(zip(arcec,targets)) :\n",
    "    wavname = 'wav_{:s}.fits'.format(targ['NAME'])\n",
    "    if clobber or not os.path.exists(wavname) :\n",
    "        wav=spectra.WaveCal('KOSMOS/KOSMOS_red_waves.fits')\n",
    "        wav.fit(degree=3)\n",
    "        nrow=arc.shape[0]\n",
    "    \n",
    "        # get initial guess at shift from reference using XMM (KOSMOD red low!)\n",
    "        shift=int(arc.header['XMM']*-22.5) # +550  #-wav.pix0)\n",
    "        lags=np.arange(shift-20,shift+20)\n",
    "\n",
    "        iter = True\n",
    "        while iter :\n",
    "            iter = wav.identify(arc[nrow//2],plot=True,plotinter=True,lags=lags,thresh=10,file='henear.dat')\n",
    "            lags=np.arange(-50,50)\n",
    "            plt.close()\n",
    "\n",
    "        bd= np.where(wav.weights<0.5)[0]\n",
    "        print(wav.waves[bd])\n",
    "        # Do the 2D wavelength solution, sampling 10 locations across slitlet\n",
    "        wav.degree=5\n",
    "        wav.identify(arc,plot=True,nskip=nrow//10,thresh=10)\n",
    "        plt.close()\n",
    "        wav.write(wavname)\n",
    "        wav.add_wave(arc)\n",
    "        t.tv(wav.correct(arc,arc.wave[nrow//2]))"
   ]
  },
  {
   "cell_type": "markdown",
   "id": "16a024a6",
   "metadata": {},
   "source": [
    "Now set up routine to reduct/extract science frames"
   ]
  },
  {
   "cell_type": "code",
   "execution_count": 12,
   "id": "d94f7735",
   "metadata": {},
   "outputs": [],
   "source": [
    "def multi_extract2d(red,trace,targets,image,bias=None,dark=None,flat=None,display=None,crbox='lacosmic',crsig=10,\n",
    "                    rad=5) :\n",
    "\n",
    "    if display is not None : \n",
    "        display.clear()\n",
    "        plot = True\n",
    "    else:\n",
    "        plot = False\n",
    "        \n",
    "    # basic image read and reduction\n",
    "    imcr=red.reduce(image,bias=bias,dark=dark,flat=flat,crbox=crbox,display=display,crsig=crsig)\n",
    "\n",
    "    # 2D extraction\n",
    "    out = trace.extract2d(imcr,display=display)\n",
    "\n",
    "    # loop over each desired slitlet, get wavelength shift from skylines, undistort to central wavelengths\n",
    "    diff=[]\n",
    "    for i,(o,targ) in enumerate(zip(out,targets)) :\n",
    "        wav=spectra.WaveCal('./wav_{:s}.fits'.format(targ['NAME']))\n",
    "        orig=wav.model.c0_0\n",
    "        wav.add_wave(o)\n",
    "\n",
    "        # set rows to use for skyline\n",
    "        nrows = o.shape[0]\n",
    "        rows = [x for x in range(0,nrows) if np.abs(x-nrows//2)>rad]\n",
    "        wav.skyline(o,thresh=10,rows=rows,plot=plot)\n",
    "        \n",
    "        if plot : plt.close()\n",
    "        wav.add_wave(o)\n",
    "        if display is not None : display.tv(o)\n",
    "        out[i]=wav.correct(o,o.wave[nrows//2])\n",
    "        if display is not None : display.tv(out[i])\n",
    "        name = out[i].header[\"FILE\"].split(\".\")[0] \n",
    "        out[i].write('{:s}_{:s}_2d.fits'.format(name,targ['NAME']))\n",
    "        diff.append(wav.model.c0_0-orig)\n",
    "\n",
    "    print('shifts: ',diff)\n",
    "    return out\n"
   ]
  },
  {
   "cell_type": "code",
   "execution_count": 13,
   "id": "f200a270-01b6-4430-b0ff-141c6df20e98",
   "metadata": {},
   "outputs": [
    {
     "name": "stdout",
     "output_type": "stream",
     "text": [
      "  starting CR rejection, may take some time ....\n",
      "INFO: array provided for uncertainty; assuming it is a StdDevUncertainty. [astropy.nddata.ccddata]\n",
      "extracting: \n",
      " 455-494\n",
      " 585-624\n",
      " 695-734\n",
      " 770-809\n",
      " 878-917\n",
      " 976-1015\n",
      " 1073-1112\n",
      " 1356-1395\n",
      " 1642-1680\n",
      " 1758-1796\n",
      "  rms:    0.319\n",
      "rejecting 6 points from 243 total: \n",
      "  rms:    0.319\n",
      "rejecting 6 points from 243 total: \n",
      "  rms:    0.341\n",
      "rejecting 0 points from 187 total: \n",
      "\n",
      "appending uncertainty\n",
      "appending bitmask\n",
      "appending wave\n",
      "  rms:    0.221\n",
      "rejecting 4 points from 555 total: \n",
      "  rms:    0.221\n",
      "rejecting 4 points from 555 total: \n"
     ]
    },
    {
     "name": "stderr",
     "output_type": "stream",
     "text": [
      "/home/holtz/git/pyvista/python/pyvista/spectra.py:708: OptimizeWarning: Covariance of the parameters could not be estimated\n",
      "  coeff, var_matrix = curve_fit(gauss, xx, yy, p0=p0)\n"
     ]
    },
    {
     "name": "stdout",
     "output_type": "stream",
     "text": [
      "  rms:    0.850\n",
      "rejecting 3 points from 324 total: \n",
      "  rms:    0.629\n",
      "rejecting 4 points from 324 total: \n",
      "  rms:    0.613\n",
      "rejecting 4 points from 324 total: \n",
      "\n",
      "appending uncertainty\n",
      "appending bitmask\n",
      "appending wave\n",
      "  rms:    0.358\n",
      "rejecting 11 points from 309 total: \n",
      "  rms:    0.358\n",
      "rejecting 11 points from 309 total: \n",
      "  rms:    0.617\n",
      "rejecting 4 points from 266 total: \n",
      "  rms:    0.451\n",
      "rejecting 4 points from 266 total: \n",
      "\n",
      "appending uncertainty\n",
      "appending bitmask\n",
      "appending wave\n",
      "  rms:    0.286\n",
      "rejecting 7 points from 249 total: \n",
      "  rms:    0.286\n",
      "rejecting 7 points from 249 total: \n",
      "  rms:   10.756\n",
      "rejecting 1 points from 293 total: \n",
      "  rms:    1.133\n",
      "rejecting 1 points from 293 total: \n",
      "\n",
      "appending uncertainty\n",
      "appending bitmask\n",
      "appending wave\n",
      "  rms:    0.349\n",
      "rejecting 13 points from 313 total: \n",
      "  rms:    0.349\n",
      "rejecting 13 points from 313 total: \n",
      "  rms:  320.534\n",
      "rejecting 1 points from 251 total: \n",
      "  rms:    1.012\n",
      "rejecting 1 points from 251 total: \n",
      "\n",
      "appending uncertainty\n",
      "appending bitmask\n",
      "appending wave\n",
      "  rms:    0.341\n",
      "rejecting 8 points from 296 total: \n",
      "  rms:    0.341\n",
      "rejecting 8 points from 296 total: \n",
      "  rms:    1.018\n",
      "rejecting 6 points from 329 total: \n",
      "  rms:    0.655\n",
      "rejecting 6 points from 329 total: \n",
      "\n",
      "appending uncertainty\n",
      "appending bitmask\n",
      "appending wave\n",
      "  rms:    0.312\n",
      "rejecting 9 points from 267 total: \n",
      "  rms:    0.312\n",
      "rejecting 9 points from 267 total: \n",
      "  rms:    2.376\n",
      "rejecting 21 points from 299 total: \n",
      "  rms:    0.827\n",
      "rejecting 21 points from 299 total: \n",
      "\n",
      "appending uncertainty\n",
      "appending bitmask\n",
      "appending wave\n",
      "  rms:    0.404\n",
      "rejecting 1 points from 295 total: \n",
      "  rms:    0.404\n",
      "rejecting 1 points from 295 total: \n",
      "  rms:    1.405\n",
      "rejecting 6 points from 286 total: \n",
      "  rms:    0.703\n",
      "rejecting 6 points from 286 total: \n",
      "\n",
      "appending uncertainty\n",
      "appending bitmask\n",
      "appending wave\n",
      "  rms:    0.322\n",
      "rejecting 7 points from 301 total: \n",
      "  rms:    0.322\n",
      "rejecting 7 points from 301 total: \n",
      "  rms:    1.325\n",
      "rejecting 6 points from 270 total: \n",
      "  rms:    0.548\n",
      "rejecting 6 points from 270 total: \n",
      "\n",
      "appending uncertainty\n",
      "appending bitmask\n",
      "appending wave\n",
      "  rms:    0.315\n",
      "rejecting 8 points from 299 total: \n",
      "  rms:    0.315\n",
      "rejecting 8 points from 299 total: \n",
      "  rms:    0.824\n",
      "rejecting 2 points from 242 total: \n",
      "  rms:    0.435\n",
      "rejecting 2 points from 242 total: \n",
      "\n",
      "appending uncertainty\n",
      "appending bitmask\n",
      "appending wave\n",
      "shifts:  [0.18975426614179014, -0.2515377297222585, 0.04989309000029607, -0.42712667256000714, 0.16970160259643308, -0.052008087373906164, -0.0591390713752844, 0.08605775931755488, 0.1172038794220498, 0.14900731461875694]\n"
     ]
    }
   ],
   "source": [
    "out=multi_extract2d(red,trace,targets,54,display=None)"
   ]
  },
  {
   "cell_type": "markdown",
   "id": "265457a8",
   "metadata": {},
   "source": [
    "As desired, move on to 1D extraction"
   ]
  },
  {
   "cell_type": "code",
   "execution_count": 16,
   "id": "5add25c1",
   "metadata": {},
   "outputs": [],
   "source": [
    "def multi_extract1d(spec2d) :\n",
    "    def model(x) :\n",
    "        return x*0.\n",
    "\n",
    "    fig=plt.figure()\n",
    "    spec1d=[]\n",
    "    for i in range(len(spec2d)) :\n",
    "        trace1 = spectra.Trace(transpose=False)\n",
    "        trace1.rows = [0,spec2d[i].data.shape[0]]\n",
    "        trace1.index = [0]\n",
    "        peak,ind = trace1.findpeak(spec2d[i],thresh=10,sort=True)\n",
    "        if len(peak) > 0:\n",
    "            def model(x) :\n",
    "                return x*0. + peak[0]\n",
    "            trace1.model = [model]\n",
    "            spec=trace1.extract(spec2d[i],rad=4,back=[[-10,-5],[5,10]],display=None)\n",
    "            plt.figure(fig)\n",
    "            spec.wave = out[i].wave[peak]\n",
    "            print(spec.wave[0].shape,spec.data[0].shape)\n",
    "        \n",
    "            plt.plot(spec.wave[0],spec.data[0])\n",
    "            plt.plot(spec.wave[0],spec.sky[0])\n",
    "            spec1d.append(spec)\n",
    "        else :\n",
    "            print('no peak found for slit: ',i)\n",
    "    return spec1d"
   ]
  },
  {
   "cell_type": "code",
   "execution_count": 17,
   "id": "5ef4e403-c846-4770-a57d-ea74b11e6e01",
   "metadata": {},
   "outputs": [
    {
     "name": "stdout",
     "output_type": "stream",
     "text": [
      "looking for peaks using 200 pixels around 2048, threshhold of 10.000000\n",
      "peaks:  [8, 34]\n",
      "aperture/fiber:  [0, 1]\n",
      "  extracting ... \n",
      "\n",
      "(4096,) (4096,)\n",
      "looking for peaks using 200 pixels around 2048, threshhold of 10.000000\n",
      "peaks:  [19]\n",
      "aperture/fiber:  [0]\n",
      "  extracting ... \n",
      "\n",
      "(4096,) (4096,)\n",
      "looking for peaks using 200 pixels around 2048, threshhold of 10.000000\n",
      "peaks:  [19]\n",
      "aperture/fiber:  [0]\n",
      "  extracting ... \n",
      "\n",
      "(4096,) (4096,)\n",
      "looking for peaks using 200 pixels around 2048, threshhold of 10.000000\n",
      "peaks:  [21, 33]\n",
      "aperture/fiber:  [0, 1]\n",
      "  extracting ... \n",
      "\n",
      "(4096,) (4096,)\n",
      "looking for peaks using 200 pixels around 2048, threshhold of 10.000000\n",
      "peaks:  [18]\n",
      "aperture/fiber:  [0]\n",
      "  extracting ... \n",
      "\n",
      "(4096,) (4096,)\n",
      "looking for peaks using 200 pixels around 2048, threshhold of 10.000000\n",
      "peaks:  [20]\n",
      "aperture/fiber:  [0]\n",
      "  extracting ... \n",
      "\n",
      "(4096,) (4096,)\n",
      "looking for peaks using 200 pixels around 2048, threshhold of 10.000000\n",
      "peaks:  [20]\n",
      "aperture/fiber:  [0]\n",
      "  extracting ... \n",
      "\n",
      "(4096,) (4096,)\n",
      "looking for peaks using 200 pixels around 2048, threshhold of 10.000000\n",
      "peaks:  [21, 7]\n",
      "aperture/fiber:  [1, 0]\n",
      "  extracting ... \n",
      "\n",
      "(4096,) (4096,)\n",
      "looking for peaks using 200 pixels around 2048, threshhold of 10.000000\n",
      "peaks:  [19]\n",
      "aperture/fiber:  [0]\n",
      "  extracting ... \n",
      "\n",
      "(4096,) (4096,)\n",
      "looking for peaks using 200 pixels around 2048, threshhold of 10.000000\n",
      "peaks:  [19]\n",
      "aperture/fiber:  [0]\n",
      "  extracting ... \n",
      "\n",
      "(4096,) (4096,)\n"
     ]
    }
   ],
   "source": [
    "spec1d = multi_extract1d(out)"
   ]
  },
  {
   "cell_type": "code",
   "execution_count": null,
   "id": "79d38baa-472e-4d91-8473-12157d1478fa",
   "metadata": {},
   "outputs": [],
   "source": []
  }
 ],
 "metadata": {
  "kernelspec": {
   "display_name": "Python 3 (ipykernel)",
   "language": "python",
   "name": "python3"
  },
  "language_info": {
   "codemirror_mode": {
    "name": "ipython",
    "version": 3
   },
   "file_extension": ".py",
   "mimetype": "text/x-python",
   "name": "python",
   "nbconvert_exporter": "python",
   "pygments_lexer": "ipython3",
   "version": "3.9.18"
  }
 },
 "nbformat": 4,
 "nbformat_minor": 5
}
