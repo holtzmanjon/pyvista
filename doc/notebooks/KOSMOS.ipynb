{
 "cells": [
  {
   "cell_type": "markdown",
   "metadata": {},
   "source": [
    "<h2> Spectroscopic data reduction : spectra module"
   ]
  },
  {
   "cell_type": "code",
   "execution_count": 25,
   "metadata": {},
   "outputs": [],
   "source": [
    "from pyvista import imred, tv, spectra\n",
    "import pyvista.data\n",
    "from importlib_resources import files\n",
    "import numpy as np\n",
    "import matplotlib.pyplot as plt\n",
    "import pickle\n",
    "import os"
   ]
  },
  {
   "cell_type": "markdown",
   "metadata": {},
   "source": [
    "pyvista uses a display tool defined in the tv module. To use the interactive\n",
    "display in a notebook, set the display to be an external display window, e.g. with \n",
    "<code>\n",
    "%matplotlib qt\n",
    "</code>\n",
    "Instantiate a tv object, here we just call it t, but you could call it whatever you want!"
   ]
  },
  {
   "cell_type": "code",
   "execution_count": 2,
   "metadata": {},
   "outputs": [],
   "source": [
    "%matplotlib qt\n",
    "t=tv.TV()"
   ]
  },
  {
   "cell_type": "markdown",
   "metadata": {},
   "source": [
    "The basic tool for basic image reduction is a Reducer object, defined in the imred module. Instantiate a reducer here. The main argument is an instrument name, which tells it to read a YAML configuration file for the specified instrument. We also give it an optional dir= argument to specify the default directory from which to read images, if a directory is not specified in subsequent commands that read images."
   ]
  },
  {
   "cell_type": "code",
   "execution_count": 26,
   "metadata": {},
   "outputs": [
    {
     "name": "stdout",
     "output_type": "stream",
     "text": [
      "INSTRUMENT: KOSMOS   config: \n",
      "  will use format:  /home/holtz/red/UT211030/kosmos//*{:04d}.f*.fits*\n",
      "         gain:  [0.6]    rn: [ 5.]\n",
      "         scale:  None   \n",
      "  Biastype : 1\n",
      "  Bias box: \n",
      "    SC    NC    SR    NR\n",
      "  2055    43    20  4056 \n",
      "  2105    43    20  4056 \n",
      "  Trim box: \n",
      "    SC    NC    SR    NR\n",
      "     0  2048     0  4096 \n",
      "     0  2048     0  4096 \n",
      "  Norm box: \n",
      "    SC    NC    SR    NR\n",
      "  1000    51  2000    51 \n"
     ]
    }
   ],
   "source": [
    "#indir='/home/users/adijeau/Documents/UT220107'\n",
    "indir='/home/holtz/red/UT211030/kosmos/'\n",
    "red=imred.Reducer('KOSMOS',dir=indir)"
   ]
  },
  {
   "cell_type": "code",
   "execution_count": 27,
   "metadata": {},
   "outputs": [
    {
     "name": "stdout",
     "output_type": "stream",
     "text": [
      "file /home/holtz/red/UT211030/kosmos/BD28d4211.0009.fits does not have DATE-OBS\n"
     ]
    },
    {
     "data": {
      "text/html": [
       "<i>Table length=32</i>\n",
       "<table id=\"table47451552001904-411020\" class=\"table-striped table-bordered table-condensed\">\n",
       "<thead><tr><th>idx</th><th>FILE</th><th>DATE-OBS</th><th>OBJNAME</th><th>RA</th><th>DEC</th><th>EXPTIME</th></tr></thead>\n",
       "<tr><td>0</td><td>BD28d4211.0009.fits</td><td></td><td></td><td></td><td></td><td></td></tr>\n",
       "<tr><td>1</td><td>flat.0001.fits</td><td>2021-10-30T00:24:54.220537</td><td></td><td>7:28:00.00</td><td>80:00:00.00</td><td>5.0</td></tr>\n",
       "<tr><td>2</td><td>flat.0002.fits</td><td>2021-10-30T00:27:30.532534</td><td></td><td>7:28:00.00</td><td>80:00:00.00</td><td>20.0</td></tr>\n",
       "<tr><td>3</td><td>flat.0003.fits</td><td>2021-10-30T00:28:53.571555</td><td></td><td>7:28:00.00</td><td>80:00:00.00</td><td>5.0</td></tr>\n",
       "<tr><td>4</td><td>flat.0004.fits</td><td>2021-10-30T00:31:04.210227</td><td></td><td>7:28:00.00</td><td>80:00:00.00</td><td>20.0</td></tr>\n",
       "<tr><td>5</td><td>flat.0005.fits</td><td>2021-10-30T00:31:59.111371</td><td></td><td>7:28:00.00</td><td>80:00:00.00</td><td>20.0</td></tr>\n",
       "<tr><td>6</td><td>flat.0006.fits</td><td>2021-10-30T00:32:54.113381</td><td></td><td>7:28:00.00</td><td>80:00:00.00</td><td>20.0</td></tr>\n",
       "<tr><td>7</td><td>HeNeAr.0007.fits</td><td>2021-10-30T00:36:06.854869</td><td></td><td>7:28:00.00</td><td>80:00:00.00</td><td>60.0</td></tr>\n",
       "<tr><td>8</td><td>HeNeAr.0008.fits</td><td>2021-10-30T00:39:12.597137</td><td></td><td>7:28:00.00</td><td>80:00:00.00</td><td>180.0</td></tr>\n",
       "<tr><td>9</td><td>BD28d4211.0010.fits</td><td>2021-10-30T01:08:22.357120</td><td>BD+28d4211</td><td>21:51:11.07</td><td>28:51:51.80</td><td>60.0</td></tr>\n",
       "<tr><td>10</td><td>BD28d4211.0011.fits</td><td>2021-10-30T01:13:35.734994</td><td>BD+28d4211</td><td>21:51:11.07</td><td>28:51:51.80</td><td>200.0</td></tr>\n",
       "<tr><td>11</td><td>GP013_parad.0012.fits</td><td>2021-10-30T01:37:45.543483</td><td>Gp013_parad</td><td>23:36:40.30</td><td>8:49:55.13</td><td>1500.0</td></tr>\n",
       "<tr><td>12</td><td>GP013_parad.0013.fits</td><td>2021-10-30T02:03:41.942789</td><td>Gp013_parad</td><td>23:36:40.30</td><td>8:49:55.13</td><td>1500.0</td></tr>\n",
       "<tr><td>13</td><td>GP013_parad.0014.fits</td><td>2021-10-30T02:29:40.953977</td><td>Gp013_parad</td><td>23:36:40.30</td><td>8:49:55.13</td><td>1200.0</td></tr>\n",
       "<tr><td>14</td><td>He.0015.fits</td><td>2021-10-30T02:52:19.098049</td><td>Gp013_parad</td><td>23:36:40.30</td><td>8:49:55.13</td><td>60.0</td></tr>\n",
       "<tr><td>15</td><td>Ne.0016.fits</td><td>2021-10-30T02:54:14.220596</td><td>Gp013_parad</td><td>23:36:40.30</td><td>8:49:55.13</td><td>60.0</td></tr>\n",
       "<tr><td>16</td><td>Ar.0017.fits</td><td>2021-10-30T02:56:10.677495</td><td>Gp013_parad</td><td>23:36:40.30</td><td>8:49:55.13</td><td>60.0</td></tr>\n",
       "<tr><td>17</td><td>flat.0018.fits</td><td>2021-10-30T02:58:08.054624</td><td>Gp013_parad</td><td>23:36:40.30</td><td>8:49:55.13</td><td>40.0</td></tr>\n",
       "<tr><td>18</td><td>flat.0019.fits</td><td>2021-10-30T02:59:43.882780</td><td>Gp013_parad</td><td>23:36:40.30</td><td>8:49:55.13</td><td>40.0</td></tr>\n",
       "<tr><td>19</td><td>flat.0020.fits</td><td>2021-10-30T03:01:21.316793</td><td>Gp013_parad</td><td>23:36:40.30</td><td>8:49:55.13</td><td>40.0</td></tr>\n",
       "<tr><td>20</td><td>flat.0021.fits</td><td>2021-10-30T03:02:54.902076</td><td>Gp013_parad</td><td>23:36:40.30</td><td>8:49:55.13</td><td>40.0</td></tr>\n",
       "<tr><td>21</td><td>flat.0022.fits</td><td>2021-10-30T03:04:28.515942</td><td>Gp013_parad</td><td>23:36:40.30</td><td>8:49:55.13</td><td>40.0</td></tr>\n",
       "<tr><td>22</td><td>bias.0023.fits</td><td>2021-10-30T03:06:07.294252</td><td>Gp013_parad</td><td>23:36:40.30</td><td>8:49:55.13</td><td>0</td></tr>\n",
       "<tr><td>23</td><td>bias.0024.fits</td><td>2021-10-30T03:07:00.906029</td><td>Gp013_parad</td><td>23:36:40.30</td><td>8:49:55.13</td><td>0</td></tr>\n",
       "<tr><td>24</td><td>bias.0025.fits</td><td>2021-10-30T03:07:54.504361</td><td>Gp013_parad</td><td>23:36:40.30</td><td>8:49:55.13</td><td>0</td></tr>\n",
       "<tr><td>25</td><td>bias.0026.fits</td><td>2021-10-30T03:08:48.102617</td><td>Gp013_parad</td><td>23:36:40.30</td><td>8:49:55.13</td><td>0</td></tr>\n",
       "<tr><td>26</td><td>bias.0027.fits</td><td>2021-10-30T03:09:41.706999</td><td>Gp013_parad</td><td>23:36:40.30</td><td>8:49:55.13</td><td>0</td></tr>\n",
       "<tr><td>27</td><td>bias.0028.fits</td><td>2021-10-30T03:10:35.343471</td><td>Gp013_parad</td><td>23:36:40.30</td><td>8:49:55.13</td><td>0</td></tr>\n",
       "<tr><td>28</td><td>bias.0029.fits</td><td>2021-10-30T03:11:28.965655</td><td>Gp013_parad</td><td>23:36:40.30</td><td>8:49:55.13</td><td>0</td></tr>\n",
       "<tr><td>29</td><td>bias.0030.fits</td><td>2021-10-30T03:12:22.668365</td><td>Gp013_parad</td><td>23:36:40.30</td><td>8:49:55.13</td><td>0</td></tr>\n",
       "<tr><td>30</td><td>bias.0031.fits</td><td>2021-10-30T03:13:16.315174</td><td>Gp013_parad</td><td>23:36:40.30</td><td>8:49:55.13</td><td>0</td></tr>\n",
       "<tr><td>31</td><td>bias.0032.fits</td><td>2021-10-30T03:14:09.969770</td><td>Gp013_parad</td><td>23:36:40.30</td><td>8:49:55.13</td><td>0</td></tr>\n",
       "</table><style>table.dataTable {clear: both; width: auto !important; margin: 0 !important;}\n",
       ".dataTables_info, .dataTables_length, .dataTables_filter, .dataTables_paginate{\n",
       "display: inline-block; margin-right: 1em; }\n",
       ".paginate_button { margin-right: 5px; }\n",
       "</style>\n",
       "<script>\n",
       "\n",
       "var astropy_sort_num = function(a, b) {\n",
       "    var a_num = parseFloat(a);\n",
       "    var b_num = parseFloat(b);\n",
       "\n",
       "    if (isNaN(a_num) && isNaN(b_num))\n",
       "        return ((a < b) ? -1 : ((a > b) ? 1 : 0));\n",
       "    else if (!isNaN(a_num) && !isNaN(b_num))\n",
       "        return ((a_num < b_num) ? -1 : ((a_num > b_num) ? 1 : 0));\n",
       "    else\n",
       "        return isNaN(a_num) ? -1 : 1;\n",
       "}\n",
       "\n",
       "require.config({paths: {\n",
       "    datatables: 'https://cdn.datatables.net/1.10.12/js/jquery.dataTables.min'\n",
       "}});\n",
       "require([\"datatables\"], function(){\n",
       "    console.log(\"$('#table47451552001904-411020').dataTable()\");\n",
       "    \n",
       "jQuery.extend( jQuery.fn.dataTableExt.oSort, {\n",
       "    \"optionalnum-asc\": astropy_sort_num,\n",
       "    \"optionalnum-desc\": function (a,b) { return -astropy_sort_num(a, b); }\n",
       "});\n",
       "\n",
       "    $('#table47451552001904-411020').dataTable({\n",
       "        order: [],\n",
       "        pageLength: 50,\n",
       "        lengthMenu: [[10, 25, 50, 100, 500, 1000, -1], [10, 25, 50, 100, 500, 1000, 'All']],\n",
       "        pagingType: \"full_numbers\",\n",
       "        columnDefs: [{targets: [0], type: \"optionalnum\"}]\n",
       "    });\n",
       "});\n",
       "</script>\n"
      ],
      "text/plain": [
       "<IPython.core.display.HTML object>"
      ]
     },
     "execution_count": 27,
     "metadata": {},
     "output_type": "execute_result"
    }
   ],
   "source": [
    "red.log().show_in_notebook()\n"
   ]
  },
  {
   "cell_type": "markdown",
   "metadata": {},
   "source": [
    "A main method of the reducer object is the reduce() method. Without any additional arguments, reduce() will read an image from disk, subtract the overscan (region(s) as determined from the instrument configuration file), compute an uncertainty array using the gain and readout noise from the instrument configuration file, and return a CCDData object with the data, uncertainty, and mask. \n",
    "<p>\n",
    "To specify the input image, we could pass a string with the file name. If the string does not include a '/', it will read from the default input directory.\n",
    "<p>\n",
    "If the file can be identified with a unique integer, then you can just specify this number, which can be very convenient. This is turned into a character string using the formstr attribute define in the configuration file, which is used to search for the file to read.\n",
    "<p>\n",
    "We can display the image using the tv() method of our display tool, which can take as input a Data object, a numpy array, or a FITS HDU object."
   ]
  },
  {
   "cell_type": "code",
   "execution_count": 28,
   "metadata": {},
   "outputs": [
    {
     "name": "stdout",
     "output_type": "stream",
     "text": [
      "  Reading file: /home/holtz/red/UT211030/kosmos/GP013_parad.0012.fits\n",
      "  subtracting overscan vector \n",
      "  subtracting overscan vector \n",
      "INFO: array provided for uncertainty; assuming it is a StdDevUncertainty. [astropy.nddata.ccddata]\n"
     ]
    }
   ],
   "source": [
    "a=red.reduce(12)\n",
    "t.tv(a)"
   ]
  },
  {
   "cell_type": "markdown",
   "metadata": {},
   "source": [
    "The resulting Data object has attributes: header, data, uncertainty, and bitmask, which are carried along through the processing."
   ]
  },
  {
   "cell_type": "code",
   "execution_count": 29,
   "metadata": {},
   "outputs": [
    {
     "data": {
      "text/plain": [
       "SIMPLE  =                    T / conforms to FITS standard                      \n",
       "BITPIX  =                   32 / array data type                                \n",
       "NAXIS   =                    2 / number of array dimensions                     \n",
       "NAXIS1  =                 2148                                                  \n",
       "NAXIS2  =                 4096                                                  \n",
       "EXTEND  =                    T                                                  \n",
       "OBSERVAT= 'APO'                / Per the IRAF observatory list.                 \n",
       "TELESCOP= '3.5m'                                                                \n",
       "INSTRUME= 'kosmos'             / Instrument name                                \n",
       "LATITUDE= +3.2780361000000E+01 / Latitude of telescope base                     \n",
       "LONGITUD= -1.0582041700000E+02 / Longitude of telescope base                    \n",
       "UTC-TAI = -37.0                / UTC = TAI + UTC_TAI(seconds)                   \n",
       "UT1-TAI = -37.10               / UT1 = TAI + UT1_TAI(seconds)                   \n",
       "LST     = '21:08:14.718'       / Local Apparent Sidereal time                   \n",
       "OBJNAME = 'Gp013_parad'        / Object name, per TCC ObjName                   \n",
       "RADECSYS= 'FK5'                / Coordinate system, per TCC ObjSys              \n",
       "OBJANGLE= -1.1567187605000E+02 / Angle from inst x,y to sky                     \n",
       "RA      = '23:36:40.30'        / RA hours, extrapolated from TCC ObjNetPos      \n",
       "DEC     = '8:49:55.13'         / Dec degrees, extrapolated from TCC ObjNetPos   \n",
       "ARCOFFX = +0.0000000000000E+00 / TCC arc offset X                               \n",
       "ARCOFFY = +0.0000000000000E+00 / TCC arc offset Y                               \n",
       "CALOFFX = +0.0000000000000E+00 / TCC calibration offset X                       \n",
       "CALOFFY = +0.0000000000000E+00 / TCC calibration offset Y                       \n",
       "BOREOFFX= +0.0000000000000E+00 / TCC boresight offset X                         \n",
       "BOREOFFY= +0.0000000000000E+00 / TCC boresight offset Y                         \n",
       "AIRPRESS= +7.2990000000000E+04 / Air pressure, Pascals                          \n",
       "HUMIDITY= +2.5000000000000E-01 / Humidity, fraction                             \n",
       "TELAZ   = +3.1317636700000E+02 / TCC AxePos azimuth                             \n",
       "TELALT  = +5.8120741000000E+01 / TCC AxePos altitude                            \n",
       "TELROT  = -9.5728420000000E+01 / TCC AxePos rotator                             \n",
       "TELFOCUS= +5.7000000000000E+02 / TCC SecFocus                                   \n",
       "ZD      = +3.1879259000000E+01 / Zenith distance                                \n",
       "AIRMASS = +1.1776303102377E+00 / 1/cos(ZD)                                      \n",
       "FILENAME= 'GP013_parad.0012.fits'/ original filename                            \n",
       "DATE-OBS= '2021-10-30T01:37:45.543483' / TAI time at the start of the exposure  \n",
       "BINX    =                    1 / column bin factor                              \n",
       "BINY    =                    1 / row bin factor                                 \n",
       "CCDBIN1 =                    1 / column bin factor                              \n",
       "CCDBIN2 =                    1 / row bin factor                                 \n",
       "IMAGETYP= 'Object  '           / exposure type                                  \n",
       "EXPTIME =               1500.0 / exposure time (sec)                            \n",
       "CCDTEMP =                162.0 / detector temp (K)                              \n",
       "KRYPTON = 'off     '                                                            \n",
       "DISPERSR= 'red     '                                                            \n",
       "QUARTZ  = 'off     '                                                            \n",
       "GFOC    =                   10                                                  \n",
       "CALSTAGE=                  100                                                  \n",
       "CAMFOC  =                 3166                                                  \n",
       "NEON    = 'off     '                                                            \n",
       "ARGON   = 'off     '                                                            \n",
       "SLIT    = '2.0-low '                                                            \n",
       "COLFOC  =                 2000                                                  \n",
       "FILTER2 = 'empty3  '                                                            \n",
       "FILTER1 = 'empty2  '                                                            \n",
       "FILE    = 'GP013_parad.0012.fits'                                               \n",
       "OBJECT  = 'Gp013_parad'                                                         "
      ]
     },
     "execution_count": 29,
     "metadata": {},
     "output_type": "execute_result"
    }
   ],
   "source": [
    "a.header"
   ]
  },
  {
   "cell_type": "markdown",
   "metadata": {},
   "source": [
    "<h4> Calibration: make and apply flat field"
   ]
  },
  {
   "cell_type": "markdown",
   "metadata": {},
   "source": [
    "If we add additional arguments to reduce(), we can add additional calibration steps. For example, to flat field the data, we would add a flat= keyword through which we give the reducer a flat field.\n",
    "<br>\n",
    "First, however, we have to make the flat field, which is accomplished using the mkflat() method, which takes as input a list of frames to be used to construct the master flat field (superflat). For a spectrograph, we use the spec=True keyword which will remove the spectral signature from the combined flat.\n",
    "<br>\n",
    "If you specify a pyvista TV tool with the display= keyword, mkflat() will display the final flat field, then each individual input frame divided by\n",
    "the final flat, so you can inspect and confirm that all input frames are similar. You will need to enter a space in the display window after each\n",
    "image is displayed to proceed to the next, as prompted by the output."
   ]
  },
  {
   "cell_type": "code",
   "execution_count": 116,
   "metadata": {
    "scrolled": true
   },
   "outputs": [
    {
     "name": "stdout",
     "output_type": "stream",
     "text": [
      "  Reading file: /home/holtz/red/UT211030/kosmos/flat.0018.fits\n",
      "  subtracting overscan vector \n",
      "  subtracting overscan vector \n",
      "  Reading file: /home/holtz/red/UT211030/kosmos/flat.0019.fits\n",
      "  subtracting overscan vector \n",
      "  subtracting overscan vector \n",
      "  Reading file: /home/holtz/red/UT211030/kosmos/flat.0020.fits\n",
      "  subtracting overscan vector \n",
      "  subtracting overscan vector \n",
      "  combining data with median....\n",
      "  calculating uncertainty....\n",
      "  See final image, use - key for S/N image.\n",
      "   To continue, hit space in display window (p for debug) \n",
      "    see image: flat.0018.fits divided by master\n",
      "   To continue, hit space in display window (p for debug) \n",
      "    see image: flat.0019.fits divided by master\n",
      "   To continue, hit space in display window (p for debug) \n",
      "    see image: flat.0020.fits divided by master\n",
      "   To continue, hit space in display window (p for debug) \n"
     ]
    }
   ],
   "source": [
    "flatims=[18,19,20,21,22]\n",
    "flat=red.mkflat(flatims,spec=True,display=None,littrow=False)"
   ]
  },
  {
   "cell_type": "code",
   "execution_count": 31,
   "metadata": {},
   "outputs": [],
   "source": [
    "t.tv(flat,min=0.5,max=1.5)"
   ]
  },
  {
   "cell_type": "markdown",
   "metadata": {},
   "source": [
    "Read, overscan subtract, flat field, and display a star spectral image"
   ]
  },
  {
   "cell_type": "code",
   "execution_count": 32,
   "metadata": {},
   "outputs": [
    {
     "name": "stdout",
     "output_type": "stream",
     "text": [
      "  Reading file: /home/holtz/red/UT211030/kosmos/BD28d4211.0010.fits\n",
      "  subtracting overscan vector \n",
      "  subtracting overscan vector \n",
      "  flat fielding...\n",
      "INFO: array provided for uncertainty; assuming it is a StdDevUncertainty. [astropy.nddata.ccddata]\n"
     ]
    }
   ],
   "source": [
    "star=red.reduce(10,flat=flat)\n",
    "t.tv(star,max=1000) "
   ]
  },
  {
   "cell_type": "markdown",
   "metadata": {},
   "source": [
    "Here is an example of attempting cosmic ray rejection. CR rejection can be challenging; the main concern is that the cosmic ray rejection flags object pixels as cosmic rays! Users should be very careful about this. The Reducer object provides two algorithms for CR-rejection. If crbox='lacosmic\", then the LA Cosmic routine of van Dokkum, as implemented\n",
    "in the astroscrappy package, is used. If crbox=[nrow,ncol], then the image\n",
    "is median-filtered with the specfied box shape, and pixels above nsig (default=5) times the uncertainty are replaced with the median; if multiple values of crsig are input as a list (e.g., crsig=[5,2], then multiple iterations are done, where iterations after the first only apply to neighbors of CRs identified in previous iterations. For spectroscopy, beware: a box aligned with the wavelength direction will avoid flagging pixels in the object, but may flag pixels in sky lines, while the reverse is true for a box aligned along the slit.\n",
    "\n",
    "Note that you can include cosmic ray rejection in the reduce() method by adding a crbox= (and, optionally, a crsig=) keyword."
   ]
  },
  {
   "cell_type": "code",
   "execution_count": 33,
   "metadata": {},
   "outputs": [
    {
     "name": "stdout",
     "output_type": "stream",
     "text": [
      "  Iteration 0, zapping CRs with filter [9,1]...\n",
      "  See CRs and CR-zapped image and original using - key\n",
      "   To continue, hit space in display window (p for debug) \n",
      "  Iteration 1, zapping CRs with filter [9,1]...\n",
      "  See CRs and CR-zapped image and original using - key\n",
      "   To continue, hit space in display window (p for debug) \n"
     ]
    }
   ],
   "source": [
    "crstar=red.crrej(star,crbox=[9,1],crsig=[5,2],display=t)"
   ]
  },
  {
   "cell_type": "markdown",
   "metadata": {},
   "source": [
    "<h4> Tracing and extraction"
   ]
  },
  {
   "cell_type": "markdown",
   "metadata": {},
   "source": [
    "We want to extract the spectrum, i.e. from the 2D image to a 1D spectrum. Start with a trace previously determined for KOSMOS. The Trace object sets the order of the polynomial used to fit the trace (degree attribute), the length of the slit (rows attribute), the range of pixels along the slit to be used to automatically find an object, etc."
   ]
  },
  {
   "cell_type": "code",
   "execution_count": 42,
   "metadata": {},
   "outputs": [
    {
     "name": "stderr",
     "output_type": "stream",
     "text": [
      "[autoreload of pyvista.spectra failed: Traceback (most recent call last):\n",
      "  File \"/home/local/Anaconda3-2020.02/envs/py3.9/lib/python3.9/site-packages/IPython/extensions/autoreload.py\", line 257, in check\n",
      "    superreload(m, reload, self.old_objects)\n",
      "  File \"/home/local/Anaconda3-2020.02/envs/py3.9/lib/python3.9/site-packages/IPython/extensions/autoreload.py\", line 455, in superreload\n",
      "    module = reload(module)\n",
      "  File \"/home/local/Anaconda3-2020.02/envs/py3.9/lib/python3.9/importlib/__init__.py\", line 169, in reload\n",
      "    _bootstrap._exec(spec, module)\n",
      "  File \"<frozen importlib._bootstrap>\", line 613, in _exec\n",
      "  File \"<frozen importlib._bootstrap_external>\", line 846, in exec_module\n",
      "  File \"<frozen importlib._bootstrap_external>\", line 983, in get_code\n",
      "  File \"<frozen importlib._bootstrap_external>\", line 913, in source_to_code\n",
      "  File \"<frozen importlib._bootstrap>\", line 228, in _call_with_frames_removed\n",
      "  File \"/home/holtz/git/pyvista/python/pyvista/spectra.py\", line 1228\n",
      "    print('aperture/fiber: ',,fiber)\n",
      "                             ^\n",
      "SyntaxError: invalid syntax\n",
      "]\n"
     ]
    },
    {
     "data": {
      "text/plain": [
       "{'type': 'Polynomial1D',\n",
       " 'degree': 2,\n",
       " 'sc0': 2048,\n",
       " 'pix0': 0,\n",
       " 'spectrum': array([    0.,     0.,     0., ...,  3448.,  3443.,  3442.]),\n",
       " 'rad': 5,\n",
       " 'lags': array([-300, -299, -298, -297, -296, -295, -294, -293, -292, -291, -290,\n",
       "        -289, -288, -287, -286, -285, -284, -283, -282, -281, -280, -279,\n",
       "        -278, -277, -276, -275, -274, -273, -272, -271, -270, -269, -268,\n",
       "        -267, -266, -265, -264, -263, -262, -261, -260, -259, -258, -257,\n",
       "        -256, -255, -254, -253, -252, -251, -250, -249, -248, -247, -246,\n",
       "        -245, -244, -243, -242, -241, -240, -239, -238, -237, -236, -235,\n",
       "        -234, -233, -232, -231, -230, -229, -228, -227, -226, -225, -224,\n",
       "        -223, -222, -221, -220, -219, -218, -217, -216, -215, -214, -213,\n",
       "        -212, -211, -210, -209, -208, -207, -206, -205, -204, -203, -202,\n",
       "        -201, -200, -199, -198, -197, -196, -195, -194, -193, -192, -191,\n",
       "        -190, -189, -188, -187, -186, -185, -184, -183, -182, -181, -180,\n",
       "        -179, -178, -177, -176, -175, -174, -173, -172, -171, -170, -169,\n",
       "        -168, -167, -166, -165, -164, -163, -162, -161, -160, -159, -158,\n",
       "        -157, -156, -155, -154, -153, -152, -151, -150, -149, -148, -147,\n",
       "        -146, -145, -144, -143, -142, -141, -140, -139, -138, -137, -136,\n",
       "        -135, -134, -133, -132, -131, -130, -129, -128, -127, -126, -125,\n",
       "        -124, -123, -122, -121, -120, -119, -118, -117, -116, -115, -114,\n",
       "        -113, -112, -111, -110, -109, -108, -107, -106, -105, -104, -103,\n",
       "        -102, -101, -100,  -99,  -98,  -97,  -96,  -95,  -94,  -93,  -92,\n",
       "         -91,  -90,  -89,  -88,  -87,  -86,  -85,  -84,  -83,  -82,  -81,\n",
       "         -80,  -79,  -78,  -77,  -76,  -75,  -74,  -73,  -72,  -71,  -70,\n",
       "         -69,  -68,  -67,  -66,  -65,  -64,  -63,  -62,  -61,  -60,  -59,\n",
       "         -58,  -57,  -56,  -55,  -54,  -53,  -52,  -51,  -50,  -49,  -48,\n",
       "         -47,  -46,  -45,  -44,  -43,  -42,  -41,  -40,  -39,  -38,  -37,\n",
       "         -36,  -35,  -34,  -33,  -32,  -31,  -30,  -29,  -28,  -27,  -26,\n",
       "         -25,  -24,  -23,  -22,  -21,  -20,  -19,  -18,  -17,  -16,  -15,\n",
       "         -14,  -13,  -12,  -11,  -10,   -9,   -8,   -7,   -6,   -5,   -4,\n",
       "          -3,   -2,   -1,    0,    1,    2,    3,    4,    5,    6,    7,\n",
       "           8,    9,   10,   11,   12,   13,   14,   15,   16,   17,   18,\n",
       "          19,   20,   21,   22,   23,   24,   25,   26,   27,   28,   29,\n",
       "          30,   31,   32,   33,   34,   35,   36,   37,   38,   39,   40,\n",
       "          41,   42,   43,   44,   45,   46,   47,   48,   49,   50,   51,\n",
       "          52,   53,   54,   55,   56,   57,   58,   59,   60,   61,   62,\n",
       "          63,   64,   65,   66,   67,   68,   69,   70,   71,   72,   73,\n",
       "          74,   75,   76,   77,   78,   79,   80,   81,   82,   83,   84,\n",
       "          85,   86,   87,   88,   89,   90,   91,   92,   93,   94,   95,\n",
       "          96,   97,   98,   99,  100,  101,  102,  103,  104,  105,  106,\n",
       "         107,  108,  109,  110,  111,  112,  113,  114,  115,  116,  117,\n",
       "         118,  119,  120,  121,  122,  123,  124,  125,  126,  127,  128,\n",
       "         129,  130,  131,  132,  133,  134,  135,  136,  137,  138,  139,\n",
       "         140,  141,  142,  143,  144,  145,  146,  147,  148,  149,  150,\n",
       "         151,  152,  153,  154,  155,  156,  157,  158,  159,  160,  161,\n",
       "         162,  163,  164,  165,  166,  167,  168,  169,  170,  171,  172,\n",
       "         173,  174,  175,  176,  177,  178,  179,  180,  181,  182,  183,\n",
       "         184,  185,  186,  187,  188,  189,  190,  191,  192,  193,  194,\n",
       "         195,  196,  197,  198,  199,  200,  201,  202,  203,  204,  205,\n",
       "         206,  207,  208,  209,  210,  211,  212,  213,  214,  215,  216,\n",
       "         217,  218,  219,  220,  221,  222,  223,  224,  225,  226,  227,\n",
       "         228,  229,  230,  231,  232,  233,  234,  235,  236,  237,  238,\n",
       "         239,  240,  241,  242,  243,  244,  245,  246,  247,  248,  249,\n",
       "         250,  251,  252,  253,  254,  255,  256,  257,  258,  259,  260,\n",
       "         261,  262,  263,  264,  265,  266,  267,  268,  269,  270,  271,\n",
       "         272,  273,  274,  275,  276,  277,  278,  279,  280,  281,  282,\n",
       "         283,  284,  285,  286,  287,  288,  289,  290,  291,  292,  293,\n",
       "         294,  295,  296,  297,  298,  299]),\n",
       " 'transpose': True,\n",
       " 'rows': array([ 550, 1450]),\n",
       " 'index': array([0]),\n",
       " 'model': [<Polynomial1D(2, c0=936.1384531294843, c1=0.003375934520125782, c2=1.2666657913119536e-07)>],\n",
       " 'sigdegree': 0,\n",
       " 'sigmodel': None}"
      ]
     },
     "execution_count": 42,
     "metadata": {},
     "output_type": "execute_result"
    }
   ],
   "source": [
    "trace=spectra.Trace('KOSMOS/KOSMOS_trace.fits')\n",
    "vars(trace) "
   ]
  },
  {
   "cell_type": "markdown",
   "metadata": {},
   "source": [
    "Alternatively, you can just instantiate a fresh Trace object, specifying whether your input images have wavelength along columns (transpose=False) or rows (transpose=True), and specifying the extent of the slit with the rows= keyword. Other keywords allow you to specify other attributes, see the help."
   ]
  },
  {
   "cell_type": "code",
   "execution_count": 43,
   "metadata": {},
   "outputs": [
    {
     "data": {
      "text/plain": [
       "{'type': 'Polynomial1D',\n",
       " 'degree': 2,\n",
       " 'sigdegree': 0,\n",
       " 'pix0': 0,\n",
       " 'spectrum': None,\n",
       " 'rad': 5,\n",
       " 'transpose': True,\n",
       " 'lags': range(-50, 50),\n",
       " 'rows': [550, 1450],\n",
       " 'model': None,\n",
       " 'sigmodel': None}"
      ]
     },
     "execution_count": 43,
     "metadata": {},
     "output_type": "execute_result"
    }
   ],
   "source": [
    "mytrace=spectra.Trace(transpose=True,rows=[550,1450])\n",
    "vars(mytrace)"
   ]
  },
  {
   "cell_type": "markdown",
   "metadata": {},
   "source": [
    "We can use the existing trace to retrace a new spectrum. This is done by cross-correlating the reference spectrum with a spatial cut across the input spectrum (at sc0) to find the shift, then using the old model to start the trace from that starting position. The functional form of the old model is preserved:"
   ]
  },
  {
   "cell_type": "code",
   "execution_count": 44,
   "metadata": {},
   "outputs": [
    {
     "name": "stdout",
     "output_type": "stream",
     "text": [
      "  Derived pixel shift from input trace:  0.0254599566667\n",
      "Using shift:  0.0254599566667\n",
      "  Tracing row: 943\r"
     ]
    },
    {
     "name": "stderr",
     "output_type": "stream",
     "text": [
      "/home/holtz/git/pyvista/python/pyvista/spectra.py:1111: RuntimeWarning: invalid value encountered in true_divide\n",
      "  gd = np.where((~ymask) & (ysum/np.sqrt(yvar)>thresh) )[0]\n",
      "/home/holtz/git/pyvista/python/pyvista/spectra.py:1122: RuntimeWarning: invalid value encountered in true_divide\n",
      "  gd = np.where((~ymask) & (ysum/np.sqrt(yvar)>thresh) & (np.abs(res)<rad))[0]\n"
     ]
    },
    {
     "name": "stdout",
     "output_type": "stream",
     "text": [
      "\n",
      "  See trace. Hit space bar to continue....\n"
     ]
    }
   ],
   "source": [
    "trace.retrace(star,display=t)"
   ]
  },
  {
   "cell_type": "markdown",
   "metadata": {},
   "source": [
    "Here are some various alternatives for finding traces:"
   ]
  },
  {
   "cell_type": "markdown",
   "metadata": {},
   "source": [
    "A. one could use the find() method to determine the shift between the stored trace and your frame automatically with cross correlation, then just go straight to extraction using the shape of the stored trace; this would be applicable if your object is too faint, or doesn't have sufficient continuum, to trace. If you want to mark the location of the object manually, use the inter=True keyword (along with display=) in find(). \n"
   ]
  },
  {
   "cell_type": "code",
   "execution_count": 45,
   "metadata": {
    "scrolled": true
   },
   "outputs": [
    {
     "name": "stdout",
     "output_type": "stream",
     "text": [
      "Hit \"f\" on location of spectrum: \n",
      "setting trace offset to:  -11.3964816473\n",
      "-11.3964816473\n"
     ]
    }
   ],
   "source": [
    "trace.model[0](2048)\n",
    "trace.find(star,inter=True,display=t)\n",
    "print(trace.pix0)"
   ]
  },
  {
   "cell_type": "markdown",
   "metadata": {},
   "source": [
    "B. You can just find peak(s) in the spatial direction using findpeak(), then trace them:"
   ]
  },
  {
   "cell_type": "code",
   "execution_count": 49,
   "metadata": {
    "scrolled": true
   },
   "outputs": [
    {
     "name": "stdout",
     "output_type": "stream",
     "text": [
      "looking for peaks using 200 pixels around 2048, threshhold of 50.000000\n",
      "peaks:  [394]\n",
      "aperture/fiber:  [0]\n",
      "  Tracing row: 944\r"
     ]
    },
    {
     "name": "stderr",
     "output_type": "stream",
     "text": [
      "/home/holtz/git/pyvista/python/pyvista/spectra.py:1111: RuntimeWarning: invalid value encountered in true_divide\n",
      "  gd = np.where((~ymask) & (ysum/np.sqrt(yvar)>thresh) )[0]\n",
      "/home/holtz/git/pyvista/python/pyvista/spectra.py:1122: RuntimeWarning: invalid value encountered in true_divide\n",
      "  gd = np.where((~ymask) & (ysum/np.sqrt(yvar)>thresh) & (np.abs(res)<rad))[0]\n"
     ]
    },
    {
     "name": "stdout",
     "output_type": "stream",
     "text": [
      "\n",
      "  See trace. Hit space bar to continue....\n"
     ]
    }
   ],
   "source": [
    "peaks,fibers=trace.findpeak(star,thresh=50)\n",
    "                            \n",
    "trace.trace(star,peaks,display=t)"
   ]
  },
  {
   "cell_type": "markdown",
   "metadata": {},
   "source": [
    "The model is now modified for the input spectrum:"
   ]
  },
  {
   "cell_type": "code",
   "execution_count": 51,
   "metadata": {},
   "outputs": [
    {
     "data": {
      "text/plain": [
       "943.8185449234705"
      ]
     },
     "execution_count": 51,
     "metadata": {},
     "output_type": "execute_result"
    }
   ],
   "source": [
    "trace.model[0](2048)"
   ]
  },
  {
   "cell_type": "markdown",
   "metadata": {},
   "source": [
    "C. If you needed to create Trace from scratch, instantiate one with rows=, lags=, sc= (transpose= determines whether input image needs to be transposed to get wavelength changing along columns). \n",
    "<p>\n",
    "    Note the skip= keyword which can be used when tracing to speed things up by only computing centroids every skip pixels, taking a median around these pixels of width skip pixels. The default is skip=10"
   ]
  },
  {
   "cell_type": "code",
   "execution_count": 53,
   "metadata": {},
   "outputs": [
    {
     "name": "stdout",
     "output_type": "stream",
     "text": [
      "looking for peaks using 200 pixels around 2048, threshhold of 50.000000\n",
      "peaks:  [394]\n",
      "aperture/fiber:  [0]\n",
      "  Tracing row: 944\r"
     ]
    },
    {
     "name": "stderr",
     "output_type": "stream",
     "text": [
      "/home/holtz/git/pyvista/python/pyvista/spectra.py:1111: RuntimeWarning: invalid value encountered in true_divide\n",
      "  gd = np.where((~ymask) & (ysum/np.sqrt(yvar)>thresh) )[0]\n",
      "/home/holtz/git/pyvista/python/pyvista/spectra.py:1122: RuntimeWarning: invalid value encountered in true_divide\n",
      "  gd = np.where((~ymask) & (ysum/np.sqrt(yvar)>thresh) & (np.abs(res)<rad))[0]\n"
     ]
    },
    {
     "name": "stdout",
     "output_type": "stream",
     "text": [
      "\n",
      "  See trace. Hit space bar to continue....\n"
     ]
    },
    {
     "data": {
      "text/plain": [
       "{'type': 'Polynomial1D',\n",
       " 'degree': 2,\n",
       " 'sigdegree': 0,\n",
       " 'pix0': 0,\n",
       " 'spectrum': array([ 54208.6171875 ,   8355.84960938,      0.        , ...,\n",
       "         10526.25      ,  22835.43359375,  14175.71191406]),\n",
       " 'rad': 5,\n",
       " 'transpose': True,\n",
       " 'lags': range(-300, 300),\n",
       " 'rows': [550, 1450],\n",
       " 'model': [<Polynomial1D(2, c0=936.34518165949, c1=0.0034208334284421887, c2=1.1122901421158688e-07)>],\n",
       " 'sigmodel': None,\n",
       " 'sc0': 2048,\n",
       " 'index': array([0])}"
      ]
     },
     "execution_count": 53,
     "metadata": {},
     "output_type": "execute_result"
    }
   ],
   "source": [
    "trace=spectra.Trace(sc0=2048,lags=range(-300,300),\n",
    "                    rows=[550,1450],transpose=red.transpose)\n",
    "vars(trace)\n",
    "srow=[955]   # list to allow for multiple spectra on an image, mnaually set\n",
    "srow,fibers=trace.findpeak(star, thresh=50)  # alternatively, find peak(s)\n",
    "# trace.find(star) will find the highest peak by cross-correlation\n",
    "# trace.find(star,inter=True,display=t)  will let you mark a trace location\n",
    "starec=trace.trace(star,srow,display=t,skip=100) \n",
    "vars(trace)"
   ]
  },
  {
   "cell_type": "markdown",
   "metadata": {},
   "source": [
    "Extraction is done using the extract() method of the Trace object, currently just with simple boxcar extraction. Use rad= to specify window radius. Use back=[[b1,b2],[b3,b4]] to subtract background as determined from one or more background windows (note argument should be list of 2-element lists, giving start and end pixel, relative to object location, of each background window)."
   ]
  },
  {
   "cell_type": "code",
   "execution_count": 54,
   "metadata": {},
   "outputs": [
    {
     "name": "stdout",
     "output_type": "stream",
     "text": [
      "  extracting ... (may take some time,\n",
      "                   consider threads= if multithreading is available\n",
      "  See extraction window(s). Hit space bar to continue....\n",
      "\n",
      "(1, 4096)\n"
     ]
    }
   ],
   "source": [
    "starec=trace.extract(star,display=t,rad=25)\n",
    "print(starec.shape)"
   ]
  },
  {
   "cell_type": "markdown",
   "metadata": {},
   "source": [
    "extract() returns a pyvista Data object, with extracted spectrum, and uncertainty. Note that this is a 2D array to accomodate multiple objects/traces, even if there is only a single object."
   ]
  },
  {
   "cell_type": "code",
   "execution_count": 55,
   "metadata": {},
   "outputs": [
    {
     "data": {
      "text/plain": [
       "[<matplotlib.lines.Line2D at 0x2b282b81f460>]"
      ]
     },
     "execution_count": 55,
     "metadata": {},
     "output_type": "execute_result"
    }
   ],
   "source": [
    "plt.figure()\n",
    "plt.plot(starec.data[0])\n",
    "plt.plot(starec.data[0]/starec.uncertainty.array[0])"
   ]
  },
  {
   "cell_type": "markdown",
   "metadata": {},
   "source": [
    "Background can be subtracted during extraction using the back= keyword, which takes a list of 2-element lists, given the relative location, in pixels, of the background window(s) (relative to the location of the trace):"
   ]
  },
  {
   "cell_type": "code",
   "execution_count": 56,
   "metadata": {},
   "outputs": [
    {
     "name": "stdout",
     "output_type": "stream",
     "text": [
      "  extracting ... (may take some time,\n",
      "                   consider threads= if multithreading is available\n",
      "  See extraction window(s). Hit space bar to continue....\n",
      "\n"
     ]
    }
   ],
   "source": [
    "starec2=trace.extract(star,rad=25,back=[[50,75],[-75,-50]],display=t)\n",
    "plt.figure()\n",
    "plt.plot(starec.data[0])\n",
    "plt.plot(starec2.data[0])\n",
    "plt.show()"
   ]
  },
  {
   "cell_type": "markdown",
   "metadata": {},
   "source": [
    "<h4> Wavelength calibration"
   ]
  },
  {
   "cell_type": "markdown",
   "metadata": {},
   "source": [
    "Now let's turn to wavelength calibration, i.e. getting a function that gives the wavelength as a function of pixel. We'll solve for this using arc frames, here taken with each lamp separately, so sum the three exposures"
   ]
  },
  {
   "cell_type": "code",
   "execution_count": 57,
   "metadata": {},
   "outputs": [
    {
     "name": "stdout",
     "output_type": "stream",
     "text": [
      "  Reading file: /home/holtz/red/UT211030/kosmos/He.0015.fits\n",
      "  subtracting overscan vector \n",
      "  subtracting overscan vector \n",
      "INFO: array provided for uncertainty; assuming it is a StdDevUncertainty. [astropy.nddata.ccddata]\n",
      "  Reading file: /home/holtz/red/UT211030/kosmos/Ne.0016.fits\n",
      "  subtracting overscan vector \n",
      "  subtracting overscan vector \n",
      "INFO: array provided for uncertainty; assuming it is a StdDevUncertainty. [astropy.nddata.ccddata]\n",
      "  Reading file: /home/holtz/red/UT211030/kosmos/Ar.0017.fits\n",
      "  subtracting overscan vector \n",
      "  subtracting overscan vector \n",
      "INFO: array provided for uncertainty; assuming it is a StdDevUncertainty. [astropy.nddata.ccddata]\n",
      "  combining data with sum....\n",
      "  calculating uncertainty....\n"
     ]
    }
   ],
   "source": [
    "#Frame 15 is He, 16 is Ne, and 17 is Ar\n",
    "arcs=red.sum([15,16,17])\n",
    "t.clear()\n",
    "t.tv(arcs)"
   ]
  },
  {
   "cell_type": "code",
   "execution_count": 58,
   "metadata": {},
   "outputs": [
    {
     "name": "stdout",
     "output_type": "stream",
     "text": [
      "  extracting ... (may take some time,\n",
      "                   consider threads= if multithreading is available\n",
      "\n"
     ]
    }
   ],
   "source": [
    "arcec=trace.extract(arcs,display=None,rad=20)"
   ]
  },
  {
   "cell_type": "markdown",
   "metadata": {},
   "source": [
    "Wavelength calibration first stars with identifying lines. This is much easier if one can work from a previous solution. Here we start by reading a previous solution into a pyvista WaveCal object.\n",
    "\n",
    "For KOSMOS, there are previous solutions for low, central, and high slit positions"
   ]
  },
  {
   "cell_type": "code",
   "execution_count": 68,
   "metadata": {},
   "outputs": [
    {
     "name": "stdout",
     "output_type": "stream",
     "text": [
      "available predefined WaveCals: \n",
      "ARCES/ARCES_wave.fits\n",
      "BOSS/BOSS_b1_waves.fits\n",
      "BOSS/BOSS_b2_waves.fits\n",
      "BOSS/BOSS_r1_waves.fits\n",
      "BOSS/BOSS_r2_waves.fits\n",
      "DIS/DIS_blue_waves.fits\n",
      "DIS/DIS_red_waves.fits\n",
      "KOSMOS/KOSMOS_blue_cent_waves.fits\n",
      "KOSMOS/KOSMOS_blue_high_waves.fits\n",
      "KOSMOS/KOSMOS_blue_low_waves.fits\n",
      "KOSMOS/KOSMOS_blue_waves.fits\n",
      "KOSMOS/KOSMOS_red_high_waves.fits\n",
      "KOSMOS/KOSMOS_red_low_waves.fits\n",
      "KOSMOS/KOSMOS_red_waves.fits\n"
     ]
    },
    {
     "data": {
      "text/plain": [
       "<pyvista.spectra.WaveCal at 0x2b2829ea5160>"
      ]
     },
     "execution_count": 68,
     "metadata": {},
     "output_type": "execute_result"
    }
   ],
   "source": [
    "spectra.WaveCal(\"?\")"
   ]
  },
  {
   "cell_type": "code",
   "execution_count": 63,
   "metadata": {
    "scrolled": true
   },
   "outputs": [
    {
     "name": "stdout",
     "output_type": "stream",
     "text": [
      "  rms:    0.230 Angstroms (60 lines)\n"
     ]
    },
    {
     "data": {
      "text/plain": [
       "{'type': 'chebyshev',\n",
       " 'degree': 3,\n",
       " 'ydegree': 2,\n",
       " 'waves': array([ 5400.562  ,  5562.22534,  5570.28944,  5572.548  ,  5580.38729,\n",
       "         5748.299  ,  5764.418  ,  5824.5185 ,  5852.4878 ,  5866.75017,\n",
       "         5870.91599,  5875.618  ,  5879.90035,  5944.8342 ,  5945.45239,\n",
       "         5977.64573,  5993.8502 ,  6029.9971 ,  6074.3377 ,  6096.163  ,\n",
       "         6143.0623 ,  6163.5939 ,  6217.2813 ,  6266.495  ,  6304.7892 ,\n",
       "         6334.4279 ,  6382.9914 ,  6402.246  ,  6506.5279 ,  6532.8824 ,\n",
       "         6598.9529 ,  6678.2    ,  6717.0428 ,  6752.832  ,  6871.29   ,\n",
       "         6965.43   ,  7032.4127 ,  7065.188  ,  7147.041  ,  7173.939  ,\n",
       "         7245.167  ,  7383.98   ,  7438.899  ,  7635.105  ,  7723.8    ,\n",
       "         7891.075  ,  7948.175  ,  8082.458  ,  8264.521  ,  8408.208  ,\n",
       "         8424.647  ,  8521.441  ,  8620.4602 ,  8634.647  ,  8654.3831 ,\n",
       "         8667.9442 ,  8697.94   ,  8799.0875 ,  8853.866  ,  8919.5007 ]),\n",
       " 'waves_order': array([1, 1, 1, 1, 1, 1, 1, 1, 1, 1, 1, 1, 1, 1, 1, 1, 1, 1, 1, 1, 1, 1, 1,\n",
       "        1, 1, 1, 1, 1, 1, 1, 1, 1, 1, 1, 1, 1, 1, 1, 1, 1, 1, 1, 1, 1, 1, 1,\n",
       "        1, 1, 1, 1, 1, 1, 1, 1, 1, 1, 1, 1, 1, 1]),\n",
       " 'orders': array([1]),\n",
       " 'index': array([0]),\n",
       " 'pix0': array([-558.0287497]),\n",
       " 'pix': array([ 3583.12727206,  3401.47931204,  3392.91504846,  3392.91504846,\n",
       "         3393.35013853,  3198.61090186,  3180.88541346,  3121.51918652,\n",
       "         3087.13189055,  3067.34532731,  3067.38452812,  3067.38452812,\n",
       "         3055.56554404,  2989.36893662,  2989.36893662,  2957.32911573,\n",
       "         2940.01895184,  2900.80622299,  2854.69372801,  2832.34309767,\n",
       "         2784.0424645 ,  2762.9553466 ,  2708.1594309 ,  2658.03719612,\n",
       "         2619.20213199,  2589.54836985,  2540.58340237,  2521.12372699,\n",
       "         2417.03084253,  2390.89521566,  2325.53574477,  2247.21170365,\n",
       "         2209.26738076,  2174.3971138 ,  2058.71192357,  1967.40024452,\n",
       "         1903.17901983,  1869.1402879 ,  1792.11950451,  1766.38893863,\n",
       "         1698.2318566 ,  1565.7124998 ,  1513.29501399,  1326.55640881,\n",
       "         1242.79897787,  1084.68637482,  1030.73383075,   903.72799155,\n",
       "          731.42311188,   594.19837901,   578.7304466 ,   486.30811625,\n",
       "          391.11833609,   378.21471231,   358.71805024,   345.8369577 ,\n",
       "          311.22473869,   222.75245215,   166.64832508,    94.45526836]),\n",
       " 'y': array([0, 0, 0, 0, 0, 0, 0, 0, 0, 0, 0, 0, 0, 0, 0, 0, 0, 0, 0, 0, 0, 0, 0,\n",
       "        0, 0, 0, 0, 0, 0, 0, 0, 0, 0, 0, 0, 0, 0, 0, 0, 0, 0, 0, 0, 0, 0, 0,\n",
       "        0, 0, 0, 0, 0, 0, 0, 0, 0, 0, 0, 0, 0, 0]),\n",
       " 'spectrum': array([[ 1175.40751572,  2237.14902486,  2111.15890272, ...,\n",
       "           801.9209226 ,   767.52299557,   735.39276133]]),\n",
       " 'weights': array([ 1.,  1.,  1.,  0.,  0.,  1.,  1.,  0.,  1.,  0.,  1.,  0.,  0.,\n",
       "         1.,  1.,  0.,  0.,  1.,  1.,  1.,  1.,  1.,  1.,  1.,  1.,  1.,\n",
       "         1.,  1.,  1.,  1.,  1.,  1.,  1.,  1.,  1.,  1.,  1.,  0.,  1.,\n",
       "         1.,  1.,  1.,  1.,  1.,  1.,  1.,  1.,  1.,  1.,  1.,  1.,  1.,\n",
       "         1.,  1.,  1.,  1.,  0.,  0.,  1.,  0.]),\n",
       " 'model': <Chebyshev1D(3, c0=7131.563648163509, c1=-1776.4606600281047, c2=32.8454567908895, c3=12.434592273128798, domain=(652.48401805558854, 4141.1560217594615))>,\n",
       " 'ax': None}"
      ]
     },
     "execution_count": 63,
     "metadata": {},
     "output_type": "execute_result"
    }
   ],
   "source": [
    "wav=spectra.WaveCal('KOSMOS/KOSMOS_red_low_waves.fits')\n",
    "vars(wav)"
   ]
  },
  {
   "cell_type": "code",
   "execution_count": 64,
   "metadata": {},
   "outputs": [
    {
     "data": {
      "text/plain": [
       "-1.0184165540022461"
      ]
     },
     "execution_count": 64,
     "metadata": {},
     "output_type": "execute_result"
    }
   ],
   "source": [
    "wav.dispersion()"
   ]
  },
  {
   "cell_type": "markdown",
   "metadata": {},
   "source": [
    "With a previous solution loaded, the identify routine will cross correlate the input spectrum with the previous solution, then attempt to identify the lines from the previous solution at the shifted pixel position from the previous solution. Finally, it does a fit."
   ]
  },
  {
   "cell_type": "markdown",
   "metadata": {},
   "source": [
    "The identify() method fits Gaussians to the lines to get their position, and gets FWHM in the process. rad= keyword specifies number of pixels on either side of line to use in fit. If you add the file= keyword, then the routine will try to identify all of the lines from the reference file; this might be useful if you wanted to extend the wavelength range of the lines from the initial object, e.g. if you were working at a different grating tilt or slit location. If you did that, you might want to save your WaveCal object after cleaning the line list for good lines, so you could use that as a starting guess for other data taken at a similar wavelength setting."
   ]
  },
  {
   "cell_type": "code",
   "execution_count": 67,
   "metadata": {},
   "outputs": [
    {
     "name": "stdout",
     "output_type": "stream",
     "text": [
      "  cross correlating with reference spectrum using lags:  range(-300, 300)\n",
      "  Derived pixel shift from input wcal:  [ -6.86384283e-09]\n",
      "  See identified lines.\n",
      "  rms:    0.130 Angstroms (44 lines)\n",
      "  Input in plot window: \n",
      "       l : to remove all lines to left of cursor\n",
      "       r : to remove all lines to right of cursor\n",
      "       n : to remove line nearest cursor x position\n",
      "       anything else : finish and return\n",
      "  rms:    0.130 Anstroms\n",
      "  input from plot window...\n",
      "  rms:    0.108 Anstroms\n",
      "  input from plot window...\n",
      "\n"
     ]
    }
   ],
   "source": [
    "wav.identify(arcec,plot=True,rad=10) #,file='henearkr.dat')"
   ]
  },
  {
   "cell_type": "markdown",
   "metadata": {},
   "source": [
    "Note that once you remove lines, they are removed for subsequent uses of the WaveCal object."
   ]
  },
  {
   "cell_type": "markdown",
   "metadata": {},
   "source": [
    "If you want to refit with existing line positions, e.g. to try a different model, you can just call fit()."
   ]
  },
  {
   "cell_type": "code",
   "execution_count": 69,
   "metadata": {},
   "outputs": [
    {
     "name": "stdout",
     "output_type": "stream",
     "text": [
      "  rms:    0.070 Angstroms (44 lines)\n",
      "  Input in plot window: \n",
      "       l : to remove all lines to left of cursor\n",
      "       r : to remove all lines to right of cursor\n",
      "       n : to remove line nearest cursor x position\n",
      "       anything else : finish and return\n",
      "  rms:    0.070 Anstroms\n",
      "  input from plot window...\n"
     ]
    },
    {
     "ename": "KeyboardInterrupt",
     "evalue": "",
     "output_type": "error",
     "traceback": [
      "\u001b[0;31m---------------------------------------------------------------------------\u001b[0m",
      "\u001b[0;31mKeyboardInterrupt\u001b[0m                         Traceback (most recent call last)",
      "Input \u001b[0;32mIn [69]\u001b[0m, in \u001b[0;36m<module>\u001b[0;34m\u001b[0m\n\u001b[0;32m----> 1\u001b[0m \u001b[43mwav\u001b[49m\u001b[38;5;241;43m.\u001b[39;49m\u001b[43mfit\u001b[49m\u001b[43m(\u001b[49m\u001b[43mdegree\u001b[49m\u001b[38;5;241;43m=\u001b[39;49m\u001b[38;5;241;43m5\u001b[39;49m\u001b[43m)\u001b[49m\n",
      "File \u001b[0;32m/home/holtz/git/pyvista/python/pyvista/spectra.py:395\u001b[0m, in \u001b[0;36mWaveCal.fit\u001b[0;34m(self, degree, reject)\u001b[0m\n\u001b[1;32m    392\u001b[0m plt\u001b[38;5;241m.\u001b[39mdraw()\n\u001b[1;32m    394\u001b[0m \u001b[38;5;66;03m# get input from user on lines to remove\u001b[39;00m\n\u001b[0;32m--> 395\u001b[0m i \u001b[38;5;241m=\u001b[39m \u001b[43mgetinput\u001b[49m\u001b[43m(\u001b[49m\u001b[38;5;124;43m'\u001b[39;49m\u001b[38;5;124;43m  input from plot window...\u001b[39;49m\u001b[38;5;124;43m'\u001b[39;49m\u001b[43m,\u001b[49m\u001b[43m \u001b[49m\n\u001b[1;32m    396\u001b[0m \u001b[43m             \u001b[49m\u001b[38;5;28;43mself\u001b[39;49m\u001b[38;5;241;43m.\u001b[39;49m\u001b[43mfig\u001b[49m\u001b[43m,\u001b[49m\u001b[43mindex\u001b[49m\u001b[38;5;241;43m=\u001b[39;49m\u001b[38;5;28;43;01mTrue\u001b[39;49;00m\u001b[43m)\u001b[49m\n\u001b[1;32m    397\u001b[0m \u001b[38;5;28;01mif\u001b[39;00m i \u001b[38;5;241m==\u001b[39m \u001b[38;5;124m'\u001b[39m\u001b[38;5;124m'\u001b[39m :\n\u001b[1;32m    398\u001b[0m     done \u001b[38;5;241m=\u001b[39m \u001b[38;5;28;01mTrue\u001b[39;00m\n",
      "File \u001b[0;32m/home/holtz/git/pyvista/python/pyvista/spectra.py:1875\u001b[0m, in \u001b[0;36mgetinput\u001b[0;34m(prompt, fig, index)\u001b[0m\n",
      "File \u001b[0;32m/home/holtz/git/tools/python/tools/plots.py:75\u001b[0m, in \u001b[0;36mmark\u001b[0;34m(fig, index)\u001b[0m\n\u001b[1;32m     73\u001b[0m \u001b[38;5;28;01mglobal\u001b[39;00m _block, _x, _y, _button\n\u001b[1;32m     74\u001b[0m _block \u001b[38;5;241m=\u001b[39m \u001b[38;5;241m1\u001b[39m\n\u001b[0;32m---> 75\u001b[0m \u001b[43mevent\u001b[49m\u001b[43m(\u001b[49m\u001b[43mfig\u001b[49m\u001b[43m)\u001b[49m\n\u001b[1;32m     76\u001b[0m \u001b[38;5;28;01mif\u001b[39;00m index :\u001b[38;5;28;01mreturn\u001b[39;00m _x, _y, _button, _index[\u001b[38;5;241m0\u001b[39m]\n\u001b[1;32m     77\u001b[0m \u001b[38;5;28;01melse\u001b[39;00m : \u001b[38;5;28;01mreturn\u001b[39;00m _x, _y, _button\n",
      "File \u001b[0;32m/home/holtz/git/tools/python/tools/plots.py:70\u001b[0m, in \u001b[0;36mevent\u001b[0;34m(fig)\u001b[0m\n\u001b[1;32m     68\u001b[0m cid \u001b[38;5;241m=\u001b[39m fig\u001b[38;5;241m.\u001b[39mcanvas\u001b[38;5;241m.\u001b[39mmpl_connect(\u001b[38;5;124m'\u001b[39m\u001b[38;5;124mkey_press_event\u001b[39m\u001b[38;5;124m'\u001b[39m,onpress)\n\u001b[1;32m     69\u001b[0m cid \u001b[38;5;241m=\u001b[39m fig\u001b[38;5;241m.\u001b[39mcanvas\u001b[38;5;241m.\u001b[39mmpl_connect(\u001b[38;5;124m'\u001b[39m\u001b[38;5;124mclose_event\u001b[39m\u001b[38;5;124m'\u001b[39m,onclose)\n\u001b[0;32m---> 70\u001b[0m \u001b[38;5;28;01mif\u001b[39;00m _block \u001b[38;5;241m==\u001b[39m \u001b[38;5;241m1\u001b[39m : \u001b[43mfig\u001b[49m\u001b[38;5;241;43m.\u001b[39;49m\u001b[43mcanvas\u001b[49m\u001b[38;5;241;43m.\u001b[39;49m\u001b[43mstart_event_loop\u001b[49m\u001b[43m(\u001b[49m\u001b[38;5;241;43m0\u001b[39;49m\u001b[43m)\u001b[49m\n",
      "File \u001b[0;32m/home/local/Anaconda3-2020.02/envs/py3.9/lib/python3.9/site-packages/matplotlib/backends/backend_qt.py:409\u001b[0m, in \u001b[0;36mFigureCanvasQT.start_event_loop\u001b[0;34m(self, timeout)\u001b[0m\n\u001b[1;32m    405\u001b[0m     timer \u001b[38;5;241m=\u001b[39m QtCore\u001b[38;5;241m.\u001b[39mQTimer\u001b[38;5;241m.\u001b[39msingleShot(\u001b[38;5;28mint\u001b[39m(timeout \u001b[38;5;241m*\u001b[39m \u001b[38;5;241m1000\u001b[39m),\n\u001b[1;32m    406\u001b[0m                                      event_loop\u001b[38;5;241m.\u001b[39mquit)\n\u001b[1;32m    408\u001b[0m \u001b[38;5;28;01mwith\u001b[39;00m _maybe_allow_interrupt(event_loop):\n\u001b[0;32m--> 409\u001b[0m     qt_compat\u001b[38;5;241m.\u001b[39m_exec(event_loop)\n",
      "File \u001b[0;32m/home/local/Anaconda3-2020.02/envs/py3.9/lib/python3.9/contextlib.py:126\u001b[0m, in \u001b[0;36m_GeneratorContextManager.__exit__\u001b[0;34m(self, typ, value, traceback)\u001b[0m\n\u001b[1;32m    124\u001b[0m \u001b[38;5;28;01mif\u001b[39;00m typ \u001b[38;5;129;01mis\u001b[39;00m \u001b[38;5;28;01mNone\u001b[39;00m:\n\u001b[1;32m    125\u001b[0m     \u001b[38;5;28;01mtry\u001b[39;00m:\n\u001b[0;32m--> 126\u001b[0m         \u001b[38;5;28;43mnext\u001b[39;49m\u001b[43m(\u001b[49m\u001b[38;5;28;43mself\u001b[39;49m\u001b[38;5;241;43m.\u001b[39;49m\u001b[43mgen\u001b[49m\u001b[43m)\u001b[49m\n\u001b[1;32m    127\u001b[0m     \u001b[38;5;28;01mexcept\u001b[39;00m \u001b[38;5;167;01mStopIteration\u001b[39;00m:\n\u001b[1;32m    128\u001b[0m         \u001b[38;5;28;01mreturn\u001b[39;00m \u001b[38;5;28;01mFalse\u001b[39;00m\n",
      "File \u001b[0;32m/home/local/Anaconda3-2020.02/envs/py3.9/lib/python3.9/site-packages/matplotlib/backends/qt_compat.py:262\u001b[0m, in \u001b[0;36m_maybe_allow_interrupt\u001b[0;34m(qapp)\u001b[0m\n\u001b[1;32m    260\u001b[0m signal\u001b[38;5;241m.\u001b[39msignal(signal\u001b[38;5;241m.\u001b[39mSIGINT, old_sigint_handler)\n\u001b[1;32m    261\u001b[0m \u001b[38;5;28;01mif\u001b[39;00m handler_args \u001b[38;5;129;01mis\u001b[39;00m \u001b[38;5;129;01mnot\u001b[39;00m \u001b[38;5;28;01mNone\u001b[39;00m:\n\u001b[0;32m--> 262\u001b[0m     \u001b[43mold_sigint_handler\u001b[49m\u001b[43m(\u001b[49m\u001b[38;5;241;43m*\u001b[39;49m\u001b[43mhandler_args\u001b[49m\u001b[43m)\u001b[49m\n",
      "\u001b[0;31mKeyboardInterrupt\u001b[0m: "
     ]
    }
   ],
   "source": [
    "wav.fit(degree=5)  "
   ]
  },
  {
   "cell_type": "markdown",
   "metadata": {},
   "source": [
    "Show the FWHM of the lines as a function of wavelength"
   ]
  },
  {
   "cell_type": "code",
   "execution_count": 70,
   "metadata": {},
   "outputs": [
    {
     "data": {
      "text/plain": [
       "[<matplotlib.lines.Line2D at 0x2b282ba9e100>]"
      ]
     },
     "execution_count": 70,
     "metadata": {},
     "output_type": "execute_result"
    }
   ],
   "source": [
    "wav.fwhm\n",
    "t.plotax2.cla()\n",
    "gd=np.where(wav.weights > 0)[0]\n",
    "t.plotax2.plot(wav.waves[gd],np.abs(wav.fwhm[gd]),'ro')"
   ]
  },
  {
   "cell_type": "markdown",
   "metadata": {},
   "source": [
    "OK, now use the wavelength solution to get wavelength as a function of pixel. We can save that in the wave attribute of our Data object."
   ]
  },
  {
   "cell_type": "code",
   "execution_count": 71,
   "metadata": {},
   "outputs": [
    {
     "data": {
      "text/plain": [
       "[<matplotlib.lines.Line2D at 0x2b282c56e910>]"
      ]
     },
     "execution_count": 71,
     "metadata": {},
     "output_type": "execute_result"
    }
   ],
   "source": [
    "wav.add_wave(starec)\n",
    "plt.figure()\n",
    "plt.plot(starec.wave[0],starec.data[0])"
   ]
  },
  {
   "cell_type": "markdown",
   "metadata": {},
   "source": [
    "Here is a way to get the inverse wavelength solution, i.e. pixels as a function of wavelength, using a cubic spline fit to the wavelength solution."
   ]
  },
  {
   "cell_type": "code",
   "execution_count": 72,
   "metadata": {},
   "outputs": [
    {
     "name": "stdout",
     "output_type": "stream",
     "text": [
      "wavelength 6563 expected at pixel:  2462.3885165225547\n"
     ]
    }
   ],
   "source": [
    "# get inverse relation, i.e. pixels as f(wavelength)\n",
    "pix=np.arange(4096)\n",
    "from scipy.interpolate import CubicSpline\n",
    "wav2pix=CubicSpline(np.flip(starec.wave[0]),np.flip(pix))\n",
    "print('wavelength 6563 expected at pixel: ',wav2pix(6463))"
   ]
  },
  {
   "cell_type": "markdown",
   "metadata": {},
   "source": [
    "Next cell demonstrates resampling of spectrum onto a uniform wavelength grid. This may not be desired, as it leads to correlated uncertainties between pixels! But it would be needed if, e.g., you wanted to cross-correlate spectra to find velocities, in which case you would want a spectrum with constant dispersion in log(lambda)."
   ]
  },
  {
   "cell_type": "code",
   "execution_count": 73,
   "metadata": {},
   "outputs": [
    {
     "name": "stderr",
     "output_type": "stream",
     "text": [
      "/home/holtz/git/pyvista/python/pyvista/spectra.py:757: RuntimeWarning: invalid value encountered in true_divide\n",
      "  out = out / sig\n",
      "/home/holtz/git/pyvista/python/pyvista/spectra.py:758: RuntimeWarning: divide by zero encountered in true_divide\n",
      "  sig = np.sqrt(1./sig)\n"
     ]
    },
    {
     "data": {
      "text/plain": [
       "[<matplotlib.lines.Line2D at 0x2b282c740370>]"
      ]
     },
     "execution_count": 73,
     "metadata": {},
     "output_type": "execute_result"
    }
   ],
   "source": [
    "plt.figure()\n",
    "plt.clf()\n",
    "# original data with wavelength solution\n",
    "plt.plot(starec.wave[0],starec.data[0])\n",
    "\n",
    "# set desired new wavelength scale:\n",
    "wnew=10**np.arange(3.5,4.0,5.5e-6)\n",
    "# resampled data on constant log(lambda) grid\n",
    "plt.plot(wnew,wav.scomb(starec,wnew).data)"
   ]
  },
  {
   "cell_type": "markdown",
   "metadata": {},
   "source": [
    "<h4> Adjusting wavelength solution for flexure"
   ]
  },
  {
   "cell_type": "code",
   "execution_count": 74,
   "metadata": {},
   "outputs": [
    {
     "name": "stdout",
     "output_type": "stream",
     "text": [
      "  Reading file: /home/holtz/red/UT211030/kosmos/GP013_parad.0012.fits\n",
      "  subtracting overscan vector \n",
      "  subtracting overscan vector \n",
      "INFO: array provided for uncertainty; assuming it is a StdDevUncertainty. [astropy.nddata.ccddata]\n",
      "  extracting ... (may take some time,\n",
      "                   consider threads= if multithreading is available\n",
      "  See extraction window(s). Hit space bar to continue....\n",
      "\n"
     ]
    }
   ],
   "source": [
    "objec=trace.extract(red.reduce(12),display=t,rad=20)\n",
    "wav.add_wave(objec)"
   ]
  },
  {
   "cell_type": "code",
   "execution_count": 76,
   "metadata": {},
   "outputs": [
    {
     "data": {
      "text/plain": [
       "[<matplotlib.lines.Line2D at 0x2b282b2de8e0>]"
      ]
     },
     "execution_count": 76,
     "metadata": {},
     "output_type": "execute_result"
    }
   ],
   "source": [
    "plt.figure()\n",
    "plt.plot(objec.wave[0],objec.data[0])"
   ]
  },
  {
   "cell_type": "markdown",
   "metadata": {},
   "source": [
    "The skyline() method will addjust the current wavelength solution based on finding sky emission lines. The default behavior is to adopt the current wavelength solution but allow only the 0th order term to shift. If you specify linear=True, then the 1st order term is also allowed to vary; beware that you must have multiple sky lines for this to be effective! Otherwise, skyline() takes most of the same keywords as identify()\n",
    "<br>\n",
    "Here, I first copy the WaveCal object so we can compare the original to the corrected solution."
   ]
  },
  {
   "cell_type": "code",
   "execution_count": 77,
   "metadata": {},
   "outputs": [
    {
     "name": "stdout",
     "output_type": "stream",
     "text": [
      "  See identified lines.\n",
      "  rms:    2.220 Angstroms (17 lines)\n",
      "  Input in plot window: \n",
      "       l : to remove all lines to left of cursor\n",
      "       r : to remove all lines to right of cursor\n",
      "       n : to remove line nearest cursor x position\n",
      "       anything else : finish and return\n",
      "  rms:    2.220 Anstroms\n",
      "  input from plot window...\n",
      "  rms:    0.858 Anstroms\n",
      "  input from plot window...\n",
      "  rms:    0.625 Anstroms\n",
      "  input from plot window...\n",
      "\n"
     ]
    }
   ],
   "source": [
    "import copy\n",
    "swav=copy.deepcopy(wav)\n",
    "swav.skyline( objec, thresh=50)"
   ]
  },
  {
   "cell_type": "markdown",
   "metadata": {},
   "source": [
    "See how the model has been modified compared to the original:"
   ]
  },
  {
   "cell_type": "code",
   "execution_count": 78,
   "metadata": {},
   "outputs": [
    {
     "name": "stdout",
     "output_type": "stream",
     "text": [
      "Model: Chebyshev1D\n",
      "Inputs: ('x',)\n",
      "Outputs: ('y',)\n",
      "Model set size: 1\n",
      "Degree: 5\n",
      "Domain: (726.33296998475009, 4139.4718565617895)\n",
      "Parameters:\n",
      "          c0            c1             c2      ...        c4             c5      \n",
      "    ------------- -------------- ------------- ... --------------- --------------\n",
      "    7094.14264822 -1738.60683552 33.0204776727 ... 0.0297016859193 0.119578017836\n",
      "Model: Chebyshev1D\n",
      "Inputs: ('x',)\n",
      "Outputs: ('y',)\n",
      "Model set size: 1\n",
      "Degree: 5\n",
      "Domain: (726.33296998475009, 4139.4718565617895)\n",
      "Parameters:\n",
      "         c0           c1             c2      ...        c4             c5      \n",
      "    ----------- -------------- ------------- ... --------------- --------------\n",
      "    7093.961185 -1738.60683552 33.0204776727 ... 0.0297016859193 0.119578017836\n"
     ]
    }
   ],
   "source": [
    "print(wav.model)\n",
    "print(swav.model)"
   ]
  },
  {
   "cell_type": "markdown",
   "metadata": {},
   "source": [
    "<h4> Flux calibration"
   ]
  },
  {
   "cell_type": "markdown",
   "metadata": {},
   "source": [
    "Instantiate a FluxCal object. You can set it up to use a polynomial fit to the response curve by specifying the polynomial degree with the degree= keyword. If you set degree=-1, the response curve will be determined by a median of the individual response curves, optionally smoothed with a median filter over wavelength (see response() method below)."
   ]
  },
  {
   "cell_type": "code",
   "execution_count": 79,
   "metadata": {},
   "outputs": [],
   "source": [
    "flx=spectra.FluxCal(degree=-1)\n",
    "polyflx=spectra.FluxCal(degree=5)"
   ]
  },
  {
   "cell_type": "markdown",
   "metadata": {},
   "source": [
    "Load in several extracted spectra of flux standards, here all of BD+28 4211. The standard star spectrum is given using the file= keyword, where the input file should have labelled columns wave, flux, and bin. Alternatively, you can pass an astropy Table with (at least) these three columns, using the stdflux= keyword"
   ]
  },
  {
   "cell_type": "code",
   "execution_count": 80,
   "metadata": {},
   "outputs": [
    {
     "name": "stdout",
     "output_type": "stream",
     "text": [
      "  Reading file: /home/holtz/red/UT211030/kosmos/BD28d4211.0010.fits\n",
      "  subtracting overscan vector \n",
      "  subtracting overscan vector \n",
      "INFO: array provided for uncertainty; assuming it is a StdDevUncertainty. [astropy.nddata.ccddata]\n",
      "  Derived pixel shift from input trace:  -0.05082672912\n",
      "Using shift:  -0.05082672912\n",
      "  Tracing row: 943\r"
     ]
    },
    {
     "name": "stderr",
     "output_type": "stream",
     "text": [
      "/home/holtz/git/pyvista/python/pyvista/spectra.py:1111: RuntimeWarning: invalid value encountered in true_divide\n",
      "  gd = np.where((~ymask) & (ysum/np.sqrt(yvar)>thresh) )[0]\n",
      "/home/holtz/git/pyvista/python/pyvista/spectra.py:1122: RuntimeWarning: invalid value encountered in true_divide\n",
      "  gd = np.where((~ymask) & (ysum/np.sqrt(yvar)>thresh) & (np.abs(res)<rad))[0]\n"
     ]
    },
    {
     "name": "stdout",
     "output_type": "stream",
     "text": [
      "\n",
      "  extracting ... (may take some time,\n",
      "                   consider threads= if multithreading is available\n",
      "\n",
      "  Reading file: /home/holtz/red/UT211030/kosmos/BD28d4211.0011.fits\n",
      "  subtracting overscan vector \n",
      "  subtracting overscan vector \n",
      "INFO: array provided for uncertainty; assuming it is a StdDevUncertainty. [astropy.nddata.ccddata]\n",
      "  Derived pixel shift from input trace:  -0.21185874283\n",
      "Using shift:  -0.21185874283\n",
      "  Tracing row: 943\n",
      "  extracting ... (may take some time,\n",
      "                   consider threads= if multithreading is available\n",
      "\n"
     ]
    }
   ],
   "source": [
    "for im in [10,11] :\n",
    "    star=red.reduce(im)\n",
    "    trace.retrace(star)\n",
    "    starec=trace.extract(star)\n",
    "    wav.add_wave(starec)\n",
    "    flx.addstar(starec[0],starec.wave[0],file='flux/okestan/fbd28d4211.dat')\n",
    "    polyflx.addstar(starec[0],starec.wave[0],file='flux/okestan/fbd28d4211.dat')"
   ]
  },
  {
   "cell_type": "markdown",
   "metadata": {},
   "source": [
    "Solve for the median response curve, taking a median filter over this median."
   ]
  },
  {
   "cell_type": "code",
   "execution_count": 81,
   "metadata": {},
   "outputs": [],
   "source": [
    "flx.response(plot=True,medfilt=200)\n",
    "polyflx.response(plot=True)"
   ]
  },
  {
   "cell_type": "markdown",
   "metadata": {},
   "source": [
    "Apply the response curve to an object. Note that, using Data objects, the S/N is preserved!"
   ]
  },
  {
   "cell_type": "code",
   "execution_count": 82,
   "metadata": {
    "scrolled": true
   },
   "outputs": [
    {
     "data": {
      "text/plain": [
       "[<matplotlib.lines.Line2D at 0x2b2830962220>]"
      ]
     },
     "execution_count": 82,
     "metadata": {},
     "output_type": "execute_result"
    }
   ],
   "source": [
    "fig,ax=plots.multi(1,2,hspace=0.001,sharex=True)\n",
    "ax[0].plot(starec.wave[0],starec.data[0])\n",
    "ax[1].plot(starec.wave[0],starec.data[0]/starec.uncertainty.array[0])\n",
    "flx.correct(starec,starec.wave)\n",
    "ax[0].plot(starec.wave[0],starec.data[0])\n",
    "ax[1].plot(starec.wave[0],starec.data[0]/starec.uncertainty.array[0])"
   ]
  },
  {
   "cell_type": "markdown",
   "metadata": {},
   "source": [
    "<h3> longslit extraction and wavelength calibration"
   ]
  },
  {
   "cell_type": "markdown",
   "metadata": {},
   "source": [
    "For extended objects, and perhaps for sky subtraction, we might want to work along the slit. The wavelength solution varies along the slit (line curvature), usually with more than just an offset."
   ]
  },
  {
   "cell_type": "markdown",
   "metadata": {},
   "source": [
    "Start by working along the slit to identify lines"
   ]
  },
  {
   "cell_type": "code",
   "execution_count": 83,
   "metadata": {},
   "outputs": [],
   "source": [
    "trace=spectra.Trace('KOSMOS/KOSMOS_trace.fits')\n",
    "arc2d=trace.extract2d(arcs)\n",
    "t=tv.TV()\n",
    "t.tv(arc2d)"
   ]
  },
  {
   "cell_type": "code",
   "execution_count": 84,
   "metadata": {},
   "outputs": [
    {
     "name": "stdout",
     "output_type": "stream",
     "text": [
      "  rms:    0.230 Angstroms (60 lines)\n",
      "  cross correlating with reference spectrum using lags:  [-10  -9  -8  -7  -6  -5  -4  -3  -2  -1   0   1   2   3   4   5   6   7\n",
      "   8   9]\n",
      "  Derived pixel shift from input wcal for row: 899 7\n",
      "  See identified lines.\n",
      "  rms:    2.606\n",
      "rejecting 57 points from 1709 total: \n",
      "  rms:    0.820\n",
      "rejecting 57 points from 1709 total: \n",
      "  See 2D wavecal fit. Enter space in plot window to continue\n",
      "\n"
     ]
    }
   ],
   "source": [
    "from pyvista import image\n",
    "wav=spectra.WaveCal(file='KOSMOS/KOSMOS_red_low_waves.fits')\n",
    "image.smooth(arc2d,[5,1])\n",
    "t.clear()\n",
    "t.tv(arc2d)\n",
    "wav.identify(arc2d, rad=10,display=None, plot=True,\n",
    "              nskip=20,lags=np.arange(-10,10))\n",
    "wav.add_wave(arc2d)"
   ]
  },
  {
   "cell_type": "code",
   "execution_count": 85,
   "metadata": {},
   "outputs": [
    {
     "name": "stderr",
     "output_type": "stream",
     "text": [
      "/home/holtz/git/pyvista/python/pyvista/spectra.py:260: UserWarning: This figure includes Axes that are not compatible with tight_layout, so results might be incorrect.\n",
      "  self.fig.tight_layout()\n"
     ]
    }
   ],
   "source": [
    "wav.plot()\n"
   ]
  },
  {
   "cell_type": "markdown",
   "metadata": {},
   "source": [
    "OK, use the solution to make a wavelength map"
   ]
  },
  {
   "cell_type": "code",
   "execution_count": 86,
   "metadata": {},
   "outputs": [],
   "source": [
    "t.clear()\n",
    "t.tv(arc2d.wave)"
   ]
  },
  {
   "cell_type": "markdown",
   "metadata": {},
   "source": [
    "Subtract out the central wavelength solution to see how the solution varies with row"
   ]
  },
  {
   "cell_type": "code",
   "execution_count": 87,
   "metadata": {},
   "outputs": [],
   "source": [
    "dw=arc2d.wave-arc2d.wave[450]\n",
    "t.tv(dw)  "
   ]
  },
  {
   "cell_type": "markdown",
   "metadata": {},
   "source": [
    "Now do a 2d extraction of an object, and attach the wavelengths"
   ]
  },
  {
   "cell_type": "code",
   "execution_count": 105,
   "metadata": {
    "scrolled": true
   },
   "outputs": [
    {
     "name": "stdout",
     "output_type": "stream",
     "text": [
      "  Reading file: /home/holtz/red/UT211030/kosmos/GP013_parad.0012.fits\n",
      "  subtracting overscan vector \n",
      "  subtracting overscan vector \n",
      "INFO: array provided for uncertainty; assuming it is a StdDevUncertainty. [astropy.nddata.ccddata]\n",
      "  Iteration 0, zapping CRs with filter [1,9]...\n",
      "  Iteration 1, zapping CRs with filter [1,9]...\n"
     ]
    }
   ],
   "source": [
    "trace=spectra.Trace('KOSMOS/KOSMOS_trace.fits')\n",
    "obj=red.reduce(12,crbox=[1,9],crsig=[5,2])\n",
    "t.tv(obj)\n",
    "obj2d=trace.extract2d(obj)\n",
    "wav.add_wave(obj2d)\n",
    "t.tv(obj2d)\n"
   ]
  },
  {
   "cell_type": "code",
   "execution_count": 98,
   "metadata": {},
   "outputs": [],
   "source": [
    "t.tv(obj.bitmask)\n",
    "t.tv(obj2d.bitmask)"
   ]
  },
  {
   "cell_type": "code",
   "execution_count": 97,
   "metadata": {
    "scrolled": true
   },
   "outputs": [
    {
     "name": "stdout",
     "output_type": "stream",
     "text": [
      "  Reading file: /home/holtz/red/UT211030/kosmos/BD28d4211.0010.fits\n",
      "  subtracting overscan vector \n",
      "  subtracting overscan vector \n",
      "INFO: array provided for uncertainty; assuming it is a StdDevUncertainty. [astropy.nddata.ccddata]\n"
     ]
    }
   ],
   "source": [
    "star=red.reduce(10)\n",
    "star2d=trace.extract2d(star)\n",
    "wav.add_wave(star2d)"
   ]
  },
  {
   "cell_type": "markdown",
   "metadata": {},
   "source": [
    "Here we rectify the image to have a constant wavelength scale (in log lambda). We choose the new scale based on the starting and ending wavelengths in the original image, and resample to get the same number of pixels.\n",
    "\n",
    "If you preferred not to resample your object (or at least minimize the ressampling), you could resample the image to the wavelength array at the location of your object"
   ]
  },
  {
   "cell_type": "code",
   "execution_count": 99,
   "metadata": {},
   "outputs": [
    {
     "name": "stdout",
     "output_type": "stream",
     "text": [
      "[ 4962.95599479  4963.68174822  4964.40760777 ...,  9028.15237881\n",
      "  9029.47260259  9030.79301943]\n"
     ]
    }
   ],
   "source": [
    "wlim=(arc2d.wave[450,0],arc2d.wave[450,-1])\n",
    "wnew=10.**np.linspace(np.log10(wlim[1]),np.log10(wlim[0]),4095)\n",
    "print(wnew)\n",
    "arc2d_rect=wav.correct(arc2d,wnew)\n",
    "t.tv(arc2d)\n",
    "t.tv(arc2d_rect)"
   ]
  },
  {
   "cell_type": "code",
   "execution_count": 106,
   "metadata": {},
   "outputs": [],
   "source": [
    "t.tv(obj2d)\n",
    "obj2d_rect=wav.correct(obj2d,wnew)\n",
    "star2d_rect=wav.correct(star2d,wnew)\n",
    "t.tv(obj2d_rect)"
   ]
  },
  {
   "cell_type": "markdown",
   "metadata": {},
   "source": [
    "Note that the bitmask is propagated to the rectified image, where any output pixel that has a contribution from an input pixel with a bit set, has that same bit set in the output."
   ]
  },
  {
   "cell_type": "code",
   "execution_count": 107,
   "metadata": {},
   "outputs": [],
   "source": [
    "t.tv(obj2d_rect.bitmask)"
   ]
  },
  {
   "cell_type": "markdown",
   "metadata": {},
   "source": [
    "OK, now we can extract in the wavelength rectified image for better sky subtraction. Create a new trace object with the rows= attribute to give the new extent of the image in rows, since our previous extraction limited the extraction to the length of the slit, as set by the rows attribute in the original trace object."
   ]
  },
  {
   "cell_type": "code",
   "execution_count": 113,
   "metadata": {
    "scrolled": true
   },
   "outputs": [
    {
     "name": "stdout",
     "output_type": "stream",
     "text": [
      "looking for peaks using 200 pixels around 2047, threshhold of 20.000000\n",
      "peaks:  [363, 394, 426]\n",
      "aperture/fiber:  [0, 1, 2]\n",
      "rows:  [363 394 426]\n",
      "self.sc0:  2047\n",
      "  Tracing row: 363\r"
     ]
    },
    {
     "name": "stderr",
     "output_type": "stream",
     "text": [
      "/home/holtz/git/pyvista/python/pyvista/spectra.py:1112: RuntimeWarning: invalid value encountered in true_divide\n",
      "  if gaussian :\n",
      "/home/holtz/git/pyvista/python/pyvista/spectra.py:1123: RuntimeWarning: invalid value encountered in true_divide\n",
      "  if gaussian:\n"
     ]
    },
    {
     "name": "stdout",
     "output_type": "stream",
     "text": [
      "  Tracing row: 394\r"
     ]
    },
    {
     "name": "stderr",
     "output_type": "stream",
     "text": [
      "/home/holtz/git/pyvista/python/pyvista/spectra.py:1112: RuntimeWarning: invalid value encountered in true_divide\n",
      "  if gaussian :\n",
      "/home/holtz/git/pyvista/python/pyvista/spectra.py:1123: RuntimeWarning: invalid value encountered in true_divide\n",
      "  if gaussian:\n"
     ]
    },
    {
     "name": "stdout",
     "output_type": "stream",
     "text": [
      "  Tracing row: 426\r"
     ]
    },
    {
     "name": "stderr",
     "output_type": "stream",
     "text": [
      "/home/holtz/git/pyvista/python/pyvista/spectra.py:1112: RuntimeWarning: invalid value encountered in true_divide\n",
      "  if gaussian :\n",
      "/home/holtz/git/pyvista/python/pyvista/spectra.py:1123: RuntimeWarning: invalid value encountered in true_divide\n",
      "  if gaussian:\n"
     ]
    },
    {
     "name": "stdout",
     "output_type": "stream",
     "text": [
      "\n",
      "  See trace. Hit space bar to continue....\n",
      "  extracting ... (may take some time,\n",
      "                   consider threads= if multithreading is available\n",
      "  See extraction window(s). Hit space bar to continue....\n",
      "\n",
      "  extracting ... (may take some time,\n",
      "                   consider threads= if multithreading is available\n",
      "  See extraction window(s). Hit space bar to continue....\n",
      "\n"
     ]
    }
   ],
   "source": [
    "rows=[0,star2d_rect.shape[0]]\n",
    "trace=spectra.Trace(sc0=int(star2d_rect.shape[1]/2.),rows=rows)\n",
    "t.clear()\n",
    "rows,fibers=trace.findpeak(star2d_rect,thresh=20)\n",
    "print('rows: ',rows)\n",
    "trace.trace(star2d_rect,rows,display=t)\n",
    "ext=trace.extract(obj2d_rect,display=t,rad=10)\n",
    "ext.add_wave(wnew)\n",
    "ext_sub=trace.extract(obj2d_rect,rad=10,back=[[20,30]],display=t)\n",
    "ext_sub.add_wave(wnew)"
   ]
  },
  {
   "cell_type": "code",
   "execution_count": 114,
   "metadata": {},
   "outputs": [
    {
     "data": {
      "text/plain": [
       "[<matplotlib.lines.Line2D at 0x2b282c908d30>]"
      ]
     },
     "execution_count": 114,
     "metadata": {},
     "output_type": "execute_result"
    }
   ],
   "source": [
    "plt.figure()\n",
    "plt.plot(ext.wave,ext.data[0])\n",
    "plt.plot(ext.wave,ext_sub.data[0])"
   ]
  },
  {
   "cell_type": "markdown",
   "metadata": {},
   "source": [
    "CR rejection via multiple image stacking"
   ]
  },
  {
   "cell_type": "markdown",
   "metadata": {},
   "source": [
    "<h4> KOSMOS blue channel"
   ]
  },
  {
   "cell_type": "code",
   "execution_count": null,
   "metadata": {},
   "outputs": [],
   "source": [
    "bwav=spectra.WaveCal('KOSMOS/KOSMOS_blue_waves.fits')\n",
    "trace=spectra.Trace('KOSMOS/KOSMOS_trace.fits')\n",
    "arcs=red.sum([49,50,51])\n",
    "arcec=trace.extract(arcs)\n",
    "bwav.identify(arcec,plot=True)\n"
   ]
  },
  {
   "cell_type": "code",
   "execution_count": null,
   "metadata": {},
   "outputs": [],
   "source": [
    "objec=trace.extract(red.reduce(26),display=None,rad=20)\n",
    "bwav.add_wave(objec)\n",
    "plt.figure()\n",
    "plt.plot(objec.wave[0],objec.data[0])\n",
    "\n",
    "swav=copy.copy(bwav)\n",
    "swav.model.fixed['c0']=False\n",
    "swav.model.fixed['c1']=True\n",
    "swav.model.fixed['c2']=True\n",
    "swav.model.fixed['c3']=True \n",
    "swav.identify(objec,wav=objec.wave,file='skyline.dat',plot=True,thresh=50,inter=True)\n",
    "print(bwav.model)\n",
    "print(swav.model)"
   ]
  },
  {
   "cell_type": "code",
   "execution_count": null,
   "metadata": {},
   "outputs": [],
   "source": [
    "flx=spectra.FluxCal(degree=5)\n",
    "for im in [34,35,36] :\n",
    "    star=red.reduce(im)\n",
    "    trace.retrace(star)\n",
    "    starec=trace.extract(star)\n",
    "    bwav.add_wave(starec)\n",
    "    flx.addstar(starec[0],wave[0],file='flux/okestan/ffeige34.dat')"
   ]
  },
  {
   "cell_type": "code",
   "execution_count": null,
   "metadata": {},
   "outputs": [],
   "source": [
    "flx.response(plot=True)"
   ]
  },
  {
   "cell_type": "code",
   "execution_count": null,
   "metadata": {},
   "outputs": [],
   "source": [
    "plt.figure()\n",
    "flx.correct(starec,starec.wave[0])\n",
    "plt.plot(starec.wave[0],starec.data[0])"
   ]
  }
 ],
 "metadata": {
  "kernelspec": {
   "display_name": "Python 3 (ipykernel)",
   "language": "python",
   "name": "python3"
  },
  "language_info": {
   "codemirror_mode": {
    "name": "ipython",
    "version": 3
   },
   "file_extension": ".py",
   "mimetype": "text/x-python",
   "name": "python",
   "nbconvert_exporter": "python",
   "pygments_lexer": "ipython3",
   "version": "3.9.9"
  }
 },
 "nbformat": 4,
 "nbformat_minor": 4
}
