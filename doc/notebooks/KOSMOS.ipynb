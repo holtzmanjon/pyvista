{
 "cells": [
  {
   "cell_type": "markdown",
   "metadata": {},
   "source": [
    "<h2> Spectroscopic data reduction : spectra module"
   ]
  },
  {
   "cell_type": "code",
   "execution_count": 1,
   "metadata": {},
   "outputs": [],
   "source": [
    "from pyvista import imred, tv, spectra\n",
    "import pyvista.data\n",
    "from importlib_resources import files\n",
    "import numpy as np\n",
    "import matplotlib.pyplot as plt\n",
    "import pickle\n",
    "import os"
   ]
  },
  {
   "cell_type": "markdown",
   "metadata": {},
   "source": [
    "pyvista uses a display tool defined in the tv module. To use the interactive\n",
    "display in a notebook, set the display to be an external display window, e.g. with \n",
    "<code>\n",
    "%matplotlib qt\n",
    "</code>\n",
    "Instantiate a tv object, here we just call it t, but you could call it whatever you want!"
   ]
  },
  {
   "cell_type": "code",
   "execution_count": 3,
   "metadata": {},
   "outputs": [],
   "source": [
    "%matplotlib qt\n",
    "t=tv.TV()"
   ]
  },
  {
   "cell_type": "markdown",
   "metadata": {},
   "source": [
    "The basic tool for basic image reduction is a Reducer object, defined in the imred module. Instantiate a reducer here. The main argument is an instrument name, which tells it to read a YAML configuration file for the specified instrument. We also give it an optional dir= argument to specify the default directory from which to read images, if a directory is not specified in subsequent commands that read images."
   ]
  },
  {
   "cell_type": "code",
   "execution_count": 4,
   "metadata": {},
   "outputs": [
    {
     "name": "stdout",
     "output_type": "stream",
     "text": [
      "INSTRUMENT: KOSMOS   config: \n",
      "  will use format:  /home/users/adijeau/Documents/UT220107/*{:04d}.f*.fits*\n",
      "         gain:  [0.6]    rn: [ 5.]\n",
      "         scale:  None   \n",
      "  Biastype : 1\n",
      "  Bias box: \n",
      "    SC    NC    SR    NR\n",
      "  2055    43    20  4056 \n",
      "  2105    43    20  4056 \n",
      "  Trim box: \n",
      "    SC    NC    SR    NR\n",
      "     0  2048     0  4096 \n",
      "     0  2048     0  4096 \n",
      "  Norm box: \n",
      "    SC    NC    SR    NR\n",
      "  1000    51  2000    51 \n"
     ]
    }
   ],
   "source": [
    "indir='/home/users/adijeau/Documents/UT220107'\n",
    "red=imred.Reducer('KOSMOS',dir=indir)"
   ]
  },
  {
   "cell_type": "markdown",
   "metadata": {},
   "source": [
    "A main method of the reducer object is the reduce() method. Without any additional arguments, reduce() will read an image from disk, subtract the overscan (region(s) as determined from the instrument configuration file), compute an uncertainty array using the gain and readout noise from the instrument configuration file, and return a CCDData object with the data, uncertainty, and mask. \n",
    "<p>\n",
    "To specify the input image, we could pass a string with the file name. If the string does not include a '/', it will read from the default input directory.\n",
    "<p>\n",
    "If the file can be identified with a unique integer, then you can just specify this number, which can be very convenient. This is turned into a character string using the formstr attribute define in the configuration file, which is used to search for the file to read.\n",
    "<p>\n",
    "We can display the image using the tv() method of our display tool, which can take as input a Data object, a numpy array, or a FITS HDU object."
   ]
  },
  {
   "cell_type": "code",
   "execution_count": 5,
   "metadata": {},
   "outputs": [
    {
     "name": "stdout",
     "output_type": "stream",
     "text": [
      "  Reading file: /home/users/adijeau/Documents/UT220107/KOSMOS_GCPilot02_red.0022.fits\n",
      "  subtracting overscan vector \n",
      "  subtracting overscan vector \n",
      "INFO: array provided for uncertainty; assuming it is a StdDevUncertainty. [astropy.nddata.ccddata]\n"
     ]
    }
   ],
   "source": [
    "a=red.reduce(22)\n",
    "t.tv(a)"
   ]
  },
  {
   "cell_type": "markdown",
   "metadata": {},
   "source": [
    "The resulting Data object has attributes: header, data, uncertainty, and bitmask, which are carried along through the processing."
   ]
  },
  {
   "cell_type": "code",
   "execution_count": 6,
   "metadata": {},
   "outputs": [
    {
     "data": {
      "text/plain": [
       "SIMPLE  =                    T / conforms to FITS standard                      \n",
       "BITPIX  =                   32 / array data type                                \n",
       "NAXIS   =                    2 / number of array dimensions                     \n",
       "NAXIS1  =                 2148                                                  \n",
       "NAXIS2  =                 4096                                                  \n",
       "EXTEND  =                    T                                                  \n",
       "OBSERVAT= 'APO'                / Per the IRAF observatory list.                 \n",
       "TELESCOP= '3.5m'                                                                \n",
       "INSTRUME= 'kosmos'             / Instrument name                                \n",
       "LATITUDE= +3.2780361000000E+01 / Latitude of telescope base                     \n",
       "LONGITUD= -1.0582041700000E+02 / Longitude of telescope base                    \n",
       "UTC-TAI = -37.0                / UTC = TAI + UTC_TAI(seconds)                   \n",
       "UT1-TAI = -37.11               / UT1 = TAI + UT1_TAI(seconds)                   \n",
       "LST     = '05:08:20.480'       / Local Apparent Sidereal time                   \n",
       "OBJNAME = 'GCPilot02_pa1'      / Object name, per TCC ObjName                   \n",
       "RADECSYS= 'FK5'                / Coordinate system, per TCC ObjSys              \n",
       "OBJANGLE= +3.4421363000000E+00 / Angle from inst x,y to sky                     \n",
       "RA      = '11:50:26.00'        / RA hours, extrapolated from TCC ObjNetPos      \n",
       "DEC     = '73:26:13.61'        / Dec degrees, extrapolated from TCC ObjNetPos   \n",
       "ARCOFFX = +0.0000000000000E+00 / TCC arc offset X                               \n",
       "ARCOFFY = +0.0000000000000E+00 / TCC arc offset Y                               \n",
       "CALOFFX = +0.0000000000000E+00 / TCC calibration offset X                       \n",
       "CALOFFY = +0.0000000000000E+00 / TCC calibration offset Y                       \n",
       "BOREOFFX= +0.0000000000000E+00 / TCC boresight offset X                         \n",
       "BOREOFFY= +0.0000000000000E+00 / TCC boresight offset Y                         \n",
       "AIRPRESS= +7.2506000000000E+04 / Air pressure, Pascals                          \n",
       "HUMIDITY= +2.8000000000000E-01 / Humidity, fraction                             \n",
       "TELAZ   = +1.6945068100000E+02 / TCC AxePos azimuth                             \n",
       "TELALT  = +4.7487856000000E+01 / TCC AxePos altitude                            \n",
       "TELROT  = -1.6101177700000E+02 / TCC AxePos rotator                             \n",
       "TELFOCUS= +4.0000000000000E+02 / TCC SecFocus                                   \n",
       "ZD      = +4.2512144000000E+01 / Zenith distance                                \n",
       "AIRMASS = +1.3566052138110E+00 / 1/cos(ZD)                                      \n",
       "FILENAME= 'KOSMOS_GCPilot02_red.0022.fits'/ original filename                   \n",
       "DATE-OBS= '2022-01-07T05:05:14.735749' / TAI time at the start of the exposure  \n",
       "BINX    =                    1 / column bin factor                              \n",
       "BINY    =                    1 / row bin factor                                 \n",
       "CCDBIN1 =                    1 / column bin factor                              \n",
       "CCDBIN2 =                    1 / row bin factor                                 \n",
       "IMAGETYP= 'Object  '           / exposure type                                  \n",
       "EXPTIME =                900.0 / exposure time (sec)                            \n",
       "CCDTEMP =              161.625 / detector temp (K)                              \n",
       "KRYPTON = 'off     '                                                            \n",
       "DISPERSR= 'red     '                                                            \n",
       "QUARTZ  = 'off     '                                                            \n",
       "GFOC    =                 1275                                                  \n",
       "CALSTAGE=                  100                                                  \n",
       "CAMFOC  =                 3000                                                  \n",
       "NEON    = 'off     '                                                            \n",
       "ARGON   = 'off     '                                                            \n",
       "SLIT    = '2.1-center'                                                          \n",
       "COLFOC  =                 2000                                                  \n",
       "FILTER2 = 'empty3  '                                                            \n",
       "FILTER1 = 'empty2  '                                                            \n",
       "FILE    = 'KOSMOS_GCPilot02_red.0022.fits'                                      \n",
       "OBJECT  = 'GCPilot02_pa1'                                                       "
      ]
     },
     "execution_count": 6,
     "metadata": {},
     "output_type": "execute_result"
    }
   ],
   "source": [
    "a.header"
   ]
  },
  {
   "cell_type": "markdown",
   "metadata": {},
   "source": [
    "<h4> Calibration: make and apply flat field"
   ]
  },
  {
   "cell_type": "markdown",
   "metadata": {},
   "source": [
    "If we add additional arguments to reduce(), we can add additional calibration steps. For example, to flat field the data, we would add a flat= keyword through which we give the reducer a flat field.\n",
    "<br>\n",
    "First, however, we have to make the flat field, which is accomplished using the mkflat() method, which takes as input a list of frames to be used to construct the master flat field (superflat). For a spectrograph, we use the spec=True keyword which will remove the spectral signature from the combined flat.\n",
    "<br>\n",
    "If you specify a pyvista TV tool with the display= keyword, mkflat() will display the final flat field, then each individual input frame divided by\n",
    "the final flat, so you can inspect and confirm that all input frames are similar. You will need to enter a space in the display window after each\n",
    "image is displayed to proceed to the next, as prompted by the output."
   ]
  },
  {
   "cell_type": "code",
   "execution_count": 7,
   "metadata": {
    "scrolled": true
   },
   "outputs": [
    {
     "name": "stdout",
     "output_type": "stream",
     "text": [
      "  Reading file: /home/users/adijeau/Documents/UT220107/KOSMOS_Flat_red.0061.fits\n",
      "  subtracting overscan vector \n",
      "  subtracting overscan vector \n",
      "  Reading file: /home/users/adijeau/Documents/UT220107/KOSMOS_Flat_red.0062.fits\n",
      "  subtracting overscan vector \n",
      "  subtracting overscan vector \n",
      "  Reading file: /home/users/adijeau/Documents/UT220107/KOSMOS_Flat_red.0063.fits\n",
      "  subtracting overscan vector \n",
      "  subtracting overscan vector \n",
      "  Reading file: /home/users/adijeau/Documents/UT220107/KOSMOS_Flat_red.0064.fits\n",
      "  subtracting overscan vector \n",
      "  subtracting overscan vector \n",
      "  Reading file: /home/users/adijeau/Documents/UT220107/KOSMOS_Flat_red.0065.fits\n",
      "  subtracting overscan vector \n",
      "  subtracting overscan vector \n",
      "  combining data with median....\n",
      "  calculating uncertainty....\n"
     ]
    }
   ],
   "source": [
    "flatims=[61,62,63,64,65]\n",
    "flat=red.mkflat(flatims,spec=True,display=None)"
   ]
  },
  {
   "cell_type": "code",
   "execution_count": 8,
   "metadata": {},
   "outputs": [],
   "source": [
    "t.tv(flat)"
   ]
  },
  {
   "cell_type": "markdown",
   "metadata": {},
   "source": [
    "Read, overscan subtract, flat field, and display a star spectral image"
   ]
  },
  {
   "cell_type": "code",
   "execution_count": 9,
   "metadata": {},
   "outputs": [
    {
     "name": "stdout",
     "output_type": "stream",
     "text": [
      "  Reading file: /home/users/adijeau/Documents/UT220107/KOSMOS_Feige34_red.0002.fits\n",
      "  subtracting overscan vector \n",
      "  subtracting overscan vector \n",
      "  flat fielding...\n",
      "INFO: array provided for uncertainty; assuming it is a StdDevUncertainty. [astropy.nddata.ccddata]\n"
     ]
    }
   ],
   "source": [
    "star=red.reduce(2,flat=flat)\n",
    "t.tv(star,max=1000) "
   ]
  },
  {
   "cell_type": "markdown",
   "metadata": {},
   "source": [
    "Here is an example of attempting cosmic ray rejection. CR rejection can be challenging; the main concern is that the cosmic ray rejection flags object pixels as cosmic rays! Users should be very careful about this. The Reducer object provides two algorithms for CR-rejection. If crbox='lacosmic\", then the LA Cosmic routine of van Dokkum, as implemented\n",
    "in the astroscrappy package, is used. If crbox=[nrow,ncol], then the image\n",
    "is median-filtered with the specfied box shape, and pixels above nsig (default=5) times the uncertainty are replaced with the median. For spectroscopy, beware: a box aligned with the wavelength direction will\n",
    "avoid flagging pixels in the object, but may flag pixels in sky lines,\n",
    "while the reverse is true for a box aligned along the slit."
   ]
  },
  {
   "cell_type": "code",
   "execution_count": null,
   "metadata": {},
   "outputs": [],
   "source": [
    "crstar=red.crrej(star,crbox=[9,1],display=t)"
   ]
  },
  {
   "cell_type": "markdown",
   "metadata": {},
   "source": [
    "<h4> Tracing and extraction"
   ]
  },
  {
   "cell_type": "markdown",
   "metadata": {},
   "source": [
    "We want to extract the spectrum, i.e. from the 2D image to a 1D spectrum. Start with a trace previously determined for KOSMOS. The Trace object sets the order of the polynomial used to fit the trace (degree attribute), the length of the slit (rows attribute), the range of pixels along the slit to be used to automatically find an object, etc."
   ]
  },
  {
   "cell_type": "code",
   "execution_count": 10,
   "metadata": {},
   "outputs": [
    {
     "data": {
      "text/plain": [
       "{'type': 'Polynomial1D',\n",
       " 'degree': 2,\n",
       " 'sc0': 2048,\n",
       " 'pix0': 0,\n",
       " 'spectrum': array([    0.,     0.,     0., ...,  3448.,  3443.,  3442.]),\n",
       " 'rad': 5,\n",
       " 'lags': array([-300, -299, -298, -297, -296, -295, -294, -293, -292, -291, -290,\n",
       "        -289, -288, -287, -286, -285, -284, -283, -282, -281, -280, -279,\n",
       "        -278, -277, -276, -275, -274, -273, -272, -271, -270, -269, -268,\n",
       "        -267, -266, -265, -264, -263, -262, -261, -260, -259, -258, -257,\n",
       "        -256, -255, -254, -253, -252, -251, -250, -249, -248, -247, -246,\n",
       "        -245, -244, -243, -242, -241, -240, -239, -238, -237, -236, -235,\n",
       "        -234, -233, -232, -231, -230, -229, -228, -227, -226, -225, -224,\n",
       "        -223, -222, -221, -220, -219, -218, -217, -216, -215, -214, -213,\n",
       "        -212, -211, -210, -209, -208, -207, -206, -205, -204, -203, -202,\n",
       "        -201, -200, -199, -198, -197, -196, -195, -194, -193, -192, -191,\n",
       "        -190, -189, -188, -187, -186, -185, -184, -183, -182, -181, -180,\n",
       "        -179, -178, -177, -176, -175, -174, -173, -172, -171, -170, -169,\n",
       "        -168, -167, -166, -165, -164, -163, -162, -161, -160, -159, -158,\n",
       "        -157, -156, -155, -154, -153, -152, -151, -150, -149, -148, -147,\n",
       "        -146, -145, -144, -143, -142, -141, -140, -139, -138, -137, -136,\n",
       "        -135, -134, -133, -132, -131, -130, -129, -128, -127, -126, -125,\n",
       "        -124, -123, -122, -121, -120, -119, -118, -117, -116, -115, -114,\n",
       "        -113, -112, -111, -110, -109, -108, -107, -106, -105, -104, -103,\n",
       "        -102, -101, -100,  -99,  -98,  -97,  -96,  -95,  -94,  -93,  -92,\n",
       "         -91,  -90,  -89,  -88,  -87,  -86,  -85,  -84,  -83,  -82,  -81,\n",
       "         -80,  -79,  -78,  -77,  -76,  -75,  -74,  -73,  -72,  -71,  -70,\n",
       "         -69,  -68,  -67,  -66,  -65,  -64,  -63,  -62,  -61,  -60,  -59,\n",
       "         -58,  -57,  -56,  -55,  -54,  -53,  -52,  -51,  -50,  -49,  -48,\n",
       "         -47,  -46,  -45,  -44,  -43,  -42,  -41,  -40,  -39,  -38,  -37,\n",
       "         -36,  -35,  -34,  -33,  -32,  -31,  -30,  -29,  -28,  -27,  -26,\n",
       "         -25,  -24,  -23,  -22,  -21,  -20,  -19,  -18,  -17,  -16,  -15,\n",
       "         -14,  -13,  -12,  -11,  -10,   -9,   -8,   -7,   -6,   -5,   -4,\n",
       "          -3,   -2,   -1,    0,    1,    2,    3,    4,    5,    6,    7,\n",
       "           8,    9,   10,   11,   12,   13,   14,   15,   16,   17,   18,\n",
       "          19,   20,   21,   22,   23,   24,   25,   26,   27,   28,   29,\n",
       "          30,   31,   32,   33,   34,   35,   36,   37,   38,   39,   40,\n",
       "          41,   42,   43,   44,   45,   46,   47,   48,   49,   50,   51,\n",
       "          52,   53,   54,   55,   56,   57,   58,   59,   60,   61,   62,\n",
       "          63,   64,   65,   66,   67,   68,   69,   70,   71,   72,   73,\n",
       "          74,   75,   76,   77,   78,   79,   80,   81,   82,   83,   84,\n",
       "          85,   86,   87,   88,   89,   90,   91,   92,   93,   94,   95,\n",
       "          96,   97,   98,   99,  100,  101,  102,  103,  104,  105,  106,\n",
       "         107,  108,  109,  110,  111,  112,  113,  114,  115,  116,  117,\n",
       "         118,  119,  120,  121,  122,  123,  124,  125,  126,  127,  128,\n",
       "         129,  130,  131,  132,  133,  134,  135,  136,  137,  138,  139,\n",
       "         140,  141,  142,  143,  144,  145,  146,  147,  148,  149,  150,\n",
       "         151,  152,  153,  154,  155,  156,  157,  158,  159,  160,  161,\n",
       "         162,  163,  164,  165,  166,  167,  168,  169,  170,  171,  172,\n",
       "         173,  174,  175,  176,  177,  178,  179,  180,  181,  182,  183,\n",
       "         184,  185,  186,  187,  188,  189,  190,  191,  192,  193,  194,\n",
       "         195,  196,  197,  198,  199,  200,  201,  202,  203,  204,  205,\n",
       "         206,  207,  208,  209,  210,  211,  212,  213,  214,  215,  216,\n",
       "         217,  218,  219,  220,  221,  222,  223,  224,  225,  226,  227,\n",
       "         228,  229,  230,  231,  232,  233,  234,  235,  236,  237,  238,\n",
       "         239,  240,  241,  242,  243,  244,  245,  246,  247,  248,  249,\n",
       "         250,  251,  252,  253,  254,  255,  256,  257,  258,  259,  260,\n",
       "         261,  262,  263,  264,  265,  266,  267,  268,  269,  270,  271,\n",
       "         272,  273,  274,  275,  276,  277,  278,  279,  280,  281,  282,\n",
       "         283,  284,  285,  286,  287,  288,  289,  290,  291,  292,  293,\n",
       "         294,  295,  296,  297,  298,  299]),\n",
       " 'transpose': True,\n",
       " 'rows': array([ 550, 1450]),\n",
       " 'index': array([0]),\n",
       " 'model': [<Polynomial1D(2, c0=936.1384531294843, c1=0.003375934520125782, c2=1.2666657913119536e-07)>],\n",
       " 'sigmodel': None}"
      ]
     },
     "execution_count": 10,
     "metadata": {},
     "output_type": "execute_result"
    }
   ],
   "source": [
    "trace=spectra.Trace('KOSMOS/KOSMOS_trace.fits')\n",
    "vars(trace) "
   ]
  },
  {
   "cell_type": "markdown",
   "metadata": {},
   "source": [
    "We can use the existing trace to retrace a new spectrum. This is done by cross-correlating the reference spectrum with a spatial cut across the input spectrum (at sc0) to find the shift, then using the old model to start the trace from that starting position. The functional form of the old model is preserved:"
   ]
  },
  {
   "cell_type": "code",
   "execution_count": 11,
   "metadata": {},
   "outputs": [
    {
     "name": "stdout",
     "output_type": "stream",
     "text": [
      "  Derived pixel shift from input trace:  12.6301100802\n",
      "Using shift:  12.6301100802\n",
      "  Tracing row: 956\r"
     ]
    },
    {
     "name": "stderr",
     "output_type": "stream",
     "text": [
      "/home/holtz/git/pyvista/python/pyvista/spectra.py:1080: RuntimeWarning: invalid value encountered in true_divide\n",
      "  gd = np.where((~ymask) & (ysum/np.sqrt(yvar)>thresh) )[0]\n",
      "/home/holtz/git/pyvista/python/pyvista/spectra.py:1091: RuntimeWarning: invalid value encountered in true_divide\n",
      "  gd = np.where((~ymask) & (ysum/np.sqrt(yvar)>thresh) & (np.abs(res)<rad))[0]\n"
     ]
    },
    {
     "name": "stdout",
     "output_type": "stream",
     "text": [
      "\n",
      "  See trace. Hit space bar to continue....\n"
     ]
    }
   ],
   "source": [
    "trace.retrace(star,display=t)"
   ]
  },
  {
   "cell_type": "markdown",
   "metadata": {},
   "source": [
    "Alternatively, one could use the find() method to determine the shift between the stored trace and your frame automatically with cross correlation, then just go straight to extraction using the shape of the stored trace; this would be applicable if your object is too faint, or doesn't have sufficient continuum, to trace. If you want to mark the location of the object manually, use the inter=True keyword (along with display=) in find(). \n"
   ]
  },
  {
   "cell_type": "code",
   "execution_count": null,
   "metadata": {},
   "outputs": [],
   "source": [
    "trace.model[0](2048)\n",
    "trace.find(star,inter=True,display=t)\n",
    "print(trace.pix0)"
   ]
  },
  {
   "cell_type": "markdown",
   "metadata": {},
   "source": [
    "You can also just find peak(s) in the spatial direction using findpeak(), then trace them:"
   ]
  },
  {
   "cell_type": "code",
   "execution_count": null,
   "metadata": {},
   "outputs": [],
   "source": [
    "peaks,fibers=trace.findpeak(star,thresh=5)\n",
    "print(peaks)\n",
    "print(fibers)\n",
    "                            \n",
    "trace.trace(star,peaks,display=t)"
   ]
  },
  {
   "cell_type": "markdown",
   "metadata": {},
   "source": [
    "The model is now modified for the input spectrum:"
   ]
  },
  {
   "cell_type": "code",
   "execution_count": null,
   "metadata": {},
   "outputs": [],
   "source": [
    "trace.model[0](2048)"
   ]
  },
  {
   "cell_type": "markdown",
   "metadata": {},
   "source": [
    "Her are some various alternatives for finding traces. If you needed to create Trace from scratch, instantiate one with rows=, lags=, sc= (transpose= determines whether inputimage needs to be transposed to get wavelength changing along columns). \n",
    "<p>\n",
    "    Note the skip= keyword which can be used when tracing to speed things up by only computing centroids every skip pixels, taking a median around these pixels of width skip pixels. The default is skip=10"
   ]
  },
  {
   "cell_type": "code",
   "execution_count": null,
   "metadata": {},
   "outputs": [],
   "source": [
    "trace=spectra.Trace(sc0=2048,lags=range(-300,300),\n",
    "                    rows=[550,1450],transpose=red.transpose)\n",
    "vars(trace)\n",
    "srow=[955]   # list to allow for multiple spectra on an image, mnaually set\n",
    "srow,fibers=trace.findpeak(star)  # alternatively, find peak(s)\n",
    "# trace.find(star) will find the highest peak by cross-correlation\n",
    "# trace.find(star,inter=True,display=t)  will let you mark a trace location\n",
    "starec=trace.trace(star,srow,display=t,skip=100) \n",
    "vars(trace)"
   ]
  },
  {
   "cell_type": "markdown",
   "metadata": {},
   "source": [
    "Extraction is done using the extract() method of the Trace object, currently just with simple boxcar extraction. Use rad= to specify window radius. Use back=[[b1,b2],[b3,b4]] to subtract background as determined from one or more background windows (note argument should be list of 2-element lists, giving start and end pixel of each background window)."
   ]
  },
  {
   "cell_type": "code",
   "execution_count": null,
   "metadata": {},
   "outputs": [],
   "source": [
    "starec=trace.extract(star,display=t,rad=25)\n",
    "print(starec.shape)"
   ]
  },
  {
   "cell_type": "markdown",
   "metadata": {},
   "source": [
    "extract() returns a pyvista Data object, with extracted spectrum, and uncertainty. Note that this is a 2D array to accomodate multiple objects/traces, even if there is only a single object."
   ]
  },
  {
   "cell_type": "code",
   "execution_count": null,
   "metadata": {},
   "outputs": [],
   "source": [
    "plt.figure()\n",
    "plt.plot(starec.data[0])\n",
    "plt.plot(starec.data[0]/starec.uncertainty.array[0])"
   ]
  },
  {
   "cell_type": "markdown",
   "metadata": {},
   "source": [
    "Background can be subtracted during extraction using the back= keyword, which takes a list of 2-element lists, given the relative location, in pixels, of the background window(s) (relative to the location of the trace):"
   ]
  },
  {
   "cell_type": "code",
   "execution_count": null,
   "metadata": {},
   "outputs": [],
   "source": [
    "starec2=trace.extract(star,rad=25,back=[[50,75],[-75,-50]],display=t)\n",
    "plt.figure()\n",
    "plt.plot(starec.data[0])\n",
    "plt.plot(starec2.data[0])\n",
    "plt.show()"
   ]
  },
  {
   "cell_type": "markdown",
   "metadata": {},
   "source": [
    "<h4> Wavelength calibration"
   ]
  },
  {
   "cell_type": "markdown",
   "metadata": {},
   "source": [
    "Now let's turn to wavelength calibration, i.e. getting a function that gives the wavelength as a function of pixel. We'll solve for this using arc frames, here taken with each lamp separately, so sum the three exposures"
   ]
  },
  {
   "cell_type": "code",
   "execution_count": 12,
   "metadata": {},
   "outputs": [
    {
     "name": "stdout",
     "output_type": "stream",
     "text": [
      "  Reading file: /home/users/adijeau/Documents/UT220107/KOSMOS_HeNeAr_red.0046.fits\n",
      "  subtracting overscan vector \n",
      "  subtracting overscan vector \n",
      "INFO: array provided for uncertainty; assuming it is a StdDevUncertainty. [astropy.nddata.ccddata]\n",
      "  Reading file: /home/users/adijeau/Documents/UT220107/KOSMOS_HeNeAr_red.0047.fits\n",
      "  subtracting overscan vector \n",
      "  subtracting overscan vector \n",
      "INFO: array provided for uncertainty; assuming it is a StdDevUncertainty. [astropy.nddata.ccddata]\n",
      "  Reading file: /home/users/adijeau/Documents/UT220107/KOSMOS_HeNeAr_red.0048.fits\n",
      "  subtracting overscan vector \n",
      "  subtracting overscan vector \n",
      "INFO: array provided for uncertainty; assuming it is a StdDevUncertainty. [astropy.nddata.ccddata]\n",
      "  combining data with sum....\n",
      "  calculating uncertainty....\n"
     ]
    }
   ],
   "source": [
    "#Frame 15 is He, 16 is Ne, and 17 is Ar\n",
    "arcs=red.sum([46,47,48])\n",
    "t.clear()\n",
    "t.tv(arcs)"
   ]
  },
  {
   "cell_type": "code",
   "execution_count": 14,
   "metadata": {},
   "outputs": [
    {
     "name": "stdout",
     "output_type": "stream",
     "text": [
      "  extracting ... (may take some time,\n",
      "                   consider threads= if multithreading is available\n",
      "\n"
     ]
    }
   ],
   "source": [
    "arcec=trace.extract(arcs,display=None,rad=20)"
   ]
  },
  {
   "cell_type": "markdown",
   "metadata": {},
   "source": [
    "Wavelength calibration first stars with identifying lines. This is much easier if one can work from a previous solution. Here we start by reading a previous solution into a pyvista WaveCal object."
   ]
  },
  {
   "cell_type": "code",
   "execution_count": 15,
   "metadata": {
    "scrolled": true
   },
   "outputs": [
    {
     "name": "stdout",
     "output_type": "stream",
     "text": [
      "  rms:    0.177 Angstroms (50 lines)\n"
     ]
    },
    {
     "data": {
      "text/plain": [
       "{'type': 'chebyshev',\n",
       " 'degree': 3,\n",
       " 'ydegree': 2,\n",
       " 'waves': array([ 5562.22534,  5570.28944,  5572.548  ,  5764.418  ,  5852.4878 ,\n",
       "         5866.75017,  5870.91599,  5875.618  ,  5879.90035,  5944.8342 ,\n",
       "         5945.45239,  5977.64573,  6029.9971 ,  6074.3377 ,  6096.163  ,\n",
       "         6143.0623 ,  6163.5939 ,  6217.2813 ,  6266.495  ,  6304.7892 ,\n",
       "         6334.4279 ,  6382.9914 ,  6402.246  ,  6506.5279 ,  6532.8824 ,\n",
       "         6598.9529 ,  6678.2    ,  6717.0428 ,  6965.43   ,  7032.4127 ,\n",
       "         7065.188  ,  7147.041  ,  7173.939  ,  7245.167  ,  7383.98   ,\n",
       "         7438.899  ,  7635.105  ,  7723.8    ,  7948.175  ,  8082.458  ,\n",
       "         8264.521  ,  8408.208  ,  8424.647  ,  8521.441  ,  8634.647  ,\n",
       "         8654.3831 ,  8667.9442 ,  8697.94   ,  8853.866  ,  9122.97   ]),\n",
       " 'waves_order': array([1, 1, 1, 1, 1, 1, 1, 1, 1, 1, 1, 1, 1, 1, 1, 1, 1, 1, 1, 1, 1, 1, 1,\n",
       "        1, 1, 1, 1, 1, 1, 1, 1, 1, 1, 1, 1, 1, 1, 1, 1, 1, 1, 1, 1, 1, 1, 1,\n",
       "        1, 1, 1, 1]),\n",
       " 'orders': array([1]),\n",
       " 'index': array([0]),\n",
       " 'pix0': -8.2759402175724972e-07,\n",
       " 'pix': array([ 4025.02109039,  4015.44396803,  4015.44396803,  3790.15880973,\n",
       "         3690.62678597,  3670.03204306,  3670.0257175 ,  3669.89576055,\n",
       "         3657.79308923,  3588.09174509,  3588.09174509,  3554.14468514,\n",
       "         3494.62519944,  3446.51705219,  3422.84327351,  3372.68094864,\n",
       "         3350.73492   ,  3293.50713686,  3241.48659741,  3201.19182028,\n",
       "         3170.16574558,  3119.63260077,  3099.65376626,  2992.18436045,\n",
       "         2965.10433232,  2897.68039674,  2817.54610879,  2778.5811682 ,\n",
       "         2531.32442792,  2464.8745742 ,  2431.37787601,  2353.34305675,\n",
       "         2327.16382751,  2257.93438449,  2123.88558853,  2071.17799049,\n",
       "         1883.82626658,  1798.88935628,  1586.79551274,  1460.03856996,\n",
       "         1289.34862534,  1153.69128405,  1138.27839407,  1047.33413843,\n",
       "          940.94520902,   922.25059148,   909.50689512,   874.12741917,\n",
       "          734.39372427,   478.78462863]),\n",
       " 'y': array([0, 0, 0, 0, 0, 0, 0, 0, 0, 0, 0, 0, 0, 0, 0, 0, 0, 0, 0, 0, 0, 0, 0,\n",
       "        0, 0, 0, 0, 0, 0, 0, 0, 0, 0, 0, 0, 0, 0, 0, 0, 0, 0, 0, 0, 0, 0, 0,\n",
       "        0, 0, 0, 0]),\n",
       " 'spectrum': array([[  729.63845313,  1229.01439133,  1218.35342383, ...,\n",
       "           619.62523088,   721.33026726,   615.47703888]]),\n",
       " 'weights': array([ 1.,  1.,  0.,  1.,  1.,  0.,  1.,  0.,  0.,  1.,  0.,  0.,  1.,\n",
       "         1.,  1.,  1.,  1.,  1.,  1.,  1.,  1.,  1.,  1.,  1.,  1.,  1.,\n",
       "         1.,  1.,  1.,  1.,  0.,  1.,  1.,  1.,  1.,  1.,  1.,  1.,  1.,\n",
       "         1.,  1.,  1.,  1.,  1.,  1.,  1.,  1.,  0.,  1.,  1.]),\n",
       " 'model': <Chebyshev1D(3, c0=7296.913495379019, c1=-1793.1673386177422, c2=45.613886834294405, c3=12.658372735639919, domain=(478.7846294613704, 4025.021091218613))>,\n",
       " 'ax': None}"
      ]
     },
     "execution_count": 15,
     "metadata": {},
     "output_type": "execute_result"
    }
   ],
   "source": [
    "wav=spectra.WaveCal('KOSMOS/KOSMOS_red_waves.fits')\n",
    "vars(wav)"
   ]
  },
  {
   "cell_type": "code",
   "execution_count": 16,
   "metadata": {},
   "outputs": [
    {
     "data": {
      "text/plain": [
       "-1.0113072593750199"
      ]
     },
     "execution_count": 16,
     "metadata": {},
     "output_type": "execute_result"
    }
   ],
   "source": [
    "wav.dispersion()"
   ]
  },
  {
   "cell_type": "markdown",
   "metadata": {},
   "source": [
    "With a previous solution loaded, the identify routine will cross correlate the input spectrum with the previous solution, then attempt to identify the lines from the previous solution at the shifted pixel position from the previous solution. Finally, it does a fit."
   ]
  },
  {
   "cell_type": "markdown",
   "metadata": {},
   "source": [
    "The identify() method fits Gaussians to the lines to get their position, and gets FWHM in the process. rad= keyword specifies number of pixels on either side of line to use in fit. If you add the file= keyword, then the routine will try to identify all of the lines from the reference file; this might be useful if you wanted to extend the wavelength range of the lines from the initial object, e.g. if you were working at a different grating tilt or slit location. If you did that, you might want to save your WaveCal object after cleaning the line list for good lines, so you could use that as a starting guess for other data taken at a similar wavelength setting."
   ]
  },
  {
   "cell_type": "code",
   "execution_count": 17,
   "metadata": {},
   "outputs": [
    {
     "name": "stdout",
     "output_type": "stream",
     "text": [
      "  cross correlating with reference spectrum using lags:  range(-300, 300)\n",
      "  Derived pixel shift from input wcal:  [-4.86352639]\n",
      "  See identified lines.\n",
      "  rms:    2.465 Angstroms (42 lines)\n",
      "  Input in plot window: \n",
      "       l : to remove all lines to left of cursor\n",
      "       r : to remove all lines to right of cursor\n",
      "       n : to remove line nearest cursor x position\n",
      "       anything else : finish and return\n",
      "  rms:    2.465 Anstroms\n",
      "  input from plot window...\n",
      "  rms:    2.179 Anstroms\n",
      "  input from plot window...\n",
      "  rms:    2.035 Anstroms\n",
      "  input from plot window...\n",
      "  rms:    0.186 Anstroms\n",
      "  input from plot window...\n",
      "\n"
     ]
    }
   ],
   "source": [
    "wav.identify(arcec,plot=True,rad=10) #,file='henearkr.dat')"
   ]
  },
  {
   "cell_type": "markdown",
   "metadata": {},
   "source": [
    "Note that once you remove lines, they are removed for subsequent uses of the WaveCal object."
   ]
  },
  {
   "cell_type": "markdown",
   "metadata": {},
   "source": [
    "If you want to refit with existing line positions, e.g. to try a different model, you can just call fit()."
   ]
  },
  {
   "cell_type": "code",
   "execution_count": null,
   "metadata": {},
   "outputs": [],
   "source": [
    "wav.fit(degree=5)  "
   ]
  },
  {
   "cell_type": "markdown",
   "metadata": {},
   "source": [
    "Show the FWHM of the lines as a function of wavelength"
   ]
  },
  {
   "cell_type": "code",
   "execution_count": null,
   "metadata": {},
   "outputs": [],
   "source": [
    "wav.fwhm\n",
    "t.plotax2.cla()\n",
    "gd=np.where(wav.weights > 0)[0]\n",
    "t.plotax2.plot(wav.waves[gd],np.abs(wav.fwhm[gd]),'ro')"
   ]
  },
  {
   "cell_type": "markdown",
   "metadata": {},
   "source": [
    "OK, now use the wavelength solution to get wavelength as a function of pixel. We can save that in the wave attribute of our Data object."
   ]
  },
  {
   "cell_type": "code",
   "execution_count": null,
   "metadata": {},
   "outputs": [],
   "source": [
    "wav.add_wave(starec)\n",
    "plt.figure()\n",
    "plt.plot(starec.wave[0],starec.data[0])"
   ]
  },
  {
   "cell_type": "markdown",
   "metadata": {},
   "source": [
    "Here is a way to get the inverse wavelength solution, i.e. pixels as a function of wavelength, using a cubic spline fit to the wavelength solution."
   ]
  },
  {
   "cell_type": "code",
   "execution_count": null,
   "metadata": {},
   "outputs": [],
   "source": [
    "# get inverse relation, i.e. pixels as f(wavelength)\n",
    "pix=np.arange(4096)\n",
    "from scipy.interpolate import CubicSpline\n",
    "wav2pix=CubicSpline(np.flip(starec.wave[0]),np.flip(pix))\n",
    "print('wavelength 6563 expected at pixel: ',wav2pix(6463))"
   ]
  },
  {
   "cell_type": "markdown",
   "metadata": {},
   "source": [
    "Next cell demonstrates resampling of spectrum onto a uniform wavelength grid. This may not be desired, as it leads to correlated uncertainties between pixels! But it would be needed if, e.g., you wanted to cross-correlate spectra to find velocities, in which case you would want a spectrum with constant dispersion in log(lambda)."
   ]
  },
  {
   "cell_type": "code",
   "execution_count": null,
   "metadata": {},
   "outputs": [],
   "source": [
    "plt.figure()\n",
    "plt.clf()\n",
    "# original data with wavelength solution\n",
    "plt.plot(starec.wave[0],starec.data[0])\n",
    "\n",
    "# set desired new wavelength scale:\n",
    "wnew=10**np.arange(3.5,4.0,5.5e-6)\n",
    "# resampled data on constant log(lambda) grid\n",
    "plt.plot(wnew,wav.scomb(starec,wnew).data)"
   ]
  },
  {
   "cell_type": "markdown",
   "metadata": {},
   "source": [
    "<h4> Adjusting wavelength solution for flexure"
   ]
  },
  {
   "cell_type": "code",
   "execution_count": null,
   "metadata": {},
   "outputs": [],
   "source": [
    "objec=trace.extract(red.reduce(22),display=None,rad=20)\n",
    "wav.add_wave(objec)"
   ]
  },
  {
   "cell_type": "code",
   "execution_count": null,
   "metadata": {},
   "outputs": [],
   "source": [
    "plt.figure()\n",
    "plt.plot(objec.wave[0],objec.data[0])"
   ]
  },
  {
   "cell_type": "markdown",
   "metadata": {},
   "source": [
    "The skyline() method will addjust the current wavelength solution based on finding sky emission lines. The default behavior is to adopt the current wavelength solution but allow only the 0th order term to shift. If you specify linear=True, then the 1st order term is also allowed to vary; beware that you must have multiple sky lines for this to be effective! Otherwise, skyline() takes most of the same keywords as identify()\n",
    "<br>\n",
    "Here, I first copy the WaveCal object so we can compare the original to the corrected solution."
   ]
  },
  {
   "cell_type": "code",
   "execution_count": null,
   "metadata": {},
   "outputs": [],
   "source": [
    "import copy\n",
    "swav=copy.deepcopy(wav)\n",
    "swav.skyline( object, thresh=50)"
   ]
  },
  {
   "cell_type": "markdown",
   "metadata": {},
   "source": [
    "See how the model has been modified compared to the original:"
   ]
  },
  {
   "cell_type": "code",
   "execution_count": null,
   "metadata": {},
   "outputs": [],
   "source": [
    "print(wav.model)\n",
    "print(swav.model)"
   ]
  },
  {
   "cell_type": "markdown",
   "metadata": {},
   "source": [
    "<h4> Flux calibration"
   ]
  },
  {
   "cell_type": "markdown",
   "metadata": {},
   "source": [
    "Instantiate a FluxCal object. You can set it up to use a polynomial fit to the response curve by specifying the polynomial degree with the degree= keyword. If you set degree=-1, the response curve will be determined by a median of the individual response curves, optionally smoothed with a median filter over wavelength (see response() method below)."
   ]
  },
  {
   "cell_type": "code",
   "execution_count": null,
   "metadata": {},
   "outputs": [],
   "source": [
    "flx=spectra.FluxCal(degree=-1)\n",
    "polyflx=spectra.FluxCal(degree=5)"
   ]
  },
  {
   "cell_type": "markdown",
   "metadata": {},
   "source": [
    "Load in several extracted spectra of flux standards, here all of Feige 34. The standard star spectrum is given using the file= keyword, where the input file should have labelled columns wave, flux, and bin. Alternatively, you can pass an astropy Table with (at least) these three columns, using the stdflux= keyword"
   ]
  },
  {
   "cell_type": "code",
   "execution_count": null,
   "metadata": {},
   "outputs": [],
   "source": [
    "for im in [2,3, 38,39] :\n",
    "    star=red.reduce(im)\n",
    "    trace.retrace(star)\n",
    "    starec=trace.extract(star)\n",
    "    wav.add_wave(starec)\n",
    "    flx.addstar(starec[0],starec.wave[0],file='flux/okestan/ffeige34.dat')\n",
    "    polyflx.addstar(starec[0],starec.wave[0],file='flux/okestan/ffeige34.dat')"
   ]
  },
  {
   "cell_type": "markdown",
   "metadata": {},
   "source": [
    "Solve for the median response curve, taking a median filter over this median."
   ]
  },
  {
   "cell_type": "code",
   "execution_count": null,
   "metadata": {},
   "outputs": [],
   "source": [
    "flx.response(plot=True,medfilt=200)\n",
    "polyflx.response(plot=True)"
   ]
  },
  {
   "cell_type": "markdown",
   "metadata": {},
   "source": [
    "Apply the response curve to an object. Note that, using Data objects, the S/N is preserved!"
   ]
  },
  {
   "cell_type": "code",
   "execution_count": null,
   "metadata": {
    "scrolled": true
   },
   "outputs": [],
   "source": [
    "fig,ax=plots.multi(1,2,hspace=0.001)\n",
    "ax[0].plot(starec.wave[0],starec.data[0])\n",
    "ax[1].plot(waves,starec.data[0]/starec.uncertainty.array[0])\n",
    "flx.correct(starec,starec.wave)\n",
    "ax[0].plot(starec.wave[0],starec.data[0])\n",
    "ax[1].plot(waves,starec.data[0]/starec.uncertainty.array[0])"
   ]
  },
  {
   "cell_type": "markdown",
   "metadata": {},
   "source": [
    "<h3> longslit extraction and wavelength calibration"
   ]
  },
  {
   "cell_type": "markdown",
   "metadata": {},
   "source": [
    "For extended objects, and perhaps for sky subtraction, we might want to work along the slit. The wavelength solution varies along the slit (line curvature), usually with more than just an offset."
   ]
  },
  {
   "cell_type": "markdown",
   "metadata": {},
   "source": [
    "Start by working along the slit to identify lines"
   ]
  },
  {
   "cell_type": "code",
   "execution_count": 18,
   "metadata": {},
   "outputs": [],
   "source": [
    "trace=spectra.Trace('KOSMOS/KOSMOS_trace.fits')\n",
    "arc2d=trace.extract2d(arcs)\n",
    "t=tv.TV()\n",
    "t.tv(arc2d)"
   ]
  },
  {
   "cell_type": "code",
   "execution_count": 19,
   "metadata": {},
   "outputs": [
    {
     "name": "stdout",
     "output_type": "stream",
     "text": [
      "  rms:    0.177 Angstroms (50 lines)\n",
      "  cross correlating with reference spectrum using lags:  [-10  -9  -8  -7  -6  -5  -4  -3  -2  -1   0   1   2   3   4   5   6   7\n",
      "   8   9]\n",
      "  Derived pixel shift from input wcal for row: 899 01\n",
      "  See identified lines.\n",
      "  rms:    2.187\n",
      "rejecting 45 points from 1800 total: \n",
      "  rms:    0.795\n",
      "rejecting 45 points from 1800 total: \n",
      "  See 2D wavecal fit. Enter space in plot window to continue\n",
      "\n"
     ]
    }
   ],
   "source": [
    "from pyvista import image\n",
    "wav=spectra.WaveCal(file='KOSMOS/KOSMOS_red_waves.fits')\n",
    "image.smooth(arc2d,[5,1])\n",
    "t.clear()\n",
    "t.tv(arc2d)\n",
    "wav.identify(arc2d, rad=10,display=None, plot=True,\n",
    "              nskip=20,lags=np.arange(-10,10))\n",
    "wav.add_wave(arc2d)"
   ]
  },
  {
   "cell_type": "code",
   "execution_count": null,
   "metadata": {},
   "outputs": [],
   "source": [
    "wav.plot()\n"
   ]
  },
  {
   "cell_type": "markdown",
   "metadata": {},
   "source": [
    "OK, use the solution to make a wavelength map"
   ]
  },
  {
   "cell_type": "code",
   "execution_count": null,
   "metadata": {},
   "outputs": [],
   "source": [
    "t.clear()\n",
    "t.tv(arc2d.wave)"
   ]
  },
  {
   "cell_type": "markdown",
   "metadata": {},
   "source": [
    "Subtract out the central wavelength solution to see how the solution varies with row"
   ]
  },
  {
   "cell_type": "code",
   "execution_count": null,
   "metadata": {},
   "outputs": [],
   "source": [
    "dw=arc2d.wave-arc2d.wave[450]\n",
    "t.tv(dw)  "
   ]
  },
  {
   "cell_type": "markdown",
   "metadata": {},
   "source": [
    "Now do a 2d extraction of an object, and attach the wavelengths"
   ]
  },
  {
   "cell_type": "code",
   "execution_count": 28,
   "metadata": {},
   "outputs": [
    {
     "name": "stdout",
     "output_type": "stream",
     "text": [
      "  Reading file: /home/users/adijeau/Documents/UT220107/KOSMOS_GCPilot02_red.0022.fits\n",
      "  subtracting overscan vector \n",
      "  subtracting overscan vector \n",
      "INFO: array provided for uncertainty; assuming it is a StdDevUncertainty. [astropy.nddata.ccddata]\n"
     ]
    }
   ],
   "source": [
    "obj=red.reduce(22)\n",
    "t.tv(obj)"
   ]
  },
  {
   "cell_type": "code",
   "execution_count": 42,
   "metadata": {},
   "outputs": [
    {
     "name": "stdout",
     "output_type": "stream",
     "text": [
      "  zapping CRs with filter [1,9]...\n",
      "  zapping CRs with filter [1,9]...\n",
      "  zapping CRs with filter [1,9]...\n"
     ]
    }
   ],
   "source": [
    "\n",
    "objcr=red.crrej(obj,crbox=[1,9],nsig=5)\n",
    "t.tv(obj)\n",
    "t.tv(objcr)\n",
    "objcr2=red.crrej(obj,crbox=[1,9],nsig=[5,2])\n",
    "t.tv(objcr2)"
   ]
  },
  {
   "cell_type": "code",
   "execution_count": 40,
   "metadata": {},
   "outputs": [],
   "source": [
    "t.tv(objcr.bitmask)\n",
    "from pyvista import image\n",
    "t.tv(image.smooth(objcr.bitmask,[3,3]))"
   ]
  },
  {
   "cell_type": "code",
   "execution_count": 24,
   "metadata": {
    "scrolled": true
   },
   "outputs": [
    {
     "name": "stdout",
     "output_type": "stream",
     "text": [
      "  Reading file: /home/users/adijeau/Documents/UT220107/KOSMOS_GCPilot02_red.0022.fits\n",
      "  subtracting overscan vector \n",
      "  subtracting overscan vector \n",
      "INFO: array provided for uncertainty; assuming it is a StdDevUncertainty. [astropy.nddata.ccddata]\n",
      "  zapping CRs with filter [1,9]...\n",
      "  Reading file: /home/users/adijeau/Documents/UT220107/KOSMOS_Feige34_red.0038.fits\n",
      "  subtracting overscan vector \n",
      "  subtracting overscan vector \n",
      "INFO: array provided for uncertainty; assuming it is a StdDevUncertainty. [astropy.nddata.ccddata]\n"
     ]
    }
   ],
   "source": [
    "trace=spectra.Trace('KOSMOS/KOSMOS_trace.fits')\n",
    "obj=red.reduce(22,crbox=[1,9])\n",
    "t.tv(obj)\n",
    "obj2d=trace.extract2d(obj)\n",
    "wav.add_wave(obj2d)\n",
    "t.tv(obj2d)\n",
    "star=red.reduce(38)\n",
    "star2d=trace.extract2d(star)\n",
    "wav.add_wave(star2d)"
   ]
  },
  {
   "cell_type": "code",
   "execution_count": 26,
   "metadata": {},
   "outputs": [],
   "source": [
    "t.tv(obj.bitmask)\n",
    "t.tv(obj2d.bitmask)"
   ]
  },
  {
   "cell_type": "markdown",
   "metadata": {},
   "source": [
    "Here we rectify the image to have a constant wavelength scale (in log lambda). We choose the new scale based on the starting and ending wavelengths in the original image, and resample to get the same number of pixels.\n",
    "\n",
    "If you preferred not to resample your object (or at least minimize the ressampling), you could resample the image to the wavelength array at the location of your object"
   ]
  },
  {
   "cell_type": "code",
   "execution_count": null,
   "metadata": {},
   "outputs": [],
   "source": [
    "wlim=(arc2d.wave[450,0],arc2d.wave[450,-1])\n",
    "wnew=10.**np.linspace(np.log10(wlim[1]),np.log10(wlim[0]),4095)\n",
    "print(wnew)\n",
    "arc2d_rect=wav.correct(arc2d,wnew)\n",
    "t.tv(arc2d)\n",
    "t.tv(arc2d_rect)"
   ]
  },
  {
   "cell_type": "code",
   "execution_count": null,
   "metadata": {},
   "outputs": [],
   "source": [
    "t.tv(obj2d)\n",
    "obj2d_rect=wav.correct(obj2d,wnew)\n",
    "star2d_rect=wav.correct(star2d,wnew)\n",
    "t.tv(obj2d_rect)\n"
   ]
  },
  {
   "cell_type": "markdown",
   "metadata": {},
   "source": [
    "OK, now we can extract in the wavelength rectified image for better sky subtraction. Create a new trace object with the rows= attribute to give the new extent of the image in rows, since our previous extraction limited the extraction to the length of the slit, as set by the rows attribute in the original trace object."
   ]
  },
  {
   "cell_type": "code",
   "execution_count": null,
   "metadata": {
    "scrolled": true
   },
   "outputs": [],
   "source": [
    "rows=[0,star2d_rect.shape[0]]\n",
    "trace=spectra.Trace(sc0=int(star2d_rect.shape[1]/2.),rows=rows)\n",
    "t.clear()\n",
    "rows,fibers=trace.findpeak(star2d_rect)\n",
    "print('rows: ',rows)\n",
    "trace.trace(star2d_rect,rows,display=t)\n",
    "ext=trace.extract(obj2d_rect,display=t,rad=10)\n",
    "ext.add_wave(wnew)\n",
    "ext_sub=trace.extract(obj2d_rect,rad=10,back=[[20,30]],display=t)\n",
    "ext_sub.add_wave(wnew)"
   ]
  },
  {
   "cell_type": "code",
   "execution_count": null,
   "metadata": {},
   "outputs": [],
   "source": [
    "plt.figure()\n",
    "plt.plot(ext.wave,ext.data[0])\n",
    "plt.plot(ext.wave,ext_sub.data[0])"
   ]
  },
  {
   "cell_type": "markdown",
   "metadata": {},
   "source": [
    "CR rejection via multiple image stacking"
   ]
  },
  {
   "cell_type": "markdown",
   "metadata": {},
   "source": [
    "<h4> KOSMOS blue channel"
   ]
  },
  {
   "cell_type": "code",
   "execution_count": null,
   "metadata": {},
   "outputs": [],
   "source": [
    "bwav=spectra.WaveCal('KOSMOS/KOSMOS_blue_waves.fits')\n",
    "trace=spectra.Trace('KOSMOS/KOSMOS_trace.fits')\n",
    "arcs=red.sum([49,50,51])\n",
    "arcec=trace.extract(arcs)\n",
    "bwav.identify(arcec,plot=True)\n"
   ]
  },
  {
   "cell_type": "code",
   "execution_count": null,
   "metadata": {},
   "outputs": [],
   "source": [
    "objec=trace.extract(red.reduce(26),display=None,rad=20)\n",
    "bwav.add_wave(objec)\n",
    "plt.figure()\n",
    "plt.plot(objec.wave[0],objec.data[0])\n",
    "\n",
    "swav=copy.copy(bwav)\n",
    "swav.model.fixed['c0']=False\n",
    "swav.model.fixed['c1']=True\n",
    "swav.model.fixed['c2']=True\n",
    "swav.model.fixed['c3']=True \n",
    "swav.identify(objec,wav=objec.wave,file='skyline.dat',plot=True,thresh=50,inter=True)\n",
    "print(bwav.model)\n",
    "print(swav.model)"
   ]
  },
  {
   "cell_type": "code",
   "execution_count": null,
   "metadata": {},
   "outputs": [],
   "source": [
    "flx=spectra.FluxCal(degree=5)\n",
    "for im in [34,35,36] :\n",
    "    star=red.reduce(im)\n",
    "    trace.retrace(star)\n",
    "    starec=trace.extract(star)\n",
    "    bwav.add_wave(starec)\n",
    "    flx.addstar(starec[0],wave[0],file='flux/okestan/ffeige34.dat')"
   ]
  },
  {
   "cell_type": "code",
   "execution_count": null,
   "metadata": {},
   "outputs": [],
   "source": [
    "flx.response(plot=True)"
   ]
  },
  {
   "cell_type": "code",
   "execution_count": null,
   "metadata": {},
   "outputs": [],
   "source": [
    "plt.figure()\n",
    "flx.correct(starec,starec.wave[0])\n",
    "plt.plot(starec.wave[0],starec.data[0])"
   ]
  }
 ],
 "metadata": {
  "kernelspec": {
   "display_name": "Python 3 (ipykernel)",
   "language": "python",
   "name": "python3"
  },
  "language_info": {
   "codemirror_mode": {
    "name": "ipython",
    "version": 3
   },
   "file_extension": ".py",
   "mimetype": "text/x-python",
   "name": "python",
   "nbconvert_exporter": "python",
   "pygments_lexer": "ipython3",
   "version": "3.9.9"
  }
 },
 "nbformat": 4,
 "nbformat_minor": 4
}
