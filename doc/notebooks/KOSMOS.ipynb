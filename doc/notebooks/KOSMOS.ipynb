{
 "cells": [
  {
   "cell_type": "markdown",
   "metadata": {},
   "source": [
    "<h2> Spectroscopic data reduction : spectra module"
   ]
  },
  {
   "cell_type": "code",
   "execution_count": 2,
   "metadata": {},
   "outputs": [],
   "source": [
    "from pyvista import imred, tv, spectra\n",
    "import pyvista.data\n",
    "from importlib_resources import files\n",
    "import numpy as np\n",
    "import matplotlib.pyplot as plt\n",
    "import pickle\n",
    "import os"
   ]
  },
  {
   "cell_type": "markdown",
   "metadata": {},
   "source": [
    "pyvista uses a display tool defined in the tv module. To use the interactive\n",
    "display in a notebook, set the display to be an external display window, e.g. with \n",
    "<code>\n",
    "%matplotlib qt\n",
    "</code>\n",
    "Instantiate a tv object, here we just call it t, but you could call it whatever you want!"
   ]
  },
  {
   "cell_type": "code",
   "execution_count": null,
   "metadata": {},
   "outputs": [],
   "source": [
    "%matplotlib qt\n",
    "t=tv.TV()"
   ]
  },
  {
   "cell_type": "markdown",
   "metadata": {},
   "source": [
    "The basic tool for basic image reduction is a Reducer object, defined in the imred module. Instantiate a reducer here. The main argument is an instrument name, which tells it to read a YAML configuration file for the specified instrument. We also give it an optional dir= argument to specify the default directory from which to read images, if a directory is not specified in subsequent commands that read images."
   ]
  },
  {
   "cell_type": "code",
   "execution_count": null,
   "metadata": {},
   "outputs": [],
   "source": [
    "indir='/home/users/adijeau/Documents/UT220107'\n",
    "red=imred.Reducer('KOSMOS',dir=indir)"
   ]
  },
  {
   "cell_type": "markdown",
   "metadata": {},
   "source": [
    "A main method of the reducer object is the reduce() method. Without any additional arguments, reduce() will read an image from disk, subtract the overscan (region(s) as determined from the instrument configuration file), compute an uncertainty array using the gain and readout noise from the instrument configuration file, and return a CCDData object with the data, uncertainty, and mask. \n",
    "<p>\n",
    "To specify the input image, we could pass a string with the file name. If the string does not include a '/', it will read from the default input directory.\n",
    "<p>\n",
    "If the file can be identified with a unique integer, then you can just specify this number, which can be very convenient. This is turned into a character string using the formstr attribute define in the configuration file, which is used to search for the file to read.\n",
    "<p>\n",
    "We can display the image using the tv() method of our display tool, which can take as input a CCDData object, and numpy array, or a FITS HDU object."
   ]
  },
  {
   "cell_type": "code",
   "execution_count": null,
   "metadata": {},
   "outputs": [],
   "source": [
    "a=red.reduce(22)\n",
    "\n",
    "t.tv(a)"
   ]
  },
  {
   "cell_type": "markdown",
   "metadata": {},
   "source": [
    "<h4> Calibration: make and apply flat field"
   ]
  },
  {
   "cell_type": "markdown",
   "metadata": {},
   "source": [
    "If we add additional arguments to reduce(), we can add additional calibration steps. For example, to flat field the data, we would add a flat= keyword through which we give the reducer a flat field.\n",
    "<br>\n",
    "First, however, we have to make the flat field, which is accomplished using the mkflat() method, which takes as input a list of frames to be used to construct the master flat field (superflat). For a spectrograph, we use the spec=True keyword which will remove the spectral signature from the combined flat."
   ]
  },
  {
   "cell_type": "code",
   "execution_count": null,
   "metadata": {
    "scrolled": true
   },
   "outputs": [],
   "source": [
    "flatims=[61,62,63,64,65]\n",
    "flat=red.mkflat(flatims,spec=True,display=None)"
   ]
  },
  {
   "cell_type": "markdown",
   "metadata": {},
   "source": [
    "Read and display a star spectral image"
   ]
  },
  {
   "cell_type": "code",
   "execution_count": null,
   "metadata": {},
   "outputs": [],
   "source": [
    "star=red.reduce(2,flat=flat)\n",
    "t.tv(star,max=1000) "
   ]
  },
  {
   "cell_type": "code",
   "execution_count": null,
   "metadata": {},
   "outputs": [],
   "source": [
    "crstar=red.crrej(star,crbox=[9,1],display=t)"
   ]
  },
  {
   "cell_type": "code",
   "execution_count": null,
   "metadata": {},
   "outputs": [],
   "source": [
    "t.tv(crstar.bitmask,min=0,max=2)\n"
   ]
  },
  {
   "cell_type": "markdown",
   "metadata": {},
   "source": [
    "<h4> Tracing and extraction"
   ]
  },
  {
   "cell_type": "markdown",
   "metadata": {},
   "source": [
    "We want to extract the spectrum, i.e. from the 2D image to a 1D spectrum. Start by defining a trace that is just constant along rows, and extract the spectrum with a 25 pixel window."
   ]
  },
  {
   "cell_type": "code",
   "execution_count": null,
   "metadata": {},
   "outputs": [],
   "source": [
    "# here we set a trace to be at a constant position on the detector\n",
    "trace=spectra.Trace('KOSMOS/KOSMOS_trace.fits')\n",
    "vars(trace) "
   ]
  },
  {
   "cell_type": "markdown",
   "metadata": {},
   "source": [
    "We can use the existing trace to retrace a new spectrum. This is done by cross-correlating the reference spectrum with a spatial cut across the input spectrum (at sc0) to find the shift, then using the old model to start the trace from that starting position. The functional form of the old model is preserved:"
   ]
  },
  {
   "cell_type": "code",
   "execution_count": null,
   "metadata": {},
   "outputs": [],
   "source": [
    "trace.retrace(star,display=t)"
   ]
  },
  {
   "cell_type": "markdown",
   "metadata": {},
   "source": [
    "Alternatively, one could use the find() method to determine the shift between the stored trace and your frame automatically with cross correlation, then just go straight to extraction using the shape of the stored trace; this would be applicable if your object is too faint, or doesn't have sufficient continuum, to trace. If you want to mark the location of the object manually, use the inter=True keyword (along with display=) in find(). \n"
   ]
  },
  {
   "cell_type": "code",
   "execution_count": null,
   "metadata": {},
   "outputs": [],
   "source": [
    "trace.model[0](2048)\n",
    "trace.find(star,inter=True,display=t)\n",
    "print(trace.pix0)"
   ]
  },
  {
   "cell_type": "markdown",
   "metadata": {},
   "source": [
    "You can also just find peak(s) in the spatial direction using findpeak(), then trace them:"
   ]
  },
  {
   "cell_type": "code",
   "execution_count": null,
   "metadata": {},
   "outputs": [],
   "source": [
    "peaks,fibers=trace.findpeak(star,thresh=5)\n",
    "print(peaks)\n",
    "print(fibers)\n",
    "                            \n",
    "trace.trace(star,peaks,display=t)"
   ]
  },
  {
   "cell_type": "markdown",
   "metadata": {},
   "source": [
    "The model is now modified for the input spectrum:"
   ]
  },
  {
   "cell_type": "code",
   "execution_count": null,
   "metadata": {},
   "outputs": [],
   "source": [
    "trace.model[0](2048)"
   ]
  },
  {
   "cell_type": "markdown",
   "metadata": {},
   "source": [
    "If you needed to create Trace from scratch, see below. Note the skip= keyword which can be used when tracing to speed things up by only computing centroids every skip pixels, taking a median around these pixels of width skip pixels. The default is skip=10"
   ]
  },
  {
   "cell_type": "code",
   "execution_count": null,
   "metadata": {},
   "outputs": [],
   "source": [
    "trace=spectra.Trace(sc0=2048,lags=range(-300,300),\n",
    "                    rows=[550,1450],transpose=red.transpose)\n",
    "vars(trace)\n",
    "srow=[955]   # list to allow for multiple spectra on an image\n",
    "starec=trace.trace(star,srow,display=t,skip=20) \n",
    "vars(trace)"
   ]
  },
  {
   "cell_type": "markdown",
   "metadata": {},
   "source": [
    "Extraction is done using the extract() method of the Trace object, currently just with simple boxcar extraction. Use rad= to specify window radius. Use back=[[b1,b2],[b3,b4]] to subtract background as determined from one or more background windows (note argument should be list of 2-element lists, giving start and end pixel of each background window)."
   ]
  },
  {
   "cell_type": "code",
   "execution_count": null,
   "metadata": {},
   "outputs": [],
   "source": [
    "starec=trace.extract(star,display=t,rad=25)\n",
    "print(starec.shape)"
   ]
  },
  {
   "cell_type": "markdown",
   "metadata": {},
   "source": [
    "extract() returns a CCDData object, with extracted spectrum, and uncertainty. Note that this is a 2D array to accomodate multiple objects/traces, even if there is only a single object."
   ]
  },
  {
   "cell_type": "code",
   "execution_count": null,
   "metadata": {},
   "outputs": [],
   "source": [
    "plt.figure()\n",
    "plt.plot(starec.data[0])\n",
    "plt.plot(starec.data[0]/starec.uncertainty.array[0])"
   ]
  },
  {
   "cell_type": "code",
   "execution_count": null,
   "metadata": {},
   "outputs": [],
   "source": [
    "star.data+=5000\n",
    "starec2=trace.extract(star,rad=25,back=[[50,75],[-75,-50]],display=t)\n",
    "plt.figure()\n",
    "plt.plot(starec.data[0])\n",
    "plt.plot(starec2.data[0])\n",
    "plt.show()"
   ]
  },
  {
   "cell_type": "markdown",
   "metadata": {},
   "source": [
    "<h4> Wavelength calibration"
   ]
  },
  {
   "cell_type": "markdown",
   "metadata": {},
   "source": [
    "Now let's turn to wavelength calibration, i.e. getting a function that gives the wavelength as a function of pixel. We'll solve for this using arc frames, here taken with each lamp separately, so sum the three exposures"
   ]
  },
  {
   "cell_type": "code",
   "execution_count": null,
   "metadata": {},
   "outputs": [],
   "source": [
    "#Frame 15 is He, 16 is Ne, and 17 is Ar\n",
    "arcs=red.sum([46,47,48])\n",
    "t.clear()\n",
    "t.tv(arcs)"
   ]
  },
  {
   "cell_type": "code",
   "execution_count": null,
   "metadata": {},
   "outputs": [],
   "source": [
    "arcec=trace.extract(arcs,display=None,rad=20)"
   ]
  },
  {
   "cell_type": "markdown",
   "metadata": {},
   "source": [
    "Wavelength calibration first stars with identifying lines. This is much easier if one can work from a previous solution. Here we start by reading a previous solution into a pyvista WaveCal object."
   ]
  },
  {
   "cell_type": "code",
   "execution_count": 5,
   "metadata": {
    "scrolled": true
   },
   "outputs": [
    {
     "name": "stdout",
     "output_type": "stream",
     "text": [
      "  rms:    0.177 Angstroms (50 lines)\n"
     ]
    },
    {
     "data": {
      "text/plain": [
       "1"
      ]
     },
     "execution_count": 5,
     "metadata": {},
     "output_type": "execute_result"
    }
   ],
   "source": [
    "wav=spectra.WaveCal('KOSMOS/KOSMOS_red_waves.fits')\n",
    "vars(wav)"
   ]
  },
  {
   "cell_type": "markdown",
   "metadata": {},
   "source": [
    "With a previous solution loaded, the identify routine will cross correlate the input spectrum with the previous solution, then attempt to identify the lines from the previous solution at the shifted pixel position from the previous solution. Finally, it does a fit."
   ]
  },
  {
   "cell_type": "markdown",
   "metadata": {},
   "source": [
    "The identify() method fits Gaussians to the lines to get their position, and gets FWHM in the process. rad= keyword specifies number of pixels on either side of line to use in fit. If you add the file= keyword, then the routine will try to identify all of the lines from the reference file; this might be useful if you wanted to extend the wavelength range of the lines from the initial object, e.g. if you were working at a different grating tilt or slit location. If you did that, you might want to save your WaveCal object after cleaning the line list for good lines, so you could use that as a starting guess for other data taken at a similar wavelength setting."
   ]
  },
  {
   "cell_type": "code",
   "execution_count": null,
   "metadata": {},
   "outputs": [],
   "source": [
    "wav.identify(arcec,plot=True,rad=10) #,file='henearkr.dat')"
   ]
  },
  {
   "cell_type": "markdown",
   "metadata": {},
   "source": [
    "Note that once you remove lines, they are removed for subsequent uses of the WaveCal object."
   ]
  },
  {
   "cell_type": "markdown",
   "metadata": {},
   "source": [
    "If you want to refit with existing line positions, e.g. to try a different model, you can just call fit()."
   ]
  },
  {
   "cell_type": "code",
   "execution_count": null,
   "metadata": {},
   "outputs": [],
   "source": [
    "wav.fit(degree=5)"
   ]
  },
  {
   "cell_type": "markdown",
   "metadata": {},
   "source": [
    "Show the FWHM of the lines as a function of wavelength"
   ]
  },
  {
   "cell_type": "code",
   "execution_count": null,
   "metadata": {},
   "outputs": [],
   "source": [
    "wav.fwhm\n",
    "#t.plotax2.cla()\n",
    "#t.plotax2.plot(wav.waves,np.abs(wav.fwhm),'ro')"
   ]
  },
  {
   "cell_type": "markdown",
   "metadata": {},
   "source": [
    "OK, now use the wavelength solution to get wavelength as a function of pixel. We can save that in the wave attribute of our Data object."
   ]
  },
  {
   "cell_type": "code",
   "execution_count": null,
   "metadata": {},
   "outputs": [],
   "source": [
    "wav.add_wave(starec)\n",
    "plt.figure()\n",
    "plt.plot(starec.wave[0],starec.data[0])\n",
    "\n",
    "# get inverse relation, i.e. pixels as f(wavelength)\n",
    "pix=np.arange(4096)\n",
    "from scipy.interpolate import CubicSpline\n",
    "wav2pix=CubicSpline(np.flip(starec.wave[0]),np.flip(pix))"
   ]
  },
  {
   "cell_type": "markdown",
   "metadata": {},
   "source": [
    "Next cell has resampling of spectrum onto a uniform wavelength grid"
   ]
  },
  {
   "cell_type": "code",
   "execution_count": null,
   "metadata": {},
   "outputs": [],
   "source": [
    "plt.figure()\n",
    "plt.clf()\n",
    "plt.plot(starec.wave[0],starec.data[0])\n",
    "print(1/(5.5e-5*np.log(10)))\n",
    "wnew=10**np.arange(3.5,4.0,5.5e-6)\n",
    "plt.plot(wnew,wav.scomb(starec,wnew).data)"
   ]
  },
  {
   "cell_type": "markdown",
   "metadata": {},
   "source": [
    "<h4> Adjusting wavelength solution for flexure"
   ]
  },
  {
   "cell_type": "markdown",
   "metadata": {},
   "source": [
    "Next cell shows some possibilities for adjusting wavelength solution based on sky lines"
   ]
  },
  {
   "cell_type": "code",
   "execution_count": null,
   "metadata": {},
   "outputs": [],
   "source": [
    "objec=trace.extract(red.reduce(22),display=None,rad=20)\n",
    "wav.add_wave(objec)\n"
   ]
  },
  {
   "cell_type": "code",
   "execution_count": null,
   "metadata": {},
   "outputs": [],
   "source": [
    "plt.figure()\n",
    "plt.plot(objec.wave[0],objec.data[0])"
   ]
  },
  {
   "cell_type": "markdown",
   "metadata": {},
   "source": [
    "If we fix all but the first term, we solve for a constant wavelength shift"
   ]
  },
  {
   "cell_type": "code",
   "execution_count": null,
   "metadata": {},
   "outputs": [],
   "source": [
    "import copy\n",
    "swav=copy.copy(wav)\n",
    "wave=wav.wave(image=objec.shape)\n",
    "swav.model.fixed['c1']=True\n",
    "swav.model.fixed['c2']=True\n",
    "swav.model.fixed['c3']=True \n",
    "swav.identify(objec,wav=objec.wave,file='skyline.dat',plot=True,thresh=50,inter=True)\n",
    "print(wav.model)\n",
    "print(swav.model)"
   ]
  },
  {
   "cell_type": "markdown",
   "metadata": {},
   "source": [
    "<h4> Flux calibration"
   ]
  },
  {
   "cell_type": "markdown",
   "metadata": {},
   "source": [
    "Instantiate a FluxCal object. You can set it up to use a polynomial fit to the response curve by specifying the polynomial degree with the degree= keyword. If you set degree=-1, the response curve will be determined by a median of the individual response curves, optionally smoothed with a median filter over wavelength (see response() method below)."
   ]
  },
  {
   "cell_type": "code",
   "execution_count": null,
   "metadata": {},
   "outputs": [],
   "source": [
    "flx=spectra.FluxCal(degree=-1)\n",
    "polyflx=spectra.FluxCal(degree=5)"
   ]
  },
  {
   "cell_type": "markdown",
   "metadata": {},
   "source": [
    "Load in several extracted spectra of flux standards, here all of Feige 34. The standard star spectrum is given using the file= keyword, where the input file should have labelled columns wave, flux, and bin. Alternatively, you can pass an astropy Table with (at least) these three columns, using the stdflux= keyword"
   ]
  },
  {
   "cell_type": "code",
   "execution_count": null,
   "metadata": {},
   "outputs": [],
   "source": [
    "for im in [2,3, 38,39] :\n",
    "    star=red.reduce(im)\n",
    "    trace.retrace(star)\n",
    "    starec=trace.extract(star)\n",
    "    wav.add_wave(starec)\n",
    "    flx.addstar(starec[0],starec.wave[0],file='flux/okestan/ffeige34.dat')\n",
    "    polyflx.addstar(starec[0],starec.wave[0],file='flux/okestan/ffeige34.dat')"
   ]
  },
  {
   "cell_type": "markdown",
   "metadata": {},
   "source": [
    "Solve for the median response curve, taking a median filter over this median."
   ]
  },
  {
   "cell_type": "code",
   "execution_count": null,
   "metadata": {},
   "outputs": [],
   "source": [
    "flx.response(plot=True,medfilt=200)\n",
    "polyflx.response(plot=True)"
   ]
  },
  {
   "cell_type": "markdown",
   "metadata": {},
   "source": [
    "Apply the response curve to an object. Note that, using Data objects, the S/N is preserved!"
   ]
  },
  {
   "cell_type": "code",
   "execution_count": null,
   "metadata": {
    "scrolled": true
   },
   "outputs": [],
   "source": [
    "fig,ax=plots.multi(1,2,hspace=0.001)\n",
    "ax[0].plot(starec.wave[0],starec.data[0])\n",
    "ax[1].plot(waves,starec.data[0]/starec.uncertainty.array[0])\n",
    "flx.correct(starec,starec.wave)\n",
    "ax[0].plot(starec.wave[0],starec.data[0])\n",
    "ax[1].plot(waves,starec.data[0]/starec.uncertainty.array[0])"
   ]
  },
  {
   "cell_type": "markdown",
   "metadata": {},
   "source": [
    "<h3> longslit extraction and wavelength calibration"
   ]
  },
  {
   "cell_type": "markdown",
   "metadata": {},
   "source": [
    "For extended objects, and perhaps for sky subtraction, we might want to work along the slit. The wavelength solution varies along the slit (line curvature), usually with more than just an offset."
   ]
  },
  {
   "cell_type": "markdown",
   "metadata": {},
   "source": [
    "Start by working along the slit to identify lines"
   ]
  },
  {
   "cell_type": "code",
   "execution_count": null,
   "metadata": {},
   "outputs": [],
   "source": [
    "trace=spectra.Trace('KOSMOS/KOSMOS_trace.fits')\n",
    "arc2d=trace.extract2d(arcs)\n",
    "t=tv.TV()\n",
    "t.tv(arc2d)"
   ]
  },
  {
   "cell_type": "code",
   "execution_count": null,
   "metadata": {},
   "outputs": [],
   "source": [
    "from pyvista import image\n",
    "wav=spectra.WaveCal(file='KOSMOS/KOSMOS_red_waves.fits')\n",
    "image.smooth(arc2d,[5,1])\n",
    "t.clear()\n",
    "t.tv(arc2d)\n",
    "wav.identify(arc2d, rad=10,display=None, plot=True,\n",
    "              nskip=20,lags=np.arange(-10,10))\n",
    "wav.add_wave(arc2d)"
   ]
  },
  {
   "cell_type": "markdown",
   "metadata": {},
   "source": [
    "OK, use the solution to make a wavelength map"
   ]
  },
  {
   "cell_type": "code",
   "execution_count": null,
   "metadata": {},
   "outputs": [],
   "source": [
    "t.clear()\n",
    "t.tv(arc2d.wave)"
   ]
  },
  {
   "cell_type": "markdown",
   "metadata": {},
   "source": [
    "Subtract out the central wavelength solution to see how the solution varies with row"
   ]
  },
  {
   "cell_type": "code",
   "execution_count": null,
   "metadata": {},
   "outputs": [],
   "source": [
    "dw=arc2d.wave-arc2d.wave[450]\n",
    "t.tv(dw)  "
   ]
  },
  {
   "cell_type": "code",
   "execution_count": null,
   "metadata": {
    "scrolled": true
   },
   "outputs": [],
   "source": [
    "trace=spectra.Trace('KOSMOS/KOSMOS_trace.fits')\n",
    "obj=red.reduce(22)\n",
    "t.tv(obj)\n",
    "obj2d=trace.extract2d(obj)\n",
    "wav.add_wave(obj2d)\n",
    "t.tv(obj2d)\n",
    "star=red.reduce(38)\n",
    "star2d=trace.extract2d(star)\n",
    "wav.add_wave(star2d)"
   ]
  },
  {
   "cell_type": "markdown",
   "metadata": {},
   "source": [
    "Here we rectify the image to have a constant wavelength scale (in log lambda). We choose the new scale based on the starting and ending wavelengths in the original image, and resample to get the same number of pixels.\n",
    "\n",
    "If you preferred not to resample your object (or at least minimize the ressampling), you could resample the image to the wavelength array at the location of your object"
   ]
  },
  {
   "cell_type": "code",
   "execution_count": null,
   "metadata": {},
   "outputs": [],
   "source": [
    "wlim=(arc2d.wave[450,0],arc2d.wave[450,-1])\n",
    "wnew=10.**np.linspace(np.log10(wlim[1]),np.log10(wlim[0]),4095)\n",
    "print(wnew)\n",
    "arc2d_rect=wav.correct(arc2d,wnew)\n",
    "t.tv(arc2d)\n",
    "t.tv(arc2d_rect)"
   ]
  },
  {
   "cell_type": "code",
   "execution_count": null,
   "metadata": {},
   "outputs": [],
   "source": [
    "t.tv(obj2d)\n",
    "obj2d_rect=wav.correct(obj2d,wnew)\n",
    "star2d_rect=wav.correct(star2d,wnew)\n",
    "t.tv(obj2d_rect)\n"
   ]
  },
  {
   "cell_type": "markdown",
   "metadata": {},
   "source": [
    "OK, now we can extract in the wavelength rectified image for better sky subtraction. Create a new trace object with the rows= attribute to give the new extent of the image in rows, since our previous extraction limited the extraction to the length of the slit, as set by the rows attribute in the original trace object."
   ]
  },
  {
   "cell_type": "code",
   "execution_count": null,
   "metadata": {
    "scrolled": true
   },
   "outputs": [],
   "source": [
    "rows=[0,star2d_rect.shape[0]]\n",
    "trace=spectra.Trace(sc0=int(star2d_rect.shape[1]/2.),rows=rows)\n",
    "t.clear()\n",
    "rows,fibers=trace.findpeak(star2d_rect)\n",
    "print('rows: ',rows)\n",
    "trace.trace(star2d_rect,rows,display=t)\n",
    "ext=trace.extract(obj2d_rect,display=t,rad=10)\n",
    "ext.add_wave(wnew)\n",
    "ext_sub=trace.extract(obj2d_rect,rad=10,back=[[20,30]],display=t)\n",
    "ext_sub.add_wave(wnew)"
   ]
  },
  {
   "cell_type": "code",
   "execution_count": null,
   "metadata": {},
   "outputs": [],
   "source": [
    "plt.figure()\n",
    "plt.plot(ext.wave,ext.data[0])\n",
    "plt.plot(ext.wave,ext_sub.data[0])"
   ]
  },
  {
   "cell_type": "markdown",
   "metadata": {},
   "source": [
    "CR rejection via multiple image stacking"
   ]
  },
  {
   "cell_type": "markdown",
   "metadata": {},
   "source": [
    "<h4> KOSMOS blue channel"
   ]
  },
  {
   "cell_type": "code",
   "execution_count": null,
   "metadata": {},
   "outputs": [],
   "source": [
    "bwav=spectra.WaveCal('KOSMOS/KOSMOS_blue_waves.fits')\n",
    "trace=spectra.Trace('KOSMOS/KOSMOS_trace.fits')\n",
    "arcs=red.sum([49,50,51])\n",
    "arcec=trace.extract(arcs)\n",
    "bwav.identify(arcec,plot=True)\n"
   ]
  },
  {
   "cell_type": "code",
   "execution_count": null,
   "metadata": {},
   "outputs": [],
   "source": [
    "objec=trace.extract(red.reduce(26),display=None,rad=20)\n",
    "bwav.add_wave(objec)\n",
    "plt.figure()\n",
    "plt.plot(objec.wave[0],objec.data[0])\n",
    "\n",
    "swav=copy.copy(bwav)\n",
    "swav.model.fixed['c0']=False\n",
    "swav.model.fixed['c1']=True\n",
    "swav.model.fixed['c2']=True\n",
    "swav.model.fixed['c3']=True \n",
    "swav.identify(objec,wav=objec.wave,file='skyline.dat',plot=True,thresh=50,inter=True)\n",
    "print(bwav.model)\n",
    "print(swav.model)"
   ]
  },
  {
   "cell_type": "code",
   "execution_count": null,
   "metadata": {},
   "outputs": [],
   "source": [
    "flx=spectra.FluxCal(degree=5)\n",
    "for im in [34,35,36] :\n",
    "    star=red.reduce(im)\n",
    "    trace.retrace(star)\n",
    "    starec=trace.extract(star)\n",
    "    bwav.add_wave(starec)\n",
    "    flx.addstar(starec[0],wave[0],file='flux/okestan/ffeige34.dat')"
   ]
  },
  {
   "cell_type": "code",
   "execution_count": null,
   "metadata": {},
   "outputs": [],
   "source": [
    "flx.response(plot=True)"
   ]
  },
  {
   "cell_type": "code",
   "execution_count": null,
   "metadata": {},
   "outputs": [],
   "source": [
    "plt.figure()\n",
    "flx.correct(starec,starec.wave[0])\n",
    "plt.plot(starec.wave[0],starec.data[0])"
   ]
  }
 ],
 "metadata": {
  "kernelspec": {
   "display_name": "Python 3 (ipykernel)",
   "language": "python",
   "name": "python3"
  },
  "language_info": {
   "codemirror_mode": {
    "name": "ipython",
    "version": 3
   },
   "file_extension": ".py",
   "mimetype": "text/x-python",
   "name": "python",
   "nbconvert_exporter": "python",
   "pygments_lexer": "ipython3",
   "version": "3.9.9"
  }
 },
 "nbformat": 4,
 "nbformat_minor": 4
}
