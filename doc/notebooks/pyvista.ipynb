{
 "cells": [
  {
   "cell_type": "markdown",
   "metadata": {},
   "source": [
    "<h3>Introduction to the pyvista tv and imred modules"
   ]
  },
  {
   "cell_type": "markdown",
   "metadata": {},
   "source": [
    "<i> This is an older notebook and may not be fully up-to-date"
   ]
  },
  {
   "cell_type": "markdown",
   "metadata": {},
   "source": [
    "Start with some standard imports. We will want to use an \"asynchonous\" display tool that will remain open, hence the %matplotlib qt<br>\n",
    "Note that it will be convenient to configure your desktop so that the window focus follows the mouse so you don't have to keep clicking back and forth between browser and display window."
   ]
  },
  {
   "cell_type": "code",
   "execution_count": 18,
   "metadata": {},
   "outputs": [],
   "source": [
    "import matplotlib.pyplot as plt\n",
    "import numpy as np\n",
    "import glob\n",
    "import astropy.units as u\n",
    "from pyvista import imred, tv\n",
    "from pyvista.dataclass import Data"
   ]
  },
  {
   "cell_type": "code",
   "execution_count": 9,
   "metadata": {},
   "outputs": [],
   "source": [
    "# Use these lines if you are running the notebook yourself. Matplotlib\n",
    "# window will open outside the notebook, which is the desired behavior so\n",
    "# you can have a single display tool, which you should leave open. Other\n",
    "# plot windows will also appear outside the notebook, which you can close\n",
    "# as desired\n",
    "#%matplotlib qt\n",
    "#t=tv.TV()\n",
    "#plotinter=True\n",
    "\n",
    "# following lines only for fully noninteractive demo of notebook, to allow\n",
    "#    inline demo of plots (but not image display)\n",
    "%matplotlib inline\n",
    "t=None\n",
    "plotinter=False     # normally, want this to be True "
   ]
  },
  {
   "cell_type": "markdown",
   "metadata": {},
   "source": [
    "We will start with the tv and imred packages. Load them, and instantiate a display tool in the variable t"
   ]
  },
  {
   "cell_type": "markdown",
   "metadata": {},
   "source": [
    "Instantiate a pyvista Reducer object. This sets up some basic information for an instrument (e.g., gain, readout noise, overscan type and region) and, optionally, a default directory to read images from. It also defines a format string for the instrument that, if possible, allows files to be identified by a sequence number only."
   ]
  },
  {
   "cell_type": "code",
   "execution_count": 10,
   "metadata": {},
   "outputs": [
    {
     "name": "stdout",
     "output_type": "stream",
     "text": [
      "INSTRUMENT: KOSMOS   config: \n",
      "  will use format:  /home/holtz/red/UT211030/kosmos/*{:04d}.f*.fits*\n",
      "         gain:  [0.6]    rn: [ 5.]\n",
      "         scale:  None   \n",
      "  Biastype : 1\n",
      "  Bias box: \n",
      "    SC    NC    SR    NR\n",
      "  2055    43    20  4056 \n",
      "  2105    43    20  4056 \n",
      "  Trim box: \n",
      "    SC    NC    SR    NR\n",
      "     0  2048     0  4096 \n",
      "     0  2048     0  4096 \n",
      "  Norm box: \n",
      "    SC    NC    SR    NR\n",
      "  1000    51  2000    51 \n"
     ]
    }
   ],
   "source": [
    "red=imred.Reducer('KOSMOS',dir='/home/holtz/red/UT211030/kosmos')"
   ]
  },
  {
   "cell_type": "markdown",
   "metadata": {},
   "source": [
    "The Reducer object has several methods. <br>\n",
    "<ul>\n",
    "<li>The simplest is rd(), which will read from a file into a variable. The returned variable is a CCDData object with attributes data, uncertainty, and mask. The uncertainty is calculated upon reading the image using the noise model as given by the gain and readout noise for the detector. With rd(), as opposed to reduce(), however, the file is simply read as is, without any overscan subtraction, so the uncertainty will not be valid.<br>\n",
    "<li>The reduce() method will read the file, subtract the overscan, and calculate the uncertainty from the noise model. As we will see below, additional optional keywords to reduce() will perform additional reduction steps.\n",
    "</ul>\n",
    "\n",
    "In either case, the file to read can be specfied as either a file number, in which case the routine attempts to associate a file name with the number using the format string for the instrument to create a search string, or by the character file name itself. If a filename is specified, it will be read from the default input directory unless the filename includes a '/', in which case it will be read from the full path as specified."
   ]
  },
  {
   "cell_type": "code",
   "execution_count": 11,
   "metadata": {},
   "outputs": [
    {
     "name": "stdout",
     "output_type": "stream",
     "text": [
      "  Reading file: /home/holtz/red/UT211030/kosmos/BD28d4211.0010.fits\n",
      "  Reading file: /home/holtz/red/UT211030/kosmos/BD28d4211.0010.fits\n",
      "  Reading file: /home/holtz/red/UT211030/kosmos/BD28d4211.0010.fits\n"
     ]
    }
   ],
   "source": [
    "# all three of these do the same thing. Working with file numbers is convenient!\n",
    "raw=red.rd(10)\n",
    "raw=red.rd('BD28d4211.0010.fits')\n",
    "raw=red.rd('/home/holtz/red/UT211030/kosmos/BD28d4211.0010.fits')"
   ]
  },
  {
   "cell_type": "markdown",
   "metadata": {},
   "source": [
    "Displaying the image will show that the bias has not been subtracted: move the mouse around in the image to see the image values."
   ]
  },
  {
   "cell_type": "code",
   "execution_count": 13,
   "metadata": {},
   "outputs": [],
   "source": [
    "if t is not None :\n",
    "    t.tv(raw)"
   ]
  },
  {
   "cell_type": "markdown",
   "metadata": {},
   "source": [
    "Note some useful features in the display tool:\n",
    "<ul>\n",
    "    <li> left click: zooms in\n",
    "    <li> right click: zooms out\n",
    "    <li> r : restores initial zoom\n",
    "    <li> - : cycles back to previous image in rolling stack (of 4)\n",
    "    <li> + : cycles forward in rolling image stack\n",
    "</ul>\n",
    "You can specify the display scaling parameters in the tv command with min=low and max=high keywords. You can also drag the colorbar from either side to increase the constrast with the current display scaling parameters (r key in color bar resets the color map)."
   ]
  },
  {
   "cell_type": "markdown",
   "metadata": {},
   "source": [
    "OK, now read in the image using reduce() to do the overscan subtraction, and display"
   ]
  },
  {
   "cell_type": "code",
   "execution_count": 14,
   "metadata": {},
   "outputs": [
    {
     "name": "stdout",
     "output_type": "stream",
     "text": [
      "  Reading file: /home/holtz/red/UT211030/kosmos/BD28d4211.0010.fits\n",
      "  subtracting overscan vector \n",
      "  subtracting overscan vector \n",
      "INFO: array provided for uncertainty; assuming it is a StdDevUncertainty. [astropy.nddata.ccddata]\n"
     ]
    }
   ],
   "source": [
    "a=red.reduce(10)\n",
    "if t is not None :\n",
    "    t.tv(a)"
   ]
  },
  {
   "cell_type": "markdown",
   "metadata": {},
   "source": [
    "You should now see unilluminated regions with values near zero. "
   ]
  },
  {
   "cell_type": "markdown",
   "metadata": {},
   "source": [
    "If you give reduce() the optional display= keyword with a TV instance, then it will show you more information about the overscan subtraction: the overscan box used, and a plot of the overscan region(s). If the detector has multiple amplifiers that have been defined in the configuration, the separate overscan regions will be shown with boxes of different colors, and the region of the chip to which they are applied are shown with boxes of the same color (dashed lines)<br>\n",
    "With the display= keyword, you will be required to hit a key in the display window to continue: this will be used below as you scan through a number of images to allow you to look at each one."
   ]
  },
  {
   "cell_type": "code",
   "execution_count": 15,
   "metadata": {},
   "outputs": [
    {
     "name": "stdout",
     "output_type": "stream",
     "text": [
      "  Reading file: /home/holtz/red/UT211030/kosmos/BD28d4211.0010.fits\n",
      "  subtracting overscan vector \n",
      "  subtracting overscan vector \n",
      "INFO: array provided for uncertainty; assuming it is a StdDevUncertainty. [astropy.nddata.ccddata]\n"
     ]
    }
   ],
   "source": [
    "a=red.reduce(10,display=t)"
   ]
  },
  {
   "cell_type": "markdown",
   "metadata": {},
   "source": [
    "You can make calibration products by combining multiple calibration frames with additional Reducer methods:\n",
    "<ul>\n",
    "    <li> mkbias(list) : combines images in image list to make bias\n",
    "    <li> mkdark(list) : combines images to make dark\n",
    "    <li> mkflat(list) : combines images to make flat\n",
    "</ul>\n",
    "The default combination method is to median combine, but you can also specify type='mean' or type='reject' (for sigma clipping, default is 5-sigma, but can be modified with the sigreject= keyword)<br>\n",
    "If you supply the optional display= keyword, the combined image will be displayed, and then the difference (ratio in the case of a flat) between each input image and the combined image will be shown for your inspection: you will need to hit a key in the display window after each one to continue to the next. Upper right plot will show the histogram of the combined frame, lower right plots will show the histogram of the individual frame differences with the combined frame."
   ]
  },
  {
   "cell_type": "code",
   "execution_count": 16,
   "metadata": {},
   "outputs": [
    {
     "name": "stdout",
     "output_type": "stream",
     "text": [
      "  Reading file: /home/holtz/red/UT211030/kosmos/bias.0023.fits\n",
      "  subtracting overscan vector \n",
      "  subtracting overscan vector \n",
      "  Reading file: /home/holtz/red/UT211030/kosmos/bias.0024.fits\n",
      "  subtracting overscan vector \n",
      "  subtracting overscan vector \n",
      "  Reading file: /home/holtz/red/UT211030/kosmos/bias.0025.fits\n",
      "  subtracting overscan vector \n",
      "  subtracting overscan vector \n",
      "  Reading file: /home/holtz/red/UT211030/kosmos/bias.0026.fits\n",
      "  subtracting overscan vector \n",
      "  subtracting overscan vector \n",
      "  Reading file: /home/holtz/red/UT211030/kosmos/bias.0027.fits\n",
      "  subtracting overscan vector \n",
      "  subtracting overscan vector \n",
      "  Reading file: /home/holtz/red/UT211030/kosmos/bias.0028.fits\n",
      "  subtracting overscan vector \n",
      "  subtracting overscan vector \n",
      "  Reading file: /home/holtz/red/UT211030/kosmos/bias.0029.fits\n",
      "  subtracting overscan vector \n",
      "  subtracting overscan vector \n",
      "  Reading file: /home/holtz/red/UT211030/kosmos/bias.0030.fits\n",
      "  subtracting overscan vector \n",
      "  subtracting overscan vector \n",
      "  Reading file: /home/holtz/red/UT211030/kosmos/bias.0031.fits\n",
      "  subtracting overscan vector \n",
      "  subtracting overscan vector \n",
      "  Reading file: /home/holtz/red/UT211030/kosmos/bias.0032.fits\n",
      "  subtracting overscan vector \n",
      "  subtracting overscan vector \n",
      "  combining data with median....\n",
      "  calculating uncertainty....\n"
     ]
    }
   ],
   "source": [
    "#several different ways of constructing image list:\n",
    "imlist=range(23,32)    # all frames from 23-31\n",
    "imlist=[23,24,25,26,27,28,29,30,31]  # explicit list of frame numbers\n",
    "imlist=sorted(glob.glob(red.dir+'/*bias*'))   # find all frames with bias in name\n",
    "\n",
    "bias=red.mkbias(imlist,display=t)"
   ]
  },
  {
   "cell_type": "markdown",
   "metadata": {},
   "source": [
    "You can save the calibration products (which are also CCDData objects) using their write() method. You can then read these back in for subsequent use so you don't have to create them every time you want to use them; use the CCDData (imported above) read() method (unfortunately, you have a specify a unit with this)."
   ]
  },
  {
   "cell_type": "code",
   "execution_count": 19,
   "metadata": {},
   "outputs": [
    {
     "name": "stdout",
     "output_type": "stream",
     "text": [
      "appending uncertainty\n",
      "appending bitmask\n",
      "INFO: first HDU with data is extension 1. [pyvista.dataclass]\n"
     ]
    }
   ],
   "source": [
    "#save the product\n",
    "bias.write('bias.fits',overwrite=True)\n",
    "#example of using a previously saved object:\n",
    "bias=Data.read('bias.fits',unit=u.dimensionless_unscaled)"
   ]
  },
  {
   "cell_type": "markdown",
   "metadata": {},
   "source": [
    "the mkflat() method works similarly. For flats, the images are normalized before combining, using the region specified in the instrument configuration file. <br>\n",
    "There is an optional spec= keyword, which, if set to true, will remove the shape in the spectral dimension for a spectroscopic instrument (note that the spectral dimension is along columns unless transpose is specified in the configuration file)"
   ]
  },
  {
   "cell_type": "code",
   "execution_count": 20,
   "metadata": {},
   "outputs": [
    {
     "name": "stdout",
     "output_type": "stream",
     "text": [
      "  Reading file: /home/holtz/red/UT211030/kosmos/flat.0018.fits\n",
      "  subtracting overscan vector \n",
      "  subtracting overscan vector \n",
      "  Reading file: /home/holtz/red/UT211030/kosmos/flat.0019.fits\n",
      "  subtracting overscan vector \n",
      "  subtracting overscan vector \n",
      "  Reading file: /home/holtz/red/UT211030/kosmos/flat.0020.fits\n",
      "  subtracting overscan vector \n",
      "  subtracting overscan vector \n",
      "  Reading file: /home/holtz/red/UT211030/kosmos/flat.0021.fits\n",
      "  subtracting overscan vector \n",
      "  subtracting overscan vector \n",
      "  Reading file: /home/holtz/red/UT211030/kosmos/flat.0022.fits\n",
      "  subtracting overscan vector \n",
      "  subtracting overscan vector \n",
      "  combining data with median....\n",
      "  calculating uncertainty....\n",
      "  Reading file: /home/holtz/red/UT211030/kosmos/flat.0018.fits\n",
      "  subtracting overscan vector \n",
      "  subtracting overscan vector \n",
      "  Reading file: /home/holtz/red/UT211030/kosmos/flat.0019.fits\n",
      "  subtracting overscan vector \n",
      "  subtracting overscan vector \n",
      "  Reading file: /home/holtz/red/UT211030/kosmos/flat.0020.fits\n",
      "  subtracting overscan vector \n",
      "  subtracting overscan vector \n",
      "  Reading file: /home/holtz/red/UT211030/kosmos/flat.0021.fits\n",
      "  subtracting overscan vector \n",
      "  subtracting overscan vector \n",
      "  Reading file: /home/holtz/red/UT211030/kosmos/flat.0022.fits\n",
      "  subtracting overscan vector \n",
      "  subtracting overscan vector \n",
      "  combining data with median....\n",
      "  calculating uncertainty....\n"
     ]
    }
   ],
   "source": [
    "flat=red.mkflat(range(18,23),display=t,spec=False)\n",
    "sflat=red.mkflat(range(18,23),display=t,spec=True)\n",
    "if t is not None :\n",
    "    t.tv(flat,min=0.5,max=1.5)\n",
    "    t.tv(sflat,min=0.8,max=1.2)"
   ]
  },
  {
   "cell_type": "markdown",
   "metadata": {},
   "source": [
    "Use the +/- keys to switch back and forth to see the two displayed flats."
   ]
  },
  {
   "cell_type": "markdown",
   "metadata": {},
   "source": [
    "<h3>ARCTIC darks\n"
   ]
  },
  {
   "cell_type": "markdown",
   "metadata": {},
   "source": [
    "Here's an example of using the mkdark() method to make some ARCTIC darks."
   ]
  },
  {
   "cell_type": "code",
   "execution_count": 21,
   "metadata": {},
   "outputs": [
    {
     "name": "stdout",
     "output_type": "stream",
     "text": [
      "INSTRUMENT: ARCTIC   config: quad\n",
      "  will use format:  /home/holtz/red/UT211031/ARCTIC/*{:04d}.f*.fits*\n",
      "         gain:  [2.0]    rn: [ 3.7]\n",
      "         scale:  0.228   \n",
      "  Biastype : 1\n",
      "  Bias box: \n",
      "    SC    NC    SR    NR\n",
      "  1026    26    20   981 \n",
      "  1026    26  1050   979 \n",
      "  1052    24    20   981 \n",
      "  1052    24  1050   979 \n",
      "  Trim box: \n",
      "    SC    NC    SR    NR\n",
      "     2  1024     0  1024 \n",
      "     2  1024  1026  1024 \n",
      "  1076  1024     0  1024 \n",
      "  1076  1024  1026  1024 \n",
      "  Norm box: \n",
      "    SC    NC    SR    NR\n",
      "   800   201   800   201 \n",
      "  Reading file: /home/holtz/red/UT211031/ARCTIC/dark120.0110.fits\n",
      "  subtracting overscan vector \n",
      "  subtracting overscan vector \n",
      "  subtracting overscan vector \n",
      "  subtracting overscan vector \n",
      "  Reading file: /home/holtz/red/UT211031/ARCTIC/dark120.0111.fits\n",
      "  subtracting overscan vector \n",
      "  subtracting overscan vector \n",
      "  subtracting overscan vector \n",
      "  subtracting overscan vector \n",
      "  Reading file: /home/holtz/red/UT211031/ARCTIC/dark120.0112.fits\n",
      "  subtracting overscan vector \n",
      "  subtracting overscan vector \n",
      "  subtracting overscan vector \n",
      "  subtracting overscan vector \n",
      "  Reading file: /home/holtz/red/UT211031/ARCTIC/dark120.0113.fits\n",
      "  subtracting overscan vector \n",
      "  subtracting overscan vector \n",
      "  subtracting overscan vector \n",
      "  subtracting overscan vector \n",
      "  Reading file: /home/holtz/red/UT211031/ARCTIC/dark120.0114.fits\n",
      "  subtracting overscan vector \n",
      "  subtracting overscan vector \n",
      "  subtracting overscan vector \n",
      "  subtracting overscan vector \n",
      "  Reading file: /home/holtz/red/UT211031/ARCTIC/dark120.0115.fits\n",
      "  subtracting overscan vector \n",
      "  subtracting overscan vector \n",
      "  subtracting overscan vector \n",
      "  subtracting overscan vector \n",
      "  Reading file: /home/holtz/red/UT211031/ARCTIC/dark120.0116.fits\n",
      "  subtracting overscan vector \n",
      "  subtracting overscan vector \n",
      "  subtracting overscan vector \n",
      "  subtracting overscan vector \n",
      "  Reading file: /home/holtz/red/UT211031/ARCTIC/dark120.0117.fits\n",
      "  subtracting overscan vector \n",
      "  subtracting overscan vector \n",
      "  subtracting overscan vector \n",
      "  subtracting overscan vector \n",
      "  Reading file: /home/holtz/red/UT211031/ARCTIC/dark120.0118.fits\n",
      "  subtracting overscan vector \n",
      "  subtracting overscan vector \n",
      "  subtracting overscan vector \n",
      "  subtracting overscan vector \n",
      "  Reading file: /home/holtz/red/UT211031/ARCTIC/dark120.0119.fits\n",
      "  subtracting overscan vector \n",
      "  subtracting overscan vector \n",
      "  subtracting overscan vector \n",
      "  subtracting overscan vector \n",
      "  combining data with median....\n",
      "  calculating uncertainty....\n"
     ]
    }
   ],
   "source": [
    "ared=imred.Reducer('ARCTIC',conf='quad',dir='/home/holtz/red/UT211031/ARCTIC')\n",
    "dark=ared.mkdark(range(110,120))"
   ]
  },
  {
   "cell_type": "markdown",
   "metadata": {},
   "source": [
    "For darks, there is an optional keyword clip=$n$, which will set to zero those pixels who are within $n $times the uncertainty above zero"
   ]
  },
  {
   "cell_type": "code",
   "execution_count": 22,
   "metadata": {},
   "outputs": [
    {
     "name": "stdout",
     "output_type": "stream",
     "text": [
      "  Reading file: /home/holtz/red/UT211031/ARCTIC/dark120.0110.fits\n",
      "  subtracting overscan vector \n",
      "  subtracting overscan vector \n",
      "  subtracting overscan vector \n",
      "  subtracting overscan vector \n",
      "  Reading file: /home/holtz/red/UT211031/ARCTIC/dark120.0111.fits\n",
      "  subtracting overscan vector \n",
      "  subtracting overscan vector \n",
      "  subtracting overscan vector \n",
      "  subtracting overscan vector \n",
      "  Reading file: /home/holtz/red/UT211031/ARCTIC/dark120.0112.fits\n",
      "  subtracting overscan vector \n",
      "  subtracting overscan vector \n",
      "  subtracting overscan vector \n",
      "  subtracting overscan vector \n",
      "  Reading file: /home/holtz/red/UT211031/ARCTIC/dark120.0113.fits\n",
      "  subtracting overscan vector \n",
      "  subtracting overscan vector \n",
      "  subtracting overscan vector \n",
      "  subtracting overscan vector \n",
      "  Reading file: /home/holtz/red/UT211031/ARCTIC/dark120.0114.fits\n",
      "  subtracting overscan vector \n",
      "  subtracting overscan vector \n",
      "  subtracting overscan vector \n",
      "  subtracting overscan vector \n",
      "  Reading file: /home/holtz/red/UT211031/ARCTIC/dark120.0115.fits\n",
      "  subtracting overscan vector \n",
      "  subtracting overscan vector \n",
      "  subtracting overscan vector \n",
      "  subtracting overscan vector \n",
      "  Reading file: /home/holtz/red/UT211031/ARCTIC/dark120.0116.fits\n",
      "  subtracting overscan vector \n",
      "  subtracting overscan vector \n",
      "  subtracting overscan vector \n",
      "  subtracting overscan vector \n",
      "  Reading file: /home/holtz/red/UT211031/ARCTIC/dark120.0117.fits\n",
      "  subtracting overscan vector \n",
      "  subtracting overscan vector \n",
      "  subtracting overscan vector \n",
      "  subtracting overscan vector \n",
      "  Reading file: /home/holtz/red/UT211031/ARCTIC/dark120.0118.fits\n",
      "  subtracting overscan vector \n",
      "  subtracting overscan vector \n",
      "  subtracting overscan vector \n",
      "  subtracting overscan vector \n",
      "  Reading file: /home/holtz/red/UT211031/ARCTIC/dark120.0119.fits\n",
      "  subtracting overscan vector \n",
      "  subtracting overscan vector \n",
      "  subtracting overscan vector \n",
      "  subtracting overscan vector \n",
      "  combining data with median....\n",
      "  calculating uncertainty....\n"
     ]
    }
   ],
   "source": [
    "if t is not None :\n",
    "    t.tv(dark)\n",
    "dark2=ared.mkdark(range(110,120),clip=3)\n",
    "if t is not None :\n",
    "    t.tv(dark2)"
   ]
  },
  {
   "cell_type": "markdown",
   "metadata": {},
   "source": [
    "Here, we'll reduce a dark with and without the combined dark and display them."
   ]
  },
  {
   "cell_type": "code",
   "execution_count": 23,
   "metadata": {},
   "outputs": [
    {
     "ename": "SyntaxError",
     "evalue": "invalid syntax (4207104084.py, line 1)",
     "output_type": "error",
     "traceback": [
      "\u001b[0;36m  Input \u001b[0;32mIn [23]\u001b[0;36m\u001b[0m\n\u001b[0;31m    if t is no None :\u001b[0m\n\u001b[0m               ^\u001b[0m\n\u001b[0;31mSyntaxError\u001b[0m\u001b[0;31m:\u001b[0m invalid syntax\n"
     ]
    }
   ],
   "source": [
    "if t is no None :\n",
    "    t.tv(dark,min=-10,max=20)\n",
    "    t.tv(ared.reduce(110),min=-10,max=20)\n",
    "    t.tv(ared.reduce(110,dark=dark),min=-10,max=20)"
   ]
  },
  {
   "cell_type": "markdown",
   "metadata": {},
   "source": [
    "<h3>TMO flats"
   ]
  },
  {
   "cell_type": "markdown",
   "metadata": {},
   "source": [
    "Here's an example of making flat fields for TMO"
   ]
  },
  {
   "cell_type": "code",
   "execution_count": 24,
   "metadata": {},
   "outputs": [
    {
     "name": "stdout",
     "output_type": "stream",
     "text": [
      "INSTRUMENT: TM61   config: \n",
      "  will use format:  /home/tmo/20211020/* {:d}.f*.fits*\n",
      "         gain:  [0.8]    rn: [ 10.]\n",
      "         scale:  0.44   \n",
      "  Biastype : 0\n",
      "  Bias box: \n",
      "    SC    NC    SR    NR\n",
      "   100  4601  3195    11 \n",
      "  Trim box: \n",
      "    SC    NC    SR    NR\n",
      "     0  4800     0  3194 \n",
      "  Norm box: \n",
      "    SC    NC    SR    NR\n",
      "  1200   801  2000   801 \n",
      "  Reading file: /home/tmo/20211020/Flat_20211020_124812_Dawn_SG_2_003_T1.fts\n",
      "  subtracting overscan:  509.238\n",
      "  Reading file: /home/tmo/20211020/Flat_20211020_124751_Dawn_SG_2_002_T1.fts\n",
      "  subtracting overscan:  509.171\n",
      "  Reading file: /home/tmo/20211020/Flat_20211020_123408_Dawn_SG_2_001_T1.fts\n",
      "  subtracting overscan:  508.502\n",
      "  combining data with median....\n",
      "  calculating uncertainty....\n",
      "appending uncertainty\n",
      "appending bitmask\n",
      "  Reading file: /home/tmo/20211020/Flat_20211020_125246_Dawn_SR_2_003_T1.fts\n",
      "  subtracting overscan:  508.761\n",
      "  Reading file: /home/tmo/20211020/Flat_20211020_125327_Dawn_SR_2_005_T1.fts\n",
      "  subtracting overscan:  509.679\n",
      "  Reading file: /home/tmo/20211020/Flat_20211020_125225_Dawn_SR_2_002_T1.fts\n",
      "  subtracting overscan:  509.125\n",
      "  Reading file: /home/tmo/20211020/Flat_20211020_124840_Dawn_SR_2_001_T1.fts\n",
      "  subtracting overscan:  509.128\n",
      "  Reading file: /home/tmo/20211020/Flat_20211020_125306_Dawn_SR_2_004_T1.fts\n",
      "  subtracting overscan:  509.114\n",
      "  combining data with median....\n",
      "  calculating uncertainty....\n",
      "appending uncertainty\n",
      "appending bitmask\n",
      "  Reading file: /home/tmo/20211020/Flat_20211020_125356_Dawn_SI_2_001_T1.fts\n",
      "  subtracting overscan:  509.057\n",
      "  Reading file: /home/tmo/20211020/Flat_20211020_125455_Dawn_SI_2_003_T1.fts\n",
      "  subtracting overscan:  508.837\n",
      "  Reading file: /home/tmo/20211020/Flat_20211020_125434_Dawn_SI_2_002_T1.fts\n",
      "  subtracting overscan:  509.013\n",
      "  combining data with median....\n",
      "  calculating uncertainty....\n",
      "appending uncertainty\n",
      "appending bitmask\n",
      "  Reading file: /home/tmo/20211020/Flat_20211020_125734_Dawn_SZ_2_002_T1.fts\n",
      "  subtracting overscan:  509.025\n",
      "  Reading file: /home/tmo/20211020/Flat_20211020_125756_Dawn_SZ_2_003_T1.fts\n",
      "  subtracting overscan:  509.014\n",
      "  Reading file: /home/tmo/20211020/Flat_20211020_125523_Dawn_SZ_2_001_T1.fts\n",
      "  subtracting overscan:  508.999\n",
      "  combining data with median....\n",
      "  calculating uncertainty....\n",
      "appending uncertainty\n",
      "appending bitmask\n",
      "  Reading file: /home/tmo/20211020/Flat_20211020_125822_Dawn_SU_2_001_T1.fts\n",
      "  subtracting overscan:  508.845\n",
      "  Reading file: /home/tmo/20211020/Flat_20211020_130243_Dawn_SU_2_002_T1.fts\n",
      "  subtracting overscan:  509.019\n",
      "  Reading file: /home/tmo/20211020/Flat_20211020_130304_Dawn_SU_2_003_T1.fts\n",
      "  subtracting overscan:  509.278\n",
      "  combining data with median....\n",
      "  calculating uncertainty....\n",
      "appending uncertainty\n",
      "appending bitmask\n",
      "  Reading file: /home/tmo/20211020/Flat_20211020_130648_Dawn_Halpha_2_002_T1.fts\n",
      "  subtracting overscan:  508.879\n",
      "  Reading file: /home/tmo/20211020/Flat_20211020_130709_Dawn_Halpha_2_003_T1.fts\n",
      "  subtracting overscan:  508.594\n",
      "  Reading file: /home/tmo/20211020/Flat_20211020_130328_Dawn_Halpha_2_001_T1.fts\n",
      "  subtracting overscan:  509.157\n",
      "  combining data with median....\n",
      "  calculating uncertainty....\n",
      "appending uncertainty\n",
      "appending bitmask\n"
     ]
    }
   ],
   "source": [
    "tred=imred.Reducer('TM61',dir='/home/tmo/20211020')\n",
    "for filt in (['SG','SR','SI','SZ','SU','Halpha']) :\n",
    "  flats=glob.glob(tred.dir+'/*Dawn_'+filt+'*')\n",
    "  flat=tred.mkflat(flats,display=t)\n",
    "  flat.write(filt+'flat.fits',overwrite=True)\n",
    "\n"
   ]
  },
  {
   "cell_type": "code",
   "execution_count": null,
   "metadata": {},
   "outputs": [],
   "source": []
  }
 ],
 "metadata": {
  "kernelspec": {
   "display_name": "Python 3 (ipykernel)",
   "language": "python",
   "name": "python3"
  },
  "language_info": {
   "codemirror_mode": {
    "name": "ipython",
    "version": 3
   },
   "file_extension": ".py",
   "mimetype": "text/x-python",
   "name": "python",
   "nbconvert_exporter": "python",
   "pygments_lexer": "ipython3",
   "version": "3.9.9"
  }
 },
 "nbformat": 4,
 "nbformat_minor": 4
}
