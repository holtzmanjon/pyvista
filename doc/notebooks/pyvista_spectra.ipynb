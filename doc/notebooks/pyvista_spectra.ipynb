{
 "cells": [
  {
   "cell_type": "markdown",
   "metadata": {},
   "source": [
    "<h2> Spectroscopic data reduction : spectra module"
   ]
  },
  {
   "cell_type": "markdown",
   "metadata": {},
   "source": [
    "<b><i> This is an older, mostly obsolete notebook. See notebooks for KOSMOS, ARCES, and DIS instead. Here there is a small TSPEC section saved until a full TSPEC notebook is developed"
   ]
  },
  {
   "cell_type": "code",
   "execution_count": 1,
   "metadata": {},
   "outputs": [],
   "source": [
    "%matplotlib qt\n",
    "from pyvista import imred, tv, spectra\n",
    "import pyvista.data\n",
    "from importlib_resources import files\n",
    "import numpy as np\n",
    "import matplotlib.pyplot as plt\n",
    "import os"
   ]
  },
  {
   "cell_type": "markdown",
   "metadata": {},
   "source": [
    "Set up a reducer and tv object"
   ]
  },
  {
   "cell_type": "code",
   "execution_count": 59,
   "metadata": {},
   "outputs": [
    {
     "name": "stdout",
     "output_type": "stream",
     "text": [
      "INSTRUMENT: KOSMOS   config: \n",
      "  will use format:  /home/holtz/raw/apo/oct21/Q4NM01/UT211030/kosmos/*{:04d}.fits*\n",
      "         gain:  [0.6]    rn: [5.]\n",
      "         scale:  None   \n",
      "  Biastype : 1\n",
      "  Bias box: \n",
      "    SC    NC    SR    NR\n",
      "  2055    43    20  4056 \n",
      "  2105    43    20  4056 \n",
      "  Trim box: \n",
      "    SC    NC    SR    NR\n",
      "     0  2048     0  4096 \n",
      "     0  2048     0  4096 \n",
      "  Norm box: \n",
      "    SC    NC    SR    NR\n",
      "  1000    51  2000    51 \n"
     ]
    }
   ],
   "source": [
    "red=imred.Reducer('KOSMOS',dir='/home/holtz/raw/apo/oct21/Q4NM01/UT211030/kosmos')\n",
    "t=tv.TV()"
   ]
  },
  {
   "cell_type": "markdown",
   "metadata": {},
   "source": [
    "Make flat field, and remove spectral shape (spec=True)"
   ]
  },
  {
   "cell_type": "code",
   "execution_count": 3,
   "metadata": {},
   "outputs": [
    {
     "name": "stdout",
     "output_type": "stream",
     "text": [
      "  Reading file: /home/holtz/raw/apo/oct21/Q4NM01/UT211030/kosmos/flat.0018.fits\n",
      "  subtracting overscan vector \n",
      "  subtracting overscan vector \n",
      "  Reading file: /home/holtz/raw/apo/oct21/Q4NM01/UT211030/kosmos/flat.0019.fits\n",
      "  subtracting overscan vector \n",
      "  subtracting overscan vector \n",
      "  Reading file: /home/holtz/raw/apo/oct21/Q4NM01/UT211030/kosmos/flat.0020.fits\n",
      "  subtracting overscan vector \n",
      "  subtracting overscan vector \n",
      "  Reading file: /home/holtz/raw/apo/oct21/Q4NM01/UT211030/kosmos/flat.0021.fits\n",
      "  subtracting overscan vector \n",
      "  subtracting overscan vector \n",
      "  Reading file: /home/holtz/raw/apo/oct21/Q4NM01/UT211030/kosmos/flat.0022.fits\n",
      "  subtracting overscan vector \n",
      "  subtracting overscan vector \n",
      "  combining data with median....\n",
      "  calculating uncertainty....\n",
      "  See final image, use - key for S/N image.\n",
      "   To continue, hit space in display window (p for debug) \n",
      "    see image: 18 divided by master\n",
      "   To continue, hit space in display window (p for debug) \n",
      "    see image: 19 divided by master\n",
      "   To continue, hit space in display window (p for debug) \n",
      "    see image: 20 divided by master\n",
      "   To continue, hit space in display window (p for debug) \n",
      "    see image: 21 divided by master\n",
      "   To continue, hit space in display window (p for debug) \n",
      "    see image: 22 divided by master\n",
      "   To continue, hit space in display window (p for debug) \n"
     ]
    },
    {
     "name": "stderr",
     "output_type": "stream",
     "text": [
      "/home/local/Anaconda3-2020.02/lib/python3.7/site-packages/numpy/core/fromnumeric.py:746: UserWarning: Warning: 'partition' will ignore the 'mask' of the MaskedArray.\n",
      "  a.partition(kth, axis=axis, kind=kind, order=order)\n"
     ]
    }
   ],
   "source": [
    "flat=red.mkflat([18,19,20,21,22],spec=True,display=t)"
   ]
  },
  {
   "cell_type": "markdown",
   "metadata": {},
   "source": [
    "Read and display a star spectral image"
   ]
  },
  {
   "cell_type": "code",
   "execution_count": 60,
   "metadata": {},
   "outputs": [
    {
     "name": "stdout",
     "output_type": "stream",
     "text": [
      "  Reading file: /home/holtz/raw/apo/oct21/Q4NM01/UT211030/kosmos/BD28d4211.0011.fits\n",
      "  subtracting overscan vector \n",
      "  subtracting overscan vector \n"
     ]
    }
   ],
   "source": [
    "star=red.reduce(11)\n",
    "t.tv(star,max=10000)"
   ]
  },
  {
   "cell_type": "markdown",
   "metadata": {},
   "source": [
    "We want to extract the spectrum, i.e. from the 2D image to a 1D spectrum. Start by defining a trace that is just constant along rows, and extract the spectrum with a 25 pixel window."
   ]
  },
  {
   "cell_type": "code",
   "execution_count": 61,
   "metadata": {},
   "outputs": [
    {
     "name": "stdout",
     "output_type": "stream",
     "text": [
      "  See extraction window(s). Hit space bar to continue....\n",
      "\n"
     ]
    }
   ],
   "source": [
    "# here we set a trace to be at a constant position on the detector\n",
    "t.clear()\n",
    "def model(x) : return(np.zeros(len(x))+940)\n",
    "trace=spectra.Trace(rows=[550,1450],lags=range(-300,300),model=[model])\n",
    "starec=trace.extract(red.imtranspose(star),plot=t,rad=25)"
   ]
  },
  {
   "cell_type": "markdown",
   "metadata": {},
   "source": [
    "Inspection of the trace and window shows that the stellar spectrum is not perfectly horizontal. So we will trace out its location (row as a function of column), and extract around that trace."
   ]
  },
  {
   "cell_type": "code",
   "execution_count": 62,
   "metadata": {},
   "outputs": [
    {
     "name": "stdout",
     "output_type": "stream",
     "text": [
      "  Tracing row: 940\r"
     ]
    },
    {
     "name": "stderr",
     "output_type": "stream",
     "text": [
      "/home/holtz/git/pyvista/python/pyvista/spectra.py:710: RuntimeWarning: invalid value encountered in true_divide\n",
      "  res = model(cols)-ypos\n",
      "/home/holtz/git/pyvista/python/pyvista/spectra.py:710: RuntimeWarning: invalid value encountered in greater\n",
      "  res = model(cols)-ypos\n",
      "/home/holtz/git/pyvista/python/pyvista/spectra.py:715: RuntimeWarning: invalid value encountered in true_divide\n",
      "  #model=copy.copy(oldmodel[irow])\n",
      "/home/holtz/git/pyvista/python/pyvista/spectra.py:715: RuntimeWarning: invalid value encountered in greater\n",
      "  #model=copy.copy(oldmodel[irow])\n"
     ]
    },
    {
     "name": "stdout",
     "output_type": "stream",
     "text": [
      "\n",
      "  See trace. Hit space bar to continue....\n",
      "  See extraction window(s). Hit space bar to continue....\n",
      "\n"
     ]
    }
   ],
   "source": [
    "# here we solve for the trace using a star images\n",
    "trace.trace(red.imtranspose(star),[940],sc0=2048,plot=t)\n",
    "starec=trace.extract(red.imtranspose(star),plot=t,rad=25)"
   ]
  },
  {
   "cell_type": "markdown",
   "metadata": {},
   "source": [
    "Now let's turn to wavelength calibration, i.e. getting a function that gives the wavelength as a function of pixel. We'll solve for this using arc frames, here taken with each lamp separately, so sum the three exposures"
   ]
  },
  {
   "cell_type": "code",
   "execution_count": 63,
   "metadata": {},
   "outputs": [
    {
     "name": "stdout",
     "output_type": "stream",
     "text": [
      "  Reading file: /home/holtz/raw/apo/oct21/Q4NM01/UT211030/kosmos/He.0015.fits\n",
      "  subtracting overscan vector \n",
      "  subtracting overscan vector \n",
      "  Reading file: /home/holtz/raw/apo/oct21/Q4NM01/UT211030/kosmos/Ne.0016.fits\n",
      "  subtracting overscan vector \n",
      "  subtracting overscan vector \n",
      "  Reading file: /home/holtz/raw/apo/oct21/Q4NM01/UT211030/kosmos/Ar.0017.fits\n",
      "  subtracting overscan vector \n",
      "  subtracting overscan vector \n"
     ]
    }
   ],
   "source": [
    "#Frame 15 is He, 16 is Ne, and 17 is Ar\n",
    "arcs=red.sum([15,16,17])\n",
    "t.clear()\n",
    "t.tv(arcs)"
   ]
  },
  {
   "cell_type": "code",
   "execution_count": 64,
   "metadata": {},
   "outputs": [
    {
     "name": "stdout",
     "output_type": "stream",
     "text": [
      "  See extraction window(s). Hit space bar to continue....\n",
      "\n"
     ]
    }
   ],
   "source": [
    "arcec=trace.extract(red.imtranspose(arcs),plot=t,rad=20)"
   ]
  },
  {
   "cell_type": "code",
   "execution_count": 9,
   "metadata": {},
   "outputs": [],
   "source": [
    "#Rhis cell translates old pickle file to fits\n",
    "\n",
    "#traces=pickle.load(open(files(pyvista.data).joinpath('KOSMOS/KOSMOS_traces.pkl'),'rb'))\n",
    "#traces[0][0].degree=traces[0][0].order\n",
    "#traces[0][0].spectrum=traces[0][0].spectrum.data\n",
    "#traces[0][0].type='Polynomial1D'\n",
    "#coeffs=[]\n",
    "#for m in traces[0][0].model :\n",
    "#    coeffs.append([m.c0.value,m.c1.value,m.c2.value])\n",
    "#traces[0][0].coeffs = np.array(coeffs)\n",
    "\n",
    "#tab=traces[0][0].write(files(pyvista.data).joinpath('KOSMOS/KOSMOS_traces.fits'))\n"
   ]
  },
  {
   "cell_type": "markdown",
   "metadata": {},
   "source": [
    "Wavelength calibration first stars with identifying lines. This is much easier if one can work from a previous solution. Here we start by reading a previous solution into a pyvista WaveCal object."
   ]
  },
  {
   "cell_type": "code",
   "execution_count": 66,
   "metadata": {},
   "outputs": [
    {
     "name": "stdout",
     "output_type": "stream",
     "text": [
      "doing wavelength fit\n",
      "  rms:    0.076 Angstroms\n"
     ]
    }
   ],
   "source": [
    "trace=spectra.Trace(file=files(pyvista.data).joinpath('KOSMOS/KOSMOS_traces.fits'))\n",
    "#wav=pickle.load(open(files(pyvista.data).joinpath('KOSMOS/KOSMOS_blue_waves.pkl'),'rb'))\n",
    "wav=spectra.WaveCal(file=files(pyvista.data).joinpath('KOSMOS/KOSMOS_red_waves.fits'))"
   ]
  },
  {
   "cell_type": "code",
   "execution_count": 67,
   "metadata": {},
   "outputs": [],
   "source": [
    "#wav[0][0].write(files(pyvista.data).joinpath('KOSMOS/KOSMOS_blue_waves.fits'))\n",
    "\n",
    "#tmp=spectra.WaveCal(file=files(pyvista.data).joinpath('KOSMOS/KOSMOS_blue_waves.fits'))\n",
    "\n",
    "#vars(tmp)\n",
    "#wav[0][0]=tmp"
   ]
  },
  {
   "cell_type": "markdown",
   "metadata": {},
   "source": [
    "With a previous solution loaded, the identify routine will cross correlate the input spectrum with the previous solution, then attempt to identify the lines from the previous solution at the shifted pixel position from the previous solution. Finally, it does a fit."
   ]
  },
  {
   "cell_type": "code",
   "execution_count": 68,
   "metadata": {},
   "outputs": [
    {
     "name": "stdout",
     "output_type": "stream",
     "text": [
      "  cross correlating with reference spectrum using lags:  range(-300, 300)\n",
      "  Derived pixel shift from input wcal:  [0.14880354]\n",
      "  See identified lines. Hit space bar in plot window to continue....\n",
      "doing wavelength fit\n",
      "  rms:    0.125 Angstroms\n",
      "  Input in plot window: \n",
      "       l : to remove all lines to left of cursor\n",
      "       r : to remove all lines to right of cursor\n",
      "       n : to remove line nearest cursor x position\n",
      "       anything else : finish and return\n",
      "  rms:    0.125 Anstroms\n",
      "  input from plot window...\n",
      "1 5886.656749000611\n",
      "  rms:    0.073 Anstroms\n",
      "  input from plot window...\n",
      "\n"
     ]
    }
   ],
   "source": [
    "fig,ax=plots.multi(1,2,figsize=(12,6))\n",
    "wav.identify(arcec,plot=fig,rad=10)"
   ]
  },
  {
   "cell_type": "markdown",
   "metadata": {},
   "source": [
    "The previous wavelength file we read in set the model to be a 3rd order Chebyshev polynomial. Is this order needed?"
   ]
  },
  {
   "cell_type": "code",
   "execution_count": 70,
   "metadata": {},
   "outputs": [
    {
     "name": "stdout",
     "output_type": "stream",
     "text": [
      "doing wavelength fit\n",
      "  rms:    0.136 Angstroms\n",
      "  Input in plot window: \n",
      "       l : to remove all lines to left of cursor\n",
      "       r : to remove all lines to right of cursor\n",
      "       n : to remove line nearest cursor x position\n",
      "       anything else : finish and return\n",
      "  rms:    0.073 Anstroms\n",
      "  input from plot window...\n"
     ]
    }
   ],
   "source": [
    "wav.fit(degree=3)"
   ]
  },
  {
   "cell_type": "markdown",
   "metadata": {},
   "source": [
    "We can get the rough dispersion from the first order coefficient. However, the astropy routines map the pixels of the fit lines to the range [-1,1], so we need to account for that to get A/pixel from the first order coefficient"
   ]
  },
  {
   "cell_type": "code",
   "execution_count": 15,
   "metadata": {},
   "outputs": [
    {
     "name": "stdout",
     "output_type": "stream",
     "text": [
      "domain [350.1212149849779, 3088.243128125736]\n",
      "window [-1, 1]\n",
      "_degree 3\n",
      "_order 4\n",
      "_param_names ('c0', 'c1', 'c2', 'c3')\n",
      "_inputs ('x',)\n",
      "_outputs ('y',)\n",
      "_name None\n",
      "c0 Parameter('c0', value=7243.233233332454)\n",
      "c1 Parameter('c1', value=-1413.790403804372)\n",
      "c2 Parameter('c2', value=17.022500481622853)\n",
      "c3 Parameter('c3', value=5.9966694899777675)\n",
      "_mconstraints {'eqcons': [], 'ineqcons': []}\n",
      "_model_set_axis False\n",
      "_param_metrics defaultdict(<class 'dict'>, {'c0': {'slice': slice(0, 1, None), 'shape': (), 'size': 1}, 'c1': {'slice': slice(1, 2, None), 'shape': (), 'size': 1}, 'c2': {'slice': slice(2, 3, None), 'shape': (), 'size': 1}, 'c3': {'slice': slice(3, 4, None), 'shape': (), 'size': 1}})\n",
      "_n_models 1\n",
      "_parameters [ 7.24323323e+03 -1.41379040e+03  1.70225005e+01  5.99666949e+00]\n",
      "_input_units_strict {'x': False}\n",
      "_input_units_allow_dimensionless {'x': False}\n",
      "rough dispersion:  -1.0326716257733655\n"
     ]
    }
   ],
   "source": [
    "# approximate dispersion\n",
    "for key,value in vars(wav.model).items() :\n",
    "    print(key,value)\n",
    "domain=wav.model.domain[1]-wav.model.domain[0]\n",
    "window=wav.model.window[1]-wav.model.window[0]\n",
    "print('rough dispersion: ',wav.model.c1/(domain/window))"
   ]
  },
  {
   "cell_type": "markdown",
   "metadata": {},
   "source": [
    "The identify() method fits Gaussians to the lines to get their position, and gets FWHM in the process. Plot the FWHM of the lines as a function of wavelength"
   ]
  },
  {
   "cell_type": "code",
   "execution_count": 16,
   "metadata": {},
   "outputs": [
    {
     "data": {
      "text/plain": [
       "[<matplotlib.lines.Line2D at 0x2b98f686c510>]"
      ]
     },
     "execution_count": 16,
     "metadata": {},
     "output_type": "execute_result"
    }
   ],
   "source": [
    "wav.fwhm\n",
    "t.plotax2.cla()\n",
    "t.plotax2.plot(wav.waves,np.abs(wav.fwhm),'ro')"
   ]
  },
  {
   "cell_type": "markdown",
   "metadata": {},
   "source": [
    "If se didn't have a previous solution, we can start by identifying a couple of lines and using them to calculate an approximate dispersion and one (wave,pixel) pair. Here, we'll cheat and use two lines from the previous solution.\n",
    "<img src=henear.png>"
   ]
  },
  {
   "cell_type": "code",
   "execution_count": 17,
   "metadata": {},
   "outputs": [
    {
     "name": "stdout",
     "output_type": "stream",
     "text": [
      "5852.4878 3088 8424.647 582\n"
     ]
    }
   ],
   "source": [
    "w0=wav.waves[0]\n",
    "w1=wav.waves[-5]\n",
    "pix0=int(wav.pix[0])\n",
    "pix1=int(wav.pix[-5])\n",
    "print(w0,pix0,w1,pix1)\n",
    "disp=(w1-w0)/(pix1-pix0)"
   ]
  },
  {
   "cell_type": "markdown",
   "metadata": {},
   "source": [
    "Now, we start a new WaveCal object,try to identify the lines with our initial (wave,pixel) and dispersion estimate, and see how the fit comes out."
   ]
  },
  {
   "cell_type": "code",
   "execution_count": 72,
   "metadata": {},
   "outputs": [
    {
     "name": "stdout",
     "output_type": "stream",
     "text": [
      "  identifying lines in row:  0\r",
      "  See identified lines. Hit space bar in plot window to continue....\n",
      "doing wavelength fit\n",
      "  rms:    7.907 Angstroms\n",
      "  Input in plot window: \n",
      "       l : to remove all lines to left of cursor\n",
      "       r : to remove all lines to right of cursor\n",
      "       n : to remove line nearest cursor x position\n",
      "       anything else : finish and return\n",
      "  rms:    7.907 Anstroms\n"
     ]
    },
    {
     "name": "stderr",
     "output_type": "stream",
     "text": [
      "/home/local/Anaconda3-2020.02/lib/python3.7/site-packages/scipy/optimize/minpack.py:829: OptimizeWarning: Covariance of the parameters could not be estimated\n",
      "  category=OptimizeWarning)\n"
     ]
    },
    {
     "name": "stdout",
     "output_type": "stream",
     "text": [
      "  input from plot window...\n",
      "  rms:    4.984 Anstroms\n",
      "  input from plot window...\n",
      "38 8807.017776012544\n",
      "  rms:    3.489 Anstroms\n",
      "  input from plot window...\n",
      "34 8623.393856988288\n",
      "  rms:    0.083 Anstroms\n",
      "  input from plot window...\n",
      "\n"
     ]
    }
   ],
   "source": [
    "w=spectra.WaveCal(degree=3)\n",
    "w.identify(arcec,wref=[w0,pix0],disp=disp,thresh=100,\n",
    "           plot=fig,pixplot=True,file='henearkr.dat',rad=10)"
   ]
  },
  {
   "cell_type": "markdown",
   "metadata": {},
   "source": [
    "Not very well! However, one can see that there's a good sequence of lines on the red side of the chip, so we can remove all of the others, get a higher order solution from these good ones, and iterate."
   ]
  },
  {
   "cell_type": "code",
   "execution_count": 74,
   "metadata": {},
   "outputs": [
    {
     "name": "stdout",
     "output_type": "stream",
     "text": [
      "  cross correlating with reference spectrum using lags:  range(-300, 300)\n",
      "  Derived pixel shift from input wcal:  [-6.80410039e-09]\n",
      "doing wavelength fitin row:  0\n",
      "  rms:    1.546 Angstroms\n",
      "  Input in plot window: \n",
      "       l : to remove all lines to left of cursor\n",
      "       r : to remove all lines to right of cursor\n",
      "       n : to remove line nearest cursor x position\n",
      "       anything else : finish and return\n",
      "  rms:    1.546 Anstroms\n",
      "  input from plot window...\n",
      "5 5876.664874554946\n",
      "  rms:    1.563 Anstroms\n",
      "  input from plot window...\n",
      "9 5979.265106961306\n",
      "  rms:    1.542 Anstroms\n",
      "  input from plot window...\n",
      "4 5872.3179475709585\n",
      "  rms:    1.353 Anstroms\n",
      "  input from plot window...\n",
      "4 5872.669034694058\n",
      "  rms:    1.353 Anstroms\n",
      "  input from plot window...\n",
      "6 5885.4928486446815\n",
      "  rms:    1.215 Anstroms\n",
      "  input from plot window...\n",
      "3 5868.091394387632\n",
      "  rms:    0.172 Anstroms\n",
      "  input from plot window...\n",
      "0 5009.553786336475\n",
      "  rms:    0.132 Anstroms\n",
      "  input from plot window...\n",
      "7 5943.993561600419\n",
      "  rms:    0.133 Anstroms\n",
      "  input from plot window...\n",
      "8 5952.569037464978\n",
      "  rms:    0.091 Anstroms\n",
      "  input from plot window...\n",
      "\n"
     ]
    }
   ],
   "source": [
    "w.identify(arcec,file='henearkr.dat')"
   ]
  },
  {
   "cell_type": "markdown",
   "metadata": {},
   "source": [
    "OK, now use the wavelength solution to get wavelength as a function of pixel"
   ]
  },
  {
   "cell_type": "code",
   "execution_count": 22,
   "metadata": {},
   "outputs": [
    {
     "data": {
      "text/plain": [
       "[<matplotlib.lines.Line2D at 0x2b990c119c90>]"
      ]
     },
     "execution_count": 22,
     "metadata": {},
     "output_type": "execute_result"
    }
   ],
   "source": [
    "wav.wave(image=arcec.data.shape).shape\n",
    "import matplotlib.pyplot as plt\n",
    "waves=wav.wave(image=arcec.data.shape)[0]\n",
    "\n",
    "# get inverse relation, i.e. pixels as f(wavelength)\n",
    "pix=np.arange(4096)\n",
    "from scipy.interpolate import CubicSpline\n",
    "wav2pix=CubicSpline(np.flip(waves),np.flip(pix))\n",
    "plt.figure()\n",
    "plt.plot(waves)"
   ]
  },
  {
   "cell_type": "markdown",
   "metadata": {},
   "source": [
    "Make plots of He, Ne, and Ar spectra, labelling with wavelength"
   ]
  },
  {
   "cell_type": "code",
   "execution_count": 23,
   "metadata": {},
   "outputs": [
    {
     "name": "stdout",
     "output_type": "stream",
     "text": [
      "  Reading file: /home/holtz/raw/apo/oct21/Q4NM01/UT211030/kosmos/He.0015.fits\n",
      "  subtracting overscan vector \n",
      "  subtracting overscan vector \n",
      "  Reading file: /home/holtz/raw/apo/oct21/Q4NM01/UT211030/kosmos/Ne.0016.fits\n",
      "  subtracting overscan vector \n",
      "  subtracting overscan vector \n",
      "  Reading file: /home/holtz/raw/apo/oct21/Q4NM01/UT211030/kosmos/Ar.0017.fits\n",
      "  subtracting overscan vector \n",
      "  subtracting overscan vector \n",
      "  extracting aperture 0\n",
      "  extracting aperture 0\n",
      "  extracting aperture 0\n"
     ]
    },
    {
     "data": {
      "text/plain": [
       "[<matplotlib.lines.Line2D at 0x2b98f66b0dd0>]"
      ]
     },
     "execution_count": 23,
     "metadata": {},
     "output_type": "execute_result"
    }
   ],
   "source": [
    "#reduce\n",
    "he=red.reduce(15)\n",
    "ne=red.reduce(16)\n",
    "ar=red.reduce(17)\n",
    "#extract\n",
    "heec=trace.extract(red.imtranspose(he),rad=20)\n",
    "neec=trace.extract(red.imtranspose(ne),rad=20)\n",
    "arec=trace.extract(red.imtranspose(ar),rad=20)\n",
    "#plot\n",
    "plt.figure()\n",
    "plt.clf()\n",
    "plt.plot(pix,heec.data[0],color='b',label='He')\n",
    "plt.plot(pix,neec.data[0],color='g',label='Ne')\n",
    "plt.plot(pix,arec.data[0],color='r',label='Ar')"
   ]
  },
  {
   "cell_type": "markdown",
   "metadata": {},
   "source": [
    "Label the lines"
   ]
  },
  {
   "cell_type": "code",
   "execution_count": 24,
   "metadata": {},
   "outputs": [],
   "source": [
    "#line labels\n",
    "for line in wav.waves :\n",
    "    plt.text(wav2pix(line),0,'{:.2f}'.format(line),rotation=90,va='top',ha='center')\n",
    "    \n",
    "#plot limits and axes, and legend\n",
    "plt.ylim(-1.5e6,5e6)\n",
    "frame=plt.gca()\n",
    "frame.axes.get_xaxis().set_visible(True)\n",
    "frame.axes.get_yaxis().set_visible(False)\n",
    "plt.legend()\n",
    "plt.xlabel('Pixel')\n",
    "plt.tight_layout()\n"
   ]
  },
  {
   "cell_type": "markdown",
   "metadata": {},
   "source": [
    "Wavelength calibration for star spectrum"
   ]
  },
  {
   "cell_type": "code",
   "execution_count": 26,
   "metadata": {},
   "outputs": [
    {
     "name": "stdout",
     "output_type": "stream",
     "text": [
      "7896.263307331851\n"
     ]
    },
    {
     "name": "stderr",
     "output_type": "stream",
     "text": [
      "/home/holtz/git/pyvista/python/pyvista/spectra.py:558: RuntimeWarning: invalid value encountered in true_divide\n",
      "  out = out / sig\n",
      "/home/holtz/git/pyvista/python/pyvista/spectra.py:559: RuntimeWarning: divide by zero encountered in true_divide\n",
      "  sig = np.sqrt(1./sig)\n"
     ]
    },
    {
     "data": {
      "text/plain": [
       "[<matplotlib.lines.Line2D at 0x2b98f75f8410>]"
      ]
     },
     "execution_count": 26,
     "metadata": {},
     "output_type": "execute_result"
    }
   ],
   "source": [
    "#plt.figure()\n",
    "plt.clf()\n",
    "plt.plot(waves,starec.data[0])\n",
    "print(1/(5.5e-5*np.log(10)))\n",
    "wnew=10**np.arange(3.5,4.0,5.5e-6)\n",
    "plt.plot(wnew,wav.scomb(starec,wnew).data)"
   ]
  },
  {
   "cell_type": "markdown",
   "metadata": {},
   "source": [
    "<h3> longslit extraction and wavelength calibration"
   ]
  },
  {
   "cell_type": "markdown",
   "metadata": {},
   "source": [
    "For extended objects, and perhaps for sky subtraction, we might want to work along the slit. The wavelength solution varies along the slit (line curvature), usually with more than just an offset."
   ]
  },
  {
   "cell_type": "markdown",
   "metadata": {},
   "source": [
    "Start by working along the slit to identify lines"
   ]
  },
  {
   "cell_type": "code",
   "execution_count": 27,
   "metadata": {},
   "outputs": [
    {
     "name": "stdout",
     "output_type": "stream",
     "text": [
      "  cross correlating with reference spectrum using lags:  [-50 -49 -48 -47 -46 -45 -44 -43 -42 -41 -40 -39 -38 -37 -36 -35 -34 -33\n",
      " -32 -31 -30 -29 -28 -27 -26 -25 -24 -23 -22 -21 -20 -19 -18 -17 -16 -15\n",
      " -14 -13 -12 -11 -10  -9  -8  -7  -6  -5  -4  -3  -2  -1   0   1   2   3\n",
      "   4   5   6   7   8   9  10  11  12  13  14  15  16  17  18  19  20  21\n",
      "  22  23  24  25  26  27  28  29  30  31  32  33  34  35  36  37  38  39\n",
      "  40  41  42  43  44  45  46  47  48  49]\n",
      "  Derived pixel shift from input wcal for row: 899 4\n",
      "  See identified lines. Hit space bar in plot window to continue....\n",
      "\n"
     ]
    }
   ],
   "source": [
    "from pyvista import image\n",
    "arcec=trace.extract2d(red.imtranspose(arcs)) \n",
    "image.smooth(arcec,[5,1])\n",
    "w.identify(spectrum=arcec, rad=3,display=t, plot=fig,\n",
    "              nskip=5,lags=np.arange(-50,50))"
   ]
  },
  {
   "cell_type": "code",
   "execution_count": 28,
   "metadata": {},
   "outputs": [
    {
     "name": "stdout",
     "output_type": "stream",
     "text": [
      "doing wavelength fit\n",
      "  rms:    0.116\n",
      "rejecting 57 points from 6119 total: \n",
      "  rms:    0.109\n",
      "rejecting 60 points from 6119 total: \n",
      "  rms:    0.109\n",
      "rejecting 59 points from 6119 total: \n",
      "  rms:    0.109\n",
      "rejecting 59 points from 6119 total: \n",
      "  See 2D wavecal fit. Hit space bar in plot window to continue....\n"
     ]
    }
   ],
   "source": [
    "w.fit()"
   ]
  },
  {
   "cell_type": "markdown",
   "metadata": {},
   "source": [
    "OK, use the solution to make a wavelength map"
   ]
  },
  {
   "cell_type": "code",
   "execution_count": 29,
   "metadata": {},
   "outputs": [],
   "source": [
    "waves2d=w.wave(image=arcec.data.shape)\n",
    "t.clear()\n",
    "t.tv(waves2d)"
   ]
  },
  {
   "cell_type": "markdown",
   "metadata": {},
   "source": [
    "Subtract out the central wavelength solution to see how the solution varies with row"
   ]
  },
  {
   "cell_type": "code",
   "execution_count": 30,
   "metadata": {},
   "outputs": [],
   "source": [
    "dw=waves2d*0.\n",
    "for row in np.arange(waves2d.shape[0]) :\n",
    "    dw[row] = waves2d[row]-waves2d[450]\n",
    "t.tv(dw)   "
   ]
  },
  {
   "cell_type": "markdown",
   "metadata": {},
   "source": [
    "<h2> ARCES : echelle spectroscopy"
   ]
  },
  {
   "cell_type": "markdown",
   "metadata": {},
   "source": [
    "Set up the reducer"
   ]
  },
  {
   "cell_type": "code",
   "execution_count": 31,
   "metadata": {},
   "outputs": [
    {
     "name": "stdout",
     "output_type": "stream",
     "text": [
      "INSTRUMENT: ARCES   config: \n",
      "  will use format:  UT211031/echelle/*{:04d}.fits*\n",
      "         gain:  [3.8]    rn: [7.]\n",
      "         scale:  None   \n",
      "  Biastype : 0\n",
      "  Bias box: \n",
      "    SC    NC    SR    NR\n",
      "  2075    51    20  2009 \n",
      "  Trim box: \n",
      "    SC    NC    SR    NR\n",
      "     0  2048     0  2048 \n",
      "  Norm box: \n",
      "    SC    NC    SR    NR\n",
      "  1000    51  1000    51 \n"
     ]
    }
   ],
   "source": [
    "red=imred.Reducer('ARCES',dir='UT211031/echelle')"
   ]
  },
  {
   "cell_type": "markdown",
   "metadata": {},
   "source": [
    "Create biases and flats. Note that for flats, we have to do scattered light removal, which can be done on reduction of individual images, but since it is slow, we will do it on the combined flat."
   ]
  },
  {
   "cell_type": "code",
   "execution_count": 32,
   "metadata": {},
   "outputs": [
    {
     "name": "stdout",
     "output_type": "stream",
     "text": [
      "  Reading file: UT211031/echelle/bias.0019.fits\n",
      "  subtracting overscan:  1288.7897402863584\n",
      "  Reading file: UT211031/echelle/bias.0020.fits\n",
      "  subtracting overscan:  1288.5753423320548\n",
      "  Reading file: UT211031/echelle/bias.0021.fits\n",
      "  subtracting overscan:  1288.5232629637221\n",
      "  Reading file: UT211031/echelle/bias.0022.fits\n",
      "  subtracting overscan:  1288.5549244087879\n",
      "  Reading file: UT211031/echelle/bias.0023.fits\n",
      "  subtracting overscan:  1288.9714031954245\n",
      "  Reading file: UT211031/echelle/bias.0024.fits\n",
      "  subtracting overscan:  1289.0347651255624\n",
      "  combining data with median....\n",
      "  calculating uncertainty....\n",
      "  Reading file: UT211031/echelle/flat_red.0005.fits\n",
      "  subtracting overscan:  1287.6691164270587\n",
      "  Reading file: UT211031/echelle/flat_red.0006.fits\n",
      "  subtracting overscan:  1287.7610166017625\n",
      "  Reading file: UT211031/echelle/flat_red.0007.fits\n",
      "  subtracting overscan:  1287.5283284045327\n",
      "  Reading file: UT211031/echelle/flat_red.0008.fits\n",
      "  subtracting overscan:  1287.6828585092574\n",
      "  Reading file: UT211031/echelle/flat_red.0009.fits\n",
      "  subtracting overscan:  1287.3870523819285\n",
      "  Reading file: UT211031/echelle/flat_red.0010.fits\n",
      "  subtracting overscan:  1287.341756214681\n",
      "  Reading file: UT211031/echelle/flat_red.0011.fits\n",
      "  subtracting overscan:  1287.3500522160084\n",
      "  combining data with median....\n",
      "  calculating uncertainty....\n",
      "  Reading file: UT211031/echelle/flat_blue.0012.fits\n",
      "  subtracting overscan:  1288.2055261128842\n",
      "  Reading file: UT211031/echelle/flat_blue.0013.fits\n",
      "  subtracting overscan:  1288.3289510926322\n",
      "  Reading file: UT211031/echelle/flat_blue.0014.fits\n",
      "  subtracting overscan:  1288.3812647010025\n",
      "  Reading file: UT211031/echelle/flat_blue.0015.fits\n",
      "  subtracting overscan:  1288.1140260982443\n",
      "  Reading file: UT211031/echelle/flat_blue.0016.fits\n",
      "  subtracting overscan:  1288.1590880254541\n",
      "  Reading file: UT211031/echelle/flat_blue.0017.fits\n",
      "  subtracting overscan:  1288.6338145014104\n",
      "  Reading file: UT211031/echelle/flat_blue.0018.fits\n",
      "  subtracting overscan:  1288.6242301798768\n",
      "  combining data with median....\n",
      "  calculating uncertainty....\n",
      "  estimating scattered light ...\n",
      "    fitting surface ...\n",
      "    rejecting points ...\n",
      "    refitting surface ...\n",
      "  estimating scattered light ...\n",
      "    fitting surface ...\n",
      "    rejecting points ...\n",
      "    refitting surface ...\n"
     ]
    }
   ],
   "source": [
    "bias=red.mkbias([19,20,21,22,23,24])\n",
    "flat_red=red.mkflat([5,6,7,8,9,10,11])\n",
    "flat_blue=red.mkflat([12,13,14,15,16,17,18])\n",
    "\n",
    "# do scatter after combination to save time\n",
    "red.scatter(flat_red,scat=red.scat)\n",
    "red.scatter(flat_blue,scat=red.scat)"
   ]
  },
  {
   "cell_type": "markdown",
   "metadata": {},
   "source": [
    "Combine the red and blue flats."
   ]
  },
  {
   "cell_type": "code",
   "execution_count": 52,
   "metadata": {},
   "outputs": [],
   "source": [
    "flat=flat_red.multiply(flat_red.header['MEANNORM'])\n",
    "flat.add(flat_blue.multiply(flat_blue.header['MEANNORM']))\n",
    "flat.divide(flat_red.header['MEANNORM']+flat_blue.header['MEANNORM'])\n",
    "t.clear()\n",
    "t.tv(flat_blue)\n",
    "t.tv(flat_red)\n",
    "t.tv(flat)\n",
    "t.tv(flat,sn=True)"
   ]
  },
  {
   "cell_type": "markdown",
   "metadata": {},
   "source": [
    "For tracing and wavelength calibration, we will use previously determined traces and line identification as a first guess."
   ]
  },
  {
   "cell_type": "code",
   "execution_count": null,
   "metadata": {},
   "outputs": [],
   "source": [
    "#this cell translates old pkl file to fits\n",
    "#traces=pickle.load(open(files(pyvista.data).joinpath('ARCES/ARCES_traces.pkl'),'rb'))\n",
    "\n",
    "#traces[0][0].degree=traces[0][0].order\n",
    "#traces[0][0].spectrum=traces[0][0].spectrum.data\n",
    "#traces[0][0].type='Polynomial1D'\n",
    "#coeffs=[]\n",
    "#for m in traces[0][0].model :\n",
    "#    coeffs.append([m.c0.value,m.c1.value,m.c2.value])\n",
    "#traces[0][0].coeffs = np.array(coeffs)\n",
    "#\n",
    "#tab=traces[0][0].write(files(pyvista.data).joinpath('ARCES/ARCES_traces.fits'))\n"
   ]
  },
  {
   "cell_type": "code",
   "execution_count": 34,
   "metadata": {},
   "outputs": [
    {
     "name": "stdout",
     "output_type": "stream",
     "text": [
      "doing wavelength fit\n",
      "  rms:    0.019\n",
      "rejecting 90 points from 3653 total: \n",
      "  rms:    0.019\n",
      "rejecting 90 points from 3653 total: \n"
     ]
    }
   ],
   "source": [
    "from importlib_resources import files\n",
    "traces=spectra.Trace(file=files(pyvista.data).joinpath('ARCES/ARCES_traces.fits'))\n",
    "#wav=pickle.load(open(files(pyvista.data).joinpath('ARCES/ARCES_wave.pkl'),'rb'))\n",
    "wav=spectra.WaveCal(file=files(pyvista.data).joinpath('ARCES/ARCES_wave.fits'))"
   ]
  },
  {
   "cell_type": "code",
   "execution_count": 35,
   "metadata": {},
   "outputs": [],
   "source": [
    "#wav[0][0].write(files(pyvista.data).joinpath('ARCES/ARCES_wave.fits'))\n",
    "#tmp=spectra.WaveCal(file='junk.fits')\n",
    "#vars(tmp)\n",
    "#wav[0][0]=tmp"
   ]
  },
  {
   "cell_type": "markdown",
   "metadata": {},
   "source": [
    "Sum up the arc lamp exposures, get the shift for the existing traces, and extract."
   ]
  },
  {
   "cell_type": "code",
   "execution_count": 36,
   "metadata": {},
   "outputs": [
    {
     "name": "stdout",
     "output_type": "stream",
     "text": [
      "  Reading file: UT211031/echelle/ThAr.0001.fits\n",
      "  subtracting overscan:  1287.781893245103\n",
      "  zapping CRs with filter [5,1]...\n",
      "  Reading file: UT211031/echelle/ThAr.0002.fits\n",
      "  subtracting overscan:  1287.783181565309\n",
      "  zapping CRs with filter [5,1]...\n",
      "  Reading file: UT211031/echelle/ThAr.0003.fits\n",
      "  subtracting overscan:  1287.6101074576172\n",
      "  zapping CRs with filter [5,1]...\n",
      "  Reading file: UT211031/echelle/ThAr.0004.fits\n",
      "  subtracting overscan:  1287.7658966025435\n",
      "  zapping CRs with filter [5,1]...\n",
      "  See spectra and cross-correlation. Hit any key in display window to continue....\n",
      "  See extraction window(s). Hit space bar to continue....\n",
      "\n"
     ]
    }
   ],
   "source": [
    "arc=red.sum([1,2,3,4],crbox=[5,1])\n",
    "traces.find(arc,plot=t)\n",
    "arcec=traces.extract(arc,plot=t)"
   ]
  },
  {
   "cell_type": "markdown",
   "metadata": {},
   "source": [
    "Do line identification based on previously identified lines, and wavelength fit."
   ]
  },
  {
   "cell_type": "code",
   "execution_count": 53,
   "metadata": {},
   "outputs": [
    {
     "name": "stdout",
     "output_type": "stream",
     "text": [
      "  cross correlating with reference spectrum using lags:  range(-300, 300)\n",
      "  Derived pixel shift from input wcal:  [-5.25183168e-08]\n",
      "  See spectrum and template spectrum (top), cross correlation(bottom). hit any key in display window to continue\n",
      "  See identified lines. Hit space bar in plot window to continue....\n",
      "doing wavelength fit\n",
      "  rms:    0.008\n",
      "rejecting 35 points from 2004 total: \n",
      "  rms:    0.007\n",
      "rejecting 43 points from 2004 total: \n",
      "  rms:    0.006\n",
      "rejecting 47 points from 2004 total: \n",
      "  rms:    0.006\n",
      "rejecting 55 points from 2004 total: \n",
      "  rms:    0.006\n",
      "rejecting 55 points from 2004 total: \n",
      "  See 2D wavecal fit. Hit space bar in plot window to continue....\n",
      "\n"
     ]
    }
   ],
   "source": [
    "fig,ax=plots.multi(1,2,figsize=(12,6))\n",
    "wav.identify(spectrum=arcec,rad=3,display=t,plot=fig)"
   ]
  },
  {
   "cell_type": "markdown",
   "metadata": {},
   "source": [
    "Now reduce an image"
   ]
  },
  {
   "cell_type": "code",
   "execution_count": 40,
   "metadata": {},
   "outputs": [
    {
     "name": "stdout",
     "output_type": "stream",
     "text": [
      "  Reading file: UT211031/echelle/HIP109807.0028.fits\n",
      "  subtracting overscan:  1291.718306834929\n",
      "  See bias box and cross section. \n",
      "   To continue, hit space in display window (p for debug) \n",
      "  estimating scattered light ...\n",
      "    fitting surface ...\n",
      "    rejecting points ...\n",
      "    refitting surface ...\n",
      "  See image with scattered light points\n",
      "   To continue, hit space in display window (p for debug) \n",
      "  See scattered light image\n",
      "   To continue, hit space in display window (p for debug) \n"
     ]
    }
   ],
   "source": [
    "im=red.reduce(28,scat=red.scat,display=t)"
   ]
  },
  {
   "cell_type": "markdown",
   "metadata": {},
   "source": [
    "Get shift of traces, and extract"
   ]
  },
  {
   "cell_type": "code",
   "execution_count": 41,
   "metadata": {},
   "outputs": [
    {
     "name": "stdout",
     "output_type": "stream",
     "text": [
      "  See spectra and cross-correlation. Hit any key in display window to continue....\n",
      "  See extraction window(s). Hit space bar to continue....\n",
      "\n"
     ]
    }
   ],
   "source": [
    "traces.find(im,plot=t)\n",
    "imec=traces.extract(im,plot=t)"
   ]
  },
  {
   "cell_type": "markdown",
   "metadata": {},
   "source": [
    "Get the wavelengths for all pixels from the wavelength solution and plot extracted spectra."
   ]
  },
  {
   "cell_type": "code",
   "execution_count": 46,
   "metadata": {
    "scrolled": true
   },
   "outputs": [
    {
     "name": "stdout",
     "output_type": "stream",
     "text": [
      "(107, 2128)\n",
      "<class 'astropy.nddata.ccddata.CCDData'>\n"
     ]
    }
   ],
   "source": [
    "w=wav.wave(image=imec.data.shape)\n",
    "print(w.shape)\n",
    "print(type(imec))\n",
    "import matplotlib.pyplot as plt\n",
    "plt.figure()\n",
    "for row in range(w.shape[0]) :\n",
    "    plt.plot(w[row],imec.data[row])"
   ]
  },
  {
   "cell_type": "markdown",
   "metadata": {},
   "source": [
    "Now do 1D flat fielding. 2D flat fielding would be better, but poses challenges with ARCES because the traces move, and there's no way to illuminate all pixels."
   ]
  },
  {
   "cell_type": "code",
   "execution_count": 49,
   "metadata": {},
   "outputs": [
    {
     "name": "stdout",
     "output_type": "stream",
     "text": [
      "  extracting aperture 106\n"
     ]
    }
   ],
   "source": [
    "traces.find(flat)\n",
    "flat1d=traces.extract(flat)\n",
    "t.tv(flat1d)"
   ]
  },
  {
   "cell_type": "markdown",
   "metadata": {},
   "source": [
    "Resample onto logarithmic wavelength grid and combine orders"
   ]
  },
  {
   "cell_type": "code",
   "execution_count": 48,
   "metadata": {},
   "outputs": [
    {
     "name": "stderr",
     "output_type": "stream",
     "text": [
      "/home/holtz/git/pyvista/python/pyvista/spectra.py:558: RuntimeWarning: invalid value encountered in true_divide\n",
      "  out = out / sig\n",
      "/home/holtz/git/pyvista/python/pyvista/spectra.py:559: RuntimeWarning: divide by zero encountered in true_divide\n",
      "  sig = np.sqrt(1./sig)\n"
     ]
    },
    {
     "data": {
      "text/plain": [
       "[<matplotlib.lines.Line2D at 0x2b990ba1b090>]"
      ]
     },
     "execution_count": 48,
     "metadata": {},
     "output_type": "execute_result"
    }
   ],
   "source": [
    "wnew=10**np.arange(3.5,4.0,5.5e-6)\n",
    "comb=wav.scomb(imec.divide(flat1d),wnew,average=True,usemask=True)\n",
    "plt.clf()\n",
    "plt.plot(wnew,comb.data)"
   ]
  },
  {
   "cell_type": "code",
   "execution_count": null,
   "metadata": {},
   "outputs": [],
   "source": []
  },
  {
   "cell_type": "code",
   "execution_count": null,
   "metadata": {},
   "outputs": [],
   "source": [
    "from pyvista import reduce\n",
    "fig=plt.figure()\n",
    "reduce.all('oct21.yml',groups='ARCES',display=None,plot=fig)"
   ]
  },
  {
   "cell_type": "markdown",
   "metadata": {},
   "source": [
    "<h2> TSPEC : multiple orders"
   ]
  },
  {
   "cell_type": "code",
   "execution_count": null,
   "metadata": {},
   "outputs": [],
   "source": [
    "tspec=imred.Reducer(inst='TSPEC',dir='UT191026/TSPEC',nfowler=8)\n",
    "a=tspec.reduce(21)\n",
    "dark=tspec.reduce(22)\n",
    "t.clear()\n",
    "t.tv(a)\n",
    "a=a.subtract(dark)\n",
    "t.tv(a)"
   ]
  },
  {
   "cell_type": "code",
   "execution_count": null,
   "metadata": {},
   "outputs": [],
   "source": [
    "rows=[[135,235],[295,395],[435,535],[560,660],[735,830]]\n",
    "\n",
    "apers=[155,316,454,591,761]\n",
    "apers.reverse()\n",
    "t.clear()\n",
    "t.tv(a)\n",
    "traces=spectra.Trace(order=3,rows=rows,lags=range(-75,75))\n",
    "traces.trace(a,apers,sc0=350,plot=t)\n",
    "traces=[traces]\n"
   ]
  },
  {
   "cell_type": "code",
   "execution_count": null,
   "metadata": {},
   "outputs": [],
   "source": [
    "traces[0].pix0"
   ]
  },
  {
   "cell_type": "code",
   "execution_count": null,
   "metadata": {},
   "outputs": [],
   "source": [
    "import scipy\n",
    "acr=tspec.reduce(21,crbox=[11,1])\n",
    "t.clear()\n",
    "t.tv(acr)\n",
    "trace=traces[0]\n",
    "trace.pix0=30\n",
    "order=7\n",
    "for aper,row in zip(apers,rows) :\n",
    "    out=trace.extract(acr,rad=20,plot=t)\n",
    "    #out.data=out.data - scipy.signal.medfilt(out.data,kernel_size=[1,201])\n",
    "    #wcal=spectra.WaveCal(type='chebyshev',orders=[order],degree=3)\n",
    "    #w=np.atleast_2d(wav[order-3,0,:][::-1])*1.e4\n",
    "    #bd=np.where(~np.isfinite(w))\n",
    "    #w[bd[0],bd[1]]=9000.\n",
    "\n",
    "\n"
   ]
  },
  {
   "cell_type": "code",
   "execution_count": null,
   "metadata": {},
   "outputs": [],
   "source": []
  }
 ],
 "metadata": {
  "kernelspec": {
   "display_name": "Python 3 (ipykernel)",
   "language": "python",
   "name": "python3"
  },
  "language_info": {
   "codemirror_mode": {
    "name": "ipython",
    "version": 3
   },
   "file_extension": ".py",
   "mimetype": "text/x-python",
   "name": "python",
   "nbconvert_exporter": "python",
   "pygments_lexer": "ipython3",
   "version": "3.9.9"
  }
 },
 "nbformat": 4,
 "nbformat_minor": 4
}
