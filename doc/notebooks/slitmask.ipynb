{
 "cells": [
  {
   "cell_type": "markdown",
   "id": "9cc0929e",
   "metadata": {},
   "source": [
    "<h2>Slitmask module"
   ]
  },
  {
   "cell_type": "markdown",
   "id": "e31a9526",
   "metadata": {},
   "source": [
    "<b><i> This is not a developed notebook and just gives some test usage of slitmask routines, which are not fully developed/tested"
   ]
  },
  {
   "cell_type": "code",
   "execution_count": 554,
   "id": "1d06b78a",
   "metadata": {},
   "outputs": [],
   "source": [
    "from pyvista import imred, tv, stars, slitmask, image\n",
    "import pdb\n",
    "import copy\n",
    "import numpy as np\n",
    "import matplotlib.pyplot as plt\n",
    "import os\n",
    "from astropy.table import vstack"
   ]
  },
  {
   "cell_type": "code",
   "execution_count": 290,
   "id": "e08e3334",
   "metadata": {},
   "outputs": [],
   "source": [
    "%matplotlib qt\n",
    "t=tv.TV()"
   ]
  },
  {
   "cell_type": "markdown",
   "id": "699a578e",
   "metadata": {},
   "source": [
    "<h3> Acquisition </h3>"
   ]
  },
  {
   "cell_type": "code",
   "execution_count": 555,
   "id": "63d1ccfb",
   "metadata": {},
   "outputs": [],
   "source": [
    "red=imred.Reducer('KOSMOS',dir='/home/holtz/raw/apo/UT221221_cleaned',verbose=False)                                                         "
   ]
  },
  {
   "cell_type": "code",
   "execution_count": 292,
   "id": "7e687dc4",
   "metadata": {},
   "outputs": [
    {
     "data": {
      "text/html": [
       "<div><i>Table length=41</i>\n",
       "<table id=\"table47939709372304\" class=\"table-striped table-bordered table-condensed\">\n",
       "<thead><tr><th>FILE</th><th>DATE-OBS</th><th>OBJNAME</th><th>RA</th><th>DEC</th><th>EXPTIME</th></tr></thead>\n",
       "<thead><tr><th>bytes42</th><th>bytes26</th><th>bytes23</th><th>bytes16</th><th>bytes16</th><th>bytes16</th></tr></thead>\n",
       "<tr><td>MOS2_quartz_flat_image.0001.fits</td><td>2022-07-09T03:21:07.134252</td><td></td><td>6:56:00.00</td><td>70:00:00.00</td><td>0.5</td></tr>\n",
       "<tr><td>MOS2_quartz_flat_image.0002.fits</td><td>2022-07-09T03:24:45.689872</td><td></td><td>6:56:00.00</td><td>70:00:00.00</td><td>0.5</td></tr>\n",
       "<tr><td>MOS2_quartz_flat_image.0003.fits</td><td>2022-07-09T03:28:26.731187</td><td></td><td>6:56:00.00</td><td>70:00:00.00</td><td>0.5</td></tr>\n",
       "<tr><td>bias.0001.fits</td><td>2022-07-09T06:23:41.763063</td><td>2MASS 1746</td><td>17:46:11.99</td><td>50:34:03.60</td><td>0</td></tr>\n",
       "<tr><td>bias.0002.fits</td><td>2022-07-09T06:24:35.610926</td><td>2MASS 1746</td><td>17:46:11.99</td><td>50:34:03.60</td><td>0</td></tr>\n",
       "<tr><td>bias.0003.fits</td><td>2022-07-09T06:25:29.285990</td><td>2MASS 1746</td><td>17:46:11.99</td><td>50:34:03.60</td><td>0</td></tr>\n",
       "<tr><td>...</td><td>...</td><td>...</td><td>...</td><td>...</td><td>...</td></tr>\n",
       "<tr><td>flat_quartz_truss_red.0001.fits</td><td>2022-07-09T10:27:42.697081</td><td>SDSSJ222655.88+255009.3</td><td>22:26:55.89</td><td>25:50:09.33</td><td>60.0</td></tr>\n",
       "<tr><td>flat_quartz_truss_red.0002.fits</td><td>2022-07-09T10:29:37.741194</td><td>SDSSJ222655.88+255009.3</td><td>22:26:55.89</td><td>25:50:09.33</td><td>60.0</td></tr>\n",
       "<tr><td>flat_quartz_truss_red.0003.fits</td><td>2022-07-09T10:31:32.048222</td><td>SDSSJ222655.88+255009.3</td><td>22:26:55.89</td><td>25:50:09.33</td><td>60.0</td></tr>\n",
       "<tr><td>flat_quartz_truss_red.0004.fits</td><td>2022-07-09T10:33:26.060567</td><td>SDSSJ222655.88+255009.3</td><td>22:26:55.89</td><td>25:50:09.33</td><td>60.0</td></tr>\n",
       "<tr><td>flat_quartz_truss_red.0005.fits</td><td>2022-07-09T10:35:20.074926</td><td>SDSSJ222655.88+255009.3</td><td>22:26:55.89</td><td>25:50:09.33</td><td>60.0</td></tr>\n",
       "<tr><td>NeKrAr_r.0001.fits</td><td>2022-07-09T10:37:46.584225</td><td>SDSSJ222655.88+255009.3</td><td>22:26:55.89</td><td>25:50:09.33</td><td>1.5</td></tr>\n",
       "<tr><td>NeKrAr_b.0001.fits</td><td>2022-07-09T10:38:52.078579</td><td>SDSSJ222655.88+255009.3</td><td>22:26:55.89</td><td>25:50:09.33</td><td>50.0</td></tr>\n",
       "</table></div>"
      ],
      "text/plain": [
       "<Table length=41>\n",
       "              FILE                        DATE-OBS          ...     DEC     EXPTIME\n",
       "            bytes42                       bytes26           ...   bytes16   bytes16\n",
       "-------------------------------- -------------------------- ... ----------- -------\n",
       "MOS2_quartz_flat_image.0001.fits 2022-07-09T03:21:07.134252 ... 70:00:00.00     0.5\n",
       "MOS2_quartz_flat_image.0002.fits 2022-07-09T03:24:45.689872 ... 70:00:00.00     0.5\n",
       "MOS2_quartz_flat_image.0003.fits 2022-07-09T03:28:26.731187 ... 70:00:00.00     0.5\n",
       "                  bias.0001.fits 2022-07-09T06:23:41.763063 ... 50:34:03.60       0\n",
       "                  bias.0002.fits 2022-07-09T06:24:35.610926 ... 50:34:03.60       0\n",
       "                  bias.0003.fits 2022-07-09T06:25:29.285990 ... 50:34:03.60       0\n",
       "                             ...                        ... ...         ...     ...\n",
       " flat_quartz_truss_red.0001.fits 2022-07-09T10:27:42.697081 ... 25:50:09.33    60.0\n",
       " flat_quartz_truss_red.0002.fits 2022-07-09T10:29:37.741194 ... 25:50:09.33    60.0\n",
       " flat_quartz_truss_red.0003.fits 2022-07-09T10:31:32.048222 ... 25:50:09.33    60.0\n",
       " flat_quartz_truss_red.0004.fits 2022-07-09T10:33:26.060567 ... 25:50:09.33    60.0\n",
       " flat_quartz_truss_red.0005.fits 2022-07-09T10:35:20.074926 ... 25:50:09.33    60.0\n",
       "              NeKrAr_r.0001.fits 2022-07-09T10:37:46.584225 ... 25:50:09.33     1.5\n",
       "              NeKrAr_b.0001.fits 2022-07-09T10:38:52.078579 ... 25:50:09.33    50.0"
      ]
     },
     "execution_count": 292,
     "metadata": {},
     "output_type": "execute_result"
    }
   ],
   "source": [
    "red.log()"
   ]
  },
  {
   "cell_type": "markdown",
   "id": "22d7c034",
   "metadata": {},
   "source": [
    "Read in image with mask in, and image without mask"
   ]
  },
  {
   "cell_type": "code",
   "execution_count": 556,
   "id": "4dd7f0ba",
   "metadata": {},
   "outputs": [
    {
     "name": "stdout",
     "output_type": "stream",
     "text": [
      "INFO: array provided for uncertainty; assuming it is a StdDevUncertainty. [astropy.nddata.ccddata]\n"
     ]
    }
   ],
   "source": [
    "mask=red.reduce(51)\n",
    "t.clear()\n",
    "t.tv(mask,max=3000)"
   ]
  },
  {
   "cell_type": "code",
   "execution_count": 557,
   "id": "bcff0497",
   "metadata": {},
   "outputs": [
    {
     "name": "stdout",
     "output_type": "stream",
     "text": [
      "INFO: array provided for uncertainty; assuming it is a StdDevUncertainty. [astropy.nddata.ccddata]\n"
     ]
    }
   ],
   "source": [
    "nomask=red.reduce(52)\n",
    "t.tv(nomask,max=30000)"
   ]
  },
  {
   "cell_type": "markdown",
   "id": "a644d02a",
   "metadata": {},
   "source": [
    "Do CR rejection on mask image to avoid spurious detections"
   ]
  },
  {
   "cell_type": "code",
   "execution_count": 558,
   "id": "90e09265",
   "metadata": {},
   "outputs": [],
   "source": [
    "maskcr=red.crrej(mask,crbox=[5,5])"
   ]
  },
  {
   "cell_type": "markdown",
   "id": "214cc304",
   "metadata": {},
   "source": [
    "Use findholes() to identify the holes in the mask. May need to adjust thresh= for brightness threshold, and n= for number of clusters to detect."
   ]
  },
  {
   "cell_type": "code",
   "execution_count": 559,
   "id": "9e496042",
   "metadata": {},
   "outputs": [
    {
     "data": {
      "text/html": [
       "<div><i>Table length=15</i>\n",
       "<table id=\"table47939701025040\" class=\"table-striped table-bordered table-condensed\">\n",
       "<thead><tr><th>y</th><th>x</th></tr></thead>\n",
       "<thead><tr><th>float64</th><th>float64</th></tr></thead>\n",
       "<tr><td>1847.45695364</td><td>1388.37417219</td></tr>\n",
       "<tr><td>2194.5</td><td>728.0</td></tr>\n",
       "<tr><td>1864.5</td><td>616.0</td></tr>\n",
       "<tr><td>1829.5</td><td>1008.0</td></tr>\n",
       "<tr><td>2627.53535354</td><td>489.050505051</td></tr>\n",
       "<tr><td>1274.63541667</td><td>799.496527778</td></tr>\n",
       "<tr><td>1998.44947735</td><td>1790.21254355</td></tr>\n",
       "<tr><td>2221.31205674</td><td>910.517730496</td></tr>\n",
       "<tr><td>1621.81021898</td><td>1104.29562044</td></tr>\n",
       "<tr><td>2013.97709924</td><td>1675.0610687</td></tr>\n",
       "<tr><td>1992.51851852</td><td>1257.5308642</td></tr>\n",
       "<tr><td>2451.44104803</td><td>1525.81222707</td></tr>\n",
       "<tr><td>1643.0</td><td>292.5</td></tr>\n",
       "<tr><td>2158.0</td><td>255.0</td></tr>\n",
       "<tr><td>1255.0</td><td>1179.0</td></tr>\n",
       "</table></div>"
      ],
      "text/plain": [
       "<Table length=15>\n",
       "      y             x      \n",
       "   float64       float64   \n",
       "------------- -------------\n",
       "1847.45695364 1388.37417219\n",
       "       2194.5         728.0\n",
       "       1864.5         616.0\n",
       "       1829.5        1008.0\n",
       "2627.53535354 489.050505051\n",
       "1274.63541667 799.496527778\n",
       "1998.44947735 1790.21254355\n",
       "2221.31205674 910.517730496\n",
       "1621.81021898 1104.29562044\n",
       "2013.97709924  1675.0610687\n",
       "1992.51851852  1257.5308642\n",
       "2451.44104803 1525.81222707\n",
       "       1643.0         292.5\n",
       "       2158.0         255.0\n",
       "       1255.0        1179.0"
      ]
     },
     "execution_count": 559,
     "metadata": {},
     "output_type": "execute_result"
    }
   ],
   "source": [
    "holes=slitmask.findholes(maskcr.data,thresh=1500,n=29)\n",
    "t.clear()\n",
    "t.tv(maskcr)\n",
    "stars.mark(t,holes,color='b',exit=True,rad=10)"
   ]
  },
  {
   "cell_type": "markdown",
   "id": "1e67a310",
   "metadata": {},
   "source": [
    "Get design from KMS file and see if we have correct numbers of slits/holes identified"
   ]
  },
  {
   "cell_type": "code",
   "execution_count": 561,
   "id": "3eae28a2",
   "metadata": {},
   "outputs": [
    {
     "name": "stdout",
     "output_type": "stream",
     "text": [
      "15 15\n"
     ]
    },
    {
     "data": {
      "text/html": [
       "<div><i>Table length=15</i>\n",
       "<table id=\"table47940041477904\" class=\"table-striped table-bordered table-condensed\">\n",
       "<thead><tr><th>ALPHA</th><th>DELTA</th><th>LEN</th><th>LENMM</th><th>NAME</th><th>ROT</th><th>SHAPE</th><th>TARG101</th><th>TARG102</th><th>TARG103</th><th>TARG104</th><th>TARG105</th><th>TARG106</th><th>TARG107</th><th>TARG108</th><th>TARG109</th><th>TARG110</th><th>TARG111</th><th>TARG112</th><th>TARG113</th><th>TARG114</th><th>TARG115</th><th>WID</th><th>WIDMM</th><th>XMM</th><th>YMM</th></tr></thead>\n",
       "<thead><tr><th>float64</th><th>float64</th><th>float64</th><th>float64</th><th>str5</th><th>float64</th><th>str8</th><th>object</th><th>object</th><th>object</th><th>object</th><th>object</th><th>object</th><th>object</th><th>object</th><th>object</th><th>object</th><th>object</th><th>object</th><th>object</th><th>object</th><th>object</th><th>float64</th><th>float64</th><th>float64</th><th>float64</th></tr></thead>\n",
       "<tr><td>83654.162</td><td>30638.76</td><td>4.0</td><td>0.683</td><td>NN</td><td>0.0</td><td>STRAIGHT</td><td>--</td><td>--</td><td>--</td><td>--</td><td>--</td><td>--</td><td>--</td><td>--</td><td>--</td><td>--</td><td>--</td><td>--</td><td>--</td><td>None</td><td>--</td><td>4.0</td><td>0.683</td><td>-6.272</td><td>-33.306</td></tr>\n",
       "<tr><td>83645.269</td><td>30628.86</td><td>4.0</td><td>0.683</td><td>NN</td><td>0.0</td><td>STRAIGHT</td><td>--</td><td>--</td><td>--</td><td>--</td><td>--</td><td>--</td><td>--</td><td>--</td><td>--</td><td>--</td><td>None</td><td>--</td><td>--</td><td>--</td><td>--</td><td>4.0</td><td>0.683</td><td>16.462</td><td>-31.616</td></tr>\n",
       "<tr><td>83702.29</td><td>30538.62</td><td>10.0</td><td>1.707</td><td>Obj9</td><td>0.0</td><td>STRAIGHT</td><td>--</td><td>--</td><td>--</td><td>--</td><td>--</td><td>--</td><td>--</td><td>--</td><td>None</td><td>--</td><td>--</td><td>--</td><td>--</td><td>--</td><td>--</td><td>2.0</td><td>0.341</td><td>-27.05</td><td>-23.042</td></tr>\n",
       "<tr><td>83649.106</td><td>30504.92</td><td>10.0</td><td>1.707</td><td>Obj1</td><td>0.0</td><td>STRAIGHT</td><td>None</td><td>--</td><td>--</td><td>--</td><td>--</td><td>--</td><td>--</td><td>--</td><td>--</td><td>--</td><td>--</td><td>--</td><td>--</td><td>--</td><td>--</td><td>2.0</td><td>0.341</td><td>6.652</td><td>-17.29</td></tr>\n",
       "<tr><td>83654.799</td><td>30436.19</td><td>10.0</td><td>1.707</td><td>Obj3</td><td>0.0</td><td>STRAIGHT</td><td>--</td><td>--</td><td>None</td><td>--</td><td>--</td><td>--</td><td>--</td><td>--</td><td>--</td><td>--</td><td>--</td><td>--</td><td>--</td><td>--</td><td>--</td><td>2.0</td><td>0.341</td><td>-7.901</td><td>-12.387</td></tr>\n",
       "<tr><td>83638.93</td><td>30417.69</td><td>10.0</td><td>1.707</td><td>Obj2</td><td>0.0</td><td>STRAIGHT</td><td>--</td><td>None</td><td>--</td><td>--</td><td>--</td><td>--</td><td>--</td><td>--</td><td>--</td><td>--</td><td>--</td><td>--</td><td>--</td><td>--</td><td>--</td><td>2.0</td><td>0.341</td><td>32.666</td><td>-9.23</td></tr>\n",
       "<tr><td>83655.258</td><td>30349.0</td><td>10.0</td><td>1.707</td><td>Obj4</td><td>0.0</td><td>STRAIGHT</td><td>--</td><td>--</td><td>--</td><td>None</td><td>--</td><td>--</td><td>--</td><td>--</td><td>--</td><td>--</td><td>--</td><td>--</td><td>--</td><td>--</td><td>--</td><td>2.0</td><td>0.341</td><td>-9.075</td><td>-4.333</td></tr>\n",
       "<tr><td>83648.518</td><td>30323.98</td><td>10.0</td><td>1.707</td><td>Obj5</td><td>0.0</td><td>STRAIGHT</td><td>--</td><td>--</td><td>--</td><td>--</td><td>None</td><td>--</td><td>--</td><td>--</td><td>--</td><td>--</td><td>--</td><td>--</td><td>--</td><td>--</td><td>--</td><td>2.0</td><td>0.341</td><td>8.155</td><td>-0.063</td></tr>\n",
       "<tr><td>83644.95</td><td>30258.99</td><td>10.0</td><td>1.707</td><td>Obj6</td><td>0.0</td><td>STRAIGHT</td><td>--</td><td>--</td><td>--</td><td>--</td><td>--</td><td>None</td><td>--</td><td>--</td><td>--</td><td>--</td><td>--</td><td>--</td><td>--</td><td>--</td><td>--</td><td>2.0</td><td>0.341</td><td>17.277</td><td>4.202</td></tr>\n",
       "<tr><td>83638.6</td><td>30239.36</td><td>4.0</td><td>0.683</td><td>NN</td><td>0.0</td><td>STRAIGHT</td><td>--</td><td>--</td><td>--</td><td>--</td><td>--</td><td>--</td><td>--</td><td>--</td><td>--</td><td>--</td><td>--</td><td>--</td><td>None</td><td>--</td><td>--</td><td>4.0</td><td>0.683</td><td>33.511</td><td>7.553</td></tr>\n",
       "<tr><td>83651.338</td><td>30219.56</td><td>4.0</td><td>0.683</td><td>NN</td><td>0.0</td><td>STRAIGHT</td><td>--</td><td>--</td><td>--</td><td>--</td><td>--</td><td>--</td><td>--</td><td>--</td><td>--</td><td>--</td><td>--</td><td>--</td><td>--</td><td>--</td><td>None</td><td>4.0</td><td>0.683</td><td>0.947</td><td>10.931</td></tr>\n",
       "<tr><td>83648.845</td><td>30145.73</td><td>10.0</td><td>1.707</td><td>Obj10</td><td>0.0</td><td>STRAIGHT</td><td>--</td><td>--</td><td>--</td><td>--</td><td>--</td><td>--</td><td>--</td><td>--</td><td>--</td><td>None</td><td>--</td><td>--</td><td>--</td><td>--</td><td>--</td><td>2.0</td><td>0.341</td><td>7.319</td><td>16.706</td></tr>\n",
       "<tr><td>83659.269</td><td>30110.26</td><td>4.0</td><td>0.683</td><td>NN</td><td>0.0</td><td>STRAIGHT</td><td>--</td><td>--</td><td>--</td><td>--</td><td>--</td><td>--</td><td>--</td><td>--</td><td>--</td><td>--</td><td>--</td><td>None</td><td>--</td><td>--</td><td>--</td><td>4.0</td><td>0.683</td><td>-19.329</td><td>22.758</td></tr>\n",
       "<tr><td>83651.722</td><td>30031.64</td><td>10.0</td><td>1.707</td><td>Obj7</td><td>0.0</td><td>STRAIGHT</td><td>--</td><td>--</td><td>--</td><td>--</td><td>--</td><td>--</td><td>None</td><td>--</td><td>--</td><td>--</td><td>--</td><td>--</td><td>--</td><td>--</td><td>--</td><td>2.0</td><td>0.341</td><td>-0.036</td><td>29.35</td></tr>\n",
       "<tr><td>83651.454</td><td>30001.4</td><td>10.0</td><td>1.707</td><td>Obj8</td><td>0.0</td><td>STRAIGHT</td><td>--</td><td>--</td><td>--</td><td>--</td><td>--</td><td>--</td><td>--</td><td>None</td><td>--</td><td>--</td><td>--</td><td>--</td><td>--</td><td>--</td><td>--</td><td>2.0</td><td>0.341</td><td>0.649</td><td>34.511</td></tr>\n",
       "</table></div>"
      ],
      "text/plain": [
       "<Table length=15>\n",
       "  ALPHA    DELTA     LEN    LENMM   NAME   ROT   ... TARG114 TARG115   WID    WIDMM    XMM     YMM  \n",
       " float64  float64  float64 float64  str5 float64 ...  object  object float64 float64 float64 float64\n",
       "--------- -------- ------- ------- ----- ------- ... ------- ------- ------- ------- ------- -------\n",
       "83654.162 30638.76     4.0   0.683    NN     0.0 ...    None      --     4.0   0.683  -6.272 -33.306\n",
       "83645.269 30628.86     4.0   0.683    NN     0.0 ...      --      --     4.0   0.683  16.462 -31.616\n",
       " 83702.29 30538.62    10.0   1.707  Obj9     0.0 ...      --      --     2.0   0.341  -27.05 -23.042\n",
       "83649.106 30504.92    10.0   1.707  Obj1     0.0 ...      --      --     2.0   0.341   6.652  -17.29\n",
       "83654.799 30436.19    10.0   1.707  Obj3     0.0 ...      --      --     2.0   0.341  -7.901 -12.387\n",
       " 83638.93 30417.69    10.0   1.707  Obj2     0.0 ...      --      --     2.0   0.341  32.666   -9.23\n",
       "83655.258  30349.0    10.0   1.707  Obj4     0.0 ...      --      --     2.0   0.341  -9.075  -4.333\n",
       "83648.518 30323.98    10.0   1.707  Obj5     0.0 ...      --      --     2.0   0.341   8.155  -0.063\n",
       " 83644.95 30258.99    10.0   1.707  Obj6     0.0 ...      --      --     2.0   0.341  17.277   4.202\n",
       "  83638.6 30239.36     4.0   0.683    NN     0.0 ...      --      --     4.0   0.683  33.511   7.553\n",
       "83651.338 30219.56     4.0   0.683    NN     0.0 ...      --    None     4.0   0.683   0.947  10.931\n",
       "83648.845 30145.73    10.0   1.707 Obj10     0.0 ...      --      --     2.0   0.341   7.319  16.706\n",
       "83659.269 30110.26     4.0   0.683    NN     0.0 ...      --      --     4.0   0.683 -19.329  22.758\n",
       "83651.722 30031.64    10.0   1.707  Obj7     0.0 ...      --      --     2.0   0.341  -0.036   29.35\n",
       "83651.454  30001.4    10.0   1.707  Obj8     0.0 ...      --      --     2.0   0.341   0.649  34.511"
      ]
     },
     "execution_count": 561,
     "metadata": {},
     "output_type": "execute_result"
    }
   ],
   "source": [
    "kmsfile='eFEDS197_pointing2.1.kms'\n",
    "targets = slitmask.read_kms(kmsfile,sort='YMM')\n",
    "print(len(targets),len(holes))\n",
    "targets"
   ]
  },
  {
   "cell_type": "markdown",
   "id": "2cae9c72",
   "metadata": {},
   "source": [
    "Now sort the identified holes from left to right and match them\n",
    "with the correspondingly sorted design holes to identify which ones are alignment holes."
   ]
  },
  {
   "cell_type": "code",
   "execution_count": 562,
   "id": "f77d0df5",
   "metadata": {},
   "outputs": [
    {
     "data": {
      "text/html": [
       "<div><i>Table length=5</i>\n",
       "<table id=\"table47939561397360\" class=\"table-striped table-bordered table-condensed\">\n",
       "<thead><tr><th>y</th><th>x</th></tr></thead>\n",
       "<thead><tr><th>float64</th><th>float64</th></tr></thead>\n",
       "<tr><td>2158.0</td><td>255.0</td></tr>\n",
       "<tr><td>1643.0</td><td>292.5</td></tr>\n",
       "<tr><td>1255.0</td><td>1179.0</td></tr>\n",
       "<tr><td>1992.51851852</td><td>1257.5308642</td></tr>\n",
       "<tr><td>2451.44104803</td><td>1525.81222707</td></tr>\n",
       "</table></div>"
      ],
      "text/plain": [
       "<Table length=5>\n",
       "      y             x      \n",
       "   float64       float64   \n",
       "------------- -------------\n",
       "       2158.0         255.0\n",
       "       1643.0         292.5\n",
       "       1255.0        1179.0\n",
       "1992.51851852  1257.5308642\n",
       "2451.44104803 1525.81222707"
      ]
     },
     "execution_count": 562,
     "metadata": {},
     "output_type": "execute_result"
    }
   ],
   "source": [
    "# sort holes by x coordinate\n",
    "holes.sort('x')\n",
    "\n",
    "# loop through holes and targets to find alignment holes\n",
    "align=[]\n",
    "for i,(hole,target) in enumerate(zip(holes,targets)) :\n",
    "    #print(hole['x'],target['YMM'],target['NAME'])\n",
    "    if target['NAME'] == 'NN' : align.append(i)\n",
    "\n",
    "# Display the alignment holes\n",
    "stars.mark(t,holes[align],color='r',rad=20,exit=True)\n",
    "\n",
    "#make table of the measured alignment hole positions\n",
    "h=holes[align]\n",
    "h"
   ]
  },
  {
   "cell_type": "markdown",
   "id": "593de689",
   "metadata": {},
   "source": [
    "Now display image and mark stars that corresonds to the alignment holes in the mask."
   ]
  },
  {
   "cell_type": "code",
   "execution_count": 563,
   "id": "b3e7b541",
   "metadata": {},
   "outputs": [
    {
     "name": "stdout",
     "output_type": "stream",
     "text": [
      "Hit c near desired star(s) to get centroid position\n",
      "    i to use integer position of cursor\n",
      "    n to get ID of nearest star\n",
      "    q or e to quit\n"
     ]
    },
    {
     "data": {
      "text/html": [
       "<div><i>Table length=5</i>\n",
       "<table id=\"table47940055890144\" class=\"table-striped table-bordered table-condensed\">\n",
       "<thead><tr><th>id</th><th>x</th><th>y</th><th>MJD</th><th>EXPTIME</th><th>FILTER</th><th>AIRMASS</th></tr></thead>\n",
       "<thead><tr><th>int32</th><th>float32</th><th>float32</th><th>float64</th><th>float32</th><th>bytes32</th><th>float32</th></tr></thead>\n",
       "<tr><td>1</td><td>221.91</td><td>2205.13</td><td>59934.466355</td><td>30.0</td><td></td><td>1.244</td></tr>\n",
       "<tr><td>2</td><td>260.72</td><td>1691.14</td><td>59934.466355</td><td>30.0</td><td></td><td>1.244</td></tr>\n",
       "<tr><td>5</td><td>1146.23</td><td>1306.29</td><td>59934.466355</td><td>30.0</td><td></td><td>1.244</td></tr>\n",
       "<tr><td>3</td><td>1223.13</td><td>2042.81</td><td>59934.466355</td><td>30.0</td><td></td><td>1.244</td></tr>\n",
       "<tr><td>4</td><td>1489.41</td><td>2506.02</td><td>59934.466355</td><td>30.0</td><td></td><td>1.244</td></tr>\n",
       "</table></div>"
      ],
      "text/plain": [
       "<Table length=5>\n",
       "  id     x       y        MJD      EXPTIME  FILTER AIRMASS\n",
       "int32 float32 float32   float64    float32 bytes32 float32\n",
       "----- ------- ------- ------------ ------- ------- -------\n",
       "    1  221.91 2205.13 59934.466355    30.0           1.244\n",
       "    2  260.72 1691.14 59934.466355    30.0           1.244\n",
       "    5 1146.23 1306.29 59934.466355    30.0           1.244\n",
       "    3 1223.13 2042.81 59934.466355    30.0           1.244\n",
       "    4 1489.41 2506.02 59934.466355    30.0           1.244"
      ]
     },
     "execution_count": 563,
     "metadata": {},
     "output_type": "execute_result"
    }
   ],
   "source": [
    "t.tv(nomask,max=30000)\n",
    "s=stars.mark(t,rad=5)\n",
    "\n",
    "# sort these by x coorindate to match order of alignment holes\n",
    "s.sort('x')\n",
    "s"
   ]
  },
  {
   "cell_type": "markdown",
   "id": "940f3437",
   "metadata": {},
   "source": [
    "Now use fit() to get the rotation and translation. Output the distance between the measured object and the fit one to ensure that the identification is correct and the solution is reasonable."
   ]
  },
  {
   "cell_type": "code",
   "execution_count": 564,
   "id": "ad15037b",
   "metadata": {
    "scrolled": true
   },
   "outputs": [
    {
     "name": "stdout",
     "output_type": "stream",
     "text": [
      "Euclidean Transform: \n",
      "  Rotation (degrees) :  0.22472876594810803\n",
      "  Translation (arcsec)  [ -8.84143245  13.09692391]\n",
      " X       Y       mod-obs \n",
      "  -769.0   110.0    1.72\n",
      "  -731.5  -405.0    0.92\n",
      "   155.0  -793.0    1.61\n",
      "   233.5   -55.5    1.43\n",
      "   501.8   403.4    1.93\n",
      "  Rotation (degrees) :  0.22472876594810803\n",
      "  Translation (arcsec)  [ -8.84143245  13.09692391]\n",
      "Similarity Transform: \n",
      "Rotation (degrees) :  0.22472876594810803\n",
      "Translation (arcsec)  [ -8.86608854  13.06677919]\n",
      "Scale  0.999213122302\n",
      " X       Y       mod-obs \n",
      "  -769.0   110.0    1.17\n",
      "  -731.5  -405.0    0.41\n",
      "   155.0  -793.0    1.51\n",
      "   233.5   -55.5    1.31\n",
      "   501.8   403.4    2.28\n"
     ]
    },
    {
     "data": {
      "text/plain": [
       "(0.22472876594810803, array([ -8.84143245,  13.09692391]))"
      ]
     },
     "execution_count": 564,
     "metadata": {},
     "output_type": "execute_result"
    }
   ],
   "source": [
    "slitmask.fit(h,s)"
   ]
  },
  {
   "cell_type": "markdown",
   "id": "4c474f4b",
   "metadata": {},
   "source": [
    "<h3>Reduction/extraction"
   ]
  },
  {
   "cell_type": "code",
   "execution_count": null,
   "id": "5058b101",
   "metadata": {},
   "outputs": [],
   "source": [
    "from pyvista import imred, slitmask, tv, spectra, image\n",
    "import numpy as np\n",
    "import matplotlib.pyplot as plt\n",
    "import copy\n",
    "import pdb\n",
    "%matplotlib qt\n",
    "\n",
    "t=tv.TV()"
   ]
  },
  {
   "cell_type": "code",
   "execution_count": 457,
   "id": "7c4e8dd6",
   "metadata": {},
   "outputs": [
    {
     "name": "stdout",
     "output_type": "stream",
     "text": [
      "INFO: array provided for uncertainty; assuming it is a StdDevUncertainty. [astropy.nddata.ccddata]\n",
      "INFO: array provided for uncertainty; assuming it is a StdDevUncertainty. [astropy.nddata.ccddata]\n",
      "INFO: array provided for uncertainty; assuming it is a StdDevUncertainty. [astropy.nddata.ccddata]\n",
      "INFO: array provided for uncertainty; assuming it is a StdDevUncertainty. [astropy.nddata.ccddata]\n",
      "INFO: array provided for uncertainty; assuming it is a StdDevUncertainty. [astropy.nddata.ccddata]\n"
     ]
    }
   ],
   "source": [
    "red=imred.Reducer('KOSMOS',dir='/home/holtz/raw/apo/UT221221_cleaned',verbose=False)                                                         \n",
    "im = red.reduce(54)\n",
    "flat = red.reduce(71)\n",
    "arc = red.reduce(70)\n",
    "arcs= red.sum([70,67])"
   ]
  },
  {
   "cell_type": "markdown",
   "id": "e344d1a7",
   "metadata": {},
   "source": [
    "Find slit edges from flat, and fit polynomials to locations"
   ]
  },
  {
   "cell_type": "code",
   "execution_count": 565,
   "id": "7d011c6f",
   "metadata": {},
   "outputs": [
    {
     "name": "stderr",
     "output_type": "stream",
     "text": [
      "/home/local/Anaconda3-2020.02/envs/py3.9/lib/python3.9/site-packages/scipy/optimize/minpack.py:833: OptimizeWarning: Covariance of the parameters could not be estimated\n",
      "  warnings.warn('Covariance of the parameters could not be estimated',\n"
     ]
    }
   ],
   "source": [
    "trace=spectra.Trace(transpose=True)\n",
    "t.tvclear()\n",
    "bottom,top = trace.findslits(flat,display=t,thresh=0.5,sn=True)"
   ]
  },
  {
   "cell_type": "markdown",
   "id": "ce60d5e7",
   "metadata": {},
   "source": [
    "Plot shape of slit edges relative to center position, just for information"
   ]
  },
  {
   "cell_type": "code",
   "execution_count": 566,
   "id": "d2b4a10a",
   "metadata": {},
   "outputs": [],
   "source": [
    "x=np.arange(4096)\n",
    "plt.figure()\n",
    "for l in bottom :\n",
    "    plt.plot(x,l(x)) #-l(2048))"
   ]
  },
  {
   "cell_type": "markdown",
   "id": "95074149",
   "metadata": {},
   "source": [
    "Using the derived traces, extract the slitlets for arcs"
   ]
  },
  {
   "cell_type": "code",
   "execution_count": 567,
   "id": "5b3b4040",
   "metadata": {},
   "outputs": [
    {
     "name": "stdout",
     "output_type": "stream",
     "text": [
      "extracting: \n",
      " 233-249\n",
      " 275-289\n",
      " 455-494\n",
      " 585-624\n",
      " 695-734\n",
      " 770-809\n",
      " 878-917\n",
      " 976-1015\n",
      " 1073-1112\n",
      " 1160-1175\n",
      " 1237-1252\n",
      " 1356-1395\n",
      " 1502-1518\n",
      " 1642-1680\n",
      " 1758-1796\n",
      "  See extraction window(s). Hit space bar to continue....\n"
     ]
    }
   ],
   "source": [
    "importlib.reload(spectra)\n",
    "arcec=trace.extract2d(arcs,display=t)"
   ]
  },
  {
   "cell_type": "markdown",
   "id": "53f0f1ce",
   "metadata": {},
   "source": [
    "Load the targets file, and add XMM and YMM for each slit to headers of each extracted image. REQUIRES A PERFECT MATCH BETWEEN INPUT TARGETS AND IDENTIFIED SLITS!"
   ]
  },
  {
   "cell_type": "code",
   "execution_count": 575,
   "id": "ecbd4e45",
   "metadata": {},
   "outputs": [],
   "source": [
    "importlib.reload(slitmask)\n",
    "kmsfile='eFEDS197_pointing2.1.kms'\n",
    "targets = slitmask.read_kms(kmsfile,sort='YMM')\n",
    "if len(targets) == len(bottom) : \n",
    "    for arc,target in zip(arcec,targets) :\n",
    "        arc.header['XMM'] = target['XMM']\n",
    "        arc.header['YMM'] = target['YMM']\n",
    "else :\n",
    "    print('ERROR, number of identified slits does not match number of targets')"
   ]
  },
  {
   "cell_type": "markdown",
   "id": "074150a3",
   "metadata": {},
   "source": [
    "Now loop through each extracted arc to do wavelength calibration. This requires a little effort because the change in the location of the slit relative to the default saved wavelength calibration is significant enough that it can be a challenge to automatically find the lines, since the change in spectrum is more than a simple shift (and, in fact, more than a shift + dispersion change). \n",
    "\n",
    "However, a simple shift is usually enough to identify some of the lines, and these can be used to bootstrap the wavelength solution; the initial identification is easier givenan estimate of the shift from the mask design.\n",
    "\n",
    "You can use identify() to do the iteration. On the first pass, only central lines may be correctly identified. Use 'l' and 'r' to remove lines to the left and right of the identified lines. Then use 'i' to iterate, i.e., allow it to re-identify lines (i just returns True to allow you to iterate). When happy with solution, use ' ' to move onto the final 2D \n",
    "wavelength calibration."
   ]
  },
  {
   "cell_type": "code",
   "execution_count": 569,
   "id": "87385696",
   "metadata": {},
   "outputs": [],
   "source": [
    "oldarcec=copy.deepcopy(arcec)"
   ]
  },
  {
   "cell_type": "code",
   "execution_count": 570,
   "id": "62b7ca9b",
   "metadata": {},
   "outputs": [
    {
     "name": "stdout",
     "output_type": "stream",
     "text": [
      "  rms:    0.230 Angstroms (60 lines)\n",
      "  cross correlating with reference spectrum using lags between:  591 790\n",
      "  Derived pixel shift from input wcal:  [ 706.51089215]\n"
     ]
    },
    {
     "name": "stderr",
     "output_type": "stream",
     "text": [
      "/home/local/Anaconda3-2020.02/envs/py3.9/lib/python3.9/site-packages/scipy/optimize/minpack.py:833: OptimizeWarning: Covariance of the parameters could not be estimated\n",
      "  warnings.warn('Covariance of the parameters could not be estimated',\n"
     ]
    },
    {
     "name": "stdout",
     "output_type": "stream",
     "text": [
      "  See identified lines.\n",
      "  rms:    3.835 Angstroms (17 lines)\n",
      "  Input in plot window: \n",
      "       l : to remove all lines to left of cursor\n",
      "       r : to remove all lines to right of cursor\n",
      "       n : to remove line nearest cursor x position\n",
      "       i : return with True value (to allow iteration)\n",
      "       anything else : finish and return\n",
      "  rms:    3.835 Anstroms\n",
      "  input from plot window...\n",
      "  rms:    1.904 Anstroms\n",
      "  input from plot window...\n",
      "\n",
      "  cross correlating with reference spectrum using lags between:  -50 49\n",
      "  Derived pixel shift from input wcal:  [  7.28671978e-05]\n"
     ]
    },
    {
     "name": "stderr",
     "output_type": "stream",
     "text": [
      "/home/local/Anaconda3-2020.02/envs/py3.9/lib/python3.9/site-packages/scipy/optimize/minpack.py:833: OptimizeWarning: Covariance of the parameters could not be estimated\n",
      "  warnings.warn('Covariance of the parameters could not be estimated',\n"
     ]
    },
    {
     "name": "stdout",
     "output_type": "stream",
     "text": [
      "  See identified lines.\n",
      "  rms:    3.474 Angstroms (20 lines)\n",
      "  Input in plot window: \n",
      "       l : to remove all lines to left of cursor\n",
      "       r : to remove all lines to right of cursor\n",
      "       n : to remove line nearest cursor x position\n",
      "       i : return with True value (to allow iteration)\n",
      "       anything else : finish and return\n",
      "  rms:    3.474 Anstroms\n",
      "  input from plot window...\n",
      "  rms:    2.965 Anstroms\n",
      "  input from plot window...\n",
      "\n",
      "  cross correlating with reference spectrum using lags between:  -300 299\n",
      "  Derived pixel shift from input wcal for row: 15 0\n"
     ]
    },
    {
     "name": "stderr",
     "output_type": "stream",
     "text": [
      "/home/local/Anaconda3-2020.02/envs/py3.9/lib/python3.9/site-packages/scipy/optimize/minpack.py:833: OptimizeWarning: Covariance of the parameters could not be estimated\n",
      "  warnings.warn('Covariance of the parameters could not be estimated',\n",
      "/home/local/Anaconda3-2020.02/envs/py3.9/lib/python3.9/site-packages/scipy/optimize/minpack.py:833: OptimizeWarning: Covariance of the parameters could not be estimated\n",
      "  warnings.warn('Covariance of the parameters could not be estimated',\n",
      "/home/local/Anaconda3-2020.02/envs/py3.9/lib/python3.9/site-packages/scipy/optimize/minpack.py:833: OptimizeWarning: Covariance of the parameters could not be estimated\n",
      "  warnings.warn('Covariance of the parameters could not be estimated',\n",
      "/home/local/Anaconda3-2020.02/envs/py3.9/lib/python3.9/site-packages/scipy/optimize/minpack.py:833: OptimizeWarning: Covariance of the parameters could not be estimated\n",
      "  warnings.warn('Covariance of the parameters could not be estimated',\n",
      "/home/local/Anaconda3-2020.02/envs/py3.9/lib/python3.9/site-packages/scipy/optimize/minpack.py:833: OptimizeWarning: Covariance of the parameters could not be estimated\n",
      "  warnings.warn('Covariance of the parameters could not be estimated',\n"
     ]
    },
    {
     "name": "stdout",
     "output_type": "stream",
     "text": [
      "  See identified lines.\n",
      "  rms:    5.118\n",
      "rejecting 2 points from 92 total: \n",
      "  rms:    3.258\n",
      "rejecting 2 points from 92 total: \n",
      "  See 2D wavecal fit. Enter space in plot window to continue\n",
      "\n",
      "  rms:    0.230 Angstroms (60 lines)\n",
      "  cross correlating with reference spectrum using lags between:  80 279\n",
      "  Derived pixel shift from input wcal:  [ 195.35592551]\n"
     ]
    },
    {
     "name": "stderr",
     "output_type": "stream",
     "text": [
      "/home/local/Anaconda3-2020.02/envs/py3.9/lib/python3.9/site-packages/scipy/optimize/minpack.py:833: OptimizeWarning: Covariance of the parameters could not be estimated\n",
      "  warnings.warn('Covariance of the parameters could not be estimated',\n"
     ]
    },
    {
     "name": "stdout",
     "output_type": "stream",
     "text": [
      "  See identified lines.\n",
      "  rms:    4.114 Angstroms (39 lines)\n",
      "  Input in plot window: \n",
      "       l : to remove all lines to left of cursor\n",
      "       r : to remove all lines to right of cursor\n",
      "       n : to remove line nearest cursor x position\n",
      "       i : return with True value (to allow iteration)\n",
      "       anything else : finish and return\n",
      "  rms:    4.114 Anstroms\n",
      "  input from plot window...\n",
      "  rms:    3.804 Anstroms\n",
      "  input from plot window...\n",
      "  rms:    3.242 Anstroms\n",
      "  input from plot window...\n",
      "  rms:    2.352 Anstroms\n",
      "  input from plot window...\n",
      "  rms:    1.286 Anstroms\n",
      "  input from plot window...\n",
      "\n",
      "  cross correlating with reference spectrum using lags between:  -50 49\n",
      "  Derived pixel shift from input wcal:  [  1.42936793e-06]\n"
     ]
    },
    {
     "name": "stderr",
     "output_type": "stream",
     "text": [
      "/home/local/Anaconda3-2020.02/envs/py3.9/lib/python3.9/site-packages/scipy/optimize/minpack.py:833: OptimizeWarning: Covariance of the parameters could not be estimated\n",
      "  warnings.warn('Covariance of the parameters could not be estimated',\n"
     ]
    },
    {
     "name": "stdout",
     "output_type": "stream",
     "text": [
      "  See identified lines.\n",
      "  rms:    2.810 Angstroms (41 lines)\n",
      "  Input in plot window: \n",
      "       l : to remove all lines to left of cursor\n",
      "       r : to remove all lines to right of cursor\n",
      "       n : to remove line nearest cursor x position\n",
      "       i : return with True value (to allow iteration)\n",
      "       anything else : finish and return\n",
      "  rms:    2.810 Anstroms\n",
      "  input from plot window...\n",
      "  rms:    2.844 Anstroms\n",
      "  input from plot window...\n",
      "  rms:    2.779 Anstroms\n",
      "  input from plot window...\n",
      "  rms:    2.416 Anstroms\n",
      "  input from plot window...\n",
      "  rms:    2.087 Anstroms\n",
      "  input from plot window...\n",
      "  rms:    2.011 Anstroms\n",
      "  input from plot window...\n",
      "  rms:    1.835 Anstroms\n",
      "  input from plot window...\n",
      "\n",
      "  cross correlating with reference spectrum using lags between:  -300 299\n",
      "  Derived pixel shift from input wcal for row: 13 0\n"
     ]
    },
    {
     "name": "stderr",
     "output_type": "stream",
     "text": [
      "/home/local/Anaconda3-2020.02/envs/py3.9/lib/python3.9/site-packages/scipy/optimize/minpack.py:833: OptimizeWarning: Covariance of the parameters could not be estimated\n",
      "  warnings.warn('Covariance of the parameters could not be estimated',\n",
      "/home/local/Anaconda3-2020.02/envs/py3.9/lib/python3.9/site-packages/scipy/optimize/minpack.py:833: OptimizeWarning: Covariance of the parameters could not be estimated\n",
      "  warnings.warn('Covariance of the parameters could not be estimated',\n",
      "/home/local/Anaconda3-2020.02/envs/py3.9/lib/python3.9/site-packages/scipy/optimize/minpack.py:833: OptimizeWarning: Covariance of the parameters could not be estimated\n",
      "  warnings.warn('Covariance of the parameters could not be estimated',\n",
      "/home/local/Anaconda3-2020.02/envs/py3.9/lib/python3.9/site-packages/scipy/optimize/minpack.py:833: OptimizeWarning: Covariance of the parameters could not be estimated\n",
      "  warnings.warn('Covariance of the parameters could not be estimated',\n",
      "/home/local/Anaconda3-2020.02/envs/py3.9/lib/python3.9/site-packages/scipy/optimize/minpack.py:833: OptimizeWarning: Covariance of the parameters could not be estimated\n",
      "  warnings.warn('Covariance of the parameters could not be estimated',\n",
      "/home/local/Anaconda3-2020.02/envs/py3.9/lib/python3.9/site-packages/scipy/optimize/minpack.py:833: OptimizeWarning: Covariance of the parameters could not be estimated\n",
      "  warnings.warn('Covariance of the parameters could not be estimated',\n",
      "/home/local/Anaconda3-2020.02/envs/py3.9/lib/python3.9/site-packages/scipy/optimize/minpack.py:833: OptimizeWarning: Covariance of the parameters could not be estimated\n",
      "  warnings.warn('Covariance of the parameters could not be estimated',\n"
     ]
    },
    {
     "name": "stdout",
     "output_type": "stream",
     "text": [
      "  See identified lines.\n",
      "  rms:    4.460\n",
      "rejecting 1 points from 227 total: \n",
      "  rms:    2.269\n",
      "rejecting 1 points from 227 total: \n",
      "  See 2D wavecal fit. Enter space in plot window to continue\n",
      "\n",
      "  rms:    0.230 Angstroms (60 lines)\n",
      "  cross correlating with reference spectrum using lags between:  1058 1257\n",
      "  Derived pixel shift from input wcal:  [ 1171.90869797]\n"
     ]
    },
    {
     "name": "stderr",
     "output_type": "stream",
     "text": [
      "/home/local/Anaconda3-2020.02/envs/py3.9/lib/python3.9/site-packages/scipy/optimize/minpack.py:833: OptimizeWarning: Covariance of the parameters could not be estimated\n",
      "  warnings.warn('Covariance of the parameters could not be estimated',\n"
     ]
    },
    {
     "name": "stdout",
     "output_type": "stream",
     "text": [
      "  See identified lines.\n",
      "  rms:   12.594 Angstroms (29 lines)\n",
      "  Input in plot window: \n",
      "       l : to remove all lines to left of cursor\n",
      "       r : to remove all lines to right of cursor\n",
      "       n : to remove line nearest cursor x position\n",
      "       i : return with True value (to allow iteration)\n",
      "       anything else : finish and return\n",
      "  rms:   12.594 Anstroms\n",
      "  input from plot window...\n",
      "  rms:   11.148 Anstroms\n",
      "  input from plot window...\n",
      "  rms:    7.692 Anstroms\n",
      "  input from plot window...\n",
      "  rms:    1.813 Anstroms\n",
      "  input from plot window...\n",
      "\n",
      "  cross correlating with reference spectrum using lags between:  -50 49\n",
      "  Derived pixel shift from input wcal:  [  4.06382350e-06]\n"
     ]
    },
    {
     "name": "stderr",
     "output_type": "stream",
     "text": [
      "/home/local/Anaconda3-2020.02/envs/py3.9/lib/python3.9/site-packages/scipy/optimize/minpack.py:833: OptimizeWarning: Covariance of the parameters could not be estimated\n",
      "  warnings.warn('Covariance of the parameters could not be estimated',\n"
     ]
    },
    {
     "name": "stdout",
     "output_type": "stream",
     "text": [
      "  See identified lines.\n",
      "  rms:    7.556 Angstroms (29 lines)\n",
      "  Input in plot window: \n",
      "       l : to remove all lines to left of cursor\n",
      "       r : to remove all lines to right of cursor\n",
      "       n : to remove line nearest cursor x position\n",
      "       i : return with True value (to allow iteration)\n",
      "       anything else : finish and return\n",
      "  rms:    7.556 Anstroms\n",
      "  input from plot window...\n",
      "  rms:    6.643 Anstroms\n",
      "  input from plot window...\n",
      "  rms:    1.837 Anstroms\n",
      "  input from plot window...\n",
      "  rms:    0.584 Anstroms\n",
      "  input from plot window...\n",
      "  rms:    0.229 Anstroms\n",
      "  input from plot window...\n",
      "\n",
      "  cross correlating with reference spectrum using lags between:  -50 49\n",
      "  Derived pixel shift from input wcal:  [  4.06382350e-06]\n"
     ]
    },
    {
     "name": "stderr",
     "output_type": "stream",
     "text": [
      "/home/local/Anaconda3-2020.02/envs/py3.9/lib/python3.9/site-packages/scipy/optimize/minpack.py:833: OptimizeWarning: Covariance of the parameters could not be estimated\n",
      "  warnings.warn('Covariance of the parameters could not be estimated',\n"
     ]
    },
    {
     "name": "stdout",
     "output_type": "stream",
     "text": [
      "  See identified lines.\n",
      "  rms:    1.067 Angstroms (38 lines)\n",
      "  Input in plot window: \n",
      "       l : to remove all lines to left of cursor\n",
      "       r : to remove all lines to right of cursor\n",
      "       n : to remove line nearest cursor x position\n",
      "       i : return with True value (to allow iteration)\n",
      "       anything else : finish and return\n",
      "  rms:    1.067 Anstroms\n",
      "  input from plot window...\n",
      "  rms:    1.032 Anstroms\n",
      "  input from plot window...\n",
      "  rms:    0.208 Anstroms\n",
      "  input from plot window...\n",
      "\n",
      "  cross correlating with reference spectrum using lags between:  -300 299\n",
      "  Derived pixel shift from input wcal for row: 38 0\n"
     ]
    },
    {
     "name": "stderr",
     "output_type": "stream",
     "text": [
      "/home/local/Anaconda3-2020.02/envs/py3.9/lib/python3.9/site-packages/scipy/optimize/minpack.py:833: OptimizeWarning: Covariance of the parameters could not be estimated\n",
      "  warnings.warn('Covariance of the parameters could not be estimated',\n",
      "/home/local/Anaconda3-2020.02/envs/py3.9/lib/python3.9/site-packages/scipy/optimize/minpack.py:833: OptimizeWarning: Covariance of the parameters could not be estimated\n",
      "  warnings.warn('Covariance of the parameters could not be estimated',\n",
      "/home/local/Anaconda3-2020.02/envs/py3.9/lib/python3.9/site-packages/scipy/optimize/minpack.py:833: OptimizeWarning: Covariance of the parameters could not be estimated\n",
      "  warnings.warn('Covariance of the parameters could not be estimated',\n",
      "/home/local/Anaconda3-2020.02/envs/py3.9/lib/python3.9/site-packages/scipy/optimize/minpack.py:833: OptimizeWarning: Covariance of the parameters could not be estimated\n",
      "  warnings.warn('Covariance of the parameters could not be estimated',\n",
      "/home/local/Anaconda3-2020.02/envs/py3.9/lib/python3.9/site-packages/scipy/optimize/minpack.py:833: OptimizeWarning: Covariance of the parameters could not be estimated\n",
      "  warnings.warn('Covariance of the parameters could not be estimated',\n",
      "/home/local/Anaconda3-2020.02/envs/py3.9/lib/python3.9/site-packages/scipy/optimize/minpack.py:833: OptimizeWarning: Covariance of the parameters could not be estimated\n",
      "  warnings.warn('Covariance of the parameters could not be estimated',\n"
     ]
    },
    {
     "name": "stdout",
     "output_type": "stream",
     "text": [
      "  See identified lines.\n",
      "  rms:    0.226\n",
      "rejecting 0 points from 209 total: \n",
      "  See 2D wavecal fit. Enter space in plot window to continue\n",
      "\n",
      "  rms:    0.230 Angstroms (60 lines)\n",
      "  cross correlating with reference spectrum using lags between:  301 500\n",
      "  Derived pixel shift from input wcal:  [ 407.72413438]\n"
     ]
    },
    {
     "name": "stderr",
     "output_type": "stream",
     "text": [
      "/home/local/Anaconda3-2020.02/envs/py3.9/lib/python3.9/site-packages/scipy/optimize/minpack.py:833: OptimizeWarning: Covariance of the parameters could not be estimated\n",
      "  warnings.warn('Covariance of the parameters could not be estimated',\n"
     ]
    },
    {
     "name": "stdout",
     "output_type": "stream",
     "text": [
      "  See identified lines.\n",
      "  rms:   53.487 Angstroms (46 lines)\n",
      "  Input in plot window: \n",
      "       l : to remove all lines to left of cursor\n",
      "       r : to remove all lines to right of cursor\n",
      "       n : to remove line nearest cursor x position\n",
      "       i : return with True value (to allow iteration)\n",
      "       anything else : finish and return\n",
      "  rms:   53.487 Anstroms\n",
      "  input from plot window...\n",
      "  rms:   25.241 Anstroms\n",
      "  input from plot window...\n",
      "  rms:   11.829 Anstroms\n",
      "  input from plot window...\n",
      "  rms:    4.387 Anstroms\n",
      "  input from plot window...\n",
      "  rms:    3.403 Anstroms\n",
      "  input from plot window...\n",
      "  rms:    2.779 Anstroms\n",
      "  input from plot window...\n",
      "  rms:    1.185 Anstroms\n",
      "  input from plot window...\n",
      "  rms:    0.563 Anstroms\n",
      "  input from plot window...\n",
      "  rms:    0.281 Anstroms\n",
      "  input from plot window...\n",
      "\n",
      "  cross correlating with reference spectrum using lags between:  -50 49\n",
      "  Derived pixel shift from input wcal:  [  6.66506779e-08]\n"
     ]
    },
    {
     "name": "stderr",
     "output_type": "stream",
     "text": [
      "/home/local/Anaconda3-2020.02/envs/py3.9/lib/python3.9/site-packages/scipy/optimize/minpack.py:833: OptimizeWarning: Covariance of the parameters could not be estimated\n",
      "  warnings.warn('Covariance of the parameters could not be estimated',\n"
     ]
    },
    {
     "name": "stdout",
     "output_type": "stream",
     "text": [
      "  See identified lines.\n",
      "  rms:    3.701 Angstroms (54 lines)\n",
      "  Input in plot window: \n",
      "       l : to remove all lines to left of cursor\n",
      "       r : to remove all lines to right of cursor\n",
      "       n : to remove line nearest cursor x position\n",
      "       i : return with True value (to allow iteration)\n",
      "       anything else : finish and return\n",
      "  rms:    3.701 Anstroms\n",
      "  input from plot window...\n",
      "  rms:    1.655 Anstroms\n",
      "  input from plot window...\n",
      "  rms:    1.644 Anstroms\n",
      "  input from plot window...\n",
      "  rms:    1.532 Anstroms\n",
      "  input from plot window...\n",
      "  rms:    1.449 Anstroms\n",
      "  input from plot window...\n",
      "  rms:    1.429 Anstroms\n",
      "  input from plot window...\n",
      "  rms:    1.283 Anstroms\n",
      "  input from plot window...\n",
      "  rms:    1.011 Anstroms\n",
      "  input from plot window...\n",
      "  rms:    0.998 Anstroms\n",
      "  input from plot window...\n",
      "  rms:    0.946 Anstroms\n",
      "  input from plot window...\n",
      "  rms:    0.224 Anstroms\n",
      "  input from plot window...\n",
      "\n",
      "  cross correlating with reference spectrum using lags between:  -300 299\n",
      "  Derived pixel shift from input wcal for row: 38 0\n"
     ]
    },
    {
     "name": "stderr",
     "output_type": "stream",
     "text": [
      "/home/local/Anaconda3-2020.02/envs/py3.9/lib/python3.9/site-packages/scipy/optimize/minpack.py:833: OptimizeWarning: Covariance of the parameters could not be estimated\n",
      "  warnings.warn('Covariance of the parameters could not be estimated',\n",
      "/home/local/Anaconda3-2020.02/envs/py3.9/lib/python3.9/site-packages/scipy/optimize/minpack.py:833: OptimizeWarning: Covariance of the parameters could not be estimated\n",
      "  warnings.warn('Covariance of the parameters could not be estimated',\n",
      "/home/local/Anaconda3-2020.02/envs/py3.9/lib/python3.9/site-packages/scipy/optimize/minpack.py:833: OptimizeWarning: Covariance of the parameters could not be estimated\n",
      "  warnings.warn('Covariance of the parameters could not be estimated',\n",
      "/home/local/Anaconda3-2020.02/envs/py3.9/lib/python3.9/site-packages/scipy/optimize/minpack.py:833: OptimizeWarning: Covariance of the parameters could not be estimated\n",
      "  warnings.warn('Covariance of the parameters could not be estimated',\n",
      "/home/local/Anaconda3-2020.02/envs/py3.9/lib/python3.9/site-packages/scipy/optimize/minpack.py:833: OptimizeWarning: Covariance of the parameters could not be estimated\n",
      "  warnings.warn('Covariance of the parameters could not be estimated',\n",
      "/home/local/Anaconda3-2020.02/envs/py3.9/lib/python3.9/site-packages/scipy/optimize/minpack.py:833: OptimizeWarning: Covariance of the parameters could not be estimated\n",
      "  warnings.warn('Covariance of the parameters could not be estimated',\n"
     ]
    },
    {
     "name": "stdout",
     "output_type": "stream",
     "text": [
      "  See identified lines.\n",
      "  rms:    0.255\n",
      "rejecting 1 points from 260 total: \n",
      "  rms:    0.251\n",
      "rejecting 1 points from 260 total: \n",
      "  See 2D wavecal fit. Enter space in plot window to continue\n",
      "\n",
      "  rms:    0.230 Angstroms (60 lines)\n",
      "  cross correlating with reference spectrum using lags between:  627 826\n",
      "  Derived pixel shift from input wcal:  [ 735.75455829]\n"
     ]
    },
    {
     "name": "stderr",
     "output_type": "stream",
     "text": [
      "/home/local/Anaconda3-2020.02/envs/py3.9/lib/python3.9/site-packages/scipy/optimize/minpack.py:833: OptimizeWarning: Covariance of the parameters could not be estimated\n",
      "  warnings.warn('Covariance of the parameters could not be estimated',\n"
     ]
    },
    {
     "name": "stdout",
     "output_type": "stream",
     "text": [
      "  See identified lines.\n",
      "  rms:   58.318 Angstroms (40 lines)\n",
      "  Input in plot window: \n",
      "       l : to remove all lines to left of cursor\n",
      "       r : to remove all lines to right of cursor\n",
      "       n : to remove line nearest cursor x position\n",
      "       i : return with True value (to allow iteration)\n",
      "       anything else : finish and return\n",
      "  rms:   58.318 Anstroms\n",
      "  input from plot window...\n",
      "  rms:   44.094 Anstroms\n",
      "  input from plot window...\n",
      "  rms:   37.167 Anstroms\n",
      "  input from plot window...\n",
      "  rms:    4.147 Anstroms\n",
      "  input from plot window...\n",
      "  rms:    2.826 Anstroms\n",
      "  input from plot window...\n",
      "  rms:    4.435 Anstroms\n",
      "  input from plot window...\n",
      "\n",
      "  cross correlating with reference spectrum using lags between:  -50 49\n",
      "  Derived pixel shift from input wcal:  [  1.92143546e-09]\n"
     ]
    },
    {
     "name": "stderr",
     "output_type": "stream",
     "text": [
      "/home/local/Anaconda3-2020.02/envs/py3.9/lib/python3.9/site-packages/scipy/optimize/minpack.py:833: OptimizeWarning: Covariance of the parameters could not be estimated\n",
      "  warnings.warn('Covariance of the parameters could not be estimated',\n"
     ]
    },
    {
     "name": "stdout",
     "output_type": "stream",
     "text": [
      "  See identified lines.\n",
      "  rms:  202.974 Angstroms (84 lines)\n",
      "  Input in plot window: \n",
      "       l : to remove all lines to left of cursor\n",
      "       r : to remove all lines to right of cursor\n",
      "       n : to remove line nearest cursor x position\n",
      "       i : return with True value (to allow iteration)\n",
      "       anything else : finish and return\n",
      "  rms:  202.974 Anstroms\n",
      "  input from plot window...\n",
      "  rms:   49.052 Anstroms\n",
      "  input from plot window...\n",
      "  rms:   33.405 Anstroms\n",
      "  input from plot window...\n",
      "  rms:   33.405 Anstroms\n",
      "  input from plot window...\n",
      "  rms:   23.873 Anstroms\n",
      "  input from plot window...\n",
      "  rms:   18.468 Anstroms\n",
      "  input from plot window...\n",
      "\n",
      "  cross correlating with reference spectrum using lags between:  -50 49\n",
      "  Derived pixel shift from input wcal:  [  1.92143546e-09]\n"
     ]
    },
    {
     "name": "stderr",
     "output_type": "stream",
     "text": [
      "/home/local/Anaconda3-2020.02/envs/py3.9/lib/python3.9/site-packages/scipy/optimize/minpack.py:833: OptimizeWarning: Covariance of the parameters could not be estimated\n",
      "  warnings.warn('Covariance of the parameters could not be estimated',\n"
     ]
    },
    {
     "name": "stdout",
     "output_type": "stream",
     "text": [
      "  See identified lines.\n",
      "  rms:  100.722 Angstroms (85 lines)\n",
      "  Input in plot window: \n",
      "       l : to remove all lines to left of cursor\n",
      "       r : to remove all lines to right of cursor\n",
      "       n : to remove line nearest cursor x position\n",
      "       i : return with True value (to allow iteration)\n",
      "       anything else : finish and return\n",
      "  rms:  100.722 Anstroms\n",
      "  input from plot window...\n",
      "\n",
      "  cross correlating with reference spectrum using lags between:  -300 299\n",
      "  Derived pixel shift from input wcal for row: 38 0\n"
     ]
    },
    {
     "name": "stderr",
     "output_type": "stream",
     "text": [
      "/home/local/Anaconda3-2020.02/envs/py3.9/lib/python3.9/site-packages/scipy/optimize/minpack.py:833: OptimizeWarning: Covariance of the parameters could not be estimated\n",
      "  warnings.warn('Covariance of the parameters could not be estimated',\n",
      "/home/local/Anaconda3-2020.02/envs/py3.9/lib/python3.9/site-packages/scipy/optimize/minpack.py:833: OptimizeWarning: Covariance of the parameters could not be estimated\n",
      "  warnings.warn('Covariance of the parameters could not be estimated',\n",
      "/home/local/Anaconda3-2020.02/envs/py3.9/lib/python3.9/site-packages/scipy/optimize/minpack.py:833: OptimizeWarning: Covariance of the parameters could not be estimated\n",
      "  warnings.warn('Covariance of the parameters could not be estimated',\n",
      "/home/local/Anaconda3-2020.02/envs/py3.9/lib/python3.9/site-packages/scipy/optimize/minpack.py:833: OptimizeWarning: Covariance of the parameters could not be estimated\n",
      "  warnings.warn('Covariance of the parameters could not be estimated',\n",
      "/home/local/Anaconda3-2020.02/envs/py3.9/lib/python3.9/site-packages/scipy/optimize/minpack.py:833: OptimizeWarning: Covariance of the parameters could not be estimated\n",
      "  warnings.warn('Covariance of the parameters could not be estimated',\n",
      "/home/local/Anaconda3-2020.02/envs/py3.9/lib/python3.9/site-packages/scipy/optimize/minpack.py:833: OptimizeWarning: Covariance of the parameters could not be estimated\n",
      "  warnings.warn('Covariance of the parameters could not be estimated',\n"
     ]
    },
    {
     "name": "stdout",
     "output_type": "stream",
     "text": [
      "  See identified lines.\n",
      "  rms:  196.541\n",
      "rejecting 6 points from 418 total: \n",
      "  rms:   61.782\n",
      "rejecting 6 points from 418 total: \n",
      "  See 2D wavecal fit. Enter space in plot window to continue\n"
     ]
    },
    {
     "ename": "KeyboardInterrupt",
     "evalue": "",
     "output_type": "error",
     "traceback": [
      "\u001b[0;31m---------------------------------------------------------------------------\u001b[0m",
      "\u001b[0;31mKeyboardInterrupt\u001b[0m                         Traceback (most recent call last)",
      "Input \u001b[0;32mIn [570]\u001b[0m, in \u001b[0;36m<module>\u001b[0;34m\u001b[0m\n\u001b[1;32m     14\u001b[0m     plt\u001b[38;5;241m.\u001b[39mclose()\n\u001b[1;32m     16\u001b[0m \u001b[38;5;66;03m# Do the 2D wavelength solution, sampling 5 locations across slitlet\u001b[39;00m\n\u001b[0;32m---> 17\u001b[0m \u001b[43mwav\u001b[49m\u001b[38;5;241;43m.\u001b[39;49m\u001b[43midentify\u001b[49m\u001b[43m(\u001b[49m\u001b[43marc\u001b[49m\u001b[43m,\u001b[49m\u001b[43mplot\u001b[49m\u001b[38;5;241;43m=\u001b[39;49m\u001b[38;5;28;43;01mTrue\u001b[39;49;00m\u001b[43m,\u001b[49m\u001b[43mnskip\u001b[49m\u001b[38;5;241;43m=\u001b[39;49m\u001b[43mnrow\u001b[49m\u001b[38;5;241;43m/\u001b[39;49m\u001b[38;5;241;43m/\u001b[39;49m\u001b[38;5;241;43m5\u001b[39;49m\u001b[43m,\u001b[49m\u001b[43mthresh\u001b[49m\u001b[38;5;241;43m=\u001b[39;49m\u001b[38;5;241;43m10\u001b[39;49m\u001b[43m)\u001b[49m\n\u001b[1;32m     18\u001b[0m plt\u001b[38;5;241m.\u001b[39mclose()\n",
      "File \u001b[0;32m/home/holtz/git/pyvista/python/pyvista/spectra.py:699\u001b[0m, in \u001b[0;36mWaveCal.identify\u001b[0;34m(self, spectrum, file, wav, wref, inter, orders, verbose, rad, thresh, fit, maxshift, disp, display, plot, pixplot, domain, plotinter, xmin, xmax, lags, nskip)\u001b[0m\n\u001b[1;32m    697\u001b[0m redo \u001b[38;5;241m=\u001b[39m \u001b[38;5;28;01mFalse\u001b[39;00m\n\u001b[1;32m    698\u001b[0m \u001b[38;5;28;01mif\u001b[39;00m fit: \n\u001b[0;32m--> 699\u001b[0m     redo \u001b[38;5;241m=\u001b[39m \u001b[38;5;28;43mself\u001b[39;49m\u001b[38;5;241;43m.\u001b[39;49m\u001b[43mfit\u001b[49m\u001b[43m(\u001b[49m\u001b[43minter\u001b[49m\u001b[38;5;241;43m=\u001b[39;49m\u001b[43mplotinter\u001b[49m\u001b[43m)\u001b[49m\n\u001b[1;32m    700\u001b[0m     spectrum\u001b[38;5;241m.\u001b[39madd_wave(\u001b[38;5;28mself\u001b[39m\u001b[38;5;241m.\u001b[39mwave(image\u001b[38;5;241m=\u001b[39mspectrum\u001b[38;5;241m.\u001b[39mdata\u001b[38;5;241m.\u001b[39mshape))\n\u001b[1;32m    701\u001b[0m \u001b[38;5;28mprint\u001b[39m(\u001b[38;5;124m'\u001b[39m\u001b[38;5;124m'\u001b[39m)\n",
      "File \u001b[0;32m/home/holtz/git/pyvista/python/pyvista/spectra.py:335\u001b[0m, in \u001b[0;36mWaveCal.fit\u001b[0;34m(self, degree, reject, inter)\u001b[0m\n\u001b[1;32m    333\u001b[0m         \u001b[38;5;28mprint\u001b[39m(\u001b[38;5;124m'\u001b[39m\u001b[38;5;124m  See 2D wavecal fit. Enter space in plot window to continue\u001b[39m\u001b[38;5;124m'\u001b[39m)\n\u001b[1;32m    334\u001b[0m         \u001b[38;5;28;01mif\u001b[39;00m inter :\n\u001b[0;32m--> 335\u001b[0m             get\u001b[38;5;241m=\u001b[39m\u001b[43mplots\u001b[49m\u001b[38;5;241;43m.\u001b[39;49m\u001b[43mmark\u001b[49m\u001b[43m(\u001b[49m\u001b[38;5;28;43mself\u001b[39;49m\u001b[38;5;241;43m.\u001b[39;49m\u001b[43mfig\u001b[49m\u001b[43m)\u001b[49m\n\u001b[1;32m    337\u001b[0m \u001b[38;5;28;01melse\u001b[39;00m :\n\u001b[1;32m    338\u001b[0m   \u001b[38;5;66;03m# 1D fit, loop over all rows in which lines have been identified\u001b[39;00m\n\u001b[1;32m    339\u001b[0m   nmod \u001b[38;5;241m=\u001b[39m \u001b[38;5;28mlen\u001b[39m(\u001b[38;5;28mset\u001b[39m(\u001b[38;5;28mself\u001b[39m\u001b[38;5;241m.\u001b[39my))\n",
      "File \u001b[0;32m/home/holtz/git/tools/python/tools/plots.py:75\u001b[0m, in \u001b[0;36mmark\u001b[0;34m(fig, index)\u001b[0m\n\u001b[1;32m     73\u001b[0m \u001b[38;5;28;01mglobal\u001b[39;00m _block, _x, _y, _button\n\u001b[1;32m     74\u001b[0m _block \u001b[38;5;241m=\u001b[39m \u001b[38;5;241m1\u001b[39m\n\u001b[0;32m---> 75\u001b[0m \u001b[43mevent\u001b[49m\u001b[43m(\u001b[49m\u001b[43mfig\u001b[49m\u001b[43m)\u001b[49m\n\u001b[1;32m     76\u001b[0m \u001b[38;5;28;01mif\u001b[39;00m index :\u001b[38;5;28;01mreturn\u001b[39;00m _x, _y, _button, _index[\u001b[38;5;241m0\u001b[39m]\n\u001b[1;32m     77\u001b[0m \u001b[38;5;28;01melse\u001b[39;00m : \u001b[38;5;28;01mreturn\u001b[39;00m _x, _y, _button\n",
      "File \u001b[0;32m/home/holtz/git/tools/python/tools/plots.py:70\u001b[0m, in \u001b[0;36mevent\u001b[0;34m(fig)\u001b[0m\n\u001b[1;32m     68\u001b[0m cid \u001b[38;5;241m=\u001b[39m fig\u001b[38;5;241m.\u001b[39mcanvas\u001b[38;5;241m.\u001b[39mmpl_connect(\u001b[38;5;124m'\u001b[39m\u001b[38;5;124mkey_press_event\u001b[39m\u001b[38;5;124m'\u001b[39m,onpress)\n\u001b[1;32m     69\u001b[0m cid \u001b[38;5;241m=\u001b[39m fig\u001b[38;5;241m.\u001b[39mcanvas\u001b[38;5;241m.\u001b[39mmpl_connect(\u001b[38;5;124m'\u001b[39m\u001b[38;5;124mclose_event\u001b[39m\u001b[38;5;124m'\u001b[39m,onclose)\n\u001b[0;32m---> 70\u001b[0m \u001b[38;5;28;01mif\u001b[39;00m _block \u001b[38;5;241m==\u001b[39m \u001b[38;5;241m1\u001b[39m : \u001b[43mfig\u001b[49m\u001b[38;5;241;43m.\u001b[39;49m\u001b[43mcanvas\u001b[49m\u001b[38;5;241;43m.\u001b[39;49m\u001b[43mstart_event_loop\u001b[49m\u001b[43m(\u001b[49m\u001b[38;5;241;43m0\u001b[39;49m\u001b[43m)\u001b[49m\n",
      "File \u001b[0;32m/home/local/Anaconda3-2020.02/envs/py3.9/lib/python3.9/site-packages/matplotlib/backends/backend_qt.py:409\u001b[0m, in \u001b[0;36mFigureCanvasQT.start_event_loop\u001b[0;34m(self, timeout)\u001b[0m\n\u001b[1;32m    405\u001b[0m     timer \u001b[38;5;241m=\u001b[39m QtCore\u001b[38;5;241m.\u001b[39mQTimer\u001b[38;5;241m.\u001b[39msingleShot(\u001b[38;5;28mint\u001b[39m(timeout \u001b[38;5;241m*\u001b[39m \u001b[38;5;241m1000\u001b[39m),\n\u001b[1;32m    406\u001b[0m                                      event_loop\u001b[38;5;241m.\u001b[39mquit)\n\u001b[1;32m    408\u001b[0m \u001b[38;5;28;01mwith\u001b[39;00m _maybe_allow_interrupt(event_loop):\n\u001b[0;32m--> 409\u001b[0m     qt_compat\u001b[38;5;241m.\u001b[39m_exec(event_loop)\n",
      "File \u001b[0;32m/home/local/Anaconda3-2020.02/envs/py3.9/lib/python3.9/contextlib.py:126\u001b[0m, in \u001b[0;36m_GeneratorContextManager.__exit__\u001b[0;34m(self, typ, value, traceback)\u001b[0m\n\u001b[1;32m    124\u001b[0m \u001b[38;5;28;01mif\u001b[39;00m typ \u001b[38;5;129;01mis\u001b[39;00m \u001b[38;5;28;01mNone\u001b[39;00m:\n\u001b[1;32m    125\u001b[0m     \u001b[38;5;28;01mtry\u001b[39;00m:\n\u001b[0;32m--> 126\u001b[0m         \u001b[38;5;28;43mnext\u001b[39;49m\u001b[43m(\u001b[49m\u001b[38;5;28;43mself\u001b[39;49m\u001b[38;5;241;43m.\u001b[39;49m\u001b[43mgen\u001b[49m\u001b[43m)\u001b[49m\n\u001b[1;32m    127\u001b[0m     \u001b[38;5;28;01mexcept\u001b[39;00m \u001b[38;5;167;01mStopIteration\u001b[39;00m:\n\u001b[1;32m    128\u001b[0m         \u001b[38;5;28;01mreturn\u001b[39;00m \u001b[38;5;28;01mFalse\u001b[39;00m\n",
      "File \u001b[0;32m/home/local/Anaconda3-2020.02/envs/py3.9/lib/python3.9/site-packages/matplotlib/backends/qt_compat.py:262\u001b[0m, in \u001b[0;36m_maybe_allow_interrupt\u001b[0;34m(qapp)\u001b[0m\n\u001b[1;32m    260\u001b[0m signal\u001b[38;5;241m.\u001b[39msignal(signal\u001b[38;5;241m.\u001b[39mSIGINT, old_sigint_handler)\n\u001b[1;32m    261\u001b[0m \u001b[38;5;28;01mif\u001b[39;00m handler_args \u001b[38;5;129;01mis\u001b[39;00m \u001b[38;5;129;01mnot\u001b[39;00m \u001b[38;5;28;01mNone\u001b[39;00m:\n\u001b[0;32m--> 262\u001b[0m     \u001b[43mold_sigint_handler\u001b[49m\u001b[43m(\u001b[49m\u001b[38;5;241;43m*\u001b[39;49m\u001b[43mhandler_args\u001b[49m\u001b[43m)\u001b[49m\n",
      "\u001b[0;31mKeyboardInterrupt\u001b[0m: "
     ]
    }
   ],
   "source": [
    "for i,arc in enumerate(arcec) :\n",
    "    wav=spectra.WaveCal('KOSMOS/KOSMOS_red_low_waves.fits')\n",
    "    nrow=arc.shape[0]\n",
    "    \n",
    "    # get initial guess at shift from reference using XMM (KOSMOD red low!)\n",
    "    shift=int(arc.header['XMM']*-22.5)+550  #-wav.pix0)\n",
    "    lags=np.arange(shift-100,shift+100)\n",
    "\n",
    "    iter = True\n",
    "    while iter :\n",
    "        iter = wav.identify(arc[nrow//2],plot=True,plotinter=True,\n",
    "                            lags=lags,thresh=10,file='henearkr.dat')\n",
    "        lags=np.arange(-50,50)\n",
    "        plt.close()\n",
    "        \n",
    "    # Do the 2D wavelength solution, sampling 5 locations across slitlet\n",
    "    wav.identify(arc,plot=True,nskip=nrow//5,thresh=10)\n",
    "    plt.close()"
   ]
  },
  {
   "cell_type": "markdown",
   "id": "a3ff6297",
   "metadata": {},
   "source": [
    "Now extract the science frame."
   ]
  },
  {
   "cell_type": "code",
   "execution_count": 544,
   "id": "2a48dbc1",
   "metadata": {
    "scrolled": true
   },
   "outputs": [
    {
     "name": "stdout",
     "output_type": "stream",
     "text": [
      "extracting: \n",
      " 233-249\n",
      " 275-289\n",
      " 455-494\n",
      " 585-624\n",
      " 695-734\n",
      " 770-809\n",
      " 878-917\n",
      " 976-1015\n",
      " 1073-1112\n",
      " 1160-1175\n",
      " 1237-1252\n",
      " 1356-1395\n",
      " 1502-1518\n",
      " 1642-1680\n",
      " 1758-1796\n"
     ]
    }
   ],
   "source": [
    "out=trace.extract2d(im,display=t)"
   ]
  },
  {
   "cell_type": "markdown",
   "id": "3e5ce10c",
   "metadata": {},
   "source": [
    "Look through the output extrations, and add the wavelength array from the arcs."
   ]
  },
  {
   "cell_type": "code",
   "execution_count": 552,
   "id": "56e452d3",
   "metadata": {},
   "outputs": [
    {
     "name": "stdout",
     "output_type": "stream",
     "text": [
      "(16, 4096)\n",
      "197p2_mask1_red\n",
      "(14, 4096)\n",
      "197p2_mask1_red\n",
      "(39, 4096)\n",
      "197p2_mask1_red\n",
      "(39, 4096)\n",
      "197p2_mask1_red\n",
      "(39, 4096)\n",
      "197p2_mask1_red\n",
      "(39, 4096)\n",
      "197p2_mask1_red\n",
      "(39, 4096)\n",
      "197p2_mask1_red\n",
      "(39, 4096)\n",
      "197p2_mask1_red\n",
      "(39, 4096)\n",
      "197p2_mask1_red\n",
      "(15, 4096)\n",
      "197p2_mask1_red\n",
      "(15, 4096)\n",
      "197p2_mask1_red\n",
      "(39, 4096)\n",
      "197p2_mask1_red\n",
      "(16, 4096)\n",
      "197p2_mask1_red\n",
      "(38, 4096)\n",
      "197p2_mask1_red\n",
      "(38, 4096)\n",
      "197p2_mask1_red\n"
     ]
    }
   ],
   "source": [
    "t.clear()\n",
    "plt.figure()\n",
    "for i,(o,a) in enumerate(zip(out,arcec)) :\n",
    "    print(o.shape)\n",
    "    o.add_wave(a.wave)\n",
    "    name = o.header[\"FILE\"].split(\".\")[0]\n",
    "    print(name)\n",
    "    #t.tv(o)\n",
    "    #t.tv(o.wave)\n",
    "    plt.plot(o.wave[10],o.data[10])\n",
    "    #o.write(name + \"_{:d}.fits\".format(i))  "
   ]
  },
  {
   "cell_type": "markdown",
   "id": "eb8e55c5",
   "metadata": {},
   "source": [
    "As desired, move on to 1D extraction"
   ]
  },
  {
   "cell_type": "code",
   "execution_count": 571,
   "id": "47e516bb",
   "metadata": {},
   "outputs": [],
   "source": [
    "t.tv(im)"
   ]
  },
  {
   "cell_type": "code",
   "execution_count": null,
   "id": "08b53106",
   "metadata": {},
   "outputs": [],
   "source": []
  }
 ],
 "metadata": {
  "kernelspec": {
   "display_name": "Python 3 (ipykernel)",
   "language": "python",
   "name": "python3"
  },
  "language_info": {
   "codemirror_mode": {
    "name": "ipython",
    "version": 3
   },
   "file_extension": ".py",
   "mimetype": "text/x-python",
   "name": "python",
   "nbconvert_exporter": "python",
   "pygments_lexer": "ipython3",
   "version": "3.9.9"
  }
 },
 "nbformat": 4,
 "nbformat_minor": 5
}
