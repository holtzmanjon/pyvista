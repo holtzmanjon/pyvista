{
 "cells": [
  {
   "cell_type": "markdown",
   "id": "9cc0929e",
   "metadata": {},
   "source": [
    "<h2>Slitmask module"
   ]
  },
  {
   "cell_type": "markdown",
   "id": "e31a9526",
   "metadata": {},
   "source": [
    "<b><i> This is not a developed notebook and just gives some test usage of slitmask routines, which are not fully developed/tested"
   ]
  },
  {
   "cell_type": "code",
   "execution_count": 554,
   "id": "1d06b78a",
   "metadata": {},
   "outputs": [],
   "source": [
    "from pyvista import imred, tv, stars, slitmask, image\n",
    "import pdb\n",
    "import copy\n",
    "import numpy as np\n",
    "import matplotlib.pyplot as plt\n",
    "import os\n",
    "from astropy.table import vstack"
   ]
  },
  {
   "cell_type": "code",
   "execution_count": 290,
   "id": "e08e3334",
   "metadata": {},
   "outputs": [],
   "source": [
    "%matplotlib qt\n",
    "t=tv.TV()"
   ]
  },
  {
   "cell_type": "markdown",
   "id": "55118cf4",
   "metadata": {},
   "source": [
    "<h3> Acquisition </h3>"
   ]
  },
  {
   "cell_type": "code",
   "execution_count": 555,
   "id": "63d1ccfb",
   "metadata": {},
   "outputs": [],
   "source": [
    "red=imred.Reducer('KOSMOS',dir='/home/holtz/raw/apo/UT221221_cleaned',verbose=False)                                                         "
   ]
  },
  {
   "cell_type": "code",
   "execution_count": 292,
   "id": "7e687dc4",
   "metadata": {},
   "outputs": [
    {
     "data": {
      "text/html": [
       "<div><i>Table length=41</i>\n",
       "<table id=\"table47939709372304\" class=\"table-striped table-bordered table-condensed\">\n",
       "<thead><tr><th>FILE</th><th>DATE-OBS</th><th>OBJNAME</th><th>RA</th><th>DEC</th><th>EXPTIME</th></tr></thead>\n",
       "<thead><tr><th>bytes42</th><th>bytes26</th><th>bytes23</th><th>bytes16</th><th>bytes16</th><th>bytes16</th></tr></thead>\n",
       "<tr><td>MOS2_quartz_flat_image.0001.fits</td><td>2022-07-09T03:21:07.134252</td><td></td><td>6:56:00.00</td><td>70:00:00.00</td><td>0.5</td></tr>\n",
       "<tr><td>MOS2_quartz_flat_image.0002.fits</td><td>2022-07-09T03:24:45.689872</td><td></td><td>6:56:00.00</td><td>70:00:00.00</td><td>0.5</td></tr>\n",
       "<tr><td>MOS2_quartz_flat_image.0003.fits</td><td>2022-07-09T03:28:26.731187</td><td></td><td>6:56:00.00</td><td>70:00:00.00</td><td>0.5</td></tr>\n",
       "<tr><td>bias.0001.fits</td><td>2022-07-09T06:23:41.763063</td><td>2MASS 1746</td><td>17:46:11.99</td><td>50:34:03.60</td><td>0</td></tr>\n",
       "<tr><td>bias.0002.fits</td><td>2022-07-09T06:24:35.610926</td><td>2MASS 1746</td><td>17:46:11.99</td><td>50:34:03.60</td><td>0</td></tr>\n",
       "<tr><td>bias.0003.fits</td><td>2022-07-09T06:25:29.285990</td><td>2MASS 1746</td><td>17:46:11.99</td><td>50:34:03.60</td><td>0</td></tr>\n",
       "<tr><td>...</td><td>...</td><td>...</td><td>...</td><td>...</td><td>...</td></tr>\n",
       "<tr><td>flat_quartz_truss_red.0001.fits</td><td>2022-07-09T10:27:42.697081</td><td>SDSSJ222655.88+255009.3</td><td>22:26:55.89</td><td>25:50:09.33</td><td>60.0</td></tr>\n",
       "<tr><td>flat_quartz_truss_red.0002.fits</td><td>2022-07-09T10:29:37.741194</td><td>SDSSJ222655.88+255009.3</td><td>22:26:55.89</td><td>25:50:09.33</td><td>60.0</td></tr>\n",
       "<tr><td>flat_quartz_truss_red.0003.fits</td><td>2022-07-09T10:31:32.048222</td><td>SDSSJ222655.88+255009.3</td><td>22:26:55.89</td><td>25:50:09.33</td><td>60.0</td></tr>\n",
       "<tr><td>flat_quartz_truss_red.0004.fits</td><td>2022-07-09T10:33:26.060567</td><td>SDSSJ222655.88+255009.3</td><td>22:26:55.89</td><td>25:50:09.33</td><td>60.0</td></tr>\n",
       "<tr><td>flat_quartz_truss_red.0005.fits</td><td>2022-07-09T10:35:20.074926</td><td>SDSSJ222655.88+255009.3</td><td>22:26:55.89</td><td>25:50:09.33</td><td>60.0</td></tr>\n",
       "<tr><td>NeKrAr_r.0001.fits</td><td>2022-07-09T10:37:46.584225</td><td>SDSSJ222655.88+255009.3</td><td>22:26:55.89</td><td>25:50:09.33</td><td>1.5</td></tr>\n",
       "<tr><td>NeKrAr_b.0001.fits</td><td>2022-07-09T10:38:52.078579</td><td>SDSSJ222655.88+255009.3</td><td>22:26:55.89</td><td>25:50:09.33</td><td>50.0</td></tr>\n",
       "</table></div>"
      ],
      "text/plain": [
       "<Table length=41>\n",
       "              FILE                        DATE-OBS          ...     DEC     EXPTIME\n",
       "            bytes42                       bytes26           ...   bytes16   bytes16\n",
       "-------------------------------- -------------------------- ... ----------- -------\n",
       "MOS2_quartz_flat_image.0001.fits 2022-07-09T03:21:07.134252 ... 70:00:00.00     0.5\n",
       "MOS2_quartz_flat_image.0002.fits 2022-07-09T03:24:45.689872 ... 70:00:00.00     0.5\n",
       "MOS2_quartz_flat_image.0003.fits 2022-07-09T03:28:26.731187 ... 70:00:00.00     0.5\n",
       "                  bias.0001.fits 2022-07-09T06:23:41.763063 ... 50:34:03.60       0\n",
       "                  bias.0002.fits 2022-07-09T06:24:35.610926 ... 50:34:03.60       0\n",
       "                  bias.0003.fits 2022-07-09T06:25:29.285990 ... 50:34:03.60       0\n",
       "                             ...                        ... ...         ...     ...\n",
       " flat_quartz_truss_red.0001.fits 2022-07-09T10:27:42.697081 ... 25:50:09.33    60.0\n",
       " flat_quartz_truss_red.0002.fits 2022-07-09T10:29:37.741194 ... 25:50:09.33    60.0\n",
       " flat_quartz_truss_red.0003.fits 2022-07-09T10:31:32.048222 ... 25:50:09.33    60.0\n",
       " flat_quartz_truss_red.0004.fits 2022-07-09T10:33:26.060567 ... 25:50:09.33    60.0\n",
       " flat_quartz_truss_red.0005.fits 2022-07-09T10:35:20.074926 ... 25:50:09.33    60.0\n",
       "              NeKrAr_r.0001.fits 2022-07-09T10:37:46.584225 ... 25:50:09.33     1.5\n",
       "              NeKrAr_b.0001.fits 2022-07-09T10:38:52.078579 ... 25:50:09.33    50.0"
      ]
     },
     "execution_count": 292,
     "metadata": {},
     "output_type": "execute_result"
    }
   ],
   "source": [
    "red.log()"
   ]
  },
  {
   "cell_type": "markdown",
   "id": "2e7d75af",
   "metadata": {},
   "source": [
    "Read in image with mask in, and image without mask"
   ]
  },
  {
   "cell_type": "code",
   "execution_count": 556,
   "id": "4dd7f0ba",
   "metadata": {},
   "outputs": [
    {
     "name": "stdout",
     "output_type": "stream",
     "text": [
      "INFO: array provided for uncertainty; assuming it is a StdDevUncertainty. [astropy.nddata.ccddata]\n"
     ]
    }
   ],
   "source": [
    "mask=red.reduce(51)\n",
    "t.clear()\n",
    "t.tv(mask,max=3000)"
   ]
  },
  {
   "cell_type": "code",
   "execution_count": 557,
   "id": "bcff0497",
   "metadata": {},
   "outputs": [
    {
     "name": "stdout",
     "output_type": "stream",
     "text": [
      "INFO: array provided for uncertainty; assuming it is a StdDevUncertainty. [astropy.nddata.ccddata]\n"
     ]
    }
   ],
   "source": [
    "nomask=red.reduce(52)\n",
    "t.tv(nomask,max=30000)"
   ]
  },
  {
   "cell_type": "markdown",
   "id": "b99fcd1e",
   "metadata": {},
   "source": [
    "Do CR rejection on mask image to avoid spurious detections"
   ]
  },
  {
   "cell_type": "code",
   "execution_count": 558,
   "id": "90e09265",
   "metadata": {},
   "outputs": [],
   "source": [
    "maskcr=red.crrej(mask,crbox=[5,5])"
   ]
  },
  {
   "cell_type": "markdown",
   "id": "825da41f",
   "metadata": {},
   "source": [
    "Use findholes() to identify the holes in the mask. May need to adjust thresh= for brightness threshold, and n= for number of clusters to detect."
   ]
  },
  {
   "cell_type": "code",
   "execution_count": 559,
   "id": "9e496042",
   "metadata": {},
   "outputs": [
    {
     "data": {
      "text/html": [
       "<div><i>Table length=15</i>\n",
       "<table id=\"table47939701025040\" class=\"table-striped table-bordered table-condensed\">\n",
       "<thead><tr><th>y</th><th>x</th></tr></thead>\n",
       "<thead><tr><th>float64</th><th>float64</th></tr></thead>\n",
       "<tr><td>1847.45695364</td><td>1388.37417219</td></tr>\n",
       "<tr><td>2194.5</td><td>728.0</td></tr>\n",
       "<tr><td>1864.5</td><td>616.0</td></tr>\n",
       "<tr><td>1829.5</td><td>1008.0</td></tr>\n",
       "<tr><td>2627.53535354</td><td>489.050505051</td></tr>\n",
       "<tr><td>1274.63541667</td><td>799.496527778</td></tr>\n",
       "<tr><td>1998.44947735</td><td>1790.21254355</td></tr>\n",
       "<tr><td>2221.31205674</td><td>910.517730496</td></tr>\n",
       "<tr><td>1621.81021898</td><td>1104.29562044</td></tr>\n",
       "<tr><td>2013.97709924</td><td>1675.0610687</td></tr>\n",
       "<tr><td>1992.51851852</td><td>1257.5308642</td></tr>\n",
       "<tr><td>2451.44104803</td><td>1525.81222707</td></tr>\n",
       "<tr><td>1643.0</td><td>292.5</td></tr>\n",
       "<tr><td>2158.0</td><td>255.0</td></tr>\n",
       "<tr><td>1255.0</td><td>1179.0</td></tr>\n",
       "</table></div>"
      ],
      "text/plain": [
       "<Table length=15>\n",
       "      y             x      \n",
       "   float64       float64   \n",
       "------------- -------------\n",
       "1847.45695364 1388.37417219\n",
       "       2194.5         728.0\n",
       "       1864.5         616.0\n",
       "       1829.5        1008.0\n",
       "2627.53535354 489.050505051\n",
       "1274.63541667 799.496527778\n",
       "1998.44947735 1790.21254355\n",
       "2221.31205674 910.517730496\n",
       "1621.81021898 1104.29562044\n",
       "2013.97709924  1675.0610687\n",
       "1992.51851852  1257.5308642\n",
       "2451.44104803 1525.81222707\n",
       "       1643.0         292.5\n",
       "       2158.0         255.0\n",
       "       1255.0        1179.0"
      ]
     },
     "execution_count": 559,
     "metadata": {},
     "output_type": "execute_result"
    }
   ],
   "source": [
    "holes=slitmask.findholes(maskcr.data,thresh=1500,n=29)\n",
    "t.clear()\n",
    "t.tv(maskcr)\n",
    "stars.mark(t,holes,color='b',exit=True,rad=10)"
   ]
  },
  {
   "cell_type": "markdown",
   "id": "9060f8f2",
   "metadata": {},
   "source": [
    "Get design from KMS file and see if we have correct numbers of slits/holes identified"
   ]
  },
  {
   "cell_type": "code",
   "execution_count": 561,
   "id": "63e71c5b",
   "metadata": {},
   "outputs": [
    {
     "name": "stdout",
     "output_type": "stream",
     "text": [
      "15 15\n"
     ]
    },
    {
     "data": {
      "text/html": [
       "<div><i>Table length=15</i>\n",
       "<table id=\"table47940041477904\" class=\"table-striped table-bordered table-condensed\">\n",
       "<thead><tr><th>ALPHA</th><th>DELTA</th><th>LEN</th><th>LENMM</th><th>NAME</th><th>ROT</th><th>SHAPE</th><th>TARG101</th><th>TARG102</th><th>TARG103</th><th>TARG104</th><th>TARG105</th><th>TARG106</th><th>TARG107</th><th>TARG108</th><th>TARG109</th><th>TARG110</th><th>TARG111</th><th>TARG112</th><th>TARG113</th><th>TARG114</th><th>TARG115</th><th>WID</th><th>WIDMM</th><th>XMM</th><th>YMM</th></tr></thead>\n",
       "<thead><tr><th>float64</th><th>float64</th><th>float64</th><th>float64</th><th>str5</th><th>float64</th><th>str8</th><th>object</th><th>object</th><th>object</th><th>object</th><th>object</th><th>object</th><th>object</th><th>object</th><th>object</th><th>object</th><th>object</th><th>object</th><th>object</th><th>object</th><th>object</th><th>float64</th><th>float64</th><th>float64</th><th>float64</th></tr></thead>\n",
       "<tr><td>83654.162</td><td>30638.76</td><td>4.0</td><td>0.683</td><td>NN</td><td>0.0</td><td>STRAIGHT</td><td>--</td><td>--</td><td>--</td><td>--</td><td>--</td><td>--</td><td>--</td><td>--</td><td>--</td><td>--</td><td>--</td><td>--</td><td>--</td><td>None</td><td>--</td><td>4.0</td><td>0.683</td><td>-6.272</td><td>-33.306</td></tr>\n",
       "<tr><td>83645.269</td><td>30628.86</td><td>4.0</td><td>0.683</td><td>NN</td><td>0.0</td><td>STRAIGHT</td><td>--</td><td>--</td><td>--</td><td>--</td><td>--</td><td>--</td><td>--</td><td>--</td><td>--</td><td>--</td><td>None</td><td>--</td><td>--</td><td>--</td><td>--</td><td>4.0</td><td>0.683</td><td>16.462</td><td>-31.616</td></tr>\n",
       "<tr><td>83702.29</td><td>30538.62</td><td>10.0</td><td>1.707</td><td>Obj9</td><td>0.0</td><td>STRAIGHT</td><td>--</td><td>--</td><td>--</td><td>--</td><td>--</td><td>--</td><td>--</td><td>--</td><td>None</td><td>--</td><td>--</td><td>--</td><td>--</td><td>--</td><td>--</td><td>2.0</td><td>0.341</td><td>-27.05</td><td>-23.042</td></tr>\n",
       "<tr><td>83649.106</td><td>30504.92</td><td>10.0</td><td>1.707</td><td>Obj1</td><td>0.0</td><td>STRAIGHT</td><td>None</td><td>--</td><td>--</td><td>--</td><td>--</td><td>--</td><td>--</td><td>--</td><td>--</td><td>--</td><td>--</td><td>--</td><td>--</td><td>--</td><td>--</td><td>2.0</td><td>0.341</td><td>6.652</td><td>-17.29</td></tr>\n",
       "<tr><td>83654.799</td><td>30436.19</td><td>10.0</td><td>1.707</td><td>Obj3</td><td>0.0</td><td>STRAIGHT</td><td>--</td><td>--</td><td>None</td><td>--</td><td>--</td><td>--</td><td>--</td><td>--</td><td>--</td><td>--</td><td>--</td><td>--</td><td>--</td><td>--</td><td>--</td><td>2.0</td><td>0.341</td><td>-7.901</td><td>-12.387</td></tr>\n",
       "<tr><td>83638.93</td><td>30417.69</td><td>10.0</td><td>1.707</td><td>Obj2</td><td>0.0</td><td>STRAIGHT</td><td>--</td><td>None</td><td>--</td><td>--</td><td>--</td><td>--</td><td>--</td><td>--</td><td>--</td><td>--</td><td>--</td><td>--</td><td>--</td><td>--</td><td>--</td><td>2.0</td><td>0.341</td><td>32.666</td><td>-9.23</td></tr>\n",
       "<tr><td>83655.258</td><td>30349.0</td><td>10.0</td><td>1.707</td><td>Obj4</td><td>0.0</td><td>STRAIGHT</td><td>--</td><td>--</td><td>--</td><td>None</td><td>--</td><td>--</td><td>--</td><td>--</td><td>--</td><td>--</td><td>--</td><td>--</td><td>--</td><td>--</td><td>--</td><td>2.0</td><td>0.341</td><td>-9.075</td><td>-4.333</td></tr>\n",
       "<tr><td>83648.518</td><td>30323.98</td><td>10.0</td><td>1.707</td><td>Obj5</td><td>0.0</td><td>STRAIGHT</td><td>--</td><td>--</td><td>--</td><td>--</td><td>None</td><td>--</td><td>--</td><td>--</td><td>--</td><td>--</td><td>--</td><td>--</td><td>--</td><td>--</td><td>--</td><td>2.0</td><td>0.341</td><td>8.155</td><td>-0.063</td></tr>\n",
       "<tr><td>83644.95</td><td>30258.99</td><td>10.0</td><td>1.707</td><td>Obj6</td><td>0.0</td><td>STRAIGHT</td><td>--</td><td>--</td><td>--</td><td>--</td><td>--</td><td>None</td><td>--</td><td>--</td><td>--</td><td>--</td><td>--</td><td>--</td><td>--</td><td>--</td><td>--</td><td>2.0</td><td>0.341</td><td>17.277</td><td>4.202</td></tr>\n",
       "<tr><td>83638.6</td><td>30239.36</td><td>4.0</td><td>0.683</td><td>NN</td><td>0.0</td><td>STRAIGHT</td><td>--</td><td>--</td><td>--</td><td>--</td><td>--</td><td>--</td><td>--</td><td>--</td><td>--</td><td>--</td><td>--</td><td>--</td><td>None</td><td>--</td><td>--</td><td>4.0</td><td>0.683</td><td>33.511</td><td>7.553</td></tr>\n",
       "<tr><td>83651.338</td><td>30219.56</td><td>4.0</td><td>0.683</td><td>NN</td><td>0.0</td><td>STRAIGHT</td><td>--</td><td>--</td><td>--</td><td>--</td><td>--</td><td>--</td><td>--</td><td>--</td><td>--</td><td>--</td><td>--</td><td>--</td><td>--</td><td>--</td><td>None</td><td>4.0</td><td>0.683</td><td>0.947</td><td>10.931</td></tr>\n",
       "<tr><td>83648.845</td><td>30145.73</td><td>10.0</td><td>1.707</td><td>Obj10</td><td>0.0</td><td>STRAIGHT</td><td>--</td><td>--</td><td>--</td><td>--</td><td>--</td><td>--</td><td>--</td><td>--</td><td>--</td><td>None</td><td>--</td><td>--</td><td>--</td><td>--</td><td>--</td><td>2.0</td><td>0.341</td><td>7.319</td><td>16.706</td></tr>\n",
       "<tr><td>83659.269</td><td>30110.26</td><td>4.0</td><td>0.683</td><td>NN</td><td>0.0</td><td>STRAIGHT</td><td>--</td><td>--</td><td>--</td><td>--</td><td>--</td><td>--</td><td>--</td><td>--</td><td>--</td><td>--</td><td>--</td><td>None</td><td>--</td><td>--</td><td>--</td><td>4.0</td><td>0.683</td><td>-19.329</td><td>22.758</td></tr>\n",
       "<tr><td>83651.722</td><td>30031.64</td><td>10.0</td><td>1.707</td><td>Obj7</td><td>0.0</td><td>STRAIGHT</td><td>--</td><td>--</td><td>--</td><td>--</td><td>--</td><td>--</td><td>None</td><td>--</td><td>--</td><td>--</td><td>--</td><td>--</td><td>--</td><td>--</td><td>--</td><td>2.0</td><td>0.341</td><td>-0.036</td><td>29.35</td></tr>\n",
       "<tr><td>83651.454</td><td>30001.4</td><td>10.0</td><td>1.707</td><td>Obj8</td><td>0.0</td><td>STRAIGHT</td><td>--</td><td>--</td><td>--</td><td>--</td><td>--</td><td>--</td><td>--</td><td>None</td><td>--</td><td>--</td><td>--</td><td>--</td><td>--</td><td>--</td><td>--</td><td>2.0</td><td>0.341</td><td>0.649</td><td>34.511</td></tr>\n",
       "</table></div>"
      ],
      "text/plain": [
       "<Table length=15>\n",
       "  ALPHA    DELTA     LEN    LENMM   NAME   ROT   ... TARG114 TARG115   WID    WIDMM    XMM     YMM  \n",
       " float64  float64  float64 float64  str5 float64 ...  object  object float64 float64 float64 float64\n",
       "--------- -------- ------- ------- ----- ------- ... ------- ------- ------- ------- ------- -------\n",
       "83654.162 30638.76     4.0   0.683    NN     0.0 ...    None      --     4.0   0.683  -6.272 -33.306\n",
       "83645.269 30628.86     4.0   0.683    NN     0.0 ...      --      --     4.0   0.683  16.462 -31.616\n",
       " 83702.29 30538.62    10.0   1.707  Obj9     0.0 ...      --      --     2.0   0.341  -27.05 -23.042\n",
       "83649.106 30504.92    10.0   1.707  Obj1     0.0 ...      --      --     2.0   0.341   6.652  -17.29\n",
       "83654.799 30436.19    10.0   1.707  Obj3     0.0 ...      --      --     2.0   0.341  -7.901 -12.387\n",
       " 83638.93 30417.69    10.0   1.707  Obj2     0.0 ...      --      --     2.0   0.341  32.666   -9.23\n",
       "83655.258  30349.0    10.0   1.707  Obj4     0.0 ...      --      --     2.0   0.341  -9.075  -4.333\n",
       "83648.518 30323.98    10.0   1.707  Obj5     0.0 ...      --      --     2.0   0.341   8.155  -0.063\n",
       " 83644.95 30258.99    10.0   1.707  Obj6     0.0 ...      --      --     2.0   0.341  17.277   4.202\n",
       "  83638.6 30239.36     4.0   0.683    NN     0.0 ...      --      --     4.0   0.683  33.511   7.553\n",
       "83651.338 30219.56     4.0   0.683    NN     0.0 ...      --    None     4.0   0.683   0.947  10.931\n",
       "83648.845 30145.73    10.0   1.707 Obj10     0.0 ...      --      --     2.0   0.341   7.319  16.706\n",
       "83659.269 30110.26     4.0   0.683    NN     0.0 ...      --      --     4.0   0.683 -19.329  22.758\n",
       "83651.722 30031.64    10.0   1.707  Obj7     0.0 ...      --      --     2.0   0.341  -0.036   29.35\n",
       "83651.454  30001.4    10.0   1.707  Obj8     0.0 ...      --      --     2.0   0.341   0.649  34.511"
      ]
     },
     "execution_count": 561,
     "metadata": {},
     "output_type": "execute_result"
    }
   ],
   "source": [
    "kmsfile='eFEDS197_pointing2.1.kms'\n",
    "targets = slitmask.read_kms(kmsfile,sort='YMM')\n",
    "print(len(targets),len(holes))\n",
    "targets"
   ]
  },
  {
   "cell_type": "markdown",
   "id": "65aa3c98",
   "metadata": {},
   "source": [
    "Now sort the identified holes from left to right and match them\n",
    "with the correspondingly sorted design holes to identify which ones are alignment holes."
   ]
  },
  {
   "cell_type": "code",
   "execution_count": 562,
   "id": "4b518642",
   "metadata": {},
   "outputs": [
    {
     "data": {
      "text/html": [
       "<div><i>Table length=5</i>\n",
       "<table id=\"table47939561397360\" class=\"table-striped table-bordered table-condensed\">\n",
       "<thead><tr><th>y</th><th>x</th></tr></thead>\n",
       "<thead><tr><th>float64</th><th>float64</th></tr></thead>\n",
       "<tr><td>2158.0</td><td>255.0</td></tr>\n",
       "<tr><td>1643.0</td><td>292.5</td></tr>\n",
       "<tr><td>1255.0</td><td>1179.0</td></tr>\n",
       "<tr><td>1992.51851852</td><td>1257.5308642</td></tr>\n",
       "<tr><td>2451.44104803</td><td>1525.81222707</td></tr>\n",
       "</table></div>"
      ],
      "text/plain": [
       "<Table length=5>\n",
       "      y             x      \n",
       "   float64       float64   \n",
       "------------- -------------\n",
       "       2158.0         255.0\n",
       "       1643.0         292.5\n",
       "       1255.0        1179.0\n",
       "1992.51851852  1257.5308642\n",
       "2451.44104803 1525.81222707"
      ]
     },
     "execution_count": 562,
     "metadata": {},
     "output_type": "execute_result"
    }
   ],
   "source": [
    "# sort holes by x coordinate\n",
    "holes.sort('x')\n",
    "\n",
    "# loop through holes and targets to find alignment holes\n",
    "align=[]\n",
    "for i,(hole,target) in enumerate(zip(holes,targets)) :\n",
    "    #print(hole['x'],target['YMM'],target['NAME'])\n",
    "    if target['NAME'] == 'NN' : align.append(i)\n",
    "\n",
    "# Display the alignment holes\n",
    "stars.mark(t,holes[align],color='r',rad=20,exit=True)\n",
    "\n",
    "#make table of the measured alignment hole positions\n",
    "h=holes[align]\n",
    "h"
   ]
  },
  {
   "cell_type": "markdown",
   "id": "2b7cab85",
   "metadata": {},
   "source": [
    "Now display image and mark stars that corresonds to the alignment holes in the mask."
   ]
  },
  {
   "cell_type": "code",
   "execution_count": 563,
   "id": "b3e7b541",
   "metadata": {},
   "outputs": [
    {
     "name": "stdout",
     "output_type": "stream",
     "text": [
      "Hit c near desired star(s) to get centroid position\n",
      "    i to use integer position of cursor\n",
      "    n to get ID of nearest star\n",
      "    q or e to quit\n"
     ]
    },
    {
     "data": {
      "text/html": [
       "<div><i>Table length=5</i>\n",
       "<table id=\"table47940055890144\" class=\"table-striped table-bordered table-condensed\">\n",
       "<thead><tr><th>id</th><th>x</th><th>y</th><th>MJD</th><th>EXPTIME</th><th>FILTER</th><th>AIRMASS</th></tr></thead>\n",
       "<thead><tr><th>int32</th><th>float32</th><th>float32</th><th>float64</th><th>float32</th><th>bytes32</th><th>float32</th></tr></thead>\n",
       "<tr><td>1</td><td>221.91</td><td>2205.13</td><td>59934.466355</td><td>30.0</td><td></td><td>1.244</td></tr>\n",
       "<tr><td>2</td><td>260.72</td><td>1691.14</td><td>59934.466355</td><td>30.0</td><td></td><td>1.244</td></tr>\n",
       "<tr><td>5</td><td>1146.23</td><td>1306.29</td><td>59934.466355</td><td>30.0</td><td></td><td>1.244</td></tr>\n",
       "<tr><td>3</td><td>1223.13</td><td>2042.81</td><td>59934.466355</td><td>30.0</td><td></td><td>1.244</td></tr>\n",
       "<tr><td>4</td><td>1489.41</td><td>2506.02</td><td>59934.466355</td><td>30.0</td><td></td><td>1.244</td></tr>\n",
       "</table></div>"
      ],
      "text/plain": [
       "<Table length=5>\n",
       "  id     x       y        MJD      EXPTIME  FILTER AIRMASS\n",
       "int32 float32 float32   float64    float32 bytes32 float32\n",
       "----- ------- ------- ------------ ------- ------- -------\n",
       "    1  221.91 2205.13 59934.466355    30.0           1.244\n",
       "    2  260.72 1691.14 59934.466355    30.0           1.244\n",
       "    5 1146.23 1306.29 59934.466355    30.0           1.244\n",
       "    3 1223.13 2042.81 59934.466355    30.0           1.244\n",
       "    4 1489.41 2506.02 59934.466355    30.0           1.244"
      ]
     },
     "execution_count": 563,
     "metadata": {},
     "output_type": "execute_result"
    }
   ],
   "source": [
    "t.tv(nomask,max=30000)\n",
    "s=stars.mark(t,rad=5)\n",
    "\n",
    "# sort these by x coorindate to match order of alignment holes\n",
    "s.sort('x')\n",
    "s"
   ]
  },
  {
   "cell_type": "markdown",
   "id": "2237287b",
   "metadata": {},
   "source": [
    "Now use fit() to get the rotation and translation. Output the distance between the measured object and the fit one to ensure that the identification is correct and the solution is reasonable."
   ]
  },
  {
   "cell_type": "code",
   "execution_count": 564,
   "id": "ad15037b",
   "metadata": {
    "scrolled": true
   },
   "outputs": [
    {
     "name": "stdout",
     "output_type": "stream",
     "text": [
      "Euclidean Transform: \n",
      "  Rotation (degrees) :  0.22472876594810803\n",
      "  Translation (arcsec)  [ -8.84143245  13.09692391]\n",
      " X       Y       mod-obs \n",
      "  -769.0   110.0    1.72\n",
      "  -731.5  -405.0    0.92\n",
      "   155.0  -793.0    1.61\n",
      "   233.5   -55.5    1.43\n",
      "   501.8   403.4    1.93\n",
      "  Rotation (degrees) :  0.22472876594810803\n",
      "  Translation (arcsec)  [ -8.84143245  13.09692391]\n",
      "Similarity Transform: \n",
      "Rotation (degrees) :  0.22472876594810803\n",
      "Translation (arcsec)  [ -8.86608854  13.06677919]\n",
      "Scale  0.999213122302\n",
      " X       Y       mod-obs \n",
      "  -769.0   110.0    1.17\n",
      "  -731.5  -405.0    0.41\n",
      "   155.0  -793.0    1.51\n",
      "   233.5   -55.5    1.31\n",
      "   501.8   403.4    2.28\n"
     ]
    },
    {
     "data": {
      "text/plain": [
       "(0.22472876594810803, array([ -8.84143245,  13.09692391]))"
      ]
     },
     "execution_count": 564,
     "metadata": {},
     "output_type": "execute_result"
    }
   ],
   "source": [
    "slitmask.fit(h,s)"
   ]
  },
  {
   "cell_type": "markdown",
   "id": "4c474f4b",
   "metadata": {},
   "source": [
    "<h3>Reduction/extraction"
   ]
  },
  {
   "cell_type": "code",
   "execution_count": null,
   "id": "b82cd151",
   "metadata": {},
   "outputs": [],
   "source": [
    "from pyvista import imred, slitmask, tv, spectra, image\n",
    "import numpy as np\n",
    "import matplotlib.pyplot as plt\n",
    "import copy\n",
    "import pdb\n",
    "%matplotlib qt\n",
    "\n",
    "t=tv.TV()"
   ]
  },
  {
   "cell_type": "code",
   "execution_count": 457,
   "id": "7c4e8dd6",
   "metadata": {},
   "outputs": [
    {
     "name": "stdout",
     "output_type": "stream",
     "text": [
      "INFO: array provided for uncertainty; assuming it is a StdDevUncertainty. [astropy.nddata.ccddata]\n",
      "INFO: array provided for uncertainty; assuming it is a StdDevUncertainty. [astropy.nddata.ccddata]\n",
      "INFO: array provided for uncertainty; assuming it is a StdDevUncertainty. [astropy.nddata.ccddata]\n",
      "INFO: array provided for uncertainty; assuming it is a StdDevUncertainty. [astropy.nddata.ccddata]\n",
      "INFO: array provided for uncertainty; assuming it is a StdDevUncertainty. [astropy.nddata.ccddata]\n"
     ]
    }
   ],
   "source": [
    "red=imred.Reducer('KOSMOS',dir='/home/holtz/raw/apo/UT221221_cleaned',verbose=False)                                                         \n",
    "im = red.reduce(54)\n",
    "flat = red.reduce(71)\n",
    "arc = red.reduce(70)\n",
    "arcs= red.sum([70,67])"
   ]
  },
  {
   "cell_type": "markdown",
   "id": "e344d1a7",
   "metadata": {},
   "source": [
    "Find slit edges from flat, and fit polynomials to locations"
   ]
  },
  {
   "cell_type": "code",
   "execution_count": 637,
   "id": "7d011c6f",
   "metadata": {},
   "outputs": [
    {
     "name": "stderr",
     "output_type": "stream",
     "text": [
      "/home/local/Anaconda3-2020.02/envs/py3.9/lib/python3.9/site-packages/scipy/optimize/minpack.py:833: OptimizeWarning: Covariance of the parameters could not be estimated\n",
      "  warnings.warn('Covariance of the parameters could not be estimated',\n"
     ]
    }
   ],
   "source": [
    "trace=spectra.Trace(transpose=True)\n",
    "t.tvclear()\n",
    "bottom,top = trace.findslits(flat,display=t,thresh=0.5,sn=True)"
   ]
  },
  {
   "cell_type": "markdown",
   "id": "ce60d5e7",
   "metadata": {},
   "source": [
    "Plot shape of slit edges relative to center position, just for information"
   ]
  },
  {
   "cell_type": "code",
   "execution_count": 566,
   "id": "d2b4a10a",
   "metadata": {},
   "outputs": [],
   "source": [
    "x=np.arange(4096)\n",
    "plt.figure()\n",
    "for l in bottom :\n",
    "    plt.plot(x,l(x)) #-l(2048))"
   ]
  },
  {
   "cell_type": "markdown",
   "id": "dbda61d1",
   "metadata": {},
   "source": [
    "Using the derived traces, extract the slitlets for arcs"
   ]
  },
  {
   "cell_type": "code",
   "execution_count": 567,
   "id": "16514662",
   "metadata": {},
   "outputs": [
    {
     "name": "stdout",
     "output_type": "stream",
     "text": [
      "extracting: \n",
      " 233-249\n",
      " 275-289\n",
      " 455-494\n",
      " 585-624\n",
      " 695-734\n",
      " 770-809\n",
      " 878-917\n",
      " 976-1015\n",
      " 1073-1112\n",
      " 1160-1175\n",
      " 1237-1252\n",
      " 1356-1395\n",
      " 1502-1518\n",
      " 1642-1680\n",
      " 1758-1796\n",
      "  See extraction window(s). Hit space bar to continue....\n"
     ]
    }
   ],
   "source": [
    "importlib.reload(spectra)\n",
    "arcec=trace.extract2d(arcs,display=t)"
   ]
  },
  {
   "cell_type": "markdown",
   "id": "ff19c690",
   "metadata": {},
   "source": [
    "Load the targets file, and add XMM and YMM for each slit to headers of each extracted image. REQUIRES A PERFECT MATCH BETWEEN INPUT TARGETS AND IDENTIFIED SLITS!"
   ]
  },
  {
   "cell_type": "code",
   "execution_count": 575,
   "id": "d62ecdbe",
   "metadata": {},
   "outputs": [],
   "source": [
    "importlib.reload(slitmask)\n",
    "kmsfile='eFEDS197_pointing2.1.kms'\n",
    "targets = slitmask.read_kms(kmsfile,sort='YMM')\n",
    "if len(targets) == len(bottom) : \n",
    "    for arc,target in zip(arcec,targets) :\n",
    "        arc.header['XMM'] = target['XMM']\n",
    "        arc.header['YMM'] = target['YMM']\n",
    "else :\n",
    "    print('ERROR, number of identified slits does not match number of targets')"
   ]
  },
  {
   "cell_type": "markdown",
   "id": "cd8974bc",
   "metadata": {},
   "source": [
    "Now loop through each extracted arc to do wavelength calibration. This requires a little effort because the change in the location of the slit relative to the default saved wavelength calibration is significant enough that it can be a challenge to automatically find the lines, since the change in spectrum is more than a simple shift (and, in fact, more than a shift + dispersion change). \n",
    "\n",
    "However, a simple shift is usually enough to identify some of the lines, and these can be used to bootstrap the wavelength solution; the initial identification is easier givenan estimate of the shift from the mask design.\n",
    "\n",
    "You can use identify() to do the iteration. On the first pass, only central lines may be correctly identified. Use 'l' and 'r' to remove lines to the left and right of the identified lines. Then use 'i' to iterate, i.e., allow it to re-identify lines (i just returns True to allow you to iterate). When happy with solution, use ' ' to move onto the final 2D \n",
    "wavelength calibration."
   ]
  },
  {
   "cell_type": "code",
   "execution_count": 655,
   "id": "5d985385",
   "metadata": {},
   "outputs": [
    {
     "name": "stdout",
     "output_type": "stream",
     "text": [
      "  rms:    0.230 Angstroms (60 lines)\n",
      "  cross correlating with reference spectrum using lags between:  591 790\n",
      "  Derived pixel shift from input wcal:  [ 706.51089215]\n"
     ]
    },
    {
     "name": "stderr",
     "output_type": "stream",
     "text": [
      "/home/local/Anaconda3-2020.02/envs/py3.9/lib/python3.9/site-packages/scipy/optimize/minpack.py:833: OptimizeWarning: Covariance of the parameters could not be estimated\n",
      "  warnings.warn('Covariance of the parameters could not be estimated',\n"
     ]
    },
    {
     "name": "stdout",
     "output_type": "stream",
     "text": [
      "  See identified lines.\n",
      "  rms:    3.835 Angstroms (17 lines)\n",
      "  Input in plot window: \n",
      "       l : to remove all lines to left of cursor\n",
      "       r : to remove all lines to right of cursor\n",
      "       n : to remove line nearest cursor x position\n",
      "       i : return with True value (to allow iteration)\n",
      "       anything else : finish and return\n",
      "  rms:    3.835 Anstroms\n",
      "  input from plot window...\n",
      "  rms:    1.904 Anstroms\n",
      "  input from plot window...\n",
      "\n",
      "  cross correlating with reference spectrum using lags between:  -50 49\n",
      "  Derived pixel shift from input wcal:  [  7.28671978e-05]\n"
     ]
    },
    {
     "name": "stderr",
     "output_type": "stream",
     "text": [
      "/home/local/Anaconda3-2020.02/envs/py3.9/lib/python3.9/site-packages/scipy/optimize/minpack.py:833: OptimizeWarning: Covariance of the parameters could not be estimated\n",
      "  warnings.warn('Covariance of the parameters could not be estimated',\n"
     ]
    },
    {
     "name": "stdout",
     "output_type": "stream",
     "text": [
      "  See identified lines.\n",
      "  rms:    3.474 Angstroms (20 lines)\n",
      "  Input in plot window: \n",
      "       l : to remove all lines to left of cursor\n",
      "       r : to remove all lines to right of cursor\n",
      "       n : to remove line nearest cursor x position\n",
      "       i : return with True value (to allow iteration)\n",
      "       anything else : finish and return\n",
      "  rms:    3.474 Anstroms\n",
      "  input from plot window...\n",
      "\n",
      "  cross correlating with reference spectrum using lags between:  -300 299\n",
      "  Derived pixel shift from input wcal for row: 15 0\n"
     ]
    },
    {
     "name": "stderr",
     "output_type": "stream",
     "text": [
      "/home/local/Anaconda3-2020.02/envs/py3.9/lib/python3.9/site-packages/scipy/optimize/minpack.py:833: OptimizeWarning: Covariance of the parameters could not be estimated\n",
      "  warnings.warn('Covariance of the parameters could not be estimated',\n",
      "/home/local/Anaconda3-2020.02/envs/py3.9/lib/python3.9/site-packages/scipy/optimize/minpack.py:833: OptimizeWarning: Covariance of the parameters could not be estimated\n",
      "  warnings.warn('Covariance of the parameters could not be estimated',\n",
      "/home/local/Anaconda3-2020.02/envs/py3.9/lib/python3.9/site-packages/scipy/optimize/minpack.py:833: OptimizeWarning: Covariance of the parameters could not be estimated\n",
      "  warnings.warn('Covariance of the parameters could not be estimated',\n",
      "/home/local/Anaconda3-2020.02/envs/py3.9/lib/python3.9/site-packages/scipy/optimize/minpack.py:833: OptimizeWarning: Covariance of the parameters could not be estimated\n",
      "  warnings.warn('Covariance of the parameters could not be estimated',\n",
      "/home/local/Anaconda3-2020.02/envs/py3.9/lib/python3.9/site-packages/scipy/optimize/minpack.py:833: OptimizeWarning: Covariance of the parameters could not be estimated\n",
      "  warnings.warn('Covariance of the parameters could not be estimated',\n"
     ]
    },
    {
     "name": "stdout",
     "output_type": "stream",
     "text": [
      "  See identified lines.\n",
      "  rms:    5.197\n",
      "rejecting 2 points from 95 total: \n",
      "  rms:    3.491\n",
      "rejecting 2 points from 95 total: \n",
      "  See 2D wavecal fit. Enter space in plot window to continue\n",
      "\n",
      "  rms:    0.230 Angstroms (60 lines)\n",
      "  cross correlating with reference spectrum using lags between:  80 279\n",
      "  Derived pixel shift from input wcal:  [ 195.35592551]\n"
     ]
    },
    {
     "name": "stderr",
     "output_type": "stream",
     "text": [
      "/home/local/Anaconda3-2020.02/envs/py3.9/lib/python3.9/site-packages/scipy/optimize/minpack.py:833: OptimizeWarning: Covariance of the parameters could not be estimated\n",
      "  warnings.warn('Covariance of the parameters could not be estimated',\n"
     ]
    },
    {
     "name": "stdout",
     "output_type": "stream",
     "text": [
      "  See identified lines.\n",
      "  rms:    4.114 Angstroms (39 lines)\n",
      "  Input in plot window: \n",
      "       l : to remove all lines to left of cursor\n",
      "       r : to remove all lines to right of cursor\n",
      "       n : to remove line nearest cursor x position\n",
      "       i : return with True value (to allow iteration)\n",
      "       anything else : finish and return\n",
      "  rms:    4.114 Anstroms\n",
      "  input from plot window...\n",
      "  rms:    3.804 Anstroms\n",
      "  input from plot window...\n",
      "\n",
      "  cross correlating with reference spectrum using lags between:  -50 49\n",
      "  Derived pixel shift from input wcal:  [  1.42936793e-06]\n"
     ]
    },
    {
     "name": "stderr",
     "output_type": "stream",
     "text": [
      "/home/local/Anaconda3-2020.02/envs/py3.9/lib/python3.9/site-packages/scipy/optimize/minpack.py:833: OptimizeWarning: Covariance of the parameters could not be estimated\n",
      "  warnings.warn('Covariance of the parameters could not be estimated',\n"
     ]
    },
    {
     "name": "stdout",
     "output_type": "stream",
     "text": [
      "  See identified lines.\n",
      "  rms:    3.093 Angstroms (41 lines)\n",
      "  Input in plot window: \n",
      "       l : to remove all lines to left of cursor\n",
      "       r : to remove all lines to right of cursor\n",
      "       n : to remove line nearest cursor x position\n",
      "       i : return with True value (to allow iteration)\n",
      "       anything else : finish and return\n",
      "  rms:    3.093 Anstroms\n",
      "  input from plot window...\n",
      "  rms:    2.390 Anstroms\n",
      "  input from plot window...\n",
      "\n",
      "  cross correlating with reference spectrum using lags between:  -50 49\n",
      "  Derived pixel shift from input wcal:  [  1.42936793e-06]\n"
     ]
    },
    {
     "name": "stderr",
     "output_type": "stream",
     "text": [
      "/home/local/Anaconda3-2020.02/envs/py3.9/lib/python3.9/site-packages/scipy/optimize/minpack.py:833: OptimizeWarning: Covariance of the parameters could not be estimated\n",
      "  warnings.warn('Covariance of the parameters could not be estimated',\n"
     ]
    },
    {
     "name": "stdout",
     "output_type": "stream",
     "text": [
      "  See identified lines.\n",
      "  rms:    2.733 Angstroms (41 lines)\n",
      "  Input in plot window: \n",
      "       l : to remove all lines to left of cursor\n",
      "       r : to remove all lines to right of cursor\n",
      "       n : to remove line nearest cursor x position\n",
      "       i : return with True value (to allow iteration)\n",
      "       anything else : finish and return\n",
      "  rms:    2.733 Anstroms\n",
      "  input from plot window...\n",
      "\n",
      "  cross correlating with reference spectrum using lags between:  -300 299\n",
      "  Derived pixel shift from input wcal for row: 13 0\n"
     ]
    },
    {
     "name": "stderr",
     "output_type": "stream",
     "text": [
      "/home/local/Anaconda3-2020.02/envs/py3.9/lib/python3.9/site-packages/scipy/optimize/minpack.py:833: OptimizeWarning: Covariance of the parameters could not be estimated\n",
      "  warnings.warn('Covariance of the parameters could not be estimated',\n",
      "/home/local/Anaconda3-2020.02/envs/py3.9/lib/python3.9/site-packages/scipy/optimize/minpack.py:833: OptimizeWarning: Covariance of the parameters could not be estimated\n",
      "  warnings.warn('Covariance of the parameters could not be estimated',\n",
      "/home/local/Anaconda3-2020.02/envs/py3.9/lib/python3.9/site-packages/scipy/optimize/minpack.py:833: OptimizeWarning: Covariance of the parameters could not be estimated\n",
      "  warnings.warn('Covariance of the parameters could not be estimated',\n",
      "/home/local/Anaconda3-2020.02/envs/py3.9/lib/python3.9/site-packages/scipy/optimize/minpack.py:833: OptimizeWarning: Covariance of the parameters could not be estimated\n",
      "  warnings.warn('Covariance of the parameters could not be estimated',\n",
      "/home/local/Anaconda3-2020.02/envs/py3.9/lib/python3.9/site-packages/scipy/optimize/minpack.py:833: OptimizeWarning: Covariance of the parameters could not be estimated\n",
      "  warnings.warn('Covariance of the parameters could not be estimated',\n",
      "/home/local/Anaconda3-2020.02/envs/py3.9/lib/python3.9/site-packages/scipy/optimize/minpack.py:833: OptimizeWarning: Covariance of the parameters could not be estimated\n",
      "  warnings.warn('Covariance of the parameters could not be estimated',\n",
      "/home/local/Anaconda3-2020.02/envs/py3.9/lib/python3.9/site-packages/scipy/optimize/minpack.py:833: OptimizeWarning: Covariance of the parameters could not be estimated\n",
      "  warnings.warn('Covariance of the parameters could not be estimated',\n"
     ]
    },
    {
     "name": "stdout",
     "output_type": "stream",
     "text": [
      "  See identified lines.\n",
      "  rms:    4.583\n",
      "rejecting 1 points from 252 total: \n",
      "  rms:    2.799\n",
      "rejecting 1 points from 252 total: \n",
      "  See 2D wavecal fit. Enter space in plot window to continue\n",
      "\n",
      "  rms:    0.230 Angstroms (60 lines)\n",
      "  cross correlating with reference spectrum using lags between:  1058 1257\n",
      "  Derived pixel shift from input wcal:  [ 1171.90869797]\n"
     ]
    },
    {
     "name": "stderr",
     "output_type": "stream",
     "text": [
      "/home/local/Anaconda3-2020.02/envs/py3.9/lib/python3.9/site-packages/scipy/optimize/minpack.py:833: OptimizeWarning: Covariance of the parameters could not be estimated\n",
      "  warnings.warn('Covariance of the parameters could not be estimated',\n"
     ]
    },
    {
     "name": "stdout",
     "output_type": "stream",
     "text": [
      "  See identified lines.\n",
      "  rms:   12.594 Angstroms (29 lines)\n",
      "  Input in plot window: \n",
      "       l : to remove all lines to left of cursor\n",
      "       r : to remove all lines to right of cursor\n",
      "       n : to remove line nearest cursor x position\n",
      "       i : return with True value (to allow iteration)\n",
      "       anything else : finish and return\n",
      "  rms:   12.594 Anstroms\n",
      "  input from plot window...\n",
      "  rms:   11.148 Anstroms\n",
      "  input from plot window...\n",
      "\n",
      "  cross correlating with reference spectrum using lags between:  -50 49\n",
      "  Derived pixel shift from input wcal:  [  4.06382350e-06]\n"
     ]
    },
    {
     "name": "stderr",
     "output_type": "stream",
     "text": [
      "/home/local/Anaconda3-2020.02/envs/py3.9/lib/python3.9/site-packages/scipy/optimize/minpack.py:833: OptimizeWarning: Covariance of the parameters could not be estimated\n",
      "  warnings.warn('Covariance of the parameters could not be estimated',\n"
     ]
    },
    {
     "name": "stdout",
     "output_type": "stream",
     "text": [
      "  See identified lines.\n",
      "  rms:    3.327 Angstroms (31 lines)\n",
      "  Input in plot window: \n",
      "       l : to remove all lines to left of cursor\n",
      "       r : to remove all lines to right of cursor\n",
      "       n : to remove line nearest cursor x position\n",
      "       i : return with True value (to allow iteration)\n",
      "       anything else : finish and return\n",
      "  rms:    3.327 Anstroms\n",
      "  input from plot window...\n",
      "  rms:    2.961 Anstroms\n",
      "  input from plot window...\n",
      "\n",
      "  cross correlating with reference spectrum using lags between:  -50 49\n",
      "  Derived pixel shift from input wcal:  [  4.06382350e-06]\n"
     ]
    },
    {
     "name": "stderr",
     "output_type": "stream",
     "text": [
      "/home/local/Anaconda3-2020.02/envs/py3.9/lib/python3.9/site-packages/scipy/optimize/minpack.py:833: OptimizeWarning: Covariance of the parameters could not be estimated\n",
      "  warnings.warn('Covariance of the parameters could not be estimated',\n"
     ]
    },
    {
     "name": "stdout",
     "output_type": "stream",
     "text": [
      "  See identified lines.\n",
      "  rms:    6.429 Angstroms (29 lines)\n",
      "  Input in plot window: \n",
      "       l : to remove all lines to left of cursor\n",
      "       r : to remove all lines to right of cursor\n",
      "       n : to remove line nearest cursor x position\n",
      "       i : return with True value (to allow iteration)\n",
      "       anything else : finish and return\n",
      "  rms:    6.429 Anstroms\n",
      "  input from plot window...\n",
      "  rms:    2.796 Anstroms\n",
      "  input from plot window...\n",
      "  rms:    2.534 Anstroms\n",
      "  input from plot window...\n",
      "  rms:    0.235 Anstroms\n",
      "  input from plot window...\n",
      "\n",
      "  cross correlating with reference spectrum using lags between:  -50 49\n",
      "  Derived pixel shift from input wcal:  [  4.06382350e-06]\n"
     ]
    },
    {
     "name": "stderr",
     "output_type": "stream",
     "text": [
      "/home/local/Anaconda3-2020.02/envs/py3.9/lib/python3.9/site-packages/scipy/optimize/minpack.py:833: OptimizeWarning: Covariance of the parameters could not be estimated\n",
      "  warnings.warn('Covariance of the parameters could not be estimated',\n"
     ]
    },
    {
     "name": "stdout",
     "output_type": "stream",
     "text": [
      "  See identified lines.\n",
      "  rms:    1.067 Angstroms (38 lines)\n",
      "  Input in plot window: \n",
      "       l : to remove all lines to left of cursor\n",
      "       r : to remove all lines to right of cursor\n",
      "       n : to remove line nearest cursor x position\n",
      "       i : return with True value (to allow iteration)\n",
      "       anything else : finish and return\n",
      "  rms:    1.067 Anstroms\n",
      "  input from plot window...\n",
      "  rms:    1.032 Anstroms\n",
      "  input from plot window...\n",
      "  rms:    0.208 Anstroms\n",
      "  input from plot window...\n",
      "\n",
      "  cross correlating with reference spectrum using lags between:  -300 299\n",
      "  Derived pixel shift from input wcal for row: 38 0\r"
     ]
    },
    {
     "name": "stderr",
     "output_type": "stream",
     "text": [
      "/home/local/Anaconda3-2020.02/envs/py3.9/lib/python3.9/site-packages/scipy/optimize/minpack.py:833: OptimizeWarning: Covariance of the parameters could not be estimated\n",
      "  warnings.warn('Covariance of the parameters could not be estimated',\n",
      "/home/local/Anaconda3-2020.02/envs/py3.9/lib/python3.9/site-packages/scipy/optimize/minpack.py:833: OptimizeWarning: Covariance of the parameters could not be estimated\n",
      "  warnings.warn('Covariance of the parameters could not be estimated',\n",
      "/home/local/Anaconda3-2020.02/envs/py3.9/lib/python3.9/site-packages/scipy/optimize/minpack.py:833: OptimizeWarning: Covariance of the parameters could not be estimated\n",
      "  warnings.warn('Covariance of the parameters could not be estimated',\n",
      "/home/local/Anaconda3-2020.02/envs/py3.9/lib/python3.9/site-packages/scipy/optimize/minpack.py:833: OptimizeWarning: Covariance of the parameters could not be estimated\n",
      "  warnings.warn('Covariance of the parameters could not be estimated',\n",
      "/home/local/Anaconda3-2020.02/envs/py3.9/lib/python3.9/site-packages/scipy/optimize/minpack.py:833: OptimizeWarning: Covariance of the parameters could not be estimated\n",
      "  warnings.warn('Covariance of the parameters could not be estimated',\n",
      "/home/local/Anaconda3-2020.02/envs/py3.9/lib/python3.9/site-packages/scipy/optimize/minpack.py:833: OptimizeWarning: Covariance of the parameters could not be estimated\n",
      "  warnings.warn('Covariance of the parameters could not be estimated',\n"
     ]
    },
    {
     "name": "stdout",
     "output_type": "stream",
     "text": [
      "\n",
      "  See identified lines.\n",
      "  rms:    0.226\n",
      "rejecting 0 points from 209 total: \n",
      "  See 2D wavecal fit. Enter space in plot window to continue\n",
      "\n",
      "  rms:    0.230 Angstroms (60 lines)\n",
      "  cross correlating with reference spectrum using lags between:  301 500\n",
      "  Derived pixel shift from input wcal:  [ 407.72413438]\n"
     ]
    },
    {
     "name": "stderr",
     "output_type": "stream",
     "text": [
      "/home/local/Anaconda3-2020.02/envs/py3.9/lib/python3.9/site-packages/scipy/optimize/minpack.py:833: OptimizeWarning: Covariance of the parameters could not be estimated\n",
      "  warnings.warn('Covariance of the parameters could not be estimated',\n"
     ]
    },
    {
     "name": "stdout",
     "output_type": "stream",
     "text": [
      "  See identified lines.\n",
      "  rms:   53.487 Angstroms (46 lines)\n",
      "  Input in plot window: \n",
      "       l : to remove all lines to left of cursor\n",
      "       r : to remove all lines to right of cursor\n",
      "       n : to remove line nearest cursor x position\n",
      "       i : return with True value (to allow iteration)\n",
      "       anything else : finish and return\n",
      "  rms:   53.487 Anstroms\n",
      "  input from plot window...\n",
      "\n",
      "  cross correlating with reference spectrum using lags between:  -300 299\n",
      "  Derived pixel shift from input wcal for row: 38 0\n"
     ]
    },
    {
     "name": "stderr",
     "output_type": "stream",
     "text": [
      "/home/local/Anaconda3-2020.02/envs/py3.9/lib/python3.9/site-packages/scipy/optimize/minpack.py:833: OptimizeWarning: Covariance of the parameters could not be estimated\n",
      "  warnings.warn('Covariance of the parameters could not be estimated',\n",
      "/home/local/Anaconda3-2020.02/envs/py3.9/lib/python3.9/site-packages/scipy/optimize/minpack.py:833: OptimizeWarning: Covariance of the parameters could not be estimated\n",
      "  warnings.warn('Covariance of the parameters could not be estimated',\n",
      "/home/local/Anaconda3-2020.02/envs/py3.9/lib/python3.9/site-packages/scipy/optimize/minpack.py:833: OptimizeWarning: Covariance of the parameters could not be estimated\n",
      "  warnings.warn('Covariance of the parameters could not be estimated',\n",
      "/home/local/Anaconda3-2020.02/envs/py3.9/lib/python3.9/site-packages/scipy/optimize/minpack.py:833: OptimizeWarning: Covariance of the parameters could not be estimated\n",
      "  warnings.warn('Covariance of the parameters could not be estimated',\n",
      "/home/local/Anaconda3-2020.02/envs/py3.9/lib/python3.9/site-packages/scipy/optimize/minpack.py:833: OptimizeWarning: Covariance of the parameters could not be estimated\n",
      "  warnings.warn('Covariance of the parameters could not be estimated',\n",
      "/home/local/Anaconda3-2020.02/envs/py3.9/lib/python3.9/site-packages/scipy/optimize/minpack.py:833: OptimizeWarning: Covariance of the parameters could not be estimated\n",
      "  warnings.warn('Covariance of the parameters could not be estimated',\n"
     ]
    },
    {
     "name": "stdout",
     "output_type": "stream",
     "text": [
      "  See identified lines.\n",
      "  rms:   56.111\n",
      "rejecting 5 points from 235 total: \n",
      "  rms:   16.474\n",
      "rejecting 5 points from 235 total: \n",
      "  See 2D wavecal fit. Enter space in plot window to continue\n",
      "\n",
      "  rms:    0.230 Angstroms (60 lines)\n",
      "  cross correlating with reference spectrum using lags between:  627 826\n",
      "  Derived pixel shift from input wcal:  [ 735.75455829]\n"
     ]
    },
    {
     "name": "stderr",
     "output_type": "stream",
     "text": [
      "/home/local/Anaconda3-2020.02/envs/py3.9/lib/python3.9/site-packages/scipy/optimize/minpack.py:833: OptimizeWarning: Covariance of the parameters could not be estimated\n",
      "  warnings.warn('Covariance of the parameters could not be estimated',\n"
     ]
    },
    {
     "name": "stdout",
     "output_type": "stream",
     "text": [
      "  See identified lines.\n",
      "  rms:   58.318 Angstroms (40 lines)\n",
      "  Input in plot window: \n",
      "       l : to remove all lines to left of cursor\n",
      "       r : to remove all lines to right of cursor\n",
      "       n : to remove line nearest cursor x position\n",
      "       i : return with True value (to allow iteration)\n",
      "       anything else : finish and return\n",
      "  rms:   58.318 Anstroms\n",
      "  input from plot window...\n",
      "  rms:   44.094 Anstroms\n",
      "  input from plot window...\n",
      "  rms:   37.167 Anstroms\n",
      "  input from plot window...\n",
      "  rms:    4.147 Anstroms\n",
      "  input from plot window...\n",
      "  rms:    2.826 Anstroms\n",
      "  input from plot window...\n",
      "\n",
      "  cross correlating with reference spectrum using lags between:  -50 49\n",
      "  Derived pixel shift from input wcal:  [  1.92143546e-09]\n"
     ]
    },
    {
     "name": "stderr",
     "output_type": "stream",
     "text": [
      "/home/local/Anaconda3-2020.02/envs/py3.9/lib/python3.9/site-packages/scipy/optimize/minpack.py:833: OptimizeWarning: Covariance of the parameters could not be estimated\n",
      "  warnings.warn('Covariance of the parameters could not be estimated',\n"
     ]
    },
    {
     "name": "stdout",
     "output_type": "stream",
     "text": [
      "  See identified lines.\n",
      "  rms:   14.805 Angstroms (41 lines)\n",
      "  Input in plot window: \n",
      "       l : to remove all lines to left of cursor\n",
      "       r : to remove all lines to right of cursor\n",
      "       n : to remove line nearest cursor x position\n",
      "       i : return with True value (to allow iteration)\n",
      "       anything else : finish and return\n",
      "  rms:   14.805 Anstroms\n",
      "  input from plot window...\n",
      "  rms:    6.956 Anstroms\n",
      "  input from plot window...\n",
      "  rms:    2.935 Anstroms\n",
      "  input from plot window...\n",
      "  rms:    2.591 Anstroms\n",
      "  input from plot window...\n",
      "\n",
      "  cross correlating with reference spectrum using lags between:  -50 49\n",
      "  Derived pixel shift from input wcal:  [  1.92143546e-09]\n"
     ]
    },
    {
     "name": "stderr",
     "output_type": "stream",
     "text": [
      "/home/local/Anaconda3-2020.02/envs/py3.9/lib/python3.9/site-packages/scipy/optimize/minpack.py:833: OptimizeWarning: Covariance of the parameters could not be estimated\n",
      "  warnings.warn('Covariance of the parameters could not be estimated',\n"
     ]
    },
    {
     "name": "stdout",
     "output_type": "stream",
     "text": [
      "  See identified lines.\n",
      "  rms:   65.513 Angstroms (42 lines)\n",
      "  Input in plot window: \n",
      "       l : to remove all lines to left of cursor\n",
      "       r : to remove all lines to right of cursor\n",
      "       n : to remove line nearest cursor x position\n",
      "       i : return with True value (to allow iteration)\n",
      "       anything else : finish and return\n",
      "  rms:   65.513 Anstroms\n",
      "  input from plot window...\n",
      "  rms:   64.937 Anstroms\n",
      "  input from plot window...\n",
      "  rms:    3.256 Anstroms\n",
      "  input from plot window...\n",
      "  rms:    1.959 Anstroms\n",
      "  input from plot window...\n",
      "  rms:    1.989 Anstroms\n",
      "  input from plot window...\n",
      "  rms:    0.548 Anstroms\n",
      "  input from plot window...\n",
      "\n",
      "  cross correlating with reference spectrum using lags between:  -50 49\n",
      "  Derived pixel shift from input wcal:  [  1.92143546e-09]\n"
     ]
    },
    {
     "name": "stderr",
     "output_type": "stream",
     "text": [
      "/home/local/Anaconda3-2020.02/envs/py3.9/lib/python3.9/site-packages/scipy/optimize/minpack.py:833: OptimizeWarning: Covariance of the parameters could not be estimated\n",
      "  warnings.warn('Covariance of the parameters could not be estimated',\n"
     ]
    },
    {
     "name": "stdout",
     "output_type": "stream",
     "text": [
      "  See identified lines.\n",
      "  rms:    2.215 Angstroms (52 lines)\n",
      "  Input in plot window: \n",
      "       l : to remove all lines to left of cursor\n",
      "       r : to remove all lines to right of cursor\n",
      "       n : to remove line nearest cursor x position\n",
      "       i : return with True value (to allow iteration)\n",
      "       anything else : finish and return\n",
      "  rms:    2.215 Anstroms\n",
      "  input from plot window...\n",
      "  rms:    2.146 Anstroms\n",
      "  input from plot window...\n",
      "  rms:    2.132 Anstroms\n",
      "  input from plot window...\n",
      "  rms:    2.147 Anstroms\n",
      "  input from plot window...\n",
      "  rms:    2.001 Anstroms\n",
      "  input from plot window...\n",
      "  rms:    1.770 Anstroms\n",
      "  input from plot window...\n",
      "  rms:    0.446 Anstroms\n",
      "  input from plot window...\n",
      "  rms:    0.324 Anstroms\n",
      "  input from plot window...\n",
      "  rms:    0.273 Anstroms\n",
      "  input from plot window...\n",
      "\n",
      "  cross correlating with reference spectrum using lags between:  -300 299\n",
      "  Derived pixel shift from input wcal for row: 38 0\n"
     ]
    },
    {
     "name": "stderr",
     "output_type": "stream",
     "text": [
      "/home/local/Anaconda3-2020.02/envs/py3.9/lib/python3.9/site-packages/scipy/optimize/minpack.py:833: OptimizeWarning: Covariance of the parameters could not be estimated\n",
      "  warnings.warn('Covariance of the parameters could not be estimated',\n",
      "/home/local/Anaconda3-2020.02/envs/py3.9/lib/python3.9/site-packages/scipy/optimize/minpack.py:833: OptimizeWarning: Covariance of the parameters could not be estimated\n",
      "  warnings.warn('Covariance of the parameters could not be estimated',\n",
      "/home/local/Anaconda3-2020.02/envs/py3.9/lib/python3.9/site-packages/scipy/optimize/minpack.py:833: OptimizeWarning: Covariance of the parameters could not be estimated\n",
      "  warnings.warn('Covariance of the parameters could not be estimated',\n",
      "/home/local/Anaconda3-2020.02/envs/py3.9/lib/python3.9/site-packages/scipy/optimize/minpack.py:833: OptimizeWarning: Covariance of the parameters could not be estimated\n",
      "  warnings.warn('Covariance of the parameters could not be estimated',\n",
      "/home/local/Anaconda3-2020.02/envs/py3.9/lib/python3.9/site-packages/scipy/optimize/minpack.py:833: OptimizeWarning: Covariance of the parameters could not be estimated\n",
      "  warnings.warn('Covariance of the parameters could not be estimated',\n",
      "/home/local/Anaconda3-2020.02/envs/py3.9/lib/python3.9/site-packages/scipy/optimize/minpack.py:833: OptimizeWarning: Covariance of the parameters could not be estimated\n",
      "  warnings.warn('Covariance of the parameters could not be estimated',\n"
     ]
    },
    {
     "name": "stdout",
     "output_type": "stream",
     "text": [
      "  See identified lines.\n",
      "  rms:    0.281\n",
      "rejecting 1 points from 260 total: \n",
      "  rms:    0.260\n",
      "rejecting 1 points from 260 total: \n",
      "  See 2D wavecal fit. Enter space in plot window to continue\n",
      "\n",
      "  rms:    0.230 Angstroms (60 lines)\n",
      "  cross correlating with reference spectrum using lags between:  -284 -85\n",
      "  Derived pixel shift from input wcal:  [-171.93501997]\n"
     ]
    },
    {
     "name": "stderr",
     "output_type": "stream",
     "text": [
      "/home/local/Anaconda3-2020.02/envs/py3.9/lib/python3.9/site-packages/scipy/optimize/minpack.py:833: OptimizeWarning: Covariance of the parameters could not be estimated\n",
      "  warnings.warn('Covariance of the parameters could not be estimated',\n"
     ]
    },
    {
     "name": "stdout",
     "output_type": "stream",
     "text": [
      "  See identified lines.\n",
      "  rms:    7.340 Angstroms (49 lines)\n",
      "  Input in plot window: \n",
      "       l : to remove all lines to left of cursor\n",
      "       r : to remove all lines to right of cursor\n",
      "       n : to remove line nearest cursor x position\n",
      "       i : return with True value (to allow iteration)\n",
      "       anything else : finish and return\n",
      "  rms:    7.340 Anstroms\n",
      "  input from plot window...\n",
      "  rms:    2.795 Anstroms\n",
      "  input from plot window...\n",
      "  rms:    1.031 Anstroms\n",
      "  input from plot window...\n",
      "  rms:    0.625 Anstroms\n",
      "  input from plot window...\n",
      "  rms:    0.567 Anstroms\n",
      "  input from plot window...\n",
      "  rms:    0.392 Anstroms\n",
      "  input from plot window...\n",
      "  rms:    0.383 Anstroms\n",
      "  input from plot window...\n",
      "  rms:    0.140 Anstroms\n",
      "  input from plot window...\n",
      "\n",
      "  cross correlating with reference spectrum using lags between:  -50 49\n",
      "  Derived pixel shift from input wcal:  [ -1.29264706e-08]\n"
     ]
    },
    {
     "name": "stderr",
     "output_type": "stream",
     "text": [
      "/home/local/Anaconda3-2020.02/envs/py3.9/lib/python3.9/site-packages/scipy/optimize/minpack.py:833: OptimizeWarning: Covariance of the parameters could not be estimated\n",
      "  warnings.warn('Covariance of the parameters could not be estimated',\n"
     ]
    },
    {
     "name": "stdout",
     "output_type": "stream",
     "text": [
      "  See identified lines.\n",
      "  rms:    2.880 Angstroms (50 lines)\n",
      "  Input in plot window: \n",
      "       l : to remove all lines to left of cursor\n",
      "       r : to remove all lines to right of cursor\n",
      "       n : to remove line nearest cursor x position\n",
      "       i : return with True value (to allow iteration)\n",
      "       anything else : finish and return\n",
      "  rms:    2.880 Anstroms\n",
      "  input from plot window...\n",
      "  rms:    2.000 Anstroms\n",
      "  input from plot window...\n",
      "  rms:    1.936 Anstroms\n",
      "  input from plot window...\n",
      "  rms:    1.422 Anstroms\n",
      "  input from plot window...\n",
      "  rms:    1.424 Anstroms\n",
      "  input from plot window...\n",
      "  rms:    1.402 Anstroms\n",
      "  input from plot window...\n",
      "  rms:    1.376 Anstroms\n",
      "  input from plot window...\n",
      "  rms:    0.880 Anstroms\n",
      "  input from plot window...\n",
      "  rms:    0.627 Anstroms\n",
      "  input from plot window...\n",
      "  rms:    0.552 Anstroms\n",
      "  input from plot window...\n",
      "  rms:    0.396 Anstroms\n",
      "  input from plot window...\n",
      "  rms:    0.199 Anstroms\n",
      "  input from plot window...\n",
      "\n",
      "  cross correlating with reference spectrum using lags between:  -300 299\n",
      "  Derived pixel shift from input wcal for row: 38 0\n",
      "  See identified lines.\n",
      "  rms:    0.199\n",
      "rejecting 0 points from 229 total: \n",
      "  See 2D wavecal fit. Enter space in plot window to continue\n",
      "\n",
      "  rms:    0.230 Angstroms (60 lines)\n",
      "  cross correlating with reference spectrum using lags between:  654 853\n",
      "  Derived pixel shift from input wcal:  [ 761.44506292]\n"
     ]
    },
    {
     "name": "stderr",
     "output_type": "stream",
     "text": [
      "/home/local/Anaconda3-2020.02/envs/py3.9/lib/python3.9/site-packages/scipy/optimize/minpack.py:833: OptimizeWarning: Covariance of the parameters could not be estimated\n",
      "  warnings.warn('Covariance of the parameters could not be estimated',\n"
     ]
    },
    {
     "name": "stdout",
     "output_type": "stream",
     "text": [
      "  See identified lines.\n",
      "  rms:   33.193 Angstroms (39 lines)\n",
      "  Input in plot window: \n",
      "       l : to remove all lines to left of cursor\n",
      "       r : to remove all lines to right of cursor\n",
      "       n : to remove line nearest cursor x position\n",
      "       i : return with True value (to allow iteration)\n",
      "       anything else : finish and return\n",
      "  rms:   33.193 Anstroms\n",
      "  input from plot window...\n",
      "  rms:   12.367 Anstroms\n",
      "  input from plot window...\n",
      "  rms:    4.627 Anstroms\n",
      "  input from plot window...\n",
      "  rms:    2.868 Anstroms\n",
      "  input from plot window...\n",
      "  rms:    2.968 Anstroms\n",
      "  input from plot window...\n",
      "  rms:    0.472 Anstroms\n",
      "  input from plot window...\n",
      "\n",
      "  cross correlating with reference spectrum using lags between:  -50 49\n",
      "  Derived pixel shift from input wcal:  [ -2.14848484e-07]\n"
     ]
    },
    {
     "name": "stderr",
     "output_type": "stream",
     "text": [
      "/home/local/Anaconda3-2020.02/envs/py3.9/lib/python3.9/site-packages/scipy/optimize/minpack.py:833: OptimizeWarning: Covariance of the parameters could not be estimated\n",
      "  warnings.warn('Covariance of the parameters could not be estimated',\n"
     ]
    },
    {
     "name": "stdout",
     "output_type": "stream",
     "text": [
      "  See identified lines.\n",
      "  rms:   24.372 Angstroms (48 lines)\n",
      "  Input in plot window: \n",
      "       l : to remove all lines to left of cursor\n",
      "       r : to remove all lines to right of cursor\n",
      "       n : to remove line nearest cursor x position\n",
      "       i : return with True value (to allow iteration)\n",
      "       anything else : finish and return\n",
      "  rms:   24.372 Anstroms\n",
      "  input from plot window...\n",
      "  rms:   16.904 Anstroms\n",
      "  input from plot window...\n",
      "  rms:   14.151 Anstroms\n",
      "  input from plot window...\n",
      "  rms:    6.128 Anstroms\n",
      "  input from plot window...\n",
      "  rms:    3.148 Anstroms\n",
      "  input from plot window...\n",
      "  rms:    1.094 Anstroms\n",
      "  input from plot window...\n",
      "  rms:    0.585 Anstroms\n",
      "  input from plot window...\n",
      "\n",
      "  cross correlating with reference spectrum using lags between:  -50 49\n",
      "  Derived pixel shift from input wcal:  [ -2.14848484e-07]\n"
     ]
    },
    {
     "name": "stderr",
     "output_type": "stream",
     "text": [
      "/home/local/Anaconda3-2020.02/envs/py3.9/lib/python3.9/site-packages/scipy/optimize/minpack.py:833: OptimizeWarning: Covariance of the parameters could not be estimated\n",
      "  warnings.warn('Covariance of the parameters could not be estimated',\n"
     ]
    },
    {
     "name": "stdout",
     "output_type": "stream",
     "text": [
      "  See identified lines.\n",
      "  rms:    1.682 Angstroms (51 lines)\n",
      "  Input in plot window: \n",
      "       l : to remove all lines to left of cursor\n",
      "       r : to remove all lines to right of cursor\n",
      "       n : to remove line nearest cursor x position\n",
      "       i : return with True value (to allow iteration)\n",
      "       anything else : finish and return\n",
      "  rms:    1.682 Anstroms\n",
      "  input from plot window...\n",
      "  rms:    1.670 Anstroms\n",
      "  input from plot window...\n",
      "  rms:    1.527 Anstroms\n",
      "  input from plot window...\n",
      "  rms:    1.533 Anstroms\n",
      "  input from plot window...\n",
      "  rms:    1.267 Anstroms\n",
      "  input from plot window...\n",
      "  rms:    0.954 Anstroms\n",
      "  input from plot window...\n",
      "  rms:    0.408 Anstroms\n",
      "  input from plot window...\n",
      "  rms:    0.408 Anstroms\n",
      "  input from plot window...\n",
      "  rms:    0.291 Anstroms\n",
      "  input from plot window...\n",
      "\n",
      "  cross correlating with reference spectrum using lags between:  -50 49\n",
      "  Derived pixel shift from input wcal:  [ -2.14848484e-07]\n"
     ]
    },
    {
     "name": "stderr",
     "output_type": "stream",
     "text": [
      "/home/local/Anaconda3-2020.02/envs/py3.9/lib/python3.9/site-packages/scipy/optimize/minpack.py:833: OptimizeWarning: Covariance of the parameters could not be estimated\n",
      "  warnings.warn('Covariance of the parameters could not be estimated',\n"
     ]
    },
    {
     "name": "stdout",
     "output_type": "stream",
     "text": [
      "  See identified lines.\n",
      "  rms:    1.682 Angstroms (51 lines)\n",
      "  Input in plot window: \n",
      "       l : to remove all lines to left of cursor\n",
      "       r : to remove all lines to right of cursor\n",
      "       n : to remove line nearest cursor x position\n",
      "       i : return with True value (to allow iteration)\n",
      "       anything else : finish and return\n",
      "  rms:    1.682 Anstroms\n",
      "  input from plot window...\n",
      "  rms:    1.670 Anstroms\n",
      "  input from plot window...\n",
      "  rms:    1.527 Anstroms\n",
      "  input from plot window...\n",
      "  rms:    1.533 Anstroms\n",
      "  input from plot window...\n",
      "  rms:    1.267 Anstroms\n",
      "  input from plot window...\n",
      "  rms:    0.954 Anstroms\n",
      "  input from plot window...\n",
      "  rms:    0.408 Anstroms\n",
      "  input from plot window...\n",
      "  rms:    0.293 Anstroms\n",
      "  input from plot window...\n",
      "\n",
      "  cross correlating with reference spectrum using lags between:  -300 299\n",
      "  Derived pixel shift from input wcal for row: 38 0\n"
     ]
    },
    {
     "name": "stderr",
     "output_type": "stream",
     "text": [
      "/home/local/Anaconda3-2020.02/envs/py3.9/lib/python3.9/site-packages/scipy/optimize/minpack.py:833: OptimizeWarning: Covariance of the parameters could not be estimated\n",
      "  warnings.warn('Covariance of the parameters could not be estimated',\n",
      "/home/local/Anaconda3-2020.02/envs/py3.9/lib/python3.9/site-packages/scipy/optimize/minpack.py:833: OptimizeWarning: Covariance of the parameters could not be estimated\n",
      "  warnings.warn('Covariance of the parameters could not be estimated',\n",
      "/home/local/Anaconda3-2020.02/envs/py3.9/lib/python3.9/site-packages/scipy/optimize/minpack.py:833: OptimizeWarning: Covariance of the parameters could not be estimated\n",
      "  warnings.warn('Covariance of the parameters could not be estimated',\n",
      "/home/local/Anaconda3-2020.02/envs/py3.9/lib/python3.9/site-packages/scipy/optimize/minpack.py:833: OptimizeWarning: Covariance of the parameters could not be estimated\n",
      "  warnings.warn('Covariance of the parameters could not be estimated',\n",
      "/home/local/Anaconda3-2020.02/envs/py3.9/lib/python3.9/site-packages/scipy/optimize/minpack.py:833: OptimizeWarning: Covariance of the parameters could not be estimated\n",
      "  warnings.warn('Covariance of the parameters could not be estimated',\n"
     ]
    },
    {
     "name": "stdout",
     "output_type": "stream",
     "text": [
      "  See identified lines.\n",
      "  rms:    0.305\n",
      "rejecting 3 points from 261 total: \n",
      "  rms:    0.270\n",
      "rejecting 4 points from 261 total: \n",
      "  rms:    0.263\n",
      "rejecting 4 points from 261 total: \n",
      "  See 2D wavecal fit. Enter space in plot window to continue\n",
      "\n",
      "  rms:    0.230 Angstroms (60 lines)\n",
      "  cross correlating with reference spectrum using lags between:  267 466\n",
      "  Derived pixel shift from input wcal:  [ 371.21848698]\n"
     ]
    },
    {
     "name": "stderr",
     "output_type": "stream",
     "text": [
      "/home/local/Anaconda3-2020.02/envs/py3.9/lib/python3.9/site-packages/scipy/optimize/minpack.py:833: OptimizeWarning: Covariance of the parameters could not be estimated\n",
      "  warnings.warn('Covariance of the parameters could not be estimated',\n"
     ]
    },
    {
     "name": "stdout",
     "output_type": "stream",
     "text": [
      "  See identified lines.\n",
      "  rms:   38.616 Angstroms (48 lines)\n",
      "  Input in plot window: \n",
      "       l : to remove all lines to left of cursor\n",
      "       r : to remove all lines to right of cursor\n",
      "       n : to remove line nearest cursor x position\n",
      "       i : return with True value (to allow iteration)\n",
      "       anything else : finish and return\n",
      "  rms:   38.616 Anstroms\n",
      "  input from plot window...\n",
      "  rms:    9.725 Anstroms\n",
      "  input from plot window...\n",
      "  rms:    4.753 Anstroms\n",
      "  input from plot window...\n",
      "  rms:    4.484 Anstroms\n",
      "  input from plot window...\n",
      "  rms:    3.793 Anstroms\n",
      "  input from plot window...\n",
      "  rms:    3.706 Anstroms\n",
      "  input from plot window...\n",
      "  rms:    3.704 Anstroms\n",
      "  input from plot window...\n",
      "  rms:    2.877 Anstroms\n",
      "  input from plot window...\n",
      "  rms:    0.513 Anstroms\n",
      "  input from plot window...\n",
      "\n",
      "  cross correlating with reference spectrum using lags between:  -50 49\n",
      "  Derived pixel shift from input wcal:  [ -9.43177696e-08]\n"
     ]
    },
    {
     "name": "stderr",
     "output_type": "stream",
     "text": [
      "/home/local/Anaconda3-2020.02/envs/py3.9/lib/python3.9/site-packages/scipy/optimize/minpack.py:833: OptimizeWarning: Covariance of the parameters could not be estimated\n",
      "  warnings.warn('Covariance of the parameters could not be estimated',\n"
     ]
    },
    {
     "name": "stdout",
     "output_type": "stream",
     "text": [
      "  See identified lines.\n",
      "  rms:    2.348 Angstroms (56 lines)\n",
      "  Input in plot window: \n",
      "       l : to remove all lines to left of cursor\n",
      "       r : to remove all lines to right of cursor\n",
      "       n : to remove line nearest cursor x position\n",
      "       i : return with True value (to allow iteration)\n",
      "       anything else : finish and return\n",
      "  rms:    2.348 Anstroms\n",
      "  input from plot window...\n",
      "  rms:    2.268 Anstroms\n",
      "  input from plot window...\n",
      "  rms:    2.180 Anstroms\n",
      "  input from plot window...\n",
      "  rms:    2.155 Anstroms\n",
      "  input from plot window...\n",
      "  rms:    2.175 Anstroms\n",
      "  input from plot window...\n",
      "  rms:    2.082 Anstroms\n",
      "  input from plot window...\n",
      "  rms:    1.947 Anstroms\n",
      "  input from plot window...\n",
      "  rms:    1.314 Anstroms\n",
      "  input from plot window...\n",
      "  rms:    0.869 Anstroms\n",
      "  input from plot window...\n",
      "  rms:    0.732 Anstroms\n",
      "  input from plot window...\n",
      "  rms:    0.357 Anstroms\n",
      "  input from plot window...\n",
      "  rms:    0.234 Anstroms\n",
      "  input from plot window...\n",
      "\n",
      "  cross correlating with reference spectrum using lags between:  -50 49\n",
      "  Derived pixel shift from input wcal:  [ -9.43177696e-08]\n"
     ]
    },
    {
     "name": "stderr",
     "output_type": "stream",
     "text": [
      "/home/local/Anaconda3-2020.02/envs/py3.9/lib/python3.9/site-packages/scipy/optimize/minpack.py:833: OptimizeWarning: Covariance of the parameters could not be estimated\n",
      "  warnings.warn('Covariance of the parameters could not be estimated',\n"
     ]
    },
    {
     "name": "stdout",
     "output_type": "stream",
     "text": [
      "  See identified lines.\n",
      "  rms:    1.944 Angstroms (56 lines)\n",
      "  Input in plot window: \n",
      "       l : to remove all lines to left of cursor\n",
      "       r : to remove all lines to right of cursor\n",
      "       n : to remove line nearest cursor x position\n",
      "       i : return with True value (to allow iteration)\n",
      "       anything else : finish and return\n",
      "  rms:    1.944 Anstroms\n",
      "  input from plot window...\n",
      "  rms:    1.814 Anstroms\n",
      "  input from plot window...\n",
      "  rms:    1.700 Anstroms\n",
      "  input from plot window...\n",
      "  rms:    1.671 Anstroms\n",
      "  input from plot window...\n",
      "  rms:    1.680 Anstroms\n",
      "  input from plot window...\n",
      "  rms:    1.681 Anstroms\n",
      "  input from plot window...\n",
      "  rms:    1.489 Anstroms\n",
      "  input from plot window...\n",
      "  rms:    1.128 Anstroms\n",
      "  input from plot window...\n",
      "  rms:    0.972 Anstroms\n",
      "  input from plot window...\n",
      "  rms:    0.363 Anstroms\n",
      "  input from plot window...\n",
      "  rms:    0.261 Anstroms\n",
      "  input from plot window...\n",
      "\n",
      "  cross correlating with reference spectrum using lags between:  -300 299\n",
      "  Derived pixel shift from input wcal for row: 38 0\n"
     ]
    },
    {
     "name": "stderr",
     "output_type": "stream",
     "text": [
      "/home/local/Anaconda3-2020.02/envs/py3.9/lib/python3.9/site-packages/scipy/optimize/minpack.py:833: OptimizeWarning: Covariance of the parameters could not be estimated\n",
      "  warnings.warn('Covariance of the parameters could not be estimated',\n",
      "/home/local/Anaconda3-2020.02/envs/py3.9/lib/python3.9/site-packages/scipy/optimize/minpack.py:833: OptimizeWarning: Covariance of the parameters could not be estimated\n",
      "  warnings.warn('Covariance of the parameters could not be estimated',\n",
      "/home/local/Anaconda3-2020.02/envs/py3.9/lib/python3.9/site-packages/scipy/optimize/minpack.py:833: OptimizeWarning: Covariance of the parameters could not be estimated\n",
      "  warnings.warn('Covariance of the parameters could not be estimated',\n",
      "/home/local/Anaconda3-2020.02/envs/py3.9/lib/python3.9/site-packages/scipy/optimize/minpack.py:833: OptimizeWarning: Covariance of the parameters could not be estimated\n",
      "  warnings.warn('Covariance of the parameters could not be estimated',\n",
      "/home/local/Anaconda3-2020.02/envs/py3.9/lib/python3.9/site-packages/scipy/optimize/minpack.py:833: OptimizeWarning: Covariance of the parameters could not be estimated\n",
      "  warnings.warn('Covariance of the parameters could not be estimated',\n",
      "/home/local/Anaconda3-2020.02/envs/py3.9/lib/python3.9/site-packages/scipy/optimize/minpack.py:833: OptimizeWarning: Covariance of the parameters could not be estimated\n",
      "  warnings.warn('Covariance of the parameters could not be estimated',\n"
     ]
    },
    {
     "name": "stdout",
     "output_type": "stream",
     "text": [
      "  See identified lines.\n",
      "  rms:    0.451\n",
      "rejecting 2 points from 265 total: \n",
      "  rms:    0.260\n",
      "rejecting 2 points from 265 total: \n",
      "  See 2D wavecal fit. Enter space in plot window to continue\n",
      "\n",
      "  rms:    0.230 Angstroms (60 lines)\n",
      "  cross correlating with reference spectrum using lags between:  62 261\n",
      "  Derived pixel shift from input wcal:  [ 167.73597669]\n"
     ]
    },
    {
     "name": "stderr",
     "output_type": "stream",
     "text": [
      "/home/local/Anaconda3-2020.02/envs/py3.9/lib/python3.9/site-packages/scipy/optimize/minpack.py:833: OptimizeWarning: Covariance of the parameters could not be estimated\n",
      "  warnings.warn('Covariance of the parameters could not be estimated',\n"
     ]
    },
    {
     "name": "stdout",
     "output_type": "stream",
     "text": [
      "  See identified lines.\n",
      "  rms:    6.943 Angstroms (53 lines)\n",
      "  Input in plot window: \n",
      "       l : to remove all lines to left of cursor\n",
      "       r : to remove all lines to right of cursor\n",
      "       n : to remove line nearest cursor x position\n",
      "       i : return with True value (to allow iteration)\n",
      "       anything else : finish and return\n",
      "  rms:    6.943 Anstroms\n",
      "  input from plot window...\n",
      "  rms:    3.279 Anstroms\n",
      "  input from plot window...\n",
      "  rms:    3.310 Anstroms\n",
      "  input from plot window...\n",
      "  rms:    3.243 Anstroms\n",
      "  input from plot window...\n",
      "  rms:    2.921 Anstroms\n",
      "  input from plot window...\n",
      "  rms:    2.050 Anstroms\n",
      "  input from plot window...\n",
      "  rms:    1.950 Anstroms\n",
      "  input from plot window...\n",
      "  rms:    0.480 Anstroms\n",
      "  input from plot window...\n",
      "\n",
      "  cross correlating with reference spectrum using lags between:  -300 299\n",
      "  Derived pixel shift from input wcal for row: 38 0\n"
     ]
    },
    {
     "name": "stderr",
     "output_type": "stream",
     "text": [
      "/home/local/Anaconda3-2020.02/envs/py3.9/lib/python3.9/site-packages/scipy/optimize/minpack.py:833: OptimizeWarning: Covariance of the parameters could not be estimated\n",
      "  warnings.warn('Covariance of the parameters could not be estimated',\n",
      "/home/local/Anaconda3-2020.02/envs/py3.9/lib/python3.9/site-packages/scipy/optimize/minpack.py:833: OptimizeWarning: Covariance of the parameters could not be estimated\n",
      "  warnings.warn('Covariance of the parameters could not be estimated',\n",
      "/home/local/Anaconda3-2020.02/envs/py3.9/lib/python3.9/site-packages/scipy/optimize/minpack.py:833: OptimizeWarning: Covariance of the parameters could not be estimated\n",
      "  warnings.warn('Covariance of the parameters could not be estimated',\n"
     ]
    },
    {
     "name": "stdout",
     "output_type": "stream",
     "text": [
      "  See identified lines.\n",
      "  rms:    0.573\n",
      "rejecting 14 points from 265 total: \n",
      "  rms:    0.279\n",
      "rejecting 14 points from 265 total: \n",
      "  See 2D wavecal fit. Enter space in plot window to continue\n",
      "\n",
      "  rms:    0.230 Angstroms (60 lines)\n",
      "  cross correlating with reference spectrum using lags between:  -303 -104\n",
      "  Derived pixel shift from input wcal:  [-190.63201075]\n"
     ]
    },
    {
     "name": "stderr",
     "output_type": "stream",
     "text": [
      "/home/local/Anaconda3-2020.02/envs/py3.9/lib/python3.9/site-packages/scipy/optimize/minpack.py:833: OptimizeWarning: Covariance of the parameters could not be estimated\n",
      "  warnings.warn('Covariance of the parameters could not be estimated',\n"
     ]
    },
    {
     "name": "stdout",
     "output_type": "stream",
     "text": [
      "  See identified lines.\n",
      "  rms:    4.186 Angstroms (50 lines)\n",
      "  Input in plot window: \n",
      "       l : to remove all lines to left of cursor\n",
      "       r : to remove all lines to right of cursor\n",
      "       n : to remove line nearest cursor x position\n",
      "       i : return with True value (to allow iteration)\n",
      "       anything else : finish and return\n",
      "  rms:    4.186 Anstroms\n",
      "  input from plot window...\n",
      "  rms:    2.687 Anstroms\n",
      "  input from plot window...\n",
      "  rms:    0.573 Anstroms\n",
      "  input from plot window...\n",
      "\n",
      "  cross correlating with reference spectrum using lags between:  -50 49\n",
      "  Derived pixel shift from input wcal:  [-0.00046526]\n"
     ]
    },
    {
     "name": "stderr",
     "output_type": "stream",
     "text": [
      "/home/local/Anaconda3-2020.02/envs/py3.9/lib/python3.9/site-packages/scipy/optimize/minpack.py:833: OptimizeWarning: Covariance of the parameters could not be estimated\n",
      "  warnings.warn('Covariance of the parameters could not be estimated',\n"
     ]
    },
    {
     "name": "stdout",
     "output_type": "stream",
     "text": [
      "  See identified lines.\n",
      "  rms:    3.386 Angstroms (51 lines)\n",
      "  Input in plot window: \n",
      "       l : to remove all lines to left of cursor\n",
      "       r : to remove all lines to right of cursor\n",
      "       n : to remove line nearest cursor x position\n",
      "       i : return with True value (to allow iteration)\n",
      "       anything else : finish and return\n",
      "  rms:    3.386 Anstroms\n",
      "  input from plot window...\n",
      "  rms:    3.264 Anstroms\n",
      "  input from plot window...\n",
      "  rms:    3.166 Anstroms\n",
      "  input from plot window...\n",
      "  rms:    3.051 Anstroms\n",
      "  input from plot window...\n",
      "  rms:    2.997 Anstroms\n",
      "  input from plot window...\n",
      "  rms:    2.623 Anstroms\n",
      "  input from plot window...\n",
      "  rms:    1.722 Anstroms\n",
      "  input from plot window...\n",
      "  rms:    1.000 Anstroms\n",
      "  input from plot window...\n",
      "\n",
      "  cross correlating with reference spectrum using lags between:  -300 299\n",
      "  Derived pixel shift from input wcal for row: 14 0\n"
     ]
    },
    {
     "name": "stderr",
     "output_type": "stream",
     "text": [
      "/home/local/Anaconda3-2020.02/envs/py3.9/lib/python3.9/site-packages/scipy/optimize/minpack.py:833: OptimizeWarning: Covariance of the parameters could not be estimated\n",
      "  warnings.warn('Covariance of the parameters could not be estimated',\n",
      "/home/local/Anaconda3-2020.02/envs/py3.9/lib/python3.9/site-packages/scipy/optimize/minpack.py:833: OptimizeWarning: Covariance of the parameters could not be estimated\n",
      "  warnings.warn('Covariance of the parameters could not be estimated',\n",
      "/home/local/Anaconda3-2020.02/envs/py3.9/lib/python3.9/site-packages/scipy/optimize/minpack.py:833: OptimizeWarning: Covariance of the parameters could not be estimated\n",
      "  warnings.warn('Covariance of the parameters could not be estimated',\n",
      "/home/local/Anaconda3-2020.02/envs/py3.9/lib/python3.9/site-packages/scipy/optimize/minpack.py:833: OptimizeWarning: Covariance of the parameters could not be estimated\n",
      "  warnings.warn('Covariance of the parameters could not be estimated',\n",
      "/home/local/Anaconda3-2020.02/envs/py3.9/lib/python3.9/site-packages/scipy/optimize/minpack.py:833: OptimizeWarning: Covariance of the parameters could not be estimated\n",
      "  warnings.warn('Covariance of the parameters could not be estimated',\n"
     ]
    },
    {
     "name": "stdout",
     "output_type": "stream",
     "text": [
      "  See identified lines.\n",
      "  rms:    2.046\n",
      "rejecting 4 points from 213 total: \n",
      "  rms:    1.817\n",
      "rejecting 4 points from 213 total: \n",
      "  See 2D wavecal fit. Enter space in plot window to continue\n",
      "\n",
      "  rms:    0.230 Angstroms (60 lines)\n",
      "  cross correlating with reference spectrum using lags between:  429 628\n",
      "  Derived pixel shift from input wcal:  [ 536.31724363]\n"
     ]
    },
    {
     "name": "stderr",
     "output_type": "stream",
     "text": [
      "/home/local/Anaconda3-2020.02/envs/py3.9/lib/python3.9/site-packages/scipy/optimize/minpack.py:833: OptimizeWarning: Covariance of the parameters could not be estimated\n",
      "  warnings.warn('Covariance of the parameters could not be estimated',\n"
     ]
    },
    {
     "name": "stdout",
     "output_type": "stream",
     "text": [
      "  See identified lines.\n",
      "  rms:   41.700 Angstroms (52 lines)\n",
      "  Input in plot window: \n",
      "       l : to remove all lines to left of cursor\n",
      "       r : to remove all lines to right of cursor\n",
      "       n : to remove line nearest cursor x position\n",
      "       i : return with True value (to allow iteration)\n",
      "       anything else : finish and return\n",
      "  rms:   41.700 Anstroms\n",
      "  input from plot window...\n",
      "  rms:   29.638 Anstroms\n",
      "  input from plot window...\n",
      "  rms:    4.561 Anstroms\n",
      "  input from plot window...\n",
      "  rms:    3.432 Anstroms\n",
      "  input from plot window...\n",
      "\n",
      "  cross correlating with reference spectrum using lags between:  -50 49\n",
      "  Derived pixel shift from input wcal:  [ -2.75113592e-07]\n"
     ]
    },
    {
     "name": "stderr",
     "output_type": "stream",
     "text": [
      "/home/local/Anaconda3-2020.02/envs/py3.9/lib/python3.9/site-packages/scipy/optimize/minpack.py:833: OptimizeWarning: Covariance of the parameters could not be estimated\n",
      "  warnings.warn('Covariance of the parameters could not be estimated',\n"
     ]
    },
    {
     "name": "stdout",
     "output_type": "stream",
     "text": [
      "  See identified lines.\n",
      "  rms:    5.284 Angstroms (54 lines)\n",
      "  Input in plot window: \n",
      "       l : to remove all lines to left of cursor\n",
      "       r : to remove all lines to right of cursor\n",
      "       n : to remove line nearest cursor x position\n",
      "       i : return with True value (to allow iteration)\n",
      "       anything else : finish and return\n",
      "  rms:    5.284 Anstroms\n",
      "  input from plot window...\n",
      "  rms:    3.462 Anstroms\n",
      "  input from plot window...\n",
      "  rms:    3.305 Anstroms\n",
      "  input from plot window...\n",
      "  rms:    1.980 Anstroms\n",
      "  input from plot window...\n",
      "  rms:    1.700 Anstroms\n",
      "  input from plot window...\n",
      "\n",
      "  cross correlating with reference spectrum using lags between:  -50 49\n",
      "  Derived pixel shift from input wcal:  [ -2.75113592e-07]\n"
     ]
    },
    {
     "name": "stderr",
     "output_type": "stream",
     "text": [
      "/home/local/Anaconda3-2020.02/envs/py3.9/lib/python3.9/site-packages/scipy/optimize/minpack.py:833: OptimizeWarning: Covariance of the parameters could not be estimated\n",
      "  warnings.warn('Covariance of the parameters could not be estimated',\n"
     ]
    },
    {
     "name": "stdout",
     "output_type": "stream",
     "text": [
      "  See identified lines.\n",
      "  rms:   11.959 Angstroms (52 lines)\n",
      "  Input in plot window: \n",
      "       l : to remove all lines to left of cursor\n",
      "       r : to remove all lines to right of cursor\n",
      "       n : to remove line nearest cursor x position\n",
      "       i : return with True value (to allow iteration)\n",
      "       anything else : finish and return\n",
      "  rms:   11.959 Anstroms\n",
      "  input from plot window...\n",
      "  rms:    5.105 Anstroms\n",
      "  input from plot window...\n",
      "  rms:    3.556 Anstroms\n",
      "  input from plot window...\n",
      "  rms:    3.359 Anstroms\n",
      "  input from plot window...\n",
      "\n",
      "  cross correlating with reference spectrum using lags between:  -300 299\n",
      "  Derived pixel shift from input wcal for row: 14 0\n"
     ]
    },
    {
     "name": "stderr",
     "output_type": "stream",
     "text": [
      "/home/local/Anaconda3-2020.02/envs/py3.9/lib/python3.9/site-packages/scipy/optimize/minpack.py:833: OptimizeWarning: Covariance of the parameters could not be estimated\n",
      "  warnings.warn('Covariance of the parameters could not be estimated',\n",
      "/home/local/Anaconda3-2020.02/envs/py3.9/lib/python3.9/site-packages/scipy/optimize/minpack.py:833: OptimizeWarning: Covariance of the parameters could not be estimated\n",
      "  warnings.warn('Covariance of the parameters could not be estimated',\n",
      "/home/local/Anaconda3-2020.02/envs/py3.9/lib/python3.9/site-packages/scipy/optimize/minpack.py:833: OptimizeWarning: Covariance of the parameters could not be estimated\n",
      "  warnings.warn('Covariance of the parameters could not be estimated',\n",
      "/home/local/Anaconda3-2020.02/envs/py3.9/lib/python3.9/site-packages/scipy/optimize/minpack.py:833: OptimizeWarning: Covariance of the parameters could not be estimated\n",
      "  warnings.warn('Covariance of the parameters could not be estimated',\n",
      "/home/local/Anaconda3-2020.02/envs/py3.9/lib/python3.9/site-packages/scipy/optimize/minpack.py:833: OptimizeWarning: Covariance of the parameters could not be estimated\n",
      "  warnings.warn('Covariance of the parameters could not be estimated',\n"
     ]
    },
    {
     "name": "stdout",
     "output_type": "stream",
     "text": [
      "  See identified lines.\n",
      "  rms:    3.374\n",
      "rejecting 1 points from 230 total: \n",
      "  rms:    3.308\n",
      "rejecting 1 points from 230 total: \n",
      "  See 2D wavecal fit. Enter space in plot window to continue\n",
      "\n",
      "  rms:    0.230 Angstroms (60 lines)\n",
      "  cross correlating with reference spectrum using lags between:  286 485\n",
      "  Derived pixel shift from input wcal:  [ 393.2394318]\n"
     ]
    },
    {
     "name": "stderr",
     "output_type": "stream",
     "text": [
      "/home/local/Anaconda3-2020.02/envs/py3.9/lib/python3.9/site-packages/scipy/optimize/minpack.py:833: OptimizeWarning: Covariance of the parameters could not be estimated\n",
      "  warnings.warn('Covariance of the parameters could not be estimated',\n"
     ]
    },
    {
     "name": "stdout",
     "output_type": "stream",
     "text": [
      "  See identified lines.\n",
      "  rms:  122.988 Angstroms (46 lines)\n",
      "  Input in plot window: \n",
      "       l : to remove all lines to left of cursor\n",
      "       r : to remove all lines to right of cursor\n",
      "       n : to remove line nearest cursor x position\n",
      "       i : return with True value (to allow iteration)\n",
      "       anything else : finish and return\n",
      "  rms:  122.988 Anstroms\n",
      "  input from plot window...\n",
      "  rms:  113.122 Anstroms\n",
      "  input from plot window...\n",
      "  rms:    9.394 Anstroms\n",
      "  input from plot window...\n",
      "  rms:    7.166 Anstroms\n",
      "  input from plot window...\n",
      "  rms:    3.562 Anstroms\n",
      "  input from plot window...\n",
      "  rms:    2.636 Anstroms\n",
      "  input from plot window...\n",
      "  rms:    2.536 Anstroms\n",
      "  input from plot window...\n",
      "  rms:    1.176 Anstroms\n",
      "  input from plot window...\n",
      "  rms:    0.486 Anstroms\n",
      "  input from plot window...\n",
      "\n",
      "  cross correlating with reference spectrum using lags between:  -50 49\n",
      "  Derived pixel shift from input wcal:  [ -1.28027011e-09]\n"
     ]
    },
    {
     "name": "stderr",
     "output_type": "stream",
     "text": [
      "/home/local/Anaconda3-2020.02/envs/py3.9/lib/python3.9/site-packages/scipy/optimize/minpack.py:833: OptimizeWarning: Covariance of the parameters could not be estimated\n",
      "  warnings.warn('Covariance of the parameters could not be estimated',\n"
     ]
    },
    {
     "name": "stdout",
     "output_type": "stream",
     "text": [
      "  See identified lines.\n",
      "  rms:   14.716 Angstroms (51 lines)\n",
      "  Input in plot window: \n",
      "       l : to remove all lines to left of cursor\n",
      "       r : to remove all lines to right of cursor\n",
      "       n : to remove line nearest cursor x position\n",
      "       i : return with True value (to allow iteration)\n",
      "       anything else : finish and return\n",
      "  rms:   14.716 Anstroms\n",
      "  input from plot window...\n",
      "  rms:    1.417 Anstroms\n",
      "  input from plot window...\n",
      "  rms:    1.392 Anstroms\n",
      "  input from plot window...\n",
      "  rms:    1.173 Anstroms\n",
      "  input from plot window...\n",
      "  rms:    1.175 Anstroms\n",
      "  input from plot window...\n",
      "  rms:    0.934 Anstroms\n",
      "  input from plot window...\n",
      "  rms:    0.416 Anstroms\n",
      "  input from plot window...\n",
      "  rms:    0.305 Anstroms\n",
      "  input from plot window...\n",
      "  rms:    0.251 Anstroms\n",
      "  input from plot window...\n",
      "\n",
      "  cross correlating with reference spectrum using lags between:  -300 299\n",
      "  Derived pixel shift from input wcal for row: 38 0\n"
     ]
    },
    {
     "name": "stderr",
     "output_type": "stream",
     "text": [
      "/home/local/Anaconda3-2020.02/envs/py3.9/lib/python3.9/site-packages/scipy/optimize/minpack.py:833: OptimizeWarning: Covariance of the parameters could not be estimated\n",
      "  warnings.warn('Covariance of the parameters could not be estimated',\n",
      "/home/local/Anaconda3-2020.02/envs/py3.9/lib/python3.9/site-packages/scipy/optimize/minpack.py:833: OptimizeWarning: Covariance of the parameters could not be estimated\n",
      "  warnings.warn('Covariance of the parameters could not be estimated',\n",
      "/home/local/Anaconda3-2020.02/envs/py3.9/lib/python3.9/site-packages/scipy/optimize/minpack.py:833: OptimizeWarning: Covariance of the parameters could not be estimated\n",
      "  warnings.warn('Covariance of the parameters could not be estimated',\n",
      "/home/local/Anaconda3-2020.02/envs/py3.9/lib/python3.9/site-packages/scipy/optimize/minpack.py:833: OptimizeWarning: Covariance of the parameters could not be estimated\n",
      "  warnings.warn('Covariance of the parameters could not be estimated',\n",
      "/home/local/Anaconda3-2020.02/envs/py3.9/lib/python3.9/site-packages/scipy/optimize/minpack.py:833: OptimizeWarning: Covariance of the parameters could not be estimated\n",
      "  warnings.warn('Covariance of the parameters could not be estimated',\n",
      "/home/local/Anaconda3-2020.02/envs/py3.9/lib/python3.9/site-packages/scipy/optimize/minpack.py:833: OptimizeWarning: Covariance of the parameters could not be estimated\n",
      "  warnings.warn('Covariance of the parameters could not be estimated',\n"
     ]
    },
    {
     "name": "stdout",
     "output_type": "stream",
     "text": [
      "  See identified lines.\n",
      "  rms:    0.437\n",
      "rejecting 3 points from 255 total: \n",
      "  rms:    0.251\n",
      "rejecting 3 points from 255 total: \n",
      "  See 2D wavecal fit. Enter space in plot window to continue\n",
      "\n",
      "  rms:    0.230 Angstroms (60 lines)\n",
      "  cross correlating with reference spectrum using lags between:  884 1083\n",
      "  Derived pixel shift from input wcal:  [ 997.38314963]\n"
     ]
    },
    {
     "name": "stderr",
     "output_type": "stream",
     "text": [
      "/home/local/Anaconda3-2020.02/envs/py3.9/lib/python3.9/site-packages/scipy/optimize/minpack.py:833: OptimizeWarning: Covariance of the parameters could not be estimated\n",
      "  warnings.warn('Covariance of the parameters could not be estimated',\n"
     ]
    },
    {
     "name": "stdout",
     "output_type": "stream",
     "text": [
      "  See identified lines.\n",
      "  rms:   32.754 Angstroms (40 lines)\n",
      "  Input in plot window: \n",
      "       l : to remove all lines to left of cursor\n",
      "       r : to remove all lines to right of cursor\n",
      "       n : to remove line nearest cursor x position\n",
      "       i : return with True value (to allow iteration)\n",
      "       anything else : finish and return\n",
      "  rms:   32.754 Anstroms\n",
      "  input from plot window...\n",
      "  rms:    5.006 Anstroms\n",
      "  input from plot window...\n",
      "  rms:    4.443 Anstroms\n",
      "  input from plot window...\n",
      "  rms:    3.066 Anstroms\n",
      "  input from plot window...\n",
      "\n",
      "  cross correlating with reference spectrum using lags between:  -50 49\n",
      "  Derived pixel shift from input wcal:  [  3.54825666e-07]\n"
     ]
    },
    {
     "name": "stderr",
     "output_type": "stream",
     "text": [
      "/home/local/Anaconda3-2020.02/envs/py3.9/lib/python3.9/site-packages/scipy/optimize/minpack.py:833: OptimizeWarning: Covariance of the parameters could not be estimated\n",
      "  warnings.warn('Covariance of the parameters could not be estimated',\n"
     ]
    },
    {
     "name": "stdout",
     "output_type": "stream",
     "text": [
      "  See identified lines.\n",
      "  rms:   36.699 Angstroms (38 lines)\n",
      "  Input in plot window: \n",
      "       l : to remove all lines to left of cursor\n",
      "       r : to remove all lines to right of cursor\n",
      "       n : to remove line nearest cursor x position\n",
      "       i : return with True value (to allow iteration)\n",
      "       anything else : finish and return\n",
      "  rms:   36.699 Anstroms\n",
      "  input from plot window...\n",
      "  rms:    3.533 Anstroms\n",
      "  input from plot window...\n",
      "  rms:    2.831 Anstroms\n",
      "  input from plot window...\n",
      "\n",
      "  cross correlating with reference spectrum using lags between:  -50 49\n",
      "  Derived pixel shift from input wcal:  [  3.54825666e-07]\n"
     ]
    },
    {
     "name": "stderr",
     "output_type": "stream",
     "text": [
      "/home/local/Anaconda3-2020.02/envs/py3.9/lib/python3.9/site-packages/scipy/optimize/minpack.py:833: OptimizeWarning: Covariance of the parameters could not be estimated\n",
      "  warnings.warn('Covariance of the parameters could not be estimated',\n"
     ]
    },
    {
     "name": "stdout",
     "output_type": "stream",
     "text": [
      "  See identified lines.\n",
      "  rms:   39.254 Angstroms (40 lines)\n",
      "  Input in plot window: \n",
      "       l : to remove all lines to left of cursor\n",
      "       r : to remove all lines to right of cursor\n",
      "       n : to remove line nearest cursor x position\n",
      "       i : return with True value (to allow iteration)\n",
      "       anything else : finish and return\n",
      "  rms:   39.254 Anstroms\n",
      "  input from plot window...\n",
      "  rms:   37.457 Anstroms\n",
      "  input from plot window...\n",
      "  rms:   29.489 Anstroms\n",
      "  input from plot window...\n",
      "  rms:    3.375 Anstroms\n",
      "  input from plot window...\n",
      "\n",
      "  cross correlating with reference spectrum using lags between:  -300 299\n",
      "  Derived pixel shift from input wcal for row: 15 0\n"
     ]
    },
    {
     "name": "stderr",
     "output_type": "stream",
     "text": [
      "/home/local/Anaconda3-2020.02/envs/py3.9/lib/python3.9/site-packages/scipy/optimize/minpack.py:833: OptimizeWarning: Covariance of the parameters could not be estimated\n",
      "  warnings.warn('Covariance of the parameters could not be estimated',\n",
      "/home/local/Anaconda3-2020.02/envs/py3.9/lib/python3.9/site-packages/scipy/optimize/minpack.py:833: OptimizeWarning: Covariance of the parameters could not be estimated\n",
      "  warnings.warn('Covariance of the parameters could not be estimated',\n",
      "/home/local/Anaconda3-2020.02/envs/py3.9/lib/python3.9/site-packages/scipy/optimize/minpack.py:833: OptimizeWarning: Covariance of the parameters could not be estimated\n",
      "  warnings.warn('Covariance of the parameters could not be estimated',\n",
      "/home/local/Anaconda3-2020.02/envs/py3.9/lib/python3.9/site-packages/scipy/optimize/minpack.py:833: OptimizeWarning: Covariance of the parameters could not be estimated\n",
      "  warnings.warn('Covariance of the parameters could not be estimated',\n",
      "/home/local/Anaconda3-2020.02/envs/py3.9/lib/python3.9/site-packages/scipy/optimize/minpack.py:833: OptimizeWarning: Covariance of the parameters could not be estimated\n",
      "  warnings.warn('Covariance of the parameters could not be estimated',\n",
      "/home/local/Anaconda3-2020.02/envs/py3.9/lib/python3.9/site-packages/scipy/optimize/minpack.py:833: OptimizeWarning: Covariance of the parameters could not be estimated\n",
      "  warnings.warn('Covariance of the parameters could not be estimated',\n"
     ]
    },
    {
     "name": "stdout",
     "output_type": "stream",
     "text": [
      "  See identified lines.\n",
      "  rms:    3.452\n",
      "rejecting 0 points from 200 total: \n",
      "  See 2D wavecal fit. Enter space in plot window to continue\n",
      "\n",
      "  rms:    0.230 Angstroms (60 lines)\n",
      "  cross correlating with reference spectrum using lags between:  450 649\n",
      "  Derived pixel shift from input wcal:  [ 565.3456899]\n"
     ]
    },
    {
     "name": "stderr",
     "output_type": "stream",
     "text": [
      "/home/local/Anaconda3-2020.02/envs/py3.9/lib/python3.9/site-packages/scipy/optimize/minpack.py:833: OptimizeWarning: Covariance of the parameters could not be estimated\n",
      "  warnings.warn('Covariance of the parameters could not be estimated',\n"
     ]
    },
    {
     "name": "stdout",
     "output_type": "stream",
     "text": [
      "  See identified lines.\n",
      "  rms:    3.665 Angstroms (37 lines)\n",
      "  Input in plot window: \n",
      "       l : to remove all lines to left of cursor\n",
      "       r : to remove all lines to right of cursor\n",
      "       n : to remove line nearest cursor x position\n",
      "       i : return with True value (to allow iteration)\n",
      "       anything else : finish and return\n",
      "  rms:    3.665 Anstroms\n",
      "  input from plot window...\n",
      "  rms:    1.582 Anstroms\n",
      "  input from plot window...\n",
      "  rms:    1.321 Anstroms\n",
      "  input from plot window...\n",
      "  rms:    0.568 Anstroms\n",
      "  input from plot window...\n",
      "\n",
      "  cross correlating with reference spectrum using lags between:  -50 49\n",
      "  Derived pixel shift from input wcal:  [  1.97509564e-09]\n"
     ]
    },
    {
     "name": "stderr",
     "output_type": "stream",
     "text": [
      "/home/local/Anaconda3-2020.02/envs/py3.9/lib/python3.9/site-packages/scipy/optimize/minpack.py:833: OptimizeWarning: Covariance of the parameters could not be estimated\n",
      "  warnings.warn('Covariance of the parameters could not be estimated',\n"
     ]
    },
    {
     "name": "stdout",
     "output_type": "stream",
     "text": [
      "  See identified lines.\n",
      "  rms:    4.817 Angstroms (50 lines)\n",
      "  Input in plot window: \n",
      "       l : to remove all lines to left of cursor\n",
      "       r : to remove all lines to right of cursor\n",
      "       n : to remove line nearest cursor x position\n",
      "       i : return with True value (to allow iteration)\n",
      "       anything else : finish and return\n",
      "  rms:    4.817 Anstroms\n",
      "  input from plot window...\n",
      "  rms:    1.359 Anstroms\n",
      "  input from plot window...\n",
      "  rms:    1.188 Anstroms\n",
      "  input from plot window...\n",
      "  rms:    1.102 Anstroms\n",
      "  input from plot window...\n",
      "  rms:    1.054 Anstroms\n",
      "  input from plot window...\n",
      "  rms:    0.557 Anstroms\n",
      "  input from plot window...\n",
      "  rms:    0.499 Anstroms\n",
      "  input from plot window...\n",
      "  rms:    0.386 Anstroms\n",
      "  input from plot window...\n",
      "  rms:    0.312 Anstroms\n",
      "  input from plot window...\n",
      "\n",
      "  cross correlating with reference spectrum using lags between:  -300 299\n",
      "  Derived pixel shift from input wcal for row: 37 0\n"
     ]
    },
    {
     "name": "stderr",
     "output_type": "stream",
     "text": [
      "/home/local/Anaconda3-2020.02/envs/py3.9/lib/python3.9/site-packages/scipy/optimize/minpack.py:833: OptimizeWarning: Covariance of the parameters could not be estimated\n",
      "  warnings.warn('Covariance of the parameters could not be estimated',\n",
      "/home/local/Anaconda3-2020.02/envs/py3.9/lib/python3.9/site-packages/scipy/optimize/minpack.py:833: OptimizeWarning: Covariance of the parameters could not be estimated\n",
      "  warnings.warn('Covariance of the parameters could not be estimated',\n",
      "/home/local/Anaconda3-2020.02/envs/py3.9/lib/python3.9/site-packages/scipy/optimize/minpack.py:833: OptimizeWarning: Covariance of the parameters could not be estimated\n",
      "  warnings.warn('Covariance of the parameters could not be estimated',\n",
      "/home/local/Anaconda3-2020.02/envs/py3.9/lib/python3.9/site-packages/scipy/optimize/minpack.py:833: OptimizeWarning: Covariance of the parameters could not be estimated\n",
      "  warnings.warn('Covariance of the parameters could not be estimated',\n",
      "/home/local/Anaconda3-2020.02/envs/py3.9/lib/python3.9/site-packages/scipy/optimize/minpack.py:833: OptimizeWarning: Covariance of the parameters could not be estimated\n",
      "  warnings.warn('Covariance of the parameters could not be estimated',\n",
      "/home/local/Anaconda3-2020.02/envs/py3.9/lib/python3.9/site-packages/scipy/optimize/minpack.py:833: OptimizeWarning: Covariance of the parameters could not be estimated\n",
      "  warnings.warn('Covariance of the parameters could not be estimated',\n"
     ]
    },
    {
     "name": "stdout",
     "output_type": "stream",
     "text": [
      "  See identified lines.\n",
      "  rms:    0.258\n",
      "rejecting 0 points from 250 total: \n",
      "  See 2D wavecal fit. Enter space in plot window to continue\n",
      "\n",
      "  rms:    0.230 Angstroms (60 lines)\n",
      "  cross correlating with reference spectrum using lags between:  436 635\n",
      "  Derived pixel shift from input wcal:  [ 552.67960706]\n"
     ]
    },
    {
     "name": "stderr",
     "output_type": "stream",
     "text": [
      "/home/local/Anaconda3-2020.02/envs/py3.9/lib/python3.9/site-packages/scipy/optimize/minpack.py:833: OptimizeWarning: Covariance of the parameters could not be estimated\n",
      "  warnings.warn('Covariance of the parameters could not be estimated',\n"
     ]
    },
    {
     "name": "stdout",
     "output_type": "stream",
     "text": [
      "  See identified lines.\n",
      "  rms:   24.049 Angstroms (36 lines)\n",
      "  Input in plot window: \n",
      "       l : to remove all lines to left of cursor\n",
      "       r : to remove all lines to right of cursor\n",
      "       n : to remove line nearest cursor x position\n",
      "       i : return with True value (to allow iteration)\n",
      "       anything else : finish and return\n",
      "  rms:   24.049 Anstroms\n",
      "  input from plot window...\n",
      "  rms:   21.040 Anstroms\n",
      "  input from plot window...\n",
      "  rms:    3.816 Anstroms\n",
      "  input from plot window...\n",
      "  rms:    1.671 Anstroms\n",
      "  input from plot window...\n",
      "  rms:    1.347 Anstroms\n",
      "  input from plot window...\n",
      "  rms:    0.483 Anstroms\n",
      "  input from plot window...\n",
      "\n",
      "  cross correlating with reference spectrum using lags between:  -50 49\n",
      "  Derived pixel shift from input wcal:  [  1.38911815e-09]\n"
     ]
    },
    {
     "name": "stderr",
     "output_type": "stream",
     "text": [
      "/home/local/Anaconda3-2020.02/envs/py3.9/lib/python3.9/site-packages/scipy/optimize/minpack.py:833: OptimizeWarning: Covariance of the parameters could not be estimated\n",
      "  warnings.warn('Covariance of the parameters could not be estimated',\n"
     ]
    },
    {
     "name": "stdout",
     "output_type": "stream",
     "text": [
      "  See identified lines.\n",
      "  rms:    2.947 Angstroms (52 lines)\n",
      "  Input in plot window: \n",
      "       l : to remove all lines to left of cursor\n",
      "       r : to remove all lines to right of cursor\n",
      "       n : to remove line nearest cursor x position\n",
      "       i : return with True value (to allow iteration)\n",
      "       anything else : finish and return\n",
      "  rms:    2.947 Anstroms\n",
      "  input from plot window...\n",
      "  rms:    2.915 Anstroms\n",
      "  input from plot window...\n",
      "  rms:    2.836 Anstroms\n",
      "  input from plot window...\n",
      "  rms:    2.847 Anstroms\n",
      "  input from plot window...\n",
      "  rms:    2.857 Anstroms\n",
      "  input from plot window...\n",
      "  rms:    2.674 Anstroms\n",
      "  input from plot window...\n",
      "  rms:    2.087 Anstroms\n",
      "  input from plot window...\n",
      "  rms:    0.577 Anstroms\n",
      "  input from plot window...\n",
      "\n",
      "  cross correlating with reference spectrum using lags between:  -300 299\n",
      "  Derived pixel shift from input wcal for row: 37 1\n"
     ]
    },
    {
     "name": "stderr",
     "output_type": "stream",
     "text": [
      "/home/local/Anaconda3-2020.02/envs/py3.9/lib/python3.9/site-packages/scipy/optimize/minpack.py:833: OptimizeWarning: Covariance of the parameters could not be estimated\n",
      "  warnings.warn('Covariance of the parameters could not be estimated',\n",
      "/home/local/Anaconda3-2020.02/envs/py3.9/lib/python3.9/site-packages/scipy/optimize/minpack.py:833: OptimizeWarning: Covariance of the parameters could not be estimated\n",
      "  warnings.warn('Covariance of the parameters could not be estimated',\n",
      "/home/local/Anaconda3-2020.02/envs/py3.9/lib/python3.9/site-packages/scipy/optimize/minpack.py:833: OptimizeWarning: Covariance of the parameters could not be estimated\n",
      "  warnings.warn('Covariance of the parameters could not be estimated',\n",
      "/home/local/Anaconda3-2020.02/envs/py3.9/lib/python3.9/site-packages/scipy/optimize/minpack.py:833: OptimizeWarning: Covariance of the parameters could not be estimated\n",
      "  warnings.warn('Covariance of the parameters could not be estimated',\n",
      "/home/local/Anaconda3-2020.02/envs/py3.9/lib/python3.9/site-packages/scipy/optimize/minpack.py:833: OptimizeWarning: Covariance of the parameters could not be estimated\n",
      "  warnings.warn('Covariance of the parameters could not be estimated',\n",
      "/home/local/Anaconda3-2020.02/envs/py3.9/lib/python3.9/site-packages/scipy/optimize/minpack.py:833: OptimizeWarning: Covariance of the parameters could not be estimated\n",
      "  warnings.warn('Covariance of the parameters could not be estimated',\n"
     ]
    },
    {
     "name": "stdout",
     "output_type": "stream",
     "text": [
      "  See identified lines.\n",
      "  rms:    0.512\n",
      "rejecting 13 points from 259 total: \n",
      "  rms:    0.269\n",
      "rejecting 13 points from 259 total: \n",
      "  See 2D wavecal fit. Enter space in plot window to continue\n",
      "\n"
     ]
    }
   ],
   "source": [
    "for i,arc in enumerate(arcec) :\n",
    "    wav=spectra.WaveCal('KOSMOS/KOSMOS_red_low_waves.fits')\n",
    "    nrow=arc.shape[0]\n",
    "    \n",
    "    # get initial guess at shift from reference using XMM (KOSMOD red low!)\n",
    "    shift=int(arc.header['XMM']*-22.5)+550  #-wav.pix0)\n",
    "    lags=np.arange(shift-100,shift+100)\n",
    "\n",
    "    iter = True\n",
    "    while iter :\n",
    "        iter = wav.identify(arc[nrow//2],plot=True,plotinter=True,\n",
    "                            lags=lags,thresh=10,file='henearkr.dat')\n",
    "        lags=np.arange(-50,50)\n",
    "        plt.close()\n",
    "        \n",
    "    # Do the 2D wavelength solution, sampling 5 locations across slitlet\n",
    "    wav.identify(arc,plot=True,nskip=nrow//5,thresh=10)\n",
    "    plt.close()"
   ]
  },
  {
   "cell_type": "markdown",
   "id": "16a024a6",
   "metadata": {},
   "source": [
    "Now extract the science frame."
   ]
  },
  {
   "cell_type": "code",
   "execution_count": 635,
   "id": "d94f7735",
   "metadata": {},
   "outputs": [
    {
     "name": "stdout",
     "output_type": "stream",
     "text": [
      "  See CRs and CR-zapped image and original using - key\n",
      "   To continue, hit space in display window (p for debug) \n"
     ]
    }
   ],
   "source": [
    "imcr=red.crrej(im,crbox='lacosmic',display=t,crsig=10)"
   ]
  },
  {
   "cell_type": "code",
   "execution_count": 638,
   "id": "2a48dbc1",
   "metadata": {
    "scrolled": true
   },
   "outputs": [
    {
     "name": "stdout",
     "output_type": "stream",
     "text": [
      "extracting: \n",
      " 233-249\n",
      " 275-289\n",
      " 455-494\n",
      " 585-624\n",
      " 695-734\n",
      " 770-809\n",
      " 878-917\n",
      " 976-1015\n",
      " 1073-1112\n",
      " 1160-1175\n",
      " 1237-1252\n",
      " 1356-1395\n",
      " 1502-1518\n",
      " 1642-1680\n",
      " 1758-1796\n",
      "  See extraction window(s). Hit space bar to continue....\n"
     ]
    }
   ],
   "source": [
    "out=trace.extract2d(imcr,display=t)"
   ]
  },
  {
   "cell_type": "markdown",
   "id": "09bf500e",
   "metadata": {},
   "source": [
    "Look through the output extrations, and add the wavelength array from the arcs."
   ]
  },
  {
   "cell_type": "code",
   "execution_count": 656,
   "id": "56e452d3",
   "metadata": {},
   "outputs": [
    {
     "name": "stdout",
     "output_type": "stream",
     "text": [
      "(16, 4096)\n",
      "197p2_mask1_red\n",
      "(14, 4096)\n",
      "197p2_mask1_red\n",
      "(39, 4096)\n",
      "197p2_mask1_red\n",
      "(39, 4096)\n",
      "197p2_mask1_red\n",
      "(39, 4096)\n",
      "197p2_mask1_red\n",
      "(39, 4096)\n",
      "197p2_mask1_red\n",
      "(39, 4096)\n",
      "197p2_mask1_red\n",
      "(39, 4096)\n",
      "197p2_mask1_red\n",
      "(39, 4096)\n",
      "197p2_mask1_red\n",
      "(15, 4096)\n",
      "197p2_mask1_red\n",
      "(15, 4096)\n",
      "197p2_mask1_red\n",
      "(39, 4096)\n",
      "197p2_mask1_red\n",
      "(16, 4096)\n",
      "197p2_mask1_red\n",
      "(38, 4096)\n",
      "197p2_mask1_red\n",
      "(38, 4096)\n",
      "197p2_mask1_red\n"
     ]
    }
   ],
   "source": [
    "t.clear()\n",
    "plt.figure()\n",
    "for i,(o,a) in enumerate(zip(out,arcec)) :\n",
    "    print(o.shape)\n",
    "    o.add_wave(a.wave)\n",
    "    name = o.header[\"FILE\"].split(\".\")[0]\n",
    "    print(name)\n",
    "    #t.tv(o)\n",
    "    #t.tv(o.wave)\n",
    "    plt.plot(o.wave[10],o.data[10])\n",
    "    #o.write(name + \"_{:d}.fits\".format(i))  "
   ]
  },
  {
   "cell_type": "markdown",
   "id": "265457a8",
   "metadata": {},
   "source": [
    "As desired, move on to 1D extraction"
   ]
  },
  {
   "cell_type": "code",
   "execution_count": 659,
   "id": "5add25c1",
   "metadata": {},
   "outputs": [
    {
     "name": "stdout",
     "output_type": "stream",
     "text": [
      "looking for peaks using 200 pixels around 2048, threshhold of 10.000000\n",
      "peaks:  [8]\n",
      "aperture/fiber:  [0]\n",
      "  extracting ... \n",
      "\n",
      "(4096,) (4096,)\n",
      "looking for peaks using 200 pixels around 2048, threshhold of 10.000000\n",
      "peaks:  [8]\n",
      "aperture/fiber:  [0]\n",
      "  extracting ... \n",
      "\n",
      "(4096,) (4096,)\n",
      "looking for peaks using 200 pixels around 2048, threshhold of 10.000000\n",
      "peaks:  [8, 35]\n",
      "aperture/fiber:  [0, 1]\n",
      "  extracting ... \n",
      "\n",
      "(4096,) (4096,)\n",
      "looking for peaks using 200 pixels around 2048, threshhold of 10.000000\n",
      "peaks:  [19]\n",
      "aperture/fiber:  [0]\n",
      "  extracting ... \n",
      "\n",
      "(4096,) (4096,)\n",
      "looking for peaks using 200 pixels around 2048, threshhold of 10.000000\n",
      "peaks:  [19]\n",
      "aperture/fiber:  [0]\n",
      "  extracting ... \n",
      "\n",
      "(4096,) (4096,)\n",
      "looking for peaks using 200 pixels around 2048, threshhold of 10.000000\n",
      "peaks:  [21, 33]\n",
      "aperture/fiber:  [0, 1]\n",
      "  extracting ... \n",
      "\n",
      "(4096,) (4096,)\n",
      "looking for peaks using 200 pixels around 2048, threshhold of 10.000000\n",
      "peaks:  [18, 36]\n",
      "aperture/fiber:  [0, 1]\n",
      "  extracting ... \n",
      "\n",
      "(4096,) (4096,)\n",
      "looking for peaks using 200 pixels around 2048, threshhold of 10.000000\n",
      "peaks:  [20]\n",
      "aperture/fiber:  [0]\n",
      "  extracting ... \n",
      "\n",
      "(4096,) (4096,)\n",
      "looking for peaks using 200 pixels around 2048, threshhold of 10.000000\n",
      "peaks:  [20]\n",
      "aperture/fiber:  [0]\n",
      "  extracting ... \n",
      "\n",
      "(4096,) (4096,)\n",
      "looking for peaks using 200 pixels around 2048, threshhold of 10.000000\n",
      "peaks:  [8]\n",
      "aperture/fiber:  [0]\n",
      "  extracting ... \n",
      "\n",
      "(4096,) (4096,)\n",
      "looking for peaks using 200 pixels around 2048, threshhold of 10.000000\n",
      "peaks:  [7]\n",
      "aperture/fiber:  [0]\n",
      "  extracting ... \n",
      "\n",
      "(4096,) (4096,)\n",
      "looking for peaks using 200 pixels around 2048, threshhold of 10.000000\n",
      "peaks:  [20, 29]\n",
      "aperture/fiber:  [0, 1]\n",
      "  extracting ... \n",
      "\n",
      "(4096,) (4096,)\n",
      "looking for peaks using 200 pixels around 2048, threshhold of 10.000000\n",
      "peaks:  [6]\n",
      "aperture/fiber:  [0]\n",
      "  extracting ... \n",
      "\n",
      "(4096,) (4096,)\n",
      "looking for peaks using 200 pixels around 2048, threshhold of 10.000000\n",
      "peaks:  [19]\n",
      "aperture/fiber:  [0]\n",
      "  extracting ... \n",
      "\n",
      "(4096,) (4096,)\n",
      "looking for peaks using 200 pixels around 2048, threshhold of 10.000000\n",
      "peaks:  [19]\n",
      "aperture/fiber:  [0]\n",
      "  extracting ... \n",
      "\n",
      "(4096,) (4096,)\n"
     ]
    }
   ],
   "source": [
    "importlib.reload(spectra)\n",
    "def model(x) :\n",
    "    return x*0.\n",
    "\n",
    "fig=plt.figure()\n",
    "for i in range(len(out)) :\n",
    "    trace1 = spectra.Trace(transpose=False)\n",
    "    trace1.rows = [0,out[i].data.shape[0]]\n",
    "    trace1.index = [0]\n",
    "    peak,ind = trace1.findpeak(out[i],thresh=10,sort=True)\n",
    "    if len(peak) > 0:\n",
    "        def model(x) :\n",
    "            return x*0. + peak[0]\n",
    "        trace1.model = [model]\n",
    "        spec=trace1.extract(out[i],rad=4,back=[[-10,-5],[5,10]]) #,display=t)\n",
    "        plt.figure(fig)\n",
    "        spec.wave = out[i].wave[peak]\n",
    "        print(spec.wave[0].shape,spec.data[0].shape)\n",
    "        plt.plot(spec.wave[0],spec.data[0])\n",
    "    else :\n",
    "        print('no peak found for slit: ',i)\n",
    "    #plt.draw()"
   ]
  },
  {
   "cell_type": "code",
   "execution_count": 627,
   "id": "3e2214f2",
   "metadata": {},
   "outputs": [],
   "source": [
    "t.tv(im,max=300)"
   ]
  },
  {
   "cell_type": "code",
   "execution_count": 633,
   "id": "950ccb36",
   "metadata": {},
   "outputs": [],
   "source": [
    "t.tv(imcr)"
   ]
  },
  {
   "cell_type": "code",
   "execution_count": null,
   "id": "89b6f4ba",
   "metadata": {},
   "outputs": [],
   "source": []
  }
 ],
 "metadata": {
  "kernelspec": {
   "display_name": "Python 3 (ipykernel)",
   "language": "python",
   "name": "python3"
  },
  "language_info": {
   "codemirror_mode": {
    "name": "ipython",
    "version": 3
   },
   "file_extension": ".py",
   "mimetype": "text/x-python",
   "name": "python",
   "nbconvert_exporter": "python",
   "pygments_lexer": "ipython3",
   "version": "3.9.9"
  }
 },
 "nbformat": 4,
 "nbformat_minor": 5
}
