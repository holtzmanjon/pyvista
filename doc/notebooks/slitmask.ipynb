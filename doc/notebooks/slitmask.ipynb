{
 "cells": [
  {
   "cell_type": "code",
   "execution_count": 70,
   "id": "1d06b78a",
   "metadata": {},
   "outputs": [],
   "source": [
    "from pyvista import imred, tv, spectra\n",
    "import pyvista.data\n",
    "from importlib_resources import files\n",
    "import numpy as np\n",
    "import matplotlib.pyplot as plt\n",
    "import pickle\n",
    "import os"
   ]
  },
  {
   "cell_type": "code",
   "execution_count": 71,
   "id": "e08e3334",
   "metadata": {},
   "outputs": [],
   "source": [
    "%matplotlib qt\n",
    "t=tv.TV()"
   ]
  },
  {
   "cell_type": "code",
   "execution_count": 72,
   "id": "63d1ccfb",
   "metadata": {},
   "outputs": [
    {
     "name": "stdout",
     "output_type": "stream",
     "text": [
      "INSTRUMENT: KOSMOS   config: \n",
      "  will use format:  /home/holtz/raw/apo/jul22/UT220709/*{:04d}.f*.fits*\n",
      "         gain:  [0.6]    rn: [ 5.]\n",
      "         scale:  None   \n",
      "  Biastype : 1\n",
      "  Bias box: \n",
      "    SC    NC    SR    NR\n",
      "  2055    43    20  4056 \n",
      "  2105    43    20  4056 \n",
      "  Trim box: \n",
      "    SC    NC    SR    NR\n",
      "     0  2048     0  4096 \n",
      "     0  2048     0  4096 \n",
      "  Norm box: \n",
      "    SC    NC    SR    NR\n",
      "  1000    51  2000    51 \n"
     ]
    }
   ],
   "source": [
    "red=imred.Reducer('KOSMOS',dir='/home/holtz/raw/apo/jul22/UT220709')"
   ]
  },
  {
   "cell_type": "code",
   "execution_count": 85,
   "id": "7e687dc4",
   "metadata": {},
   "outputs": [
    {
     "data": {
      "text/html": [
       "<div><i>Table length=41</i>\n",
       "<table id=\"table47812486332912\" class=\"table-striped table-bordered table-condensed\">\n",
       "<thead><tr><th>FILE</th><th>DATE-OBS</th><th>OBJNAME</th><th>RA</th><th>DEC</th><th>EXPTIME</th></tr></thead>\n",
       "<thead><tr><th>bytes42</th><th>bytes26</th><th>bytes23</th><th>bytes16</th><th>bytes16</th><th>bytes16</th></tr></thead>\n",
       "<tr><td>MOS2_quartz_flat_image.0001.fits</td><td>2022-07-09T03:21:07.134252</td><td></td><td>6:56:00.00</td><td>70:00:00.00</td><td>0.5</td></tr>\n",
       "<tr><td>MOS2_quartz_flat_image.0002.fits</td><td>2022-07-09T03:24:45.689872</td><td></td><td>6:56:00.00</td><td>70:00:00.00</td><td>0.5</td></tr>\n",
       "<tr><td>MOS2_quartz_flat_image.0003.fits</td><td>2022-07-09T03:28:26.731187</td><td></td><td>6:56:00.00</td><td>70:00:00.00</td><td>0.5</td></tr>\n",
       "<tr><td>bias.0001.fits</td><td>2022-07-09T06:23:41.763063</td><td>2MASS 1746</td><td>17:46:11.99</td><td>50:34:03.60</td><td>0</td></tr>\n",
       "<tr><td>bias.0002.fits</td><td>2022-07-09T06:24:35.610926</td><td>2MASS 1746</td><td>17:46:11.99</td><td>50:34:03.60</td><td>0</td></tr>\n",
       "<tr><td>bias.0003.fits</td><td>2022-07-09T06:25:29.285990</td><td>2MASS 1746</td><td>17:46:11.99</td><td>50:34:03.60</td><td>0</td></tr>\n",
       "<tr><td>bias.0004.fits</td><td>2022-07-09T06:26:23.050087</td><td>2MASS 1746</td><td>17:46:11.99</td><td>50:34:03.60</td><td>0</td></tr>\n",
       "<tr><td>bias.0005.fits</td><td>2022-07-09T06:27:17.175363</td><td>2MASS 1746</td><td>17:46:11.99</td><td>50:34:03.60</td><td>0</td></tr>\n",
       "<tr><td>bias.0006.fits</td><td>2022-07-09T06:28:11.720817</td><td>2MASS 1746</td><td>17:46:11.99</td><td>50:34:03.60</td><td>0</td></tr>\n",
       "<tr><td>bias.0007.fits</td><td>2022-07-09T06:29:05.339490</td><td>2MASS 1746</td><td>17:46:11.99</td><td>50:34:03.60</td><td>0</td></tr>\n",
       "<tr><td>...</td><td>...</td><td>...</td><td>...</td><td>...</td><td>...</td></tr>\n",
       "<tr><td>He_truss_red.0001.fits</td><td>2022-07-09T10:23:05.163208</td><td>SDSSJ222655.88+255009.3</td><td>22:26:55.89</td><td>25:50:09.33</td><td>30.0</td></tr>\n",
       "<tr><td>Ar_truss_red.0001.fits</td><td>2022-07-09T10:24:32.432902</td><td>SDSSJ222655.88+255009.3</td><td>22:26:55.89</td><td>25:50:09.33</td><td>30.0</td></tr>\n",
       "<tr><td>Ne_truss_red.0001.fits</td><td>2022-07-09T10:26:03.947021</td><td>SDSSJ222655.88+255009.3</td><td>22:26:55.89</td><td>25:50:09.33</td><td>30.0</td></tr>\n",
       "<tr><td>flat_quartz_truss_red.0001.fits</td><td>2022-07-09T10:27:42.697081</td><td>SDSSJ222655.88+255009.3</td><td>22:26:55.89</td><td>25:50:09.33</td><td>60.0</td></tr>\n",
       "<tr><td>flat_quartz_truss_red.0002.fits</td><td>2022-07-09T10:29:37.741194</td><td>SDSSJ222655.88+255009.3</td><td>22:26:55.89</td><td>25:50:09.33</td><td>60.0</td></tr>\n",
       "<tr><td>flat_quartz_truss_red.0003.fits</td><td>2022-07-09T10:31:32.048222</td><td>SDSSJ222655.88+255009.3</td><td>22:26:55.89</td><td>25:50:09.33</td><td>60.0</td></tr>\n",
       "<tr><td>flat_quartz_truss_red.0004.fits</td><td>2022-07-09T10:33:26.060567</td><td>SDSSJ222655.88+255009.3</td><td>22:26:55.89</td><td>25:50:09.33</td><td>60.0</td></tr>\n",
       "<tr><td>flat_quartz_truss_red.0005.fits</td><td>2022-07-09T10:35:20.074926</td><td>SDSSJ222655.88+255009.3</td><td>22:26:55.89</td><td>25:50:09.33</td><td>60.0</td></tr>\n",
       "<tr><td>NeKrAr_r.0001.fits</td><td>2022-07-09T10:37:46.584225</td><td>SDSSJ222655.88+255009.3</td><td>22:26:55.89</td><td>25:50:09.33</td><td>1.5</td></tr>\n",
       "<tr><td>NeKrAr_b.0001.fits</td><td>2022-07-09T10:38:52.078579</td><td>SDSSJ222655.88+255009.3</td><td>22:26:55.89</td><td>25:50:09.33</td><td>50.0</td></tr>\n",
       "</table></div>"
      ],
      "text/plain": [
       "<Table length=41>\n",
       "              FILE                        DATE-OBS                  OBJNAME              RA         DEC     EXPTIME\n",
       "            bytes42                       bytes26                   bytes23           bytes16     bytes16   bytes16\n",
       "-------------------------------- -------------------------- ----------------------- ----------- ----------- -------\n",
       "MOS2_quartz_flat_image.0001.fits 2022-07-09T03:21:07.134252                          6:56:00.00 70:00:00.00     0.5\n",
       "MOS2_quartz_flat_image.0002.fits 2022-07-09T03:24:45.689872                          6:56:00.00 70:00:00.00     0.5\n",
       "MOS2_quartz_flat_image.0003.fits 2022-07-09T03:28:26.731187                          6:56:00.00 70:00:00.00     0.5\n",
       "                  bias.0001.fits 2022-07-09T06:23:41.763063              2MASS 1746 17:46:11.99 50:34:03.60       0\n",
       "                  bias.0002.fits 2022-07-09T06:24:35.610926              2MASS 1746 17:46:11.99 50:34:03.60       0\n",
       "                  bias.0003.fits 2022-07-09T06:25:29.285990              2MASS 1746 17:46:11.99 50:34:03.60       0\n",
       "                  bias.0004.fits 2022-07-09T06:26:23.050087              2MASS 1746 17:46:11.99 50:34:03.60       0\n",
       "                  bias.0005.fits 2022-07-09T06:27:17.175363              2MASS 1746 17:46:11.99 50:34:03.60       0\n",
       "                  bias.0006.fits 2022-07-09T06:28:11.720817              2MASS 1746 17:46:11.99 50:34:03.60       0\n",
       "                  bias.0007.fits 2022-07-09T06:29:05.339490              2MASS 1746 17:46:11.99 50:34:03.60       0\n",
       "                             ...                        ...                     ...         ...         ...     ...\n",
       "          He_truss_red.0001.fits 2022-07-09T10:23:05.163208 SDSSJ222655.88+255009.3 22:26:55.89 25:50:09.33    30.0\n",
       "          Ar_truss_red.0001.fits 2022-07-09T10:24:32.432902 SDSSJ222655.88+255009.3 22:26:55.89 25:50:09.33    30.0\n",
       "          Ne_truss_red.0001.fits 2022-07-09T10:26:03.947021 SDSSJ222655.88+255009.3 22:26:55.89 25:50:09.33    30.0\n",
       " flat_quartz_truss_red.0001.fits 2022-07-09T10:27:42.697081 SDSSJ222655.88+255009.3 22:26:55.89 25:50:09.33    60.0\n",
       " flat_quartz_truss_red.0002.fits 2022-07-09T10:29:37.741194 SDSSJ222655.88+255009.3 22:26:55.89 25:50:09.33    60.0\n",
       " flat_quartz_truss_red.0003.fits 2022-07-09T10:31:32.048222 SDSSJ222655.88+255009.3 22:26:55.89 25:50:09.33    60.0\n",
       " flat_quartz_truss_red.0004.fits 2022-07-09T10:33:26.060567 SDSSJ222655.88+255009.3 22:26:55.89 25:50:09.33    60.0\n",
       " flat_quartz_truss_red.0005.fits 2022-07-09T10:35:20.074926 SDSSJ222655.88+255009.3 22:26:55.89 25:50:09.33    60.0\n",
       "              NeKrAr_r.0001.fits 2022-07-09T10:37:46.584225 SDSSJ222655.88+255009.3 22:26:55.89 25:50:09.33     1.5\n",
       "              NeKrAr_b.0001.fits 2022-07-09T10:38:52.078579 SDSSJ222655.88+255009.3 22:26:55.89 25:50:09.33    50.0"
      ]
     },
     "execution_count": 85,
     "metadata": {},
     "output_type": "execute_result"
    }
   ],
   "source": [
    "red.log()"
   ]
  },
  {
   "cell_type": "code",
   "execution_count": 73,
   "id": "72307320",
   "metadata": {},
   "outputs": [
    {
     "name": "stdout",
     "output_type": "stream",
     "text": [
      "  Reading file: /home/holtz/raw/apo/jul22/UT220709/He_truss_blue.0002.fits\n"
     ]
    }
   ],
   "source": [
    "he=red.rd('He_truss_blue.0002.fits')"
   ]
  },
  {
   "cell_type": "code",
   "execution_count": 6,
   "id": "bde559bc",
   "metadata": {},
   "outputs": [],
   "source": [
    "t.tv(he)"
   ]
  },
  {
   "cell_type": "code",
   "execution_count": 8,
   "id": "415513e9",
   "metadata": {},
   "outputs": [
    {
     "name": "stdout",
     "output_type": "stream",
     "text": [
      "  Reading file: /home/holtz/raw/apo/jul22/UT220709/NeKrAr_b.0001.fits\n"
     ]
    }
   ],
   "source": [
    "intarc=red.rd('NeKrAr_b.0001.fits')"
   ]
  },
  {
   "cell_type": "code",
   "execution_count": 9,
   "id": "ba586c44",
   "metadata": {},
   "outputs": [],
   "source": [
    "t.tv(intarc)"
   ]
  },
  {
   "cell_type": "code",
   "execution_count": 11,
   "id": "ee58a3cc",
   "metadata": {},
   "outputs": [
    {
     "name": "stdout",
     "output_type": "stream",
     "text": [
      "  Reading file: /home/holtz/raw/apo/jul22/UT220709/SDSSJ222655.88p255009.3_r.0012.fits\n"
     ]
    }
   ],
   "source": [
    "obj=red.rd('SDSSJ222655.88p255009.3_r.0012.fits')"
   ]
  },
  {
   "cell_type": "code",
   "execution_count": 12,
   "id": "74cbf0df",
   "metadata": {},
   "outputs": [],
   "source": [
    "t.tv(obj)"
   ]
  },
  {
   "cell_type": "code",
   "execution_count": 13,
   "id": "6c085ea5",
   "metadata": {},
   "outputs": [
    {
     "name": "stdout",
     "output_type": "stream",
     "text": [
      "  Reading file: /home/holtz/raw/apo/jul22/UT220709/field_image_no-mask_11985_rot90.0001.fits\n"
     ]
    }
   ],
   "source": [
    "field=red.rd('field_image_no-mask_11985_rot90.0001.fits')"
   ]
  },
  {
   "cell_type": "code",
   "execution_count": 14,
   "id": "749c10c6",
   "metadata": {},
   "outputs": [],
   "source": [
    "t.tv(field)"
   ]
  },
  {
   "cell_type": "code",
   "execution_count": 74,
   "id": "4dd7f0ba",
   "metadata": {},
   "outputs": [
    {
     "name": "stdout",
     "output_type": "stream",
     "text": [
      "  Reading file: /home/holtz/raw/apo/jul22/UT220709/field_image_mask_11985.0001.fits\n"
     ]
    }
   ],
   "source": [
    "mask=red.rd('field_image_mask_11985.0001.fits')"
   ]
  },
  {
   "cell_type": "code",
   "execution_count": 86,
   "id": "0f8ede4e",
   "metadata": {},
   "outputs": [],
   "source": [
    "t.tv(mask)"
   ]
  },
  {
   "cell_type": "code",
   "execution_count": 76,
   "id": "bcff0497",
   "metadata": {},
   "outputs": [
    {
     "name": "stdout",
     "output_type": "stream",
     "text": [
      "  Reading file: /home/holtz/raw/apo/jul22/UT220709/field_image_no-mask_11985_rot90.0001.fits\n"
     ]
    }
   ],
   "source": [
    "nomask=red.rd('field_image_no-mask_11985_rot90.0001.fits')"
   ]
  },
  {
   "cell_type": "code",
   "execution_count": 77,
   "id": "cc7f3e09",
   "metadata": {},
   "outputs": [],
   "source": [
    "t.tv(nomask)\n"
   ]
  },
  {
   "cell_type": "code",
   "execution_count": 79,
   "id": "b3e7b541",
   "metadata": {},
   "outputs": [
    {
     "name": "stdout",
     "output_type": "stream",
     "text": [
      "Hit c near desired star(s) to get centroid position\n",
      "    i to use integer position of cursor\n",
      "    n to get ID of nearest star\n",
      "    q or e to quit\n",
      "possible centroiding convergence issues, consider using a larger radius?\n"
     ]
    }
   ],
   "source": [
    "from pyvista import stars\n",
    "s=stars.mark(t,rad=5,new=True)"
   ]
  },
  {
   "cell_type": "code",
   "execution_count": 81,
   "id": "dcc3b757",
   "metadata": {},
   "outputs": [
    {
     "data": {
      "text/html": [
       "<div><i>Table length=4</i>\n",
       "<table id=\"table47813188962384\" class=\"table-striped table-bordered table-condensed\">\n",
       "<thead><tr><th>id</th><th>x</th><th>y</th><th>MJD</th><th>EXPTIME</th><th>FILTER</th><th>AIRMASS</th></tr></thead>\n",
       "<thead><tr><th>int32</th><th>float32</th><th>float32</th><th>float64</th><th>float32</th><th>bytes32</th><th>float32</th></tr></thead>\n",
       "<tr><td>1</td><td>248.72</td><td>2398.21</td><td>59769.376375</td><td>180.0</td><td></td><td>1.056</td></tr>\n",
       "<tr><td>2</td><td>796.52</td><td>2418.34</td><td>59769.376375</td><td>180.0</td><td></td><td>1.056</td></tr>\n",
       "<tr><td>3</td><td>875.14</td><td>1265.74</td><td>59769.376375</td><td>180.0</td><td></td><td>1.056</td></tr>\n",
       "<tr><td>4</td><td>1450.27</td><td>1351.40</td><td>59769.376375</td><td>180.0</td><td></td><td>1.056</td></tr>\n",
       "</table></div>"
      ],
      "text/plain": [
       "<Table length=4>\n",
       "  id     x       y        MJD      EXPTIME  FILTER AIRMASS\n",
       "int32 float32 float32   float64    float32 bytes32 float32\n",
       "----- ------- ------- ------------ ------- ------- -------\n",
       "    1  248.72 2398.21 59769.376375   180.0           1.056\n",
       "    2  796.52 2418.34 59769.376375   180.0           1.056\n",
       "    3  875.14 1265.74 59769.376375   180.0           1.056\n",
       "    4 1450.27 1351.40 59769.376375   180.0           1.056"
      ]
     },
     "execution_count": 81,
     "metadata": {},
     "output_type": "execute_result"
    }
   ],
   "source": [
    "s"
   ]
  },
  {
   "cell_type": "code",
   "execution_count": 82,
   "id": "90e09265",
   "metadata": {},
   "outputs": [
    {
     "name": "stdout",
     "output_type": "stream",
     "text": [
      "  Iteration 0, zapping CRs with filter [5,5]...\n"
     ]
    }
   ],
   "source": [
    "maskcr=red.crrej(mask,crbox=[5,5])"
   ]
  },
  {
   "cell_type": "code",
   "execution_count": 99,
   "id": "9e496042",
   "metadata": {},
   "outputs": [
    {
     "name": "stderr",
     "output_type": "stream",
     "text": [
      "/home/local/Anaconda3-2020.02/envs/py3.9/lib/python3.9/site-packages/astropy/table/table.py:3488: FutureWarning: elementwise == comparison failed and returning scalar instead; this will raise an error or perform elementwise comparison in the future.\n",
      "  result = self.as_array() == other\n"
     ]
    },
    {
     "data": {
      "text/html": [
       "<div><i>Table length=28</i>\n",
       "<table id=\"table47812499916784\" class=\"table-striped table-bordered table-condensed\">\n",
       "<thead><tr><th>y</th><th>x</th></tr></thead>\n",
       "<thead><tr><th>float64</th><th>float64</th></tr></thead>\n",
       "<tr><td>2449.01183432</td><td>1009.24063116</td></tr>\n",
       "<tr><td>2151.96449704</td><td>881.24260355</td></tr>\n",
       "<tr><td>1859.01183432</td><td>921.236686391</td></tr>\n",
       "<tr><td>2648.0</td><td>966.126482213</td></tr>\n",
       "<tr><td>2539.0</td><td>1201.43083004</td></tr>\n",
       "<tr><td>2234.0</td><td>727.126482213</td></tr>\n",
       "<tr><td>2362.98811881</td><td>1163.24356436</td></tr>\n",
       "<tr><td>1878.96421471</td><td>1522.47316103</td></tr>\n",
       "<tr><td>2122.95418327</td><td>519.721115538</td></tr>\n",
       "<tr><td>1852.0</td><td>469.43625498</td></tr>\n",
       "<tr><td>...</td><td>...</td></tr>\n",
       "<tr><td>2207.51167728</td><td>1732.37791932</td></tr>\n",
       "<tr><td>2717.9508547</td><td>840.175213675</td></tr>\n",
       "<tr><td>2579.47854077</td><td>1572.65450644</td></tr>\n",
       "<tr><td>1639.40618102</td><td>1483.88962472</td></tr>\n",
       "<tr><td>2693.67333333</td><td>1445.64888889</td></tr>\n",
       "<tr><td>1547.92410714</td><td>1106.41517857</td></tr>\n",
       "<tr><td>2542.95081967</td><td>336.540983607</td></tr>\n",
       "<tr><td>2598.92270531</td><td>1651.69082126</td></tr>\n",
       "<tr><td>2760.32917706</td><td>571.441396509</td></tr>\n",
       "<tr><td>2701.81314879</td><td>293.46366782</td></tr>\n",
       "</table></div>"
      ],
      "text/plain": [
       "<Table length=28>\n",
       "      y             x      \n",
       "   float64       float64   \n",
       "------------- -------------\n",
       "2449.01183432 1009.24063116\n",
       "2151.96449704  881.24260355\n",
       "1859.01183432 921.236686391\n",
       "       2648.0 966.126482213\n",
       "       2539.0 1201.43083004\n",
       "       2234.0 727.126482213\n",
       "2362.98811881 1163.24356436\n",
       "1878.96421471 1522.47316103\n",
       "2122.95418327 519.721115538\n",
       "       1852.0  469.43625498\n",
       "          ...           ...\n",
       "2207.51167728 1732.37791932\n",
       " 2717.9508547 840.175213675\n",
       "2579.47854077 1572.65450644\n",
       "1639.40618102 1483.88962472\n",
       "2693.67333333 1445.64888889\n",
       "1547.92410714 1106.41517857\n",
       "2542.95081967 336.540983607\n",
       "2598.92270531 1651.69082126\n",
       "2760.32917706 571.441396509\n",
       "2701.81314879  293.46366782"
      ]
     },
     "execution_count": 99,
     "metadata": {},
     "output_type": "execute_result"
    }
   ],
   "source": [
    "from pyvista import slitmask\n",
    "holes=slitmask.findholes(maskcr.data,thresh=4000,n=29)\n",
    "t.tv(maskcr)\n",
    "t.tvclear()\n",
    "stars.mark(t,s,exit=True,color='r',rad=10)\n",
    "stars.mark(t,holes,color='b',exit=True,rad=10)"
   ]
  },
  {
   "cell_type": "code",
   "execution_count": 49,
   "id": "6324e2dd",
   "metadata": {},
   "outputs": [
    {
     "name": "stdout",
     "output_type": "stream",
     "text": [
      "Hit c near desired star(s) to get centroid position\n",
      "    i to use integer position of cursor\n",
      "    n to get ID of nearest star\n",
      "    q or e to quit\n",
      "possible centroiding convergence issues, consider using a larger radius?\n"
     ]
    }
   ],
   "source": [
    "s2=stars.mark(t,rad=5)"
   ]
  },
  {
   "cell_type": "code",
   "execution_count": 51,
   "id": "63e1d58d",
   "metadata": {},
   "outputs": [
    {
     "data": {
      "text/html": [
       "<div><i>Table length=8</i>\n",
       "<table id=\"table47813286920144\" class=\"table-striped table-bordered table-condensed\">\n",
       "<thead><tr><th>id</th><th>x</th><th>y</th><th>MJD</th><th>EXPTIME</th><th>FILTER</th><th>AIRMASS</th></tr></thead>\n",
       "<thead><tr><th>int32</th><th>float32</th><th>float32</th><th>float64</th><th>float32</th><th>bytes32</th><th>float32</th></tr></thead>\n",
       "<tr><td>1</td><td>248.71</td><td>2398.22</td><td>59769.376375</td><td>180.0</td><td></td><td>1.056</td></tr>\n",
       "<tr><td>2</td><td>804.73</td><td>2414.20</td><td>59769.376375</td><td>180.0</td><td></td><td>1.056</td></tr>\n",
       "<tr><td>3</td><td>1076.04</td><td>1258.60</td><td>59769.376375</td><td>180.0</td><td></td><td>1.056</td></tr>\n",
       "<tr><td>4</td><td>1450.27</td><td>1351.40</td><td>59769.376375</td><td>180.0</td><td></td><td>1.056</td></tr>\n",
       "<tr><td>5</td><td>248.72</td><td>2398.21</td><td>59769.376375</td><td>180.0</td><td></td><td>1.056</td></tr>\n",
       "<tr><td>6</td><td>799.19</td><td>2416.99</td><td>59769.376375</td><td>180.0</td><td></td><td>1.056</td></tr>\n",
       "<tr><td>7</td><td>1075.97</td><td>1258.34</td><td>59769.376375</td><td>180.0</td><td></td><td>1.056</td></tr>\n",
       "<tr><td>8</td><td>1450.27</td><td>1351.40</td><td>59769.376375</td><td>180.0</td><td></td><td>1.056</td></tr>\n",
       "</table></div>"
      ],
      "text/plain": [
       "<Table length=8>\n",
       "  id     x       y        MJD      EXPTIME  FILTER AIRMASS\n",
       "int32 float32 float32   float64    float32 bytes32 float32\n",
       "----- ------- ------- ------------ ------- ------- -------\n",
       "    1  248.71 2398.22 59769.376375   180.0           1.056\n",
       "    2  804.73 2414.20 59769.376375   180.0           1.056\n",
       "    3 1076.04 1258.60 59769.376375   180.0           1.056\n",
       "    4 1450.27 1351.40 59769.376375   180.0           1.056\n",
       "    5  248.72 2398.21 59769.376375   180.0           1.056\n",
       "    6  799.19 2416.99 59769.376375   180.0           1.056\n",
       "    7 1075.97 1258.34 59769.376375   180.0           1.056\n",
       "    8 1450.27 1351.40 59769.376375   180.0           1.056"
      ]
     },
     "execution_count": 51,
     "metadata": {},
     "output_type": "execute_result"
    }
   ],
   "source": [
    "s2\n"
   ]
  },
  {
   "cell_type": "code",
   "execution_count": 52,
   "id": "013f2bd5",
   "metadata": {},
   "outputs": [
    {
     "name": "stderr",
     "output_type": "stream",
     "text": [
      "/home/local/Anaconda3-2020.02/envs/py3.9/lib/python3.9/site-packages/astropy/table/table.py:3488: FutureWarning: elementwise == comparison failed and returning scalar instead; this will raise an error or perform elementwise comparison in the future.\n",
      "  result = self.as_array() == other\n"
     ]
    },
    {
     "name": "stdout",
     "output_type": "stream",
     "text": [
      "Hit c near desired star(s) to get centroid position\n",
      "    i to use integer position of cursor\n",
      "    n to get ID of nearest star\n",
      "    q or e to quit\n"
     ]
    },
    {
     "data": {
      "text/html": [
       "<div><i>Table length=4</i>\n",
       "<table id=\"table47813287746960\" class=\"table-striped table-bordered table-condensed\">\n",
       "<thead><tr><th>id</th><th>x</th><th>y</th><th>MJD</th><th>EXPTIME</th><th>FILTER</th><th>AIRMASS</th></tr></thead>\n",
       "<thead><tr><th>int32</th><th>float32</th><th>float32</th><th>float64</th><th>float32</th><th>bytes32</th><th>float32</th></tr></thead>\n",
       "<tr><td>5</td><td>248.72</td><td>2398.21</td><td>59769.376375</td><td>180.0</td><td></td><td>1.056</td></tr>\n",
       "<tr><td>6</td><td>799.19</td><td>2416.99</td><td>59769.376375</td><td>180.0</td><td></td><td>1.056</td></tr>\n",
       "<tr><td>7</td><td>1075.97</td><td>1258.34</td><td>59769.376375</td><td>180.0</td><td></td><td>1.056</td></tr>\n",
       "<tr><td>8</td><td>1450.27</td><td>1351.40</td><td>59769.376375</td><td>180.0</td><td></td><td>1.056</td></tr>\n",
       "</table></div>"
      ],
      "text/plain": [
       "<Table length=4>\n",
       "  id     x       y        MJD      EXPTIME  FILTER AIRMASS\n",
       "int32 float32 float32   float64    float32 bytes32 float32\n",
       "----- ------- ------- ------------ ------- ------- -------\n",
       "    5  248.72 2398.21 59769.376375   180.0           1.056\n",
       "    6  799.19 2416.99 59769.376375   180.0           1.056\n",
       "    7 1075.97 1258.34 59769.376375   180.0           1.056\n",
       "    8 1450.27 1351.40 59769.376375   180.0           1.056"
      ]
     },
     "execution_count": 52,
     "metadata": {},
     "output_type": "execute_result"
    }
   ],
   "source": [
    "stars.mark(t,s2[4:],color='r',rad=10)"
   ]
  },
  {
   "cell_type": "code",
   "execution_count": 84,
   "id": "fb926a0f",
   "metadata": {},
   "outputs": [
    {
     "name": "stdout",
     "output_type": "stream",
     "text": [
      "Hit c near desired star(s) to get centroid position\n",
      "    i to use integer position of cursor\n",
      "    n to get ID of nearest star\n",
      "    q or e to quit\n",
      "23\n",
      "Star: 23 at (293.463668,2701.813149)\n",
      "10\n",
      "Star: 10 at (840.175214,2717.950855)\n",
      "8\n",
      "Star: 8 at (1106.415179,1547.924107)\n",
      "3\n",
      "Star: 3 at (1483.889625,1639.406181)\n"
     ]
    },
    {
     "ename": "KeyError",
     "evalue": "'id'",
     "output_type": "error",
     "traceback": [
      "\u001b[0;31m---------------------------------------------------------------------------\u001b[0m",
      "\u001b[0;31mKeyError\u001b[0m                                  Traceback (most recent call last)",
      "Input \u001b[0;32mIn [84]\u001b[0m, in \u001b[0;36m<module>\u001b[0;34m\u001b[0m\n\u001b[0;32m----> 1\u001b[0m \u001b[43mstars\u001b[49m\u001b[38;5;241;43m.\u001b[39;49m\u001b[43mmark\u001b[49m\u001b[43m(\u001b[49m\u001b[43mt\u001b[49m\u001b[43m,\u001b[49m\u001b[43mholes\u001b[49m\u001b[43m,\u001b[49m\u001b[43mcolor\u001b[49m\u001b[38;5;241;43m=\u001b[39;49m\u001b[38;5;124;43m'\u001b[39;49m\u001b[38;5;124;43mb\u001b[39;49m\u001b[38;5;124;43m'\u001b[39;49m\u001b[43m,\u001b[49m\u001b[43mrad\u001b[49m\u001b[38;5;241;43m=\u001b[39;49m\u001b[38;5;241;43m10\u001b[39;49m\u001b[43m)\u001b[49m\n",
      "File \u001b[0;32m/home/holtz/git/pyvista/python/pyvista/stars.py:142\u001b[0m, in \u001b[0;36mmark\u001b[0;34m(tv, stars, rad, auto, color, new, exit, id, func)\u001b[0m\n\u001b[1;32m    140\u001b[0m \u001b[38;5;66;03m# add blank row, recognizing that we may have added other columns\u001b[39;00m\n\u001b[1;32m    141\u001b[0m stars\u001b[38;5;241m.\u001b[39madd_row()\n\u001b[0;32m--> 142\u001b[0m stars[\u001b[38;5;28mlen\u001b[39m(stars)\u001b[38;5;241m-\u001b[39m\u001b[38;5;241m1\u001b[39m][\u001b[38;5;124m'\u001b[39m\u001b[38;5;124mid\u001b[39m\u001b[38;5;124m'\u001b[39m] \u001b[38;5;241m=\u001b[39m istar\n\u001b[1;32m    143\u001b[0m stars[\u001b[38;5;28mlen\u001b[39m(stars)\u001b[38;5;241m-\u001b[39m\u001b[38;5;241m1\u001b[39m][\u001b[38;5;124m'\u001b[39m\u001b[38;5;124mx\u001b[39m\u001b[38;5;124m'\u001b[39m] \u001b[38;5;241m=\u001b[39m x\n\u001b[1;32m    144\u001b[0m stars[\u001b[38;5;28mlen\u001b[39m(stars)\u001b[38;5;241m-\u001b[39m\u001b[38;5;241m1\u001b[39m][\u001b[38;5;124m'\u001b[39m\u001b[38;5;124my\u001b[39m\u001b[38;5;124m'\u001b[39m] \u001b[38;5;241m=\u001b[39m y\n",
      "File \u001b[0;32m/home/local/Anaconda3-2020.02/envs/py3.9/lib/python3.9/site-packages/astropy/table/row.py:65\u001b[0m, in \u001b[0;36mRow.__setitem__\u001b[0;34m(self, item, val)\u001b[0m\n\u001b[1;32m     63\u001b[0m     \u001b[38;5;28mself\u001b[39m\u001b[38;5;241m.\u001b[39m_table\u001b[38;5;241m.\u001b[39m_set_row(\u001b[38;5;28mself\u001b[39m\u001b[38;5;241m.\u001b[39m_index, colnames\u001b[38;5;241m=\u001b[39mitem, vals\u001b[38;5;241m=\u001b[39mval)\n\u001b[1;32m     64\u001b[0m \u001b[38;5;28;01melse\u001b[39;00m:\n\u001b[0;32m---> 65\u001b[0m     \u001b[38;5;28;43mself\u001b[39;49m\u001b[38;5;241;43m.\u001b[39;49m\u001b[43m_table\u001b[49m\u001b[38;5;241;43m.\u001b[39;49m\u001b[43mcolumns\u001b[49m\u001b[43m[\u001b[49m\u001b[43mitem\u001b[49m\u001b[43m]\u001b[49m[\u001b[38;5;28mself\u001b[39m\u001b[38;5;241m.\u001b[39m_index] \u001b[38;5;241m=\u001b[39m val\n",
      "File \u001b[0;32m/home/local/Anaconda3-2020.02/envs/py3.9/lib/python3.9/site-packages/astropy/table/table.py:247\u001b[0m, in \u001b[0;36mTableColumns.__getitem__\u001b[0;34m(self, item)\u001b[0m\n\u001b[1;32m    237\u001b[0m \u001b[38;5;124;03m\"\"\"Get items from a TableColumns object.\u001b[39;00m\n\u001b[1;32m    238\u001b[0m \u001b[38;5;124;03m::\u001b[39;00m\n\u001b[1;32m    239\u001b[0m \n\u001b[0;32m   (...)\u001b[0m\n\u001b[1;32m    244\u001b[0m \u001b[38;5;124;03m  tc[1:3] # <TableColumns names=('b', 'c')>\u001b[39;00m\n\u001b[1;32m    245\u001b[0m \u001b[38;5;124;03m\"\"\"\u001b[39;00m\n\u001b[1;32m    246\u001b[0m \u001b[38;5;28;01mif\u001b[39;00m \u001b[38;5;28misinstance\u001b[39m(item, \u001b[38;5;28mstr\u001b[39m):\n\u001b[0;32m--> 247\u001b[0m     \u001b[38;5;28;01mreturn\u001b[39;00m \u001b[43mOrderedDict\u001b[49m\u001b[38;5;241;43m.\u001b[39;49m\u001b[38;5;21;43m__getitem__\u001b[39;49m\u001b[43m(\u001b[49m\u001b[38;5;28;43mself\u001b[39;49m\u001b[43m,\u001b[49m\u001b[43m \u001b[49m\u001b[43mitem\u001b[49m\u001b[43m)\u001b[49m\n\u001b[1;32m    248\u001b[0m \u001b[38;5;28;01melif\u001b[39;00m \u001b[38;5;28misinstance\u001b[39m(item, (\u001b[38;5;28mint\u001b[39m, np\u001b[38;5;241m.\u001b[39minteger)):\n\u001b[1;32m    249\u001b[0m     \u001b[38;5;28;01mreturn\u001b[39;00m \u001b[38;5;28mlist\u001b[39m(\u001b[38;5;28mself\u001b[39m\u001b[38;5;241m.\u001b[39mvalues())[item]\n",
      "\u001b[0;31mKeyError\u001b[0m: 'id'"
     ]
    }
   ],
   "source": [
    "stars.mark(t,holes,color='b',rad=10)"
   ]
  },
  {
   "cell_type": "code",
   "execution_count": 58,
   "id": "725c5840",
   "metadata": {},
   "outputs": [],
   "source": [
    "from astropy.table import vstack\n",
    "h2=vstack([holes[17],holes[24],holes[11],holes[3]])"
   ]
  },
  {
   "cell_type": "code",
   "execution_count": 69,
   "id": "ad15037b",
   "metadata": {},
   "outputs": [
    {
     "name": "stdout",
     "output_type": "stream",
     "text": [
      "Rotation (degrees) :  0.7023411872010255\n",
      "Translation (arcsec)  [ -9.37132715 -76.06268694]\n",
      "[-729.95876289  655.51890034] [-774.26215265  351.70530317] [-775.28491211  350.21362305] 1.80863111138\n",
      "[-183.82478632  669.9508547 ] [-228.3461122   372.83060663] [-224.80688477  368.99414062] 5.21963622216\n",
      "[  82.41517857 -500.07589286] [  52.21587312 -793.84470437] [  51.9666748  -789.66027832] 4.19183982806\n",
      "[ 459.88962472 -408.59381898] [ 428.54058509 -697.74247497] [ 426.27331543 -696.59875488] 2.53941082619\n",
      "Rotation (degrees) :  0.7023411872010255\n",
      "Translation (arcsec)  [ -9.45714522 -75.96874303]\n",
      "Scale  0.996466664091\n",
      "[-729.95876289  655.51890034] [-771.98739381  349.78504774] [-775.28491211  350.21362305] 3.32525242874\n",
      "[-183.82478632  669.9508547 ] [-228.00025812  370.83570842] [-224.80688477  368.99414062] 3.68632680088\n",
      "[  82.41517857 -500.07589286] [  51.57040747 -791.71734682] [  51.9666748  -789.66027832] 2.0948886844\n",
      "[ 459.88962472 -408.59381898] [ 426.56543782 -695.95467887] [ 426.27331543 -696.59875488] 0.707226554863\n"
     ]
    },
    {
     "data": {
      "text/plain": [
       "(0.7023411872010255, array([ -9.37132715, -76.06268694]))"
      ]
     },
     "execution_count": 69,
     "metadata": {},
     "output_type": "execute_result"
    }
   ],
   "source": [
    "slitmask.fit(h2,s2[4:])"
   ]
  },
  {
   "cell_type": "code",
   "execution_count": null,
   "id": "e58be8c5",
   "metadata": {},
   "outputs": [],
   "source": []
  }
 ],
 "metadata": {
  "kernelspec": {
   "display_name": "Python 3 (ipykernel)",
   "language": "python",
   "name": "python3"
  },
  "language_info": {
   "codemirror_mode": {
    "name": "ipython",
    "version": 3
   },
   "file_extension": ".py",
   "mimetype": "text/x-python",
   "name": "python",
   "nbconvert_exporter": "python",
   "pygments_lexer": "ipython3",
   "version": "3.9.9"
  }
 },
 "nbformat": 4,
 "nbformat_minor": 5
}
