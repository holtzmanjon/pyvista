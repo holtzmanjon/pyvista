{
 "cells": [
  {
   "cell_type": "markdown",
   "id": "9cc0929e",
   "metadata": {},
   "source": [
    "<h2>Slitmask module"
   ]
  },
  {
   "cell_type": "markdown",
   "id": "e31a9526",
   "metadata": {},
   "source": [
    "<b><i> This is not a developed notebook and just gives some test usage of slitmask routines, which are not fully developed/tested"
   ]
  },
  {
   "cell_type": "code",
   "execution_count": 1,
   "id": "1d06b78a",
   "metadata": {},
   "outputs": [],
   "source": [
    "from pyvista import imred, tv, stars, slitmask, image\n",
    "import pdb\n",
    "import copy\n",
    "import numpy as np\n",
    "import matplotlib.pyplot as plt\n",
    "import os\n",
    "from astropy.table import vstack"
   ]
  },
  {
   "cell_type": "code",
   "execution_count": 290,
   "id": "e08e3334",
   "metadata": {},
   "outputs": [],
   "source": [
    "%matplotlib qt\n",
    "t=tv.TV()"
   ]
  },
  {
   "cell_type": "markdown",
   "id": "55118cf4",
   "metadata": {},
   "source": [
    "<h3> Acquisition </h3>"
   ]
  },
  {
   "cell_type": "code",
   "execution_count": 555,
   "id": "63d1ccfb",
   "metadata": {},
   "outputs": [],
   "source": [
    "red=imred.Reducer('KOSMOS',dir='/home/holtz/raw/apo/UT221221_cleaned',verbose=False)                                                         "
   ]
  },
  {
   "cell_type": "code",
   "execution_count": 292,
   "id": "7e687dc4",
   "metadata": {},
   "outputs": [
    {
     "data": {
      "text/html": [
       "<div><i>Table length=41</i>\n",
       "<table id=\"table47939709372304\" class=\"table-striped table-bordered table-condensed\">\n",
       "<thead><tr><th>FILE</th><th>DATE-OBS</th><th>OBJNAME</th><th>RA</th><th>DEC</th><th>EXPTIME</th></tr></thead>\n",
       "<thead><tr><th>bytes42</th><th>bytes26</th><th>bytes23</th><th>bytes16</th><th>bytes16</th><th>bytes16</th></tr></thead>\n",
       "<tr><td>MOS2_quartz_flat_image.0001.fits</td><td>2022-07-09T03:21:07.134252</td><td></td><td>6:56:00.00</td><td>70:00:00.00</td><td>0.5</td></tr>\n",
       "<tr><td>MOS2_quartz_flat_image.0002.fits</td><td>2022-07-09T03:24:45.689872</td><td></td><td>6:56:00.00</td><td>70:00:00.00</td><td>0.5</td></tr>\n",
       "<tr><td>MOS2_quartz_flat_image.0003.fits</td><td>2022-07-09T03:28:26.731187</td><td></td><td>6:56:00.00</td><td>70:00:00.00</td><td>0.5</td></tr>\n",
       "<tr><td>bias.0001.fits</td><td>2022-07-09T06:23:41.763063</td><td>2MASS 1746</td><td>17:46:11.99</td><td>50:34:03.60</td><td>0</td></tr>\n",
       "<tr><td>bias.0002.fits</td><td>2022-07-09T06:24:35.610926</td><td>2MASS 1746</td><td>17:46:11.99</td><td>50:34:03.60</td><td>0</td></tr>\n",
       "<tr><td>bias.0003.fits</td><td>2022-07-09T06:25:29.285990</td><td>2MASS 1746</td><td>17:46:11.99</td><td>50:34:03.60</td><td>0</td></tr>\n",
       "<tr><td>...</td><td>...</td><td>...</td><td>...</td><td>...</td><td>...</td></tr>\n",
       "<tr><td>flat_quartz_truss_red.0001.fits</td><td>2022-07-09T10:27:42.697081</td><td>SDSSJ222655.88+255009.3</td><td>22:26:55.89</td><td>25:50:09.33</td><td>60.0</td></tr>\n",
       "<tr><td>flat_quartz_truss_red.0002.fits</td><td>2022-07-09T10:29:37.741194</td><td>SDSSJ222655.88+255009.3</td><td>22:26:55.89</td><td>25:50:09.33</td><td>60.0</td></tr>\n",
       "<tr><td>flat_quartz_truss_red.0003.fits</td><td>2022-07-09T10:31:32.048222</td><td>SDSSJ222655.88+255009.3</td><td>22:26:55.89</td><td>25:50:09.33</td><td>60.0</td></tr>\n",
       "<tr><td>flat_quartz_truss_red.0004.fits</td><td>2022-07-09T10:33:26.060567</td><td>SDSSJ222655.88+255009.3</td><td>22:26:55.89</td><td>25:50:09.33</td><td>60.0</td></tr>\n",
       "<tr><td>flat_quartz_truss_red.0005.fits</td><td>2022-07-09T10:35:20.074926</td><td>SDSSJ222655.88+255009.3</td><td>22:26:55.89</td><td>25:50:09.33</td><td>60.0</td></tr>\n",
       "<tr><td>NeKrAr_r.0001.fits</td><td>2022-07-09T10:37:46.584225</td><td>SDSSJ222655.88+255009.3</td><td>22:26:55.89</td><td>25:50:09.33</td><td>1.5</td></tr>\n",
       "<tr><td>NeKrAr_b.0001.fits</td><td>2022-07-09T10:38:52.078579</td><td>SDSSJ222655.88+255009.3</td><td>22:26:55.89</td><td>25:50:09.33</td><td>50.0</td></tr>\n",
       "</table></div>"
      ],
      "text/plain": [
       "<Table length=41>\n",
       "              FILE                        DATE-OBS          ...     DEC     EXPTIME\n",
       "            bytes42                       bytes26           ...   bytes16   bytes16\n",
       "-------------------------------- -------------------------- ... ----------- -------\n",
       "MOS2_quartz_flat_image.0001.fits 2022-07-09T03:21:07.134252 ... 70:00:00.00     0.5\n",
       "MOS2_quartz_flat_image.0002.fits 2022-07-09T03:24:45.689872 ... 70:00:00.00     0.5\n",
       "MOS2_quartz_flat_image.0003.fits 2022-07-09T03:28:26.731187 ... 70:00:00.00     0.5\n",
       "                  bias.0001.fits 2022-07-09T06:23:41.763063 ... 50:34:03.60       0\n",
       "                  bias.0002.fits 2022-07-09T06:24:35.610926 ... 50:34:03.60       0\n",
       "                  bias.0003.fits 2022-07-09T06:25:29.285990 ... 50:34:03.60       0\n",
       "                             ...                        ... ...         ...     ...\n",
       " flat_quartz_truss_red.0001.fits 2022-07-09T10:27:42.697081 ... 25:50:09.33    60.0\n",
       " flat_quartz_truss_red.0002.fits 2022-07-09T10:29:37.741194 ... 25:50:09.33    60.0\n",
       " flat_quartz_truss_red.0003.fits 2022-07-09T10:31:32.048222 ... 25:50:09.33    60.0\n",
       " flat_quartz_truss_red.0004.fits 2022-07-09T10:33:26.060567 ... 25:50:09.33    60.0\n",
       " flat_quartz_truss_red.0005.fits 2022-07-09T10:35:20.074926 ... 25:50:09.33    60.0\n",
       "              NeKrAr_r.0001.fits 2022-07-09T10:37:46.584225 ... 25:50:09.33     1.5\n",
       "              NeKrAr_b.0001.fits 2022-07-09T10:38:52.078579 ... 25:50:09.33    50.0"
      ]
     },
     "execution_count": 292,
     "metadata": {},
     "output_type": "execute_result"
    }
   ],
   "source": [
    "red.log()"
   ]
  },
  {
   "cell_type": "markdown",
   "id": "2e7d75af",
   "metadata": {},
   "source": [
    "Read in image with mask in, and image without mask"
   ]
  },
  {
   "cell_type": "code",
   "execution_count": 556,
   "id": "4dd7f0ba",
   "metadata": {},
   "outputs": [
    {
     "name": "stdout",
     "output_type": "stream",
     "text": [
      "INFO: array provided for uncertainty; assuming it is a StdDevUncertainty. [astropy.nddata.ccddata]\n"
     ]
    }
   ],
   "source": [
    "mask=red.reduce(51)\n",
    "t.clear()\n",
    "t.tv(mask,max=3000)"
   ]
  },
  {
   "cell_type": "code",
   "execution_count": 557,
   "id": "bcff0497",
   "metadata": {},
   "outputs": [
    {
     "name": "stdout",
     "output_type": "stream",
     "text": [
      "INFO: array provided for uncertainty; assuming it is a StdDevUncertainty. [astropy.nddata.ccddata]\n"
     ]
    }
   ],
   "source": [
    "nomask=red.reduce(52)\n",
    "t.tv(nomask,max=30000)"
   ]
  },
  {
   "cell_type": "markdown",
   "id": "b99fcd1e",
   "metadata": {},
   "source": [
    "Do CR rejection on mask image to avoid spurious detections"
   ]
  },
  {
   "cell_type": "code",
   "execution_count": 558,
   "id": "90e09265",
   "metadata": {},
   "outputs": [],
   "source": [
    "maskcr=red.crrej(mask,crbox=[5,5])"
   ]
  },
  {
   "cell_type": "markdown",
   "id": "825da41f",
   "metadata": {},
   "source": [
    "Use findholes() to identify the holes in the mask. May need to adjust thresh= for brightness threshold, and n= for number of clusters to detect."
   ]
  },
  {
   "cell_type": "code",
   "execution_count": 559,
   "id": "9e496042",
   "metadata": {},
   "outputs": [
    {
     "data": {
      "text/html": [
       "<div><i>Table length=15</i>\n",
       "<table id=\"table47939701025040\" class=\"table-striped table-bordered table-condensed\">\n",
       "<thead><tr><th>y</th><th>x</th></tr></thead>\n",
       "<thead><tr><th>float64</th><th>float64</th></tr></thead>\n",
       "<tr><td>1847.45695364</td><td>1388.37417219</td></tr>\n",
       "<tr><td>2194.5</td><td>728.0</td></tr>\n",
       "<tr><td>1864.5</td><td>616.0</td></tr>\n",
       "<tr><td>1829.5</td><td>1008.0</td></tr>\n",
       "<tr><td>2627.53535354</td><td>489.050505051</td></tr>\n",
       "<tr><td>1274.63541667</td><td>799.496527778</td></tr>\n",
       "<tr><td>1998.44947735</td><td>1790.21254355</td></tr>\n",
       "<tr><td>2221.31205674</td><td>910.517730496</td></tr>\n",
       "<tr><td>1621.81021898</td><td>1104.29562044</td></tr>\n",
       "<tr><td>2013.97709924</td><td>1675.0610687</td></tr>\n",
       "<tr><td>1992.51851852</td><td>1257.5308642</td></tr>\n",
       "<tr><td>2451.44104803</td><td>1525.81222707</td></tr>\n",
       "<tr><td>1643.0</td><td>292.5</td></tr>\n",
       "<tr><td>2158.0</td><td>255.0</td></tr>\n",
       "<tr><td>1255.0</td><td>1179.0</td></tr>\n",
       "</table></div>"
      ],
      "text/plain": [
       "<Table length=15>\n",
       "      y             x      \n",
       "   float64       float64   \n",
       "------------- -------------\n",
       "1847.45695364 1388.37417219\n",
       "       2194.5         728.0\n",
       "       1864.5         616.0\n",
       "       1829.5        1008.0\n",
       "2627.53535354 489.050505051\n",
       "1274.63541667 799.496527778\n",
       "1998.44947735 1790.21254355\n",
       "2221.31205674 910.517730496\n",
       "1621.81021898 1104.29562044\n",
       "2013.97709924  1675.0610687\n",
       "1992.51851852  1257.5308642\n",
       "2451.44104803 1525.81222707\n",
       "       1643.0         292.5\n",
       "       2158.0         255.0\n",
       "       1255.0        1179.0"
      ]
     },
     "execution_count": 559,
     "metadata": {},
     "output_type": "execute_result"
    }
   ],
   "source": [
    "holes=slitmask.findholes(maskcr.data,thresh=1500,n=29)\n",
    "t.clear()\n",
    "t.tv(maskcr)\n",
    "stars.mark(t,holes,color='b',exit=True,rad=10)"
   ]
  },
  {
   "cell_type": "markdown",
   "id": "9060f8f2",
   "metadata": {},
   "source": [
    "Get design from KMS file and see if we have correct numbers of slits/holes identified"
   ]
  },
  {
   "cell_type": "code",
   "execution_count": 561,
   "id": "63e71c5b",
   "metadata": {},
   "outputs": [
    {
     "name": "stdout",
     "output_type": "stream",
     "text": [
      "15 15\n"
     ]
    },
    {
     "data": {
      "text/html": [
       "<div><i>Table length=15</i>\n",
       "<table id=\"table47940041477904\" class=\"table-striped table-bordered table-condensed\">\n",
       "<thead><tr><th>ALPHA</th><th>DELTA</th><th>LEN</th><th>LENMM</th><th>NAME</th><th>ROT</th><th>SHAPE</th><th>TARG101</th><th>TARG102</th><th>TARG103</th><th>TARG104</th><th>TARG105</th><th>TARG106</th><th>TARG107</th><th>TARG108</th><th>TARG109</th><th>TARG110</th><th>TARG111</th><th>TARG112</th><th>TARG113</th><th>TARG114</th><th>TARG115</th><th>WID</th><th>WIDMM</th><th>XMM</th><th>YMM</th></tr></thead>\n",
       "<thead><tr><th>float64</th><th>float64</th><th>float64</th><th>float64</th><th>str5</th><th>float64</th><th>str8</th><th>object</th><th>object</th><th>object</th><th>object</th><th>object</th><th>object</th><th>object</th><th>object</th><th>object</th><th>object</th><th>object</th><th>object</th><th>object</th><th>object</th><th>object</th><th>float64</th><th>float64</th><th>float64</th><th>float64</th></tr></thead>\n",
       "<tr><td>83654.162</td><td>30638.76</td><td>4.0</td><td>0.683</td><td>NN</td><td>0.0</td><td>STRAIGHT</td><td>--</td><td>--</td><td>--</td><td>--</td><td>--</td><td>--</td><td>--</td><td>--</td><td>--</td><td>--</td><td>--</td><td>--</td><td>--</td><td>None</td><td>--</td><td>4.0</td><td>0.683</td><td>-6.272</td><td>-33.306</td></tr>\n",
       "<tr><td>83645.269</td><td>30628.86</td><td>4.0</td><td>0.683</td><td>NN</td><td>0.0</td><td>STRAIGHT</td><td>--</td><td>--</td><td>--</td><td>--</td><td>--</td><td>--</td><td>--</td><td>--</td><td>--</td><td>--</td><td>None</td><td>--</td><td>--</td><td>--</td><td>--</td><td>4.0</td><td>0.683</td><td>16.462</td><td>-31.616</td></tr>\n",
       "<tr><td>83702.29</td><td>30538.62</td><td>10.0</td><td>1.707</td><td>Obj9</td><td>0.0</td><td>STRAIGHT</td><td>--</td><td>--</td><td>--</td><td>--</td><td>--</td><td>--</td><td>--</td><td>--</td><td>None</td><td>--</td><td>--</td><td>--</td><td>--</td><td>--</td><td>--</td><td>2.0</td><td>0.341</td><td>-27.05</td><td>-23.042</td></tr>\n",
       "<tr><td>83649.106</td><td>30504.92</td><td>10.0</td><td>1.707</td><td>Obj1</td><td>0.0</td><td>STRAIGHT</td><td>None</td><td>--</td><td>--</td><td>--</td><td>--</td><td>--</td><td>--</td><td>--</td><td>--</td><td>--</td><td>--</td><td>--</td><td>--</td><td>--</td><td>--</td><td>2.0</td><td>0.341</td><td>6.652</td><td>-17.29</td></tr>\n",
       "<tr><td>83654.799</td><td>30436.19</td><td>10.0</td><td>1.707</td><td>Obj3</td><td>0.0</td><td>STRAIGHT</td><td>--</td><td>--</td><td>None</td><td>--</td><td>--</td><td>--</td><td>--</td><td>--</td><td>--</td><td>--</td><td>--</td><td>--</td><td>--</td><td>--</td><td>--</td><td>2.0</td><td>0.341</td><td>-7.901</td><td>-12.387</td></tr>\n",
       "<tr><td>83638.93</td><td>30417.69</td><td>10.0</td><td>1.707</td><td>Obj2</td><td>0.0</td><td>STRAIGHT</td><td>--</td><td>None</td><td>--</td><td>--</td><td>--</td><td>--</td><td>--</td><td>--</td><td>--</td><td>--</td><td>--</td><td>--</td><td>--</td><td>--</td><td>--</td><td>2.0</td><td>0.341</td><td>32.666</td><td>-9.23</td></tr>\n",
       "<tr><td>83655.258</td><td>30349.0</td><td>10.0</td><td>1.707</td><td>Obj4</td><td>0.0</td><td>STRAIGHT</td><td>--</td><td>--</td><td>--</td><td>None</td><td>--</td><td>--</td><td>--</td><td>--</td><td>--</td><td>--</td><td>--</td><td>--</td><td>--</td><td>--</td><td>--</td><td>2.0</td><td>0.341</td><td>-9.075</td><td>-4.333</td></tr>\n",
       "<tr><td>83648.518</td><td>30323.98</td><td>10.0</td><td>1.707</td><td>Obj5</td><td>0.0</td><td>STRAIGHT</td><td>--</td><td>--</td><td>--</td><td>--</td><td>None</td><td>--</td><td>--</td><td>--</td><td>--</td><td>--</td><td>--</td><td>--</td><td>--</td><td>--</td><td>--</td><td>2.0</td><td>0.341</td><td>8.155</td><td>-0.063</td></tr>\n",
       "<tr><td>83644.95</td><td>30258.99</td><td>10.0</td><td>1.707</td><td>Obj6</td><td>0.0</td><td>STRAIGHT</td><td>--</td><td>--</td><td>--</td><td>--</td><td>--</td><td>None</td><td>--</td><td>--</td><td>--</td><td>--</td><td>--</td><td>--</td><td>--</td><td>--</td><td>--</td><td>2.0</td><td>0.341</td><td>17.277</td><td>4.202</td></tr>\n",
       "<tr><td>83638.6</td><td>30239.36</td><td>4.0</td><td>0.683</td><td>NN</td><td>0.0</td><td>STRAIGHT</td><td>--</td><td>--</td><td>--</td><td>--</td><td>--</td><td>--</td><td>--</td><td>--</td><td>--</td><td>--</td><td>--</td><td>--</td><td>None</td><td>--</td><td>--</td><td>4.0</td><td>0.683</td><td>33.511</td><td>7.553</td></tr>\n",
       "<tr><td>83651.338</td><td>30219.56</td><td>4.0</td><td>0.683</td><td>NN</td><td>0.0</td><td>STRAIGHT</td><td>--</td><td>--</td><td>--</td><td>--</td><td>--</td><td>--</td><td>--</td><td>--</td><td>--</td><td>--</td><td>--</td><td>--</td><td>--</td><td>--</td><td>None</td><td>4.0</td><td>0.683</td><td>0.947</td><td>10.931</td></tr>\n",
       "<tr><td>83648.845</td><td>30145.73</td><td>10.0</td><td>1.707</td><td>Obj10</td><td>0.0</td><td>STRAIGHT</td><td>--</td><td>--</td><td>--</td><td>--</td><td>--</td><td>--</td><td>--</td><td>--</td><td>--</td><td>None</td><td>--</td><td>--</td><td>--</td><td>--</td><td>--</td><td>2.0</td><td>0.341</td><td>7.319</td><td>16.706</td></tr>\n",
       "<tr><td>83659.269</td><td>30110.26</td><td>4.0</td><td>0.683</td><td>NN</td><td>0.0</td><td>STRAIGHT</td><td>--</td><td>--</td><td>--</td><td>--</td><td>--</td><td>--</td><td>--</td><td>--</td><td>--</td><td>--</td><td>--</td><td>None</td><td>--</td><td>--</td><td>--</td><td>4.0</td><td>0.683</td><td>-19.329</td><td>22.758</td></tr>\n",
       "<tr><td>83651.722</td><td>30031.64</td><td>10.0</td><td>1.707</td><td>Obj7</td><td>0.0</td><td>STRAIGHT</td><td>--</td><td>--</td><td>--</td><td>--</td><td>--</td><td>--</td><td>None</td><td>--</td><td>--</td><td>--</td><td>--</td><td>--</td><td>--</td><td>--</td><td>--</td><td>2.0</td><td>0.341</td><td>-0.036</td><td>29.35</td></tr>\n",
       "<tr><td>83651.454</td><td>30001.4</td><td>10.0</td><td>1.707</td><td>Obj8</td><td>0.0</td><td>STRAIGHT</td><td>--</td><td>--</td><td>--</td><td>--</td><td>--</td><td>--</td><td>--</td><td>None</td><td>--</td><td>--</td><td>--</td><td>--</td><td>--</td><td>--</td><td>--</td><td>2.0</td><td>0.341</td><td>0.649</td><td>34.511</td></tr>\n",
       "</table></div>"
      ],
      "text/plain": [
       "<Table length=15>\n",
       "  ALPHA    DELTA     LEN    LENMM   NAME   ROT   ... TARG114 TARG115   WID    WIDMM    XMM     YMM  \n",
       " float64  float64  float64 float64  str5 float64 ...  object  object float64 float64 float64 float64\n",
       "--------- -------- ------- ------- ----- ------- ... ------- ------- ------- ------- ------- -------\n",
       "83654.162 30638.76     4.0   0.683    NN     0.0 ...    None      --     4.0   0.683  -6.272 -33.306\n",
       "83645.269 30628.86     4.0   0.683    NN     0.0 ...      --      --     4.0   0.683  16.462 -31.616\n",
       " 83702.29 30538.62    10.0   1.707  Obj9     0.0 ...      --      --     2.0   0.341  -27.05 -23.042\n",
       "83649.106 30504.92    10.0   1.707  Obj1     0.0 ...      --      --     2.0   0.341   6.652  -17.29\n",
       "83654.799 30436.19    10.0   1.707  Obj3     0.0 ...      --      --     2.0   0.341  -7.901 -12.387\n",
       " 83638.93 30417.69    10.0   1.707  Obj2     0.0 ...      --      --     2.0   0.341  32.666   -9.23\n",
       "83655.258  30349.0    10.0   1.707  Obj4     0.0 ...      --      --     2.0   0.341  -9.075  -4.333\n",
       "83648.518 30323.98    10.0   1.707  Obj5     0.0 ...      --      --     2.0   0.341   8.155  -0.063\n",
       " 83644.95 30258.99    10.0   1.707  Obj6     0.0 ...      --      --     2.0   0.341  17.277   4.202\n",
       "  83638.6 30239.36     4.0   0.683    NN     0.0 ...      --      --     4.0   0.683  33.511   7.553\n",
       "83651.338 30219.56     4.0   0.683    NN     0.0 ...      --    None     4.0   0.683   0.947  10.931\n",
       "83648.845 30145.73    10.0   1.707 Obj10     0.0 ...      --      --     2.0   0.341   7.319  16.706\n",
       "83659.269 30110.26     4.0   0.683    NN     0.0 ...      --      --     4.0   0.683 -19.329  22.758\n",
       "83651.722 30031.64    10.0   1.707  Obj7     0.0 ...      --      --     2.0   0.341  -0.036   29.35\n",
       "83651.454  30001.4    10.0   1.707  Obj8     0.0 ...      --      --     2.0   0.341   0.649  34.511"
      ]
     },
     "execution_count": 561,
     "metadata": {},
     "output_type": "execute_result"
    }
   ],
   "source": [
    "kmsfile='eFEDS197_pointing2.1.kms'\n",
    "targets = slitmask.read_kms(kmsfile,sort='YMM')\n",
    "print(len(targets),len(holes))\n",
    "targets"
   ]
  },
  {
   "cell_type": "markdown",
   "id": "65aa3c98",
   "metadata": {},
   "source": [
    "Now sort the identified holes from left to right and match them\n",
    "with the correspondingly sorted design holes to identify which ones are alignment holes."
   ]
  },
  {
   "cell_type": "code",
   "execution_count": 562,
   "id": "4b518642",
   "metadata": {},
   "outputs": [
    {
     "data": {
      "text/html": [
       "<div><i>Table length=5</i>\n",
       "<table id=\"table47939561397360\" class=\"table-striped table-bordered table-condensed\">\n",
       "<thead><tr><th>y</th><th>x</th></tr></thead>\n",
       "<thead><tr><th>float64</th><th>float64</th></tr></thead>\n",
       "<tr><td>2158.0</td><td>255.0</td></tr>\n",
       "<tr><td>1643.0</td><td>292.5</td></tr>\n",
       "<tr><td>1255.0</td><td>1179.0</td></tr>\n",
       "<tr><td>1992.51851852</td><td>1257.5308642</td></tr>\n",
       "<tr><td>2451.44104803</td><td>1525.81222707</td></tr>\n",
       "</table></div>"
      ],
      "text/plain": [
       "<Table length=5>\n",
       "      y             x      \n",
       "   float64       float64   \n",
       "------------- -------------\n",
       "       2158.0         255.0\n",
       "       1643.0         292.5\n",
       "       1255.0        1179.0\n",
       "1992.51851852  1257.5308642\n",
       "2451.44104803 1525.81222707"
      ]
     },
     "execution_count": 562,
     "metadata": {},
     "output_type": "execute_result"
    }
   ],
   "source": [
    "# sort holes by x coordinate\n",
    "holes.sort('x')\n",
    "\n",
    "# loop through holes and targets to find alignment holes\n",
    "align=[]\n",
    "for i,(hole,target) in enumerate(zip(holes,targets)) :\n",
    "    #print(hole['x'],target['YMM'],target['NAME'])\n",
    "    if target['NAME'] == 'NN' : align.append(i)\n",
    "\n",
    "# Display the alignment holes\n",
    "stars.mark(t,holes[align],color='r',rad=20,exit=True)\n",
    "\n",
    "#make table of the measured alignment hole positions\n",
    "h=holes[align]\n",
    "h"
   ]
  },
  {
   "cell_type": "markdown",
   "id": "2b7cab85",
   "metadata": {},
   "source": [
    "Now display image and mark stars that corresonds to the alignment holes in the mask."
   ]
  },
  {
   "cell_type": "code",
   "execution_count": 563,
   "id": "b3e7b541",
   "metadata": {},
   "outputs": [
    {
     "name": "stdout",
     "output_type": "stream",
     "text": [
      "Hit c near desired star(s) to get centroid position\n",
      "    i to use integer position of cursor\n",
      "    n to get ID of nearest star\n",
      "    q or e to quit\n"
     ]
    },
    {
     "data": {
      "text/html": [
       "<div><i>Table length=5</i>\n",
       "<table id=\"table47940055890144\" class=\"table-striped table-bordered table-condensed\">\n",
       "<thead><tr><th>id</th><th>x</th><th>y</th><th>MJD</th><th>EXPTIME</th><th>FILTER</th><th>AIRMASS</th></tr></thead>\n",
       "<thead><tr><th>int32</th><th>float32</th><th>float32</th><th>float64</th><th>float32</th><th>bytes32</th><th>float32</th></tr></thead>\n",
       "<tr><td>1</td><td>221.91</td><td>2205.13</td><td>59934.466355</td><td>30.0</td><td></td><td>1.244</td></tr>\n",
       "<tr><td>2</td><td>260.72</td><td>1691.14</td><td>59934.466355</td><td>30.0</td><td></td><td>1.244</td></tr>\n",
       "<tr><td>5</td><td>1146.23</td><td>1306.29</td><td>59934.466355</td><td>30.0</td><td></td><td>1.244</td></tr>\n",
       "<tr><td>3</td><td>1223.13</td><td>2042.81</td><td>59934.466355</td><td>30.0</td><td></td><td>1.244</td></tr>\n",
       "<tr><td>4</td><td>1489.41</td><td>2506.02</td><td>59934.466355</td><td>30.0</td><td></td><td>1.244</td></tr>\n",
       "</table></div>"
      ],
      "text/plain": [
       "<Table length=5>\n",
       "  id     x       y        MJD      EXPTIME  FILTER AIRMASS\n",
       "int32 float32 float32   float64    float32 bytes32 float32\n",
       "----- ------- ------- ------------ ------- ------- -------\n",
       "    1  221.91 2205.13 59934.466355    30.0           1.244\n",
       "    2  260.72 1691.14 59934.466355    30.0           1.244\n",
       "    5 1146.23 1306.29 59934.466355    30.0           1.244\n",
       "    3 1223.13 2042.81 59934.466355    30.0           1.244\n",
       "    4 1489.41 2506.02 59934.466355    30.0           1.244"
      ]
     },
     "execution_count": 563,
     "metadata": {},
     "output_type": "execute_result"
    }
   ],
   "source": [
    "t.tv(nomask,max=30000)\n",
    "s=stars.mark(t,rad=5)\n",
    "\n",
    "# sort these by x coorindate to match order of alignment holes\n",
    "s.sort('x')\n",
    "s"
   ]
  },
  {
   "cell_type": "markdown",
   "id": "2237287b",
   "metadata": {},
   "source": [
    "Now use fit() to get the rotation and translation. Output the distance between the measured object and the fit one to ensure that the identification is correct and the solution is reasonable."
   ]
  },
  {
   "cell_type": "code",
   "execution_count": 564,
   "id": "ad15037b",
   "metadata": {
    "scrolled": true
   },
   "outputs": [
    {
     "name": "stdout",
     "output_type": "stream",
     "text": [
      "Euclidean Transform: \n",
      "  Rotation (degrees) :  0.22472876594810803\n",
      "  Translation (arcsec)  [ -8.84143245  13.09692391]\n",
      " X       Y       mod-obs \n",
      "  -769.0   110.0    1.72\n",
      "  -731.5  -405.0    0.92\n",
      "   155.0  -793.0    1.61\n",
      "   233.5   -55.5    1.43\n",
      "   501.8   403.4    1.93\n",
      "  Rotation (degrees) :  0.22472876594810803\n",
      "  Translation (arcsec)  [ -8.84143245  13.09692391]\n",
      "Similarity Transform: \n",
      "Rotation (degrees) :  0.22472876594810803\n",
      "Translation (arcsec)  [ -8.86608854  13.06677919]\n",
      "Scale  0.999213122302\n",
      " X       Y       mod-obs \n",
      "  -769.0   110.0    1.17\n",
      "  -731.5  -405.0    0.41\n",
      "   155.0  -793.0    1.51\n",
      "   233.5   -55.5    1.31\n",
      "   501.8   403.4    2.28\n"
     ]
    },
    {
     "data": {
      "text/plain": [
       "(0.22472876594810803, array([ -8.84143245,  13.09692391]))"
      ]
     },
     "execution_count": 564,
     "metadata": {},
     "output_type": "execute_result"
    }
   ],
   "source": [
    "slitmask.fit(h,s)"
   ]
  },
  {
   "cell_type": "markdown",
   "id": "4c474f4b",
   "metadata": {},
   "source": [
    "<h3>Reduction/extraction"
   ]
  },
  {
   "cell_type": "code",
   "execution_count": 2,
   "id": "b82cd151",
   "metadata": {},
   "outputs": [],
   "source": [
    "from pyvista import imred, slitmask, tv, spectra, image\n",
    "import numpy as np\n",
    "import matplotlib.pyplot as plt\n",
    "import copy\n",
    "import pdb\n",
    "%matplotlib qt\n",
    "\n",
    "t=tv.TV()"
   ]
  },
  {
   "cell_type": "code",
   "execution_count": 3,
   "id": "7c4e8dd6",
   "metadata": {},
   "outputs": [
    {
     "name": "stdout",
     "output_type": "stream",
     "text": [
      "INFO: array provided for uncertainty; assuming it is a StdDevUncertainty. [astropy.nddata.ccddata]\n",
      "INFO: array provided for uncertainty; assuming it is a StdDevUncertainty. [astropy.nddata.ccddata]\n",
      "INFO: array provided for uncertainty; assuming it is a StdDevUncertainty. [astropy.nddata.ccddata]\n",
      "INFO: array provided for uncertainty; assuming it is a StdDevUncertainty. [astropy.nddata.ccddata]\n",
      "INFO: array provided for uncertainty; assuming it is a StdDevUncertainty. [astropy.nddata.ccddata]\n"
     ]
    }
   ],
   "source": [
    "red=imred.Reducer('KOSMOS',dir='/home/holtz/raw/apo/UT221221_cleaned',verbose=False)                                                         \n",
    "im = red.reduce(54)\n",
    "flat = red.reduce(71)\n",
    "arc = red.reduce(70)\n",
    "arcs= red.sum([70,67])"
   ]
  },
  {
   "cell_type": "markdown",
   "id": "e344d1a7",
   "metadata": {},
   "source": [
    "Find slit edges from flat, and fit polynomials to locations"
   ]
  },
  {
   "cell_type": "code",
   "execution_count": 4,
   "id": "7d011c6f",
   "metadata": {},
   "outputs": [],
   "source": [
    "trace=spectra.Trace(transpose=True)\n",
    "t.tvclear()\n",
    "bottom,top = trace.findslits(flat,display=t,thresh=0.5,sn=True)"
   ]
  },
  {
   "cell_type": "markdown",
   "id": "ce60d5e7",
   "metadata": {},
   "source": [
    "Plot shape of slit edges relative to center position, just for information"
   ]
  },
  {
   "cell_type": "code",
   "execution_count": 6,
   "id": "d2b4a10a",
   "metadata": {},
   "outputs": [],
   "source": [
    "x=np.arange(4096)\n",
    "plt.figure()\n",
    "for l in bottom :\n",
    "    plt.plot(x,l(x)-l(2048))"
   ]
  },
  {
   "cell_type": "markdown",
   "id": "dbda61d1",
   "metadata": {},
   "source": [
    "Using the derived traces, extract the slitlets for arcs"
   ]
  },
  {
   "cell_type": "code",
   "execution_count": 8,
   "id": "16514662",
   "metadata": {},
   "outputs": [
    {
     "name": "stdout",
     "output_type": "stream",
     "text": [
      "extracting: \n",
      " 233-249\n",
      " 275-289\n",
      " 455-494\n",
      " 585-624\n",
      " 695-734\n",
      " 770-809\n",
      " 878-917\n",
      " 976-1015\n",
      " 1073-1112\n",
      " 1160-1175\n",
      " 1237-1252\n",
      " 1356-1395\n",
      " 1502-1518\n",
      " 1642-1680\n",
      " 1758-1796\n",
      "  See extraction window(s). Hit space bar to continue....\n"
     ]
    }
   ],
   "source": [
    "#importlib.reload(spectra)\n",
    "arcec=trace.extract2d(arcs,display=t)"
   ]
  },
  {
   "cell_type": "markdown",
   "id": "ff19c690",
   "metadata": {},
   "source": [
    "Load the targets file, and add XMM and YMM for each slit to headers of each extracted image. REQUIRES A PERFECT MATCH BETWEEN INPUT TARGETS AND IDENTIFIED SLITS!"
   ]
  },
  {
   "cell_type": "code",
   "execution_count": 10,
   "id": "d62ecdbe",
   "metadata": {},
   "outputs": [],
   "source": [
    "kmsfile='eFEDS197_pointing2.1.kms'\n",
    "targets = slitmask.read_kms(kmsfile,sort='YMM')\n",
    "if len(targets) == len(bottom) : \n",
    "    for arc,target in zip(arcec,targets) :\n",
    "        arc.header['XMM'] = target['XMM']\n",
    "        arc.header['YMM'] = target['YMM']\n",
    "else :\n",
    "    print('ERROR, number of identified slits does not match number of targets')"
   ]
  },
  {
   "cell_type": "markdown",
   "id": "cd8974bc",
   "metadata": {},
   "source": [
    "Now loop through each extracted arc to do wavelength calibration. This requires a little effort because the change in the location of the slit relative to the default saved wavelength calibration is significant enough that it can be a challenge to automatically find the lines, since the change in spectrum is more than a simple shift (and, in fact, more than a shift + dispersion change). \n",
    "\n",
    "However, a simple shift is usually enough to identify some of the lines, and these can be used to bootstrap the wavelength solution; the initial identification is easier givenan estimate of the shift from the mask design.\n",
    "\n",
    "You can use identify() to do the iteration. On the first pass, only central lines may be correctly identified. Use 'l' and 'r' to remove lines to the left and right of the identified lines. Then use 'i' to iterate, i.e., allow it to re-identify lines (i just returns True to allow you to iterate). When happy with solution, use ' ' to move onto the final 2D \n",
    "wavelength calibration."
   ]
  },
  {
   "cell_type": "code",
   "execution_count": 12,
   "id": "5d985385",
   "metadata": {},
   "outputs": [
    {
     "name": "stdout",
     "output_type": "stream",
     "text": [
      "  rms:    0.230 Angstroms (60 lines)\n",
      "  cross correlating with reference spectrum using lags between:  1058 1257\n",
      "  Derived pixel shift from input wcal:  [ 1171.90869797]\n",
      "  See identified lines.\n",
      "  rms:   12.594 Angstroms (29 lines)\n",
      "  Input in plot window: \n",
      "       l : to remove all lines to left of cursor\n",
      "       r : to remove all lines to right of cursor\n",
      "       n : to remove line nearest cursor x position\n",
      "       i : return with True value (to allow iteration)\n",
      "       anything else : finish and return\n",
      "  rms:   12.594 Anstroms\n",
      "  input from plot window...\n",
      "  rms:   11.148 Anstroms\n",
      "  input from plot window...\n",
      "  rms:    8.484 Anstroms\n",
      "  input from plot window...\n",
      "\n",
      "  cross correlating with reference spectrum using lags between:  -50 49\n",
      "  Derived pixel shift from input wcal:  [  4.06382350e-06]\n",
      "  See identified lines.\n",
      "  rms:    3.876 Angstroms (27 lines)\n",
      "  Input in plot window: \n",
      "       l : to remove all lines to left of cursor\n",
      "       r : to remove all lines to right of cursor\n",
      "       n : to remove line nearest cursor x position\n",
      "       i : return with True value (to allow iteration)\n",
      "       anything else : finish and return\n",
      "  rms:    3.876 Anstroms\n",
      "  input from plot window...\n",
      "  rms:    3.615 Anstroms\n",
      "  input from plot window...\n",
      "  rms:    2.814 Anstroms\n",
      "  input from plot window...\n",
      "  rms:    1.644 Anstroms\n",
      "  input from plot window...\n",
      "\n",
      "  cross correlating with reference spectrum using lags between:  -50 49\n",
      "  Derived pixel shift from input wcal:  [  4.06382350e-06]\n",
      "  See identified lines.\n",
      "  rms:   41.965 Angstroms (31 lines)\n",
      "  Input in plot window: \n",
      "       l : to remove all lines to left of cursor\n",
      "       r : to remove all lines to right of cursor\n",
      "       n : to remove line nearest cursor x position\n",
      "       i : return with True value (to allow iteration)\n",
      "       anything else : finish and return\n",
      "  rms:   41.965 Anstroms\n",
      "  input from plot window...\n",
      "  rms:    8.135 Anstroms\n",
      "  input from plot window...\n",
      "  rms:    6.598 Anstroms\n",
      "  input from plot window...\n",
      "  rms:    2.569 Anstroms\n",
      "  input from plot window...\n",
      "  rms:    1.905 Anstroms\n",
      "  input from plot window...\n",
      "  rms:    0.487 Anstroms\n",
      "  input from plot window...\n",
      "  rms:    0.248 Anstroms\n",
      "  input from plot window...\n",
      "\n",
      "  cross correlating with reference spectrum using lags between:  -50 49\n",
      "  Derived pixel shift from input wcal:  [  4.06382350e-06]\n",
      "  See identified lines.\n",
      "  rms:    1.067 Angstroms (38 lines)\n",
      "  Input in plot window: \n",
      "       l : to remove all lines to left of cursor\n",
      "       r : to remove all lines to right of cursor\n",
      "       n : to remove line nearest cursor x position\n",
      "       i : return with True value (to allow iteration)\n",
      "       anything else : finish and return\n",
      "  rms:    1.067 Anstroms\n",
      "  input from plot window...\n",
      "  rms:    1.032 Anstroms\n",
      "  input from plot window...\n",
      "  rms:    0.208 Anstroms\n",
      "  input from plot window...\n",
      "\n",
      "  cross correlating with reference spectrum using lags between:  -300 299\n",
      "  Derived pixel shift from input wcal for row: 38 0\n",
      "  See identified lines.\n",
      "  rms:    0.226\n",
      "rejecting 0 points from 209 total: \n",
      "  See 2D wavecal fit. Enter space in plot window to continue\n",
      "\n",
      "  rms:    0.230 Angstroms (60 lines)\n",
      "  cross correlating with reference spectrum using lags between:  301 500\n",
      "  Derived pixel shift from input wcal:  [ 407.72413438]\n",
      "  See identified lines.\n",
      "  rms:   53.487 Angstroms (46 lines)\n",
      "  Input in plot window: \n",
      "       l : to remove all lines to left of cursor\n",
      "       r : to remove all lines to right of cursor\n",
      "       n : to remove line nearest cursor x position\n",
      "       i : return with True value (to allow iteration)\n",
      "       anything else : finish and return\n",
      "  rms:   53.487 Anstroms\n",
      "  input from plot window...\n",
      "  rms:   50.343 Anstroms\n",
      "  input from plot window...\n",
      "  rms:   11.829 Anstroms\n",
      "  input from plot window...\n",
      "  rms:    3.403 Anstroms\n",
      "  input from plot window...\n",
      "  rms:    2.570 Anstroms\n",
      "  input from plot window...\n",
      "  rms:    0.563 Anstroms\n",
      "  input from plot window...\n",
      "\n",
      "  cross correlating with reference spectrum using lags between:  -300 299\n",
      "  Derived pixel shift from input wcal for row: 38 0\n",
      "  See identified lines.\n",
      "  rms:    0.470\n",
      "rejecting 4 points from 142 total: \n",
      "  rms:    0.301\n",
      "rejecting 6 points from 142 total: \n",
      "  rms:    0.242\n",
      "rejecting 6 points from 142 total: \n",
      "  See 2D wavecal fit. Enter space in plot window to continue\n",
      "\n"
     ]
    }
   ],
   "source": [
    "for i,arc in enumerate(arcec) :\n",
    "    wav=spectra.WaveCal('KOSMOS/KOSMOS_red_low_waves.fits')\n",
    "    nrow=arc.shape[0]\n",
    "    \n",
    "    # get initial guess at shift from reference using XMM (KOSMOD red low!)\n",
    "    shift=int(arc.header['XMM']*-22.5)+550  #-wav.pix0)\n",
    "    lags=np.arange(shift-100,shift+100)\n",
    "\n",
    "    iter = True\n",
    "    while iter :\n",
    "        iter = wav.identify(arc[nrow//2],plot=True,plotinter=True,\n",
    "                            lags=lags,thresh=10,file='henearkr.dat')\n",
    "        lags=np.arange(-50,50)\n",
    "        plt.close()\n",
    "        \n",
    "    # Do the 2D wavelength solution, sampling 5 locations across slitlet\n",
    "    wav.identify(arc,plot=True,nskip=nrow//5,thresh=10)\n",
    "    plt.close()"
   ]
  },
  {
   "cell_type": "code",
   "execution_count": 17,
   "id": "2a18a8fd-0755-4698-9eba-24306d9c61ae",
   "metadata": {},
   "outputs": [],
   "source": [
    "arcec[2].wave.shape\n",
    "t.tv(arcec[2].wave)\n"
   ]
  },
  {
   "cell_type": "markdown",
   "id": "16a024a6",
   "metadata": {},
   "source": [
    "Now extract the science frame."
   ]
  },
  {
   "cell_type": "code",
   "execution_count": 19,
   "id": "d94f7735",
   "metadata": {},
   "outputs": [
    {
     "name": "stdout",
     "output_type": "stream",
     "text": [
      "  See CRs and CR-zapped image and original using - key\n",
      "   To continue, hit space in display window (p for debug) \n"
     ]
    }
   ],
   "source": [
    "imcr=red.crrej(im,crbox='lacosmic',display=t,crsig=10)"
   ]
  },
  {
   "cell_type": "code",
   "execution_count": 20,
   "id": "2a48dbc1",
   "metadata": {
    "scrolled": true
   },
   "outputs": [
    {
     "name": "stdout",
     "output_type": "stream",
     "text": [
      "extracting: \n",
      " 233-249\n",
      " 275-289\n",
      " 455-494\n",
      " 585-624\n",
      " 695-734\n",
      " 770-809\n",
      " 878-917\n",
      " 976-1015\n",
      " 1073-1112\n",
      " 1160-1175\n",
      " 1237-1252\n",
      " 1356-1395\n",
      " 1502-1518\n",
      " 1642-1680\n",
      " 1758-1796\n",
      "  See extraction window(s). Hit space bar to continue....\n"
     ]
    }
   ],
   "source": [
    "out=trace.extract2d(imcr,display=t)"
   ]
  },
  {
   "cell_type": "markdown",
   "id": "09bf500e",
   "metadata": {},
   "source": [
    "Look through the output extrations, and add the wavelength array from the arcs."
   ]
  },
  {
   "cell_type": "code",
   "execution_count": 21,
   "id": "56e452d3",
   "metadata": {},
   "outputs": [
    {
     "name": "stdout",
     "output_type": "stream",
     "text": [
      "(39, 4096)\n",
      "197p2_mask1_red\n",
      "(39, 4096)\n",
      "197p2_mask1_red\n"
     ]
    }
   ],
   "source": [
    "t.clear()\n",
    "plt.figure()\n",
    "for i,(o,a) in enumerate(zip(out,arcec)) :\n",
    "    print(o.shape)\n",
    "    o.add_wave(a.wave)\n",
    "    name = o.header[\"FILE\"].split(\".\")[0]\n",
    "    print(name)\n",
    "    #t.tv(o)\n",
    "    #t.tv(o.wave)\n",
    "    plt.plot(o.wave[10],o.data[10])\n",
    "    #o.write(name + \"_{:d}.fits\".format(i))  "
   ]
  },
  {
   "cell_type": "markdown",
   "id": "265457a8",
   "metadata": {},
   "source": [
    "As desired, move on to 1D extraction"
   ]
  },
  {
   "cell_type": "code",
   "execution_count": 24,
   "id": "5add25c1",
   "metadata": {},
   "outputs": [
    {
     "name": "stdout",
     "output_type": "stream",
     "text": [
      "looking for peaks using 200 pixels around 2048, threshhold of 10.000000\n",
      "peaks:  [8, 35]\n",
      "aperture/fiber:  [0, 1]\n",
      "  extracting ... \n",
      "  See extraction window(s). Hit space bar to continue....\n",
      "\n",
      "(4096,) (4096,)\n",
      "looking for peaks using 200 pixels around 2048, threshhold of 10.000000\n",
      "peaks:  [19]\n",
      "aperture/fiber:  [0]\n",
      "  extracting ... \n",
      "  See extraction window(s). Hit space bar to continue....\n",
      "\n",
      "(4096,) (4096,)\n"
     ]
    }
   ],
   "source": [
    "def model(x) :\n",
    "    return x*0.\n",
    "\n",
    "fig=plt.figure()\n",
    "for i in range(len(arcec)) :\n",
    "    trace1 = spectra.Trace(transpose=False)\n",
    "    trace1.rows = [0,out[i].data.shape[0]]\n",
    "    trace1.index = [0]\n",
    "    peak,ind = trace1.findpeak(out[i],thresh=10,sort=True)\n",
    "    if len(peak) > 0:\n",
    "        def model(x) :\n",
    "            return x*0. + peak[0]\n",
    "        trace1.model = [model]\n",
    "        spec=trace1.extract(out[i],rad=4,back=[[-10,-5],[5,10]],display=t)\n",
    "        plt.figure(fig)\n",
    "        spec.wave = out[i].wave[peak]\n",
    "        print(spec.wave[0].shape,spec.data[0].shape)\n",
    "        plt.plot(spec.wave[0],spec.data[0])\n",
    "    else :\n",
    "        print('no peak found for slit: ',i)\n",
    "    #plt.draw()"
   ]
  },
  {
   "cell_type": "code",
   "execution_count": 627,
   "id": "3e2214f2",
   "metadata": {},
   "outputs": [],
   "source": [
    "t.tv(im,max=300)"
   ]
  },
  {
   "cell_type": "code",
   "execution_count": 633,
   "id": "950ccb36",
   "metadata": {},
   "outputs": [],
   "source": [
    "t.tv(imcr)"
   ]
  },
  {
   "cell_type": "code",
   "execution_count": null,
   "id": "89b6f4ba",
   "metadata": {},
   "outputs": [],
   "source": []
  }
 ],
 "metadata": {
  "kernelspec": {
   "display_name": "Python 3 (ipykernel)",
   "language": "python",
   "name": "python3"
  },
  "language_info": {
   "codemirror_mode": {
    "name": "ipython",
    "version": 3
   },
   "file_extension": ".py",
   "mimetype": "text/x-python",
   "name": "python",
   "nbconvert_exporter": "python",
   "pygments_lexer": "ipython3",
   "version": "3.9.18"
  }
 },
 "nbformat": 4,
 "nbformat_minor": 5
}
