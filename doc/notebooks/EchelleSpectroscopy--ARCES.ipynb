{
 "cells": [
  {
   "cell_type": "markdown",
   "metadata": {},
   "source": [
    "<h2> Echelle spectroscopic data reduction:  ARCES at the APO 3.5m"
   ]
  },
  {
   "cell_type": "markdown",
   "metadata": {},
   "source": [
    "This notebook provides an example of using pyvista to reduce echelle data, using data from the ARC 3.5m ARCES spectrograph. It includes basic image reduction, extraction to multiple orders, and wavelength calibration. For ARCES, flat fielding is done at the 1D level since the traces move around a bit on the detector, and there is no capability for \"pixel flats\". The notebook gives several possibilities for combining orders into a single spectrum at the end, but the methodology here is currently a bit lacking for ARCES."
   ]
  },
  {
   "cell_type": "code",
   "execution_count": 1,
   "metadata": {},
   "outputs": [],
   "source": [
    "from pyvista import imred, tv, spectra\n",
    "import numpy as np\n",
    "import matplotlib.pyplot as plt"
   ]
  },
  {
   "cell_type": "markdown",
   "metadata": {},
   "source": [
    "pyvista uses a display tool defined in the tv module. To use the interactive\n",
    "display in a notebook, set the display to be an external display window, e.g. with \n",
    "<code>\n",
    "%matplotlib tk\n",
    "</code>\n",
    "Instantiate a tv object, here we just call it t, but you could call it whatever you want!\n",
    "<p>\n",
    "The display tools supports a number of \"asynchronous\" operations, e.g. zoom and pan with the mouse buttons, etc. Enter a '?' in the display window to see a list."
   ]
  },
  {
   "cell_type": "code",
   "execution_count": 2,
   "metadata": {},
   "outputs": [],
   "source": [
    "# Use these lines if you are running the notebook yourself. Matplotlib\n",
    "# window will open outside the notebook, which is the desired behavior so\n",
    "# you can have a single display tool, which you should leave open. Other\n",
    "# plot windows will also appear outside the notebook, which you can close\n",
    "# as desired\n",
    "# you may need/want to use qt or osx in the next line\n",
    "%matplotlib tk   \n",
    "t=tv.TV()\n",
    "plotinter=True\n",
    "\n",
    "# following lines only for fully noninteractive demo of notebook, to allow\n",
    "#    inline demo of plots (but not image display)\n",
    "#%matplotlib inline\n",
    "#t=None\n",
    "#plotinter=False     # normally, want this to be True "
   ]
  },
  {
   "cell_type": "markdown",
   "metadata": {},
   "source": [
    "The basic tool for basic image reduction is a Reducer object, defined in the imred module. Instantiate a reducer here. The main argument is an instrument name, which tells it to read a YAML configuration file for the specified instrument. We also give it an optional dir= argument to specify the default directory from which to read images, if a directory is not specified in subsequent commands that read images."
   ]
  },
  {
   "cell_type": "code",
   "execution_count": 3,
   "metadata": {},
   "outputs": [
    {
     "name": "stdout",
     "output_type": "stream",
     "text": [
      "INSTRUMENT: ARCES   config: \n",
      "  will use format:  /home/holtz/red/UT211031/echelle/*{:04d}.f*.fits*\n",
      "         gain:  [3.8]    rn: [7.]\n",
      "         scale:  None   \n",
      "  Biastype : 0\n",
      "  Bias box: \n",
      "    SC    NC    SR    NR\n",
      "  2075    51    20  2009 \n",
      "  Trim box: \n",
      "    SC    NC    SR    NR\n",
      "    22  2026     0  2048 \n",
      "  Norm box: \n",
      "    SC    NC    SR    NR\n",
      "  1000    51  1000    51 \n"
     ]
    }
   ],
   "source": [
    "red=imred.Reducer('ARCES',dir='/home/holtz/red/UT211031/echelle')"
   ]
  },
  {
   "cell_type": "markdown",
   "metadata": {},
   "source": [
    "A main method of the reducer object is the reduce() method. Without any additional arguments, reduce() will read an image from disk, subtract the overscan (region(s) as determined from the instrument configuration file), compute an uncertainty array using the gain and readout noise from the instrument configuration file, and return a pyvista Data object with the data, uncertainty, and mask in different attributes.\n",
    "<p>\n",
    "To specify the input image, we could pass a string with the file name. If the string does not include a '/', it will read from the default input directory.\n",
    "<p>\n",
    "If the file can be identified with a unique integer, then you can just specify this number, which can be very convenient. This is turned into a character string using the formstr attribute define in the configuration file, which is used to search for the file to read.\n",
    "<p>\n",
    "Note that the default for reduce() is to trim the image, removing over/underscan as specified in the instrument configuration file. If you specify trim=False, then these regions will be preserved.\n",
    "    \n",
    "<p>\n",
    "We can display the image using the tv() method of our display tool, which can take as input a Data object, and numpy array, or a FITS HDU object."
   ]
  },
  {
   "cell_type": "code",
   "execution_count": 4,
   "metadata": {},
   "outputs": [
    {
     "data": {
      "text/html": [
       "<i>Table length=36</i>\n",
       "<table id=\"table47299665280992-148133\" class=\"table-striped table-bordered table-condensed\">\n",
       "<thead><tr><th>idx</th><th>FILE</th><th>DATE-OBS</th><th>OBJNAME</th><th>RA</th><th>DEC</th><th>EXPTIME</th></tr></thead>\n",
       "<tr><td>0</td><td>ThAr.0001.fits</td><td>2021-10-30T23:08:48.959</td><td></td><td>6:56:00.00</td><td>10:00:00.00</td><td>29.999639034271</td></tr>\n",
       "<tr><td>1</td><td>ThAr.0002.fits</td><td>2021-10-30T23:11:52.822</td><td></td><td>6:56:00.00</td><td>10:00:00.00</td><td>30.000228881836</td></tr>\n",
       "<tr><td>2</td><td>ThAr.0003.fits</td><td>2021-10-30T23:14:57.305</td><td></td><td>6:56:00.00</td><td>10:00:00.00</td><td>30.000248908997</td></tr>\n",
       "<tr><td>3</td><td>ThAr.0004.fits</td><td>2021-10-30T23:18:01.781</td><td></td><td>6:56:00.00</td><td>10:00:00.00</td><td>29.999611854553</td></tr>\n",
       "<tr><td>4</td><td>flat_red.0005.fits</td><td>2021-10-30T23:21:06.521</td><td></td><td>6:56:00.00</td><td>10:00:00.00</td><td>6.9998741149902</td></tr>\n",
       "<tr><td>5</td><td>flat_red.0006.fits</td><td>2021-10-30T23:23:48.699</td><td></td><td>6:56:00.00</td><td>10:00:00.00</td><td>6.9998621940613</td></tr>\n",
       "<tr><td>6</td><td>flat_red.0007.fits</td><td>2021-10-30T23:26:29.657</td><td></td><td>6:56:00.00</td><td>10:00:00.00</td><td>6.9998688697815</td></tr>\n",
       "<tr><td>7</td><td>flat_red.0008.fits</td><td>2021-10-30T23:29:11.599</td><td></td><td>6:56:00.00</td><td>10:00:00.00</td><td>6.9998691082001</td></tr>\n",
       "<tr><td>8</td><td>flat_red.0009.fits</td><td>2021-10-30T23:31:53.347</td><td></td><td>6:56:00.00</td><td>10:00:00.00</td><td>6.9998760223389</td></tr>\n",
       "<tr><td>9</td><td>flat_red.0010.fits</td><td>2021-10-30T23:34:35.149</td><td></td><td>6:56:00.00</td><td>10:00:00.00</td><td>6.9998240470886</td></tr>\n",
       "<tr><td>10</td><td>flat_red.0011.fits</td><td>2021-10-30T23:37:16.195</td><td></td><td>6:56:00.00</td><td>10:00:00.00</td><td>6.9998300075531</td></tr>\n",
       "<tr><td>11</td><td>flat_blue.0012.fits</td><td>2021-10-30T23:40:00.646</td><td></td><td>6:56:00.00</td><td>10:00:00.00</td><td>199.9994661808</td></tr>\n",
       "<tr><td>12</td><td>flat_blue.0013.fits</td><td>2021-10-30T23:45:56.516</td><td></td><td>6:56:00.00</td><td>10:00:00.00</td><td>200.00009799004</td></tr>\n",
       "<tr><td>13</td><td>flat_blue.0014.fits</td><td>2021-10-30T23:51:52.683</td><td></td><td>6:56:00.00</td><td>10:00:00.00</td><td>200.0001540184</td></tr>\n",
       "<tr><td>14</td><td>flat_blue.0015.fits</td><td>2021-10-30T23:57:47.742</td><td></td><td>6:56:00.00</td><td>10:00:00.00</td><td>200.0001039505</td></tr>\n",
       "<tr><td>15</td><td>flat_blue.0016.fits</td><td>2021-10-31T00:03:42.881</td><td></td><td>6:56:00.00</td><td>10:00:00.00</td><td>200.00117611885</td></tr>\n",
       "<tr><td>16</td><td>flat_blue.0017.fits</td><td>2021-10-31T00:09:39.357</td><td></td><td>10:00:00.00</td><td>80:00:00.00</td><td>200.00015592575</td></tr>\n",
       "<tr><td>17</td><td>flat_blue.0018.fits</td><td>2021-10-31T00:15:34.511</td><td></td><td>10:00:00.00</td><td>80:00:00.00</td><td>199.99992108345</td></tr>\n",
       "<tr><td>18</td><td>bias.0019.fits</td><td>2021-10-31T00:21:35.678</td><td></td><td>22:10:00.00</td><td>25:00:00.00</td><td>0.0037758350372314</td></tr>\n",
       "<tr><td>19</td><td>bias.0020.fits</td><td>2021-10-31T00:24:09.928</td><td></td><td>22:10:00.00</td><td>30:00:00.00</td><td>0.0036609172821045</td></tr>\n",
       "<tr><td>20</td><td>bias.0021.fits</td><td>2021-10-31T00:26:44.310</td><td></td><td>22:09:43.83</td><td>29:59:59.94</td><td>1.4720098972321</td></tr>\n",
       "<tr><td>21</td><td>bias.0022.fits</td><td>2021-10-31T00:29:22.298</td><td></td><td>22:09:23.05</td><td>29:59:59.68</td><td>0.0035707950592041</td></tr>\n",
       "<tr><td>22</td><td>bias.0023.fits</td><td>2021-10-31T00:31:57.838</td><td></td><td>22:09:06.88</td><td>29:59:59.33</td><td>1.4844260215759</td></tr>\n",
       "<tr><td>23</td><td>bias.0024.fits</td><td>2021-10-31T00:34:35.682</td><td></td><td>22:08:48.41</td><td>29:59:58.79</td><td>0.004054069519043</td></tr>\n",
       "<tr><td>24</td><td>bias.0025.fits</td><td>2021-10-31T00:37:11.755</td><td></td><td>22:08:32.24</td><td>29:59:58.18</td><td>1.5329439640045</td></tr>\n",
       "<tr><td>25</td><td>HIP_9598.0026.fits</td><td>2021-10-31T00:49:03.407</td><td>HIP 9598</td><td>2:03:25.95</td><td>72:25:17.02</td><td>30.000284910202</td></tr>\n",
       "<tr><td>26</td><td>HD_160934.0027.fits</td><td>2021-10-31T04:15:10.913</td><td>HD 160934</td><td>17:38:39.62</td><td>61:14:16.10</td><td>1199.9996869564</td></tr>\n",
       "<tr><td>27</td><td>HIP109807.0028.fits</td><td>2021-10-31T04:39:30.292</td><td>HIP 109807</td><td>22:14:26.97</td><td>2:42:24.40</td><td>1200.0000200272</td></tr>\n",
       "<tr><td>28</td><td>HIP111976.0029.fits</td><td>2021-10-31T05:05:27.768</td><td>HIP 111976</td><td>22:40:54.86</td><td>64:54:28.46</td><td>1199.9997317791</td></tr>\n",
       "<tr><td>29</td><td>ThAr.0030.fits</td><td>2021-10-31T05:29:13.686</td><td>HIP 669</td><td>0:08:16.35</td><td>-14:49:28.35</td><td>30.000263929367</td></tr>\n",
       "<tr><td>30</td><td>HIP_669.0031.fits</td><td>2021-10-31T05:34:44.277</td><td>HIP 669</td><td>0:08:16.35</td><td>-14:49:28.35</td><td>420.00041985512</td></tr>\n",
       "<tr><td>31</td><td>HIP_1412.0032.fits</td><td>2021-10-31T05:45:08.419</td><td>HIP 1412</td><td>0:17:41.23</td><td>-8:40:55.81</td><td>1199.9996590614</td></tr>\n",
       "<tr><td>32</td><td>ThAr.0033.fits</td><td>2021-10-31T06:07:53.042</td><td>HD 16760</td><td>2:42:21.31</td><td>38:37:07.14</td><td>30.000195980072</td></tr>\n",
       "<tr><td>33</td><td>HIP14807.0034.fits</td><td>2021-10-31T06:21:01.541</td><td>HIP 14807</td><td>3:11:12.32</td><td>22:25:22.57</td><td>1199.9997391701</td></tr>\n",
       "<tr><td>34</td><td>HD16760.0035.fits</td><td>2021-10-31T06:47:57.684</td><td>HD 16760</td><td>2:42:21.31</td><td>38:37:07.14</td><td>1199.999756813</td></tr>\n",
       "<tr><td>35</td><td>ThAr.0036.fits</td><td>2021-10-31T07:10:38.594</td><td>HD 16760</td><td>2:42:21.31</td><td>38:37:07.14</td><td>29.999819040298</td></tr>\n",
       "</table><style>table.dataTable {clear: both; width: auto !important; margin: 0 !important;}\n",
       ".dataTables_info, .dataTables_length, .dataTables_filter, .dataTables_paginate{\n",
       "display: inline-block; margin-right: 1em; }\n",
       ".paginate_button { margin-right: 5px; }\n",
       "</style>\n",
       "<script>\n",
       "\n",
       "var astropy_sort_num = function(a, b) {\n",
       "    var a_num = parseFloat(a);\n",
       "    var b_num = parseFloat(b);\n",
       "\n",
       "    if (isNaN(a_num) && isNaN(b_num))\n",
       "        return ((a < b) ? -1 : ((a > b) ? 1 : 0));\n",
       "    else if (!isNaN(a_num) && !isNaN(b_num))\n",
       "        return ((a_num < b_num) ? -1 : ((a_num > b_num) ? 1 : 0));\n",
       "    else\n",
       "        return isNaN(a_num) ? -1 : 1;\n",
       "}\n",
       "\n",
       "require.config({paths: {\n",
       "    datatables: 'https://cdn.datatables.net/1.10.12/js/jquery.dataTables.min'\n",
       "}});\n",
       "require([\"datatables\"], function(){\n",
       "    console.log(\"$('#table47299665280992-148133').dataTable()\");\n",
       "    \n",
       "jQuery.extend( jQuery.fn.dataTableExt.oSort, {\n",
       "    \"optionalnum-asc\": astropy_sort_num,\n",
       "    \"optionalnum-desc\": function (a,b) { return -astropy_sort_num(a, b); }\n",
       "});\n",
       "\n",
       "    $('#table47299665280992-148133').dataTable({\n",
       "        order: [],\n",
       "        pageLength: 10,\n",
       "        lengthMenu: [[10, 25, 50, 100, 500, 1000, -1], [10, 25, 50, 100, 500, 1000, 'All']],\n",
       "        pagingType: \"full_numbers\",\n",
       "        columnDefs: [{targets: [0], type: \"optionalnum\"}]\n",
       "    });\n",
       "});\n",
       "</script>\n"
      ],
      "text/plain": [
       "<IPython.core.display.HTML object>"
      ]
     },
     "execution_count": 4,
     "metadata": {},
     "output_type": "execute_result"
    }
   ],
   "source": [
    "red.log(htmlfile='log.html').show_in_notebook(display_length=10)"
   ]
  },
  {
   "cell_type": "code",
   "execution_count": 5,
   "metadata": {},
   "outputs": [
    {
     "name": "stdout",
     "output_type": "stream",
     "text": [
      "  Reading file: /home/holtz/red/UT211031/echelle/HIP109807.0028.fits\n",
      "  subtracting overscan:  1291.7184\n",
      "INFO: array provided for uncertainty; assuming it is a StdDevUncertainty. [astropy.nddata.ccddata]\n"
     ]
    }
   ],
   "source": [
    "a=red.reduce(28)\n",
    "\n",
    "if t is not None :\n",
    "    t.tv(a)"
   ]
  },
  {
   "cell_type": "markdown",
   "metadata": {},
   "source": [
    "<h4> Calibration: make and apply flat field"
   ]
  },
  {
   "cell_type": "markdown",
   "metadata": {},
   "source": [
    "If we add additional arguments to reduce(), we can add additional calibration steps. For example, to flat field the data, we would add a flat= keyword through which we give the reducer a flat field. To add a spatial bias subtraction, we would add a bias= keyword through which we give the reducer a superbias frame.\n",
    "<br>\n",
    "First, however, we have to make the calibration products, which is accomplished using the mkflat(), mkbias(), etc methods. These take as input a list of frames to be used to construct the master calibration frame (e.g.. superflat). For ARCES, we will keep the spectral shape of the flats for now."
   ]
  },
  {
   "cell_type": "markdown",
   "metadata": {},
   "source": [
    "Create biases and flats. Note that for flats, we have to do scattered light removal, which can be done on reduction of individual images, but since it is slow, we will do it on the combined flat. If we add the display= keyword, giving a display object, then the calibration frames will be displayed, showing each input frame relative to the master frame, so you can inspect and make sure that bad frames are not being included in the combination."
   ]
  },
  {
   "cell_type": "code",
   "execution_count": 6,
   "metadata": {
    "scrolled": true
   },
   "outputs": [
    {
     "name": "stdout",
     "output_type": "stream",
     "text": [
      "  Reading file: /home/holtz/red/UT211031/echelle/bias.0019.fits\n",
      "  subtracting overscan:  1288.7897\n",
      "  Reading file: /home/holtz/red/UT211031/echelle/bias.0020.fits\n",
      "  subtracting overscan:  1288.5753\n",
      "  Reading file: /home/holtz/red/UT211031/echelle/bias.0021.fits\n",
      "  subtracting overscan:  1288.5232\n",
      "  Reading file: /home/holtz/red/UT211031/echelle/bias.0022.fits\n",
      "  subtracting overscan:  1288.5549\n",
      "  Reading file: /home/holtz/red/UT211031/echelle/bias.0023.fits\n",
      "  subtracting overscan:  1288.9714\n",
      "  Reading file: /home/holtz/red/UT211031/echelle/bias.0024.fits\n",
      "  subtracting overscan:  1289.0347\n",
      "  combining data with median....\n",
      "  calculating uncertainty....\n",
      "  Reading file: /home/holtz/red/UT211031/echelle/flat_red.0005.fits\n",
      "  subtracting overscan:  1287.6692\n",
      "  Reading file: /home/holtz/red/UT211031/echelle/flat_red.0006.fits\n",
      "  subtracting overscan:  1287.761\n",
      "  Reading file: /home/holtz/red/UT211031/echelle/flat_red.0007.fits\n",
      "  subtracting overscan:  1287.5283\n",
      "  Reading file: /home/holtz/red/UT211031/echelle/flat_red.0008.fits\n",
      "  subtracting overscan:  1287.6827\n",
      "  Reading file: /home/holtz/red/UT211031/echelle/flat_red.0009.fits\n",
      "  subtracting overscan:  1287.387\n",
      "  Reading file: /home/holtz/red/UT211031/echelle/flat_red.0010.fits\n",
      "  subtracting overscan:  1287.3418\n",
      "  Reading file: /home/holtz/red/UT211031/echelle/flat_red.0011.fits\n",
      "  subtracting overscan:  1287.35\n",
      "  combining data with median....\n",
      "  calculating uncertainty....\n",
      "  Reading file: /home/holtz/red/UT211031/echelle/flat_blue.0012.fits\n",
      "  subtracting overscan:  1288.2056\n",
      "  Reading file: /home/holtz/red/UT211031/echelle/flat_blue.0013.fits\n",
      "  subtracting overscan:  1288.329\n",
      "  Reading file: /home/holtz/red/UT211031/echelle/flat_blue.0014.fits\n",
      "  subtracting overscan:  1288.3812\n",
      "  Reading file: /home/holtz/red/UT211031/echelle/flat_blue.0015.fits\n",
      "  subtracting overscan:  1288.1141\n",
      "  Reading file: /home/holtz/red/UT211031/echelle/flat_blue.0016.fits\n",
      "  subtracting overscan:  1288.159\n",
      "  Reading file: /home/holtz/red/UT211031/echelle/flat_blue.0017.fits\n",
      "  subtracting overscan:  1288.6339\n",
      "  Reading file: /home/holtz/red/UT211031/echelle/flat_blue.0018.fits\n",
      "  subtracting overscan:  1288.6243\n",
      "  combining data with median....\n",
      "  calculating uncertainty....\n",
      "  estimating scattered light ...\n",
      "    fitting surface ...\n",
      "    rejecting points ...\n",
      "    refitting surface ...\n",
      "  See image with scattered light points\n",
      "   To continue, hit space in display window (p for debug) \n",
      "  See scattered light image\n",
      "   To continue, hit space in display window (p for debug) \n",
      "  estimating scattered light ...\n",
      "    fitting surface ...\n",
      "    rejecting points ...\n",
      "    refitting surface ...\n",
      "  See image with scattered light points\n",
      "   To continue, hit space in display window (p for debug) \n",
      "  See scattered light image\n",
      "   To continue, hit space in display window (p for debug) \n"
     ]
    }
   ],
   "source": [
    "bias=red.mkbias([19,20,21,22,23,24])\n",
    "flat_red=red.mkflat([5,6,7,8,9,10,11])\n",
    "flat_blue=red.mkflat([12,13,14,15,16,17,18])\n",
    "\n",
    "# do scatter after combination to save time\n",
    "red.scatter(flat_red,scat=red.scat,display=t)\n",
    "red.scatter(flat_blue,scat=red.scat,display=t)"
   ]
  },
  {
   "cell_type": "markdown",
   "metadata": {},
   "source": [
    "Combine the red and blue flats. To do, we multiply each by the normalization factor used to create the flats, and then add them. We then display them with the tv tool. Note the last tv() command, which displays the S/N image (the data attribute divided by the uncertainty attribute of the pyvista Data object). You can cycle through these four images in the display tool, using the +/- keys to cycle forward and backward through the stack."
   ]
  },
  {
   "cell_type": "code",
   "execution_count": 7,
   "metadata": {},
   "outputs": [],
   "source": [
    "flat=flat_red.multiply(flat_red.header['MEANNORM'])\n",
    "flat=flat.add(flat_blue.multiply(flat_blue.header['MEANNORM']))\n",
    "flat=flat.divide(flat_red.header['MEANNORM']+flat_blue.header['MEANNORM'])\n",
    "flat.add_bitmask(flat_red.bitmask | flat_blue.bitmask)\n",
    "if t is not None :\n",
    "    t.clear()\n",
    "    t.tv(flat_blue)\n",
    "    t.tv(flat_red)\n",
    "    t.tv(flat)\n",
    "    t.tv(flat,sn=True)"
   ]
  },
  {
   "cell_type": "markdown",
   "metadata": {},
   "source": [
    "Read and display a star spectral image. For ARCES, we do not apply a flat field here, since we only have flats with the orders, which can move around a bit. Instead, we will use \"1D\" flats later in the processing. "
   ]
  },
  {
   "cell_type": "code",
   "execution_count": 8,
   "metadata": {
    "scrolled": true
   },
   "outputs": [
    {
     "name": "stdout",
     "output_type": "stream",
     "text": [
      "  Reading file: /home/holtz/red/UT211031/echelle/HD16760.0035.fits\n",
      "  subtracting overscan:  1291.729\n",
      "  subtracting bias...\n",
      "INFO: array provided for uncertainty; assuming it is a StdDevUncertainty. [astropy.nddata.ccddata]\n"
     ]
    }
   ],
   "source": [
    "star=red.reduce(35,bias=bias)\n",
    "if t is not None :\n",
    "    t.tv(star,max=1000) "
   ]
  },
  {
   "cell_type": "markdown",
   "metadata": {},
   "source": [
    "Cosmic ray rejection can be tricky. Here we use the LACosmic routine of van Dokkum, as implemented in the astroscrappy package. Alternatively, you can use a median filter rejection if you specify the shape of the filter in the crbox argument (e.g. crbox=[5,1] will median filter with a box 5 rows by one column, rejecting pixels greater than nsig times the estimate uncertainty.\n",
    "<p>\n",
    "With the display= keyword, the image before CR removal, after CR removal, and pixels identified as CRs are display in the specified display tool.\n",
    "<p>\n",
    "If the crbox= keyword is specified in reduce(), then the CR-rejection will happen as part of image reduction."
   ]
  },
  {
   "cell_type": "code",
   "execution_count": 9,
   "metadata": {},
   "outputs": [
    {
     "name": "stdout",
     "output_type": "stream",
     "text": [
      "  Reading file: /home/holtz/red/UT211031/echelle/HD16760.0035.fits\n",
      "  subtracting overscan:  1291.73\n",
      "  See bias box (solid outlines applied to dashed regions of the same color), and cross section. \n",
      "   To continue, hit space in display window (p for debug) \n",
      "  zapping CRs with astroscrappy detect_cosmics\n",
      "  See CRs and CR-zapped image and original using - key\n",
      "   To continue, hit space in display window (p for debug) \n",
      "INFO: array provided for uncertainty; assuming it is a StdDevUncertainty. [astropy.nddata.ccddata]\n"
     ]
    }
   ],
   "source": [
    "#crstar=red.crrej(star,crbox='lacosmic',display=t,objlim=50)\n",
    "crstar=red.reduce(35,crbox='lacosmic',display=t,crsig=7,objlim=50,sigfrac=1.)"
   ]
  },
  {
   "cell_type": "markdown",
   "metadata": {},
   "source": [
    "<h4> Tracing and extraction"
   ]
  },
  {
   "cell_type": "markdown",
   "metadata": {},
   "source": [
    "To facilitate tracing, we can start from an existing set of traces for the instrument. We instantiate a Trace object using this previous set."
   ]
  },
  {
   "cell_type": "code",
   "execution_count": 2,
   "metadata": {},
   "outputs": [
    {
     "ename": "NameError",
     "evalue": "name 'spectra' is not defined",
     "output_type": "error",
     "traceback": [
      "\u001b[0;31m---------------------------------------------------------------------------\u001b[0m",
      "\u001b[0;31mNameError\u001b[0m                                 Traceback (most recent call last)",
      "Cell \u001b[0;32mIn[2], line 1\u001b[0m\n\u001b[0;32m----> 1\u001b[0m traces\u001b[38;5;241m=\u001b[39m\u001b[43mspectra\u001b[49m\u001b[38;5;241m.\u001b[39mTrace(\u001b[38;5;124m'\u001b[39m\u001b[38;5;124mARCES/ARCES_traces.fits\u001b[39m\u001b[38;5;124m'\u001b[39m)\n\u001b[1;32m      2\u001b[0m \u001b[38;5;66;03m#vars(traces)\u001b[39;00m\n",
      "\u001b[0;31mNameError\u001b[0m: name 'spectra' is not defined"
     ]
    }
   ],
   "source": [
    "traces=spectra.Trace('ARCES/ARCES_traces.fits')\n",
    "#vars(traces)"
   ]
  },
  {
   "cell_type": "markdown",
   "metadata": {},
   "source": [
    "We can retrace a current frame using the initial guess. This is done by cross correlating a cross-section across traces with the reference frame, and using the shifted locations as a starting guess for the traces.\n",
    "<p>\n",
    "With the display= keyword, we will see the traces that it determined. Points are the centroids, and the line is the polynomial fit that defines the trace.\n",
    "<p>\n",
    "If you wanted to use a set of existing traces, but allow for a shift, the find() method will determine the shift, but not retrace."
   ]
  },
  {
   "cell_type": "code",
   "execution_count": 11,
   "metadata": {},
   "outputs": [
    {
     "name": "stdout",
     "output_type": "stream",
     "text": [
      "  Derived pixel shift from input trace:  0.0450065159434\n",
      "  Tracing row: 301\r"
     ]
    },
    {
     "name": "stderr",
     "output_type": "stream",
     "text": [
      "/home/holtz/git/pyvista/python/pyvista/spectra.py:1202: RuntimeWarning: invalid value encountered in divide\n",
      "  gd = np.where((~ymask) & (ysum/np.sqrt(yvar)>thresh) )[0]\n",
      "/home/holtz/git/pyvista/python/pyvista/spectra.py:1207: RuntimeWarning: invalid value encountered in divide\n",
      "  gd = np.where((~ymask) & (ysum/np.sqrt(yvar)>thresh) & (np.abs(res)<rad))[0]\n"
     ]
    },
    {
     "name": "stdout",
     "output_type": "stream",
     "text": [
      "  Tracing row: 1574\n",
      "  See trace. Hit space bar to continue....\n"
     ]
    }
   ],
   "source": [
    "traces.retrace(flat,display=t)"
   ]
  },
  {
   "cell_type": "code",
   "execution_count": 1,
   "metadata": {},
   "outputs": [],
   "source": [
    "# You can see all of the attributes associated with trace object if you want\n",
    "#vars(traces)"
   ]
  },
  {
   "cell_type": "markdown",
   "metadata": {},
   "source": [
    "Sum up the arc lamp exposures, get the shift for the existing traces (but don't retrace, since we don't have a continuum), and extract. Note that if you have a multiprocessor machine, you can specify number of threads to use for the extraction, which will speed things up (but the default threads=0 isn't too terrible).\n",
    "<p>\n",
    "With the display= keyword, you will see the cross-correlation for find(), and will see the extraction windows for extract(); green lines show the traces, and blue and purple outline the extent of the extraction windows."
   ]
  },
  {
   "cell_type": "code",
   "execution_count": 13,
   "metadata": {},
   "outputs": [],
   "source": [
    "traces.lags=range(-7,7)"
   ]
  },
  {
   "cell_type": "code",
   "execution_count": 14,
   "metadata": {},
   "outputs": [
    {
     "name": "stdout",
     "output_type": "stream",
     "text": [
      "  Reading file: /home/holtz/red/UT211031/echelle/ThAr.0001.fits\n",
      "  subtracting overscan:  1287.78\n",
      "  Iteration 0, zapping CRs with filter [5,1]...\n",
      "INFO: array provided for uncertainty; assuming it is a StdDevUncertainty. [astropy.nddata.ccddata]\n",
      "  Reading file: /home/holtz/red/UT211031/echelle/ThAr.0002.fits\n",
      "  subtracting overscan:  1287.78\n",
      "  Iteration 0, zapping CRs with filter [5,1]...\n",
      "INFO: array provided for uncertainty; assuming it is a StdDevUncertainty. [astropy.nddata.ccddata]\n",
      "  Reading file: /home/holtz/red/UT211031/echelle/ThAr.0003.fits\n",
      "  subtracting overscan:  1287.61\n",
      "  Iteration 0, zapping CRs with filter [5,1]...\n",
      "INFO: array provided for uncertainty; assuming it is a StdDevUncertainty. [astropy.nddata.ccddata]\n",
      "  Reading file: /home/holtz/red/UT211031/echelle/ThAr.0004.fits\n",
      "  subtracting overscan:  1287.77\n",
      "  Iteration 0, zapping CRs with filter [5,1]...\n",
      "INFO: array provided for uncertainty; assuming it is a StdDevUncertainty. [astropy.nddata.ccddata]\n",
      "  combining data with sum....\n",
      "  calculating uncertainty....\n",
      "  Derived pixel shift from input trace:  0.0853501190359\n",
      "  See spectra and cross-correlation.\n",
      "  Hit any key in display window to continue....\n",
      "  extracting ... \n",
      "  See extraction window(s). Hit space bar to continue....\n",
      "\n"
     ]
    }
   ],
   "source": [
    "arc=red.sum([1,2,3,4],crbox=[5,1])\n",
    "traces.find(arc,display=t)\n",
    "arcec=traces.extract(arc,display=t,threads=0)"
   ]
  },
  {
   "cell_type": "markdown",
   "metadata": {},
   "source": [
    "Do line identification based on previously identified lines, and wavelength fit. This is achieved by instantiated a WaveCal object using a previously determined object for ARCES. This saves positions and identifications of lines and, when instantiated, does an initial fit."
   ]
  },
  {
   "cell_type": "code",
   "execution_count": 40,
   "metadata": {},
   "outputs": [
    {
     "name": "stdout",
     "output_type": "stream",
     "text": [
      "  rms:    0.008\n",
      "rejecting 21 points from 2025 total: \n",
      "  rms:    0.008\n",
      "rejecting 21 points from 2025 total: \n"
     ]
    },
    {
     "data": {
      "text/plain": [
       "{'type': 'chebyshev2D',\n",
       " 'degree': 5,\n",
       " 'ydegree': 3,\n",
       " 'waves': array([ 10133.5662,   9826.4492,   9833.4229, ...,   3559.5081,\n",
       "          3561.0305,   3561.0304], dtype='>f8'),\n",
       " 'waves_order': array([ 56,  57,  57, ..., 160, 160, 160], dtype='>i8'),\n",
       " 'orders': array([ 54,  55,  56,  57,  58,  59,  60,  61,  62,  63,  64,  65,  66,\n",
       "         67,  68,  69,  70,  71,  72,  73,  74,  75,  76,  77,  78,  79,\n",
       "         80,  81,  82,  83,  84,  85,  86,  87,  88,  89,  90,  91,  92,\n",
       "         93,  94,  95,  96,  97,  98,  99, 100, 101, 102, 103, 104, 105,\n",
       "        106, 107, 108, 109, 110, 111, 112, 113, 114, 115, 116, 117, 118,\n",
       "        119, 120, 121, 122, 123, 124, 125, 126, 127, 128, 129, 130, 131,\n",
       "        132, 133, 134, 135, 136, 137, 138, 139, 140, 141, 142, 143, 144,\n",
       "        145, 146, 147, 148, 149, 150, 151, 152, 153, 154, 155, 156, 157,\n",
       "        158, 159, 160], dtype='>i8'),\n",
       " 'index': array([0], dtype='>i8'),\n",
       " 'pix0': array([-23.251822], dtype='>f8'),\n",
       " 'pix': array([  956.28689355,  1930.71406018,  1879.82268866, ...,   688.73459401,\n",
       "          654.62665039,   654.62665039], dtype='>f8'),\n",
       " 'y': array([  2,   3,   3, ..., 106, 106, 106], dtype='>i8'),\n",
       " 'spectrum': array([[  9.35411254,  16.58959961,  20.29556614, ...,   9.79765125,\n",
       "          27.82311936,  11.86329874],\n",
       "        [  3.26005353,  11.02223159,  21.54463546, ...,  32.36718175,\n",
       "          21.76649047,  17.83224184],\n",
       "        [  1.83673875,  16.13792876,  11.17012371, ...,  24.24192918,\n",
       "          13.36422468,  31.61223091],\n",
       "        ..., \n",
       "        [ 18.63520473,  15.99316041,  17.82948252, ...,  28.23815215,\n",
       "          29.44915996,  29.24873546],\n",
       "        [ 23.32561413,   5.01042786,  12.43470671, ...,  26.08284838,\n",
       "          37.82692694,  24.1378313 ],\n",
       "        [  9.34670489,  -5.18842088,  13.40936099, ...,  34.7413388 ,\n",
       "          17.12883483,  21.51503787]], dtype='>f8'),\n",
       " 'weights': array([ 1.,  1.,  1., ...,  1.,  1.,  1.], dtype='>f8'),\n",
       " 'apers': None,\n",
       " 'coeff': None,\n",
       " 'model': <Chebyshev2D(5, 3, c0_0=567149.1296973722, c1_0=-7415.7642741981845, c2_0=-135.43597351464868, c3_0=-3.936231504786707, c4_0=1.088737647799628, c5_0=-0.5041639215192933, c0_1=57.072017856587905, c1_1=3.9825615389833207, c2_1=2.136566887488897, c3_1=-1.8091087060937743, c4_1=1.0346836831799642, c5_1=-0.5444158007465967, c0_2=6.615264430729169, c1_2=0.7644287879390779, c2_2=0.5810167754930017, c3_2=0.6131640011868097, c4_2=0.13050442448365943, c5_2=0.07840986185023689, c0_3=1.557131550737744, c1_3=0.6350679100616075, c2_3=0.6028908389085122, c3_3=0.5529332343038611, c4_3=0.08661697950868975, c5_3=0.0947441307190178, x_domain=(0, 2026), y_domain=(0, 107))>,\n",
       " 'ax': None}"
      ]
     },
     "execution_count": 40,
     "metadata": {},
     "output_type": "execute_result"
    }
   ],
   "source": [
    "wav=spectra.WaveCal('ARCES/ARCES_wave.fits')\n",
    "vars(wav)"
   ]
  },
  {
   "cell_type": "markdown",
   "metadata": {},
   "source": [
    "The identify() method now uses the previous solution to identify lines on a new wavelength calibration image; this is done by first cross-correlting the image with an image saved in the WaveCal object. With plot=True, it will allow you to remove lines that are poorly fit."
   ]
  },
  {
   "cell_type": "code",
   "execution_count": 27,
   "metadata": {},
   "outputs": [],
   "source": [
    "t.clear()\n",
    "t.tv(wav.spectrum)\n",
    "t.tv(arcec)\n"
   ]
  },
  {
   "cell_type": "code",
   "execution_count": 41,
   "metadata": {},
   "outputs": [
    {
     "name": "stdout",
     "output_type": "stream",
     "text": [
      "  cross correlating with reference spectrum using lags between:  -300 299\n",
      "  Derived pixel shift from input wcal:  [ -4.95577979e-08]\n",
      "  See spectrum and template spectrum (top), cross correlation(bottom) Figure(1200x850)\n",
      "  See identified lines.\n",
      "  rms:    0.021\n",
      "rejecting 15 points from 2013 total: \n",
      "  rms:    0.007\n",
      "rejecting 16 points from 2013 total: \n",
      "  rms:    0.007\n",
      "rejecting 16 points from 2013 total: \n",
      "  See 2D wavecal fit. Enter space in plot window to continue\n",
      "\n"
     ]
    }
   ],
   "source": [
    "wav.identify(spectrum=arcec,rad=3,display=t,plot=True,plotinter=plotinter)"
   ]
  },
  {
   "cell_type": "code",
   "execution_count": 42,
   "metadata": {},
   "outputs": [
    {
     "data": {
      "text/html": [
       "<div><i>Table length=1</i>\n",
       "<table id=\"table47988598471648\" class=\"table-striped table-bordered table-condensed\">\n",
       "<thead><tr><th>type</th><th>degree</th><th>ydegree</th><th>waves</th><th>waves_order</th><th>orders</th><th>index</th><th>pix0</th><th>pix</th><th>y</th><th>weights</th><th>spectrum</th></tr></thead>\n",
       "<thead><tr><th>str11</th><th>int64</th><th>int64</th><th>float64[2013]</th><th>int64[2013]</th><th>int64[107]</th><th>int64[1]</th><th>float64[1]</th><th>float64[2013]</th><th>int64[2013]</th><th>float64[2013]</th><th>float64[107,2026]</th></tr></thead>\n",
       "<tr><td>chebyshev2D</td><td>5</td><td>3</td><td>10133.5662 .. 3561.0304</td><td>56 .. 160</td><td>54 .. 160</td><td>0</td><td>-23.2518220532</td><td>956.286893547 .. 654.626650395</td><td>2 .. 106</td><td>1.0 .. 1.0</td><td>9.35411254132 .. 21.5150378706</td></tr>\n",
       "</table></div>"
      ],
      "text/plain": [
       "<Table length=1>\n",
       "    type    degree ydegree ...      y         weights               spectrum           \n",
       "   str11    int64   int64  ... int64[2013] float64[2013]       float64[107,2026]       \n",
       "----------- ------ ------- ... ----------- ------------- ------------------------------\n",
       "chebyshev2D      5       3 ...    2 .. 106    1.0 .. 1.0 9.35411254132 .. 21.5150378706"
      ]
     },
     "execution_count": 42,
     "metadata": {},
     "output_type": "execute_result"
    }
   ],
   "source": [
    "wav.write('mywave.fits')"
   ]
  },
  {
   "cell_type": "markdown",
   "metadata": {},
   "source": [
    "Now reduce an image"
   ]
  },
  {
   "cell_type": "code",
   "execution_count": 43,
   "metadata": {},
   "outputs": [
    {
     "name": "stdout",
     "output_type": "stream",
     "text": [
      "  Reading file: /home/holtz/red/UT211031/echelle/HIP_9598.0026.fits\n",
      "  subtracting overscan:  1290.08\n",
      "  estimating scattered light ...\n",
      "    fitting surface ...\n",
      "    rejecting points ...\n",
      "    refitting surface ...\n",
      "INFO: array provided for uncertainty; assuming it is a StdDevUncertainty. [astropy.nddata.ccddata]\n"
     ]
    }
   ],
   "source": [
    "im=red.reduce(26,scat=red.scat,display=None)"
   ]
  },
  {
   "cell_type": "code",
   "execution_count": 44,
   "metadata": {},
   "outputs": [],
   "source": [
    "if t is not None :\n",
    "    t=tv.TV()\n",
    "    t.tv(im)"
   ]
  },
  {
   "cell_type": "markdown",
   "metadata": {},
   "source": [
    "Retraces of orders using previous as starting guess, and extract. Alternatively, if object is too faint to trace, or traces are sufficiently stable, you could use a single call to find(), which will d using the shifted stored model for the traces."
   ]
  },
  {
   "cell_type": "code",
   "execution_count": 46,
   "metadata": {},
   "outputs": [
    {
     "name": "stdout",
     "output_type": "stream",
     "text": [
      "  Derived pixel shift from input trace:  0.540752432367\n",
      "  Tracing row: 302\r"
     ]
    },
    {
     "name": "stderr",
     "output_type": "stream",
     "text": [
      "/home/holtz/git/pyvista/python/pyvista/spectra.py:1202: RuntimeWarning: invalid value encountered in divide\n",
      "  gd = np.where((~ymask) & (ysum/np.sqrt(yvar)>thresh) )[0]\n",
      "/home/holtz/git/pyvista/python/pyvista/spectra.py:1207: RuntimeWarning: invalid value encountered in divide\n",
      "  gd = np.where((~ymask) & (ysum/np.sqrt(yvar)>thresh) & (np.abs(res)<rad))[0]\n"
     ]
    },
    {
     "name": "stdout",
     "output_type": "stream",
     "text": [
      "  failed trace for row: 104 9 2026\n",
      "  failed trace for row: 105 4 2026\n",
      "  failed trace for row: 106 1 2026\n",
      "\n",
      "  See trace. Hit space bar to continue....\n",
      "  extracting ... \n",
      "  See extraction window(s). Hit space bar to continue....\n",
      "\n"
     ]
    }
   ],
   "source": [
    "traces.retrace(im,display=t)\n",
    "imec=traces.extract(im,display=t)"
   ]
  },
  {
   "cell_type": "code",
   "execution_count": 47,
   "metadata": {},
   "outputs": [],
   "source": [
    "if t is not None :\n",
    "    t.clear()\n",
    "    t.tv(im)\n",
    "    t.tv(imec)"
   ]
  },
  {
   "cell_type": "markdown",
   "metadata": {},
   "source": [
    "Add the wavelengths for all pixels from the wavelength solution and plot extracted spectra."
   ]
  },
  {
   "cell_type": "code",
   "execution_count": 48,
   "metadata": {
    "scrolled": true
   },
   "outputs": [
    {
     "data": {
      "text/plain": [
       "(0.0, 67999.59650995678)"
      ]
     },
     "execution_count": 48,
     "metadata": {},
     "output_type": "execute_result"
    }
   ],
   "source": [
    "wav.add_wave(imec)\n",
    "plt.figure(figsize=(12,4))\n",
    "for row in range(len(imec.wave)) :\n",
    "    plt.plot(imec.wave[row],imec.data[row])\n",
    "from scipy.ndimage import median_filter\n",
    "plt.ylim(0,median_filter(imec.data,[1,25]).max()*1.5)"
   ]
  },
  {
   "cell_type": "markdown",
   "metadata": {},
   "source": [
    "Now create 1D flat field. 2D flat fielding would be better, but poses challenges with ARCES because the traces move, and there's no way to illuminate all pixels."
   ]
  },
  {
   "cell_type": "code",
   "execution_count": 52,
   "metadata": {},
   "outputs": [
    {
     "name": "stdout",
     "output_type": "stream",
     "text": [
      "  Derived pixel shift from input trace:  -0.288503716055\n",
      "  Tracing row: 1521\n",
      "  extracting ... \n",
      "  See extraction window(s). Hit space bar to continue....\n",
      "\n"
     ]
    }
   ],
   "source": [
    "flat=red.trim(flat,trimimage=True)\n",
    "traces.retrace(flat)\n",
    "flat1d=traces.extract(flat,display=t)\n",
    "if t is not None :\n",
    "    t.tv(flat1d)"
   ]
  },
  {
   "cell_type": "code",
   "execution_count": 53,
   "metadata": {},
   "outputs": [],
   "source": [
    "if t is not None :\n",
    "    t.tv(imec)"
   ]
  },
  {
   "cell_type": "markdown",
   "metadata": {},
   "source": [
    "<h3> Combining orders </h3>\n",
    "\n",
    "Resample onto logarithmic wavelength grid and combine orders"
   ]
  },
  {
   "cell_type": "code",
   "execution_count": 54,
   "metadata": {},
   "outputs": [],
   "source": [
    "wnew=10**np.arange(3.5,4.0,5.5e-6)\n",
    "starcomb=wav.scomb(imec,wnew,average=False,usemask=True)\n",
    "flatcomb=wav.scomb(flat1d,wnew,average=False,usemask=True)"
   ]
  },
  {
   "cell_type": "markdown",
   "metadata": {},
   "source": [
    "First, we sum the orders of the object, sum the orders of the 1d flat, and divide the two. Compare this with just summing the orders without flat fielding."
   ]
  },
  {
   "cell_type": "code",
   "execution_count": 55,
   "metadata": {
    "scrolled": true
   },
   "outputs": [
    {
     "name": "stderr",
     "output_type": "stream",
     "text": [
      "/tmp/ipykernel_45386/2071204533.py:9: RuntimeWarning: invalid value encountered in divide\n",
      "  data=starcomb.data/flatcomb.data\n"
     ]
    },
    {
     "data": {
      "text/plain": [
       "(0.0, 1.5)"
      ]
     },
     "execution_count": 55,
     "metadata": {},
     "output_type": "execute_result"
    }
   ],
   "source": [
    "plt.figure(figsize=(12,4))\n",
    "data=starcomb.data\n",
    "plt.plot(wnew,data/np.nanmax(median_filter(data[20000:50000],[500])))\n",
    "#flatcomb.data /= median_filter(flatcomb.data,[5000])\n",
    "\n",
    "data=flatcomb.data\n",
    "plt.plot(wnew,data/np.nanmax(median_filter(data[20000:50000],[500])))\n",
    "\n",
    "data=starcomb.data/flatcomb.data\n",
    "plt.plot(wnew,data/np.nanmax(median_filter(data[20000:50000],[500])))\n",
    "\n",
    "plt.ylim(0,1.5)\n"
   ]
  },
  {
   "cell_type": "markdown",
   "metadata": {},
   "source": [
    "Here we flat field the individual orders, and combine them with a weighted mean."
   ]
  },
  {
   "cell_type": "code",
   "execution_count": 56,
   "metadata": {},
   "outputs": [],
   "source": [
    "import copy\n",
    "test=copy.deepcopy(imec)\n",
    "test.data /= flat1d.data\n",
    "test.uncertainty.array /= flat1d.data"
   ]
  },
  {
   "cell_type": "code",
   "execution_count": 57,
   "metadata": {
    "scrolled": true
   },
   "outputs": [
    {
     "name": "stderr",
     "output_type": "stream",
     "text": [
      "/home/holtz/git/pyvista/python/pyvista/spectra.py:830: RuntimeWarning: invalid value encountered in divide\n",
      "  out = out / sig\n",
      "/home/holtz/git/pyvista/python/pyvista/spectra.py:831: RuntimeWarning: divide by zero encountered in divide\n",
      "  sig = np.sqrt(1./sig)\n",
      "/tmp/ipykernel_45386/2501392411.py:7: RuntimeWarning: invalid value encountered in divide\n",
      "  data=starcomb.data/flatcomb.data\n"
     ]
    },
    {
     "data": {
      "text/plain": [
       "(0.0, 1.5)"
      ]
     },
     "execution_count": 57,
     "metadata": {},
     "output_type": "execute_result"
    }
   ],
   "source": [
    "starflatcomb=wav.scomb(test,wnew,average=True,usemask=True)\n",
    "\n",
    "# raw / flat averaged\n",
    "plt.figure(figsize=(12,4))\n",
    "data=starflatcomb.data\n",
    "plt.plot(wnew,data/(np.nanmax(median_filter(data[20000:50000],[500]))))\n",
    "data=starcomb.data/flatcomb.data\n",
    "plt.plot(wnew,data/np.nanmax(median_filter(data[20000:50000],[500])))\n",
    "plt.ylim(0,1.5)"
   ]
  },
  {
   "cell_type": "code",
   "execution_count": 58,
   "metadata": {},
   "outputs": [
    {
     "data": {
      "text/plain": [
       "[<matplotlib.lines.Line2D at 0x2ba5363af490>]"
      ]
     },
     "execution_count": 58,
     "metadata": {},
     "output_type": "execute_result"
    }
   ],
   "source": [
    "plt.figure(figsize=(12,4))\n",
    "plt.plot(wnew,data/median_filter(data,[2000]))"
   ]
  }
 ],
 "metadata": {
  "kernelspec": {
   "display_name": "Python 3 (ipykernel)",
   "language": "python",
   "name": "python3"
  },
  "language_info": {
   "codemirror_mode": {
    "name": "ipython",
    "version": 3
   },
   "file_extension": ".py",
   "mimetype": "text/x-python",
   "name": "python",
   "nbconvert_exporter": "python",
   "pygments_lexer": "ipython3",
   "version": "3.12.4"
  }
 },
 "nbformat": 4,
 "nbformat_minor": 4
}
