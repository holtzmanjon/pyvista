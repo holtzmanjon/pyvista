{
 "cells": [
  {
   "cell_type": "markdown",
   "metadata": {},
   "source": [
    "<h2> Spectroscopic data reduction : spectra module"
   ]
  },
  {
   "cell_type": "markdown",
   "metadata": {},
   "source": [
    "<h3> DIS demo"
   ]
  },
  {
   "cell_type": "markdown",
   "metadata": {},
   "source": [
    "DIS notebook provides an opportunity to show how instruments with multiple \n",
    "channels might be handled. This notebook may not be as fully developed, \n",
    "e.g. as the KOSMOS notebook, but should provide some useful examples."
   ]
  },
  {
   "cell_type": "code",
   "execution_count": 1,
   "metadata": {},
   "outputs": [],
   "source": [
    "from pyvista import imred, tv, spectra\n",
    "import numpy as np\n",
    "import matplotlib.pyplot as plt\n",
    "import os"
   ]
  },
  {
   "cell_type": "markdown",
   "metadata": {},
   "source": [
    "pyvista uses a display tool defined in the tv module. To use the interactive\n",
    "display in a notebook, set the display to be an external display window, e.g. with \n",
    "<code>\n",
    "%matplotlib qt\n",
    "</code>\n",
    "Instantiate a tv object, here we just call it t, but you could call it whatever you want!"
   ]
  },
  {
   "cell_type": "code",
   "execution_count": 2,
   "metadata": {},
   "outputs": [],
   "source": [
    "#Use these lines if you are running the notebook yourself. Matplotlib\n",
    "# window will open outside the notebook, which is the desired behavior so\n",
    "# you can have a single display tool, which you should leave open. Other\n",
    "# plot windows will also appear outside the notebook, which you can close\n",
    "# as desired\n",
    "%matplotlib qt\n",
    "t=tv.TV()\n",
    "plotinter=True\n",
    "\n",
    "# following lines only for fully non-interactive demo of notebook\n",
    "#%matplotlib inline\n",
    "#plotinter=False    # normally want this to be True!\n",
    "#t=None\n"
   ]
  },
  {
   "cell_type": "markdown",
   "metadata": {},
   "source": [
    "The basic tool for basic image reduction is a Reducer object, defined in the imred module. Instantiate a reducer here. The main argument is an instrument name, which tells it to read a YAML configuration file for the specified instrument. We also give it an optional dir= argument to specify the default directory from which to read images, if a directory is not specified in subsequent commands that read images."
   ]
  },
  {
   "cell_type": "code",
   "execution_count": 3,
   "metadata": {},
   "outputs": [
    {
     "name": "stdout",
     "output_type": "stream",
     "text": [
      "INSTRUMENT: DIS   config: \n",
      "  will use format:  /home/holtz/red/UT191019/DIS/*{:04d}b.f*.fits*\n",
      "  will use format:  /home/holtz/red/UT191019/DIS/*{:04d}r.f*.fits*\n",
      "         gain:  [1.68, 1.88]    rn: [ 4.9  4.6]\n",
      "         scale:  None   \n",
      "  Biastype : 0\n",
      "  Bias box: \n",
      "    SC    NC    SR    NR\n",
      "  2050    47     0  1024 \n",
      "    SC    NC    SR    NR\n",
      "  2050    47     0  1024 \n",
      "  Trim box: \n",
      "    SC    NC    SR    NR\n",
      "     0  2048     0  1024 \n",
      "    SC    NC    SR    NR\n",
      "     0  2048     0  1024 \n",
      "  Norm box: \n",
      "    SC    NC    SR    NR\n",
      "  1000    51   500   101 \n",
      "    SC    NC    SR    NR\n",
      "  1000    51   500   101 \n"
     ]
    }
   ],
   "source": [
    "red=imred.Reducer('DIS',dir='/home/holtz/red/UT191019/DIS')\n",
    "red.dir='/home/astrobackup3/antares/holtz/raw/apo/oct19/UT191019/DIS'"
   ]
  },
  {
   "cell_type": "markdown",
   "metadata": {},
   "source": [
    "A main method of the reducer object is the reduce() method. Without any additional arguments, reduce() will read an image from disk, subtract the overscan (region(s) as determined from the instrument configuration file), compute an uncertainty array using the gain and readout noise from the instrument configuration file, and return a CCDData object with the data, uncertainty, and mask. \n",
    "<p>\n",
    "To specify the input image, we could pass a string with the file name. If the string does not include a '/', it will read from the default input directory.\n",
    "<p>\n",
    "If the file can be identified with a unique integer, then you can just specify this number, which can be very convenient. This is turned into a character string using the formstr attribute define in the configuration file, which is used to search for the file to read.\n",
    "<p>\n",
    "We can display the image using the tv() method of our display tool, which can take as input a Data object, and numpy array, or a FITS HDU object."
   ]
  },
  {
   "cell_type": "code",
   "execution_count": 4,
   "metadata": {},
   "outputs": [
    {
     "data": {
      "text/html": [
       "<i>Table length=68</i>\n",
       "<table id=\"table47702435816496-244069\" class=\"table-striped table-bordered table-condensed\">\n",
       "<thead><tr><th>idx</th><th>FILE</th><th>DATE-OBS</th><th>OBJNAME</th><th>RA</th><th>DEC</th><th>EXPTIME</th></tr></thead>\n",
       "<tr><td>0</td><td>He.0001b.fits</td><td>2019-10-19T00:21:15.084</td><td></td><td>6:56:00.00</td><td>12:00:00.00</td><td>60.0</td></tr>\n",
       "<tr><td>1</td><td>He.0001r.fits</td><td>2019-10-19T00:21:15.084</td><td></td><td>6:56:00.00</td><td>12:00:00.00</td><td>60.0</td></tr>\n",
       "<tr><td>2</td><td>Ne.0002b.fits</td><td>2019-10-19T00:23:01.758</td><td></td><td>6:56:00.00</td><td>12:00:00.00</td><td>30.0</td></tr>\n",
       "<tr><td>3</td><td>Ne.0002r.fits</td><td>2019-10-19T00:23:01.758</td><td></td><td>6:56:00.00</td><td>12:00:00.00</td><td>30.0</td></tr>\n",
       "<tr><td>4</td><td>Ar.0003b.fits</td><td>2019-10-19T00:24:18.389</td><td></td><td>6:56:00.00</td><td>12:00:00.00</td><td>180.0</td></tr>\n",
       "<tr><td>5</td><td>Ar.0003r.fits</td><td>2019-10-19T00:24:18.389</td><td></td><td>6:56:00.00</td><td>12:00:00.00</td><td>180.0</td></tr>\n",
       "<tr><td>6</td><td>BrQrtz.0004r.fits</td><td>2019-10-19T00:28:05.771</td><td></td><td>6:56:00.00</td><td>12:00:00.00</td><td>120.0</td></tr>\n",
       "<tr><td>7</td><td>BrQrtz.0004b.fits</td><td>2019-10-19T00:28:05.771</td><td></td><td>6:56:00.00</td><td>12:00:00.00</td><td>120.0</td></tr>\n",
       "<tr><td>8</td><td>BrQrtz.0005r.fits</td><td>2019-10-19T00:30:49.900</td><td></td><td>6:56:00.00</td><td>12:00:00.00</td><td>120.0</td></tr>\n",
       "<tr><td>9</td><td>BrQrtz.0005b.fits</td><td>2019-10-19T00:30:49.900</td><td></td><td>6:56:00.00</td><td>12:00:00.00</td><td>120.0</td></tr>\n",
       "<tr><td>10</td><td>BrQrtz.0006r.fits</td><td>2019-10-19T00:33:33.922</td><td></td><td>6:56:00.00</td><td>12:00:00.00</td><td>120.0</td></tr>\n",
       "<tr><td>11</td><td>BrQrtz.0006b.fits</td><td>2019-10-19T00:33:33.922</td><td></td><td>6:56:00.00</td><td>12:00:00.00</td><td>120.0</td></tr>\n",
       "<tr><td>12</td><td>BrQrtz.0007b.fits</td><td>2019-10-19T00:36:17.956</td><td></td><td>6:56:00.00</td><td>12:00:00.00</td><td>10.79</td></tr>\n",
       "<tr><td>13</td><td>BrQrtz.0007r.fits</td><td>2019-10-19T00:36:17.956</td><td></td><td>6:56:00.00</td><td>12:00:00.00</td><td>10.79</td></tr>\n",
       "<tr><td>14</td><td>BrQrtz.0008r.fits</td><td>2019-10-19T00:37:34.806</td><td></td><td>6:56:00.00</td><td>12:00:00.00</td><td>60.0</td></tr>\n",
       "<tr><td>15</td><td>BrQrtz.0008b.fits</td><td>2019-10-19T00:37:34.806</td><td></td><td>6:56:00.00</td><td>12:00:00.00</td><td>60.0</td></tr>\n",
       "<tr><td>16</td><td>BrQrtz.0009r.fits</td><td>2019-10-19T00:39:18.882</td><td></td><td>6:56:00.00</td><td>12:00:00.00</td><td>60.0</td></tr>\n",
       "<tr><td>17</td><td>BrQrtz.0009b.fits</td><td>2019-10-19T00:39:18.882</td><td></td><td>6:56:00.00</td><td>12:00:00.00</td><td>60.0</td></tr>\n",
       "<tr><td>18</td><td>BrQrtz.0010b.fits</td><td>2019-10-19T00:41:03.067</td><td></td><td>6:56:00.00</td><td>12:00:00.00</td><td>60.0</td></tr>\n",
       "<tr><td>19</td><td>BrQrtz.0010r.fits</td><td>2019-10-19T00:41:03.067</td><td></td><td>6:56:00.00</td><td>12:00:00.00</td><td>60.0</td></tr>\n",
       "<tr><td>20</td><td>BrQrtz.0011r.fits</td><td>2019-10-19T00:42:47.094</td><td></td><td>6:56:00.00</td><td>12:00:00.00</td><td>60.0</td></tr>\n",
       "<tr><td>21</td><td>BrQrtz.0011b.fits</td><td>2019-10-19T00:42:47.094</td><td></td><td>6:56:00.00</td><td>12:00:00.00</td><td>60.0</td></tr>\n",
       "<tr><td>22</td><td>BrQrtz.0012b.fits</td><td>2019-10-19T00:44:31.186</td><td></td><td>6:56:00.00</td><td>12:00:00.00</td><td>60.0</td></tr>\n",
       "<tr><td>23</td><td>BrQrtz.0012r.fits</td><td>2019-10-19T00:44:31.186</td><td></td><td>6:56:00.00</td><td>12:00:00.00</td><td>60.0</td></tr>\n",
       "<tr><td>24</td><td>Bias.0013r.fits</td><td>2019-10-19T00:47:45.826</td><td></td><td>6:56:00.00</td><td>12:00:00.00</td><td>0.0</td></tr>\n",
       "<tr><td>25</td><td>Bias.0013b.fits</td><td>2019-10-19T00:47:45.826</td><td></td><td>6:56:00.00</td><td>12:00:00.00</td><td>0.0</td></tr>\n",
       "<tr><td>26</td><td>Bias.0014b.fits</td><td>2019-10-19T00:48:28.936</td><td></td><td>6:56:00.00</td><td>12:00:00.00</td><td>0.0</td></tr>\n",
       "<tr><td>27</td><td>Bias.0014r.fits</td><td>2019-10-19T00:48:28.936</td><td></td><td>6:56:00.00</td><td>12:00:00.00</td><td>0.0</td></tr>\n",
       "<tr><td>28</td><td>Bias.0015b.fits</td><td>2019-10-19T00:49:12.055</td><td></td><td>6:56:00.00</td><td>12:00:00.00</td><td>0.0</td></tr>\n",
       "<tr><td>29</td><td>Bias.0015r.fits</td><td>2019-10-19T00:49:12.055</td><td></td><td>6:56:00.00</td><td>12:00:00.00</td><td>0.0</td></tr>\n",
       "<tr><td>30</td><td>Bias.0016b.fits</td><td>2019-10-19T00:49:55.186</td><td></td><td>6:56:00.00</td><td>12:00:00.00</td><td>0.0</td></tr>\n",
       "<tr><td>31</td><td>Bias.0016r.fits</td><td>2019-10-19T00:49:55.186</td><td></td><td>6:56:00.00</td><td>12:00:00.00</td><td>0.0</td></tr>\n",
       "<tr><td>32</td><td>Bias.0017b.fits</td><td>2019-10-19T00:50:38.354</td><td></td><td>6:56:00.00</td><td>12:00:00.00</td><td>0.0</td></tr>\n",
       "<tr><td>33</td><td>Bias.0017r.fits</td><td>2019-10-19T00:50:38.354</td><td></td><td>6:56:00.00</td><td>12:00:00.00</td><td>0.0</td></tr>\n",
       "<tr><td>34</td><td>Bias.0018r.fits</td><td>2019-10-19T00:51:21.590</td><td></td><td>6:56:00.00</td><td>12:00:00.00</td><td>0.0</td></tr>\n",
       "<tr><td>35</td><td>Bias.0018b.fits</td><td>2019-10-19T00:51:21.590</td><td></td><td>6:56:00.00</td><td>12:00:00.00</td><td>0.0</td></tr>\n",
       "<tr><td>36</td><td>Bias.0019r.fits</td><td>2019-10-19T00:52:04.670</td><td></td><td>6:56:00.00</td><td>12:00:00.00</td><td>0.0</td></tr>\n",
       "<tr><td>37</td><td>Bias.0019b.fits</td><td>2019-10-19T00:52:04.670</td><td></td><td>6:56:00.00</td><td>12:00:00.00</td><td>0.0</td></tr>\n",
       "<tr><td>38</td><td>Bias.0020b.fits</td><td>2019-10-19T00:52:47.874</td><td></td><td>6:56:00.00</td><td>12:00:00.00</td><td>0.0</td></tr>\n",
       "<tr><td>39</td><td>Bias.0020r.fits</td><td>2019-10-19T00:52:47.874</td><td></td><td>6:56:00.00</td><td>12:00:00.00</td><td>0.0</td></tr>\n",
       "<tr><td>40</td><td>Bias.0021r.fits</td><td>2019-10-19T00:53:31.074</td><td></td><td>6:56:00.00</td><td>12:00:00.00</td><td>0.0</td></tr>\n",
       "<tr><td>41</td><td>Bias.0021b.fits</td><td>2019-10-19T00:53:31.074</td><td></td><td>6:56:00.00</td><td>12:00:00.00</td><td>0.0</td></tr>\n",
       "<tr><td>42</td><td>Bias.0022b.fits</td><td>2019-10-19T00:54:14.191</td><td></td><td>6:56:00.00</td><td>12:00:00.00</td><td>0.0</td></tr>\n",
       "<tr><td>43</td><td>Bias.0022r.fits</td><td>2019-10-19T00:54:14.191</td><td></td><td>6:56:00.00</td><td>12:00:00.00</td><td>0.0</td></tr>\n",
       "<tr><td>44</td><td>Ar.0023b.fits</td><td>2019-10-19T00:58:25.460</td><td></td><td>6:56:00.00</td><td>12:00:00.00</td><td>90.0</td></tr>\n",
       "<tr><td>45</td><td>Ar.0023r.fits</td><td>2019-10-19T00:58:25.460</td><td></td><td>6:56:00.00</td><td>12:00:00.00</td><td>90.0</td></tr>\n",
       "<tr><td>46</td><td>BD28d4211.0024r.fits</td><td>2019-10-19T01:29:49.630</td><td>BD+28d4211</td><td>21:51:11.07</td><td>28:51:51.80</td><td>60.0</td></tr>\n",
       "<tr><td>47</td><td>BD28d4211.0024b.fits</td><td>2019-10-19T01:29:49.630</td><td>BD+28d4211</td><td>21:51:11.07</td><td>28:51:51.80</td><td>60.0</td></tr>\n",
       "<tr><td>48</td><td>BD28d4211.0025b.fits</td><td>2019-10-19T01:32:23.312</td><td>BD+28d4211</td><td>21:51:11.07</td><td>28:51:51.80</td><td>180.0</td></tr>\n",
       "<tr><td>49</td><td>BD28d4211.0025r.fits</td><td>2019-10-19T01:32:23.312</td><td>BD+28d4211</td><td>21:51:11.07</td><td>28:51:51.80</td><td>180.0</td></tr>\n",
       "<tr><td>50</td><td>BD25d4655.0026r.fits</td><td>2019-10-19T01:37:24.197</td><td>BD+25d4655</td><td>21:59:42.02</td><td>26:25:58.10</td><td>60.0</td></tr>\n",
       "<tr><td>51</td><td>BD25d4655.0026b.fits</td><td>2019-10-19T01:37:24.197</td><td>BD+25d4655</td><td>21:59:42.02</td><td>26:25:58.10</td><td>60.0</td></tr>\n",
       "<tr><td>52</td><td>GB13.0027b.fits</td><td>2019-10-19T01:48:10.844</td><td>GB13_pa1</td><td>20:50:58.07</td><td>5:50:12.77</td><td>600.0</td></tr>\n",
       "<tr><td>53</td><td>GB13.0027r.fits</td><td>2019-10-19T01:48:10.844</td><td>GB13_pa1</td><td>20:50:58.07</td><td>5:50:12.77</td><td>600.0</td></tr>\n",
       "<tr><td>54</td><td>GB13.0028r.fits</td><td>2019-10-19T01:58:54.912</td><td>GB13_pa1</td><td>20:50:58.07</td><td>5:50:12.77</td><td>600.0</td></tr>\n",
       "<tr><td>55</td><td>GB13.0028b.fits</td><td>2019-10-19T01:58:54.912</td><td>GB13_pa1</td><td>20:50:58.07</td><td>5:50:12.77</td><td>600.0</td></tr>\n",
       "<tr><td>56</td><td>GB13.0029r.fits</td><td>2019-10-19T02:10:01.833</td><td>GB13_pa1</td><td>20:50:58.07</td><td>5:50:12.77</td><td>852.09</td></tr>\n",
       "<tr><td>57</td><td>GB13.0029b.fits</td><td>2019-10-19T02:10:01.833</td><td>GB13_pa1</td><td>20:50:58.07</td><td>5:50:12.77</td><td>852.09</td></tr>\n",
       "<tr><td>58</td><td>GB13.0030b.fits</td><td>2019-10-19T02:30:36.975</td><td>GB13_pa1</td><td>20:50:58.07</td><td>5:50:12.77</td><td>900.0</td></tr>\n",
       "<tr><td>59</td><td>GB13.0030r.fits</td><td>2019-10-19T02:30:36.975</td><td>GB13_pa1</td><td>20:50:58.07</td><td>5:50:12.77</td><td>900.0</td></tr>\n",
       "<tr><td>60</td><td>GB17.0031b.fits</td><td>2019-10-19T02:52:54.947</td><td>GB17_pa1</td><td>23:08:29.37</td><td>33:03:10.48</td><td>900.0</td></tr>\n",
       "<tr><td>61</td><td>GB17.0031r.fits</td><td>2019-10-19T02:52:54.947</td><td>GB17_pa1</td><td>23:08:29.37</td><td>33:03:10.48</td><td>900.0</td></tr>\n",
       "<tr><td>62</td><td>GB17.0032r.fits</td><td>2019-10-19T03:08:39.040</td><td>GB17_pa1</td><td>23:08:29.37</td><td>33:03:10.48</td><td>900.0</td></tr>\n",
       "<tr><td>63</td><td>GB17.0032b.fits</td><td>2019-10-19T03:08:39.040</td><td>GB17_pa1</td><td>23:08:29.37</td><td>33:03:10.48</td><td>900.0</td></tr>\n",
       "<tr><td>64</td><td>GB16.0033r.fits</td><td>2019-10-19T03:35:26.453</td><td>GB16</td><td>22:40:24.11</td><td>-9:27:48.06</td><td>900.0</td></tr>\n",
       "<tr><td>65</td><td>GB16.0033b.fits</td><td>2019-10-19T03:35:26.453</td><td>GB16</td><td>22:40:24.11</td><td>-9:27:48.06</td><td>900.0</td></tr>\n",
       "<tr><td>66</td><td>GB16.0034r.fits</td><td>2019-10-19T03:51:10.523</td><td>GB16</td><td>22:40:24.11</td><td>-9:27:48.06</td><td>813.81</td></tr>\n",
       "<tr><td>67</td><td>GB16.0034b.fits</td><td>2019-10-19T03:51:10.523</td><td>GB16</td><td>22:40:24.11</td><td>-9:27:48.06</td><td>813.81</td></tr>\n",
       "</table><style>table.dataTable {clear: both; width: auto !important; margin: 0 !important;}\n",
       ".dataTables_info, .dataTables_length, .dataTables_filter, .dataTables_paginate{\n",
       "display: inline-block; margin-right: 1em; }\n",
       ".paginate_button { margin-right: 5px; }\n",
       "</style>\n",
       "<script>\n",
       "\n",
       "var astropy_sort_num = function(a, b) {\n",
       "    var a_num = parseFloat(a);\n",
       "    var b_num = parseFloat(b);\n",
       "\n",
       "    if (isNaN(a_num) && isNaN(b_num))\n",
       "        return ((a < b) ? -1 : ((a > b) ? 1 : 0));\n",
       "    else if (!isNaN(a_num) && !isNaN(b_num))\n",
       "        return ((a_num < b_num) ? -1 : ((a_num > b_num) ? 1 : 0));\n",
       "    else\n",
       "        return isNaN(a_num) ? -1 : 1;\n",
       "}\n",
       "\n",
       "require.config({paths: {\n",
       "    datatables: 'https://cdn.datatables.net/1.10.12/js/jquery.dataTables.min'\n",
       "}});\n",
       "require([\"datatables\"], function(){\n",
       "    console.log(\"$('#table47702435816496-244069').dataTable()\");\n",
       "    \n",
       "jQuery.extend( jQuery.fn.dataTableExt.oSort, {\n",
       "    \"optionalnum-asc\": astropy_sort_num,\n",
       "    \"optionalnum-desc\": function (a,b) { return -astropy_sort_num(a, b); }\n",
       "});\n",
       "\n",
       "    $('#table47702435816496-244069').dataTable({\n",
       "        order: [],\n",
       "        pageLength: 10,\n",
       "        lengthMenu: [[10, 25, 50, 100, 500, 1000, -1], [10, 25, 50, 100, 500, 1000, 'All']],\n",
       "        pagingType: \"full_numbers\",\n",
       "        columnDefs: [{targets: [0], type: \"optionalnum\"}]\n",
       "    });\n",
       "});\n",
       "</script>\n"
      ],
      "text/plain": [
       "<IPython.core.display.HTML object>"
      ]
     },
     "execution_count": 4,
     "metadata": {},
     "output_type": "execute_result"
    }
   ],
   "source": [
    "red.log().show_in_notebook(display_length=10)"
   ]
  },
  {
   "cell_type": "markdown",
   "metadata": {},
   "source": [
    "Note that when we reduce an object, both channels are reduced, and\n",
    "the output is returned as a list of two pyvista Data objects."
   ]
  },
  {
   "cell_type": "code",
   "execution_count": 5,
   "metadata": {},
   "outputs": [
    {
     "name": "stdout",
     "output_type": "stream",
     "text": [
      "  Reading file: /home/astrobackup3/antares/holtz/raw/apo/oct19/UT191019/DIS/GB13.0028b.fits\n",
      "  Reading file: /home/astrobackup3/antares/holtz/raw/apo/oct19/UT191019/DIS/GB13.0028r.fits\n",
      "  subtracting overscan:  100.834\n",
      "  subtracting overscan:  123.016\n",
      "INFO: array provided for uncertainty; assuming it is a StdDevUncertainty. [astropy.nddata.ccddata]\n",
      "INFO: array provided for uncertainty; assuming it is a StdDevUncertainty. [astropy.nddata.ccddata]\n"
     ]
    }
   ],
   "source": [
    "a=red.reduce(28)\n",
    "\n",
    "if t is not None:\n",
    "    t.tv(a[0])"
   ]
  },
  {
   "cell_type": "code",
   "execution_count": 6,
   "metadata": {},
   "outputs": [
    {
     "name": "stdout",
     "output_type": "stream",
     "text": [
      "  Reading file: /home/astrobackup3/antares/holtz/raw/apo/oct19/UT191019/DIS/BD28d4211.0024b.fits\n",
      "  Reading file: /home/astrobackup3/antares/holtz/raw/apo/oct19/UT191019/DIS/BD28d4211.0024r.fits\n",
      "  subtracting overscan:  100.721\n",
      "  subtracting overscan:  121.353\n",
      "INFO: array provided for uncertainty; assuming it is a StdDevUncertainty. [astropy.nddata.ccddata]\n",
      "INFO: array provided for uncertainty; assuming it is a StdDevUncertainty. [astropy.nddata.ccddata]\n"
     ]
    }
   ],
   "source": [
    "star=red.reduce(24)\n",
    "if t is not None:\n",
    "    t.tv(star[0])\n",
    "    t.tv(star[1])"
   ]
  },
  {
   "cell_type": "markdown",
   "metadata": {},
   "source": [
    "<h4> Calibration: make and apply flat field"
   ]
  },
  {
   "cell_type": "markdown",
   "metadata": {},
   "source": [
    "If we add additional arguments to reduce(), we can add additional calibration steps. For example, to flat field the data, we would add a flat= keyword through which we give the reducer a flat field. To add a spatial bias subtraction, we would add a bias= keyword through which we give the reducer a superbias frame.\n",
    "<br>\n",
    "First, however, we have to make the calibration products, which is accomplished using the mkflat(), mkbias(), etc methods. These take as input a list of frames to be used to construct the master calibration frame (e.g.. superflat). "
   ]
  },
  {
   "cell_type": "markdown",
   "metadata": {},
   "source": [
    "Create biases and flats. Note that for flats, we have to do scattered light removal, which can be done on reduction of individual images, but since it is slow, we will do it on the combined flat. If we add the display= keyword, giving a display object, then the calibration frames will be displayed, showing each input frame relative to the master frame, so you can inspect and make sure that bad frames are not being included in the combination."
   ]
  },
  {
   "cell_type": "code",
   "execution_count": 7,
   "metadata": {},
   "outputs": [
    {
     "data": {
      "text/plain": [
       "{'dir': '/home/astrobackup3/antares/holtz/raw/apo/oct19/UT191019/DIS',\n",
       " 'root': '*',\n",
       " 'verbose': True,\n",
       " 'badpix': None,\n",
       " 'scat': None,\n",
       " 'bitmask': array([[1, 0, 0, ..., 0, 0, 0],\n",
       "        [1, 0, 0, ..., 0, 0, 0],\n",
       "        [1, 0, 0, ..., 0, 0, 0],\n",
       "        ..., \n",
       "        [1, 0, 0, ..., 0, 0, 0],\n",
       "        [1, 0, 0, ..., 0, 0, 0],\n",
       "        [1, 0, 0, ..., 0, 0, 0]], dtype='>i2'),\n",
       " 'transpose': False,\n",
       " 'scale': None,\n",
       " 'biastype': 0,\n",
       " 'biasbox': [<pyvista.image.BOX at 0x2b62967a9af0>,\n",
       "  <pyvista.image.BOX at 0x2b62967a99d0>],\n",
       " 'trimbox': [<pyvista.image.BOX at 0x2b62967a9250>,\n",
       "  <pyvista.image.BOX at 0x2b62967a9ca0>],\n",
       " 'normbox': [<pyvista.image.BOX at 0x2b62967a9d90>,\n",
       "  <pyvista.image.BOX at 0x2b62967a9670>],\n",
       " 'outbox': [<pyvista.image.BOX at 0x2b62967a9250>,\n",
       "  <pyvista.image.BOX at 0x2b62967a9ca0>],\n",
       " 'headerbox': None,\n",
       " 'ext': None,\n",
       " 'inst': 'DIS',\n",
       " 'channels': ['blue', 'red'],\n",
       " 'gain': [1.68, 1.88],\n",
       " 'rn': array([ 4.9,  4.6]),\n",
       " 'saturation': [4294967296, 4294967296],\n",
       " 'formstr': ['{:04d}b.f*', '{:04d}r.f*'],\n",
       " 'cols': None,\n",
       " 'crbox': [1, 11],\n",
       " 'namp': 1,\n",
       " 'biasavg': 11,\n",
       " 'biasregion': [<pyvista.image.BOX at 0x2b62967a9c10>,\n",
       "  <pyvista.image.BOX at 0x2b62967a9d00>],\n",
       " 'nchip': 2}"
      ]
     },
     "execution_count": 7,
     "metadata": {},
     "output_type": "execute_result"
    }
   ],
   "source": [
    "vars(red)"
   ]
  },
  {
   "cell_type": "code",
   "execution_count": 8,
   "metadata": {},
   "outputs": [
    {
     "name": "stdout",
     "output_type": "stream",
     "text": [
      "  Reading file: /home/astrobackup3/antares/holtz/raw/apo/oct19/UT191019/DIS/BrQrtz.0004b.fits\n",
      "  Reading file: /home/astrobackup3/antares/holtz/raw/apo/oct19/UT191019/DIS/BrQrtz.0004r.fits\n",
      "  subtracting overscan:  100.127\n",
      "  subtracting overscan:  161.93\n",
      "  Reading file: /home/astrobackup3/antares/holtz/raw/apo/oct19/UT191019/DIS/BrQrtz.0005b.fits\n",
      "  Reading file: /home/astrobackup3/antares/holtz/raw/apo/oct19/UT191019/DIS/BrQrtz.0005r.fits\n",
      "  subtracting overscan:  100.109\n",
      "  subtracting overscan:  160.464\n",
      "  Reading file: /home/astrobackup3/antares/holtz/raw/apo/oct19/UT191019/DIS/BrQrtz.0006b.fits\n",
      "  Reading file: /home/astrobackup3/antares/holtz/raw/apo/oct19/UT191019/DIS/BrQrtz.0006r.fits\n",
      "  subtracting overscan:  100.182\n",
      "  subtracting overscan:  159.742\n",
      "  Reading file: /home/astrobackup3/antares/holtz/raw/apo/oct19/UT191019/DIS/BrQrtz.0007b.fits\n",
      "  Reading file: /home/astrobackup3/antares/holtz/raw/apo/oct19/UT191019/DIS/BrQrtz.0007r.fits\n",
      "  subtracting overscan:  100.078\n",
      "  subtracting overscan:  120.519\n",
      "  Reading file: /home/astrobackup3/antares/holtz/raw/apo/oct19/UT191019/DIS/BrQrtz.0008b.fits\n",
      "  Reading file: /home/astrobackup3/antares/holtz/raw/apo/oct19/UT191019/DIS/BrQrtz.0008r.fits\n",
      "  subtracting overscan:  100.188\n",
      "  subtracting overscan:  120.813\n",
      "  Reading file: /home/astrobackup3/antares/holtz/raw/apo/oct19/UT191019/DIS/BrQrtz.0009b.fits\n",
      "  Reading file: /home/astrobackup3/antares/holtz/raw/apo/oct19/UT191019/DIS/BrQrtz.0009r.fits\n",
      "  subtracting overscan:  100.163\n",
      "  subtracting overscan:  120.81\n",
      "  Reading file: /home/astrobackup3/antares/holtz/raw/apo/oct19/UT191019/DIS/BrQrtz.0010b.fits\n",
      "  Reading file: /home/astrobackup3/antares/holtz/raw/apo/oct19/UT191019/DIS/BrQrtz.0010r.fits\n",
      "  subtracting overscan:  100.199\n",
      "  subtracting overscan:  120.828\n",
      "  Reading file: /home/astrobackup3/antares/holtz/raw/apo/oct19/UT191019/DIS/BrQrtz.0011b.fits\n",
      "  Reading file: /home/astrobackup3/antares/holtz/raw/apo/oct19/UT191019/DIS/BrQrtz.0011r.fits\n",
      "  subtracting overscan:  100.164\n",
      "  subtracting overscan:  120.814\n",
      "  combining data with median....\n",
      "  calculating uncertainty....\n",
      "  See final image, use - key for S/N image.\n",
      "   To continue, hit space in display window (p for debug) \n",
      "    see image: BrQrtz.0004b.fits divided by master\n",
      "   To continue, hit space in display window (p for debug) \n",
      "    see image: BrQrtz.0005b.fits divided by master\n",
      "   To continue, hit space in display window (p for debug) \n",
      "    see image: BrQrtz.0006b.fits divided by master\n",
      "   To continue, hit space in display window (p for debug) \n",
      "    see image: BrQrtz.0007b.fits divided by master\n",
      "   To continue, hit space in display window (p for debug) \n",
      "    see image: BrQrtz.0008b.fits divided by master\n",
      "   To continue, hit space in display window (p for debug) \n",
      "    see image: BrQrtz.0009b.fits divided by master\n",
      "   To continue, hit space in display window (p for debug) \n",
      "    see image: BrQrtz.0010b.fits divided by master\n",
      "   To continue, hit space in display window (p for debug) \n",
      "    see image: BrQrtz.0011b.fits divided by master\n",
      "   To continue, hit space in display window (p for debug) \n",
      "  combining data with median....\n",
      "  calculating uncertainty....\n",
      "  See final image, use - key for S/N image.\n",
      "   To continue, hit space in display window (p for debug) \n",
      "    see image: BrQrtz.0004r.fits divided by master\n",
      "   To continue, hit space in display window (p for debug) \n",
      "    see image: BrQrtz.0005r.fits divided by master\n",
      "   To continue, hit space in display window (p for debug) \n",
      "    see image: BrQrtz.0006r.fits divided by master\n",
      "   To continue, hit space in display window (p for debug) \n",
      "    see image: BrQrtz.0007r.fits divided by master\n",
      "   To continue, hit space in display window (p for debug) \n",
      "    see image: BrQrtz.0008r.fits divided by master\n",
      "   To continue, hit space in display window (p for debug) \n",
      "    see image: BrQrtz.0009r.fits divided by master\n",
      "   To continue, hit space in display window (p for debug) \n",
      "    see image: BrQrtz.0010r.fits divided by master\n",
      "   To continue, hit space in display window (p for debug) \n",
      "    see image: BrQrtz.0011r.fits divided by master\n",
      "   To continue, hit space in display window (p for debug) \n"
     ]
    }
   ],
   "source": [
    "flat=red.mkflat(range(4,12),spec=True,display=t)"
   ]
  },
  {
   "cell_type": "code",
   "execution_count": 9,
   "metadata": {},
   "outputs": [],
   "source": [
    "if t is not None :\n",
    "    t.clear()\n",
    "    t.tv(flat[0])\n",
    "    t.tv(flat[1])"
   ]
  },
  {
   "cell_type": "markdown",
   "metadata": {},
   "source": [
    "Note that the reduce() method will reduce both channels by default. If you are only interested in one, you can use the channel= keyword. But the calibration products that are supplied should be multi-channel in either case."
   ]
  },
  {
   "cell_type": "code",
   "execution_count": 10,
   "metadata": {},
   "outputs": [
    {
     "name": "stdout",
     "output_type": "stream",
     "text": [
      "  Reading file: /home/astrobackup3/antares/holtz/raw/apo/oct19/UT191019/DIS/BD28d4211.0024r.fits\n",
      "  subtracting overscan:  121.353\n",
      "  flat fielding...\n",
      "INFO: array provided for uncertainty; assuming it is a StdDevUncertainty. [astropy.nddata.ccddata]\n"
     ]
    }
   ],
   "source": [
    "a=red.reduce(24,flat=flat,channel=1)"
   ]
  },
  {
   "cell_type": "markdown",
   "metadata": {},
   "source": [
    "Read and display a star spectral image. "
   ]
  },
  {
   "cell_type": "markdown",
   "metadata": {},
   "source": [
    "<h4> Tracing and extraction"
   ]
  },
  {
   "cell_type": "code",
   "execution_count": 11,
   "metadata": {},
   "outputs": [
    {
     "name": "stdout",
     "output_type": "stream",
     "text": [
      "no attribute:  index\n",
      "no attribute:  index\n"
     ]
    },
    {
     "data": {
      "text/plain": [
       "{'type': 'Polynomial1D',\n",
       " 'degree': 2,\n",
       " 'sc0': 1049,\n",
       " 'pix0': 0,\n",
       " 'spectrum': array([ 0.27856965,  3.27856965,  0.27856965, ...,  0.        ,\n",
       "         0.        ,  0.27856965], dtype='>f8'),\n",
       " 'rad': 5,\n",
       " 'lags': array([-300, -299, -298, -297, -296, -295, -294, -293, -292, -291, -290,\n",
       "        -289, -288, -287, -286, -285, -284, -283, -282, -281, -280, -279,\n",
       "        -278, -277, -276, -275, -274, -273, -272, -271, -270, -269, -268,\n",
       "        -267, -266, -265, -264, -263, -262, -261, -260, -259, -258, -257,\n",
       "        -256, -255, -254, -253, -252, -251, -250, -249, -248, -247, -246,\n",
       "        -245, -244, -243, -242, -241, -240, -239, -238, -237, -236, -235,\n",
       "        -234, -233, -232, -231, -230, -229, -228, -227, -226, -225, -224,\n",
       "        -223, -222, -221, -220, -219, -218, -217, -216, -215, -214, -213,\n",
       "        -212, -211, -210, -209, -208, -207, -206, -205, -204, -203, -202,\n",
       "        -201, -200, -199, -198, -197, -196, -195, -194, -193, -192, -191,\n",
       "        -190, -189, -188, -187, -186, -185, -184, -183, -182, -181, -180,\n",
       "        -179, -178, -177, -176, -175, -174, -173, -172, -171, -170, -169,\n",
       "        -168, -167, -166, -165, -164, -163, -162, -161, -160, -159, -158,\n",
       "        -157, -156, -155, -154, -153, -152, -151, -150, -149, -148, -147,\n",
       "        -146, -145, -144, -143, -142, -141, -140, -139, -138, -137, -136,\n",
       "        -135, -134, -133, -132, -131, -130, -129, -128, -127, -126, -125,\n",
       "        -124, -123, -122, -121, -120, -119, -118, -117, -116, -115, -114,\n",
       "        -113, -112, -111, -110, -109, -108, -107, -106, -105, -104, -103,\n",
       "        -102, -101, -100,  -99,  -98,  -97,  -96,  -95,  -94,  -93,  -92,\n",
       "         -91,  -90,  -89,  -88,  -87,  -86,  -85,  -84,  -83,  -82,  -81,\n",
       "         -80,  -79,  -78,  -77,  -76,  -75,  -74,  -73,  -72,  -71,  -70,\n",
       "         -69,  -68,  -67,  -66,  -65,  -64,  -63,  -62,  -61,  -60,  -59,\n",
       "         -58,  -57,  -56,  -55,  -54,  -53,  -52,  -51,  -50,  -49,  -48,\n",
       "         -47,  -46,  -45,  -44,  -43,  -42,  -41,  -40,  -39,  -38,  -37,\n",
       "         -36,  -35,  -34,  -33,  -32,  -31,  -30,  -29,  -28,  -27,  -26,\n",
       "         -25,  -24,  -23,  -22,  -21,  -20,  -19,  -18,  -17,  -16,  -15,\n",
       "         -14,  -13,  -12,  -11,  -10,   -9,   -8,   -7,   -6,   -5,   -4,\n",
       "          -3,   -2,   -1,    0,    1,    2,    3,    4,    5,    6,    7,\n",
       "           8,    9,   10,   11,   12,   13,   14,   15,   16,   17,   18,\n",
       "          19,   20,   21,   22,   23,   24,   25,   26,   27,   28,   29,\n",
       "          30,   31,   32,   33,   34,   35,   36,   37,   38,   39,   40,\n",
       "          41,   42,   43,   44,   45,   46,   47,   48,   49,   50,   51,\n",
       "          52,   53,   54,   55,   56,   57,   58,   59,   60,   61,   62,\n",
       "          63,   64,   65,   66,   67,   68,   69,   70,   71,   72,   73,\n",
       "          74,   75,   76,   77,   78,   79,   80,   81,   82,   83,   84,\n",
       "          85,   86,   87,   88,   89,   90,   91,   92,   93,   94,   95,\n",
       "          96,   97,   98,   99,  100,  101,  102,  103,  104,  105,  106,\n",
       "         107,  108,  109,  110,  111,  112,  113,  114,  115,  116,  117,\n",
       "         118,  119,  120,  121,  122,  123,  124,  125,  126,  127,  128,\n",
       "         129,  130,  131,  132,  133,  134,  135,  136,  137,  138,  139,\n",
       "         140,  141,  142,  143,  144,  145,  146,  147,  148,  149,  150,\n",
       "         151,  152,  153,  154,  155,  156,  157,  158,  159,  160,  161,\n",
       "         162,  163,  164,  165,  166,  167,  168,  169,  170,  171,  172,\n",
       "         173,  174,  175,  176,  177,  178,  179,  180,  181,  182,  183,\n",
       "         184,  185,  186,  187,  188,  189,  190,  191,  192,  193,  194,\n",
       "         195,  196,  197,  198,  199,  200,  201,  202,  203,  204,  205,\n",
       "         206,  207,  208,  209,  210,  211,  212,  213,  214,  215,  216,\n",
       "         217,  218,  219,  220,  221,  222,  223,  224,  225,  226,  227,\n",
       "         228,  229,  230,  231,  232,  233,  234,  235,  236,  237,  238,\n",
       "         239,  240,  241,  242,  243,  244,  245,  246,  247,  248,  249,\n",
       "         250,  251,  252,  253,  254,  255,  256,  257,  258,  259,  260,\n",
       "         261,  262,  263,  264,  265,  266,  267,  268,  269,  270,  271,\n",
       "         272,  273,  274,  275,  276,  277,  278,  279,  280,  281,  282,\n",
       "         283,  284,  285,  286,  287,  288,  289,  290,  291,  292,  293,\n",
       "         294,  295,  296,  297,  298,  299], dtype='>i8'),\n",
       " 'transpose': False,\n",
       " 'rows': array([215, 915], dtype='>i8'),\n",
       " 'index': None,\n",
       " 'model': [<Polynomial1D(2, c0=656.2548184058555, c1=0.004913772832281122, c2=1.0207973034101394e-06)>],\n",
       " 'sigdegree': 0,\n",
       " 'sigmodel': None}"
      ]
     },
     "execution_count": 11,
     "metadata": {},
     "output_type": "execute_result"
    }
   ],
   "source": [
    "btrace=spectra.Trace('DIS/DIS_blue_trace.fits')\n",
    "rtrace=spectra.Trace('DIS/DIS_red_trace.fits')\n",
    "vars(btrace)"
   ]
  },
  {
   "cell_type": "code",
   "execution_count": 12,
   "metadata": {},
   "outputs": [
    {
     "name": "stdout",
     "output_type": "stream",
     "text": [
      "  Tracing row: 663\n",
      "  See trace. Hit space bar to continue....\n"
     ]
    },
    {
     "name": "stderr",
     "output_type": "stream",
     "text": [
      "/home/holtz/git/pyvista/python/pyvista/spectra.py:1202: RuntimeWarning: invalid value encountered in divide\n",
      "  gd = np.where((~ymask) & (ysum/np.sqrt(yvar)>thresh) )[0]\n",
      "/home/holtz/git/pyvista/python/pyvista/spectra.py:1207: RuntimeWarning: invalid value encountered in divide\n",
      "  gd = np.where((~ymask) & (ysum/np.sqrt(yvar)>thresh) & (np.abs(res)<rad))[0]\n"
     ]
    },
    {
     "name": "stdout",
     "output_type": "stream",
     "text": [
      "  Tracing row: 560\n",
      "  See trace. Hit space bar to continue....\n"
     ]
    }
   ],
   "source": [
    "btrace.trace(star[0],[663],plot=t)\n",
    "rtrace.trace(star[1],[560],plot=t)"
   ]
  },
  {
   "cell_type": "markdown",
   "metadata": {},
   "source": [
    "Sum up the arc lamp exposures, get the shift for the existing traces, and extract. Note that if you have a multiprocessor machine, you can specify number of threads to use for the extraction, which will speed things up (but the default threads=0 isn't too terrible)."
   ]
  },
  {
   "cell_type": "code",
   "execution_count": 13,
   "metadata": {},
   "outputs": [
    {
     "name": "stdout",
     "output_type": "stream",
     "text": [
      "  Reading file: /home/astrobackup3/antares/holtz/raw/apo/oct19/UT191019/DIS/He.0001b.fits\n",
      "  Reading file: /home/astrobackup3/antares/holtz/raw/apo/oct19/UT191019/DIS/He.0001r.fits\n",
      "  subtracting overscan:  99.9985\n",
      "  subtracting overscan:  120.003\n",
      "INFO: array provided for uncertainty; assuming it is a StdDevUncertainty. [astropy.nddata.ccddata]\n",
      "INFO: array provided for uncertainty; assuming it is a StdDevUncertainty. [astropy.nddata.ccddata]\n",
      "  Reading file: /home/astrobackup3/antares/holtz/raw/apo/oct19/UT191019/DIS/Ne.0002b.fits\n",
      "  Reading file: /home/astrobackup3/antares/holtz/raw/apo/oct19/UT191019/DIS/Ne.0002r.fits\n",
      "  subtracting overscan:  99.9713\n",
      "  subtracting overscan:  120.033\n",
      "INFO: array provided for uncertainty; assuming it is a StdDevUncertainty. [astropy.nddata.ccddata]\n",
      "INFO: array provided for uncertainty; assuming it is a StdDevUncertainty. [astropy.nddata.ccddata]\n",
      "  Reading file: /home/astrobackup3/antares/holtz/raw/apo/oct19/UT191019/DIS/Ar.0003b.fits\n",
      "  Reading file: /home/astrobackup3/antares/holtz/raw/apo/oct19/UT191019/DIS/Ar.0003r.fits\n",
      "  subtracting overscan:  100.003\n",
      "  subtracting overscan:  120.163\n",
      "INFO: array provided for uncertainty; assuming it is a StdDevUncertainty. [astropy.nddata.ccddata]\n",
      "INFO: array provided for uncertainty; assuming it is a StdDevUncertainty. [astropy.nddata.ccddata]\n",
      "  combining data with sum....\n",
      "  calculating uncertainty....\n",
      "  combining data with sum....\n",
      "  calculating uncertainty....\n"
     ]
    }
   ],
   "source": [
    "arcs=red.sum([1,2,3])"
   ]
  },
  {
   "cell_type": "code",
   "execution_count": 14,
   "metadata": {},
   "outputs": [
    {
     "name": "stdout",
     "output_type": "stream",
     "text": [
      "  rms:    0.233 Angstroms (5 lines)\n",
      "  rms:    0.108 Angstroms (49 lines)\n"
     ]
    }
   ],
   "source": [
    "bwav=spectra.WaveCal(file='DIS/DIS_blue_waves.fits')\n",
    "rwav=spectra.WaveCal(file='DIS/DIS_red_waves.fits')"
   ]
  },
  {
   "cell_type": "markdown",
   "metadata": {},
   "source": [
    "Do line identification based on previously identified lines, and wavelength fit."
   ]
  },
  {
   "cell_type": "code",
   "execution_count": 18,
   "metadata": {},
   "outputs": [
    {
     "name": "stdout",
     "output_type": "stream",
     "text": [
      "  extracting ... \n",
      "\n",
      "  cross correlating with reference spectrum using lags between:  -300 299\n",
      "  Derived pixel shift from input wcal:  [ 0.42946064]\n",
      "  See identified lines.\n",
      "  rms:    0.178 Angstroms (5 lines)\n",
      "  Input in plot window: \n",
      "       l : to remove all lines to left of cursor\n",
      "       r : to remove all lines to right of cursor\n",
      "       n : to remove line nearest cursor x position\n",
      "       i : return with True value (to allow iteration)\n",
      "       anything else : finish and return\n",
      "  rms:    0.178 Anstroms\n",
      "  input from plot window...\n",
      "\n"
     ]
    },
    {
     "data": {
      "text/plain": [
       "1.8240882231067475"
      ]
     },
     "execution_count": 18,
     "metadata": {},
     "output_type": "execute_result"
    }
   ],
   "source": [
    "arcec=btrace.extract(arcs[0])\n",
    "bwav.identify(arcec,plot=True,plotinter=plotinter,thresh=50) \n",
    "bwav.dispersion()"
   ]
  },
  {
   "cell_type": "code",
   "execution_count": 19,
   "metadata": {},
   "outputs": [
    {
     "name": "stdout",
     "output_type": "stream",
     "text": [
      "  extracting ... \n",
      "\n",
      "  rms:    0.108 Angstroms (49 lines)\n",
      "  cross correlating with reference spectrum using lags between:  -300 299\n",
      "  Derived pixel shift from input wcal:  [-1.31290864]\n",
      "  See identified lines.\n",
      "  rms:    0.094 Angstroms (34 lines)\n",
      "  Input in plot window: \n",
      "       l : to remove all lines to left of cursor\n",
      "       r : to remove all lines to right of cursor\n",
      "       n : to remove line nearest cursor x position\n",
      "       i : return with True value (to allow iteration)\n",
      "       anything else : finish and return\n",
      "  rms:    0.094 Anstroms\n",
      "  input from plot window...\n",
      "\n"
     ]
    },
    {
     "data": {
      "text/plain": [
       "-2.302705871552956"
      ]
     },
     "execution_count": 19,
     "metadata": {},
     "output_type": "execute_result"
    }
   ],
   "source": [
    "arcec=rtrace.extract(arcs[1])\n",
    "rwav=spectra.WaveCal('DIS/DIS_red_waves.fits')\n",
    "rwav.identify(arcec,plot=True,plotinter=plotinter,thresh=50) \n",
    "rwav.dispersion()"
   ]
  },
  {
   "cell_type": "markdown",
   "metadata": {},
   "source": [
    "Now reduce an image"
   ]
  },
  {
   "cell_type": "markdown",
   "metadata": {},
   "source": [
    "Get shift of traces, and extract. Alternatively, you could use a single call to retrace(), which will do the find() and then trace() using the shifted stored model as a starting guess."
   ]
  },
  {
   "cell_type": "code",
   "execution_count": 20,
   "metadata": {},
   "outputs": [
    {
     "name": "stdout",
     "output_type": "stream",
     "text": [
      "  Reading file: /home/astrobackup3/antares/holtz/raw/apo/oct19/UT191019/DIS/GB13.0027b.fits\n",
      "  Reading file: /home/astrobackup3/antares/holtz/raw/apo/oct19/UT191019/DIS/GB13.0027r.fits\n",
      "  subtracting overscan:  100.94\n",
      "  subtracting overscan:  122.585\n",
      "INFO: array provided for uncertainty; assuming it is a StdDevUncertainty. [astropy.nddata.ccddata]\n",
      "INFO: array provided for uncertainty; assuming it is a StdDevUncertainty. [astropy.nddata.ccddata]\n"
     ]
    }
   ],
   "source": [
    "im=red.reduce(27)"
   ]
  },
  {
   "cell_type": "code",
   "execution_count": 21,
   "metadata": {},
   "outputs": [
    {
     "name": "stdout",
     "output_type": "stream",
     "text": [
      "  Derived pixel shift from input trace:  -116.688927403\n",
      "  extracting ... \n",
      "  See extraction window(s). Hit space bar to continue....\n",
      "\n",
      "  Derived pixel shift from input trace:  -122.836583446\n",
      "  extracting ... \n",
      "  See extraction window(s). Hit space bar to continue....\n",
      "\n"
     ]
    }
   ],
   "source": [
    "btrace.find(im[0])\n",
    "bimec=btrace.extract(im[0],display=t)\n",
    "rtrace.find(im[1])\n",
    "rimec=rtrace.extract(im[1],display=t)"
   ]
  },
  {
   "cell_type": "markdown",
   "metadata": {},
   "source": [
    "Get the wavelengths for all pixels from the wavelength solution and plot extracted spectra."
   ]
  },
  {
   "cell_type": "code",
   "execution_count": 22,
   "metadata": {
    "scrolled": true
   },
   "outputs": [],
   "source": [
    "bwav.add_wave(bimec)\n",
    "rwav.add_wave(rimec)\n",
    "plt.figure()\n",
    "for row in range(len(bimec.wave)) :\n",
    "    plt.plot(bimec.wave[row],bimec.data[row])\n",
    "for row in range(len(rimec.wave)) :\n",
    "    plt.plot(rimec.wave[row],rimec.data[row])"
   ]
  },
  {
   "cell_type": "markdown",
   "metadata": {},
   "source": [
    "Resample onto logarithmic wavelength grid and combine orders"
   ]
  },
  {
   "cell_type": "code",
   "execution_count": 23,
   "metadata": {},
   "outputs": [
    {
     "name": "stderr",
     "output_type": "stream",
     "text": [
      "/home/holtz/git/pyvista/python/pyvista/spectra.py:830: RuntimeWarning: invalid value encountered in divide\n",
      "  out = out / sig\n",
      "/home/holtz/git/pyvista/python/pyvista/spectra.py:831: RuntimeWarning: divide by zero encountered in divide\n",
      "  sig = np.sqrt(1./sig)\n"
     ]
    },
    {
     "data": {
      "text/plain": [
       "[<matplotlib.lines.Line2D at 0x2b62984ed6a0>]"
      ]
     },
     "execution_count": 23,
     "metadata": {},
     "output_type": "execute_result"
    }
   ],
   "source": [
    "wnew=10**np.arange(3.5,4.0,5.5e-6)\n",
    "bcomb=bwav.scomb(bimec,wnew,average=True,usemask=True)\n",
    "rcomb=rwav.scomb(rimec,wnew,average=True,usemask=True)\n",
    "plt.figure()\n",
    "plt.plot(wnew,bcomb.data)\n",
    "plt.plot(wnew,rcomb.data)"
   ]
  },
  {
   "cell_type": "code",
   "execution_count": 24,
   "metadata": {},
   "outputs": [
    {
     "name": "stdout",
     "output_type": "stream",
     "text": [
      "extracting: \n",
      " 215-915\n"
     ]
    }
   ],
   "source": [
    "arc2d=btrace.extract2d(arcs[0])"
   ]
  },
  {
   "cell_type": "code",
   "execution_count": 25,
   "metadata": {},
   "outputs": [
    {
     "name": "stdout",
     "output_type": "stream",
     "text": [
      "  rms:    0.233 Angstroms (5 lines)\n",
      "  cross correlating with reference spectrum using lags between:  -10 9\n",
      "  Derived pixel shift from input wcal for row: 699 01\n",
      "  See identified lines.\n",
      "  rms:    1.723\n",
      "rejecting 3 points from 350 total: \n",
      "  rms:    0.685\n",
      "rejecting 2 points from 350 total: \n",
      "  rms:    0.685\n",
      "rejecting 2 points from 350 total: \n",
      "  See 2D wavecal fit. Enter space in plot window to continue\n",
      "\n"
     ]
    }
   ],
   "source": [
    "bwav=spectra.WaveCal('DIS/DIS_blue_waves.fits')\n",
    "bwav.identify(arc2d,rad=10,nskip=10,lags=np.arange(-10,10),\n",
    "              plot=True,plotinter=plotinter,thresh=10)"
   ]
  },
  {
   "cell_type": "code",
   "execution_count": 26,
   "metadata": {},
   "outputs": [],
   "source": [
    "bwav.add_wave(arc2d)"
   ]
  },
  {
   "cell_type": "code",
   "execution_count": 27,
   "metadata": {},
   "outputs": [],
   "source": [
    "dw=arc2d.wave-arc2d.wave[350]\n",
    "if t is not None :\n",
    "    t.tv(dw)"
   ]
  },
  {
   "cell_type": "code",
   "execution_count": 28,
   "metadata": {},
   "outputs": [
    {
     "name": "stdout",
     "output_type": "stream",
     "text": [
      "extracting: \n",
      " 215-915\n",
      "  rms:    0.108 Angstroms (49 lines)\n",
      "  cross correlating with reference spectrum using lags between:  -10 9\n",
      "xcorr peak fit failed, row:  644  using peak\n",
      "xcorr peak fit failed, row:  667  using peak\n",
      "xcorr peak fit failed, row:  671  using peak\n",
      "xcorr peak fit failed, row:  675  using peak\n",
      "xcorr peak fit failed, row:  678  using peak\n",
      "xcorr peak fit failed, row:  682  using peak\n",
      "xcorr peak fit failed, row:  683  using peak\n",
      "xcorr peak fit failed, row:  684  using peak\n",
      "xcorr peak fit failed, row:  685  using peak\n",
      "xcorr peak fit failed, row:  694  using peak\n",
      "xcorr peak fit failed, row:  696  using peak\n",
      "xcorr peak fit failed, row:  697  using peak\n",
      "xcorr peak fit failed, row:  698  using peak\n",
      "xcorr peak fit failed, row:  699  using peak\n",
      "  Derived pixel shift from input wcal for row: 699 710\n"
     ]
    },
    {
     "name": "stderr",
     "output_type": "stream",
     "text": [
      "/home/local/Anaconda3-2020.02/envs/pyvista/lib/python3.9/site-packages/scipy/optimize/_minpack_py.py:1010: OptimizeWarning: Covariance of the parameters could not be estimated\n",
      "  warnings.warn('Covariance of the parameters could not be estimated',\n"
     ]
    },
    {
     "name": "stdout",
     "output_type": "stream",
     "text": [
      "  See identified lines.\n",
      "  rms:    1.896\n",
      "rejecting 38 points from 2238 total: \n",
      "  rms:    0.391\n",
      "rejecting 38 points from 2238 total: \n",
      "  See 2D wavecal fit. Enter space in plot window to continue\n",
      "\n"
     ]
    }
   ],
   "source": [
    "arcs2d=rtrace.extract2d(arcs[1])\n",
    "rwav=spectra.WaveCal('DIS/DIS_red_waves.fits')\n",
    "rwav.identify(arcs2d,rad=4,lags=np.arange(-10,10),nskip=10,\n",
    "              plot=True,plotinter=plotinter,thresh=20)"
   ]
  },
  {
   "cell_type": "code",
   "execution_count": null,
   "metadata": {},
   "outputs": [],
   "source": []
  }
 ],
 "metadata": {
  "kernelspec": {
   "display_name": "Python 3 (ipykernel)",
   "language": "python",
   "name": "python3"
  },
  "language_info": {
   "codemirror_mode": {
    "name": "ipython",
    "version": 3
   },
   "file_extension": ".py",
   "mimetype": "text/x-python",
   "name": "python",
   "nbconvert_exporter": "python",
   "pygments_lexer": "ipython3",
   "version": "3.9.18"
  }
 },
 "nbformat": 4,
 "nbformat_minor": 4
}
