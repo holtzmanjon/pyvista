{
 "cells": [
  {
   "cell_type": "markdown",
   "metadata": {},
   "source": [
    "<h2> Spectroscopic data reduction : spectra module"
   ]
  },
  {
   "cell_type": "markdown",
   "metadata": {},
   "source": [
    "<h2> DIS"
   ]
  },
  {
   "cell_type": "code",
   "execution_count": 1,
   "metadata": {},
   "outputs": [
    {
     "name": "stdout",
     "output_type": "stream",
     "text": [
      "pyautogui does not seem to be available, disabling arrow key cursor moves\n"
     ]
    }
   ],
   "source": [
    "from pyvista import imred, tv, spectra\n",
    "import pyvista.data\n",
    "from importlib_resources import files\n",
    "import numpy as np\n",
    "import matplotlib.pyplot as plt\n",
    "import pickle\n",
    "import os"
   ]
  },
  {
   "cell_type": "markdown",
   "metadata": {},
   "source": [
    "pyvista uses a display tool defined in the tv module. To use the interactive\n",
    "display in a notebook, set the display to be an external display window, e.g. with \n",
    "<code>\n",
    "%matplotlib qt\n",
    "</code>\n",
    "Instantiate a tv object, here we just call it t, but you could call it whatever you want!"
   ]
  },
  {
   "cell_type": "code",
   "execution_count": 2,
   "metadata": {},
   "outputs": [],
   "source": [
    "%matplotlib qt\n",
    "t=tv.TV()"
   ]
  },
  {
   "cell_type": "markdown",
   "metadata": {},
   "source": [
    "The basic tool for basic image reduction is a Reducer object, defined in the imred module. Instantiate a reducer here. The main argument is an instrument name, which tells it to read a YAML configuration file for the specified instrument. We also give it an optional dir= argument to specify the default directory from which to read images, if a directory is not specified in subsequent commands that read images."
   ]
  },
  {
   "cell_type": "code",
   "execution_count": null,
   "metadata": {},
   "outputs": [],
   "source": [
    "red=imred.Reducer('DIS',dir='UT191019/DIS')"
   ]
  },
  {
   "cell_type": "markdown",
   "metadata": {},
   "source": [
    "A main method of the reducer object is the reduce() method. Without any additional arguments, reduce() will read an image from disk, subtract the overscan (region(s) as determined from the instrument configuration file), compute an uncertainty array using the gain and readout noise from the instrument configuration file, and return a CCDData object with the data, uncertainty, and mask. \n",
    "<p>\n",
    "To specify the input image, we could pass a string with the file name. If the string does not include a '/', it will read from the default input directory.\n",
    "<p>\n",
    "If the file can be identified with a unique integer, then you can just specify this number, which can be very convenient. This is turned into a character string using the formstr attribute define in the configuration file, which is used to search for the file to read.\n",
    "<p>\n",
    "We can display the image using the tv() method of our display tool, which can take as input a Data object, and numpy array, or a FITS HDU object."
   ]
  },
  {
   "cell_type": "code",
   "execution_count": 4,
   "metadata": {},
   "outputs": [
    {
     "name": "stdout",
     "output_type": "stream",
     "text": [
      "  Reading file: UT211031/echelle/HIP109807.0028.fits\n",
      "  subtracting overscan:  1291.72\n"
     ]
    }
   ],
   "source": [
    "a=red.reduce(28)\n",
    "\n",
    "t.tv(a)"
   ]
  },
  {
   "cell_type": "code",
   "execution_count": null,
   "metadata": {},
   "outputs": [],
   "source": [
    "star=red.reduce(24)\n",
    "t.tv(star[0])\n",
    "t.tv(star[1])"
   ]
  },
  {
   "cell_type": "markdown",
   "metadata": {},
   "source": [
    "<h4> Calibration: make and apply flat field"
   ]
  },
  {
   "cell_type": "markdown",
   "metadata": {},
   "source": [
    "If we add additional arguments to reduce(), we can add additional calibration steps. For example, to flat field the data, we would add a flat= keyword through which we give the reducer a flat field. To add a spatial bias subtraction, we would add a bias= keyword through which we give the reducer a superbias frame.\n",
    "<br>\n",
    "First, however, we have to make the calibration products, which is accomplished using the mkflat(), mkbias(), etc methods. These take as input a list of frames to be used to construct the master calibration frame (e.g.. superflat). For ARCES, we will keep the spectral shape of the flats for now."
   ]
  },
  {
   "cell_type": "markdown",
   "metadata": {},
   "source": [
    "Create biases and flats. Note that for flats, we have to do scattered light removal, which can be done on reduction of individual images, but since it is slow, we will do it on the combined flat. If we add the display= keyword, giving a display object, then the calibration frames will be displayed, showing each input frame relative to the master frame, so you can inspect and make sure that bad frames are not being included in the combination."
   ]
  },
  {
   "cell_type": "code",
   "execution_count": null,
   "metadata": {},
   "outputs": [],
   "source": [
    "tspec=imred.Reducer(inst='TSPEC',dir='UT191026/TSPEC',nfowler=8)\n",
    "a=tspec.reduce(21)\n",
    "dark=tspec.reduce(22)\n",
    "t.clear()\n",
    "t.tv(a)\n",
    "a=a.subtract(dark)\n",
    "t.tv(a)"
   ]
  },
  {
   "cell_type": "markdown",
   "metadata": {},
   "source": [
    "Read and display a star spectral image. For ARCES, we do not apply a flat field here, since we only have flats with the orders, which can move around a bit. Instead, we will use \"1D\" flats later in the processing."
   ]
  },
  {
   "cell_type": "code",
   "execution_count": 1,
   "metadata": {},
   "outputs": [
    {
     "ename": "NameError",
     "evalue": "name 'red' is not defined",
     "output_type": "error",
     "traceback": [
      "\u001b[0;31m---------------------------------------------------------------------------\u001b[0m",
      "\u001b[0;31mNameError\u001b[0m                                 Traceback (most recent call last)",
      "Input \u001b[0;32mIn [1]\u001b[0m, in \u001b[0;36m<module>\u001b[0;34m\u001b[0m\n\u001b[0;32m----> 1\u001b[0m crstar\u001b[38;5;241m=\u001b[39m\u001b[43mred\u001b[49m\u001b[38;5;241m.\u001b[39mcrrej(star,crbox\u001b[38;5;241m=\u001b[39m\u001b[38;5;124m'\u001b[39m\u001b[38;5;124mlacosmic\u001b[39m\u001b[38;5;124m'\u001b[39m,display\u001b[38;5;241m=\u001b[39mt,objlim\u001b[38;5;241m=\u001b[39m\u001b[38;5;241m50\u001b[39m)\n",
      "\u001b[0;31mNameError\u001b[0m: name 'red' is not defined"
     ]
    }
   ],
   "source": [
    "crstar=red.crrej(star,crbox='lacosmic',display=t,objlim=50)"
   ]
  },
  {
   "cell_type": "markdown",
   "metadata": {},
   "source": [
    "<h4> Tracing and extraction"
   ]
  },
  {
   "cell_type": "code",
   "execution_count": null,
   "metadata": {},
   "outputs": [],
   "source": [
    "trace=spectra.Trace(inst='DIS',channel=0,transpose=False)\n",
    "vars(trace)"
   ]
  },
  {
   "cell_type": "code",
   "execution_count": null,
   "metadata": {},
   "outputs": [],
   "source": [
    "trace.trace(star[0],[663],plot=t)\n",
    "trace.write('DIS_blue_trace.fits')\n",
    "trace.trace(star[1],[560],plot=t)\n",
    "trace.write('DIS_red_trace.fits')"
   ]
  },
  {
   "cell_type": "markdown",
   "metadata": {},
   "source": [
    "Sum up the arc lamp exposures, get the shift for the existing traces, and extract. Note that if you have a multiprocessor machine, you can specify number of threads to use for the extraction, which will speed things up (but the default threads=0 isn't too terrible)."
   ]
  },
  {
   "cell_type": "code",
   "execution_count": null,
   "metadata": {},
   "outputs": [],
   "source": [
    "trace=spectra.Trace(file=files(pyvista.data).joinpath('DIS/DIS_blue_trace.fits'))\n",
    "wav=spectra.WaveCal(file=files(pyvista.data).joinpath('DIS/DIS_blue_waves.fits'))"
   ]
  },
  {
   "cell_type": "markdown",
   "metadata": {},
   "source": [
    "Do line identification based on previously identified lines, and wavelength fit."
   ]
  },
  {
   "cell_type": "code",
   "execution_count": null,
   "metadata": {},
   "outputs": [],
   "source": [
    "arcs=red.sum([1,2,3])"
   ]
  },
  {
   "cell_type": "code",
   "execution_count": null,
   "metadata": {},
   "outputs": [],
   "source": [
    "wav.identify(arcec,plot=True,thresh=50) "
   ]
  },
  {
   "cell_type": "markdown",
   "metadata": {},
   "source": [
    "Now reduce an image"
   ]
  },
  {
   "cell_type": "markdown",
   "metadata": {},
   "source": [
    "Get shift of traces, and extract. Alternatively, you could use a single call to retrace(), which will do the find() and then trace() using the shifted stored model as a starting guess."
   ]
  },
  {
   "cell_type": "markdown",
   "metadata": {},
   "source": [
    "Get the wavelengths for all pixels from the wavelength solution and plot extracted spectra."
   ]
  },
  {
   "cell_type": "code",
   "execution_count": 114,
   "metadata": {
    "scrolled": true
   },
   "outputs": [],
   "source": [
    "wav.add_wave(imec)\n",
    "plt.figure()\n",
    "for row in range(len(imec.wave)) :\n",
    "    plt.plot(imec.wave[row],imec.data[row])"
   ]
  },
  {
   "cell_type": "markdown",
   "metadata": {},
   "source": [
    "Resample onto logarithmic wavelength grid and combine orders"
   ]
  },
  {
   "cell_type": "code",
   "execution_count": null,
   "metadata": {},
   "outputs": [],
   "source": [
    "wnew=10**np.arange(3.5,4.0,5.5e-6)\n",
    "comb=wav.scomb(imec.divide(flat1d),wnew,average=True,usemask=True)\n",
    "plt.clf()\n",
    "plt.plot(wnew,comb.data)"
   ]
  },
  {
   "cell_type": "code",
   "execution_count": null,
   "metadata": {},
   "outputs": [],
   "source": []
  },
  {
   "cell_type": "code",
   "execution_count": null,
   "metadata": {},
   "outputs": [],
   "source": []
  },
  {
   "cell_type": "code",
   "execution_count": null,
   "metadata": {},
   "outputs": [],
   "source": [
    "t.tv(arcs[0])"
   ]
  },
  {
   "cell_type": "code",
   "execution_count": null,
   "metadata": {},
   "outputs": [],
   "source": [
    "arcec=trace.extract(arcs[0],plot=t)\n",
    "#wav=spectra.WaveCal()\n",
    "#wav.identify(arcec,file='henear.dat',plot=True,wref=[3888,747],disp=1.823,thresh=50)\n",
    "#wav.identify(arcec,file='henear.dat',plot=True,thresh=30)\n",
    "#wav.write('DIS_blue_waves.fits')"
   ]
  },
  {
   "cell_type": "code",
   "execution_count": null,
   "metadata": {},
   "outputs": [],
   "source": [
    "wav.identify(arcec,plot=True,thresh=30)"
   ]
  },
  {
   "cell_type": "code",
   "execution_count": null,
   "metadata": {},
   "outputs": [],
   "source": [
    "trace=spectra.Trace(file=files(pyvista.data).joinpath('DIS/DIS_red_trace.fits'))\n",
    "wav=spectra.WaveCal(file=files(pyvista.data).joinpath('DIS/DIS_red_waves.fits'))"
   ]
  },
  {
   "cell_type": "code",
   "execution_count": null,
   "metadata": {},
   "outputs": [],
   "source": [
    "arcec=trace.extract(arcs[1],plot=t)\n",
    "#wav=spectra.WaveCal()\n",
    "#wav.identify(arcec,file='henear.dat',plot=True,inter=True,thresh=50)\n",
    "#wav.identify(arcec,file='henear.dat',plot=True,thresh=50)\n",
    "#wav.write('DIS_red_waves.fits')"
   ]
  },
  {
   "cell_type": "code",
   "execution_count": null,
   "metadata": {},
   "outputs": [],
   "source": []
  }
 ],
 "metadata": {
  "kernelspec": {
   "display_name": "Python 3 (ipykernel)",
   "language": "python",
   "name": "python3"
  },
  "language_info": {
   "codemirror_mode": {
    "name": "ipython",
    "version": 3
   },
   "file_extension": ".py",
   "mimetype": "text/x-python",
   "name": "python",
   "nbconvert_exporter": "python",
   "pygments_lexer": "ipython3",
   "version": "3.9.9"
  }
 },
 "nbformat": 4,
 "nbformat_minor": 4
}
