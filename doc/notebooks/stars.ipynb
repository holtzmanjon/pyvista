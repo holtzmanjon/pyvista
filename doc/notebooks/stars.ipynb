{
 "cells": [
  {
   "cell_type": "markdown",
   "metadata": {},
   "source": [
    "<h2> the stars module : interactive star marking, aperture photometry, WCS, plus photometric transformations"
   ]
  },
  {
   "cell_type": "markdown",
   "metadata": {},
   "source": [
    "<b> This is not a fully developed and documented notebook"
   ]
  },
  {
   "cell_type": "markdown",
   "metadata": {},
   "source": [
    "Start with the usual setup"
   ]
  },
  {
   "cell_type": "code",
   "execution_count": 1,
   "metadata": {},
   "outputs": [],
   "source": [
    "import matplotlib.pyplot as plt\n",
    "import numpy as np\n",
    "import glob\n",
    "import pdb\n",
    "from pyvista import imred, tv, stars"
   ]
  },
  {
   "cell_type": "code",
   "execution_count": 8,
   "metadata": {},
   "outputs": [],
   "source": [
    "# Use these lines if you are running the notebook yourself. Matplotlib\n",
    "# window will open outside the notebook, which is the desired behavior so\n",
    "# you can have a single display tool, which you should leave open. Other\n",
    "# plot windows will also appear outside the notebook, which you can close\n",
    "# as desired\n",
    "%matplotlib qt\n",
    "t=tv.TV()\n",
    "plotinter=True\n",
    "\n",
    "# following lines only for fully noninteractive demo of notebook, to allow\n",
    "#    inline demo of plots (but not image display)\n",
    "#%matplotlib inline\n",
    "#t=None\n",
    "#plotinter=False     # normally, want this to be True "
   ]
  },
  {
   "cell_type": "markdown",
   "metadata": {},
   "source": [
    "Instantiate a reducer object, and a TV object"
   ]
  },
  {
   "cell_type": "code",
   "execution_count": 3,
   "metadata": {},
   "outputs": [
    {
     "data": {
      "image/png": "[encoded data removed]",
      "text/plain": [
       "<Figure size 1200x850 with 5 Axes>"
      ]
     },
     "metadata": {},
     "output_type": "display_data"
    }
   ],
   "source": [
    "t=tv.TV()"
   ]
  },
  {
   "cell_type": "code",
   "execution_count": 4,
   "metadata": {},
   "outputs": [
    {
     "name": "stdout",
     "output_type": "stream",
     "text": [
      "INSTRUMENT: TM61   config: \n",
      "  will use format:  /home/tmo/20211020/* {:d}.f*.fits*\n",
      "         gain:  [0.8]    rn: [ 10.]\n",
      "         scale:  0.44   \n",
      "  Biastype : 0\n",
      "  Bias box: \n",
      "    SC    NC    SR    NR\n",
      "   100  4601  3195    11 \n",
      "  Trim box: \n",
      "    SC    NC    SR    NR\n",
      "     0  4800     0  3194 \n",
      "  Norm box: \n",
      "    SC    NC    SR    NR\n",
      "  1200   801  2000   801 \n"
     ]
    },
    {
     "data": {
      "text/plain": [
       "[' {:d}.f*']"
      ]
     },
     "execution_count": 4,
     "metadata": {},
     "output_type": "execute_result"
    }
   ],
   "source": [
    "red=imred.Reducer('TM61',dir='/home/tmo/20211020')\n",
    "red.formstr"
   ]
  },
  {
   "cell_type": "code",
   "execution_count": 5,
   "metadata": {},
   "outputs": [
    {
     "data": {
      "text/html": [
       "<i>Table length=21</i>\n",
       "<table id=\"table47556531301680-790229\" class=\"table-striped table-bordered table-condensed\">\n",
       "<thead><tr><th>idx</th><th>FILE</th><th>DATE-OBS</th><th>OBJECT</th><th>RA</th><th>DEC</th><th>FILTER</th><th>EXPTIME</th></tr></thead>\n",
       "<tr><td>0</td><td>test-S001-R-R001-SR.fts</td><td>2021-10-20T12:17:53.350</td><td>test</td><td>09 00 00.00</td><td>+20 00 00.0</td><td>SR</td><td>60.0</td></tr>\n",
       "<tr><td>1</td><td>Flat_20211020_123408_Dawn_SG_2_001_T1.fts</td><td>2021-10-20T12:47:31.080</td><td></td><td>06 26 06.00</td><td>+32 39 45.0</td><td>SG</td><td>10.0</td></tr>\n",
       "<tr><td>2</td><td>Flat_20211020_124751_Dawn_SG_2_002_T1.fts</td><td>2021-10-20T12:47:51.950</td><td></td><td>06 26 09.00</td><td>+32 39 45.0</td><td>SG</td><td>10.0</td></tr>\n",
       "<tr><td>3</td><td>Flat_20211020_124812_Dawn_SG_2_003_T1.fts</td><td>2021-10-20T12:48:12.320</td><td></td><td>06 26 13.00</td><td>+32 39 45.0</td><td>SG</td><td>10.0</td></tr>\n",
       "<tr><td>4</td><td>Flat_20211020_124840_Dawn_SR_2_001_T1.fts</td><td>2021-10-20T12:52:05.670</td><td></td><td>06 30 38.00</td><td>+33 09 45.0</td><td>SR</td><td>10.0</td></tr>\n",
       "<tr><td>5</td><td>Flat_20211020_125225_Dawn_SR_2_002_T1.fts</td><td>2021-10-20T12:52:26.020</td><td></td><td>06 30 41.00</td><td>+33 09 45.0</td><td>SR</td><td>10.0</td></tr>\n",
       "<tr><td>6</td><td>Flat_20211020_125246_Dawn_SR_2_003_T1.fts</td><td>2021-10-20T12:52:46.340</td><td></td><td>06 30 44.00</td><td>+33 09 46.0</td><td>SR</td><td>10.0</td></tr>\n",
       "<tr><td>7</td><td>Flat_20211020_125306_Dawn_SR_2_004_T1.fts</td><td>2021-10-20T12:53:06.840</td><td></td><td>06 30 47.00</td><td>+33 09 46.0</td><td>SR</td><td>10.0</td></tr>\n",
       "<tr><td>8</td><td>Flat_20211020_125327_Dawn_SR_2_005_T1.fts</td><td>2021-10-20T12:53:27.610</td><td></td><td>06 30 51.00</td><td>+33 09 46.0</td><td>SR</td><td>10.0</td></tr>\n",
       "<tr><td>9</td><td>Flat_20211020_125356_Dawn_SI_2_001_T1.fts</td><td>2021-10-20T12:54:13.710</td><td></td><td>06 32 46.00</td><td>+33 15 24.0</td><td>SI</td><td>10.0</td></tr>\n",
       "<tr><td>10</td><td>Flat_20211020_125434_Dawn_SI_2_002_T1.fts</td><td>2021-10-20T12:54:34.100</td><td></td><td>06 32 49.00</td><td>+33 15 24.0</td><td>SI</td><td>10.0</td></tr>\n",
       "<tr><td>11</td><td>Flat_20211020_125455_Dawn_SI_2_003_T1.fts</td><td>2021-10-20T12:54:55.390</td><td></td><td>06 32 52.00</td><td>+33 15 24.0</td><td>SI</td><td>10.0</td></tr>\n",
       "<tr><td>12</td><td>Flat_20211020_125523_Dawn_SZ_2_001_T1.fts</td><td>2021-10-20T12:57:14.190</td><td></td><td>06 35 45.00</td><td>+33 44 22.0</td><td>SZ</td><td>10.0</td></tr>\n",
       "<tr><td>13</td><td>Flat_20211020_125734_Dawn_SZ_2_002_T1.fts</td><td>2021-10-20T12:57:35</td><td></td><td>06 35 49.00</td><td>+33 44 22.0</td><td>SZ</td><td>10.0</td></tr>\n",
       "<tr><td>14</td><td>Flat_20211020_125756_Dawn_SZ_2_003_T1.fts</td><td>2021-10-20T12:57:56.250</td><td></td><td>06 35 52.00</td><td>+33 44 22.0</td><td>SZ</td><td>10.0</td></tr>\n",
       "<tr><td>15</td><td>Flat_20211020_125822_Dawn_SU_2_001_T1.fts</td><td>2021-10-20T13:02:22.990</td><td></td><td>06 40 53.00</td><td>+33 27 56.0</td><td>SU</td><td>10.0</td></tr>\n",
       "<tr><td>16</td><td>Flat_20211020_130243_Dawn_SU_2_002_T1.fts</td><td>2021-10-20T13:02:43.770</td><td></td><td>06 40 56.00</td><td>+33 27 56.0</td><td>SU</td><td>10.0</td></tr>\n",
       "<tr><td>17</td><td>Flat_20211020_130304_Dawn_SU_2_003_T1.fts</td><td>2021-10-20T13:03:04.400</td><td></td><td>06 40 59.00</td><td>+33 27 56.0</td><td>SU</td><td>10.0</td></tr>\n",
       "<tr><td>18</td><td>Flat_20211020_130328_Dawn_Halpha_2_001_T1.fts</td><td>2021-10-20T13:06:27.900</td><td></td><td>06 44 58.00</td><td>+33 37 17.0</td><td>Halpha</td><td>10.0</td></tr>\n",
       "<tr><td>19</td><td>Flat_20211020_130648_Dawn_Halpha_2_002_T1.fts</td><td>2021-10-20T13:06:48.870</td><td></td><td>06 45 01.00</td><td>+33 37 17.0</td><td>Halpha</td><td>10.0</td></tr>\n",
       "<tr><td>20</td><td>Flat_20211020_130709_Dawn_Halpha_2_003_T1.fts</td><td>2021-10-20T13:07:09.400</td><td></td><td>06 45 05.00</td><td>+33 37 17.0</td><td>Halpha</td><td>10.0</td></tr>\n",
       "</table><style>table.dataTable {clear: both; width: auto !important; margin: 0 !important;}\n",
       ".dataTables_info, .dataTables_length, .dataTables_filter, .dataTables_paginate{\n",
       "display: inline-block; margin-right: 1em; }\n",
       ".paginate_button { margin-right: 5px; }\n",
       "</style>\n",
       "<script>\n",
       "\n",
       "var astropy_sort_num = function(a, b) {\n",
       "    var a_num = parseFloat(a);\n",
       "    var b_num = parseFloat(b);\n",
       "\n",
       "    if (isNaN(a_num) && isNaN(b_num))\n",
       "        return ((a < b) ? -1 : ((a > b) ? 1 : 0));\n",
       "    else if (!isNaN(a_num) && !isNaN(b_num))\n",
       "        return ((a_num < b_num) ? -1 : ((a_num > b_num) ? 1 : 0));\n",
       "    else\n",
       "        return isNaN(a_num) ? -1 : 1;\n",
       "}\n",
       "\n",
       "require.config({paths: {\n",
       "    datatables: 'https://cdn.datatables.net/1.10.12/js/jquery.dataTables.min'\n",
       "}});\n",
       "require([\"datatables\"], function(){\n",
       "    console.log(\"$('#table47556531301680-790229').dataTable()\");\n",
       "    \n",
       "jQuery.extend( jQuery.fn.dataTableExt.oSort, {\n",
       "    \"optionalnum-asc\": astropy_sort_num,\n",
       "    \"optionalnum-desc\": function (a,b) { return -astropy_sort_num(a, b); }\n",
       "});\n",
       "\n",
       "    $('#table47556531301680-790229').dataTable({\n",
       "        order: [],\n",
       "        pageLength: 10,\n",
       "        lengthMenu: [[10, 25, 50, 100, 500, 1000, -1], [10, 25, 50, 100, 500, 1000, 'All']],\n",
       "        pagingType: \"full_numbers\",\n",
       "        columnDefs: [{targets: [0], type: \"optionalnum\"}]\n",
       "    });\n",
       "});\n",
       "</script>\n"
      ],
      "text/plain": [
       "<IPython.core.display.HTML object>"
      ]
     },
     "execution_count": 5,
     "metadata": {},
     "output_type": "execute_result"
    }
   ],
   "source": [
    "red.log().show_in_notebook(display_length=10)"
   ]
  },
  {
   "cell_type": "code",
   "execution_count": 6,
   "metadata": {},
   "outputs": [
    {
     "name": "stdout",
     "output_type": "stream",
     "text": [
      "  Reading file: /home/tmo/20211020/CCD Image 851.fit\n",
      "  subtracting overscan:  509.128\n",
      "INFO: array provided for uncertainty; assuming it is a StdDevUncertainty. [astropy.nddata.ccddata]\n"
     ]
    },
    {
     "data": {
      "text/plain": [
       "<Figure size 640x480 with 0 Axes>"
      ]
     },
     "metadata": {},
     "output_type": "display_data"
    }
   ],
   "source": [
    "t.tvclear()\n",
    "a=red.reduce(851)"
   ]
  },
  {
   "cell_type": "code",
   "execution_count": 9,
   "metadata": {},
   "outputs": [
    {
     "data": {
      "text/plain": [
       "0.44"
      ]
     },
     "execution_count": 9,
     "metadata": {},
     "output_type": "execute_result"
    }
   ],
   "source": [
    "t.tv(a)\n",
    "red.scale"
   ]
  },
  {
   "cell_type": "markdown",
   "metadata": {},
   "source": [
    "Interactive marking of stars with stars.mark(). Note that photutils has routines for automatic detection of stars."
   ]
  },
  {
   "cell_type": "code",
   "execution_count": 10,
   "metadata": {},
   "outputs": [
    {
     "name": "stdout",
     "output_type": "stream",
     "text": [
      "Hit c near desired star(s) to get centroid position\n",
      "    i to use integer position of cursor\n",
      "    n to get ID of nearest star\n",
      "    q or e to quit\n"
     ]
    }
   ],
   "source": [
    "seeing=3\n",
    "tab=stars.mark(t,rad=seeing/red.scale,new=True)"
   ]
  },
  {
   "cell_type": "code",
   "execution_count": 11,
   "metadata": {},
   "outputs": [
    {
     "name": "stdout",
     "output_type": "stream",
     "text": [
      " id    x       y        MJD      EXPTIME FILTER AIRMASS\n",
      "--- ------- ------- ------------ ------- ------ -------\n",
      "  1  623.20 1476.03 59507.536177    10.0     SR   1.034\n",
      "  2 1250.55 1272.77 59507.536177    10.0     SR   1.034\n",
      "  3  621.25 1496.21 59507.536177    10.0     SR   1.034\n",
      "  4 1996.00 1514.22 59507.536177    10.0     SR   1.034\n"
     ]
    }
   ],
   "source": [
    "print(tab)"
   ]
  },
  {
   "cell_type": "markdown",
   "metadata": {},
   "source": [
    "Note that if you provide an input table to stars.mark(), along with auto=True, it will re-centroid around position in table"
   ]
  },
  {
   "cell_type": "markdown",
   "metadata": {},
   "source": [
    "Aperture photometry with stars.photom (front end for photutils). This will do aperture photometry on image specified in first argument, for objects specified in the second argument ( a Table). Will do multiple aperture radii as specified with rad= kekyword, using sky annulus as specified by skyrad= keyword.  If display= is given, apertures and annuli will be displayed on the image.<br>\n",
    "Returns the table with columns added for aperture photometry, uncertainties and sky values. Magnitudes are instrumental magnitudes, not corrected for exposure time, i.e. -2.5 log (counts)"
   ]
  },
  {
   "cell_type": "code",
   "execution_count": 14,
   "metadata": {},
   "outputs": [
    {
     "name": "stderr",
     "output_type": "stream",
     "text": [
      "/home/holtz/git/pyvista/python/pyvista/stars.py:343: RuntimeWarning: invalid value encountered in log10\n",
      "  try : stars[istar][name] = -2.5 * np.log10(stars[istar][name])\n"
     ]
    },
    {
     "data": {
      "text/html": [
       "<div><i>Table length=4</i>\n",
       "<table id=\"table47556540657728\" class=\"table-striped table-bordered table-condensed\">\n",
       "<thead><tr><th>id</th><th>x</th><th>y</th><th>MJD</th><th>EXPTIME</th><th>FILTER</th><th>AIRMASS</th><th>aper3.0</th><th>aper3.0err</th><th>aper4.0</th><th>aper4.0err</th><th>aper5.0</th><th>aper5.0err</th><th>aper6.0</th><th>aper6.0err</th><th>aper7.0</th><th>aper7.0err</th><th>aper8.0</th><th>aper8.0err</th><th>aper9.0</th><th>aper9.0err</th><th>sky</th><th>skysig</th><th>peak</th></tr></thead>\n",
       "<thead><tr><th>int32</th><th>float32</th><th>float32</th><th>float64</th><th>float32</th><th>bytes32</th><th>float32</th><th>float64</th><th>float64</th><th>float64</th><th>float64</th><th>float64</th><th>float64</th><th>float64</th><th>float64</th><th>float64</th><th>float64</th><th>float64</th><th>float64</th><th>float64</th><th>float64</th><th>float64</th><th>float64</th><th>float64</th></tr></thead>\n",
       "<tr><td>1</td><td>623.20</td><td>1476.03</td><td>59507.536177</td><td>10.0</td><td>SR</td><td>1.034</td><td>nan</td><td>-1.844</td><td>nan</td><td>-0.595</td><td>nan</td><td>-0.387</td><td>nan</td><td>-0.331</td><td>nan</td><td>-0.376</td><td>nan</td><td>-0.565</td><td>nan</td><td>-0.914</td><td>10979.74</td><td>134.78</td><td>11170.9</td></tr>\n",
       "<tr><td>2</td><td>1250.55</td><td>1272.77</td><td>59507.536177</td><td>10.0</td><td>SR</td><td>1.034</td><td>-12.506</td><td>0.008</td><td>-13.000</td><td>0.007</td><td>-13.345</td><td>0.006</td><td>-13.566</td><td>0.006</td><td>-13.708</td><td>0.006</td><td>-13.801</td><td>0.006</td><td>-13.858</td><td>0.006</td><td>11528.21</td><td>126.56</td><td>16131.9</td></tr>\n",
       "<tr><td>3</td><td>621.25</td><td>1496.21</td><td>59507.536177</td><td>10.0</td><td>SR</td><td>1.034</td><td>-13.670</td><td>0.003</td><td>-14.245</td><td>0.003</td><td>-14.607</td><td>0.002</td><td>-14.836</td><td>0.002</td><td>-14.989</td><td>0.002</td><td>-15.097</td><td>0.002</td><td>-15.176</td><td>0.002</td><td>10965.37</td><td>122.75</td><td>27424.9</td></tr>\n",
       "<tr><td>4</td><td>1996.00</td><td>1514.22</td><td>59507.536177</td><td>10.0</td><td>SR</td><td>1.034</td><td>-13.173</td><td>0.005</td><td>-13.555</td><td>0.004</td><td>-13.768</td><td>0.004</td><td>-13.883</td><td>0.005</td><td>-13.941</td><td>0.005</td><td>-13.975</td><td>0.005</td><td>-13.997</td><td>0.006</td><td>12959.90</td><td>129.35</td><td>24450.9</td></tr>\n",
       "</table></div>"
      ],
      "text/plain": [
       "<Table length=4>\n",
       "  id     x       y        MJD      EXPTIME  FILTER ... aper9.0 aper9.0err   sky     skysig   peak \n",
       "int32 float32 float32   float64    float32 bytes32 ... float64  float64   float64  float64 float64\n",
       "----- ------- ------- ------------ ------- ------- ... ------- ---------- -------- ------- -------\n",
       "    1  623.20 1476.03 59507.536177    10.0      SR ...     nan     -0.914 10979.74  134.78 11170.9\n",
       "    2 1250.55 1272.77 59507.536177    10.0      SR ... -13.858      0.006 11528.21  126.56 16131.9\n",
       "    3  621.25 1496.21 59507.536177    10.0      SR ... -15.176      0.002 10965.37  122.75 27424.9\n",
       "    4 1996.00 1514.22 59507.536177    10.0      SR ... -13.997      0.006 12959.90  129.35 24450.9"
      ]
     },
     "execution_count": 14,
     "metadata": {},
     "output_type": "execute_result"
    }
   ],
   "source": [
    "stars.photom(a,tab,rad=np.arange(3,10),skyrad=[20,30],display=t)"
   ]
  },
  {
   "cell_type": "code",
   "execution_count": 15,
   "metadata": {},
   "outputs": [
    {
     "name": "stdout",
     "output_type": "stream",
     "text": [
      " id    x       y        MJD      EXPTIME FILTER ... aper9.0 aper9.0err   sky    skysig   peak \n",
      "--- ------- ------- ------------ ------- ------ ... ------- ---------- -------- ------ -------\n",
      "  1  623.20 1476.03 59507.536177    10.0     SR ...     nan     -0.914 10979.74 134.78 11170.9\n",
      "  2 1250.55 1272.77 59507.536177    10.0     SR ... -13.858      0.006 11528.21 126.56 16131.9\n",
      "  3  621.25 1496.21 59507.536177    10.0     SR ... -15.176      0.002 10965.37 122.75 27424.9\n",
      "  4 1996.00 1514.22 59507.536177    10.0     SR ... -13.997      0.006 12959.90 129.35 24450.9\n"
     ]
    }
   ],
   "source": [
    "print(tab)"
   ]
  },
  {
   "cell_type": "markdown",
   "metadata": {},
   "source": [
    "<h2> World coordinate system (WCS)"
   ]
  },
  {
   "cell_type": "markdown",
   "metadata": {},
   "source": [
    "With solve=True, Reducer will try to solve for a WCS using a local instllation of astrometry.net"
   ]
  },
  {
   "cell_type": "markdown",
   "metadata": {},
   "source": [
    "Example for autofinding stars on a TMO image. Here's an example of using a master file with a set of standard stars, using WCS to get pixel positions and selecting only those stars on the current frame."
   ]
  },
  {
   "cell_type": "code",
   "execution_count": 18,
   "metadata": {},
   "outputs": [
    {
     "data": {
      "text/html": [
       "<div><i>Table length=4</i>\n",
       "<table id=\"table47557242464960\" class=\"table-striped table-bordered table-condensed\">\n",
       "<thead><tr><th>NAME</th><th>RA</th><th>DEC</th><th>u</th><th>g</th><th>r</th><th>i</th><th>z</th><th>ID</th><th>x</th><th>y</th></tr></thead>\n",
       "<thead><tr><th>bytes11</th><th>float64</th><th>float64</th><th>float64</th><th>float64</th><th>float64</th><th>float64</th><th>float64</th><th>int64</th><th>float64</th><th>float64</th></tr></thead>\n",
       "<tr><td>SA 112 223</td><td>310.560750</td><td>0.149917</td><td>12.75</td><td>11.61</td><td>11.34</td><td>11.27</td><td>11.27</td><td>130</td><td>917.49</td><td>498.85</td></tr>\n",
       "<tr><td>SA 112 250</td><td>310.609917</td><td>0.128444</td><td>13.48</td><td>12.31</td><td>11.96</td><td>11.85</td><td>11.84</td><td>131</td><td>1338.67</td><td>358.59</td></tr>\n",
       "<tr><td>SA 112 805</td><td>310.694750</td><td>0.269000</td><td>13.27</td><td>12.09</td><td>12.17</td><td>12.31</td><td>12.40</td><td>132</td><td>1934.67</td><td>1579.06</td></tr>\n",
       "<tr><td>SA 112 822</td><td>310.728750</td><td>0.250528</td><td>14.32</td><td>12.03</td><td>11.23</td><td>10.94</td><td>10.79</td><td>133</td><td>2228.58</td><td>1452.23</td></tr>\n",
       "</table></div>"
      ],
      "text/plain": [
       "<Table length=4>\n",
       "   NAME        RA       DEC       u       g       r       i       z      ID     x       y   \n",
       " bytes11    float64   float64  float64 float64 float64 float64 float64 int64 float64 float64\n",
       "---------- ---------- -------- ------- ------- ------- ------- ------- ----- ------- -------\n",
       "SA 112 223 310.560750 0.149917   12.75   11.61   11.34   11.27   11.27   130  917.49  498.85\n",
       "SA 112 250 310.609917 0.128444   13.48   12.31   11.96   11.85   11.84   131 1338.67  358.59\n",
       "SA 112 805 310.694750 0.269000   13.27   12.09   12.17   12.31   12.40   132 1934.67 1579.06\n",
       "SA 112 822 310.728750 0.250528   14.32   12.03   11.23   10.94   10.79   133 2228.58 1452.23"
      ]
     },
     "execution_count": 18,
     "metadata": {},
     "output_type": "execute_result"
    }
   ],
   "source": [
    "#reduce an image and add WCS using astrometry.net routines\n",
    "# note that I haven't even included flat fielding! so results will be poor\n",
    "red.dir=('/home/tmo/20211116')\n",
    "a=red.reduce('SA112-S001-SR-R001-SR.fts',solve=True)\n",
    "\n",
    "# ugriz_smith file has positions and standard mags\n",
    "tab=Table.read('ugriz_smith.fits')\n",
    "\n",
    "# populate x and y columns with pixel locations in this image\n",
    "tab['x'],tab['y']=a.wcs.wcs_world2pix(tab['RA'],tab['DEC'],0)\n",
    "#table formatting\n",
    "for col in ['x','y','u','g','r','i','z'] : tab[col].info.format='.2f'\n",
    "for col in ['RA','DEC'] : tab[col].info.format='.6f'\n",
    "\n",
    "# select out stars that fall on the image\n",
    "nrow,ncol=a.data.shape\n",
    "gd=np.where((tab['x']>0)&(tab['y']>0)&(tab['x']<ncol)&(tab['y']<nrow))[0]\n",
    "tab=tab[gd]\n",
    "\n",
    "# display them\n",
    "t.tvclear()\n",
    "t.tv(a)\n",
    "for xx,yy in zip(tab['x'],tab['y']) : \n",
    "    t.tvcirc(xx,yy,20)\n",
    "    \n",
    "# show the table\n",
    "tab"
   ]
  },
  {
   "cell_type": "markdown",
   "metadata": {},
   "source": [
    "This has the nice advantage that you can just add the photometry onto this table and facilitate getting the photometric transformations!<br>\n",
    "Now we use the x,y positions from the WCS, recentroid using mark() with the auto=True option (exit=True means it doesn't then wait for you to mark additional stars), and then do the aperture photometry."
   ]
  },
  {
   "cell_type": "code",
   "execution_count": 19,
   "metadata": {},
   "outputs": [
    {
     "data": {
      "text/html": [
       "<div><i>Table length=4</i>\n",
       "<table id=\"table47557242464960\" class=\"table-striped table-bordered table-condensed\">\n",
       "<thead><tr><th>NAME</th><th>RA</th><th>DEC</th><th>u</th><th>g</th><th>r</th><th>i</th><th>z</th><th>ID</th><th>x</th><th>y</th><th>EXPTIME</th><th>FILTER</th><th>AIRMASS</th><th>MJD</th><th>aper10</th><th>aper10err</th><th>sky</th><th>skysig</th><th>peak</th></tr></thead>\n",
       "<thead><tr><th>bytes11</th><th>float64</th><th>float64</th><th>float64</th><th>float64</th><th>float64</th><th>float64</th><th>float64</th><th>int64</th><th>float64</th><th>float64</th><th>float64</th><th>str2</th><th>float64</th><th>float64</th><th>float64</th><th>float64</th><th>float64</th><th>float64</th><th>float64</th></tr></thead>\n",
       "<tr><td>SA 112 223</td><td>310.560750</td><td>0.149917</td><td>12.75</td><td>11.61</td><td>11.34</td><td>11.27</td><td>11.27</td><td>130</td><td>920.09</td><td>497.70</td><td>10.0</td><td>SR</td><td>1.358</td><td>59534.089396</td><td>-12.806</td><td>0.004</td><td>57.32</td><td>12.72</td><td>2772.1</td></tr>\n",
       "<tr><td>SA 112 250</td><td>310.609917</td><td>0.128444</td><td>13.48</td><td>12.31</td><td>11.96</td><td>11.85</td><td>11.84</td><td>131</td><td>1341.11</td><td>357.73</td><td>10.0</td><td>SR</td><td>1.358</td><td>59534.089396</td><td>-12.233</td><td>0.006</td><td>58.40</td><td>12.74</td><td>1723.1</td></tr>\n",
       "<tr><td>SA 112 805</td><td>310.694750</td><td>0.269000</td><td>13.27</td><td>12.09</td><td>12.17</td><td>12.31</td><td>12.40</td><td>132</td><td>1937.24</td><td>1579.74</td><td>10.0</td><td>SR</td><td>1.358</td><td>59534.089396</td><td>-12.089</td><td>0.006</td><td>66.75</td><td>13.28</td><td>5174.1</td></tr>\n",
       "<tr><td>SA 112 822</td><td>310.728750</td><td>0.250528</td><td>14.32</td><td>12.03</td><td>11.23</td><td>10.94</td><td>10.79</td><td>133</td><td>2230.59</td><td>1452.48</td><td>10.0</td><td>SR</td><td>1.358</td><td>59534.089396</td><td>-13.006</td><td>0.004</td><td>67.81</td><td>13.05</td><td>11173.1</td></tr>\n",
       "</table></div>"
      ],
      "text/plain": [
       "<Table length=4>\n",
       "   NAME        RA       DEC       u       g       r    ...  aper10 aper10err   sky    skysig   peak \n",
       " bytes11    float64   float64  float64 float64 float64 ... float64  float64  float64 float64 float64\n",
       "---------- ---------- -------- ------- ------- ------- ... ------- --------- ------- ------- -------\n",
       "SA 112 223 310.560750 0.149917   12.75   11.61   11.34 ... -12.806     0.004   57.32   12.72  2772.1\n",
       "SA 112 250 310.609917 0.128444   13.48   12.31   11.96 ... -12.233     0.006   58.40   12.74  1723.1\n",
       "SA 112 805 310.694750 0.269000   13.27   12.09   12.17 ... -12.089     0.006   66.75   13.28  5174.1\n",
       "SA 112 822 310.728750 0.250528   14.32   12.03   11.23 ... -13.006     0.004   67.81   13.05 11173.1"
      ]
     },
     "execution_count": 19,
     "metadata": {},
     "output_type": "execute_result"
    }
   ],
   "source": [
    "t.tv(a)\n",
    "phot=stars.mark(t,tab,rad=3/red.scale,auto=True,exit=True)\n",
    "stars.photom(a,phot,rad=[10],skyrad=[20,30],display=t)\n"
   ]
  },
  {
   "cell_type": "markdown",
   "metadata": {},
   "source": [
    "Note that the photom() routine does not include the exposure time in the instrumental magnitudes."
   ]
  },
  {
   "cell_type": "markdown",
   "metadata": {},
   "source": [
    "<h2>Photometric transformations"
   ]
  },
  {
   "cell_type": "markdown",
   "metadata": {},
   "source": [
    "The general transformation equations follow:\n",
    "$$g = SG + k_g X + t_g(g-r) + z_g$$\n",
    "$$r = SR + k_r X + t_r(g-r) + z_r$$\n",
    "$$...$$\n",
    "where there would be an equation for every filter. For each filter, we need to associate the standard magnitude to which we want to transform (e.g., SG to g, SR to r, etc.), and also associate a standard color to use for the color term, which is typically a color index between the magnitude that we are transforming to, and an adjacent one (e.g., g-r for both g and r above).<br>\n",
    "Using standard stars, we solve for the extinction coefficient, the transformation coefficient, and the zero point for each filter. Generally, this is set up as a linear least squares problem for each filter:\n",
    "\n",
    "\\begin{equation}\n",
    "\\begin{pmatrix}\n",
    "X_1 & color_1 & 1 \\\\\n",
    "X_2 & color_2 & 1 \\\\\n",
    "... & ... & ... \\\\\n",
    "\\end{pmatrix}\n",
    "\\begin{pmatrix}\n",
    "k_g\\\\\n",
    "t_g\\\\\n",
    "z_g\\\\\n",
    "\\end{pmatrix} \n",
    "=\n",
    "\\begin{pmatrix}\n",
    "g-SG_1\\\\\n",
    "g-SG_2\\\\\n",
    "...\\\\\n",
    "\\end{pmatrix}\n",
    "\\end{equation}\n",
    "where there is a row for every observation in the filter.\n"
   ]
  },
  {
   "cell_type": "code",
   "execution_count": 22,
   "metadata": {},
   "outputs": [
    {
     "name": "stderr",
     "output_type": "stream",
     "text": [
      "/tmp/ipykernel_45556/1663092789.py:38: FutureWarning: `rcond` parameter will change to the default of machine precision times ``max(M, N)`` where M and N are the input matrix dimensions.\n",
      "To use the future default and silence this warning we advise to pass `rcond=None`, to keep using the old, explicitly pass `rcond=-1`.\n",
      "  fit,resid,rank,s=np.linalg.lstsq(mat,rhs)\n"
     ]
    },
    {
     "name": "stdout",
     "output_type": "stream",
     "text": [
      "fit:    r  \n",
      "-----\n",
      "-0.02\n",
      "21.71\n",
      "resid   r  \n",
      "----\n",
      "0.01\n"
     ]
    },
    {
     "data": {
      "image/png": "[encoded data removed]",
      "text/plain": [
       "<Figure size 800x500 with 8 Axes>"
      ]
     },
     "metadata": {},
     "output_type": "display_data"
    }
   ],
   "source": [
    "%matplotlib inline\n",
    "from tools import plots\n",
    "filts=['SR']        #observed filter names\n",
    "mags=['r']          # standard mag to transform to\n",
    "colors=[['g','r']]  # pair for each filter\n",
    "aper='aper10'\n",
    "for filt,mag,color in zip(filts,mags,colors) :\n",
    "    j=np.where(tab['FILTER'] == filt)[0]\n",
    "    mjd=tab['MJD'][j]\n",
    "    airmass=tab['AIRMASS'][j]\n",
    "    exptime=tab['EXPTIME'][j]\n",
    "    col=tab[color[0]][j]-tab[color[1]][j]\n",
    "    zero=np.ones(len(j))\n",
    "    # include the EXPTIME correction for instrumental mag\n",
    "    inst=tab[aper]+2.5*np.log10(exptime)\n",
    "    stan=tab[mag]\n",
    "    # right hand side is standard mag - instrumental mag\n",
    "    rhs=stan-inst\n",
    "    # left hand side matrix is the airmass,color,1 for each observation\n",
    "    # for my example, I don't have multiple airmass, so just including 2 terms\n",
    "    #mat=np.array([airmass,color,zero]).T\n",
    "    mat=np.array([col,zero]).T\n",
    "    \n",
    "    #plot difference between standard and observe a function of things\n",
    "    #plots (from holtz-tools) contains convenience routines for making and labelling plots\n",
    "    fig,ax=plots.multi(2,2,figsize=(8,5))\n",
    "    # plotc plots points at x,y positions, colored by z\n",
    "    colname=color[0]+'-'+color[1]\n",
    "    plots.plotc(ax[0,0],airmass,rhs,col,\n",
    "                xt='airmass',yt=mag+'-'+filt,zt=colname,colorbar=True,size=20)\n",
    "    plots.plotc(ax[0,1],col,rhs,airmass,\n",
    "                xt='color',yt=mag+'-'+filt,zt='airmass',colorbar=True,size=20)\n",
    "    plots.plotc(ax[1,0],mjd,rhs,airmass,\n",
    "                xt='MJD',yt=mag+'-'+filt,zt='airmass',colorbar=True,size=20)\n",
    "    fig.tight_layout()\n",
    "    \n",
    "    # do the fit for the coefficients\n",
    "    fit,resid,rank,s=np.linalg.lstsq(mat,rhs)\n",
    "    print('fit: ',fit)\n",
    "    print('resid ',resid)\n",
    "    \n",
    "    # now use the solution to get transformed magnitudes from the obs\n",
    "    trans=np.matmul(mat,fit)+inst #obs\n",
    "    plots.plotc(ax[1,1],mjd,stan-trans,airmass,\n",
    "                xt='MJD',yt='stan-trans',zt='airmass',colorbar=True,size=20)"
   ]
  },
  {
   "cell_type": "markdown",
   "metadata": {},
   "source": [
    "You could now use the transformation fit to transform any instrumental magnitudes to the standard system...."
   ]
  },
  {
   "cell_type": "code",
   "execution_count": 23,
   "metadata": {},
   "outputs": [
    {
     "data": {
      "text/html": [
       "&lt;Column name=&apos;r&apos; dtype=&apos;float64&apos; format=&apos;.2f&apos; length=1&gt;\n",
       "<table>\n",
       "<tr><td>0.01</td></tr>\n",
       "</table>"
      ],
      "text/plain": [
       "<Column name='r' dtype='float64' format='.2f' length=1>\n",
       "0.01"
      ]
     },
     "execution_count": 23,
     "metadata": {},
     "output_type": "execute_result"
    }
   ],
   "source": [
    "resid"
   ]
  },
  {
   "cell_type": "code",
   "execution_count": null,
   "metadata": {},
   "outputs": [],
   "source": []
  }
 ],
 "metadata": {
  "kernelspec": {
   "display_name": "Python 3 (ipykernel)",
   "language": "python",
   "name": "python3"
  },
  "language_info": {
   "codemirror_mode": {
    "name": "ipython",
    "version": 3
   },
   "file_extension": ".py",
   "mimetype": "text/x-python",
   "name": "python",
   "nbconvert_exporter": "python",
   "pygments_lexer": "ipython3",
   "version": "3.9.18"
  }
 },
 "nbformat": 4,
 "nbformat_minor": 4
}
