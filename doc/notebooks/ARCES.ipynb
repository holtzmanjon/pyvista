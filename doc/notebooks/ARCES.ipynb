{
 "cells": [
  {
   "cell_type": "markdown",
   "metadata": {},
   "source": [
    "<h2> Spectroscopic data reduction : spectra module"
   ]
  },
  {
   "cell_type": "markdown",
   "metadata": {},
   "source": [
    "<h2> ARCES : echelle spectroscopy"
   ]
  },
  {
   "cell_type": "code",
   "execution_count": 1,
   "metadata": {},
   "outputs": [
    {
     "name": "stdout",
     "output_type": "stream",
     "text": [
      "pyautogui does not seem to be available, disabling arrow key cursor moves\n"
     ]
    }
   ],
   "source": [
    "from pyvista import imred, tv, spectra\n",
    "import pyvista.data\n",
    "from importlib_resources import files\n",
    "import numpy as np\n",
    "import matplotlib.pyplot as plt\n",
    "import pickle\n",
    "import os"
   ]
  },
  {
   "cell_type": "markdown",
   "metadata": {},
   "source": [
    "pyvista uses a display tool defined in the tv module. To use the interactive\n",
    "display in a notebook, set the display to be an external display window, e.g. with \n",
    "<code>\n",
    "%matplotlib qt\n",
    "</code>\n",
    "Instantiate a tv object, here we just call it t, but you could call it whatever you want!"
   ]
  },
  {
   "cell_type": "code",
   "execution_count": 2,
   "metadata": {},
   "outputs": [],
   "source": [
    "%matplotlib qt\n",
    "t=tv.TV()"
   ]
  },
  {
   "cell_type": "markdown",
   "metadata": {},
   "source": [
    "The basic tool for basic image reduction is a Reducer object, defined in the imred module. Instantiate a reducer here. The main argument is an instrument name, which tells it to read a YAML configuration file for the specified instrument. We also give it an optional dir= argument to specify the default directory from which to read images, if a directory is not specified in subsequent commands that read images."
   ]
  },
  {
   "cell_type": "code",
   "execution_count": 159,
   "metadata": {},
   "outputs": [
    {
     "name": "stdout",
     "output_type": "stream",
     "text": [
      "INSTRUMENT: ARCES   config: \n",
      "  will use format:  UT211031/echelle/*{:04d}.f*.fits*\n",
      "         gain:  [3.8]    rn: [ 7.]\n",
      "         scale:  None   \n",
      "  Biastype : 0\n",
      "  Bias box: \n",
      "    SC    NC    SR    NR\n",
      "  2075    51    20  2009 \n",
      "  Trim box: \n",
      "    SC    NC    SR    NR\n",
      "    22  2026     0  2048 \n",
      "  Norm box: \n",
      "    SC    NC    SR    NR\n",
      "  1000    51  1000    51 \n"
     ]
    }
   ],
   "source": [
    "red=imred.Reducer('ARCES',dir='UT211031/echelle')"
   ]
  },
  {
   "cell_type": "markdown",
   "metadata": {},
   "source": [
    "A main method of the reducer object is the reduce() method. Without any additional arguments, reduce() will read an image from disk, subtract the overscan (region(s) as determined from the instrument configuration file), compute an uncertainty array using the gain and readout noise from the instrument configuration file, and return a CCDData object with the data, uncertainty, and mask. \n",
    "<p>\n",
    "To specify the input image, we could pass a string with the file name. If the string does not include a '/', it will read from the default input directory.\n",
    "<p>\n",
    "If the file can be identified with a unique integer, then you can just specify this number, which can be very convenient. This is turned into a character string using the formstr attribute define in the configuration file, which is used to search for the file to read.\n",
    "<p>\n",
    "We can display the image using the tv() method of our display tool, which can take as input a Data object, and numpy array, or a FITS HDU object."
   ]
  },
  {
   "cell_type": "code",
   "execution_count": 160,
   "metadata": {},
   "outputs": [
    {
     "name": "stdout",
     "output_type": "stream",
     "text": [
      "  Reading file: UT211031/echelle/HIP109807.0028.fits\n",
      "  subtracting overscan:  1291.72\n",
      "INFO: array provided for uncertainty; assuming it is a StdDevUncertainty. [astropy.nddata.ccddata]\n"
     ]
    }
   ],
   "source": [
    "a=red.reduce(28)\n",
    "\n",
    "t.tv(a)"
   ]
  },
  {
   "cell_type": "markdown",
   "metadata": {},
   "source": [
    "<h4> Calibration: make and apply flat field"
   ]
  },
  {
   "cell_type": "markdown",
   "metadata": {},
   "source": [
    "If we add additional arguments to reduce(), we can add additional calibration steps. For example, to flat field the data, we would add a flat= keyword through which we give the reducer a flat field. To add a spatial bias subtraction, we would add a bias= keyword through which we give the reducer a superbias frame.\n",
    "<br>\n",
    "First, however, we have to make the calibration products, which is accomplished using the mkflat(), mkbias(), etc methods. These take as input a list of frames to be used to construct the master calibration frame (e.g.. superflat). For ARCES, we will keep the spectral shape of the flats for now."
   ]
  },
  {
   "cell_type": "markdown",
   "metadata": {},
   "source": [
    "Create biases and flats. Note that for flats, we have to do scattered light removal, which can be done on reduction of individual images, but since it is slow, we will do it on the combined flat. If we add the display= keyword, giving a display object, then the calibration frames will be displayed, showing each input frame relative to the master frame, so you can inspect and make sure that bad frames are not being included in the combination."
   ]
  },
  {
   "cell_type": "code",
   "execution_count": 161,
   "metadata": {
    "scrolled": true
   },
   "outputs": [
    {
     "name": "stdout",
     "output_type": "stream",
     "text": [
      "  Reading file: UT211031/echelle/bias.0019.fits\n",
      "  subtracting overscan:  1288.79\n",
      "  Reading file: UT211031/echelle/bias.0020.fits\n",
      "  subtracting overscan:  1288.58\n",
      "  Reading file: UT211031/echelle/bias.0021.fits\n",
      "  subtracting overscan:  1288.52\n",
      "  Reading file: UT211031/echelle/bias.0022.fits\n",
      "  subtracting overscan:  1288.55\n",
      "  Reading file: UT211031/echelle/bias.0023.fits\n",
      "  subtracting overscan:  1288.97\n",
      "  Reading file: UT211031/echelle/bias.0024.fits\n",
      "  subtracting overscan:  1289.03\n",
      "  combining data with median....\n",
      "  calculating uncertainty....\n",
      "  Reading file: UT211031/echelle/flat_red.0005.fits\n",
      "  subtracting overscan:  1287.67\n",
      "  Reading file: UT211031/echelle/flat_red.0006.fits\n",
      "  subtracting overscan:  1287.76\n",
      "  Reading file: UT211031/echelle/flat_red.0007.fits\n",
      "  subtracting overscan:  1287.53\n",
      "  Reading file: UT211031/echelle/flat_red.0008.fits\n",
      "  subtracting overscan:  1287.68\n",
      "  Reading file: UT211031/echelle/flat_red.0009.fits\n",
      "  subtracting overscan:  1287.39\n",
      "  Reading file: UT211031/echelle/flat_red.0010.fits\n",
      "  subtracting overscan:  1287.34\n",
      "  Reading file: UT211031/echelle/flat_red.0011.fits\n",
      "  subtracting overscan:  1287.35\n",
      "  combining data with median....\n",
      "  calculating uncertainty....\n",
      "  Reading file: UT211031/echelle/flat_blue.0012.fits\n",
      "  subtracting overscan:  1288.21\n",
      "  Reading file: UT211031/echelle/flat_blue.0013.fits\n",
      "  subtracting overscan:  1288.33\n",
      "  Reading file: UT211031/echelle/flat_blue.0014.fits\n",
      "  subtracting overscan:  1288.38\n",
      "  Reading file: UT211031/echelle/flat_blue.0015.fits\n",
      "  subtracting overscan:  1288.11\n",
      "  Reading file: UT211031/echelle/flat_blue.0016.fits\n",
      "  subtracting overscan:  1288.16\n",
      "  Reading file: UT211031/echelle/flat_blue.0017.fits\n",
      "  subtracting overscan:  1288.63\n",
      "  Reading file: UT211031/echelle/flat_blue.0018.fits\n",
      "  subtracting overscan:  1288.62\n",
      "  combining data with median....\n",
      "  calculating uncertainty....\n",
      "  estimating scattered light ...\n",
      "    fitting surface ...\n",
      "    rejecting points ...\n",
      "    refitting surface ...\n",
      "  See image with scattered light points\n",
      "   To continue, hit space in display window (p for debug) \n",
      "  See scattered light image\n",
      "   To continue, hit space in display window (p for debug) \n",
      "  estimating scattered light ...\n",
      "    fitting surface ...\n",
      "    rejecting points ...\n",
      "    refitting surface ...\n",
      "  See image with scattered light points\n",
      "   To continue, hit space in display window (p for debug) \n",
      "  See scattered light image\n",
      "   To continue, hit space in display window (p for debug) \n"
     ]
    }
   ],
   "source": [
    "bias=red.mkbias([19,20,21,22,23,24])\n",
    "flat_red=red.mkflat([5,6,7,8,9,10,11])\n",
    "flat_blue=red.mkflat([12,13,14,15,16,17,18])\n",
    "\n",
    "# do scatter after combination to save time\n",
    "red.scatter(flat_red,scat=red.scat,display=t)\n",
    "red.scatter(flat_blue,scat=red.scat,display=t)"
   ]
  },
  {
   "cell_type": "markdown",
   "metadata": {},
   "source": [
    "Combine the red and blue flats."
   ]
  },
  {
   "cell_type": "code",
   "execution_count": 162,
   "metadata": {},
   "outputs": [],
   "source": [
    "flat=flat_red.multiply(flat_red.header['MEANNORM'])\n",
    "flat=flat.add(flat_blue.multiply(flat_blue.header['MEANNORM']))\n",
    "flat=flat.divide(flat_red.header['MEANNORM']+flat_blue.header['MEANNORM'])\n",
    "t.clear()\n",
    "t.tv(flat_blue)\n",
    "t.tv(flat_red)\n",
    "t.tv(flat)\n",
    "t.tv(flat,sn=True)"
   ]
  },
  {
   "cell_type": "markdown",
   "metadata": {},
   "source": [
    "Read and display a star spectral image. For ARCES, we do not apply a flat field here, since we only have flats with the orders, which can move around a bit. Instead, we will use \"1D\" flats later in the processing."
   ]
  },
  {
   "cell_type": "code",
   "execution_count": 163,
   "metadata": {
    "scrolled": true
   },
   "outputs": [
    {
     "name": "stdout",
     "output_type": "stream",
     "text": [
      "  Reading file: UT211031/echelle/HIP109807.0028.fits\n",
      "  subtracting overscan:  1291.72\n",
      "  subtracting bias...\n",
      "INFO: array provided for uncertainty; assuming it is a StdDevUncertainty. [astropy.nddata.ccddata]\n"
     ]
    }
   ],
   "source": [
    "star=red.reduce(28,bias=bias)\n",
    "t.tv(star,max=1000) "
   ]
  },
  {
   "cell_type": "code",
   "execution_count": 164,
   "metadata": {},
   "outputs": [
    {
     "name": "stdout",
     "output_type": "stream",
     "text": [
      "  zapping CRs with ccdproc.cosmicray_lacosmic\n",
      "  See CRs and CR-zapped image and original using - key\n",
      "   To continue, hit space in display window (p for debug) \n"
     ]
    }
   ],
   "source": [
    "crstar=red.crrej(star,crbox='lacosmic',display=t,objlim=50)"
   ]
  },
  {
   "cell_type": "markdown",
   "metadata": {},
   "source": [
    "<h4> Tracing and extraction"
   ]
  },
  {
   "cell_type": "code",
   "execution_count": 165,
   "metadata": {},
   "outputs": [
    {
     "name": "stdout",
     "output_type": "stream",
     "text": [
      "no attribute:  rows\n"
     ]
    },
    {
     "data": {
      "text/plain": [
       "{'type': 'Polynomial1D',\n",
       " 'degree': 2,\n",
       " 'sc0': 1064,\n",
       " 'pix0': -0.016310744310946035,\n",
       " 'spectrum': array([  7.71968625e-04,   7.23036355e-04,   8.62288638e-04, ...,\n",
       "          7.60172697e-05,   3.69138026e-04,   1.36280447e-04], dtype=float32),\n",
       " 'rad': 5,\n",
       " 'lags': array([-10,  -9,  -8,  -7,  -6,  -5,  -4,  -3,  -2,  -1,   0,   1,   2,\n",
       "          3,   4,   5,   6,   7,   8,   9]),\n",
       " 'transpose': False,\n",
       " 'rows': None,\n",
       " 'index': array([  0,   1,   2,   3,   4,   5,   6,   7,   8,   9,  10,  11,  12,\n",
       "         13,  14,  15,  16,  17,  18,  19,  20,  21,  22,  23,  24,  25,\n",
       "         26,  27,  28,  29,  30,  31,  32,  33,  34,  35,  36,  37,  38,\n",
       "         39,  40,  41,  42,  43,  44,  45,  46,  47,  48,  49,  50,  51,\n",
       "         52,  53,  54,  55,  56,  57,  58,  59,  60,  61,  62,  63,  64,\n",
       "         65,  66,  67,  68,  69,  70,  71,  72,  73,  74,  75,  76,  77,\n",
       "         78,  79,  80,  81,  82,  83,  84,  85,  86,  87,  88,  89,  90,\n",
       "         91,  92,  93,  94,  95,  96,  97,  98,  99, 100, 101, 102, 103,\n",
       "        104, 105, 106]),\n",
       " 'model': [<Polynomial1D(2, c0=331.66689053267896, c1=-0.07513039362999681, c2=3.48796893301522e-05)>,\n",
       "  <Polynomial1D(2, c0=341.9199784208266, c1=-0.07511607373150185, c2=3.48677094473913e-05)>,\n",
       "  <Polynomial1D(2, c0=352.0276855740665, c1=-0.07517622752757491, c2=3.487974365617365e-05)>,\n",
       "  <Polynomial1D(2, c0=361.99499854932577, c1=-0.07533555648565585, c2=3.495530690855771e-05)>,\n",
       "  <Polynomial1D(2, c0=371.73289966295897, c1=-0.07530603431045428, c2=3.494595422221042e-05)>,\n",
       "  <Polynomial1D(2, c0=381.33371005444303, c1=-0.07527296432355189, c2=3.494091298362189e-05)>,\n",
       "  <Polynomial1D(2, c0=390.8230877393702, c1=-0.07526792169617134, c2=3.495711054914068e-05)>,\n",
       "  <Polynomial1D(2, c0=400.1998253524528, c1=-0.07523105818673823, c2=3.495224486522976e-05)>,\n",
       "  <Polynomial1D(2, c0=409.49232201091945, c1=-0.07522065218614024, c2=3.4972702092402096e-05)>,\n",
       "  <Polynomial1D(2, c0=418.71748000274323, c1=-0.0752211407828277, c2=3.4997521650327396e-05)>,\n",
       "  <Polynomial1D(2, c0=427.8726301926307, c1=-0.07521382545547847, c2=3.501994082509166e-05)>,\n",
       "  <Polynomial1D(2, c0=436.9745386780377, c1=-0.07520696298652815, c2=3.5042611933161276e-05)>,\n",
       "  <Polynomial1D(2, c0=446.0203009782646, c1=-0.07519470257881035, c2=3.507099388393407e-05)>,\n",
       "  <Polynomial1D(2, c0=454.9972636204865, c1=-0.07512692783743008, c2=3.508088879521775e-05)>,\n",
       "  <Polynomial1D(2, c0=463.95438590772744, c1=-0.07506993110787065, c2=3.5095176244703505e-05)>,\n",
       "  <Polynomial1D(2, c0=472.8898975615753, c1=-0.0750059041417708, c2=3.510894355534018e-05)>,\n",
       "  <Polynomial1D(2, c0=481.844651938239, c1=-0.07499998187131691, c2=3.514822533636384e-05)>,\n",
       "  <Polynomial1D(2, c0=490.72007159028686, c1=-0.07484629757028978, c2=3.512625704250559e-05)>,\n",
       "  <Polynomial1D(2, c0=499.63335234289275, c1=-0.07477625004818378, c2=3.5143863816097935e-05)>,\n",
       "  <Polynomial1D(2, c0=508.55556458592, c1=-0.07470983926683113, c2=3.516357374143316e-05)>,\n",
       "  <Polynomial1D(2, c0=517.4749422043835, c1=-0.07463768856933917, c2=3.518824564652035e-05)>,\n",
       "  <Polynomial1D(2, c0=526.421544152514, c1=-0.07458083469169878, c2=3.521765590515578e-05)>,\n",
       "  <Polynomial1D(2, c0=535.3763821875579, c1=-0.07448608640218558, c2=3.5232992657857664e-05)>,\n",
       "  <Polynomial1D(2, c0=544.329217471886, c1=-0.07435456350256406, c2=3.523743611985192e-05)>,\n",
       "  <Polynomial1D(2, c0=553.3404565087521, c1=-0.0742727037594997, c2=3.526051956546178e-05)>,\n",
       "  <Polynomial1D(2, c0=562.3875717042116, c1=-0.07420904096274263, c2=3.529876344259582e-05)>,\n",
       "  <Polynomial1D(2, c0=571.4551855413721, c1=-0.07410584216097676, c2=3.5320625231373836e-05)>,\n",
       "  <Polynomial1D(2, c0=580.5393522598098, c1=-0.07393877175026951, c2=3.531420425159016e-05)>,\n",
       "  <Polynomial1D(2, c0=589.6816452203481, c1=-0.07381830486250555, c2=3.5333796586942705e-05)>,\n",
       "  <Polynomial1D(2, c0=598.8813990586136, c1=-0.07371117292011838, c2=3.535920151972299e-05)>,\n",
       "  <Polynomial1D(2, c0=608.1271316060033, c1=-0.07359848004648309, c2=3.5383968445447096e-05)>,\n",
       "  <Polynomial1D(2, c0=617.4167943375002, c1=-0.07346438725110763, c2=3.540488105655134e-05)>,\n",
       "  <Polynomial1D(2, c0=626.7507750859371, c1=-0.07330116389980462, c2=3.541135256387729e-05)>,\n",
       "  <Polynomial1D(2, c0=636.144629702261, c1=-0.07314978449145239, c2=3.5426340497946146e-05)>,\n",
       "  <Polynomial1D(2, c0=645.6189396094368, c1=-0.07303714250922665, c2=3.546150120310638e-05)>,\n",
       "  <Polynomial1D(2, c0=655.1471411354895, c1=-0.07289074965922121, c2=3.547976754128818e-05)>,\n",
       "  <Polynomial1D(2, c0=664.7326228131823, c1=-0.07271984000577153, c2=3.549025313462883e-05)>,\n",
       "  <Polynomial1D(2, c0=674.3853287278503, c1=-0.07255754670921555, c2=3.550709819630353e-05)>,\n",
       "  <Polynomial1D(2, c0=684.124450106463, c1=-0.07245716315656785, c2=3.556420417121181e-05)>,\n",
       "  <Polynomial1D(2, c0=693.906235323007, c1=-0.07224430793052845, c2=3.555557096787236e-05)>,\n",
       "  <Polynomial1D(2, c0=703.7811126778815, c1=-0.07207817142292629, c2=3.557692751560705e-05)>,\n",
       "  <Polynomial1D(2, c0=713.72629464106, c1=-0.07190731759311117, c2=3.5597339961279666e-05)>,\n",
       "  <Polynomial1D(2, c0=723.757025730696, c1=-0.0717568485584702, c2=3.563197401955171e-05)>,\n",
       "  <Polynomial1D(2, c0=733.8514669844832, c1=-0.07155939146678424, c2=3.564215394863856e-05)>,\n",
       "  <Polynomial1D(2, c0=744.022934434815, c1=-0.07135039193348336, c2=3.565720098702036e-05)>,\n",
       "  <Polynomial1D(2, c0=754.3016487102301, c1=-0.07116129032713746, c2=3.567189101277385e-05)>,\n",
       "  <Polynomial1D(2, c0=764.6521175897916, c1=-0.0709602333254747, c2=3.568841149962205e-05)>,\n",
       "  <Polynomial1D(2, c0=775.1160231747612, c1=-0.07083384098213247, c2=3.574277014938387e-05)>,\n",
       "  <Polynomial1D(2, c0=785.6163109943229, c1=-0.07057950320747158, c2=3.573438100291441e-05)>,\n",
       "  <Polynomial1D(2, c0=796.2198282744952, c1=-0.07037817193766772, c2=3.575684522459657e-05)>,\n",
       "  <Polynomial1D(2, c0=806.9183774918347, c1=-0.07018741711541415, c2=3.578679188167861e-05)>,\n",
       "  <Polynomial1D(2, c0=817.6725899193835, c1=-0.06991140329330237, c2=3.5781326740394576e-05)>,\n",
       "  <Polynomial1D(2, c0=828.5814897087864, c1=-0.0697563848606338, c2=3.58385445035902e-05)>,\n",
       "  <Polynomial1D(2, c0=839.5429862855206, c1=-0.06949719725748651, c2=3.584339421135859e-05)>,\n",
       "  <Polynomial1D(2, c0=850.6126514673372, c1=-0.06926953129829089, c2=3.587357740003203e-05)>,\n",
       "  <Polynomial1D(2, c0=861.7923318859131, c1=-0.06900248772962092, c2=3.5869366074848655e-05)>,\n",
       "  <Polynomial1D(2, c0=873.05370101265, c1=-0.06871784595173745, c2=3.586625356175501e-05)>,\n",
       "  <Polynomial1D(2, c0=884.413361192259, c1=-0.06842888215744908, c2=3.586199927225486e-05)>,\n",
       "  <Polynomial1D(2, c0=895.8763462737459, c1=-0.0681753517834517, c2=3.588578345987946e-05)>,\n",
       "  <Polynomial1D(2, c0=907.4599090114533, c1=-0.06792790433067648, c2=3.589803250083081e-05)>,\n",
       "  <Polynomial1D(2, c0=919.1824925438812, c1=-0.06777174527948066, c2=3.5963387873360865e-05)>,\n",
       "  <Polynomial1D(2, c0=930.9498764339443, c1=-0.06749356218698556, c2=3.597359477449669e-05)>,\n",
       "  <Polynomial1D(2, c0=942.8574826953567, c1=-0.06727923839741429, c2=3.601569759046729e-05)>,\n",
       "  <Polynomial1D(2, c0=954.7822718620041, c1=-0.06687068310626511, c2=3.597297689294572e-05)>,\n",
       "  <Polynomial1D(2, c0=966.8823613747218, c1=-0.06662084675735581, c2=3.600272998493585e-05)>,\n",
       "  <Polynomial1D(2, c0=979.0870300315229, c1=-0.06633692103762029, c2=3.601907883103994e-05)>,\n",
       "  <Polynomial1D(2, c0=991.43435145256, c1=-0.06613169959074006, c2=3.607011016014401e-05)>,\n",
       "  <Polynomial1D(2, c0=1003.8321111514351, c1=-0.06580146312895838, c2=3.607253673913715e-05)>,\n",
       "  <Polynomial1D(2, c0=1016.4217017642577, c1=-0.0655981003261366, c2=3.6119159844161e-05)>,\n",
       "  <Polynomial1D(2, c0=1029.167809532564, c1=-0.06550356515744797, c2=3.622710520197547e-05)>,\n",
       "  <Polynomial1D(2, c0=1041.8956508938688, c1=-0.06511321021603099, c2=3.61972402519178e-05)>,\n",
       "  <Polynomial1D(2, c0=1054.7750848159308, c1=-0.06485757082397497, c2=3.62542750040468e-05)>,\n",
       "  <Polynomial1D(2, c0=1067.8212686216702, c1=-0.064651402811243, c2=3.631334677950857e-05)>,\n",
       "  <Polynomial1D(2, c0=1080.9026107447262, c1=-0.06429029679397658, c2=3.632150031498056e-05)>,\n",
       "  <Polynomial1D(2, c0=1094.209419851041, c1=-0.06409406127314912, c2=3.637852499030208e-05)>,\n",
       "  <Polynomial1D(2, c0=1107.5039070756438, c1=-0.06367362249356352, c2=3.63598773866178e-05)>,\n",
       "  <Polynomial1D(2, c0=1121.01717799996, c1=-0.0634677179443659, c2=3.64457749955372e-05)>,\n",
       "  <Polynomial1D(2, c0=1134.7035571697515, c1=-0.06329128370354282, c2=3.652017748995542e-05)>,\n",
       "  <Polynomial1D(2, c0=1148.3190068752838, c1=-0.06284531970310525, c2=3.6520375977733155e-05)>,\n",
       "  <Polynomial1D(2, c0=1162.1853640989564, c1=-0.062484134265371784, c2=3.651087190674008e-05)>,\n",
       "  <Polynomial1D(2, c0=1176.2031815357873, c1=-0.06225281956504241, c2=3.658486721024692e-05)>,\n",
       "  <Polynomial1D(2, c0=1190.3966935073656, c1=-0.06212815892909146, c2=3.6705833082355225e-05)>,\n",
       "  <Polynomial1D(2, c0=1204.4707889024578, c1=-0.06144949316657847, c2=3.6576048402020466e-05)>,\n",
       "  <Polynomial1D(2, c0=1218.9595097020845, c1=-0.061357542259568354, c2=3.6703686307223716e-05)>,\n",
       "  <Polynomial1D(2, c0=1233.467038227931, c1=-0.061120446503222986, c2=3.6802584841616736e-05)>,\n",
       "  <Polynomial1D(2, c0=1248.0122314561613, c1=-0.06067517530676792, c2=3.681366877644772e-05)>,\n",
       "  <Polynomial1D(2, c0=1262.7653509229172, c1=-0.06029733933925628, c2=3.681958209322106e-05)>,\n",
       "  <Polynomial1D(2, c0=1277.6373518444607, c1=-0.05989554759678698, c2=3.681998835513984e-05)>,\n",
       "  <Polynomial1D(2, c0=1292.6882879327977, c1=-0.05965185441471695, c2=3.693199628311268e-05)>,\n",
       "  <Polynomial1D(2, c0=1307.8715192175146, c1=-0.05933787427289471, c2=3.697795794816615e-05)>,\n",
       "  <Polynomial1D(2, c0=1323.0718628604684, c1=-0.0587962700084772, c2=3.693309534594352e-05)>,\n",
       "  <Polynomial1D(2, c0=1338.5711545138033, c1=-0.05854495635123408, c2=3.7026253664998634e-05)>,\n",
       "  <Polynomial1D(2, c0=1353.970292825352, c1=-0.057853129037526554, c2=3.691078316399582e-05)>,\n",
       "  <Polynomial1D(2, c0=1369.4763797081562, c1=-0.05704356314495182, c2=3.675622179751964e-05)>,\n",
       "  <Polynomial1D(2, c0=1385.5376799477929, c1=-0.05705332651793499, c2=3.6950391855809245e-05)>,\n",
       "  <Polynomial1D(2, c0=1401.139237732965, c1=-0.05595286523611254, c2=3.669085984223149e-05)>,\n",
       "  <Polynomial1D(2, c0=1417.3703037232804, c1=-0.055806671975594885, c2=3.685841206829618e-05)>,\n",
       "  <Polynomial1D(2, c0=1433.7923919954274, c1=-0.05568204074728859, c2=3.703764668585127e-05)>,\n",
       "  <Polynomial1D(2, c0=1450.1340527635484, c1=-0.05514880251377176, c2=3.702512532139094e-05)>,\n",
       "  <Polynomial1D(2, c0=1466.78651609378, c1=-0.05479081435389191, c2=3.7050729634627584e-05)>,\n",
       "  <Polynomial1D(2, c0=1483.6082678495964, c1=-0.0545981111589465, c2=3.7189773379167625e-05)>,\n",
       "  <Polynomial1D(2, c0=1500.0056525827276, c1=-0.053152781846075976, c2=3.67281820812941e-05)>,\n",
       "  <Polynomial1D(2, c0=1517.359604719278, c1=-0.05351115186110632, c2=3.717309424759003e-05)>,\n",
       "  <Polynomial1D(2, c0=1534.3406796525019, c1=-0.05284498239461519, c2=3.716266579230421e-05)>,\n",
       "  <Polynomial1D(2, c0=1552.2099492514603, c1=-0.05346767907716318, c2=3.770726125956053e-05)>,\n",
       "  <Polynomial1D(2, c0=1568.885651191879, c1=-0.05137079566877764, c2=3.694810056140063e-05)>,\n",
       "  <Polynomial1D(2, c0=1586.1864125390648, c1=-0.050238861593959364, c2=3.663625034186933e-05)>],\n",
       " 'sigmodel': None}"
      ]
     },
     "execution_count": 165,
     "metadata": {},
     "output_type": "execute_result"
    }
   ],
   "source": [
    "traces=spectra.Trace('ARCES/ARCES_traces.fits')\n",
    "vars(traces)"
   ]
  },
  {
   "cell_type": "markdown",
   "metadata": {},
   "source": [
    "For tracing and wavelength calibration, we will use previously determined traces and line identification as a first guess."
   ]
  },
  {
   "cell_type": "code",
   "execution_count": 166,
   "metadata": {},
   "outputs": [
    {
     "name": "stdout",
     "output_type": "stream",
     "text": [
      "Using shift:  0.0450065159434\n",
      "Using shift:  0.0450065159434\n",
      "Using shift:  0.0450065159434\n",
      "Using shift:  0.0450065159434\n",
      "Using shift:  0.0450065159434\n",
      "Using shift:  0.0450065159434\n",
      "Using shift:  0.0450065159434\n",
      "Using shift:  0.0450065159434\n",
      "Using shift:  0.0450065159434\n",
      "Using shift:  0.0450065159434\n",
      "Using shift:  0.0450065159434\n",
      "Using shift:  0.0450065159434\n",
      "Using shift:  0.0450065159434\n",
      "Using shift:  0.0450065159434\n",
      "Using shift:  0.0450065159434\n",
      "Using shift:  0.0450065159434\n",
      "Using shift:  0.0450065159434\n",
      "Using shift:  0.0450065159434\n",
      "Using shift:  0.0450065159434\n",
      "Using shift:  0.0450065159434\n",
      "Using shift:  0.0450065159434\n",
      "Using shift:  0.0450065159434\n",
      "Using shift:  0.0450065159434\n",
      "Using shift:  0.0450065159434\n",
      "Using shift:  0.0450065159434\n",
      "Using shift:  0.0450065159434\n",
      "Using shift:  0.0450065159434\n",
      "Using shift:  0.0450065159434\n",
      "Using shift:  0.0450065159434\n",
      "Using shift:  0.0450065159434\n",
      "Using shift:  0.0450065159434\n",
      "Using shift:  0.0450065159434\n",
      "Using shift:  0.0450065159434\n",
      "Using shift:  0.0450065159434\n",
      "Using shift:  0.0450065159434\n",
      "Using shift:  0.0450065159434\n",
      "Using shift:  0.0450065159434\n",
      "Using shift:  0.0450065159434\n",
      "Using shift:  0.0450065159434\n",
      "Using shift:  0.0450065159434\n",
      "Using shift:  0.0450065159434\n",
      "Using shift:  0.0450065159434\n",
      "Using shift:  0.0450065159434\n",
      "Using shift:  0.0450065159434\n",
      "Using shift:  0.0450065159434\n",
      "Using shift:  0.0450065159434\n",
      "Using shift:  0.0450065159434\n",
      "Using shift:  0.0450065159434\n",
      "Using shift:  0.0450065159434\n",
      "Using shift:  0.0450065159434\n",
      "Using shift:  0.0450065159434\n",
      "Using shift:  0.0450065159434\n",
      "Using shift:  0.0450065159434\n",
      "Using shift:  0.0450065159434\n",
      "Using shift:  0.0450065159434\n",
      "Using shift:  0.0450065159434\n",
      "Using shift:  0.0450065159434\n",
      "Using shift:  0.0450065159434\n",
      "Using shift:  0.0450065159434\n",
      "Using shift:  0.0450065159434\n",
      "Using shift:  0.0450065159434\n",
      "Using shift:  0.0450065159434\n",
      "Using shift:  0.0450065159434\n",
      "Using shift:  0.0450065159434\n",
      "Using shift:  0.0450065159434\n",
      "Using shift:  0.0450065159434\n",
      "Using shift:  0.0450065159434\n",
      "Using shift:  0.0450065159434\n",
      "Using shift:  0.0450065159434\n",
      "Using shift:  0.0450065159434\n",
      "Using shift:  0.0450065159434\n",
      "Using shift:  0.0450065159434\n",
      "Using shift:  0.0450065159434\n",
      "Using shift:  0.0450065159434\n",
      "Using shift:  0.0450065159434\n",
      "Using shift:  0.0450065159434\n",
      "Using shift:  0.0450065159434\n",
      "Using shift:  0.0450065159434\n",
      "Using shift:  0.0450065159434\n",
      "Using shift:  0.0450065159434\n",
      "Using shift:  0.0450065159434\n",
      "Using shift:  0.0450065159434\n",
      "Using shift:  0.0450065159434\n",
      "Using shift:  0.0450065159434\n",
      "Using shift:  0.0450065159434\n",
      "Using shift:  0.0450065159434\n",
      "Using shift:  0.0450065159434\n",
      "Using shift:  0.0450065159434\n",
      "Using shift:  0.0450065159434\n",
      "Using shift:  0.0450065159434\n",
      "Using shift:  0.0450065159434\n",
      "Using shift:  0.0450065159434\n",
      "Using shift:  0.0450065159434\n",
      "Using shift:  0.0450065159434\n",
      "Using shift:  0.0450065159434\n",
      "Using shift:  0.0450065159434\n",
      "Using shift:  0.0450065159434\n",
      "Using shift:  0.0450065159434\n",
      "Using shift:  0.0450065159434\n",
      "Using shift:  0.0450065159434\n",
      "Using shift:  0.0450065159434\n",
      "Using shift:  0.0450065159434\n",
      "Using shift:  0.0450065159434\n",
      "Using shift:  0.0450065159434\n",
      "Using shift:  0.0450065159434\n",
      "Using shift:  0.0450065159434\n",
      "Using shift:  0.0450065159434\n",
      "  Tracing row: 301\r"
     ]
    },
    {
     "name": "stderr",
     "output_type": "stream",
     "text": [
      "/home/holtz/git/pyvista/python/pyvista/spectra.py:987: RuntimeWarning: invalid value encountered in true_divide\n",
      "  if gaussian :\n",
      "/home/holtz/git/pyvista/python/pyvista/spectra.py:998: RuntimeWarning: invalid value encountered in true_divide\n",
      "  if gaussian:\n",
      "/home/holtz/git/pyvista/python/pyvista/spectra.py:987: RuntimeWarning: invalid value encountered in true_divide\n",
      "  if gaussian :\n",
      "/home/holtz/git/pyvista/python/pyvista/spectra.py:998: RuntimeWarning: invalid value encountered in true_divide\n",
      "  if gaussian:\n"
     ]
    },
    {
     "name": "stdout",
     "output_type": "stream",
     "text": [
      "  Tracing row: 311\r",
      "  Tracing row: 321\r"
     ]
    },
    {
     "name": "stderr",
     "output_type": "stream",
     "text": [
      "/home/holtz/git/pyvista/python/pyvista/spectra.py:987: RuntimeWarning: invalid value encountered in true_divide\n",
      "  if gaussian :\n",
      "/home/holtz/git/pyvista/python/pyvista/spectra.py:998: RuntimeWarning: invalid value encountered in true_divide\n",
      "  if gaussian:\n",
      "/home/holtz/git/pyvista/python/pyvista/spectra.py:987: RuntimeWarning: invalid value encountered in true_divide\n",
      "  if gaussian :\n",
      "/home/holtz/git/pyvista/python/pyvista/spectra.py:998: RuntimeWarning: invalid value encountered in true_divide\n",
      "  if gaussian:\n"
     ]
    },
    {
     "name": "stdout",
     "output_type": "stream",
     "text": [
      "  Tracing row: 331\r",
      "  Tracing row: 340\r"
     ]
    },
    {
     "name": "stderr",
     "output_type": "stream",
     "text": [
      "/home/holtz/git/pyvista/python/pyvista/spectra.py:987: RuntimeWarning: invalid value encountered in true_divide\n",
      "  if gaussian :\n",
      "/home/holtz/git/pyvista/python/pyvista/spectra.py:998: RuntimeWarning: invalid value encountered in true_divide\n",
      "  if gaussian:\n",
      "/home/holtz/git/pyvista/python/pyvista/spectra.py:987: RuntimeWarning: invalid value encountered in true_divide\n",
      "  if gaussian :\n",
      "/home/holtz/git/pyvista/python/pyvista/spectra.py:998: RuntimeWarning: invalid value encountered in true_divide\n",
      "  if gaussian:\n"
     ]
    },
    {
     "name": "stdout",
     "output_type": "stream",
     "text": [
      "  Tracing row: 350\r",
      "  Tracing row: 359\r"
     ]
    },
    {
     "name": "stderr",
     "output_type": "stream",
     "text": [
      "/home/holtz/git/pyvista/python/pyvista/spectra.py:987: RuntimeWarning: invalid value encountered in true_divide\n",
      "  if gaussian :\n",
      "/home/holtz/git/pyvista/python/pyvista/spectra.py:998: RuntimeWarning: invalid value encountered in true_divide\n",
      "  if gaussian:\n",
      "/home/holtz/git/pyvista/python/pyvista/spectra.py:987: RuntimeWarning: invalid value encountered in true_divide\n",
      "  if gaussian :\n",
      "/home/holtz/git/pyvista/python/pyvista/spectra.py:998: RuntimeWarning: invalid value encountered in true_divide\n",
      "  if gaussian:\n"
     ]
    },
    {
     "name": "stdout",
     "output_type": "stream",
     "text": [
      "  Tracing row: 369\r",
      "  Tracing row: 378\r"
     ]
    },
    {
     "name": "stderr",
     "output_type": "stream",
     "text": [
      "/home/holtz/git/pyvista/python/pyvista/spectra.py:987: RuntimeWarning: invalid value encountered in true_divide\n",
      "  if gaussian :\n",
      "/home/holtz/git/pyvista/python/pyvista/spectra.py:998: RuntimeWarning: invalid value encountered in true_divide\n",
      "  if gaussian:\n",
      "/home/holtz/git/pyvista/python/pyvista/spectra.py:987: RuntimeWarning: invalid value encountered in true_divide\n",
      "  if gaussian :\n",
      "/home/holtz/git/pyvista/python/pyvista/spectra.py:998: RuntimeWarning: invalid value encountered in true_divide\n",
      "  if gaussian:\n"
     ]
    },
    {
     "name": "stdout",
     "output_type": "stream",
     "text": [
      "  Tracing row: 387\r",
      "  Tracing row: 396\r"
     ]
    },
    {
     "name": "stderr",
     "output_type": "stream",
     "text": [
      "/home/holtz/git/pyvista/python/pyvista/spectra.py:987: RuntimeWarning: invalid value encountered in true_divide\n",
      "  if gaussian :\n",
      "/home/holtz/git/pyvista/python/pyvista/spectra.py:998: RuntimeWarning: invalid value encountered in true_divide\n",
      "  if gaussian:\n",
      "/home/holtz/git/pyvista/python/pyvista/spectra.py:987: RuntimeWarning: invalid value encountered in true_divide\n",
      "  if gaussian :\n",
      "/home/holtz/git/pyvista/python/pyvista/spectra.py:998: RuntimeWarning: invalid value encountered in true_divide\n",
      "  if gaussian:\n"
     ]
    },
    {
     "name": "stdout",
     "output_type": "stream",
     "text": [
      "  Tracing row: 405\r",
      "  Tracing row: 414\r"
     ]
    },
    {
     "name": "stderr",
     "output_type": "stream",
     "text": [
      "/home/holtz/git/pyvista/python/pyvista/spectra.py:987: RuntimeWarning: invalid value encountered in true_divide\n",
      "  if gaussian :\n",
      "/home/holtz/git/pyvista/python/pyvista/spectra.py:998: RuntimeWarning: invalid value encountered in true_divide\n",
      "  if gaussian:\n",
      "/home/holtz/git/pyvista/python/pyvista/spectra.py:987: RuntimeWarning: invalid value encountered in true_divide\n",
      "  if gaussian :\n",
      "/home/holtz/git/pyvista/python/pyvista/spectra.py:998: RuntimeWarning: invalid value encountered in true_divide\n",
      "  if gaussian:\n"
     ]
    },
    {
     "name": "stdout",
     "output_type": "stream",
     "text": [
      "  Tracing row: 423\r",
      "  Tracing row: 432\r"
     ]
    },
    {
     "name": "stderr",
     "output_type": "stream",
     "text": [
      "/home/holtz/git/pyvista/python/pyvista/spectra.py:987: RuntimeWarning: invalid value encountered in true_divide\n",
      "  if gaussian :\n",
      "/home/holtz/git/pyvista/python/pyvista/spectra.py:998: RuntimeWarning: invalid value encountered in true_divide\n",
      "  if gaussian:\n",
      "/home/holtz/git/pyvista/python/pyvista/spectra.py:987: RuntimeWarning: invalid value encountered in true_divide\n",
      "  if gaussian :\n",
      "/home/holtz/git/pyvista/python/pyvista/spectra.py:998: RuntimeWarning: invalid value encountered in true_divide\n",
      "  if gaussian:\n"
     ]
    },
    {
     "name": "stdout",
     "output_type": "stream",
     "text": [
      "  Tracing row: 441\r",
      "  Tracing row: 450\r"
     ]
    },
    {
     "name": "stderr",
     "output_type": "stream",
     "text": [
      "/home/holtz/git/pyvista/python/pyvista/spectra.py:987: RuntimeWarning: invalid value encountered in true_divide\n",
      "  if gaussian :\n",
      "/home/holtz/git/pyvista/python/pyvista/spectra.py:998: RuntimeWarning: invalid value encountered in true_divide\n",
      "  if gaussian:\n",
      "/home/holtz/git/pyvista/python/pyvista/spectra.py:987: RuntimeWarning: invalid value encountered in true_divide\n",
      "  if gaussian :\n",
      "/home/holtz/git/pyvista/python/pyvista/spectra.py:998: RuntimeWarning: invalid value encountered in true_divide\n",
      "  if gaussian:\n"
     ]
    },
    {
     "name": "stdout",
     "output_type": "stream",
     "text": [
      "  Tracing row: 459\r",
      "  Tracing row: 468\r"
     ]
    },
    {
     "name": "stderr",
     "output_type": "stream",
     "text": [
      "/home/holtz/git/pyvista/python/pyvista/spectra.py:987: RuntimeWarning: invalid value encountered in true_divide\n",
      "  if gaussian :\n",
      "/home/holtz/git/pyvista/python/pyvista/spectra.py:998: RuntimeWarning: invalid value encountered in true_divide\n",
      "  if gaussian:\n",
      "/home/holtz/git/pyvista/python/pyvista/spectra.py:987: RuntimeWarning: invalid value encountered in true_divide\n",
      "  if gaussian :\n",
      "/home/holtz/git/pyvista/python/pyvista/spectra.py:998: RuntimeWarning: invalid value encountered in true_divide\n",
      "  if gaussian:\n"
     ]
    },
    {
     "name": "stdout",
     "output_type": "stream",
     "text": [
      "  Tracing row: 477\r",
      "  Tracing row: 486\r"
     ]
    },
    {
     "name": "stderr",
     "output_type": "stream",
     "text": [
      "/home/holtz/git/pyvista/python/pyvista/spectra.py:987: RuntimeWarning: invalid value encountered in true_divide\n",
      "  if gaussian :\n",
      "/home/holtz/git/pyvista/python/pyvista/spectra.py:998: RuntimeWarning: invalid value encountered in true_divide\n",
      "  if gaussian:\n",
      "/home/holtz/git/pyvista/python/pyvista/spectra.py:987: RuntimeWarning: invalid value encountered in true_divide\n",
      "  if gaussian :\n",
      "/home/holtz/git/pyvista/python/pyvista/spectra.py:998: RuntimeWarning: invalid value encountered in true_divide\n",
      "  if gaussian:\n"
     ]
    },
    {
     "name": "stdout",
     "output_type": "stream",
     "text": [
      "  Tracing row: 496\r",
      "  Tracing row: 505\r"
     ]
    },
    {
     "name": "stderr",
     "output_type": "stream",
     "text": [
      "/home/holtz/git/pyvista/python/pyvista/spectra.py:987: RuntimeWarning: invalid value encountered in true_divide\n",
      "  if gaussian :\n",
      "/home/holtz/git/pyvista/python/pyvista/spectra.py:998: RuntimeWarning: invalid value encountered in true_divide\n",
      "  if gaussian:\n",
      "/home/holtz/git/pyvista/python/pyvista/spectra.py:987: RuntimeWarning: invalid value encountered in true_divide\n",
      "  if gaussian :\n",
      "/home/holtz/git/pyvista/python/pyvista/spectra.py:998: RuntimeWarning: invalid value encountered in true_divide\n",
      "  if gaussian:\n"
     ]
    },
    {
     "name": "stdout",
     "output_type": "stream",
     "text": [
      "  Tracing row: 514\r",
      "  Tracing row: 523\r"
     ]
    },
    {
     "name": "stderr",
     "output_type": "stream",
     "text": [
      "/home/holtz/git/pyvista/python/pyvista/spectra.py:987: RuntimeWarning: invalid value encountered in true_divide\n",
      "  if gaussian :\n",
      "/home/holtz/git/pyvista/python/pyvista/spectra.py:998: RuntimeWarning: invalid value encountered in true_divide\n",
      "  if gaussian:\n",
      "/home/holtz/git/pyvista/python/pyvista/spectra.py:987: RuntimeWarning: invalid value encountered in true_divide\n",
      "  if gaussian :\n",
      "/home/holtz/git/pyvista/python/pyvista/spectra.py:998: RuntimeWarning: invalid value encountered in true_divide\n",
      "  if gaussian:\n"
     ]
    },
    {
     "name": "stdout",
     "output_type": "stream",
     "text": [
      "  Tracing row: 532\r",
      "  Tracing row: 541\r"
     ]
    },
    {
     "name": "stderr",
     "output_type": "stream",
     "text": [
      "/home/holtz/git/pyvista/python/pyvista/spectra.py:987: RuntimeWarning: invalid value encountered in true_divide\n",
      "  if gaussian :\n",
      "/home/holtz/git/pyvista/python/pyvista/spectra.py:998: RuntimeWarning: invalid value encountered in true_divide\n",
      "  if gaussian:\n",
      "/home/holtz/git/pyvista/python/pyvista/spectra.py:987: RuntimeWarning: invalid value encountered in true_divide\n",
      "  if gaussian :\n",
      "/home/holtz/git/pyvista/python/pyvista/spectra.py:998: RuntimeWarning: invalid value encountered in true_divide\n",
      "  if gaussian:\n"
     ]
    },
    {
     "name": "stdout",
     "output_type": "stream",
     "text": [
      "  Tracing row: 551\r",
      "  Tracing row: 560\r"
     ]
    },
    {
     "name": "stderr",
     "output_type": "stream",
     "text": [
      "/home/holtz/git/pyvista/python/pyvista/spectra.py:987: RuntimeWarning: invalid value encountered in true_divide\n",
      "  if gaussian :\n",
      "/home/holtz/git/pyvista/python/pyvista/spectra.py:998: RuntimeWarning: invalid value encountered in true_divide\n",
      "  if gaussian:\n",
      "/home/holtz/git/pyvista/python/pyvista/spectra.py:987: RuntimeWarning: invalid value encountered in true_divide\n",
      "  if gaussian :\n",
      "/home/holtz/git/pyvista/python/pyvista/spectra.py:998: RuntimeWarning: invalid value encountered in true_divide\n",
      "  if gaussian:\n"
     ]
    },
    {
     "name": "stdout",
     "output_type": "stream",
     "text": [
      "  Tracing row: 569\r",
      "  Tracing row: 579\r"
     ]
    },
    {
     "name": "stderr",
     "output_type": "stream",
     "text": [
      "/home/holtz/git/pyvista/python/pyvista/spectra.py:987: RuntimeWarning: invalid value encountered in true_divide\n",
      "  if gaussian :\n",
      "/home/holtz/git/pyvista/python/pyvista/spectra.py:998: RuntimeWarning: invalid value encountered in true_divide\n",
      "  if gaussian:\n",
      "/home/holtz/git/pyvista/python/pyvista/spectra.py:987: RuntimeWarning: invalid value encountered in true_divide\n",
      "  if gaussian :\n",
      "/home/holtz/git/pyvista/python/pyvista/spectra.py:998: RuntimeWarning: invalid value encountered in true_divide\n",
      "  if gaussian:\n"
     ]
    },
    {
     "name": "stdout",
     "output_type": "stream",
     "text": [
      "  Tracing row: 588\r",
      "  Tracing row: 598\r"
     ]
    },
    {
     "name": "stderr",
     "output_type": "stream",
     "text": [
      "/home/holtz/git/pyvista/python/pyvista/spectra.py:987: RuntimeWarning: invalid value encountered in true_divide\n",
      "  if gaussian :\n",
      "/home/holtz/git/pyvista/python/pyvista/spectra.py:998: RuntimeWarning: invalid value encountered in true_divide\n",
      "  if gaussian:\n",
      "/home/holtz/git/pyvista/python/pyvista/spectra.py:987: RuntimeWarning: invalid value encountered in true_divide\n",
      "  if gaussian :\n",
      "/home/holtz/git/pyvista/python/pyvista/spectra.py:998: RuntimeWarning: invalid value encountered in true_divide\n",
      "  if gaussian:\n"
     ]
    },
    {
     "name": "stdout",
     "output_type": "stream",
     "text": [
      "  Tracing row: 608\r",
      "  Tracing row: 617\r"
     ]
    },
    {
     "name": "stderr",
     "output_type": "stream",
     "text": [
      "/home/holtz/git/pyvista/python/pyvista/spectra.py:987: RuntimeWarning: invalid value encountered in true_divide\n",
      "  if gaussian :\n",
      "/home/holtz/git/pyvista/python/pyvista/spectra.py:998: RuntimeWarning: invalid value encountered in true_divide\n",
      "  if gaussian:\n",
      "/home/holtz/git/pyvista/python/pyvista/spectra.py:987: RuntimeWarning: invalid value encountered in true_divide\n",
      "  if gaussian :\n",
      "/home/holtz/git/pyvista/python/pyvista/spectra.py:998: RuntimeWarning: invalid value encountered in true_divide\n",
      "  if gaussian:\n"
     ]
    },
    {
     "name": "stdout",
     "output_type": "stream",
     "text": [
      "  Tracing row: 627\r",
      "  Tracing row: 637\r"
     ]
    },
    {
     "name": "stderr",
     "output_type": "stream",
     "text": [
      "/home/holtz/git/pyvista/python/pyvista/spectra.py:987: RuntimeWarning: invalid value encountered in true_divide\n",
      "  if gaussian :\n",
      "/home/holtz/git/pyvista/python/pyvista/spectra.py:998: RuntimeWarning: invalid value encountered in true_divide\n",
      "  if gaussian:\n",
      "/home/holtz/git/pyvista/python/pyvista/spectra.py:987: RuntimeWarning: invalid value encountered in true_divide\n",
      "  if gaussian :\n",
      "/home/holtz/git/pyvista/python/pyvista/spectra.py:998: RuntimeWarning: invalid value encountered in true_divide\n",
      "  if gaussian:\n"
     ]
    },
    {
     "name": "stdout",
     "output_type": "stream",
     "text": [
      "  Tracing row: 647\r",
      "  Tracing row: 657\r"
     ]
    },
    {
     "name": "stderr",
     "output_type": "stream",
     "text": [
      "/home/holtz/git/pyvista/python/pyvista/spectra.py:987: RuntimeWarning: invalid value encountered in true_divide\n",
      "  if gaussian :\n",
      "/home/holtz/git/pyvista/python/pyvista/spectra.py:998: RuntimeWarning: invalid value encountered in true_divide\n",
      "  if gaussian:\n",
      "/home/holtz/git/pyvista/python/pyvista/spectra.py:987: RuntimeWarning: invalid value encountered in true_divide\n",
      "  if gaussian :\n",
      "/home/holtz/git/pyvista/python/pyvista/spectra.py:998: RuntimeWarning: invalid value encountered in true_divide\n",
      "  if gaussian:\n"
     ]
    },
    {
     "name": "stdout",
     "output_type": "stream",
     "text": [
      "  Tracing row: 667\r",
      "  Tracing row: 677\r"
     ]
    },
    {
     "name": "stderr",
     "output_type": "stream",
     "text": [
      "/home/holtz/git/pyvista/python/pyvista/spectra.py:987: RuntimeWarning: invalid value encountered in true_divide\n",
      "  if gaussian :\n",
      "/home/holtz/git/pyvista/python/pyvista/spectra.py:998: RuntimeWarning: invalid value encountered in true_divide\n",
      "  if gaussian:\n",
      "/home/holtz/git/pyvista/python/pyvista/spectra.py:987: RuntimeWarning: invalid value encountered in true_divide\n",
      "  if gaussian :\n",
      "/home/holtz/git/pyvista/python/pyvista/spectra.py:998: RuntimeWarning: invalid value encountered in true_divide\n",
      "  if gaussian:\n"
     ]
    },
    {
     "name": "stdout",
     "output_type": "stream",
     "text": [
      "  Tracing row: 687\r",
      "  Tracing row: 698\r"
     ]
    },
    {
     "name": "stderr",
     "output_type": "stream",
     "text": [
      "/home/holtz/git/pyvista/python/pyvista/spectra.py:987: RuntimeWarning: invalid value encountered in true_divide\n",
      "  if gaussian :\n",
      "/home/holtz/git/pyvista/python/pyvista/spectra.py:998: RuntimeWarning: invalid value encountered in true_divide\n",
      "  if gaussian:\n",
      "/home/holtz/git/pyvista/python/pyvista/spectra.py:987: RuntimeWarning: invalid value encountered in true_divide\n",
      "  if gaussian :\n",
      "/home/holtz/git/pyvista/python/pyvista/spectra.py:998: RuntimeWarning: invalid value encountered in true_divide\n",
      "  if gaussian:\n"
     ]
    },
    {
     "name": "stdout",
     "output_type": "stream",
     "text": [
      "  Tracing row: 708\r",
      "  Tracing row: 719\r"
     ]
    },
    {
     "name": "stderr",
     "output_type": "stream",
     "text": [
      "/home/holtz/git/pyvista/python/pyvista/spectra.py:987: RuntimeWarning: invalid value encountered in true_divide\n",
      "  if gaussian :\n",
      "/home/holtz/git/pyvista/python/pyvista/spectra.py:998: RuntimeWarning: invalid value encountered in true_divide\n",
      "  if gaussian:\n",
      "/home/holtz/git/pyvista/python/pyvista/spectra.py:987: RuntimeWarning: invalid value encountered in true_divide\n",
      "  if gaussian :\n",
      "/home/holtz/git/pyvista/python/pyvista/spectra.py:998: RuntimeWarning: invalid value encountered in true_divide\n",
      "  if gaussian:\n"
     ]
    },
    {
     "name": "stdout",
     "output_type": "stream",
     "text": [
      "  Tracing row: 729\r",
      "  Tracing row: 740\r"
     ]
    },
    {
     "name": "stderr",
     "output_type": "stream",
     "text": [
      "/home/holtz/git/pyvista/python/pyvista/spectra.py:987: RuntimeWarning: invalid value encountered in true_divide\n",
      "  if gaussian :\n",
      "/home/holtz/git/pyvista/python/pyvista/spectra.py:998: RuntimeWarning: invalid value encountered in true_divide\n",
      "  if gaussian:\n",
      "/home/holtz/git/pyvista/python/pyvista/spectra.py:987: RuntimeWarning: invalid value encountered in true_divide\n",
      "  if gaussian :\n",
      "/home/holtz/git/pyvista/python/pyvista/spectra.py:998: RuntimeWarning: invalid value encountered in true_divide\n",
      "  if gaussian:\n"
     ]
    },
    {
     "name": "stdout",
     "output_type": "stream",
     "text": [
      "  Tracing row: 751\r",
      "  Tracing row: 761\r"
     ]
    },
    {
     "name": "stderr",
     "output_type": "stream",
     "text": [
      "/home/holtz/git/pyvista/python/pyvista/spectra.py:987: RuntimeWarning: invalid value encountered in true_divide\n",
      "  if gaussian :\n",
      "/home/holtz/git/pyvista/python/pyvista/spectra.py:998: RuntimeWarning: invalid value encountered in true_divide\n",
      "  if gaussian:\n",
      "/home/holtz/git/pyvista/python/pyvista/spectra.py:987: RuntimeWarning: invalid value encountered in true_divide\n",
      "  if gaussian :\n",
      "/home/holtz/git/pyvista/python/pyvista/spectra.py:998: RuntimeWarning: invalid value encountered in true_divide\n",
      "  if gaussian:\n"
     ]
    },
    {
     "name": "stdout",
     "output_type": "stream",
     "text": [
      "  Tracing row: 772\r",
      "  Tracing row: 783\r"
     ]
    },
    {
     "name": "stderr",
     "output_type": "stream",
     "text": [
      "/home/holtz/git/pyvista/python/pyvista/spectra.py:987: RuntimeWarning: invalid value encountered in true_divide\n",
      "  if gaussian :\n",
      "/home/holtz/git/pyvista/python/pyvista/spectra.py:998: RuntimeWarning: invalid value encountered in true_divide\n",
      "  if gaussian:\n",
      "/home/holtz/git/pyvista/python/pyvista/spectra.py:987: RuntimeWarning: invalid value encountered in true_divide\n",
      "  if gaussian :\n",
      "/home/holtz/git/pyvista/python/pyvista/spectra.py:998: RuntimeWarning: invalid value encountered in true_divide\n",
      "  if gaussian:\n"
     ]
    },
    {
     "name": "stdout",
     "output_type": "stream",
     "text": [
      "  Tracing row: 794\r",
      "  Tracing row: 806\r"
     ]
    },
    {
     "name": "stderr",
     "output_type": "stream",
     "text": [
      "/home/holtz/git/pyvista/python/pyvista/spectra.py:987: RuntimeWarning: invalid value encountered in true_divide\n",
      "  if gaussian :\n",
      "/home/holtz/git/pyvista/python/pyvista/spectra.py:998: RuntimeWarning: invalid value encountered in true_divide\n",
      "  if gaussian:\n",
      "/home/holtz/git/pyvista/python/pyvista/spectra.py:987: RuntimeWarning: invalid value encountered in true_divide\n",
      "  if gaussian :\n",
      "/home/holtz/git/pyvista/python/pyvista/spectra.py:998: RuntimeWarning: invalid value encountered in true_divide\n",
      "  if gaussian:\n"
     ]
    },
    {
     "name": "stdout",
     "output_type": "stream",
     "text": [
      "  Tracing row: 817\r",
      "  Tracing row: 829\r"
     ]
    },
    {
     "name": "stderr",
     "output_type": "stream",
     "text": [
      "/home/holtz/git/pyvista/python/pyvista/spectra.py:987: RuntimeWarning: invalid value encountered in true_divide\n",
      "  if gaussian :\n",
      "/home/holtz/git/pyvista/python/pyvista/spectra.py:998: RuntimeWarning: invalid value encountered in true_divide\n",
      "  if gaussian:\n",
      "/home/holtz/git/pyvista/python/pyvista/spectra.py:987: RuntimeWarning: invalid value encountered in true_divide\n",
      "  if gaussian :\n",
      "/home/holtz/git/pyvista/python/pyvista/spectra.py:998: RuntimeWarning: invalid value encountered in true_divide\n",
      "  if gaussian:\n"
     ]
    },
    {
     "name": "stdout",
     "output_type": "stream",
     "text": [
      "  Tracing row: 840\r",
      "  Tracing row: 852\r"
     ]
    },
    {
     "name": "stderr",
     "output_type": "stream",
     "text": [
      "/home/holtz/git/pyvista/python/pyvista/spectra.py:987: RuntimeWarning: invalid value encountered in true_divide\n",
      "  if gaussian :\n",
      "/home/holtz/git/pyvista/python/pyvista/spectra.py:998: RuntimeWarning: invalid value encountered in true_divide\n",
      "  if gaussian:\n",
      "/home/holtz/git/pyvista/python/pyvista/spectra.py:987: RuntimeWarning: invalid value encountered in true_divide\n",
      "  if gaussian :\n",
      "/home/holtz/git/pyvista/python/pyvista/spectra.py:998: RuntimeWarning: invalid value encountered in true_divide\n",
      "  if gaussian:\n"
     ]
    },
    {
     "name": "stdout",
     "output_type": "stream",
     "text": [
      "  Tracing row: 864\r",
      "  Tracing row: 875\r"
     ]
    },
    {
     "name": "stderr",
     "output_type": "stream",
     "text": [
      "/home/holtz/git/pyvista/python/pyvista/spectra.py:987: RuntimeWarning: invalid value encountered in true_divide\n",
      "  if gaussian :\n",
      "/home/holtz/git/pyvista/python/pyvista/spectra.py:998: RuntimeWarning: invalid value encountered in true_divide\n",
      "  if gaussian:\n",
      "/home/holtz/git/pyvista/python/pyvista/spectra.py:987: RuntimeWarning: invalid value encountered in true_divide\n",
      "  if gaussian :\n",
      "/home/holtz/git/pyvista/python/pyvista/spectra.py:998: RuntimeWarning: invalid value encountered in true_divide\n",
      "  if gaussian:\n"
     ]
    },
    {
     "name": "stdout",
     "output_type": "stream",
     "text": [
      "  Tracing row: 887\r",
      "  Tracing row: 899\r"
     ]
    },
    {
     "name": "stderr",
     "output_type": "stream",
     "text": [
      "/home/holtz/git/pyvista/python/pyvista/spectra.py:987: RuntimeWarning: invalid value encountered in true_divide\n",
      "  if gaussian :\n",
      "/home/holtz/git/pyvista/python/pyvista/spectra.py:998: RuntimeWarning: invalid value encountered in true_divide\n",
      "  if gaussian:\n",
      "/home/holtz/git/pyvista/python/pyvista/spectra.py:987: RuntimeWarning: invalid value encountered in true_divide\n",
      "  if gaussian :\n",
      "/home/holtz/git/pyvista/python/pyvista/spectra.py:998: RuntimeWarning: invalid value encountered in true_divide\n",
      "  if gaussian:\n"
     ]
    },
    {
     "name": "stdout",
     "output_type": "stream",
     "text": [
      "  Tracing row: 912\r",
      "  Tracing row: 924\r"
     ]
    },
    {
     "name": "stderr",
     "output_type": "stream",
     "text": [
      "/home/holtz/git/pyvista/python/pyvista/spectra.py:987: RuntimeWarning: invalid value encountered in true_divide\n",
      "  if gaussian :\n",
      "/home/holtz/git/pyvista/python/pyvista/spectra.py:998: RuntimeWarning: invalid value encountered in true_divide\n",
      "  if gaussian:\n",
      "/home/holtz/git/pyvista/python/pyvista/spectra.py:987: RuntimeWarning: invalid value encountered in true_divide\n",
      "  if gaussian :\n",
      "/home/holtz/git/pyvista/python/pyvista/spectra.py:998: RuntimeWarning: invalid value encountered in true_divide\n",
      "  if gaussian:\n"
     ]
    },
    {
     "name": "stdout",
     "output_type": "stream",
     "text": [
      "  Tracing row: 936\r",
      "  Tracing row: 949\r"
     ]
    },
    {
     "name": "stderr",
     "output_type": "stream",
     "text": [
      "/home/holtz/git/pyvista/python/pyvista/spectra.py:987: RuntimeWarning: invalid value encountered in true_divide\n",
      "  if gaussian :\n",
      "/home/holtz/git/pyvista/python/pyvista/spectra.py:998: RuntimeWarning: invalid value encountered in true_divide\n",
      "  if gaussian:\n",
      "/home/holtz/git/pyvista/python/pyvista/spectra.py:987: RuntimeWarning: invalid value encountered in true_divide\n",
      "  if gaussian :\n",
      "/home/holtz/git/pyvista/python/pyvista/spectra.py:998: RuntimeWarning: invalid value encountered in true_divide\n",
      "  if gaussian:\n"
     ]
    },
    {
     "name": "stdout",
     "output_type": "stream",
     "text": [
      "  Tracing row: 961\r",
      "  Tracing row: 974\r"
     ]
    },
    {
     "name": "stderr",
     "output_type": "stream",
     "text": [
      "/home/holtz/git/pyvista/python/pyvista/spectra.py:987: RuntimeWarning: invalid value encountered in true_divide\n",
      "  if gaussian :\n",
      "/home/holtz/git/pyvista/python/pyvista/spectra.py:998: RuntimeWarning: invalid value encountered in true_divide\n",
      "  if gaussian:\n",
      "/home/holtz/git/pyvista/python/pyvista/spectra.py:987: RuntimeWarning: invalid value encountered in true_divide\n",
      "  if gaussian :\n",
      "/home/holtz/git/pyvista/python/pyvista/spectra.py:998: RuntimeWarning: invalid value encountered in true_divide\n",
      "  if gaussian:\n"
     ]
    },
    {
     "name": "stdout",
     "output_type": "stream",
     "text": [
      "  Tracing row: 987\r",
      "  Tracing row: 1000\r"
     ]
    },
    {
     "name": "stderr",
     "output_type": "stream",
     "text": [
      "/home/holtz/git/pyvista/python/pyvista/spectra.py:987: RuntimeWarning: invalid value encountered in true_divide\n",
      "  if gaussian :\n",
      "/home/holtz/git/pyvista/python/pyvista/spectra.py:998: RuntimeWarning: invalid value encountered in true_divide\n",
      "  if gaussian:\n",
      "/home/holtz/git/pyvista/python/pyvista/spectra.py:987: RuntimeWarning: invalid value encountered in true_divide\n",
      "  if gaussian :\n",
      "/home/holtz/git/pyvista/python/pyvista/spectra.py:998: RuntimeWarning: invalid value encountered in true_divide\n",
      "  if gaussian:\n"
     ]
    },
    {
     "name": "stdout",
     "output_type": "stream",
     "text": [
      "  Tracing row: 1013\r",
      "  Tracing row: 1026\r"
     ]
    },
    {
     "name": "stderr",
     "output_type": "stream",
     "text": [
      "/home/holtz/git/pyvista/python/pyvista/spectra.py:987: RuntimeWarning: invalid value encountered in true_divide\n",
      "  if gaussian :\n",
      "/home/holtz/git/pyvista/python/pyvista/spectra.py:998: RuntimeWarning: invalid value encountered in true_divide\n",
      "  if gaussian:\n",
      "/home/holtz/git/pyvista/python/pyvista/spectra.py:987: RuntimeWarning: invalid value encountered in true_divide\n",
      "  if gaussian :\n",
      "/home/holtz/git/pyvista/python/pyvista/spectra.py:998: RuntimeWarning: invalid value encountered in true_divide\n",
      "  if gaussian:\n"
     ]
    },
    {
     "name": "stdout",
     "output_type": "stream",
     "text": [
      "  Tracing row: 1040\r",
      "  Tracing row: 1053\r"
     ]
    },
    {
     "name": "stderr",
     "output_type": "stream",
     "text": [
      "/home/holtz/git/pyvista/python/pyvista/spectra.py:987: RuntimeWarning: invalid value encountered in true_divide\n",
      "  if gaussian :\n",
      "/home/holtz/git/pyvista/python/pyvista/spectra.py:998: RuntimeWarning: invalid value encountered in true_divide\n",
      "  if gaussian:\n",
      "/home/holtz/git/pyvista/python/pyvista/spectra.py:987: RuntimeWarning: invalid value encountered in true_divide\n",
      "  if gaussian :\n",
      "/home/holtz/git/pyvista/python/pyvista/spectra.py:998: RuntimeWarning: invalid value encountered in true_divide\n",
      "  if gaussian:\n"
     ]
    },
    {
     "name": "stdout",
     "output_type": "stream",
     "text": [
      "  Tracing row: 1067\r",
      "  Tracing row: 1080\r"
     ]
    },
    {
     "name": "stderr",
     "output_type": "stream",
     "text": [
      "/home/holtz/git/pyvista/python/pyvista/spectra.py:987: RuntimeWarning: invalid value encountered in true_divide\n",
      "  if gaussian :\n",
      "/home/holtz/git/pyvista/python/pyvista/spectra.py:998: RuntimeWarning: invalid value encountered in true_divide\n",
      "  if gaussian:\n",
      "/home/holtz/git/pyvista/python/pyvista/spectra.py:987: RuntimeWarning: invalid value encountered in true_divide\n",
      "  if gaussian :\n",
      "/home/holtz/git/pyvista/python/pyvista/spectra.py:998: RuntimeWarning: invalid value encountered in true_divide\n",
      "  if gaussian:\n"
     ]
    },
    {
     "name": "stdout",
     "output_type": "stream",
     "text": [
      "  Tracing row: 1094\r",
      "  Tracing row: 1108\r"
     ]
    },
    {
     "name": "stderr",
     "output_type": "stream",
     "text": [
      "/home/holtz/git/pyvista/python/pyvista/spectra.py:987: RuntimeWarning: invalid value encountered in true_divide\n",
      "  if gaussian :\n",
      "/home/holtz/git/pyvista/python/pyvista/spectra.py:998: RuntimeWarning: invalid value encountered in true_divide\n",
      "  if gaussian:\n",
      "/home/holtz/git/pyvista/python/pyvista/spectra.py:987: RuntimeWarning: invalid value encountered in true_divide\n",
      "  if gaussian :\n",
      "/home/holtz/git/pyvista/python/pyvista/spectra.py:998: RuntimeWarning: invalid value encountered in true_divide\n",
      "  if gaussian:\n"
     ]
    },
    {
     "name": "stdout",
     "output_type": "stream",
     "text": [
      "  Tracing row: 1122\r",
      "  Tracing row: 1137\r"
     ]
    },
    {
     "name": "stderr",
     "output_type": "stream",
     "text": [
      "/home/holtz/git/pyvista/python/pyvista/spectra.py:987: RuntimeWarning: invalid value encountered in true_divide\n",
      "  if gaussian :\n",
      "/home/holtz/git/pyvista/python/pyvista/spectra.py:998: RuntimeWarning: invalid value encountered in true_divide\n",
      "  if gaussian:\n",
      "/home/holtz/git/pyvista/python/pyvista/spectra.py:987: RuntimeWarning: invalid value encountered in true_divide\n",
      "  if gaussian :\n",
      "/home/holtz/git/pyvista/python/pyvista/spectra.py:998: RuntimeWarning: invalid value encountered in true_divide\n",
      "  if gaussian:\n"
     ]
    },
    {
     "name": "stdout",
     "output_type": "stream",
     "text": [
      "  Tracing row: 1151\r",
      "  Tracing row: 1165\r"
     ]
    },
    {
     "name": "stderr",
     "output_type": "stream",
     "text": [
      "/home/holtz/git/pyvista/python/pyvista/spectra.py:987: RuntimeWarning: invalid value encountered in true_divide\n",
      "  if gaussian :\n",
      "/home/holtz/git/pyvista/python/pyvista/spectra.py:998: RuntimeWarning: invalid value encountered in true_divide\n",
      "  if gaussian:\n",
      "/home/holtz/git/pyvista/python/pyvista/spectra.py:987: RuntimeWarning: invalid value encountered in true_divide\n",
      "  if gaussian :\n",
      "/home/holtz/git/pyvista/python/pyvista/spectra.py:998: RuntimeWarning: invalid value encountered in true_divide\n",
      "  if gaussian:\n"
     ]
    },
    {
     "name": "stdout",
     "output_type": "stream",
     "text": [
      "  Tracing row: 1180\r",
      "  Tracing row: 1195\r"
     ]
    },
    {
     "name": "stderr",
     "output_type": "stream",
     "text": [
      "/home/holtz/git/pyvista/python/pyvista/spectra.py:987: RuntimeWarning: invalid value encountered in true_divide\n",
      "  if gaussian :\n",
      "/home/holtz/git/pyvista/python/pyvista/spectra.py:998: RuntimeWarning: invalid value encountered in true_divide\n",
      "  if gaussian:\n",
      "/home/holtz/git/pyvista/python/pyvista/spectra.py:987: RuntimeWarning: invalid value encountered in true_divide\n",
      "  if gaussian :\n",
      "/home/holtz/git/pyvista/python/pyvista/spectra.py:998: RuntimeWarning: invalid value encountered in true_divide\n",
      "  if gaussian:\n"
     ]
    },
    {
     "name": "stdout",
     "output_type": "stream",
     "text": [
      "  Tracing row: 1210\r",
      "  Tracing row: 1225\r"
     ]
    },
    {
     "name": "stderr",
     "output_type": "stream",
     "text": [
      "/home/holtz/git/pyvista/python/pyvista/spectra.py:987: RuntimeWarning: invalid value encountered in true_divide\n",
      "  if gaussian :\n",
      "/home/holtz/git/pyvista/python/pyvista/spectra.py:998: RuntimeWarning: invalid value encountered in true_divide\n",
      "  if gaussian:\n",
      "/home/holtz/git/pyvista/python/pyvista/spectra.py:987: RuntimeWarning: invalid value encountered in true_divide\n",
      "  if gaussian :\n",
      "/home/holtz/git/pyvista/python/pyvista/spectra.py:998: RuntimeWarning: invalid value encountered in true_divide\n",
      "  if gaussian:\n"
     ]
    },
    {
     "name": "stdout",
     "output_type": "stream",
     "text": [
      "  Tracing row: 1240\r",
      "  Tracing row: 1255\r"
     ]
    },
    {
     "name": "stderr",
     "output_type": "stream",
     "text": [
      "/home/holtz/git/pyvista/python/pyvista/spectra.py:987: RuntimeWarning: invalid value encountered in true_divide\n",
      "  if gaussian :\n",
      "/home/holtz/git/pyvista/python/pyvista/spectra.py:998: RuntimeWarning: invalid value encountered in true_divide\n",
      "  if gaussian:\n",
      "/home/holtz/git/pyvista/python/pyvista/spectra.py:987: RuntimeWarning: invalid value encountered in true_divide\n",
      "  if gaussian :\n",
      "/home/holtz/git/pyvista/python/pyvista/spectra.py:998: RuntimeWarning: invalid value encountered in true_divide\n",
      "  if gaussian:\n"
     ]
    },
    {
     "name": "stdout",
     "output_type": "stream",
     "text": [
      "  Tracing row: 1271\r",
      "  Tracing row: 1286\r"
     ]
    },
    {
     "name": "stderr",
     "output_type": "stream",
     "text": [
      "/home/holtz/git/pyvista/python/pyvista/spectra.py:987: RuntimeWarning: invalid value encountered in true_divide\n",
      "  if gaussian :\n",
      "/home/holtz/git/pyvista/python/pyvista/spectra.py:998: RuntimeWarning: invalid value encountered in true_divide\n",
      "  if gaussian:\n",
      "/home/holtz/git/pyvista/python/pyvista/spectra.py:987: RuntimeWarning: invalid value encountered in true_divide\n",
      "  if gaussian :\n",
      "/home/holtz/git/pyvista/python/pyvista/spectra.py:998: RuntimeWarning: invalid value encountered in true_divide\n",
      "  if gaussian:\n"
     ]
    },
    {
     "name": "stdout",
     "output_type": "stream",
     "text": [
      "  Tracing row: 1302\r",
      "  Tracing row: 1318\r"
     ]
    },
    {
     "name": "stderr",
     "output_type": "stream",
     "text": [
      "/home/holtz/git/pyvista/python/pyvista/spectra.py:987: RuntimeWarning: invalid value encountered in true_divide\n",
      "  if gaussian :\n",
      "/home/holtz/git/pyvista/python/pyvista/spectra.py:998: RuntimeWarning: invalid value encountered in true_divide\n",
      "  if gaussian:\n",
      "/home/holtz/git/pyvista/python/pyvista/spectra.py:987: RuntimeWarning: invalid value encountered in true_divide\n",
      "  if gaussian :\n",
      "/home/holtz/git/pyvista/python/pyvista/spectra.py:998: RuntimeWarning: invalid value encountered in true_divide\n",
      "  if gaussian:\n"
     ]
    },
    {
     "name": "stdout",
     "output_type": "stream",
     "text": [
      "  Tracing row: 1334\r",
      "  Tracing row: 1350\r"
     ]
    },
    {
     "name": "stderr",
     "output_type": "stream",
     "text": [
      "/home/holtz/git/pyvista/python/pyvista/spectra.py:987: RuntimeWarning: invalid value encountered in true_divide\n",
      "  if gaussian :\n",
      "/home/holtz/git/pyvista/python/pyvista/spectra.py:998: RuntimeWarning: invalid value encountered in true_divide\n",
      "  if gaussian:\n",
      "/home/holtz/git/pyvista/python/pyvista/spectra.py:987: RuntimeWarning: invalid value encountered in true_divide\n",
      "  if gaussian :\n",
      "/home/holtz/git/pyvista/python/pyvista/spectra.py:998: RuntimeWarning: invalid value encountered in true_divide\n",
      "  if gaussian:\n"
     ]
    },
    {
     "name": "stdout",
     "output_type": "stream",
     "text": [
      "  Tracing row: 1366\r",
      "  Tracing row: 1383\r"
     ]
    },
    {
     "name": "stderr",
     "output_type": "stream",
     "text": [
      "/home/holtz/git/pyvista/python/pyvista/spectra.py:987: RuntimeWarning: invalid value encountered in true_divide\n",
      "  if gaussian :\n",
      "/home/holtz/git/pyvista/python/pyvista/spectra.py:998: RuntimeWarning: invalid value encountered in true_divide\n",
      "  if gaussian:\n",
      "/home/holtz/git/pyvista/python/pyvista/spectra.py:987: RuntimeWarning: invalid value encountered in true_divide\n",
      "  if gaussian :\n",
      "/home/holtz/git/pyvista/python/pyvista/spectra.py:998: RuntimeWarning: invalid value encountered in true_divide\n",
      "  if gaussian:\n"
     ]
    },
    {
     "name": "stdout",
     "output_type": "stream",
     "text": [
      "  Tracing row: 1399\r",
      "  Tracing row: 1416\r"
     ]
    },
    {
     "name": "stderr",
     "output_type": "stream",
     "text": [
      "/home/holtz/git/pyvista/python/pyvista/spectra.py:987: RuntimeWarning: invalid value encountered in true_divide\n",
      "  if gaussian :\n",
      "/home/holtz/git/pyvista/python/pyvista/spectra.py:998: RuntimeWarning: invalid value encountered in true_divide\n",
      "  if gaussian:\n",
      "/home/holtz/git/pyvista/python/pyvista/spectra.py:987: RuntimeWarning: invalid value encountered in true_divide\n",
      "  if gaussian :\n",
      "/home/holtz/git/pyvista/python/pyvista/spectra.py:998: RuntimeWarning: invalid value encountered in true_divide\n",
      "  if gaussian:\n"
     ]
    },
    {
     "name": "stdout",
     "output_type": "stream",
     "text": [
      "  Tracing row: 1433\r",
      "  Tracing row: 1450\r"
     ]
    },
    {
     "name": "stderr",
     "output_type": "stream",
     "text": [
      "/home/holtz/git/pyvista/python/pyvista/spectra.py:987: RuntimeWarning: invalid value encountered in true_divide\n",
      "  if gaussian :\n",
      "/home/holtz/git/pyvista/python/pyvista/spectra.py:998: RuntimeWarning: invalid value encountered in true_divide\n",
      "  if gaussian:\n",
      "/home/holtz/git/pyvista/python/pyvista/spectra.py:987: RuntimeWarning: invalid value encountered in true_divide\n",
      "  if gaussian :\n",
      "/home/holtz/git/pyvista/python/pyvista/spectra.py:998: RuntimeWarning: invalid value encountered in true_divide\n",
      "  if gaussian:\n"
     ]
    },
    {
     "name": "stdout",
     "output_type": "stream",
     "text": [
      "  Tracing row: 1467\r"
     ]
    },
    {
     "name": "stderr",
     "output_type": "stream",
     "text": [
      "/home/holtz/git/pyvista/python/pyvista/spectra.py:987: RuntimeWarning: invalid value encountered in true_divide\n",
      "  if gaussian :\n",
      "/home/holtz/git/pyvista/python/pyvista/spectra.py:998: RuntimeWarning: invalid value encountered in true_divide\n",
      "  if gaussian:\n",
      "/home/holtz/git/pyvista/python/pyvista/spectra.py:987: RuntimeWarning: invalid value encountered in true_divide\n",
      "  if gaussian :\n",
      "/home/holtz/git/pyvista/python/pyvista/spectra.py:998: RuntimeWarning: invalid value encountered in true_divide\n",
      "  if gaussian:\n"
     ]
    },
    {
     "name": "stdout",
     "output_type": "stream",
     "text": [
      "  Tracing row: 1485\r",
      "  Tracing row: 1502\r"
     ]
    },
    {
     "name": "stderr",
     "output_type": "stream",
     "text": [
      "/home/holtz/git/pyvista/python/pyvista/spectra.py:987: RuntimeWarning: invalid value encountered in true_divide\n",
      "  if gaussian :\n",
      "/home/holtz/git/pyvista/python/pyvista/spectra.py:998: RuntimeWarning: invalid value encountered in true_divide\n",
      "  if gaussian:\n",
      "/home/holtz/git/pyvista/python/pyvista/spectra.py:987: RuntimeWarning: invalid value encountered in true_divide\n",
      "  if gaussian :\n",
      "/home/holtz/git/pyvista/python/pyvista/spectra.py:998: RuntimeWarning: invalid value encountered in true_divide\n",
      "  if gaussian:\n"
     ]
    },
    {
     "name": "stdout",
     "output_type": "stream",
     "text": [
      "  Tracing row: 1520\r",
      "  Tracing row: 1538\r"
     ]
    },
    {
     "name": "stderr",
     "output_type": "stream",
     "text": [
      "/home/holtz/git/pyvista/python/pyvista/spectra.py:987: RuntimeWarning: invalid value encountered in true_divide\n",
      "  if gaussian :\n",
      "/home/holtz/git/pyvista/python/pyvista/spectra.py:998: RuntimeWarning: invalid value encountered in true_divide\n",
      "  if gaussian:\n",
      "/home/holtz/git/pyvista/python/pyvista/spectra.py:987: RuntimeWarning: invalid value encountered in true_divide\n",
      "  if gaussian :\n",
      "/home/holtz/git/pyvista/python/pyvista/spectra.py:998: RuntimeWarning: invalid value encountered in true_divide\n",
      "  if gaussian:\n"
     ]
    },
    {
     "name": "stdout",
     "output_type": "stream",
     "text": [
      "  Tracing row: 1556\r",
      "  Tracing row: 1574\r"
     ]
    },
    {
     "name": "stderr",
     "output_type": "stream",
     "text": [
      "/home/holtz/git/pyvista/python/pyvista/spectra.py:987: RuntimeWarning: invalid value encountered in true_divide\n",
      "  if gaussian :\n",
      "/home/holtz/git/pyvista/python/pyvista/spectra.py:998: RuntimeWarning: invalid value encountered in true_divide\n",
      "  if gaussian:\n"
     ]
    },
    {
     "name": "stdout",
     "output_type": "stream",
     "text": [
      "\n",
      "  See trace. Hit space bar to continue....\n"
     ]
    }
   ],
   "source": [
    "traces.retrace(flat,display=t)"
   ]
  },
  {
   "cell_type": "markdown",
   "metadata": {},
   "source": [
    "Sum up the arc lamp exposures, get the shift for the existing traces, and extract. Note that if you have a multiprocessor machine, you can specify number of threads to use for the extraction, which will speed things up (but the default threads=0 isn't too terrible)."
   ]
  },
  {
   "cell_type": "code",
   "execution_count": 167,
   "metadata": {},
   "outputs": [
    {
     "name": "stdout",
     "output_type": "stream",
     "text": [
      "  Reading file: UT211031/echelle/ThAr.0001.fits\n",
      "  subtracting overscan:  1287.78\n",
      "INFO: array provided for uncertainty; assuming it is a StdDevUncertainty. [astropy.nddata.ccddata]\n",
      "  zapping CRs with filter [5,1]...\n",
      "  Reading file: UT211031/echelle/ThAr.0002.fits\n",
      "  subtracting overscan:  1287.78\n",
      "INFO: array provided for uncertainty; assuming it is a StdDevUncertainty. [astropy.nddata.ccddata]\n",
      "  zapping CRs with filter [5,1]...\n",
      "  Reading file: UT211031/echelle/ThAr.0003.fits\n",
      "  subtracting overscan:  1287.61\n",
      "INFO: array provided for uncertainty; assuming it is a StdDevUncertainty. [astropy.nddata.ccddata]\n",
      "  zapping CRs with filter [5,1]...\n",
      "  Reading file: UT211031/echelle/ThAr.0004.fits\n",
      "  subtracting overscan:  1287.77\n",
      "INFO: array provided for uncertainty; assuming it is a StdDevUncertainty. [astropy.nddata.ccddata]\n",
      "  zapping CRs with filter [5,1]...\n",
      "  combining data with sum....\n",
      "  calculating uncertainty....\n",
      "  See spectra and cross-correlation. Hit any key in display window to continue....\n",
      "  See extraction window(s). Hit space bar to continue....\n",
      "\n"
     ]
    }
   ],
   "source": [
    "arc=red.sum([1,2,3,4],crbox=[5,1])\n",
    "traces.find(arc,display=t)\n",
    "arcec=traces.extract(arc,display=t,threads=0)"
   ]
  },
  {
   "cell_type": "markdown",
   "metadata": {},
   "source": [
    "Do line identification based on previously identified lines, and wavelength fit."
   ]
  },
  {
   "cell_type": "code",
   "execution_count": 169,
   "metadata": {},
   "outputs": [
    {
     "name": "stdout",
     "output_type": "stream",
     "text": [
      "  rms:    0.019\n",
      "rejecting 90 points from 3653 total: \n",
      "  rms:    0.019\n",
      "rejecting 90 points from 3653 total: \n"
     ]
    },
    {
     "data": {
      "text/plain": [
       "{'type': 'chebyshev2D',\n",
       " 'degree': 2,\n",
       " 'ydegree': 3,\n",
       " 'waves': array([ 10133.5662,   9833.4229,   9826.4492, ...,   3561.0304,\n",
       "          3559.5081,   3545.5957]),\n",
       " 'waves_order': array([ 56,  58,  58, ..., 160, 160, 160]),\n",
       " 'orders': array([ 54,  55,  56,  57,  58,  59,  60,  61,  62,  63,  64,  65,  66,\n",
       "         67,  68,  69,  70,  71,  72,  73,  74,  75,  76,  77,  78,  79,\n",
       "         80,  81,  82,  83,  84,  85,  86,  87,  88,  89,  90,  91,  92,\n",
       "         93,  94,  95,  96,  97,  98,  99, 100, 101, 102, 103, 104, 105,\n",
       "        106, 107, 108, 109, 110, 111, 112, 113, 114, 115, 116, 117, 118,\n",
       "        119, 120, 121, 122, 123, 124, 125, 126, 127, 128, 129, 130, 131,\n",
       "        132, 133, 134, 135, 136, 137, 138, 139, 140, 141, 142, 143, 144,\n",
       "        145, 146, 147, 148, 149, 150, 151, 152, 153, 154, 155, 156, 157,\n",
       "        158, 159, 160]),\n",
       " 'index': None,\n",
       " 'pix0': -5.1791778332699323e-07,\n",
       " 'pix': array([  979.6753688 ,   582.69743052,   639.72191686, ...,   678.21538205,\n",
       "          712.43607968,  1020.27699022]),\n",
       " 'y': array([  2,   4,   4, ..., 106, 106, 106]),\n",
       " 'spectrum': array([[  7.67433752e-02,  -1.56835410e+02,  -2.17307801e+01, ...,\n",
       "           7.19219905e+00,   4.93813073e+00,   1.45846902e+01],\n",
       "        [ -6.05208907e+00,  -1.55730780e+02,  -2.15603934e+01, ...,\n",
       "           4.30798398e+00,   4.10498909e+00,   1.08136237e+00],\n",
       "        [  3.22044635e+00,  -1.54247836e+02,  -2.10626577e+01, ...,\n",
       "          -5.89324329e+00,   7.24865508e-01,   4.33194279e+00],\n",
       "        ..., \n",
       "        [ -1.67307801e+01,  -1.41730780e+02,  -1.41455677e+01, ...,\n",
       "           9.14177149e+00,  -4.09384957e+00,   1.32375109e+01],\n",
       "        [  8.06025439e+00,  -1.42838537e+02,  -2.27374747e+01, ...,\n",
       "           2.19383444e+00,  -7.38650808e+00,   1.15133101e+00],\n",
       "        [ -7.75846800e+00,  -1.56730780e+02,  -1.64644176e+01, ...,\n",
       "          -8.69543874e+00,   2.36432543e+00,  -3.93150144e+00]]),\n",
       " 'weights': array([ 1.,  1.,  1., ...,  1.,  1.,  1.]),\n",
       " 'model': <Chebyshev2D(2, 3, c0_0=566759.1170675902, c1_0=-7812.364347283803, c2_0=-154.06363453073914, c0_1=54.495671588241585, c1_1=8.46500149259407, c2_1=-2.441631899136481, c0_2=5.788417717550821, c1_2=0.9239378969770162, c2_2=-0.5616431197100671, c0_3=1.7109784912040762, c1_3=0.16448245224366057, c2_3=0.6335542416426342, x_domain=(0, 2128), y_domain=(0, 107))>,\n",
       " 'ax': None}"
      ]
     },
     "execution_count": 169,
     "metadata": {},
     "output_type": "execute_result"
    }
   ],
   "source": [
    "wav=spectra.WaveCal('ARCES/ARCES_wave.fits')\n",
    "vars(wav)"
   ]
  },
  {
   "cell_type": "code",
   "execution_count": 170,
   "metadata": {},
   "outputs": [
    {
     "name": "stdout",
     "output_type": "stream",
     "text": [
      "  See spectrum and template spectrum (top), cross correlation(bottom) Figure(1200x850)\n"
     ]
    },
    {
     "name": "stderr",
     "output_type": "stream",
     "text": [
      "/home/local/Anaconda3-2020.02/envs/py3.9/lib/python3.9/site-packages/scipy/optimize/minpack.py:833: OptimizeWarning: Covariance of the parameters could not be estimated\n",
      "  warnings.warn('Covariance of the parameters could not be estimated',\n",
      "/home/local/Anaconda3-2020.02/envs/py3.9/lib/python3.9/site-packages/scipy/optimize/minpack.py:833: OptimizeWarning: Covariance of the parameters could not be estimated\n",
      "  warnings.warn('Covariance of the parameters could not be estimated',\n",
      "/home/local/Anaconda3-2020.02/envs/py3.9/lib/python3.9/site-packages/scipy/optimize/minpack.py:833: OptimizeWarning: Covariance of the parameters could not be estimated\n",
      "  warnings.warn('Covariance of the parameters could not be estimated',\n"
     ]
    },
    {
     "name": "stdout",
     "output_type": "stream",
     "text": [
      "  See identified lines.\n",
      "  rms:    0.028\n",
      "rejecting 25 points from 2012 total: \n",
      "  rms:    0.012\n",
      "rejecting 26 points from 2012 total: \n",
      "  rms:    0.012\n",
      "rejecting 26 points from 2012 total: \n",
      "  See 2D wavecal fit. Enter space in plot window to continue\n"
     ]
    },
    {
     "ename": "KeyboardInterrupt",
     "evalue": "",
     "output_type": "error",
     "traceback": [
      "\u001b[0;31m---------------------------------------------------------------------------\u001b[0m",
      "\u001b[0;31mKeyboardInterrupt\u001b[0m                         Traceback (most recent call last)",
      "Input \u001b[0;32mIn [170]\u001b[0m, in \u001b[0;36m<module>\u001b[0;34m\u001b[0m\n\u001b[0;32m----> 1\u001b[0m \u001b[43mwav\u001b[49m\u001b[38;5;241;43m.\u001b[39;49m\u001b[43midentify\u001b[49m\u001b[43m(\u001b[49m\u001b[43mspectrum\u001b[49m\u001b[38;5;241;43m=\u001b[39;49m\u001b[43marcec\u001b[49m\u001b[43m,\u001b[49m\u001b[43mrad\u001b[49m\u001b[38;5;241;43m=\u001b[39;49m\u001b[38;5;241;43m3\u001b[39;49m\u001b[43m,\u001b[49m\u001b[43mdisplay\u001b[49m\u001b[38;5;241;43m=\u001b[39;49m\u001b[43mt\u001b[49m\u001b[43m,\u001b[49m\u001b[43mplot\u001b[49m\u001b[38;5;241;43m=\u001b[39;49m\u001b[38;5;28;43;01mTrue\u001b[39;49;00m\u001b[43m)\u001b[49m\n",
      "File \u001b[0;32m/home/holtz/git/pyvista/python/pyvista/spectra.py:598\u001b[0m, in \u001b[0;36mWaveCal.identify\u001b[0;34m(self, spectrum, file, wav, wref, inter, orders, verbose, rad, thresh, fit, maxshift, disp, display, plot, pixplot, xmin, xmax, lags, nskip)\u001b[0m\n\u001b[1;32m    595\u001b[0m \u001b[38;5;28mself\u001b[39m\u001b[38;5;241m.\u001b[39mweights\u001b[38;5;241m=\u001b[39mnp\u001b[38;5;241m.\u001b[39marray(weight)\n\u001b[1;32m    596\u001b[0m \u001b[38;5;28mself\u001b[39m\u001b[38;5;241m.\u001b[39mspectrum \u001b[38;5;241m=\u001b[39m spectrum\u001b[38;5;241m.\u001b[39mdata\n\u001b[0;32m--> 598\u001b[0m \u001b[38;5;28;01mif\u001b[39;00m fit: \u001b[38;5;28;43mself\u001b[39;49m\u001b[38;5;241;43m.\u001b[39;49m\u001b[43mfit\u001b[49m\u001b[43m(\u001b[49m\u001b[43m)\u001b[49m\n\u001b[1;32m    599\u001b[0m \u001b[38;5;28mprint\u001b[39m(\u001b[38;5;124m'\u001b[39m\u001b[38;5;124m'\u001b[39m)\n",
      "File \u001b[0;32m/home/holtz/git/pyvista/python/pyvista/spectra.py:259\u001b[0m, in \u001b[0;36mWaveCal.fit\u001b[0;34m(self, degree, reject)\u001b[0m\n\u001b[1;32m    257\u001b[0m         \u001b[38;5;28;01mexcept\u001b[39;00m: \u001b[38;5;28;01mpass\u001b[39;00m\n\u001b[1;32m    258\u001b[0m         \u001b[38;5;28mprint\u001b[39m(\u001b[38;5;124m'\u001b[39m\u001b[38;5;124m  See 2D wavecal fit. Enter space in plot window to continue\u001b[39m\u001b[38;5;124m'\u001b[39m)\n\u001b[0;32m--> 259\u001b[0m         get\u001b[38;5;241m=\u001b[39m\u001b[43mplots\u001b[49m\u001b[38;5;241;43m.\u001b[39;49m\u001b[43mmark\u001b[49m\u001b[43m(\u001b[49m\u001b[38;5;28;43mself\u001b[39;49m\u001b[38;5;241;43m.\u001b[39;49m\u001b[43mfig\u001b[49m\u001b[43m)\u001b[49m\n\u001b[1;32m    261\u001b[0m \u001b[38;5;28;01melse\u001b[39;00m :\n\u001b[1;32m    262\u001b[0m   \u001b[38;5;66;03m# 1D fit, loop over all rows in which lines have been identified\u001b[39;00m\n\u001b[1;32m    263\u001b[0m   nmod \u001b[38;5;241m=\u001b[39m \u001b[38;5;28mlen\u001b[39m(\u001b[38;5;28mset\u001b[39m(\u001b[38;5;28mself\u001b[39m\u001b[38;5;241m.\u001b[39my))\n",
      "File \u001b[0;32m/home/holtz/git/tools/python/tools/plots.py:67\u001b[0m, in \u001b[0;36mmark\u001b[0;34m(fig, index)\u001b[0m\n\u001b[1;32m     65\u001b[0m \u001b[38;5;28;01mglobal\u001b[39;00m _block, _x, _y, _button\n\u001b[1;32m     66\u001b[0m _block \u001b[38;5;241m=\u001b[39m \u001b[38;5;241m1\u001b[39m\n\u001b[0;32m---> 67\u001b[0m \u001b[43mevent\u001b[49m\u001b[43m(\u001b[49m\u001b[43mfig\u001b[49m\u001b[43m)\u001b[49m\n\u001b[1;32m     68\u001b[0m \u001b[38;5;28;01mif\u001b[39;00m index :\u001b[38;5;28;01mreturn\u001b[39;00m _x, _y, _button, _index[\u001b[38;5;241m0\u001b[39m]\n\u001b[1;32m     69\u001b[0m \u001b[38;5;28;01melse\u001b[39;00m : \u001b[38;5;28;01mreturn\u001b[39;00m _x, _y, _button\n",
      "File \u001b[0;32m/home/holtz/git/tools/python/tools/plots.py:62\u001b[0m, in \u001b[0;36mevent\u001b[0;34m(fig)\u001b[0m\n\u001b[1;32m     60\u001b[0m         fig\u001b[38;5;241m.\u001b[39mcanvas\u001b[38;5;241m.\u001b[39mstop_event_loop()\n\u001b[1;32m     61\u001b[0m cid \u001b[38;5;241m=\u001b[39m fig\u001b[38;5;241m.\u001b[39mcanvas\u001b[38;5;241m.\u001b[39mmpl_connect(\u001b[38;5;124m'\u001b[39m\u001b[38;5;124mkey_press_event\u001b[39m\u001b[38;5;124m'\u001b[39m,onpress)\n\u001b[0;32m---> 62\u001b[0m \u001b[38;5;28;01mif\u001b[39;00m _block \u001b[38;5;241m==\u001b[39m \u001b[38;5;241m1\u001b[39m : \u001b[43mfig\u001b[49m\u001b[38;5;241;43m.\u001b[39;49m\u001b[43mcanvas\u001b[49m\u001b[38;5;241;43m.\u001b[39;49m\u001b[43mstart_event_loop\u001b[49m\u001b[43m(\u001b[49m\u001b[38;5;241;43m0\u001b[39;49m\u001b[43m)\u001b[49m\n",
      "File \u001b[0;32m/home/local/Anaconda3-2020.02/envs/py3.9/lib/python3.9/site-packages/matplotlib/backends/backend_qt.py:409\u001b[0m, in \u001b[0;36mFigureCanvasQT.start_event_loop\u001b[0;34m(self, timeout)\u001b[0m\n\u001b[1;32m    405\u001b[0m     timer \u001b[38;5;241m=\u001b[39m QtCore\u001b[38;5;241m.\u001b[39mQTimer\u001b[38;5;241m.\u001b[39msingleShot(\u001b[38;5;28mint\u001b[39m(timeout \u001b[38;5;241m*\u001b[39m \u001b[38;5;241m1000\u001b[39m),\n\u001b[1;32m    406\u001b[0m                                      event_loop\u001b[38;5;241m.\u001b[39mquit)\n\u001b[1;32m    408\u001b[0m \u001b[38;5;28;01mwith\u001b[39;00m _maybe_allow_interrupt(event_loop):\n\u001b[0;32m--> 409\u001b[0m     qt_compat\u001b[38;5;241m.\u001b[39m_exec(event_loop)\n",
      "File \u001b[0;32m/home/local/Anaconda3-2020.02/envs/py3.9/lib/python3.9/contextlib.py:126\u001b[0m, in \u001b[0;36m_GeneratorContextManager.__exit__\u001b[0;34m(self, typ, value, traceback)\u001b[0m\n\u001b[1;32m    124\u001b[0m \u001b[38;5;28;01mif\u001b[39;00m typ \u001b[38;5;129;01mis\u001b[39;00m \u001b[38;5;28;01mNone\u001b[39;00m:\n\u001b[1;32m    125\u001b[0m     \u001b[38;5;28;01mtry\u001b[39;00m:\n\u001b[0;32m--> 126\u001b[0m         \u001b[38;5;28;43mnext\u001b[39;49m\u001b[43m(\u001b[49m\u001b[38;5;28;43mself\u001b[39;49m\u001b[38;5;241;43m.\u001b[39;49m\u001b[43mgen\u001b[49m\u001b[43m)\u001b[49m\n\u001b[1;32m    127\u001b[0m     \u001b[38;5;28;01mexcept\u001b[39;00m \u001b[38;5;167;01mStopIteration\u001b[39;00m:\n\u001b[1;32m    128\u001b[0m         \u001b[38;5;28;01mreturn\u001b[39;00m \u001b[38;5;28;01mFalse\u001b[39;00m\n",
      "File \u001b[0;32m/home/local/Anaconda3-2020.02/envs/py3.9/lib/python3.9/site-packages/matplotlib/backends/qt_compat.py:262\u001b[0m, in \u001b[0;36m_maybe_allow_interrupt\u001b[0;34m(qapp)\u001b[0m\n\u001b[1;32m    260\u001b[0m signal\u001b[38;5;241m.\u001b[39msignal(signal\u001b[38;5;241m.\u001b[39mSIGINT, old_sigint_handler)\n\u001b[1;32m    261\u001b[0m \u001b[38;5;28;01mif\u001b[39;00m handler_args \u001b[38;5;129;01mis\u001b[39;00m \u001b[38;5;129;01mnot\u001b[39;00m \u001b[38;5;28;01mNone\u001b[39;00m:\n\u001b[0;32m--> 262\u001b[0m     \u001b[43mold_sigint_handler\u001b[49m\u001b[43m(\u001b[49m\u001b[38;5;241;43m*\u001b[39;49m\u001b[43mhandler_args\u001b[49m\u001b[43m)\u001b[49m\n",
      "\u001b[0;31mKeyboardInterrupt\u001b[0m: "
     ]
    }
   ],
   "source": [
    "wav.identify(spectrum=arcec,rad=3,display=t,plot=True)"
   ]
  },
  {
   "cell_type": "markdown",
   "metadata": {},
   "source": [
    "Now reduce an image"
   ]
  },
  {
   "cell_type": "code",
   "execution_count": 104,
   "metadata": {},
   "outputs": [
    {
     "name": "stdout",
     "output_type": "stream",
     "text": [
      "  Reading file: UT211031/echelle/HIP109807.0028.fits\n",
      "  subtracting overscan:  1291.72\n",
      "  See bias box and cross section. \n",
      "   To continue, hit space in display window (p for debug) \n",
      "  estimating scattered light ...\n",
      "    fitting surface ...\n",
      "    rejecting points ...\n",
      "    refitting surface ...\n",
      "  See image with scattered light points\n",
      "   To continue, hit space in display window (p for debug) \n",
      "  See scattered light image\n",
      "   To continue, hit space in display window (p for debug) \n"
     ]
    }
   ],
   "source": [
    "im=red.reduce(28,scat=red.scat,display=t)"
   ]
  },
  {
   "cell_type": "code",
   "execution_count": 141,
   "metadata": {},
   "outputs": [],
   "source": [
    "t.tv(im)"
   ]
  },
  {
   "cell_type": "markdown",
   "metadata": {},
   "source": [
    "Get shift of traces, and extract. Alternatively, you could use a single call to retrace(), which will do the find() and then trace() using the shifted stored model as a starting guess."
   ]
  },
  {
   "cell_type": "code",
   "execution_count": 142,
   "metadata": {},
   "outputs": [
    {
     "name": "stdout",
     "output_type": "stream",
     "text": [
      "  See spectra and cross-correlation. Hit any key in display window to continue....\n",
      "  See extraction window(s). Hit space bar to continue....\n",
      "\n"
     ]
    }
   ],
   "source": [
    "traces.find(im,plot=t)\n",
    "imec=traces.extract(im,plot=t)"
   ]
  },
  {
   "cell_type": "code",
   "execution_count": 143,
   "metadata": {},
   "outputs": [],
   "source": [
    "t.clear()\n",
    "t.tv(im)\n",
    "t.tv(imec)"
   ]
  },
  {
   "cell_type": "markdown",
   "metadata": {},
   "source": [
    "Get the wavelengths for all pixels from the wavelength solution and plot extracted spectra."
   ]
  },
  {
   "cell_type": "code",
   "execution_count": 128,
   "metadata": {
    "scrolled": true
   },
   "outputs": [],
   "source": [
    "wav.add_wave(imec)\n",
    "plt.figure()\n",
    "for row in range(len(imec.wave)) :\n",
    "    plt.plot(imec.wave[row],imec.data[row])"
   ]
  },
  {
   "cell_type": "markdown",
   "metadata": {},
   "source": [
    "Now do 1D flat fielding. 2D flat fielding would be better, but poses challenges with ARCES because the traces move, and there's no way to illuminate all pixels."
   ]
  },
  {
   "cell_type": "code",
   "execution_count": 130,
   "metadata": {},
   "outputs": [
    {
     "name": "stdout",
     "output_type": "stream",
     "text": [
      "\n"
     ]
    }
   ],
   "source": [
    "traces.find(flat)\n",
    "flat1d=traces.extract(flat)\n",
    "t.tv(flat1d)"
   ]
  },
  {
   "cell_type": "code",
   "execution_count": 125,
   "metadata": {},
   "outputs": [],
   "source": [
    "import copy\n",
    "test=copy.deepcopy(imec)\n",
    "test.data /= flat1d.data\n",
    "test.uncertainty.array /= flat1d.data"
   ]
  },
  {
   "cell_type": "code",
   "execution_count": 140,
   "metadata": {},
   "outputs": [],
   "source": [
    "t.tv(imec)\n",
    "t.tv(test)"
   ]
  },
  {
   "cell_type": "code",
   "execution_count": null,
   "metadata": {},
   "outputs": [],
   "source": []
  },
  {
   "cell_type": "markdown",
   "metadata": {},
   "source": [
    "Resample onto logarithmic wavelength grid and combine orders"
   ]
  },
  {
   "cell_type": "code",
   "execution_count": 138,
   "metadata": {},
   "outputs": [
    {
     "name": "stderr",
     "output_type": "stream",
     "text": [
      "/home/holtz/git/pyvista/python/pyvista/spectra.py:650: RuntimeWarning: invalid value encountered in true_divide\n",
      "  out = out / sig\n",
      "/home/holtz/git/pyvista/python/pyvista/spectra.py:651: RuntimeWarning: divide by zero encountered in true_divide\n",
      "  sig = np.sqrt(1./sig)\n"
     ]
    },
    {
     "data": {
      "text/plain": [
       "[<matplotlib.lines.Line2D at 0x2b0174f2fe50>]"
      ]
     },
     "execution_count": 138,
     "metadata": {},
     "output_type": "execute_result"
    }
   ],
   "source": [
    "wnew=10**np.arange(3.5,4.0,5.5e-6)\n",
    "comb=wav.scomb(imec,wnew,average=False,usemask=True)\n",
    "plt.figure()\n",
    "plt.plot(wnew,comb.data)\n",
    "comb=wav.scomb(test,wnew,average=True,usemask=True)\n",
    "plt.figure()\n",
    "plt.plot(wnew,comb.data)\n"
   ]
  },
  {
   "cell_type": "code",
   "execution_count": null,
   "metadata": {},
   "outputs": [],
   "source": []
  },
  {
   "cell_type": "code",
   "execution_count": null,
   "metadata": {},
   "outputs": [],
   "source": [
    "from pyvista import reduce\n",
    "fig=plt.figure()\n",
    "reduce.all('oct21.yml',groups='ARCES',display=None,plot=fig)"
   ]
  }
 ],
 "metadata": {
  "kernelspec": {
   "display_name": "Python 3 (ipykernel)",
   "language": "python",
   "name": "python3"
  },
  "language_info": {
   "codemirror_mode": {
    "name": "ipython",
    "version": 3
   },
   "file_extension": ".py",
   "mimetype": "text/x-python",
   "name": "python",
   "nbconvert_exporter": "python",
   "pygments_lexer": "ipython3",
   "version": "3.9.9"
  }
 },
 "nbformat": 4,
 "nbformat_minor": 4
}
