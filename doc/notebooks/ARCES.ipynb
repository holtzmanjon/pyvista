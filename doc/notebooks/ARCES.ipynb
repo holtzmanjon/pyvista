{
 "cells": [
  {
   "cell_type": "markdown",
   "metadata": {},
   "source": [
    "<h2> Spectroscopic data reduction : spectra module"
   ]
  },
  {
   "cell_type": "markdown",
   "metadata": {},
   "source": [
    "<h2> ARCES : echelle spectroscopy"
   ]
  },
  {
   "cell_type": "code",
   "execution_count": 1,
   "metadata": {},
   "outputs": [],
   "source": [
    "from pyvista import imred, tv, spectra\n",
    "import numpy as np\n",
    "import matplotlib.pyplot as plt"
   ]
  },
  {
   "cell_type": "markdown",
   "metadata": {},
   "source": [
    "pyvista uses a display tool defined in the tv module. To use the interactive\n",
    "display in a notebook, set the display to be an external display window, e.g. with \n",
    "<code>\n",
    "%matplotlib qt\n",
    "</code>\n",
    "Instantiate a tv object, here we just call it t, but you could call it whatever you want!\n",
    "<p>\n",
    "The display tools supports a number of \"asynchronous\" operations, e.g. zoom and pan with the mouse buttons, etc. Enter a '?' in the display window to see a list."
   ]
  },
  {
   "cell_type": "code",
   "execution_count": 5,
   "metadata": {},
   "outputs": [],
   "source": [
    "%matplotlib qt\n",
    "t=tv.TV()"
   ]
  },
  {
   "cell_type": "markdown",
   "metadata": {},
   "source": [
    "The basic tool for basic image reduction is a Reducer object, defined in the imred module. Instantiate a reducer here. The main argument is an instrument name, which tells it to read a YAML configuration file for the specified instrument. We also give it an optional dir= argument to specify the default directory from which to read images, if a directory is not specified in subsequent commands that read images."
   ]
  },
  {
   "cell_type": "code",
   "execution_count": 10,
   "metadata": {},
   "outputs": [
    {
     "name": "stdout",
     "output_type": "stream",
     "text": [
      "INSTRUMENT: ARCES   config: \n",
      "  will use format:  /home/holtz/red/UT211031/echelle/*{:04d}.f*.fits*\n",
      "         gain:  [3.8]    rn: [ 7.]\n",
      "         scale:  None   \n",
      "  Biastype : 0\n",
      "  Bias box: \n",
      "    SC    NC    SR    NR\n",
      "  2075    51    20  2009 \n",
      "  Trim box: \n",
      "    SC    NC    SR    NR\n",
      "    22  2026     0  2048 \n",
      "  Norm box: \n",
      "    SC    NC    SR    NR\n",
      "  1000    51  1000    51 \n"
     ]
    }
   ],
   "source": [
    "red=imred.Reducer('ARCES',dir='/home/holtz/red/UT211031/echelle')"
   ]
  },
  {
   "cell_type": "markdown",
   "metadata": {},
   "source": [
    "A main method of the reducer object is the reduce() method. Without any additional arguments, reduce() will read an image from disk, subtract the overscan (region(s) as determined from the instrument configuration file), compute an uncertainty array using the gain and readout noise from the instrument configuration file, and return a pyvista Data object with the data, uncertainty, and mask in different attributes.\n",
    "<p>\n",
    "To specify the input image, we could pass a string with the file name. If the string does not include a '/', it will read from the default input directory.\n",
    "<p>\n",
    "If the file can be identified with a unique integer, then you can just specify this number, which can be very convenient. This is turned into a character string using the formstr attribute define in the configuration file, which is used to search for the file to read.\n",
    "<p>\n",
    "Note that the default for reduce() is to trim the image, removing over/underscan as specified in the instrument configuration file. If you specify trim=False, then these regions will be preserved.\n",
    "    \n",
    "<p>\n",
    "We can display the image using the tv() method of our display tool, which can take as input a Data object, and numpy array, or a FITS HDU object."
   ]
  },
  {
   "cell_type": "code",
   "execution_count": 4,
   "metadata": {},
   "outputs": [
    {
     "data": {
      "text/html": [
       "<i>Table length=36</i>\n",
       "<table id=\"table47568436673840-947725\" class=\"table-striped table-bordered table-condensed\">\n",
       "<thead><tr><th>idx</th><th>FILE</th><th>DATE-OBS</th><th>OBJNAME</th><th>RA</th><th>DEC</th><th>EXPTIME</th></tr></thead>\n",
       "<tr><td>0</td><td>ThAr.0001.fits</td><td>2021-10-30T23:08:48.959</td><td></td><td>6:56:00.00</td><td>10:00:00.00</td><td>29.999639034271</td></tr>\n",
       "<tr><td>1</td><td>ThAr.0002.fits</td><td>2021-10-30T23:11:52.822</td><td></td><td>6:56:00.00</td><td>10:00:00.00</td><td>30.000228881836</td></tr>\n",
       "<tr><td>2</td><td>ThAr.0003.fits</td><td>2021-10-30T23:14:57.305</td><td></td><td>6:56:00.00</td><td>10:00:00.00</td><td>30.000248908997</td></tr>\n",
       "<tr><td>3</td><td>ThAr.0004.fits</td><td>2021-10-30T23:18:01.781</td><td></td><td>6:56:00.00</td><td>10:00:00.00</td><td>29.999611854553</td></tr>\n",
       "<tr><td>4</td><td>flat_red.0005.fits</td><td>2021-10-30T23:21:06.521</td><td></td><td>6:56:00.00</td><td>10:00:00.00</td><td>6.9998741149902</td></tr>\n",
       "<tr><td>5</td><td>flat_red.0006.fits</td><td>2021-10-30T23:23:48.699</td><td></td><td>6:56:00.00</td><td>10:00:00.00</td><td>6.9998621940613</td></tr>\n",
       "<tr><td>6</td><td>flat_red.0007.fits</td><td>2021-10-30T23:26:29.657</td><td></td><td>6:56:00.00</td><td>10:00:00.00</td><td>6.9998688697815</td></tr>\n",
       "<tr><td>7</td><td>flat_red.0008.fits</td><td>2021-10-30T23:29:11.599</td><td></td><td>6:56:00.00</td><td>10:00:00.00</td><td>6.9998691082001</td></tr>\n",
       "<tr><td>8</td><td>flat_red.0009.fits</td><td>2021-10-30T23:31:53.347</td><td></td><td>6:56:00.00</td><td>10:00:00.00</td><td>6.9998760223389</td></tr>\n",
       "<tr><td>9</td><td>flat_red.0010.fits</td><td>2021-10-30T23:34:35.149</td><td></td><td>6:56:00.00</td><td>10:00:00.00</td><td>6.9998240470886</td></tr>\n",
       "<tr><td>10</td><td>flat_red.0011.fits</td><td>2021-10-30T23:37:16.195</td><td></td><td>6:56:00.00</td><td>10:00:00.00</td><td>6.9998300075531</td></tr>\n",
       "<tr><td>11</td><td>flat_blue.0012.fits</td><td>2021-10-30T23:40:00.646</td><td></td><td>6:56:00.00</td><td>10:00:00.00</td><td>199.9994661808</td></tr>\n",
       "<tr><td>12</td><td>flat_blue.0013.fits</td><td>2021-10-30T23:45:56.516</td><td></td><td>6:56:00.00</td><td>10:00:00.00</td><td>200.00009799004</td></tr>\n",
       "<tr><td>13</td><td>flat_blue.0014.fits</td><td>2021-10-30T23:51:52.683</td><td></td><td>6:56:00.00</td><td>10:00:00.00</td><td>200.0001540184</td></tr>\n",
       "<tr><td>14</td><td>flat_blue.0015.fits</td><td>2021-10-30T23:57:47.742</td><td></td><td>6:56:00.00</td><td>10:00:00.00</td><td>200.0001039505</td></tr>\n",
       "<tr><td>15</td><td>flat_blue.0016.fits</td><td>2021-10-31T00:03:42.881</td><td></td><td>6:56:00.00</td><td>10:00:00.00</td><td>200.00117611885</td></tr>\n",
       "<tr><td>16</td><td>flat_blue.0017.fits</td><td>2021-10-31T00:09:39.357</td><td></td><td>10:00:00.00</td><td>80:00:00.00</td><td>200.00015592575</td></tr>\n",
       "<tr><td>17</td><td>flat_blue.0018.fits</td><td>2021-10-31T00:15:34.511</td><td></td><td>10:00:00.00</td><td>80:00:00.00</td><td>199.99992108345</td></tr>\n",
       "<tr><td>18</td><td>bias.0019.fits</td><td>2021-10-31T00:21:35.678</td><td></td><td>22:10:00.00</td><td>25:00:00.00</td><td>0.0037758350372314</td></tr>\n",
       "<tr><td>19</td><td>bias.0020.fits</td><td>2021-10-31T00:24:09.928</td><td></td><td>22:10:00.00</td><td>30:00:00.00</td><td>0.0036609172821045</td></tr>\n",
       "<tr><td>20</td><td>bias.0021.fits</td><td>2021-10-31T00:26:44.310</td><td></td><td>22:09:43.83</td><td>29:59:59.94</td><td>1.4720098972321</td></tr>\n",
       "<tr><td>21</td><td>bias.0022.fits</td><td>2021-10-31T00:29:22.298</td><td></td><td>22:09:23.05</td><td>29:59:59.68</td><td>0.0035707950592041</td></tr>\n",
       "<tr><td>22</td><td>bias.0023.fits</td><td>2021-10-31T00:31:57.838</td><td></td><td>22:09:06.88</td><td>29:59:59.33</td><td>1.4844260215759</td></tr>\n",
       "<tr><td>23</td><td>bias.0024.fits</td><td>2021-10-31T00:34:35.682</td><td></td><td>22:08:48.41</td><td>29:59:58.79</td><td>0.004054069519043</td></tr>\n",
       "<tr><td>24</td><td>bias.0025.fits</td><td>2021-10-31T00:37:11.755</td><td></td><td>22:08:32.24</td><td>29:59:58.18</td><td>1.5329439640045</td></tr>\n",
       "<tr><td>25</td><td>HIP_9598.0026.fits</td><td>2021-10-31T00:49:03.407</td><td>HIP 9598</td><td>2:03:25.95</td><td>72:25:17.02</td><td>30.000284910202</td></tr>\n",
       "<tr><td>26</td><td>HD_160934.0027.fits</td><td>2021-10-31T04:15:10.913</td><td>HD 160934</td><td>17:38:39.62</td><td>61:14:16.10</td><td>1199.9996869564</td></tr>\n",
       "<tr><td>27</td><td>HIP109807.0028.fits</td><td>2021-10-31T04:39:30.292</td><td>HIP 109807</td><td>22:14:26.97</td><td>2:42:24.40</td><td>1200.0000200272</td></tr>\n",
       "<tr><td>28</td><td>HIP111976.0029.fits</td><td>2021-10-31T05:05:27.768</td><td>HIP 111976</td><td>22:40:54.86</td><td>64:54:28.46</td><td>1199.9997317791</td></tr>\n",
       "<tr><td>29</td><td>ThAr.0030.fits</td><td>2021-10-31T05:29:13.686</td><td>HIP 669</td><td>0:08:16.35</td><td>-14:49:28.35</td><td>30.000263929367</td></tr>\n",
       "<tr><td>30</td><td>HIP_669.0031.fits</td><td>2021-10-31T05:34:44.277</td><td>HIP 669</td><td>0:08:16.35</td><td>-14:49:28.35</td><td>420.00041985512</td></tr>\n",
       "<tr><td>31</td><td>HIP_1412.0032.fits</td><td>2021-10-31T05:45:08.419</td><td>HIP 1412</td><td>0:17:41.23</td><td>-8:40:55.81</td><td>1199.9996590614</td></tr>\n",
       "<tr><td>32</td><td>ThAr.0033.fits</td><td>2021-10-31T06:07:53.042</td><td>HD 16760</td><td>2:42:21.31</td><td>38:37:07.14</td><td>30.000195980072</td></tr>\n",
       "<tr><td>33</td><td>HIP14807.0034.fits</td><td>2021-10-31T06:21:01.541</td><td>HIP 14807</td><td>3:11:12.32</td><td>22:25:22.57</td><td>1199.9997391701</td></tr>\n",
       "<tr><td>34</td><td>HD16760.0035.fits</td><td>2021-10-31T06:47:57.684</td><td>HD 16760</td><td>2:42:21.31</td><td>38:37:07.14</td><td>1199.999756813</td></tr>\n",
       "<tr><td>35</td><td>ThAr.0036.fits</td><td>2021-10-31T07:10:38.594</td><td>HD 16760</td><td>2:42:21.31</td><td>38:37:07.14</td><td>29.999819040298</td></tr>\n",
       "</table><style>table.dataTable {clear: both; width: auto !important; margin: 0 !important;}\n",
       ".dataTables_info, .dataTables_length, .dataTables_filter, .dataTables_paginate{\n",
       "display: inline-block; margin-right: 1em; }\n",
       ".paginate_button { margin-right: 5px; }\n",
       "</style>\n",
       "<script>\n",
       "\n",
       "var astropy_sort_num = function(a, b) {\n",
       "    var a_num = parseFloat(a);\n",
       "    var b_num = parseFloat(b);\n",
       "\n",
       "    if (isNaN(a_num) && isNaN(b_num))\n",
       "        return ((a < b) ? -1 : ((a > b) ? 1 : 0));\n",
       "    else if (!isNaN(a_num) && !isNaN(b_num))\n",
       "        return ((a_num < b_num) ? -1 : ((a_num > b_num) ? 1 : 0));\n",
       "    else\n",
       "        return isNaN(a_num) ? -1 : 1;\n",
       "}\n",
       "\n",
       "require.config({paths: {\n",
       "    datatables: 'https://cdn.datatables.net/1.10.12/js/jquery.dataTables.min'\n",
       "}});\n",
       "require([\"datatables\"], function(){\n",
       "    console.log(\"$('#table47568436673840-947725').dataTable()\");\n",
       "    \n",
       "jQuery.extend( jQuery.fn.dataTableExt.oSort, {\n",
       "    \"optionalnum-asc\": astropy_sort_num,\n",
       "    \"optionalnum-desc\": function (a,b) { return -astropy_sort_num(a, b); }\n",
       "});\n",
       "\n",
       "    $('#table47568436673840-947725').dataTable({\n",
       "        order: [],\n",
       "        pageLength: 10,\n",
       "        lengthMenu: [[10, 25, 50, 100, 500, 1000, -1], [10, 25, 50, 100, 500, 1000, 'All']],\n",
       "        pagingType: \"full_numbers\",\n",
       "        columnDefs: [{targets: [0], type: \"optionalnum\"}]\n",
       "    });\n",
       "});\n",
       "</script>\n"
      ],
      "text/plain": [
       "<IPython.core.display.HTML object>"
      ]
     },
     "execution_count": 4,
     "metadata": {},
     "output_type": "execute_result"
    }
   ],
   "source": [
    "red.log(htmlfile='log.html').show_in_notebook(display_length=10)"
   ]
  },
  {
   "cell_type": "code",
   "execution_count": 5,
   "metadata": {},
   "outputs": [
    {
     "name": "stdout",
     "output_type": "stream",
     "text": [
      "  Reading file: /home/holtz/red/UT211031/echelle/HIP109807.0028.fits\n",
      "  subtracting overscan:  1291.72\n",
      "INFO: array provided for uncertainty; assuming it is a StdDevUncertainty. [astropy.nddata.ccddata]\n"
     ]
    }
   ],
   "source": [
    "a=red.reduce(28)\n",
    "\n",
    "t.tv(a)"
   ]
  },
  {
   "cell_type": "markdown",
   "metadata": {},
   "source": [
    "<h4> Calibration: make and apply flat field"
   ]
  },
  {
   "cell_type": "markdown",
   "metadata": {},
   "source": [
    "If we add additional arguments to reduce(), we can add additional calibration steps. For example, to flat field the data, we would add a flat= keyword through which we give the reducer a flat field. To add a spatial bias subtraction, we would add a bias= keyword through which we give the reducer a superbias frame.\n",
    "<br>\n",
    "First, however, we have to make the calibration products, which is accomplished using the mkflat(), mkbias(), etc methods. These take as input a list of frames to be used to construct the master calibration frame (e.g.. superflat). For ARCES, we will keep the spectral shape of the flats for now."
   ]
  },
  {
   "cell_type": "markdown",
   "metadata": {},
   "source": [
    "Create biases and flats. Note that for flats, we have to do scattered light removal, which can be done on reduction of individual images, but since it is slow, we will do it on the combined flat. If we add the display= keyword, giving a display object, then the calibration frames will be displayed, showing each input frame relative to the master frame, so you can inspect and make sure that bad frames are not being included in the combination."
   ]
  },
  {
   "cell_type": "code",
   "execution_count": 6,
   "metadata": {
    "scrolled": true
   },
   "outputs": [
    {
     "name": "stdout",
     "output_type": "stream",
     "text": [
      "  Reading file: /home/holtz/red/UT211031/echelle/bias.0019.fits\n",
      "  subtracting overscan:  1288.79\n",
      "  Reading file: /home/holtz/red/UT211031/echelle/bias.0020.fits\n",
      "  subtracting overscan:  1288.58\n",
      "  Reading file: /home/holtz/red/UT211031/echelle/bias.0021.fits\n",
      "  subtracting overscan:  1288.52\n",
      "  Reading file: /home/holtz/red/UT211031/echelle/bias.0022.fits\n",
      "  subtracting overscan:  1288.55\n",
      "  Reading file: /home/holtz/red/UT211031/echelle/bias.0023.fits\n",
      "  subtracting overscan:  1288.97\n",
      "  Reading file: /home/holtz/red/UT211031/echelle/bias.0024.fits\n",
      "  subtracting overscan:  1289.03\n",
      "  combining data with median....\n",
      "  calculating uncertainty....\n",
      "  Reading file: /home/holtz/red/UT211031/echelle/flat_red.0005.fits\n",
      "  subtracting overscan:  1287.67\n",
      "  Reading file: /home/holtz/red/UT211031/echelle/flat_red.0006.fits\n",
      "  subtracting overscan:  1287.76\n",
      "  Reading file: /home/holtz/red/UT211031/echelle/flat_red.0007.fits\n",
      "  subtracting overscan:  1287.53\n",
      "  Reading file: /home/holtz/red/UT211031/echelle/flat_red.0008.fits\n",
      "  subtracting overscan:  1287.68\n",
      "  Reading file: /home/holtz/red/UT211031/echelle/flat_red.0009.fits\n",
      "  subtracting overscan:  1287.39\n",
      "  Reading file: /home/holtz/red/UT211031/echelle/flat_red.0010.fits\n",
      "  subtracting overscan:  1287.34\n",
      "  Reading file: /home/holtz/red/UT211031/echelle/flat_red.0011.fits\n",
      "  subtracting overscan:  1287.35\n",
      "  combining data with median....\n",
      "  calculating uncertainty....\n",
      "  Reading file: /home/holtz/red/UT211031/echelle/flat_blue.0012.fits\n",
      "  subtracting overscan:  1288.21\n",
      "  Reading file: /home/holtz/red/UT211031/echelle/flat_blue.0013.fits\n",
      "  subtracting overscan:  1288.33\n",
      "  Reading file: /home/holtz/red/UT211031/echelle/flat_blue.0014.fits\n",
      "  subtracting overscan:  1288.38\n",
      "  Reading file: /home/holtz/red/UT211031/echelle/flat_blue.0015.fits\n",
      "  subtracting overscan:  1288.11\n",
      "  Reading file: /home/holtz/red/UT211031/echelle/flat_blue.0016.fits\n",
      "  subtracting overscan:  1288.16\n",
      "  Reading file: /home/holtz/red/UT211031/echelle/flat_blue.0017.fits\n",
      "  subtracting overscan:  1288.63\n",
      "  Reading file: /home/holtz/red/UT211031/echelle/flat_blue.0018.fits\n",
      "  subtracting overscan:  1288.62\n",
      "  combining data with median....\n",
      "  calculating uncertainty....\n",
      "  estimating scattered light ...\n",
      "    fitting surface ...\n",
      "    rejecting points ...\n",
      "    refitting surface ...\n",
      "  estimating scattered light ...\n",
      "    fitting surface ...\n",
      "    rejecting points ...\n",
      "    refitting surface ...\n"
     ]
    }
   ],
   "source": [
    "bias=red.mkbias([19,20,21,22,23,24])\n",
    "flat_red=red.mkflat([5,6,7,8,9,10,11])\n",
    "flat_blue=red.mkflat([12,13,14,15,16,17,18])\n",
    "\n",
    "# do scatter after combination to save time\n",
    "red.scatter(flat_red,scat=red.scat,display=t)\n",
    "red.scatter(flat_blue,scat=red.scat,display=t)"
   ]
  },
  {
   "cell_type": "markdown",
   "metadata": {},
   "source": [
    "Combine the red and blue flats. To do, we multiply each by the normalization factor used to create the flats, and then add them. We then display them with the tv tool. Note the last tv() command, which displays the S/N image (the data attribute divided by the uncertainty attribute of the pyvista Data object). You can cycle through these four images in the display tool, using the +/- keys to cycle forward and backward through the stack."
   ]
  },
  {
   "cell_type": "code",
   "execution_count": 35,
   "metadata": {},
   "outputs": [],
   "source": [
    "flat=flat_red.multiply(flat_red.header['MEANNORM'])\n",
    "flat=flat.add(flat_blue.multiply(flat_blue.header['MEANNORM']))\n",
    "flat=flat.divide(flat_red.header['MEANNORM']+flat_blue.header['MEANNORM'])\n",
    "flat.add_bitmask(flat_red.bitmask | flat_blue.bitmask)\n",
    "t.clear()\n",
    "t.tv(flat_blue)\n",
    "t.tv(flat_red)\n",
    "t.tv(flat)\n",
    "t.tv(flat,sn=True)"
   ]
  },
  {
   "cell_type": "markdown",
   "metadata": {},
   "source": [
    "Read and display a star spectral image. For ARCES, we do not apply a flat field here, since we only have flats with the orders, which can move around a bit. Instead, we will use \"1D\" flats later in the processing. "
   ]
  },
  {
   "cell_type": "code",
   "execution_count": 8,
   "metadata": {
    "scrolled": true
   },
   "outputs": [
    {
     "name": "stdout",
     "output_type": "stream",
     "text": [
      "  Reading file: /home/holtz/red/UT211031/echelle/HD16760.0035.fits\n",
      "  subtracting overscan:  1291.73\n",
      "  subtracting bias...\n",
      "INFO: array provided for uncertainty; assuming it is a StdDevUncertainty. [astropy.nddata.ccddata]\n"
     ]
    }
   ],
   "source": [
    "star=red.reduce(35,bias=bias)\n",
    "t.tv(star,max=1000) "
   ]
  },
  {
   "cell_type": "markdown",
   "metadata": {},
   "source": [
    "Cosmic ray rejection can be tricky. Here we use the LACosmic routine of van Dokkum, as implemented in the astroscrappy package. Alternatively, you can use a median filter rejection if you specify the shape of the filter in the crbox argument (e.g. crbox=[5,1] will median filter with a box 5 rows by one column, rejecting pixels greater than nsig times the estimate uncertainty.\n",
    "<p>\n",
    "With the display= keyword, the image before CR removal, after CR removal, and pixels identified as CRs are display in the specified display tool.\n",
    "<p>\n",
    "If the crbox= keyword is specified in reduce(), then the CR-rejection will happen as part of image reduction."
   ]
  },
  {
   "cell_type": "code",
   "execution_count": 13,
   "metadata": {},
   "outputs": [
    {
     "name": "stdout",
     "output_type": "stream",
     "text": [
      "  Reading file: /home/holtz/red/UT211031/echelle/HD16760.0035.fits\n",
      "  subtracting overscan:  1291.73\n",
      "  See bias box (solid outlines applied to dashed regions of the same color), and cross section. \n",
      "   To continue, hit space in display window (p for debug) \n",
      "  zapping CRs with astroscrappy detect_cosmics\n",
      "  See CRs and CR-zapped image and original using - key\n",
      "   To continue, hit space in display window (p for debug) \n",
      "INFO: array provided for uncertainty; assuming it is a StdDevUncertainty. [astropy.nddata.ccddata]\n"
     ]
    }
   ],
   "source": [
    "#crstar=red.crrej(star,crbox='lacosmic',display=t,objlim=50)\n",
    "crstar=red.reduce(35,crbox='lacosmic',display=t,crsig=7,objlim=50,sigfrac=1.)"
   ]
  },
  {
   "cell_type": "markdown",
   "metadata": {},
   "source": [
    "<h4> Tracing and extraction"
   ]
  },
  {
   "cell_type": "markdown",
   "metadata": {},
   "source": [
    "To facilitate tracing, we can start from an existing set of traces for the instrument. We instantiate a Trace object using this previous set."
   ]
  },
  {
   "cell_type": "code",
   "execution_count": 11,
   "metadata": {},
   "outputs": [
    {
     "name": "stdout",
     "output_type": "stream",
     "text": [
      "no attribute:  rows\n"
     ]
    },
    {
     "data": {
      "text/plain": [
       "{'type': 'Polynomial1D',\n",
       " 'degree': 2,\n",
       " 'sc0': 1064,\n",
       " 'pix0': -0.016310744310946035,\n",
       " 'spectrum': array([  7.71968625e-04,   7.23036355e-04,   8.62288638e-04, ...,\n",
       "          7.60172697e-05,   3.69138026e-04,   1.36280447e-04], dtype=float32),\n",
       " 'rad': 5,\n",
       " 'lags': array([-10,  -9,  -8,  -7,  -6,  -5,  -4,  -3,  -2,  -1,   0,   1,   2,\n",
       "          3,   4,   5,   6,   7,   8,   9]),\n",
       " 'transpose': False,\n",
       " 'rows': None,\n",
       " 'index': array([  0,   1,   2,   3,   4,   5,   6,   7,   8,   9,  10,  11,  12,\n",
       "         13,  14,  15,  16,  17,  18,  19,  20,  21,  22,  23,  24,  25,\n",
       "         26,  27,  28,  29,  30,  31,  32,  33,  34,  35,  36,  37,  38,\n",
       "         39,  40,  41,  42,  43,  44,  45,  46,  47,  48,  49,  50,  51,\n",
       "         52,  53,  54,  55,  56,  57,  58,  59,  60,  61,  62,  63,  64,\n",
       "         65,  66,  67,  68,  69,  70,  71,  72,  73,  74,  75,  76,  77,\n",
       "         78,  79,  80,  81,  82,  83,  84,  85,  86,  87,  88,  89,  90,\n",
       "         91,  92,  93,  94,  95,  96,  97,  98,  99, 100, 101, 102, 103,\n",
       "        104, 105, 106]),\n",
       " 'model': [<Polynomial1D(2, c0=331.66689053267896, c1=-0.07513039362999681, c2=3.48796893301522e-05)>,\n",
       "  <Polynomial1D(2, c0=341.9199784208266, c1=-0.07511607373150185, c2=3.48677094473913e-05)>,\n",
       "  <Polynomial1D(2, c0=352.0276855740665, c1=-0.07517622752757491, c2=3.487974365617365e-05)>,\n",
       "  <Polynomial1D(2, c0=361.99499854932577, c1=-0.07533555648565585, c2=3.495530690855771e-05)>,\n",
       "  <Polynomial1D(2, c0=371.73289966295897, c1=-0.07530603431045428, c2=3.494595422221042e-05)>,\n",
       "  <Polynomial1D(2, c0=381.33371005444303, c1=-0.07527296432355189, c2=3.494091298362189e-05)>,\n",
       "  <Polynomial1D(2, c0=390.8230877393702, c1=-0.07526792169617134, c2=3.495711054914068e-05)>,\n",
       "  <Polynomial1D(2, c0=400.1998253524528, c1=-0.07523105818673823, c2=3.495224486522976e-05)>,\n",
       "  <Polynomial1D(2, c0=409.49232201091945, c1=-0.07522065218614024, c2=3.4972702092402096e-05)>,\n",
       "  <Polynomial1D(2, c0=418.71748000274323, c1=-0.0752211407828277, c2=3.4997521650327396e-05)>,\n",
       "  <Polynomial1D(2, c0=427.8726301926307, c1=-0.07521382545547847, c2=3.501994082509166e-05)>,\n",
       "  <Polynomial1D(2, c0=436.9745386780377, c1=-0.07520696298652815, c2=3.5042611933161276e-05)>,\n",
       "  <Polynomial1D(2, c0=446.0203009782646, c1=-0.07519470257881035, c2=3.507099388393407e-05)>,\n",
       "  <Polynomial1D(2, c0=454.9972636204865, c1=-0.07512692783743008, c2=3.508088879521775e-05)>,\n",
       "  <Polynomial1D(2, c0=463.95438590772744, c1=-0.07506993110787065, c2=3.5095176244703505e-05)>,\n",
       "  <Polynomial1D(2, c0=472.8898975615753, c1=-0.0750059041417708, c2=3.510894355534018e-05)>,\n",
       "  <Polynomial1D(2, c0=481.844651938239, c1=-0.07499998187131691, c2=3.514822533636384e-05)>,\n",
       "  <Polynomial1D(2, c0=490.72007159028686, c1=-0.07484629757028978, c2=3.512625704250559e-05)>,\n",
       "  <Polynomial1D(2, c0=499.63335234289275, c1=-0.07477625004818378, c2=3.5143863816097935e-05)>,\n",
       "  <Polynomial1D(2, c0=508.55556458592, c1=-0.07470983926683113, c2=3.516357374143316e-05)>,\n",
       "  <Polynomial1D(2, c0=517.4749422043835, c1=-0.07463768856933917, c2=3.518824564652035e-05)>,\n",
       "  <Polynomial1D(2, c0=526.421544152514, c1=-0.07458083469169878, c2=3.521765590515578e-05)>,\n",
       "  <Polynomial1D(2, c0=535.3763821875579, c1=-0.07448608640218558, c2=3.5232992657857664e-05)>,\n",
       "  <Polynomial1D(2, c0=544.329217471886, c1=-0.07435456350256406, c2=3.523743611985192e-05)>,\n",
       "  <Polynomial1D(2, c0=553.3404565087521, c1=-0.0742727037594997, c2=3.526051956546178e-05)>,\n",
       "  <Polynomial1D(2, c0=562.3875717042116, c1=-0.07420904096274263, c2=3.529876344259582e-05)>,\n",
       "  <Polynomial1D(2, c0=571.4551855413721, c1=-0.07410584216097676, c2=3.5320625231373836e-05)>,\n",
       "  <Polynomial1D(2, c0=580.5393522598098, c1=-0.07393877175026951, c2=3.531420425159016e-05)>,\n",
       "  <Polynomial1D(2, c0=589.6816452203481, c1=-0.07381830486250555, c2=3.5333796586942705e-05)>,\n",
       "  <Polynomial1D(2, c0=598.8813990586136, c1=-0.07371117292011838, c2=3.535920151972299e-05)>,\n",
       "  <Polynomial1D(2, c0=608.1271316060033, c1=-0.07359848004648309, c2=3.5383968445447096e-05)>,\n",
       "  <Polynomial1D(2, c0=617.4167943375002, c1=-0.07346438725110763, c2=3.540488105655134e-05)>,\n",
       "  <Polynomial1D(2, c0=626.7507750859371, c1=-0.07330116389980462, c2=3.541135256387729e-05)>,\n",
       "  <Polynomial1D(2, c0=636.144629702261, c1=-0.07314978449145239, c2=3.5426340497946146e-05)>,\n",
       "  <Polynomial1D(2, c0=645.6189396094368, c1=-0.07303714250922665, c2=3.546150120310638e-05)>,\n",
       "  <Polynomial1D(2, c0=655.1471411354895, c1=-0.07289074965922121, c2=3.547976754128818e-05)>,\n",
       "  <Polynomial1D(2, c0=664.7326228131823, c1=-0.07271984000577153, c2=3.549025313462883e-05)>,\n",
       "  <Polynomial1D(2, c0=674.3853287278503, c1=-0.07255754670921555, c2=3.550709819630353e-05)>,\n",
       "  <Polynomial1D(2, c0=684.124450106463, c1=-0.07245716315656785, c2=3.556420417121181e-05)>,\n",
       "  <Polynomial1D(2, c0=693.906235323007, c1=-0.07224430793052845, c2=3.555557096787236e-05)>,\n",
       "  <Polynomial1D(2, c0=703.7811126778815, c1=-0.07207817142292629, c2=3.557692751560705e-05)>,\n",
       "  <Polynomial1D(2, c0=713.72629464106, c1=-0.07190731759311117, c2=3.5597339961279666e-05)>,\n",
       "  <Polynomial1D(2, c0=723.757025730696, c1=-0.0717568485584702, c2=3.563197401955171e-05)>,\n",
       "  <Polynomial1D(2, c0=733.8514669844832, c1=-0.07155939146678424, c2=3.564215394863856e-05)>,\n",
       "  <Polynomial1D(2, c0=744.022934434815, c1=-0.07135039193348336, c2=3.565720098702036e-05)>,\n",
       "  <Polynomial1D(2, c0=754.3016487102301, c1=-0.07116129032713746, c2=3.567189101277385e-05)>,\n",
       "  <Polynomial1D(2, c0=764.6521175897916, c1=-0.0709602333254747, c2=3.568841149962205e-05)>,\n",
       "  <Polynomial1D(2, c0=775.1160231747612, c1=-0.07083384098213247, c2=3.574277014938387e-05)>,\n",
       "  <Polynomial1D(2, c0=785.6163109943229, c1=-0.07057950320747158, c2=3.573438100291441e-05)>,\n",
       "  <Polynomial1D(2, c0=796.2198282744952, c1=-0.07037817193766772, c2=3.575684522459657e-05)>,\n",
       "  <Polynomial1D(2, c0=806.9183774918347, c1=-0.07018741711541415, c2=3.578679188167861e-05)>,\n",
       "  <Polynomial1D(2, c0=817.6725899193835, c1=-0.06991140329330237, c2=3.5781326740394576e-05)>,\n",
       "  <Polynomial1D(2, c0=828.5814897087864, c1=-0.0697563848606338, c2=3.58385445035902e-05)>,\n",
       "  <Polynomial1D(2, c0=839.5429862855206, c1=-0.06949719725748651, c2=3.584339421135859e-05)>,\n",
       "  <Polynomial1D(2, c0=850.6126514673372, c1=-0.06926953129829089, c2=3.587357740003203e-05)>,\n",
       "  <Polynomial1D(2, c0=861.7923318859131, c1=-0.06900248772962092, c2=3.5869366074848655e-05)>,\n",
       "  <Polynomial1D(2, c0=873.05370101265, c1=-0.06871784595173745, c2=3.586625356175501e-05)>,\n",
       "  <Polynomial1D(2, c0=884.413361192259, c1=-0.06842888215744908, c2=3.586199927225486e-05)>,\n",
       "  <Polynomial1D(2, c0=895.8763462737459, c1=-0.0681753517834517, c2=3.588578345987946e-05)>,\n",
       "  <Polynomial1D(2, c0=907.4599090114533, c1=-0.06792790433067648, c2=3.589803250083081e-05)>,\n",
       "  <Polynomial1D(2, c0=919.1824925438812, c1=-0.06777174527948066, c2=3.5963387873360865e-05)>,\n",
       "  <Polynomial1D(2, c0=930.9498764339443, c1=-0.06749356218698556, c2=3.597359477449669e-05)>,\n",
       "  <Polynomial1D(2, c0=942.8574826953567, c1=-0.06727923839741429, c2=3.601569759046729e-05)>,\n",
       "  <Polynomial1D(2, c0=954.7822718620041, c1=-0.06687068310626511, c2=3.597297689294572e-05)>,\n",
       "  <Polynomial1D(2, c0=966.8823613747218, c1=-0.06662084675735581, c2=3.600272998493585e-05)>,\n",
       "  <Polynomial1D(2, c0=979.0870300315229, c1=-0.06633692103762029, c2=3.601907883103994e-05)>,\n",
       "  <Polynomial1D(2, c0=991.43435145256, c1=-0.06613169959074006, c2=3.607011016014401e-05)>,\n",
       "  <Polynomial1D(2, c0=1003.8321111514351, c1=-0.06580146312895838, c2=3.607253673913715e-05)>,\n",
       "  <Polynomial1D(2, c0=1016.4217017642577, c1=-0.0655981003261366, c2=3.6119159844161e-05)>,\n",
       "  <Polynomial1D(2, c0=1029.167809532564, c1=-0.06550356515744797, c2=3.622710520197547e-05)>,\n",
       "  <Polynomial1D(2, c0=1041.8956508938688, c1=-0.06511321021603099, c2=3.61972402519178e-05)>,\n",
       "  <Polynomial1D(2, c0=1054.7750848159308, c1=-0.06485757082397497, c2=3.62542750040468e-05)>,\n",
       "  <Polynomial1D(2, c0=1067.8212686216702, c1=-0.064651402811243, c2=3.631334677950857e-05)>,\n",
       "  <Polynomial1D(2, c0=1080.9026107447262, c1=-0.06429029679397658, c2=3.632150031498056e-05)>,\n",
       "  <Polynomial1D(2, c0=1094.209419851041, c1=-0.06409406127314912, c2=3.637852499030208e-05)>,\n",
       "  <Polynomial1D(2, c0=1107.5039070756438, c1=-0.06367362249356352, c2=3.63598773866178e-05)>,\n",
       "  <Polynomial1D(2, c0=1121.01717799996, c1=-0.0634677179443659, c2=3.64457749955372e-05)>,\n",
       "  <Polynomial1D(2, c0=1134.7035571697515, c1=-0.06329128370354282, c2=3.652017748995542e-05)>,\n",
       "  <Polynomial1D(2, c0=1148.3190068752838, c1=-0.06284531970310525, c2=3.6520375977733155e-05)>,\n",
       "  <Polynomial1D(2, c0=1162.1853640989564, c1=-0.062484134265371784, c2=3.651087190674008e-05)>,\n",
       "  <Polynomial1D(2, c0=1176.2031815357873, c1=-0.06225281956504241, c2=3.658486721024692e-05)>,\n",
       "  <Polynomial1D(2, c0=1190.3966935073656, c1=-0.06212815892909146, c2=3.6705833082355225e-05)>,\n",
       "  <Polynomial1D(2, c0=1204.4707889024578, c1=-0.06144949316657847, c2=3.6576048402020466e-05)>,\n",
       "  <Polynomial1D(2, c0=1218.9595097020845, c1=-0.061357542259568354, c2=3.6703686307223716e-05)>,\n",
       "  <Polynomial1D(2, c0=1233.467038227931, c1=-0.061120446503222986, c2=3.6802584841616736e-05)>,\n",
       "  <Polynomial1D(2, c0=1248.0122314561613, c1=-0.06067517530676792, c2=3.681366877644772e-05)>,\n",
       "  <Polynomial1D(2, c0=1262.7653509229172, c1=-0.06029733933925628, c2=3.681958209322106e-05)>,\n",
       "  <Polynomial1D(2, c0=1277.6373518444607, c1=-0.05989554759678698, c2=3.681998835513984e-05)>,\n",
       "  <Polynomial1D(2, c0=1292.6882879327977, c1=-0.05965185441471695, c2=3.693199628311268e-05)>,\n",
       "  <Polynomial1D(2, c0=1307.8715192175146, c1=-0.05933787427289471, c2=3.697795794816615e-05)>,\n",
       "  <Polynomial1D(2, c0=1323.0718628604684, c1=-0.0587962700084772, c2=3.693309534594352e-05)>,\n",
       "  <Polynomial1D(2, c0=1338.5711545138033, c1=-0.05854495635123408, c2=3.7026253664998634e-05)>,\n",
       "  <Polynomial1D(2, c0=1353.970292825352, c1=-0.057853129037526554, c2=3.691078316399582e-05)>,\n",
       "  <Polynomial1D(2, c0=1369.4763797081562, c1=-0.05704356314495182, c2=3.675622179751964e-05)>,\n",
       "  <Polynomial1D(2, c0=1385.5376799477929, c1=-0.05705332651793499, c2=3.6950391855809245e-05)>,\n",
       "  <Polynomial1D(2, c0=1401.139237732965, c1=-0.05595286523611254, c2=3.669085984223149e-05)>,\n",
       "  <Polynomial1D(2, c0=1417.3703037232804, c1=-0.055806671975594885, c2=3.685841206829618e-05)>,\n",
       "  <Polynomial1D(2, c0=1433.7923919954274, c1=-0.05568204074728859, c2=3.703764668585127e-05)>,\n",
       "  <Polynomial1D(2, c0=1450.1340527635484, c1=-0.05514880251377176, c2=3.702512532139094e-05)>,\n",
       "  <Polynomial1D(2, c0=1466.78651609378, c1=-0.05479081435389191, c2=3.7050729634627584e-05)>,\n",
       "  <Polynomial1D(2, c0=1483.6082678495964, c1=-0.0545981111589465, c2=3.7189773379167625e-05)>,\n",
       "  <Polynomial1D(2, c0=1500.0056525827276, c1=-0.053152781846075976, c2=3.67281820812941e-05)>,\n",
       "  <Polynomial1D(2, c0=1517.359604719278, c1=-0.05351115186110632, c2=3.717309424759003e-05)>,\n",
       "  <Polynomial1D(2, c0=1534.3406796525019, c1=-0.05284498239461519, c2=3.716266579230421e-05)>,\n",
       "  <Polynomial1D(2, c0=1552.2099492514603, c1=-0.05346767907716318, c2=3.770726125956053e-05)>,\n",
       "  <Polynomial1D(2, c0=1568.885651191879, c1=-0.05137079566877764, c2=3.694810056140063e-05)>,\n",
       "  <Polynomial1D(2, c0=1586.1864125390648, c1=-0.050238861593959364, c2=3.663625034186933e-05)>],\n",
       " 'sigmodel': None}"
      ]
     },
     "execution_count": 11,
     "metadata": {},
     "output_type": "execute_result"
    }
   ],
   "source": [
    "traces=spectra.Trace('ARCES/ARCES_traces.fits')\n",
    "vars(traces)"
   ]
  },
  {
   "cell_type": "markdown",
   "metadata": {},
   "source": [
    "We can retrace a current frame using the initial guess. This is done by cross correlating a cross-section across traces with the reference frame, and using the shifted locations as a starting guess for the traces.\n",
    "<p>\n",
    "With the display= keyword, we will see the traces that it determined. Points are the centroids, and the line is the polynomial fit that defines the trace.\n",
    "<p>\n",
    "If you wanted to use a set of existing traces, but allow for a shift, the find() method will determine the shift, but not retrace."
   ]
  },
  {
   "cell_type": "code",
   "execution_count": 12,
   "metadata": {},
   "outputs": [
    {
     "name": "stdout",
     "output_type": "stream",
     "text": [
      "  Derived pixel shift from input trace:  0.0450065159434\n",
      "Using shift:  0.0450065159434\n",
      "Using shift:  0.0450065159434\n",
      "Using shift:  0.0450065159434\n",
      "Using shift:  0.0450065159434\n",
      "Using shift:  0.0450065159434\n",
      "Using shift:  0.0450065159434\n",
      "Using shift:  0.0450065159434\n",
      "Using shift:  0.0450065159434\n",
      "Using shift:  0.0450065159434\n",
      "Using shift:  0.0450065159434\n",
      "Using shift:  0.0450065159434\n",
      "Using shift:  0.0450065159434\n",
      "Using shift:  0.0450065159434\n",
      "Using shift:  0.0450065159434\n",
      "Using shift:  0.0450065159434\n",
      "Using shift:  0.0450065159434\n",
      "Using shift:  0.0450065159434\n",
      "Using shift:  0.0450065159434\n",
      "Using shift:  0.0450065159434\n",
      "Using shift:  0.0450065159434\n",
      "Using shift:  0.0450065159434\n",
      "Using shift:  0.0450065159434\n",
      "Using shift:  0.0450065159434\n",
      "Using shift:  0.0450065159434\n",
      "Using shift:  0.0450065159434\n",
      "Using shift:  0.0450065159434\n",
      "Using shift:  0.0450065159434\n",
      "Using shift:  0.0450065159434\n",
      "Using shift:  0.0450065159434\n",
      "Using shift:  0.0450065159434\n",
      "Using shift:  0.0450065159434\n",
      "Using shift:  0.0450065159434\n",
      "Using shift:  0.0450065159434\n",
      "Using shift:  0.0450065159434\n",
      "Using shift:  0.0450065159434\n",
      "Using shift:  0.0450065159434\n",
      "Using shift:  0.0450065159434\n",
      "Using shift:  0.0450065159434\n",
      "Using shift:  0.0450065159434\n",
      "Using shift:  0.0450065159434\n",
      "Using shift:  0.0450065159434\n",
      "Using shift:  0.0450065159434\n",
      "Using shift:  0.0450065159434\n",
      "Using shift:  0.0450065159434\n",
      "Using shift:  0.0450065159434\n",
      "Using shift:  0.0450065159434\n",
      "Using shift:  0.0450065159434\n",
      "Using shift:  0.0450065159434\n",
      "Using shift:  0.0450065159434\n",
      "Using shift:  0.0450065159434\n",
      "Using shift:  0.0450065159434\n",
      "Using shift:  0.0450065159434\n",
      "Using shift:  0.0450065159434\n",
      "Using shift:  0.0450065159434\n",
      "Using shift:  0.0450065159434\n",
      "Using shift:  0.0450065159434\n",
      "Using shift:  0.0450065159434\n",
      "Using shift:  0.0450065159434\n",
      "Using shift:  0.0450065159434\n",
      "Using shift:  0.0450065159434\n",
      "Using shift:  0.0450065159434\n",
      "Using shift:  0.0450065159434\n",
      "Using shift:  0.0450065159434\n",
      "Using shift:  0.0450065159434\n",
      "Using shift:  0.0450065159434\n",
      "Using shift:  0.0450065159434\n",
      "Using shift:  0.0450065159434\n",
      "Using shift:  0.0450065159434\n",
      "Using shift:  0.0450065159434\n",
      "Using shift:  0.0450065159434\n",
      "Using shift:  0.0450065159434\n",
      "Using shift:  0.0450065159434\n",
      "Using shift:  0.0450065159434\n",
      "Using shift:  0.0450065159434\n",
      "Using shift:  0.0450065159434\n",
      "Using shift:  0.0450065159434\n",
      "Using shift:  0.0450065159434\n",
      "Using shift:  0.0450065159434\n",
      "Using shift:  0.0450065159434\n",
      "Using shift:  0.0450065159434\n",
      "Using shift:  0.0450065159434\n",
      "Using shift:  0.0450065159434\n",
      "Using shift:  0.0450065159434\n",
      "Using shift:  0.0450065159434\n",
      "Using shift:  0.0450065159434\n",
      "Using shift:  0.0450065159434\n",
      "Using shift:  0.0450065159434\n",
      "Using shift:  0.0450065159434\n",
      "Using shift:  0.0450065159434\n",
      "Using shift:  0.0450065159434\n",
      "Using shift:  0.0450065159434\n",
      "Using shift:  0.0450065159434\n",
      "Using shift:  0.0450065159434\n",
      "Using shift:  0.0450065159434\n",
      "Using shift:  0.0450065159434\n",
      "Using shift:  0.0450065159434\n",
      "Using shift:  0.0450065159434\n",
      "Using shift:  0.0450065159434\n",
      "Using shift:  0.0450065159434\n",
      "Using shift:  0.0450065159434\n",
      "Using shift:  0.0450065159434\n",
      "Using shift:  0.0450065159434\n",
      "Using shift:  0.0450065159434\n",
      "Using shift:  0.0450065159434\n",
      "Using shift:  0.0450065159434\n",
      "Using shift:  0.0450065159434\n",
      "Using shift:  0.0450065159434\n"
     ]
    },
    {
     "ename": "AttributeError",
     "evalue": "'Trace' object has no attribute 'sigdegree'",
     "output_type": "error",
     "traceback": [
      "\u001b[0;31m---------------------------------------------------------------------------\u001b[0m",
      "\u001b[0;31mAttributeError\u001b[0m                            Traceback (most recent call last)",
      "Input \u001b[0;32mIn [12]\u001b[0m, in \u001b[0;36m<module>\u001b[0;34m\u001b[0m\n\u001b[0;32m----> 1\u001b[0m \u001b[43mtraces\u001b[49m\u001b[38;5;241;43m.\u001b[39;49m\u001b[43mretrace\u001b[49m\u001b[43m(\u001b[49m\u001b[43mflat\u001b[49m\u001b[43m,\u001b[49m\u001b[43mdisplay\u001b[49m\u001b[38;5;241;43m=\u001b[39;49m\u001b[43mt\u001b[49m\u001b[43m)\u001b[49m\n",
      "File \u001b[0;32m/home/holtz/git/pyvista/python/pyvista/spectra.py:1144\u001b[0m, in \u001b[0;36mTrace.retrace\u001b[0;34m(self, hd, plot, display, thresh, gaussian, skip)\u001b[0m\n\u001b[1;32m   1142\u001b[0m     \u001b[38;5;28mprint\u001b[39m(\u001b[38;5;124m\"\u001b[39m\u001b[38;5;124mUsing shift: \u001b[39m\u001b[38;5;124m\"\u001b[39m,\u001b[38;5;28mself\u001b[39m\u001b[38;5;241m.\u001b[39mpix0)\n\u001b[1;32m   1143\u001b[0m     srows\u001b[38;5;241m.\u001b[39mappend(\u001b[38;5;28mself\u001b[39m\u001b[38;5;241m.\u001b[39mmodel[row](\u001b[38;5;28mself\u001b[39m\u001b[38;5;241m.\u001b[39msc0)\u001b[38;5;241m+\u001b[39m\u001b[38;5;28mself\u001b[39m\u001b[38;5;241m.\u001b[39mpix0)\n\u001b[0;32m-> 1144\u001b[0m \u001b[38;5;28;43mself\u001b[39;49m\u001b[38;5;241;43m.\u001b[39;49m\u001b[43mtrace\u001b[49m\u001b[43m(\u001b[49m\u001b[43mhd\u001b[49m\u001b[43m,\u001b[49m\u001b[43msrows\u001b[49m\u001b[43m,\u001b[49m\u001b[43mplot\u001b[49m\u001b[38;5;241;43m=\u001b[39;49m\u001b[43mplot\u001b[49m\u001b[43m,\u001b[49m\u001b[43mthresh\u001b[49m\u001b[38;5;241;43m=\u001b[39;49m\u001b[43mthresh\u001b[49m\u001b[43m,\u001b[49m\u001b[43mgaussian\u001b[49m\u001b[38;5;241;43m=\u001b[39;49m\u001b[43mgaussian\u001b[49m\u001b[43m,\u001b[49m\u001b[43mskip\u001b[49m\u001b[38;5;241;43m=\u001b[39;49m\u001b[38;5;241;43m10\u001b[39;49m\u001b[43m)\u001b[49m\n",
      "File \u001b[0;32m/home/holtz/git/pyvista/python/pyvista/spectra.py:975\u001b[0m, in \u001b[0;36mTrace.trace\u001b[0;34m(self, im, srows, sc0, plot, display, rad, thresh, index, skip, gaussian)\u001b[0m\n\u001b[1;32m    973\u001b[0m \u001b[38;5;28;01mif\u001b[39;00m \u001b[38;5;28mself\u001b[39m\u001b[38;5;241m.\u001b[39mtype \u001b[38;5;241m==\u001b[39m \u001b[38;5;124m'\u001b[39m\u001b[38;5;124mPolynomial1D\u001b[39m\u001b[38;5;124m'\u001b[39m :\n\u001b[1;32m    974\u001b[0m     mod\u001b[38;5;241m=\u001b[39mmodels\u001b[38;5;241m.\u001b[39mPolynomial1D(degree\u001b[38;5;241m=\u001b[39m\u001b[38;5;28mself\u001b[39m\u001b[38;5;241m.\u001b[39mdegree)\n\u001b[0;32m--> 975\u001b[0m     sigmod\u001b[38;5;241m=\u001b[39mmodels\u001b[38;5;241m.\u001b[39mPolynomial1D(degree\u001b[38;5;241m=\u001b[39m\u001b[38;5;28;43mself\u001b[39;49m\u001b[38;5;241;43m.\u001b[39;49m\u001b[43msigdegree\u001b[49m)\n\u001b[1;32m    976\u001b[0m \u001b[38;5;28;01melse\u001b[39;00m :\n\u001b[1;32m    977\u001b[0m     \u001b[38;5;28;01mraise\u001b[39;00m \u001b[38;5;167;01mValueError\u001b[39;00m(\u001b[38;5;124m'\u001b[39m\u001b[38;5;124munknown fitting type: \u001b[39m\u001b[38;5;124m'\u001b[39m\u001b[38;5;241m+\u001b[39m\u001b[38;5;28mself\u001b[39m\u001b[38;5;241m.\u001b[39mtype)\n",
      "\u001b[0;31mAttributeError\u001b[0m: 'Trace' object has no attribute 'sigdegree'"
     ]
    }
   ],
   "source": [
    "traces.retrace(flat,display=t)"
   ]
  },
  {
   "cell_type": "code",
   "execution_count": 13,
   "metadata": {},
   "outputs": [
    {
     "data": {
      "text/plain": [
       "{'type': 'Polynomial1D',\n",
       " 'degree': 2,\n",
       " 'sc0': 1064,\n",
       " 'pix0': 0.045006515943429193,\n",
       " 'spectrum': array([  7.71968625e-04,   7.23036355e-04,   8.62288638e-04, ...,\n",
       "          7.60172697e-05,   3.69138026e-04,   1.36280447e-04], dtype=float32),\n",
       " 'rad': 5,\n",
       " 'lags': array([-10,  -9,  -8,  -7,  -6,  -5,  -4,  -3,  -2,  -1,   0,   1,   2,\n",
       "          3,   4,   5,   6,   7,   8,   9]),\n",
       " 'transpose': False,\n",
       " 'rows': None,\n",
       " 'index': array([  0,   1,   2,   3,   4,   5,   6,   7,   8,   9,  10,  11,  12,\n",
       "         13,  14,  15,  16,  17,  18,  19,  20,  21,  22,  23,  24,  25,\n",
       "         26,  27,  28,  29,  30,  31,  32,  33,  34,  35,  36,  37,  38,\n",
       "         39,  40,  41,  42,  43,  44,  45,  46,  47,  48,  49,  50,  51,\n",
       "         52,  53,  54,  55,  56,  57,  58,  59,  60,  61,  62,  63,  64,\n",
       "         65,  66,  67,  68,  69,  70,  71,  72,  73,  74,  75,  76,  77,\n",
       "         78,  79,  80,  81,  82,  83,  84,  85,  86,  87,  88,  89,  90,\n",
       "         91,  92,  93,  94,  95,  96,  97,  98,  99, 100, 101, 102, 103,\n",
       "        104, 105, 106]),\n",
       " 'model': [<Polynomial1D(2, c0=331.66689053267896, c1=-0.07513039362999681, c2=3.48796893301522e-05)>,\n",
       "  <Polynomial1D(2, c0=341.9199784208266, c1=-0.07511607373150185, c2=3.48677094473913e-05)>,\n",
       "  <Polynomial1D(2, c0=352.0276855740665, c1=-0.07517622752757491, c2=3.487974365617365e-05)>,\n",
       "  <Polynomial1D(2, c0=361.99499854932577, c1=-0.07533555648565585, c2=3.495530690855771e-05)>,\n",
       "  <Polynomial1D(2, c0=371.73289966295897, c1=-0.07530603431045428, c2=3.494595422221042e-05)>,\n",
       "  <Polynomial1D(2, c0=381.33371005444303, c1=-0.07527296432355189, c2=3.494091298362189e-05)>,\n",
       "  <Polynomial1D(2, c0=390.8230877393702, c1=-0.07526792169617134, c2=3.495711054914068e-05)>,\n",
       "  <Polynomial1D(2, c0=400.1998253524528, c1=-0.07523105818673823, c2=3.495224486522976e-05)>,\n",
       "  <Polynomial1D(2, c0=409.49232201091945, c1=-0.07522065218614024, c2=3.4972702092402096e-05)>,\n",
       "  <Polynomial1D(2, c0=418.71748000274323, c1=-0.0752211407828277, c2=3.4997521650327396e-05)>,\n",
       "  <Polynomial1D(2, c0=427.8726301926307, c1=-0.07521382545547847, c2=3.501994082509166e-05)>,\n",
       "  <Polynomial1D(2, c0=436.9745386780377, c1=-0.07520696298652815, c2=3.5042611933161276e-05)>,\n",
       "  <Polynomial1D(2, c0=446.0203009782646, c1=-0.07519470257881035, c2=3.507099388393407e-05)>,\n",
       "  <Polynomial1D(2, c0=454.9972636204865, c1=-0.07512692783743008, c2=3.508088879521775e-05)>,\n",
       "  <Polynomial1D(2, c0=463.95438590772744, c1=-0.07506993110787065, c2=3.5095176244703505e-05)>,\n",
       "  <Polynomial1D(2, c0=472.8898975615753, c1=-0.0750059041417708, c2=3.510894355534018e-05)>,\n",
       "  <Polynomial1D(2, c0=481.844651938239, c1=-0.07499998187131691, c2=3.514822533636384e-05)>,\n",
       "  <Polynomial1D(2, c0=490.72007159028686, c1=-0.07484629757028978, c2=3.512625704250559e-05)>,\n",
       "  <Polynomial1D(2, c0=499.63335234289275, c1=-0.07477625004818378, c2=3.5143863816097935e-05)>,\n",
       "  <Polynomial1D(2, c0=508.55556458592, c1=-0.07470983926683113, c2=3.516357374143316e-05)>,\n",
       "  <Polynomial1D(2, c0=517.4749422043835, c1=-0.07463768856933917, c2=3.518824564652035e-05)>,\n",
       "  <Polynomial1D(2, c0=526.421544152514, c1=-0.07458083469169878, c2=3.521765590515578e-05)>,\n",
       "  <Polynomial1D(2, c0=535.3763821875579, c1=-0.07448608640218558, c2=3.5232992657857664e-05)>,\n",
       "  <Polynomial1D(2, c0=544.329217471886, c1=-0.07435456350256406, c2=3.523743611985192e-05)>,\n",
       "  <Polynomial1D(2, c0=553.3404565087521, c1=-0.0742727037594997, c2=3.526051956546178e-05)>,\n",
       "  <Polynomial1D(2, c0=562.3875717042116, c1=-0.07420904096274263, c2=3.529876344259582e-05)>,\n",
       "  <Polynomial1D(2, c0=571.4551855413721, c1=-0.07410584216097676, c2=3.5320625231373836e-05)>,\n",
       "  <Polynomial1D(2, c0=580.5393522598098, c1=-0.07393877175026951, c2=3.531420425159016e-05)>,\n",
       "  <Polynomial1D(2, c0=589.6816452203481, c1=-0.07381830486250555, c2=3.5333796586942705e-05)>,\n",
       "  <Polynomial1D(2, c0=598.8813990586136, c1=-0.07371117292011838, c2=3.535920151972299e-05)>,\n",
       "  <Polynomial1D(2, c0=608.1271316060033, c1=-0.07359848004648309, c2=3.5383968445447096e-05)>,\n",
       "  <Polynomial1D(2, c0=617.4167943375002, c1=-0.07346438725110763, c2=3.540488105655134e-05)>,\n",
       "  <Polynomial1D(2, c0=626.7507750859371, c1=-0.07330116389980462, c2=3.541135256387729e-05)>,\n",
       "  <Polynomial1D(2, c0=636.144629702261, c1=-0.07314978449145239, c2=3.5426340497946146e-05)>,\n",
       "  <Polynomial1D(2, c0=645.6189396094368, c1=-0.07303714250922665, c2=3.546150120310638e-05)>,\n",
       "  <Polynomial1D(2, c0=655.1471411354895, c1=-0.07289074965922121, c2=3.547976754128818e-05)>,\n",
       "  <Polynomial1D(2, c0=664.7326228131823, c1=-0.07271984000577153, c2=3.549025313462883e-05)>,\n",
       "  <Polynomial1D(2, c0=674.3853287278503, c1=-0.07255754670921555, c2=3.550709819630353e-05)>,\n",
       "  <Polynomial1D(2, c0=684.124450106463, c1=-0.07245716315656785, c2=3.556420417121181e-05)>,\n",
       "  <Polynomial1D(2, c0=693.906235323007, c1=-0.07224430793052845, c2=3.555557096787236e-05)>,\n",
       "  <Polynomial1D(2, c0=703.7811126778815, c1=-0.07207817142292629, c2=3.557692751560705e-05)>,\n",
       "  <Polynomial1D(2, c0=713.72629464106, c1=-0.07190731759311117, c2=3.5597339961279666e-05)>,\n",
       "  <Polynomial1D(2, c0=723.757025730696, c1=-0.0717568485584702, c2=3.563197401955171e-05)>,\n",
       "  <Polynomial1D(2, c0=733.8514669844832, c1=-0.07155939146678424, c2=3.564215394863856e-05)>,\n",
       "  <Polynomial1D(2, c0=744.022934434815, c1=-0.07135039193348336, c2=3.565720098702036e-05)>,\n",
       "  <Polynomial1D(2, c0=754.3016487102301, c1=-0.07116129032713746, c2=3.567189101277385e-05)>,\n",
       "  <Polynomial1D(2, c0=764.6521175897916, c1=-0.0709602333254747, c2=3.568841149962205e-05)>,\n",
       "  <Polynomial1D(2, c0=775.1160231747612, c1=-0.07083384098213247, c2=3.574277014938387e-05)>,\n",
       "  <Polynomial1D(2, c0=785.6163109943229, c1=-0.07057950320747158, c2=3.573438100291441e-05)>,\n",
       "  <Polynomial1D(2, c0=796.2198282744952, c1=-0.07037817193766772, c2=3.575684522459657e-05)>,\n",
       "  <Polynomial1D(2, c0=806.9183774918347, c1=-0.07018741711541415, c2=3.578679188167861e-05)>,\n",
       "  <Polynomial1D(2, c0=817.6725899193835, c1=-0.06991140329330237, c2=3.5781326740394576e-05)>,\n",
       "  <Polynomial1D(2, c0=828.5814897087864, c1=-0.0697563848606338, c2=3.58385445035902e-05)>,\n",
       "  <Polynomial1D(2, c0=839.5429862855206, c1=-0.06949719725748651, c2=3.584339421135859e-05)>,\n",
       "  <Polynomial1D(2, c0=850.6126514673372, c1=-0.06926953129829089, c2=3.587357740003203e-05)>,\n",
       "  <Polynomial1D(2, c0=861.7923318859131, c1=-0.06900248772962092, c2=3.5869366074848655e-05)>,\n",
       "  <Polynomial1D(2, c0=873.05370101265, c1=-0.06871784595173745, c2=3.586625356175501e-05)>,\n",
       "  <Polynomial1D(2, c0=884.413361192259, c1=-0.06842888215744908, c2=3.586199927225486e-05)>,\n",
       "  <Polynomial1D(2, c0=895.8763462737459, c1=-0.0681753517834517, c2=3.588578345987946e-05)>,\n",
       "  <Polynomial1D(2, c0=907.4599090114533, c1=-0.06792790433067648, c2=3.589803250083081e-05)>,\n",
       "  <Polynomial1D(2, c0=919.1824925438812, c1=-0.06777174527948066, c2=3.5963387873360865e-05)>,\n",
       "  <Polynomial1D(2, c0=930.9498764339443, c1=-0.06749356218698556, c2=3.597359477449669e-05)>,\n",
       "  <Polynomial1D(2, c0=942.8574826953567, c1=-0.06727923839741429, c2=3.601569759046729e-05)>,\n",
       "  <Polynomial1D(2, c0=954.7822718620041, c1=-0.06687068310626511, c2=3.597297689294572e-05)>,\n",
       "  <Polynomial1D(2, c0=966.8823613747218, c1=-0.06662084675735581, c2=3.600272998493585e-05)>,\n",
       "  <Polynomial1D(2, c0=979.0870300315229, c1=-0.06633692103762029, c2=3.601907883103994e-05)>,\n",
       "  <Polynomial1D(2, c0=991.43435145256, c1=-0.06613169959074006, c2=3.607011016014401e-05)>,\n",
       "  <Polynomial1D(2, c0=1003.8321111514351, c1=-0.06580146312895838, c2=3.607253673913715e-05)>,\n",
       "  <Polynomial1D(2, c0=1016.4217017642577, c1=-0.0655981003261366, c2=3.6119159844161e-05)>,\n",
       "  <Polynomial1D(2, c0=1029.167809532564, c1=-0.06550356515744797, c2=3.622710520197547e-05)>,\n",
       "  <Polynomial1D(2, c0=1041.8956508938688, c1=-0.06511321021603099, c2=3.61972402519178e-05)>,\n",
       "  <Polynomial1D(2, c0=1054.7750848159308, c1=-0.06485757082397497, c2=3.62542750040468e-05)>,\n",
       "  <Polynomial1D(2, c0=1067.8212686216702, c1=-0.064651402811243, c2=3.631334677950857e-05)>,\n",
       "  <Polynomial1D(2, c0=1080.9026107447262, c1=-0.06429029679397658, c2=3.632150031498056e-05)>,\n",
       "  <Polynomial1D(2, c0=1094.209419851041, c1=-0.06409406127314912, c2=3.637852499030208e-05)>,\n",
       "  <Polynomial1D(2, c0=1107.5039070756438, c1=-0.06367362249356352, c2=3.63598773866178e-05)>,\n",
       "  <Polynomial1D(2, c0=1121.01717799996, c1=-0.0634677179443659, c2=3.64457749955372e-05)>,\n",
       "  <Polynomial1D(2, c0=1134.7035571697515, c1=-0.06329128370354282, c2=3.652017748995542e-05)>,\n",
       "  <Polynomial1D(2, c0=1148.3190068752838, c1=-0.06284531970310525, c2=3.6520375977733155e-05)>,\n",
       "  <Polynomial1D(2, c0=1162.1853640989564, c1=-0.062484134265371784, c2=3.651087190674008e-05)>,\n",
       "  <Polynomial1D(2, c0=1176.2031815357873, c1=-0.06225281956504241, c2=3.658486721024692e-05)>,\n",
       "  <Polynomial1D(2, c0=1190.3966935073656, c1=-0.06212815892909146, c2=3.6705833082355225e-05)>,\n",
       "  <Polynomial1D(2, c0=1204.4707889024578, c1=-0.06144949316657847, c2=3.6576048402020466e-05)>,\n",
       "  <Polynomial1D(2, c0=1218.9595097020845, c1=-0.061357542259568354, c2=3.6703686307223716e-05)>,\n",
       "  <Polynomial1D(2, c0=1233.467038227931, c1=-0.061120446503222986, c2=3.6802584841616736e-05)>,\n",
       "  <Polynomial1D(2, c0=1248.0122314561613, c1=-0.06067517530676792, c2=3.681366877644772e-05)>,\n",
       "  <Polynomial1D(2, c0=1262.7653509229172, c1=-0.06029733933925628, c2=3.681958209322106e-05)>,\n",
       "  <Polynomial1D(2, c0=1277.6373518444607, c1=-0.05989554759678698, c2=3.681998835513984e-05)>,\n",
       "  <Polynomial1D(2, c0=1292.6882879327977, c1=-0.05965185441471695, c2=3.693199628311268e-05)>,\n",
       "  <Polynomial1D(2, c0=1307.8715192175146, c1=-0.05933787427289471, c2=3.697795794816615e-05)>,\n",
       "  <Polynomial1D(2, c0=1323.0718628604684, c1=-0.0587962700084772, c2=3.693309534594352e-05)>,\n",
       "  <Polynomial1D(2, c0=1338.5711545138033, c1=-0.05854495635123408, c2=3.7026253664998634e-05)>,\n",
       "  <Polynomial1D(2, c0=1353.970292825352, c1=-0.057853129037526554, c2=3.691078316399582e-05)>,\n",
       "  <Polynomial1D(2, c0=1369.4763797081562, c1=-0.05704356314495182, c2=3.675622179751964e-05)>,\n",
       "  <Polynomial1D(2, c0=1385.5376799477929, c1=-0.05705332651793499, c2=3.6950391855809245e-05)>,\n",
       "  <Polynomial1D(2, c0=1401.139237732965, c1=-0.05595286523611254, c2=3.669085984223149e-05)>,\n",
       "  <Polynomial1D(2, c0=1417.3703037232804, c1=-0.055806671975594885, c2=3.685841206829618e-05)>,\n",
       "  <Polynomial1D(2, c0=1433.7923919954274, c1=-0.05568204074728859, c2=3.703764668585127e-05)>,\n",
       "  <Polynomial1D(2, c0=1450.1340527635484, c1=-0.05514880251377176, c2=3.702512532139094e-05)>,\n",
       "  <Polynomial1D(2, c0=1466.78651609378, c1=-0.05479081435389191, c2=3.7050729634627584e-05)>,\n",
       "  <Polynomial1D(2, c0=1483.6082678495964, c1=-0.0545981111589465, c2=3.7189773379167625e-05)>,\n",
       "  <Polynomial1D(2, c0=1500.0056525827276, c1=-0.053152781846075976, c2=3.67281820812941e-05)>,\n",
       "  <Polynomial1D(2, c0=1517.359604719278, c1=-0.05351115186110632, c2=3.717309424759003e-05)>,\n",
       "  <Polynomial1D(2, c0=1534.3406796525019, c1=-0.05284498239461519, c2=3.716266579230421e-05)>,\n",
       "  <Polynomial1D(2, c0=1552.2099492514603, c1=-0.05346767907716318, c2=3.770726125956053e-05)>,\n",
       "  <Polynomial1D(2, c0=1568.885651191879, c1=-0.05137079566877764, c2=3.694810056140063e-05)>,\n",
       "  <Polynomial1D(2, c0=1586.1864125390648, c1=-0.050238861593959364, c2=3.663625034186933e-05)>],\n",
       " 'sigmodel': None}"
      ]
     },
     "execution_count": 13,
     "metadata": {},
     "output_type": "execute_result"
    }
   ],
   "source": [
    "vars(traces)"
   ]
  },
  {
   "cell_type": "markdown",
   "metadata": {},
   "source": [
    "Sum up the arc lamp exposures, get the shift for the existing traces (but don't retrace, since we don't have a continuum), and extract. Note that if you have a multiprocessor machine, you can specify number of threads to use for the extraction, which will speed things up (but the default threads=0 isn't too terrible).\n",
    "<p>\n",
    "With the display= keyword, you will see the cross-correlation for find(), and will see the extraction windows for extract(); green lines show the traces, and blue and purple outline the extent of the extraction windows."
   ]
  },
  {
   "cell_type": "code",
   "execution_count": 14,
   "metadata": {},
   "outputs": [
    {
     "name": "stdout",
     "output_type": "stream",
     "text": [
      "  Reading file: /home/holtz/red/UT211031/echelle/ThAr.0001.fits\n",
      "  subtracting overscan:  1287.78\n",
      "INFO: array provided for uncertainty; assuming it is a StdDevUncertainty. [astropy.nddata.ccddata]\n",
      "  Iteration 0, zapping CRs with filter [5,1]...\n",
      "  Reading file: /home/holtz/red/UT211031/echelle/ThAr.0002.fits\n",
      "  subtracting overscan:  1287.78\n",
      "INFO: array provided for uncertainty; assuming it is a StdDevUncertainty. [astropy.nddata.ccddata]\n",
      "  Iteration 0, zapping CRs with filter [5,1]...\n",
      "  Reading file: /home/holtz/red/UT211031/echelle/ThAr.0003.fits\n",
      "  subtracting overscan:  1287.61\n",
      "INFO: array provided for uncertainty; assuming it is a StdDevUncertainty. [astropy.nddata.ccddata]\n",
      "  Iteration 0, zapping CRs with filter [5,1]...\n",
      "  Reading file: /home/holtz/red/UT211031/echelle/ThAr.0004.fits\n",
      "  subtracting overscan:  1287.77\n",
      "INFO: array provided for uncertainty; assuming it is a StdDevUncertainty. [astropy.nddata.ccddata]\n",
      "  Iteration 0, zapping CRs with filter [5,1]...\n",
      "  combining data with sum....\n",
      "  calculating uncertainty....\n",
      "  Derived pixel shift from input trace:  0.0850910669445\n",
      "  See spectra and cross-correlation.\n",
      "  Hit any key in display window to continue....\n",
      "  extracting ... (may take some time,\n",
      "                   consider threads= if multithreading is available\n",
      "  See extraction window(s). Hit space bar to continue....\n",
      "\n"
     ]
    }
   ],
   "source": [
    "arc=red.sum([1,2,3,4],crbox=[5,1])\n",
    "traces.find(arc,display=t)\n",
    "arcec=traces.extract(arc,display=t,threads=0)"
   ]
  },
  {
   "cell_type": "markdown",
   "metadata": {},
   "source": [
    "Do line identification based on previously identified lines, and wavelength fit. This is achieved by instantiated a WaveCal object using a previously determined object for ARCES. This saves positions and identifications of lines and, when instantiated, does an initial fit."
   ]
  },
  {
   "cell_type": "code",
   "execution_count": 15,
   "metadata": {},
   "outputs": [
    {
     "name": "stdout",
     "output_type": "stream",
     "text": [
      "  rms:    0.019\n",
      "rejecting 90 points from 3653 total: \n",
      "  rms:    0.019\n",
      "rejecting 90 points from 3653 total: \n"
     ]
    },
    {
     "data": {
      "text/plain": [
       "{'type': 'chebyshev2D',\n",
       " 'degree': 2,\n",
       " 'ydegree': 3,\n",
       " 'waves': array([ 10133.5662,   9833.4229,   9826.4492, ...,   3561.0304,\n",
       "          3559.5081,   3545.5957]),\n",
       " 'waves_order': array([ 56,  58,  58, ..., 160, 160, 160]),\n",
       " 'orders': array([ 54,  55,  56,  57,  58,  59,  60,  61,  62,  63,  64,  65,  66,\n",
       "         67,  68,  69,  70,  71,  72,  73,  74,  75,  76,  77,  78,  79,\n",
       "         80,  81,  82,  83,  84,  85,  86,  87,  88,  89,  90,  91,  92,\n",
       "         93,  94,  95,  96,  97,  98,  99, 100, 101, 102, 103, 104, 105,\n",
       "        106, 107, 108, 109, 110, 111, 112, 113, 114, 115, 116, 117, 118,\n",
       "        119, 120, 121, 122, 123, 124, 125, 126, 127, 128, 129, 130, 131,\n",
       "        132, 133, 134, 135, 136, 137, 138, 139, 140, 141, 142, 143, 144,\n",
       "        145, 146, 147, 148, 149, 150, 151, 152, 153, 154, 155, 156, 157,\n",
       "        158, 159, 160]),\n",
       " 'index': array([0]),\n",
       " 'pix0': -5.1791778332699323e-07,\n",
       " 'pix': array([  979.6753688 ,   582.69743052,   639.72191686, ...,   678.21538205,\n",
       "          712.43607968,  1020.27699022]),\n",
       " 'y': array([  2,   4,   4, ..., 106, 106, 106]),\n",
       " 'spectrum': array([[  7.67433752e-02,  -1.56835410e+02,  -2.17307801e+01, ...,\n",
       "           7.19219905e+00,   4.93813073e+00,   1.45846902e+01],\n",
       "        [ -6.05208907e+00,  -1.55730780e+02,  -2.15603934e+01, ...,\n",
       "           4.30798398e+00,   4.10498909e+00,   1.08136237e+00],\n",
       "        [  3.22044635e+00,  -1.54247836e+02,  -2.10626577e+01, ...,\n",
       "          -5.89324329e+00,   7.24865508e-01,   4.33194279e+00],\n",
       "        ..., \n",
       "        [ -1.67307801e+01,  -1.41730780e+02,  -1.41455677e+01, ...,\n",
       "           9.14177149e+00,  -4.09384957e+00,   1.32375109e+01],\n",
       "        [  8.06025439e+00,  -1.42838537e+02,  -2.27374747e+01, ...,\n",
       "           2.19383444e+00,  -7.38650808e+00,   1.15133101e+00],\n",
       "        [ -7.75846800e+00,  -1.56730780e+02,  -1.64644176e+01, ...,\n",
       "          -8.69543874e+00,   2.36432543e+00,  -3.93150144e+00]]),\n",
       " 'weights': array([ 1.,  1.,  1., ...,  1.,  1.,  1.]),\n",
       " 'model': <Chebyshev2D(2, 3, c0_0=566759.1170675902, c1_0=-7812.364347283803, c2_0=-154.06363453073914, c0_1=54.495671588241585, c1_1=8.46500149259407, c2_1=-2.441631899136481, c0_2=5.788417717550821, c1_2=0.9239378969770162, c2_2=-0.5616431197100671, c0_3=1.7109784912040762, c1_3=0.16448245224366057, c2_3=0.6335542416426342, x_domain=(0, 2128), y_domain=(0, 107))>,\n",
       " 'ax': None}"
      ]
     },
     "execution_count": 15,
     "metadata": {},
     "output_type": "execute_result"
    }
   ],
   "source": [
    "wav=spectra.WaveCal('ARCES/ARCES_wave.fits')\n",
    "vars(wav)"
   ]
  },
  {
   "cell_type": "markdown",
   "metadata": {},
   "source": [
    "The identify() method now uses the previous solution to identify lines on a new wavelength calibration image; this is done by first cross-correlting the image with an image saved in the WaveCal object. With plot=True, it will allow you to remove lines that are poorly fit."
   ]
  },
  {
   "cell_type": "code",
   "execution_count": 18,
   "metadata": {},
   "outputs": [
    {
     "name": "stdout",
     "output_type": "stream",
     "text": [
      "  cross correlating with reference spectrum using lags:  range(-300, 300)\n",
      "  Derived pixel shift from input wcal:  [ -4.96111738e-08]\n",
      "  See identified lines.\n",
      "  rms:    0.020\n",
      "rejecting 21 points from 2000 total: \n",
      "  rms:    0.011\n",
      "rejecting 21 points from 2000 total: \n",
      "  See 2D wavecal fit. Enter space in plot window to continue\n",
      "\n"
     ]
    }
   ],
   "source": [
    "wav.identify(spectrum=arcec,rad=3,display=t,plot=True)"
   ]
  },
  {
   "cell_type": "markdown",
   "metadata": {},
   "source": [
    "Now reduce an image"
   ]
  },
  {
   "cell_type": "code",
   "execution_count": 31,
   "metadata": {},
   "outputs": [
    {
     "name": "stdout",
     "output_type": "stream",
     "text": [
      "  Reading file: /home/holtz/red/UT211031/echelle/HIP_9598.0026.fits\n",
      "  subtracting overscan:  1290.08\n",
      "  estimating scattered light ...\n",
      "    fitting surface ...\n",
      "    rejecting points ...\n",
      "    refitting surface ...\n",
      "INFO: array provided for uncertainty; assuming it is a StdDevUncertainty. [astropy.nddata.ccddata]\n"
     ]
    }
   ],
   "source": [
    "im=red.reduce(26,scat=red.scat,display=None)"
   ]
  },
  {
   "cell_type": "code",
   "execution_count": 20,
   "metadata": {},
   "outputs": [],
   "source": [
    "t=tv.TV()\n",
    "t.tv(im)"
   ]
  },
  {
   "cell_type": "markdown",
   "metadata": {},
   "source": [
    "Get shift of traces, and extract. Alternatively, you could use a single call to retrace(), which will do the find() and then trace() using the shifted stored model as a starting guess."
   ]
  },
  {
   "cell_type": "code",
   "execution_count": 32,
   "metadata": {},
   "outputs": [
    {
     "name": "stdout",
     "output_type": "stream",
     "text": [
      "  Derived pixel shift from input trace:  0.540425615164\n",
      "  See spectra and cross-correlation.\n",
      "  Hit any key in display window to continue....\n",
      "  extracting ... (may take some time,\n",
      "                   consider threads= if multithreading is available\n",
      "  See extraction window(s). Hit space bar to continue....\n",
      "\n"
     ]
    }
   ],
   "source": [
    "traces.find(im,display=t)\n",
    "imec=traces.extract(im,display=t)"
   ]
  },
  {
   "cell_type": "code",
   "execution_count": 22,
   "metadata": {},
   "outputs": [],
   "source": [
    "t.clear()\n",
    "t.tv(im)\n",
    "t.tv(imec)"
   ]
  },
  {
   "cell_type": "markdown",
   "metadata": {},
   "source": [
    "Add the wavelengths for all pixels from the wavelength solution and plot extracted spectra."
   ]
  },
  {
   "cell_type": "code",
   "execution_count": 33,
   "metadata": {
    "scrolled": true
   },
   "outputs": [
    {
     "data": {
      "text/plain": [
       "(0.0, 67997.15664331148)"
      ]
     },
     "execution_count": 33,
     "metadata": {},
     "output_type": "execute_result"
    }
   ],
   "source": [
    "wav.add_wave(imec)\n",
    "plt.figure(figsize=(12,4))\n",
    "for row in range(len(imec.wave)) :\n",
    "    plt.plot(imec.wave[row],imec.data[row])\n",
    "from scipy.ndimage import median_filter\n",
    "plt.ylim(0,median_filter(imec.data,[1,25]).max()*1.5)"
   ]
  },
  {
   "cell_type": "markdown",
   "metadata": {},
   "source": [
    "Now create 1D flat field. 2D flat fielding would be better, but poses challenges with ARCES because the traces move, and there's no way to illuminate all pixels."
   ]
  },
  {
   "cell_type": "code",
   "execution_count": 37,
   "metadata": {
    "scrolled": false
   },
   "outputs": [
    {
     "name": "stdout",
     "output_type": "stream",
     "text": [
      "INFO: array provided for uncertainty; assuming it is a StdDevUncertainty. [astropy.nddata.ccddata]\n",
      "  Derived pixel shift from input trace:  0.0974959663237\n",
      "  extracting ... (may take some time,\n",
      "                   consider threads= if multithreading is available\n",
      "\n"
     ]
    }
   ],
   "source": [
    "flat=red.trim(flat,trimimage=True)\n",
    "traces.find(flat)\n",
    "flat1d=traces.extract(flat)\n",
    "t.tv(flat1d)"
   ]
  },
  {
   "cell_type": "code",
   "execution_count": null,
   "metadata": {},
   "outputs": [],
   "source": [
    "t.tv(imec)"
   ]
  },
  {
   "cell_type": "markdown",
   "metadata": {},
   "source": [
    "<h3> Combining orders </h3>\n",
    "\n",
    "Resample onto logarithmic wavelength grid and combine orders"
   ]
  },
  {
   "cell_type": "code",
   "execution_count": 38,
   "metadata": {},
   "outputs": [],
   "source": [
    "wnew=10**np.arange(3.5,4.0,5.5e-6)\n",
    "starcomb=wav.scomb(imec,wnew,average=False,usemask=True)\n",
    "flatcomb=wav.scomb(flat1d,wnew,average=False,usemask=True)"
   ]
  },
  {
   "cell_type": "markdown",
   "metadata": {},
   "source": [
    "First, we sum the orders of the object, sum the orders of the 1d flat, and divide the two. Compare this with just summing the orders without flat fielding."
   ]
  },
  {
   "cell_type": "code",
   "execution_count": 47,
   "metadata": {
    "scrolled": true
   },
   "outputs": [
    {
     "name": "stderr",
     "output_type": "stream",
     "text": [
      "/tmp/ipykernel_39139/2071204533.py:9: RuntimeWarning: invalid value encountered in true_divide\n",
      "  data=starcomb.data/flatcomb.data\n"
     ]
    },
    {
     "data": {
      "text/plain": [
       "(0.0, 1.5)"
      ]
     },
     "execution_count": 47,
     "metadata": {},
     "output_type": "execute_result"
    }
   ],
   "source": [
    "plt.figure(figsize=(12,4))\n",
    "data=starcomb.data\n",
    "plt.plot(wnew,data/np.nanmax(median_filter(data[20000:50000],[500])))\n",
    "#flatcomb.data /= median_filter(flatcomb.data,[5000])\n",
    "\n",
    "data=flatcomb.data\n",
    "plt.plot(wnew,data/np.nanmax(median_filter(data[20000:50000],[500])))\n",
    "\n",
    "data=starcomb.data/flatcomb.data\n",
    "plt.plot(wnew,data/np.nanmax(median_filter(data[20000:50000],[500])))\n",
    "\n",
    "plt.ylim(0,1.5)\n"
   ]
  },
  {
   "cell_type": "markdown",
   "metadata": {},
   "source": [
    "Here we flat field the individual orders, and combine them with a weighted mean."
   ]
  },
  {
   "cell_type": "code",
   "execution_count": 40,
   "metadata": {},
   "outputs": [],
   "source": [
    "import copy\n",
    "test=copy.deepcopy(imec)\n",
    "test.data /= flat1d.data\n",
    "test.uncertainty.array /= flat1d.data"
   ]
  },
  {
   "cell_type": "code",
   "execution_count": 45,
   "metadata": {
    "scrolled": true
   },
   "outputs": [
    {
     "name": "stderr",
     "output_type": "stream",
     "text": [
      "/home/holtz/git/pyvista/python/pyvista/spectra.py:749: RuntimeWarning: invalid value encountered in true_divide\n",
      "  out = out / sig\n",
      "/home/holtz/git/pyvista/python/pyvista/spectra.py:750: RuntimeWarning: divide by zero encountered in true_divide\n",
      "  sig = np.sqrt(1./sig)\n",
      "/tmp/ipykernel_39139/2501392411.py:7: RuntimeWarning: invalid value encountered in true_divide\n",
      "  data=starcomb.data/flatcomb.data\n"
     ]
    },
    {
     "data": {
      "text/plain": [
       "(0.0, 1.5)"
      ]
     },
     "execution_count": 45,
     "metadata": {},
     "output_type": "execute_result"
    }
   ],
   "source": [
    "starflatcomb=wav.scomb(test,wnew,average=True,usemask=True)\n",
    "\n",
    "# raw / flat averaged\n",
    "plt.figure(figsize=(12,4))\n",
    "data=starflatcomb.data\n",
    "plt.plot(wnew,data/(np.nanmax(median_filter(data[20000:50000],[500]))))\n",
    "data=starcomb.data/flatcomb.data\n",
    "plt.plot(wnew,data/np.nanmax(median_filter(data[20000:50000],[500])))\n",
    "plt.ylim(0,1.5)"
   ]
  },
  {
   "cell_type": "code",
   "execution_count": 44,
   "metadata": {},
   "outputs": [
    {
     "data": {
      "text/plain": [
       "[<matplotlib.lines.Line2D at 0x2ad82b5dceb0>]"
      ]
     },
     "execution_count": 44,
     "metadata": {},
     "output_type": "execute_result"
    }
   ],
   "source": [
    "plt.figure(figsize=(12,4))\n",
    "plt.plot(wnew,data/median_filter(data,[2000]))"
   ]
  },
  {
   "cell_type": "code",
   "execution_count": null,
   "metadata": {},
   "outputs": [],
   "source": []
  },
  {
   "cell_type": "markdown",
   "metadata": {},
   "source": [
    "<h3> Batch reduction"
   ]
  },
  {
   "cell_type": "code",
   "execution_count": null,
   "metadata": {},
   "outputs": [],
   "source": [
    "from pyvista import reduce\n",
    "fig=plt.figure()\n",
    "reduce.all('oct21.yml',groups='ARCES',display=None,plot=fig)"
   ]
  }
 ],
 "metadata": {
  "kernelspec": {
   "display_name": "Python 3 (ipykernel)",
   "language": "python",
   "name": "python3"
  },
  "language_info": {
   "codemirror_mode": {
    "name": "ipython",
    "version": 3
   },
   "file_extension": ".py",
   "mimetype": "text/x-python",
   "name": "python",
   "nbconvert_exporter": "python",
   "pygments_lexer": "ipython3",
   "version": "3.9.9"
  }
 },
 "nbformat": 4,
 "nbformat_minor": 4
}
